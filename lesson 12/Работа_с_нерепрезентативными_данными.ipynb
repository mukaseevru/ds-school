{
  "nbformat": 4,
  "nbformat_minor": 0,
  "metadata": {
    "colab": {
      "name": "Работа с нерепрезентативными данными.ipynb",
      "provenance": [],
      "collapsed_sections": [],
      "toc_visible": true
    },
    "kernelspec": {
      "name": "python3",
      "display_name": "Python 3"
    }
  },
  "cells": [
    {
      "cell_type": "markdown",
      "metadata": {
        "id": "VCr9v6ErR2FR"
      },
      "source": [
        "ссылка на ноутбук в колаб: https://colab.research.google.com/drive/14r-yLuuoMyWm2bPxCuxAC4xlP2JJmuxV?usp=sharing"
      ]
    },
    {
      "cell_type": "code",
      "metadata": {
        "id": "nA6QdWA-j4Bz"
      },
      "source": [
        "import numpy as np\n",
        "import pandas as pd\n",
        "import matplotlib.pyplot as plt"
      ],
      "execution_count": null,
      "outputs": []
    },
    {
      "cell_type": "markdown",
      "metadata": {
        "id": "ZpkDiPH9iRqU"
      },
      "source": [
        "# Работа с нерепрезентативными данными"
      ]
    },
    {
      "cell_type": "code",
      "metadata": {
        "id": "HTSMaQc-jzoi"
      },
      "source": [
        "df = pd.read_csv('https://raw.githubusercontent.com/tixonsit/mmdad_materials/master/datasets_14872_228180_Admission_Predict_Ver1.1.csv')\n",
        "del df['Serial No.']"
      ],
      "execution_count": null,
      "outputs": []
    },
    {
      "cell_type": "code",
      "metadata": {
        "id": "khS0uBR1j0fN",
        "colab": {
          "base_uri": "https://localhost:8080/",
          "height": 204
        },
        "outputId": "b63ce7ff-c32f-4458-bb10-1039cd492a3f"
      },
      "source": [
        "df.head()"
      ],
      "execution_count": null,
      "outputs": [
        {
          "output_type": "execute_result",
          "data": {
            "text/html": [
              "<div>\n",
              "<style scoped>\n",
              "    .dataframe tbody tr th:only-of-type {\n",
              "        vertical-align: middle;\n",
              "    }\n",
              "\n",
              "    .dataframe tbody tr th {\n",
              "        vertical-align: top;\n",
              "    }\n",
              "\n",
              "    .dataframe thead th {\n",
              "        text-align: right;\n",
              "    }\n",
              "</style>\n",
              "<table border=\"1\" class=\"dataframe\">\n",
              "  <thead>\n",
              "    <tr style=\"text-align: right;\">\n",
              "      <th></th>\n",
              "      <th>GRE Score</th>\n",
              "      <th>TOEFL Score</th>\n",
              "      <th>University Rating</th>\n",
              "      <th>SOP</th>\n",
              "      <th>LOR</th>\n",
              "      <th>CGPA</th>\n",
              "      <th>Research</th>\n",
              "      <th>Chance of Admit</th>\n",
              "    </tr>\n",
              "  </thead>\n",
              "  <tbody>\n",
              "    <tr>\n",
              "      <th>0</th>\n",
              "      <td>337</td>\n",
              "      <td>118</td>\n",
              "      <td>4</td>\n",
              "      <td>4.5</td>\n",
              "      <td>4.5</td>\n",
              "      <td>9.65</td>\n",
              "      <td>1</td>\n",
              "      <td>0.92</td>\n",
              "    </tr>\n",
              "    <tr>\n",
              "      <th>1</th>\n",
              "      <td>324</td>\n",
              "      <td>107</td>\n",
              "      <td>4</td>\n",
              "      <td>4.0</td>\n",
              "      <td>4.5</td>\n",
              "      <td>8.87</td>\n",
              "      <td>1</td>\n",
              "      <td>0.76</td>\n",
              "    </tr>\n",
              "    <tr>\n",
              "      <th>2</th>\n",
              "      <td>316</td>\n",
              "      <td>104</td>\n",
              "      <td>3</td>\n",
              "      <td>3.0</td>\n",
              "      <td>3.5</td>\n",
              "      <td>8.00</td>\n",
              "      <td>1</td>\n",
              "      <td>0.72</td>\n",
              "    </tr>\n",
              "    <tr>\n",
              "      <th>3</th>\n",
              "      <td>322</td>\n",
              "      <td>110</td>\n",
              "      <td>3</td>\n",
              "      <td>3.5</td>\n",
              "      <td>2.5</td>\n",
              "      <td>8.67</td>\n",
              "      <td>1</td>\n",
              "      <td>0.80</td>\n",
              "    </tr>\n",
              "    <tr>\n",
              "      <th>4</th>\n",
              "      <td>314</td>\n",
              "      <td>103</td>\n",
              "      <td>2</td>\n",
              "      <td>2.0</td>\n",
              "      <td>3.0</td>\n",
              "      <td>8.21</td>\n",
              "      <td>0</td>\n",
              "      <td>0.65</td>\n",
              "    </tr>\n",
              "  </tbody>\n",
              "</table>\n",
              "</div>"
            ],
            "text/plain": [
              "   GRE Score  TOEFL Score  University Rating  ...  CGPA  Research  Chance of Admit \n",
              "0        337          118                  4  ...  9.65         1              0.92\n",
              "1        324          107                  4  ...  8.87         1              0.76\n",
              "2        316          104                  3  ...  8.00         1              0.72\n",
              "3        322          110                  3  ...  8.67         1              0.80\n",
              "4        314          103                  2  ...  8.21         0              0.65\n",
              "\n",
              "[5 rows x 8 columns]"
            ]
          },
          "metadata": {
            "tags": []
          },
          "execution_count": 3
        }
      ]
    },
    {
      "cell_type": "code",
      "metadata": {
        "id": "BNM6Ch45j9es",
        "colab": {
          "base_uri": "https://localhost:8080/"
        },
        "outputId": "e9e26c47-4c01-4407-e92f-664eac9e9b79"
      },
      "source": [
        "len(df)"
      ],
      "execution_count": null,
      "outputs": [
        {
          "output_type": "execute_result",
          "data": {
            "text/plain": [
              "500"
            ]
          },
          "metadata": {
            "tags": []
          },
          "execution_count": 4
        }
      ]
    },
    {
      "cell_type": "code",
      "metadata": {
        "id": "QjN4Duoej-rC",
        "colab": {
          "base_uri": "https://localhost:8080/",
          "height": 623
        },
        "outputId": "73a78e0f-caff-45f7-90ab-3f247fed3586"
      },
      "source": [
        "import seaborn as sns\n",
        "\n",
        "plt.subplots(figsize=(10,10))\n",
        "sns.heatmap(df.corr(), square=True)\n",
        "plt.show()"
      ],
      "execution_count": null,
      "outputs": [
        {
          "output_type": "display_data",
          "data": {
            "image/png": "[encoded data removed]",
            "text/plain": [
              "<Figure size 720x720 with 2 Axes>"
            ]
          },
          "metadata": {
            "tags": [],
            "needs_background": "light"
          }
        }
      ]
    },
    {
      "cell_type": "code",
      "metadata": {
        "id": "YLGGhMvfkCHA"
      },
      "source": [
        "# перемешка\n",
        "df = df.sample(frac=1).reset_index(drop=True)\n",
        "# train test split\n",
        "df_train = df[:400]\n",
        "df_test = df[400:]\n",
        "# среднее и стандартное отклонение\n",
        "mean = df_train.mean(axis=0)\n",
        "std = df_test.std(axis=0)\n",
        "# 0 мат ожидание и 1 дисперсию\n",
        "df_train = (df_train - mean)/std\n",
        "X_train = df_train.drop(columns=['Chance of Admit ']).values\n",
        "y_train = df_train['Chance of Admit '].values\n",
        "df_test = (df_test - mean)/std\n",
        "X_test = df_test.drop(columns=['Chance of Admit ']).values\n",
        "y_test = df_test['Chance of Admit '].values"
      ],
      "execution_count": null,
      "outputs": []
    },
    {
      "cell_type": "code",
      "metadata": {
        "id": "H95qNRqHkIOk",
        "colab": {
          "base_uri": "https://localhost:8080/"
        },
        "outputId": "9cd04109-d327-47fd-c5d4-06655dfac4c2"
      },
      "source": [
        "X_train[:5]"
      ],
      "execution_count": null,
      "outputs": [
        {
          "output_type": "execute_result",
          "data": {
            "text/plain": [
              "array([[ 0.47245162,  0.46988529, -0.08528499,  0.65669367,  1.73504704,\n",
              "         0.13555769,  0.90530038],\n",
              "       [-0.20581001, -1.31860543,  0.76756487,  0.15540079,  1.17354314,\n",
              "         0.28617734,  0.90530038],\n",
              "       [ 1.9985403 ,  2.09578594,  0.76756487,  1.65927942,  1.73504704,\n",
              "         1.57481214,  0.90530038],\n",
              "       [ 0.47245162,  0.46988529, -0.08528499,  0.15540079, -1.07247244,\n",
              "         0.18576424,  0.90530038],\n",
              "       [ 0.89636514, -0.5056551 ,  1.62041473, -0.34589208,  0.05053535,\n",
              "         0.47026802,  0.90530038]])"
            ]
          },
          "metadata": {
            "tags": []
          },
          "execution_count": 7
        }
      ]
    },
    {
      "cell_type": "markdown",
      "metadata": {
        "id": "9LfmZg-xkQ5L"
      },
      "source": [
        "## Нерепрезентативность данных"
      ]
    },
    {
      "cell_type": "markdown",
      "metadata": {
        "id": "qicKssebnpm-"
      },
      "source": [
        "### Разная перемешка"
      ]
    },
    {
      "cell_type": "code",
      "metadata": {
        "id": "DhK4uEgJkjlu"
      },
      "source": [
        "from sklearn.linear_model import Ridge\n",
        "from sklearn.metrics import r2_score"
      ],
      "execution_count": null,
      "outputs": []
    },
    {
      "cell_type": "code",
      "metadata": {
        "id": "BI3zk1SchvaT",
        "colab": {
          "base_uri": "https://localhost:8080/"
        },
        "outputId": "e3ec048d-ccbc-4580-83c0-dae5c3825306"
      },
      "source": [
        "# массив результатов\n",
        "r2_shuffles = []\n",
        "# проверим, зависит ли изначальная перемешка от результата\n",
        "for i in range(20):\n",
        "    # перемешка\n",
        "    df = df.sample(frac=1).reset_index(drop=True)\n",
        "    # train test split\n",
        "    df_train = df[:400]\n",
        "    df_test = df[400:]\n",
        "    # среднее и стандартное отклонение\n",
        "    mean = df_train.mean(axis=0)\n",
        "    std = df_train.std(axis=0)\n",
        "    # 0 мат ожидание и 1 дисперсию\n",
        "    df_train = (df_train - mean)/std\n",
        "    X_train = df_train.drop(columns=['Chance of Admit ']).values\n",
        "    y_train = df_train['Chance of Admit '].values\n",
        "    df_test = (df_test - mean)/std\n",
        "    X_test = df_test.drop(columns=['Chance of Admit ']).values\n",
        "    y_test = df_test['Chance of Admit '].values\n",
        "\n",
        "    alg = Ridge()\n",
        "    alg.fit(X_train, y_train)\n",
        "    print(f'Итерация {i+1} | R^2 = ', r2_score(y_test, alg.predict(X_test)))\n",
        "\n",
        "    r2_shuffles.append(r2_score(y_test, alg.predict(X_test)))"
      ],
      "execution_count": null,
      "outputs": [
        {
          "output_type": "stream",
          "text": [
            "Итерация 1 | R^2 =  0.8618713386238145\n",
            "Итерация 2 | R^2 =  0.8523990506417432\n",
            "Итерация 3 | R^2 =  0.7929293618117262\n",
            "Итерация 4 | R^2 =  0.7817039185810469\n",
            "Итерация 5 | R^2 =  0.7908245279386232\n",
            "Итерация 6 | R^2 =  0.8253184565151146\n",
            "Итерация 7 | R^2 =  0.811006849978834\n",
            "Итерация 8 | R^2 =  0.8328223109657988\n",
            "Итерация 9 | R^2 =  0.7801653152356409\n",
            "Итерация 10 | R^2 =  0.80319382685625\n",
            "Итерация 11 | R^2 =  0.8297333958953841\n",
            "Итерация 12 | R^2 =  0.8058086126455303\n",
            "Итерация 13 | R^2 =  0.7221720626259716\n",
            "Итерация 14 | R^2 =  0.8056904753377147\n",
            "Итерация 15 | R^2 =  0.8400909192961801\n",
            "Итерация 16 | R^2 =  0.8240075795001185\n",
            "Итерация 17 | R^2 =  0.7662071238372943\n",
            "Итерация 18 | R^2 =  0.7940477544919815\n",
            "Итерация 19 | R^2 =  0.8239136744038666\n",
            "Итерация 20 | R^2 =  0.8466913351600241\n"
          ],
          "name": "stdout"
        }
      ]
    },
    {
      "cell_type": "code",
      "metadata": {
        "id": "PXAaI_CSnjVV",
        "colab": {
          "base_uri": "https://localhost:8080/",
          "height": 417
        },
        "outputId": "54976a0d-9c80-49df-ff46-eaee616e0b4a"
      },
      "source": [
        "fig1, ax1 = plt.subplots()\n",
        "ax1.set_title('R^2 в результате перемешки')\n",
        "ax1.boxplot(r2_shuffles)"
      ],
      "execution_count": null,
      "outputs": [
        {
          "output_type": "execute_result",
          "data": {
            "text/plain": [
              "{'boxes': [<matplotlib.lines.Line2D at 0x7f44bc59a9e8>],\n",
              " 'caps': [<matplotlib.lines.Line2D at 0x7f44bc5ad438>,\n",
              "  <matplotlib.lines.Line2D at 0x7f44bc5ad7b8>],\n",
              " 'fliers': [<matplotlib.lines.Line2D at 0x7f44bc5adeb8>],\n",
              " 'means': [],\n",
              " 'medians': [<matplotlib.lines.Line2D at 0x7f44bc5adb38>],\n",
              " 'whiskers': [<matplotlib.lines.Line2D at 0x7f44bc59acf8>,\n",
              "  <matplotlib.lines.Line2D at 0x7f44bc5ad0b8>]}"
            ]
          },
          "metadata": {
            "tags": []
          },
          "execution_count": 10
        },
        {
          "output_type": "display_data",
          "data": {
            "image/png": "[encoded data removed]",
            "text/plain": [
              "<Figure size 432x288 with 1 Axes>"
            ]
          },
          "metadata": {
            "tags": [],
            "needs_background": "light"
          }
        }
      ]
    },
    {
      "cell_type": "markdown",
      "metadata": {
        "id": "cPHxpBbzwwCD"
      },
      "source": [
        "Как еще можно обнаружить, что данных слишком мало? Можно посмотреть на кривые обучения.\n",
        "\n",
        "Кроме этого попробуем улучшить картину путем создания новых признаков (например, полиномиальных)."
      ]
    },
    {
      "cell_type": "markdown",
      "metadata": {
        "id": "zEE4LDSonpII"
      },
      "source": [
        "### Кривые обучения"
      ]
    },
    {
      "cell_type": "markdown",
      "metadata": {
        "id": "uAWOM_8Gn7jp"
      },
      "source": [
        "Изменяем размер имеющейся обучающей выборки и смотрим, как качество решения задачи зависит от объема данных, на котором мы обучали модель.Такой подход называется кривыми обучения (sklearn.model_selection.learning_curve).\n",
        "\n",
        "Алгоритм выполняет перекрестную проверку тренировочных и тестовых показателей для разных размеров учебных наборов. Генератор перекрестной проверки разделяет весь набор данных k раз в данных обучения и теста. Подмножества обучающего набора с различными размерами будут использоваться для обучения оценщика, а для каждого размера обучающего подмножества и набора тестов будут вычисляться баллы. После этого результаты будут усреднены по всем k прогонам для каждого размера подмножества тренировки. \n",
        "\n",
        "Таким образом в результате обучения у нас получится значения метрики качества по y и размер выборки по x. На них будет отображены кривые по кросс валидации и обучению."
      ]
    },
    {
      "cell_type": "code",
      "metadata": {
        "id": "-kZhCPmduf3L"
      },
      "source": [
        "# отобразим данные и средние значения кривых между ними (так как берем k фолдов)\n",
        "def plot_with_err(x, data, **kwargs):\n",
        "    mu, std = data.mean(1), data.std(1)\n",
        "    lines = plt.plot(x, mu, '-', **kwargs)\n",
        "    plt.fill_between(x, mu - std, mu + std, edgecolor='none',\n",
        "    facecolor=lines[0].get_color(), alpha=0.2)"
      ],
      "execution_count": null,
      "outputs": []
    },
    {
      "cell_type": "code",
      "metadata": {
        "id": "GtPyk53wSRFJ",
        "colab": {
          "base_uri": "https://localhost:8080/"
        },
        "outputId": "a63fe197-be3b-4d99-a816-0d6e63f0e72f"
      },
      "source": [
        "np.linspace(0.1, 0.9, 9)"
      ],
      "execution_count": null,
      "outputs": [
        {
          "output_type": "execute_result",
          "data": {
            "text/plain": [
              "array([0.1, 0.2, 0.3, 0.4, 0.5, 0.6, 0.7, 0.8, 0.9])"
            ]
          },
          "metadata": {
            "tags": []
          },
          "execution_count": 12
        }
      ]
    },
    {
      "cell_type": "code",
      "metadata": {
        "id": "l_GqR08Cn2KL",
        "colab": {
          "base_uri": "https://localhost:8080/",
          "height": 627
        },
        "outputId": "1e50ae2e-48b1-4652-ba90-6aa05629f191"
      },
      "source": [
        "from sklearn.model_selection import learning_curve\n",
        "from sklearn.pipeline import Pipeline\n",
        "from sklearn.preprocessing import StandardScaler, PolynomialFeatures\n",
        "\n",
        "# перемешка\n",
        "df = df.sample(frac=1).reset_index(drop=True)\n",
        "# train test split\n",
        "df_train = df[:400]\n",
        "df_test = df[400:]\n",
        "# среднее и стандартное отклонение\n",
        "mean = df.mean(axis=0)\n",
        "std = df.std(axis=0)\n",
        "# 0 мат ожидание и 1 дисперсию\n",
        "df_train = (df_train - mean)/std\n",
        "X_train = df_train.drop(columns=['Chance of Admit ']).values\n",
        "y_train = df_train['Chance of Admit '].values\n",
        "df_test = (df_test - mean)/std\n",
        "X_test = df_test.drop(columns=['Chance of Admit ']).values\n",
        "y_test = df_test['Chance of Admit '].values\n",
        "\n",
        "pipe = Pipeline([('scaler', StandardScaler()), # нормализуем\n",
        "                       ('poly', PolynomialFeatures(degree=2)), # создадим полиномиальных признаков (степень 2)\n",
        "                       ('alg', Ridge())]) # все та же линейная с ridge регуляризация\n",
        "\n",
        "N_train, val_train, val_test = learning_curve(pipe,\n",
        "                                              df.drop(columns=['Chance of Admit ']).values, # X\n",
        "                                              df['Chance of Admit '].values, # y\n",
        "                                              train_sizes = np.linspace(0.1, 0.9, 9), # переменный размер обучающей выборки\n",
        "                                              cv=5, # 5 фолдов кросс вал\n",
        "                                              scoring='r2') # R2\n",
        "from matplotlib.pyplot import figure, ylim\n",
        "figure(figsize=(15, 10))\n",
        "plt.grid()\n",
        "ylim(0, 1)\n",
        "plot_with_err(N_train, val_train, label='training scores')\n",
        "plot_with_err(N_train, val_test, label='validation scores')\n",
        "plt.xlabel('Размер на Train')\n",
        "plt.ylabel('R2')\n",
        "plt.legend()"
      ],
      "execution_count": null,
      "outputs": [
        {
          "output_type": "execute_result",
          "data": {
            "text/plain": [
              "<matplotlib.legend.Legend at 0x7f44c09796d8>"
            ]
          },
          "metadata": {
            "tags": []
          },
          "execution_count": 13
        },
        {
          "output_type": "display_data",
          "data": {
            "image/png": "[encoded data removed]",
            "text/plain": [
              "<Figure size 1080x720 with 1 Axes>"
            ]
          },
          "metadata": {
            "tags": [],
            "needs_background": "light"
          }
        }
      ]
    },
    {
      "cell_type": "markdown",
      "metadata": {
        "id": "v23VEU16vU-q"
      },
      "source": [
        "* Если две кривые распологаются близко, и обе ошибки велики, — это признак недообучения\n",
        "* Если две кривые далеко друг от друга — это показатель переобучения, данные нерепрезентативны\n",
        "* Если кривые еще не сошлись, добавление новых данных может улучшить результат\n",
        "* Если две кривые далеко друг от друга, — это показатель переобучения\n"
      ]
    },
    {
      "cell_type": "markdown",
      "metadata": {
        "id": "zTWkc-FVak6w"
      },
      "source": [
        "# Задача классификации"
      ]
    },
    {
      "cell_type": "markdown",
      "metadata": {
        "id": "xGyErnf1wtQp"
      },
      "source": [
        "## Аугментация\n",
        "\n",
        "Мы попробовали аугментировать с помощью sklearn"
      ]
    },
    {
      "cell_type": "code",
      "metadata": {
        "id": "v98wH48RzQRQ"
      },
      "source": [
        "# попробуем создать новые данные на основе пространства признаков\n",
        "#!pip install -U imbalanced-learn"
      ],
      "execution_count": null,
      "outputs": []
    },
    {
      "cell_type": "code",
      "metadata": {
        "id": "Z6L580b9IrSL"
      },
      "source": [
        "from imblearn.under_sampling import TomekLinks"
      ],
      "execution_count": null,
      "outputs": []
    },
    {
      "cell_type": "code",
      "metadata": {
        "id": "QMXN52BfzuL_"
      },
      "source": [
        "from sklearn.datasets import load_breast_cancer\n",
        "data = load_breast_cancer()\n",
        "\n",
        "X = pd.DataFrame(data['data'], columns=data['feature_names'])\n",
        "y = data['target']"
      ],
      "execution_count": null,
      "outputs": []
    },
    {
      "cell_type": "code",
      "metadata": {
        "id": "hHqQpiCW2GMK",
        "colab": {
          "base_uri": "https://localhost:8080/"
        },
        "outputId": "e9f6337e-aaf4-4809-e5ee-e660310d2f88"
      },
      "source": [
        "X.info()"
      ],
      "execution_count": null,
      "outputs": [
        {
          "output_type": "stream",
          "text": [
            "<class 'pandas.core.frame.DataFrame'>\n",
            "RangeIndex: 569 entries, 0 to 568\n",
            "Data columns (total 30 columns):\n",
            " #   Column                   Non-Null Count  Dtype  \n",
            "---  ------                   --------------  -----  \n",
            " 0   mean radius              569 non-null    float64\n",
            " 1   mean texture             569 non-null    float64\n",
            " 2   mean perimeter           569 non-null    float64\n",
            " 3   mean area                569 non-null    float64\n",
            " 4   mean smoothness          569 non-null    float64\n",
            " 5   mean compactness         569 non-null    float64\n",
            " 6   mean concavity           569 non-null    float64\n",
            " 7   mean concave points      569 non-null    float64\n",
            " 8   mean symmetry            569 non-null    float64\n",
            " 9   mean fractal dimension   569 non-null    float64\n",
            " 10  radius error             569 non-null    float64\n",
            " 11  texture error            569 non-null    float64\n",
            " 12  perimeter error          569 non-null    float64\n",
            " 13  area error               569 non-null    float64\n",
            " 14  smoothness error         569 non-null    float64\n",
            " 15  compactness error        569 non-null    float64\n",
            " 16  concavity error          569 non-null    float64\n",
            " 17  concave points error     569 non-null    float64\n",
            " 18  symmetry error           569 non-null    float64\n",
            " 19  fractal dimension error  569 non-null    float64\n",
            " 20  worst radius             569 non-null    float64\n",
            " 21  worst texture            569 non-null    float64\n",
            " 22  worst perimeter          569 non-null    float64\n",
            " 23  worst area               569 non-null    float64\n",
            " 24  worst smoothness         569 non-null    float64\n",
            " 25  worst compactness        569 non-null    float64\n",
            " 26  worst concavity          569 non-null    float64\n",
            " 27  worst concave points     569 non-null    float64\n",
            " 28  worst symmetry           569 non-null    float64\n",
            " 29  worst fractal dimension  569 non-null    float64\n",
            "dtypes: float64(30)\n",
            "memory usage: 133.5 KB\n"
          ],
          "name": "stdout"
        }
      ]
    },
    {
      "cell_type": "code",
      "metadata": {
        "id": "s97e4Eu12HOs",
        "colab": {
          "base_uri": "https://localhost:8080/",
          "height": 258
        },
        "outputId": "cfe254b6-22d9-42ac-99ba-f675b6c076c8"
      },
      "source": [
        "X.head()"
      ],
      "execution_count": null,
      "outputs": [
        {
          "output_type": "execute_result",
          "data": {
            "text/html": [
              "<div>\n",
              "<style scoped>\n",
              "    .dataframe tbody tr th:only-of-type {\n",
              "        vertical-align: middle;\n",
              "    }\n",
              "\n",
              "    .dataframe tbody tr th {\n",
              "        vertical-align: top;\n",
              "    }\n",
              "\n",
              "    .dataframe thead th {\n",
              "        text-align: right;\n",
              "    }\n",
              "</style>\n",
              "<table border=\"1\" class=\"dataframe\">\n",
              "  <thead>\n",
              "    <tr style=\"text-align: right;\">\n",
              "      <th></th>\n",
              "      <th>mean radius</th>\n",
              "      <th>mean texture</th>\n",
              "      <th>mean perimeter</th>\n",
              "      <th>mean area</th>\n",
              "      <th>mean smoothness</th>\n",
              "      <th>mean compactness</th>\n",
              "      <th>mean concavity</th>\n",
              "      <th>mean concave points</th>\n",
              "      <th>mean symmetry</th>\n",
              "      <th>mean fractal dimension</th>\n",
              "      <th>radius error</th>\n",
              "      <th>texture error</th>\n",
              "      <th>perimeter error</th>\n",
              "      <th>area error</th>\n",
              "      <th>smoothness error</th>\n",
              "      <th>compactness error</th>\n",
              "      <th>concavity error</th>\n",
              "      <th>concave points error</th>\n",
              "      <th>symmetry error</th>\n",
              "      <th>fractal dimension error</th>\n",
              "      <th>worst radius</th>\n",
              "      <th>worst texture</th>\n",
              "      <th>worst perimeter</th>\n",
              "      <th>worst area</th>\n",
              "      <th>worst smoothness</th>\n",
              "      <th>worst compactness</th>\n",
              "      <th>worst concavity</th>\n",
              "      <th>worst concave points</th>\n",
              "      <th>worst symmetry</th>\n",
              "      <th>worst fractal dimension</th>\n",
              "    </tr>\n",
              "  </thead>\n",
              "  <tbody>\n",
              "    <tr>\n",
              "      <th>0</th>\n",
              "      <td>17.99</td>\n",
              "      <td>10.38</td>\n",
              "      <td>122.80</td>\n",
              "      <td>1001.0</td>\n",
              "      <td>0.11840</td>\n",
              "      <td>0.27760</td>\n",
              "      <td>0.3001</td>\n",
              "      <td>0.14710</td>\n",
              "      <td>0.2419</td>\n",
              "      <td>0.07871</td>\n",
              "      <td>1.0950</td>\n",
              "      <td>0.9053</td>\n",
              "      <td>8.589</td>\n",
              "      <td>153.40</td>\n",
              "      <td>0.006399</td>\n",
              "      <td>0.04904</td>\n",
              "      <td>0.05373</td>\n",
              "      <td>0.01587</td>\n",
              "      <td>0.03003</td>\n",
              "      <td>0.006193</td>\n",
              "      <td>25.38</td>\n",
              "      <td>17.33</td>\n",
              "      <td>184.60</td>\n",
              "      <td>2019.0</td>\n",
              "      <td>0.1622</td>\n",
              "      <td>0.6656</td>\n",
              "      <td>0.7119</td>\n",
              "      <td>0.2654</td>\n",
              "      <td>0.4601</td>\n",
              "      <td>0.11890</td>\n",
              "    </tr>\n",
              "    <tr>\n",
              "      <th>1</th>\n",
              "      <td>20.57</td>\n",
              "      <td>17.77</td>\n",
              "      <td>132.90</td>\n",
              "      <td>1326.0</td>\n",
              "      <td>0.08474</td>\n",
              "      <td>0.07864</td>\n",
              "      <td>0.0869</td>\n",
              "      <td>0.07017</td>\n",
              "      <td>0.1812</td>\n",
              "      <td>0.05667</td>\n",
              "      <td>0.5435</td>\n",
              "      <td>0.7339</td>\n",
              "      <td>3.398</td>\n",
              "      <td>74.08</td>\n",
              "      <td>0.005225</td>\n",
              "      <td>0.01308</td>\n",
              "      <td>0.01860</td>\n",
              "      <td>0.01340</td>\n",
              "      <td>0.01389</td>\n",
              "      <td>0.003532</td>\n",
              "      <td>24.99</td>\n",
              "      <td>23.41</td>\n",
              "      <td>158.80</td>\n",
              "      <td>1956.0</td>\n",
              "      <td>0.1238</td>\n",
              "      <td>0.1866</td>\n",
              "      <td>0.2416</td>\n",
              "      <td>0.1860</td>\n",
              "      <td>0.2750</td>\n",
              "      <td>0.08902</td>\n",
              "    </tr>\n",
              "    <tr>\n",
              "      <th>2</th>\n",
              "      <td>19.69</td>\n",
              "      <td>21.25</td>\n",
              "      <td>130.00</td>\n",
              "      <td>1203.0</td>\n",
              "      <td>0.10960</td>\n",
              "      <td>0.15990</td>\n",
              "      <td>0.1974</td>\n",
              "      <td>0.12790</td>\n",
              "      <td>0.2069</td>\n",
              "      <td>0.05999</td>\n",
              "      <td>0.7456</td>\n",
              "      <td>0.7869</td>\n",
              "      <td>4.585</td>\n",
              "      <td>94.03</td>\n",
              "      <td>0.006150</td>\n",
              "      <td>0.04006</td>\n",
              "      <td>0.03832</td>\n",
              "      <td>0.02058</td>\n",
              "      <td>0.02250</td>\n",
              "      <td>0.004571</td>\n",
              "      <td>23.57</td>\n",
              "      <td>25.53</td>\n",
              "      <td>152.50</td>\n",
              "      <td>1709.0</td>\n",
              "      <td>0.1444</td>\n",
              "      <td>0.4245</td>\n",
              "      <td>0.4504</td>\n",
              "      <td>0.2430</td>\n",
              "      <td>0.3613</td>\n",
              "      <td>0.08758</td>\n",
              "    </tr>\n",
              "    <tr>\n",
              "      <th>3</th>\n",
              "      <td>11.42</td>\n",
              "      <td>20.38</td>\n",
              "      <td>77.58</td>\n",
              "      <td>386.1</td>\n",
              "      <td>0.14250</td>\n",
              "      <td>0.28390</td>\n",
              "      <td>0.2414</td>\n",
              "      <td>0.10520</td>\n",
              "      <td>0.2597</td>\n",
              "      <td>0.09744</td>\n",
              "      <td>0.4956</td>\n",
              "      <td>1.1560</td>\n",
              "      <td>3.445</td>\n",
              "      <td>27.23</td>\n",
              "      <td>0.009110</td>\n",
              "      <td>0.07458</td>\n",
              "      <td>0.05661</td>\n",
              "      <td>0.01867</td>\n",
              "      <td>0.05963</td>\n",
              "      <td>0.009208</td>\n",
              "      <td>14.91</td>\n",
              "      <td>26.50</td>\n",
              "      <td>98.87</td>\n",
              "      <td>567.7</td>\n",
              "      <td>0.2098</td>\n",
              "      <td>0.8663</td>\n",
              "      <td>0.6869</td>\n",
              "      <td>0.2575</td>\n",
              "      <td>0.6638</td>\n",
              "      <td>0.17300</td>\n",
              "    </tr>\n",
              "    <tr>\n",
              "      <th>4</th>\n",
              "      <td>20.29</td>\n",
              "      <td>14.34</td>\n",
              "      <td>135.10</td>\n",
              "      <td>1297.0</td>\n",
              "      <td>0.10030</td>\n",
              "      <td>0.13280</td>\n",
              "      <td>0.1980</td>\n",
              "      <td>0.10430</td>\n",
              "      <td>0.1809</td>\n",
              "      <td>0.05883</td>\n",
              "      <td>0.7572</td>\n",
              "      <td>0.7813</td>\n",
              "      <td>5.438</td>\n",
              "      <td>94.44</td>\n",
              "      <td>0.011490</td>\n",
              "      <td>0.02461</td>\n",
              "      <td>0.05688</td>\n",
              "      <td>0.01885</td>\n",
              "      <td>0.01756</td>\n",
              "      <td>0.005115</td>\n",
              "      <td>22.54</td>\n",
              "      <td>16.67</td>\n",
              "      <td>152.20</td>\n",
              "      <td>1575.0</td>\n",
              "      <td>0.1374</td>\n",
              "      <td>0.2050</td>\n",
              "      <td>0.4000</td>\n",
              "      <td>0.1625</td>\n",
              "      <td>0.2364</td>\n",
              "      <td>0.07678</td>\n",
              "    </tr>\n",
              "  </tbody>\n",
              "</table>\n",
              "</div>"
            ],
            "text/plain": [
              "   mean radius  mean texture  ...  worst symmetry  worst fractal dimension\n",
              "0        17.99         10.38  ...          0.4601                  0.11890\n",
              "1        20.57         17.77  ...          0.2750                  0.08902\n",
              "2        19.69         21.25  ...          0.3613                  0.08758\n",
              "3        11.42         20.38  ...          0.6638                  0.17300\n",
              "4        20.29         14.34  ...          0.2364                  0.07678\n",
              "\n",
              "[5 rows x 30 columns]"
            ]
          },
          "metadata": {
            "tags": []
          },
          "execution_count": 18
        }
      ]
    },
    {
      "cell_type": "code",
      "metadata": {
        "id": "Gbn5jwhCI0xf"
      },
      "source": [
        "import seaborn as sns"
      ],
      "execution_count": null,
      "outputs": []
    },
    {
      "cell_type": "code",
      "metadata": {
        "id": "A601ohYY2Iqh",
        "colab": {
          "base_uri": "https://localhost:8080/",
          "height": 656
        },
        "outputId": "ba46a543-e123-4980-cc5c-ff2fa0bbe989"
      },
      "source": [
        "plt.subplots(figsize=(10,10))\n",
        "sns.heatmap(X.corr(), square=True)\n",
        "plt.show()"
      ],
      "execution_count": null,
      "outputs": [
        {
          "output_type": "display_data",
          "data": {
            "image/png": "[encoded data removed]",
            "text/plain": [
              "<Figure size 720x720 with 2 Axes>"
            ]
          },
          "metadata": {
            "tags": [],
            "needs_background": "light"
          }
        }
      ]
    },
    {
      "cell_type": "code",
      "metadata": {
        "id": "l5awhhk5DEO8",
        "colab": {
          "base_uri": "https://localhost:8080/"
        },
        "outputId": "37eeadea-7cff-4e6f-dcf0-154ededf03ab"
      },
      "source": [
        "pd.Series(y).value_counts()"
      ],
      "execution_count": null,
      "outputs": [
        {
          "output_type": "execute_result",
          "data": {
            "text/plain": [
              "1    357\n",
              "0    212\n",
              "dtype: int64"
            ]
          },
          "metadata": {
            "tags": []
          },
          "execution_count": 21
        }
      ]
    },
    {
      "cell_type": "code",
      "metadata": {
        "id": "e3TZxOXa2Svm"
      },
      "source": [
        "from sklearn.model_selection import GridSearchCV\n",
        "from sklearn import metrics\n",
        "from sklearn.model_selection import train_test_split\n",
        "from sklearn.neighbors import KNeighborsClassifier"
      ],
      "execution_count": null,
      "outputs": []
    },
    {
      "cell_type": "code",
      "metadata": {
        "id": "sIpE7S_b2ctz"
      },
      "source": [
        "X_train, X_test, y_train, y_test = train_test_split(X, y, test_size=0.2)"
      ],
      "execution_count": null,
      "outputs": []
    },
    {
      "cell_type": "code",
      "metadata": {
        "id": "bRSSNObq2jmr",
        "colab": {
          "base_uri": "https://localhost:8080/"
        },
        "outputId": "43368093-be77-479d-8f91-5df25f5d8b0d"
      },
      "source": [
        "len(y_test), len(y_train)"
      ],
      "execution_count": null,
      "outputs": [
        {
          "output_type": "execute_result",
          "data": {
            "text/plain": [
              "(114, 455)"
            ]
          },
          "metadata": {
            "tags": []
          },
          "execution_count": 24
        }
      ]
    },
    {
      "cell_type": "code",
      "metadata": {
        "id": "GkRQpIOLzQVt",
        "colab": {
          "base_uri": "https://localhost:8080/"
        },
        "outputId": "6123bec0-ace3-4396-da7f-4eaef066eafe"
      },
      "source": [
        "from sklearn.linear_model import LogisticRegression\n",
        "\n",
        "clf = LogisticRegression(class_weight = 'balanced')\n",
        "\n",
        "X_train, X_test, y_train, y_test = train_test_split(X, y, test_size=0.2, stratify=y)\n",
        "\n",
        "clf.fit(X_train, y_train)\n",
        "\n",
        "predictions = clf.predict(X_test)"
      ],
      "execution_count": null,
      "outputs": [
        {
          "output_type": "stream",
          "text": [
            "/usr/local/lib/python3.6/dist-packages/sklearn/linear_model/_logistic.py:765: ConvergenceWarning: lbfgs failed to converge (status=1):\n",
            "STOP: TOTAL NO. of ITERATIONS REACHED LIMIT.\n",
            "\n",
            "Increase the number of iterations (max_iter) or scale the data as shown in:\n",
            "    https://scikit-learn.org/stable/modules/preprocessing.html\n",
            "Please also refer to the documentation for alternative solver options:\n",
            "    https://scikit-learn.org/stable/modules/linear_model.html#logistic-regression\n",
            "  extra_warning_msg=_LOGISTIC_SOLVER_CONVERGENCE_MSG)\n"
          ],
          "name": "stderr"
        }
      ]
    },
    {
      "cell_type": "code",
      "metadata": {
        "id": "4pYAeg9P3UBw",
        "colab": {
          "base_uri": "https://localhost:8080/"
        },
        "outputId": "dcd4ecf0-39e6-482f-ad63-49f9a5901214"
      },
      "source": [
        "print(metrics.classification_report(y_test, predictions))"
      ],
      "execution_count": null,
      "outputs": [
        {
          "output_type": "stream",
          "text": [
            "              precision    recall  f1-score   support\n",
            "\n",
            "           0       0.86      0.88      0.87        42\n",
            "           1       0.93      0.92      0.92        72\n",
            "\n",
            "    accuracy                           0.90       114\n",
            "   macro avg       0.90      0.90      0.90       114\n",
            "weighted avg       0.90      0.90      0.90       114\n",
            "\n"
          ],
          "name": "stdout"
        }
      ]
    },
    {
      "cell_type": "markdown",
      "metadata": {
        "id": "LluhpW450HCJ"
      },
      "source": [
        "### Over-sampling, Under-sampling\n",
        "\n",
        "Существуют две стратегии ресэмплинга данных:\n",
        "* добавить данных в меньший класс (oversampling)\n",
        "* удалить данные из большего класса (undersampling)\n",
        "\n",
        "\n",
        "![dssmall](https://habrastorage.org/getpro/habr/post_images/ef1/7fd/7b5/ef17fd7b511aa0ae67d398b3205068b8.png)"
      ]
    },
    {
      "cell_type": "markdown",
      "metadata": {
        "id": "854OeLwk0r1_"
      },
      "source": [
        "### Under-sampling"
      ]
    },
    {
      "cell_type": "markdown",
      "metadata": {
        "id": "EiGIk6Ny1Cww"
      },
      "source": [
        "#### TomekLinks\n",
        "\n",
        "Пусть примеры $E_i$ и $E_j$ принадлежат к различным классам, $d(Ei,Ej)$ – расстояние между указанными примерами. Пара $(Ei,Ej)$ называется связью Томека, если не найдется ни одного примера $E_l$ такого, что будет справедлива совокупность неравенств:\n",
        "\n",
        "$$\\begin{cases}\n",
        "{d(E_i, E_l)< d(E_i, E_j)}\\\\\n",
        "{d(E_j, E_l)< d(E_i, E_j)}\n",
        "\\end{cases}\n",
        "$$\n",
        "\n",
        "Согласно данному подходу, все мажоритарные записи, входящие в связи Томека, должны быть удалены из набора данных. Этот способ хорошо удаляет записи, которые можно рассматривать в качестве «зашумляющих».\n",
        "\n",
        "\n",
        "![dssmall](https://habrastorage.org/getpro/habr/post_images/39c/0f9/4cb/39c0f94cbe7ea3162713d0b00fac912b.png)"
      ]
    },
    {
      "cell_type": "code",
      "metadata": {
        "id": "7xfFDcH2HxAY",
        "colab": {
          "base_uri": "https://localhost:8080/"
        },
        "outputId": "12f93488-db37-4a8c-9727-891b5a38db2d"
      },
      "source": [
        "type(y_train)"
      ],
      "execution_count": null,
      "outputs": [
        {
          "output_type": "execute_result",
          "data": {
            "text/plain": [
              "numpy.ndarray"
            ]
          },
          "metadata": {
            "tags": []
          },
          "execution_count": 27
        }
      ]
    },
    {
      "cell_type": "code",
      "metadata": {
        "id": "J9Ly2m_qHEg0"
      },
      "source": [
        "from imblearn.under_sampling import TomekLinks\n",
        "\n",
        "augm = TomekLinks(sampling_strategy='majority')\n",
        "X_train_augm, y_train_augm = augm.fit_resample(np.array(X_train), np.array(y_train))"
      ],
      "execution_count": null,
      "outputs": []
    },
    {
      "cell_type": "code",
      "metadata": {
        "id": "DFD2QB7_Z7cF",
        "colab": {
          "base_uri": "https://localhost:8080/"
        },
        "outputId": "805a8cb5-8755-41a2-bd81-b8ec3807eb37"
      },
      "source": [
        "pd.Series(y_train_augm).value_counts()"
      ],
      "execution_count": null,
      "outputs": [
        {
          "output_type": "execute_result",
          "data": {
            "text/plain": [
              "1    279\n",
              "0    170\n",
              "dtype: int64"
            ]
          },
          "metadata": {
            "tags": []
          },
          "execution_count": 29
        }
      ]
    },
    {
      "cell_type": "code",
      "metadata": {
        "id": "Bva57zeVJWJa",
        "colab": {
          "base_uri": "https://localhost:8080/"
        },
        "outputId": "0d1f285f-3a54-4f5b-fe56-6abe8590de0c"
      },
      "source": [
        "clf = LogisticRegression(class_weight = 'balanced')\n",
        "\n",
        "# X_train, X_test, y_train, y_test = train_test_split(X, y, test_size=0.2)\n",
        "\n",
        "clf.fit(X_train_augm, y_train_augm)\n",
        "\n",
        "predictions = clf.predict(X_test)"
      ],
      "execution_count": null,
      "outputs": [
        {
          "output_type": "stream",
          "text": [
            "/usr/local/lib/python3.6/dist-packages/sklearn/linear_model/_logistic.py:765: ConvergenceWarning: lbfgs failed to converge (status=1):\n",
            "STOP: TOTAL NO. of ITERATIONS REACHED LIMIT.\n",
            "\n",
            "Increase the number of iterations (max_iter) or scale the data as shown in:\n",
            "    https://scikit-learn.org/stable/modules/preprocessing.html\n",
            "Please also refer to the documentation for alternative solver options:\n",
            "    https://scikit-learn.org/stable/modules/linear_model.html#logistic-regression\n",
            "  extra_warning_msg=_LOGISTIC_SOLVER_CONVERGENCE_MSG)\n"
          ],
          "name": "stderr"
        }
      ]
    },
    {
      "cell_type": "code",
      "metadata": {
        "id": "2nnht-yxJbB4",
        "colab": {
          "base_uri": "https://localhost:8080/"
        },
        "outputId": "0919debc-bc4a-40ac-a2d3-d822a85bce48"
      },
      "source": [
        "print(metrics.classification_report(y_test, predictions))"
      ],
      "execution_count": null,
      "outputs": [
        {
          "output_type": "stream",
          "text": [
            "              precision    recall  f1-score   support\n",
            "\n",
            "           0       0.86      0.88      0.87        42\n",
            "           1       0.93      0.92      0.92        72\n",
            "\n",
            "    accuracy                           0.90       114\n",
            "   macro avg       0.90      0.90      0.90       114\n",
            "weighted avg       0.90      0.90      0.90       114\n",
            "\n"
          ],
          "name": "stdout"
        }
      ]
    },
    {
      "cell_type": "markdown",
      "metadata": {
        "id": "P6waxlv15QaT"
      },
      "source": [
        "### Oversamplitng"
      ]
    },
    {
      "cell_type": "markdown",
      "metadata": {
        "id": "UZoK4yZu21gE"
      },
      "source": [
        "#### SMOTE ADASYN\n",
        "\n",
        "![](https://hsto.org/getpro/habr/post_images/c57/e7e/f4f/c57e7ef4f8711ad2eda881651a027867.png)\n",
        "\n",
        "Эта стратегия основана на идее генерации некоторого количества искусственных примеров, которые были бы «похожи» на имеющиеся в миноритарном классе, но при этом не дублировали их. Для создания новой записи находят разность $$d = X_b – X_a$$, где $X_a$,$X_b$ – векторы признаков «соседних» примеров $a$ и $b$ из миноритарного класса. Их находят, используя алгоритм ближайшего соседа (KNN). В данном случае необходимо и достаточно для примера $b$ получить набор из $k$ соседей, из которого в дальнейшем будет выбрана запись $b$. Остальные шаги алгоритма KNN не требуются.\n",
        "\n",
        "Далее из $d$ путем умножения каждого его элемента на случайное число в интервале (0, 1) получают $\\widehat{d}$. Вектор признаков нового примера вычисляется путем сложения $X_a$ и $\\widehat{d}$. Алгоритм SMOTE позволяет задавать количество записей, которое необходимо искусственно сгенерировать. Степень сходства примеров $a$ и $b$ можно регулировать путем изменения значения $k$ (числа ближайших соседей). На рисунке схематично изображено то, как в двумерном пространстве признаков могут располагаться искусственно сгенерированные примеры.\n",
        "\n",
        "![dssmall](https://basegroup.ru/sites/default/files/article_img/smote.gif)\n",
        "\n",
        "Данный подход имеет недостаток в том, что «вслепую» увеличивает плотность примерами в области слабо представленного класса. В случае, если миноритарные примеры равномерно распределены среди мажоритарных и имеют низкую плотность, алгоритм SMOTE только сильнее перемешает классы.\n",
        "\n",
        "![dssmall](https://basegroup.ru/sites/default/files/article_img/smote_overgeneralization.gif)"
      ]
    },
    {
      "cell_type": "code",
      "metadata": {
        "id": "glVyadVC0IKW"
      },
      "source": [
        "from imblearn.over_sampling import SMOTE, ADASYN\n",
        "\n",
        "augm = ADASYN()\n",
        "X_train_augm, y_train_augm = augm.fit_resample(np.array(X_train), np.array(y_train))"
      ],
      "execution_count": null,
      "outputs": []
    },
    {
      "cell_type": "code",
      "metadata": {
        "id": "MbmLrWFjKc6k",
        "colab": {
          "base_uri": "https://localhost:8080/"
        },
        "outputId": "af6d8ee1-b15c-44f7-a435-688ec0d11eca"
      },
      "source": [
        "pd.Series(y_train).value_counts()"
      ],
      "execution_count": null,
      "outputs": [
        {
          "output_type": "execute_result",
          "data": {
            "text/plain": [
              "1    285\n",
              "0    170\n",
              "dtype: int64"
            ]
          },
          "metadata": {
            "tags": []
          },
          "execution_count": 33
        }
      ]
    },
    {
      "cell_type": "code",
      "metadata": {
        "id": "E0IFJLj00IMn",
        "colab": {
          "base_uri": "https://localhost:8080/"
        },
        "outputId": "94ce6972-2bd7-4d46-cff2-0a2a7cba4f63"
      },
      "source": [
        "pd.Series(y_train_augm).value_counts()"
      ],
      "execution_count": null,
      "outputs": [
        {
          "output_type": "execute_result",
          "data": {
            "text/plain": [
              "1    285\n",
              "0    281\n",
              "dtype: int64"
            ]
          },
          "metadata": {
            "tags": []
          },
          "execution_count": 34
        }
      ]
    },
    {
      "cell_type": "code",
      "metadata": {
        "id": "pcrHLqi30IOp",
        "colab": {
          "base_uri": "https://localhost:8080/"
        },
        "outputId": "f60ae19b-164d-4d69-e115-45d0e62ea976"
      },
      "source": [
        "clf = LogisticRegression()\n",
        "\n",
        "# X_train, X_test, y_train, y_test = train_test_split(X, y, test_size=0.2)\n",
        "\n",
        "clf.fit(X_train_augm, y_train_augm)\n",
        "\n",
        "predictions = clf.predict(X_test)"
      ],
      "execution_count": null,
      "outputs": [
        {
          "output_type": "stream",
          "text": [
            "/usr/local/lib/python3.6/dist-packages/sklearn/linear_model/_logistic.py:765: ConvergenceWarning: lbfgs failed to converge (status=1):\n",
            "STOP: TOTAL NO. of ITERATIONS REACHED LIMIT.\n",
            "\n",
            "Increase the number of iterations (max_iter) or scale the data as shown in:\n",
            "    https://scikit-learn.org/stable/modules/preprocessing.html\n",
            "Please also refer to the documentation for alternative solver options:\n",
            "    https://scikit-learn.org/stable/modules/linear_model.html#logistic-regression\n",
            "  extra_warning_msg=_LOGISTIC_SOLVER_CONVERGENCE_MSG)\n"
          ],
          "name": "stderr"
        }
      ]
    },
    {
      "cell_type": "code",
      "metadata": {
        "id": "0hDSY8WJKNhj",
        "colab": {
          "base_uri": "https://localhost:8080/"
        },
        "outputId": "ebfc8573-2e34-414d-e189-9f5d295b5c7b"
      },
      "source": [
        "print(metrics.classification_report(y_test, predictions))"
      ],
      "execution_count": null,
      "outputs": [
        {
          "output_type": "stream",
          "text": [
            "              precision    recall  f1-score   support\n",
            "\n",
            "           0       0.86      0.90      0.88        42\n",
            "           1       0.94      0.92      0.93        72\n",
            "\n",
            "    accuracy                           0.91       114\n",
            "   macro avg       0.90      0.91      0.91       114\n",
            "weighted avg       0.91      0.91      0.91       114\n",
            "\n"
          ],
          "name": "stdout"
        }
      ]
    },
    {
      "cell_type": "code",
      "metadata": {
        "id": "GZQg-MGZKNpI"
      },
      "source": [
        ""
      ],
      "execution_count": null,
      "outputs": []
    },
    {
      "cell_type": "markdown",
      "metadata": {
        "id": "nhAeQu8ehzZU"
      },
      "source": [
        "На основе https://www.kaggle.com/jessicali9530/kuc-hackathon-winter-2018"
      ]
    },
    {
      "cell_type": "code",
      "metadata": {
        "id": "oIaZBmMEkU2S"
      },
      "source": [
        "df = pd.read_csv('https://raw.githubusercontent.com/tixonsit/mmdad_materials/master/drugsComTest_raw.csv')"
      ],
      "execution_count": null,
      "outputs": []
    },
    {
      "cell_type": "code",
      "metadata": {
        "id": "-j3pk_b5ywzX",
        "colab": {
          "base_uri": "https://localhost:8080/",
          "height": 204
        },
        "outputId": "b252590d-397d-40f2-a845-aafb60a97f33"
      },
      "source": [
        "df.head()"
      ],
      "execution_count": null,
      "outputs": [
        {
          "output_type": "execute_result",
          "data": {
            "text/html": [
              "<div>\n",
              "<style scoped>\n",
              "    .dataframe tbody tr th:only-of-type {\n",
              "        vertical-align: middle;\n",
              "    }\n",
              "\n",
              "    .dataframe tbody tr th {\n",
              "        vertical-align: top;\n",
              "    }\n",
              "\n",
              "    .dataframe thead th {\n",
              "        text-align: right;\n",
              "    }\n",
              "</style>\n",
              "<table border=\"1\" class=\"dataframe\">\n",
              "  <thead>\n",
              "    <tr style=\"text-align: right;\">\n",
              "      <th></th>\n",
              "      <th>uniqueID</th>\n",
              "      <th>drugName</th>\n",
              "      <th>condition</th>\n",
              "      <th>review</th>\n",
              "      <th>rating</th>\n",
              "      <th>date</th>\n",
              "      <th>usefulCount</th>\n",
              "    </tr>\n",
              "  </thead>\n",
              "  <tbody>\n",
              "    <tr>\n",
              "      <th>0</th>\n",
              "      <td>163740</td>\n",
              "      <td>Mirtazapine</td>\n",
              "      <td>Depression</td>\n",
              "      <td>\"I&amp;#039;ve tried a few antidepressants over th...</td>\n",
              "      <td>10</td>\n",
              "      <td>28-Feb-12</td>\n",
              "      <td>22</td>\n",
              "    </tr>\n",
              "    <tr>\n",
              "      <th>1</th>\n",
              "      <td>206473</td>\n",
              "      <td>Mesalamine</td>\n",
              "      <td>Crohn's Disease, Maintenance</td>\n",
              "      <td>\"My son has Crohn&amp;#039;s disease and has done ...</td>\n",
              "      <td>8</td>\n",
              "      <td>17-May-09</td>\n",
              "      <td>17</td>\n",
              "    </tr>\n",
              "    <tr>\n",
              "      <th>2</th>\n",
              "      <td>159672</td>\n",
              "      <td>Bactrim</td>\n",
              "      <td>Urinary Tract Infection</td>\n",
              "      <td>\"Quick reduction of symptoms\"</td>\n",
              "      <td>9</td>\n",
              "      <td>29-Sep-17</td>\n",
              "      <td>3</td>\n",
              "    </tr>\n",
              "    <tr>\n",
              "      <th>3</th>\n",
              "      <td>39293</td>\n",
              "      <td>Contrave</td>\n",
              "      <td>Weight Loss</td>\n",
              "      <td>\"Contrave combines drugs that were used for al...</td>\n",
              "      <td>9</td>\n",
              "      <td>5-Mar-17</td>\n",
              "      <td>35</td>\n",
              "    </tr>\n",
              "    <tr>\n",
              "      <th>4</th>\n",
              "      <td>97768</td>\n",
              "      <td>Cyclafem 1 / 35</td>\n",
              "      <td>Birth Control</td>\n",
              "      <td>\"I have been on this birth control for one cyc...</td>\n",
              "      <td>9</td>\n",
              "      <td>22-Oct-15</td>\n",
              "      <td>4</td>\n",
              "    </tr>\n",
              "  </tbody>\n",
              "</table>\n",
              "</div>"
            ],
            "text/plain": [
              "   uniqueID         drugName  ...       date usefulCount\n",
              "0    163740      Mirtazapine  ...  28-Feb-12          22\n",
              "1    206473       Mesalamine  ...  17-May-09          17\n",
              "2    159672          Bactrim  ...  29-Sep-17           3\n",
              "3     39293         Contrave  ...   5-Mar-17          35\n",
              "4     97768  Cyclafem 1 / 35  ...  22-Oct-15           4\n",
              "\n",
              "[5 rows x 7 columns]"
            ]
          },
          "metadata": {
            "tags": []
          },
          "execution_count": 38
        }
      ]
    },
    {
      "cell_type": "code",
      "metadata": {
        "id": "bO0cH4S1MGth"
      },
      "source": [
        "del df['uniqueID']"
      ],
      "execution_count": null,
      "outputs": []
    },
    {
      "cell_type": "code",
      "metadata": {
        "id": "4ZoMe_mPMKif"
      },
      "source": [
        "del df['date']"
      ],
      "execution_count": null,
      "outputs": []
    },
    {
      "cell_type": "code",
      "metadata": {
        "id": "VW_szbd5MBrJ",
        "colab": {
          "base_uri": "https://localhost:8080/"
        },
        "outputId": "2b8b986f-a2ff-418c-8ddd-8ff9843a6c54"
      },
      "source": [
        "df.info()"
      ],
      "execution_count": null,
      "outputs": [
        {
          "output_type": "stream",
          "text": [
            "<class 'pandas.core.frame.DataFrame'>\n",
            "RangeIndex: 53766 entries, 0 to 53765\n",
            "Data columns (total 5 columns):\n",
            " #   Column       Non-Null Count  Dtype \n",
            "---  ------       --------------  ----- \n",
            " 0   drugName     53766 non-null  object\n",
            " 1   condition    53471 non-null  object\n",
            " 2   review       53766 non-null  object\n",
            " 3   rating       53766 non-null  int64 \n",
            " 4   usefulCount  53766 non-null  int64 \n",
            "dtypes: int64(2), object(3)\n",
            "memory usage: 2.1+ MB\n"
          ],
          "name": "stdout"
        }
      ]
    },
    {
      "cell_type": "code",
      "metadata": {
        "id": "_EffiV47MCw4",
        "colab": {
          "base_uri": "https://localhost:8080/",
          "height": 282
        },
        "outputId": "a1d523d2-76e3-4f9b-82dc-203f4a35aee6"
      },
      "source": [
        "df['rating'].hist()"
      ],
      "execution_count": null,
      "outputs": [
        {
          "output_type": "execute_result",
          "data": {
            "text/plain": [
              "<matplotlib.axes._subplots.AxesSubplot at 0x7f44b36cfcc0>"
            ]
          },
          "metadata": {
            "tags": []
          },
          "execution_count": 42
        },
        {
          "output_type": "display_data",
          "data": {
            "image/png": "[encoded data removed]",
            "text/plain": [
              "<Figure size 432x288 with 1 Axes>"
            ]
          },
          "metadata": {
            "tags": [],
            "needs_background": "light"
          }
        }
      ]
    },
    {
      "cell_type": "code",
      "metadata": {
        "id": "tvV_5xZpMQsB",
        "colab": {
          "base_uri": "https://localhost:8080/",
          "height": 282
        },
        "outputId": "ba809034-89ef-4f09-bcc1-1e3fdf1b4945"
      },
      "source": [
        "df['usefulCount'][df['usefulCount'] < 200].hist(bins = 50)"
      ],
      "execution_count": null,
      "outputs": [
        {
          "output_type": "execute_result",
          "data": {
            "text/plain": [
              "<matplotlib.axes._subplots.AxesSubplot at 0x7f44b57a8940>"
            ]
          },
          "metadata": {
            "tags": []
          },
          "execution_count": 43
        },
        {
          "output_type": "display_data",
          "data": {
            "image/png": "[encoded data removed]",
            "text/plain": [
              "<Figure size 432x288 with 1 Axes>"
            ]
          },
          "metadata": {
            "tags": [],
            "needs_background": "light"
          }
        }
      ]
    },
    {
      "cell_type": "code",
      "metadata": {
        "id": "6vzfpHUmMcGZ",
        "colab": {
          "base_uri": "https://localhost:8080/"
        },
        "outputId": "ec1f74bf-c6f4-4823-8193-25f847688ddd"
      },
      "source": [
        "len(df)"
      ],
      "execution_count": null,
      "outputs": [
        {
          "output_type": "execute_result",
          "data": {
            "text/plain": [
              "53766"
            ]
          },
          "metadata": {
            "tags": []
          },
          "execution_count": 44
        }
      ]
    },
    {
      "cell_type": "markdown",
      "metadata": {
        "id": "JAMHGyDJPmr9"
      },
      "source": [
        "# Пайплайн обработки"
      ]
    },
    {
      "cell_type": "markdown",
      "metadata": {
        "id": "EGH9fqdVan0Q"
      },
      "source": [
        "## Загрузка данных"
      ]
    },
    {
      "cell_type": "code",
      "metadata": {
        "id": "UtMl7ixKMoVP"
      },
      "source": [
        "df = pd.read_csv('https://raw.githubusercontent.com/tixonsit/mmdad_materials/master/datasets_33180_43520_heart%20(1).csv')"
      ],
      "execution_count": null,
      "outputs": []
    },
    {
      "cell_type": "code",
      "metadata": {
        "id": "wpsI_VufNmgr",
        "colab": {
          "base_uri": "https://localhost:8080/",
          "height": 204
        },
        "outputId": "ed5a0c84-911d-44a8-f4ba-f0ff668527e8"
      },
      "source": [
        "df.head()"
      ],
      "execution_count": null,
      "outputs": [
        {
          "output_type": "execute_result",
          "data": {
            "text/html": [
              "<div>\n",
              "<style scoped>\n",
              "    .dataframe tbody tr th:only-of-type {\n",
              "        vertical-align: middle;\n",
              "    }\n",
              "\n",
              "    .dataframe tbody tr th {\n",
              "        vertical-align: top;\n",
              "    }\n",
              "\n",
              "    .dataframe thead th {\n",
              "        text-align: right;\n",
              "    }\n",
              "</style>\n",
              "<table border=\"1\" class=\"dataframe\">\n",
              "  <thead>\n",
              "    <tr style=\"text-align: right;\">\n",
              "      <th></th>\n",
              "      <th>age</th>\n",
              "      <th>sex</th>\n",
              "      <th>cp</th>\n",
              "      <th>trestbps</th>\n",
              "      <th>chol</th>\n",
              "      <th>fbs</th>\n",
              "      <th>restecg</th>\n",
              "      <th>thalach</th>\n",
              "      <th>exang</th>\n",
              "      <th>oldpeak</th>\n",
              "      <th>slope</th>\n",
              "      <th>ca</th>\n",
              "      <th>thal</th>\n",
              "      <th>target</th>\n",
              "    </tr>\n",
              "  </thead>\n",
              "  <tbody>\n",
              "    <tr>\n",
              "      <th>0</th>\n",
              "      <td>63</td>\n",
              "      <td>1</td>\n",
              "      <td>3</td>\n",
              "      <td>145</td>\n",
              "      <td>233</td>\n",
              "      <td>1</td>\n",
              "      <td>0</td>\n",
              "      <td>150</td>\n",
              "      <td>0</td>\n",
              "      <td>2.3</td>\n",
              "      <td>0</td>\n",
              "      <td>0</td>\n",
              "      <td>1</td>\n",
              "      <td>1</td>\n",
              "    </tr>\n",
              "    <tr>\n",
              "      <th>1</th>\n",
              "      <td>37</td>\n",
              "      <td>1</td>\n",
              "      <td>2</td>\n",
              "      <td>130</td>\n",
              "      <td>250</td>\n",
              "      <td>0</td>\n",
              "      <td>1</td>\n",
              "      <td>187</td>\n",
              "      <td>0</td>\n",
              "      <td>3.5</td>\n",
              "      <td>0</td>\n",
              "      <td>0</td>\n",
              "      <td>2</td>\n",
              "      <td>1</td>\n",
              "    </tr>\n",
              "    <tr>\n",
              "      <th>2</th>\n",
              "      <td>41</td>\n",
              "      <td>0</td>\n",
              "      <td>1</td>\n",
              "      <td>130</td>\n",
              "      <td>204</td>\n",
              "      <td>0</td>\n",
              "      <td>0</td>\n",
              "      <td>172</td>\n",
              "      <td>0</td>\n",
              "      <td>1.4</td>\n",
              "      <td>2</td>\n",
              "      <td>0</td>\n",
              "      <td>2</td>\n",
              "      <td>1</td>\n",
              "    </tr>\n",
              "    <tr>\n",
              "      <th>3</th>\n",
              "      <td>56</td>\n",
              "      <td>1</td>\n",
              "      <td>1</td>\n",
              "      <td>120</td>\n",
              "      <td>236</td>\n",
              "      <td>0</td>\n",
              "      <td>1</td>\n",
              "      <td>178</td>\n",
              "      <td>0</td>\n",
              "      <td>0.8</td>\n",
              "      <td>2</td>\n",
              "      <td>0</td>\n",
              "      <td>2</td>\n",
              "      <td>1</td>\n",
              "    </tr>\n",
              "    <tr>\n",
              "      <th>4</th>\n",
              "      <td>57</td>\n",
              "      <td>0</td>\n",
              "      <td>0</td>\n",
              "      <td>120</td>\n",
              "      <td>354</td>\n",
              "      <td>0</td>\n",
              "      <td>1</td>\n",
              "      <td>163</td>\n",
              "      <td>1</td>\n",
              "      <td>0.6</td>\n",
              "      <td>2</td>\n",
              "      <td>0</td>\n",
              "      <td>2</td>\n",
              "      <td>1</td>\n",
              "    </tr>\n",
              "  </tbody>\n",
              "</table>\n",
              "</div>"
            ],
            "text/plain": [
              "   age  sex  cp  trestbps  chol  fbs  ...  exang  oldpeak  slope  ca  thal  target\n",
              "0   63    1   3       145   233    1  ...      0      2.3      0   0     1       1\n",
              "1   37    1   2       130   250    0  ...      0      3.5      0   0     2       1\n",
              "2   41    0   1       130   204    0  ...      0      1.4      2   0     2       1\n",
              "3   56    1   1       120   236    0  ...      0      0.8      2   0     2       1\n",
              "4   57    0   0       120   354    0  ...      1      0.6      2   0     2       1\n",
              "\n",
              "[5 rows x 14 columns]"
            ]
          },
          "metadata": {
            "tags": []
          },
          "execution_count": 46
        }
      ]
    },
    {
      "cell_type": "code",
      "metadata": {
        "id": "jLGlQoSHNo7l",
        "colab": {
          "base_uri": "https://localhost:8080/"
        },
        "outputId": "e9d02f7f-78f5-42c6-ff31-fd936bd3e002"
      },
      "source": [
        "len(df)"
      ],
      "execution_count": null,
      "outputs": [
        {
          "output_type": "execute_result",
          "data": {
            "text/plain": [
              "303"
            ]
          },
          "metadata": {
            "tags": []
          },
          "execution_count": 47
        }
      ]
    },
    {
      "cell_type": "code",
      "metadata": {
        "id": "OuTVL7XPNpXz",
        "colab": {
          "base_uri": "https://localhost:8080/"
        },
        "outputId": "aa85103d-a2e5-4d7e-e635-eb64b16127e3"
      },
      "source": [
        "df.target.value_counts()"
      ],
      "execution_count": null,
      "outputs": [
        {
          "output_type": "execute_result",
          "data": {
            "text/plain": [
              "1    165\n",
              "0    138\n",
              "Name: target, dtype: int64"
            ]
          },
          "metadata": {
            "tags": []
          },
          "execution_count": 48
        }
      ]
    },
    {
      "cell_type": "code",
      "metadata": {
        "id": "acdA_j2KPdBE"
      },
      "source": [
        "from sklearn.preprocessing import PolynomialFeatures"
      ],
      "execution_count": null,
      "outputs": []
    },
    {
      "cell_type": "markdown",
      "metadata": {
        "id": "bhScKkn-aqq8"
      },
      "source": [
        "## Полиномиальные признаки"
      ]
    },
    {
      "cell_type": "code",
      "metadata": {
        "id": "lORdnzKNNsrE"
      },
      "source": [
        "# нормализация\n",
        "def normalize(df, df_type = 'train', mean = None, std = None):\n",
        "    if df_type == 'train':\n",
        "        X_train = df.drop(columns=['target']).values\n",
        "        y_train = df['target'].values\n",
        "\n",
        "        mean = X_train.mean(axis=0)\n",
        "        std = X_train.std(axis=0)\n",
        "\n",
        "        X_train = (X_train - mean)/std\n",
        "\n",
        "        return X_train, y_train, mean, std\n",
        "    else:\n",
        "        X_train = df.drop(columns=['target']).values\n",
        "        y_train = df['target'].values\n",
        "\n",
        "        return (X_train - mean)/std, y_train, mean, std"
      ],
      "execution_count": null,
      "outputs": []
    },
    {
      "cell_type": "code",
      "metadata": {
        "id": "lYnBuki7RWYH"
      },
      "source": [
        "train_size = 0.8\n",
        "\n",
        "# перемешка\n",
        "df = df.sample(frac=1).reset_index(drop=True)\n",
        "\n",
        "X_train, y_train, mean, std = normalize(df[:int(train_size*len(df))])\n",
        "X_test, y_test, mean, std = normalize(df[int(train_size*len(df)):], df_type = 'test', mean = mean, std = std)"
      ],
      "execution_count": null,
      "outputs": []
    },
    {
      "cell_type": "code",
      "metadata": {
        "id": "2929ZAi1SfDJ",
        "colab": {
          "base_uri": "https://localhost:8080/"
        },
        "outputId": "a1aeeefa-ce22-489d-cd6d-53711b3a07ae"
      },
      "source": [
        "X_train.shape, X_test.shape"
      ],
      "execution_count": null,
      "outputs": [
        {
          "output_type": "execute_result",
          "data": {
            "text/plain": [
              "((242, 13), (61, 13))"
            ]
          },
          "metadata": {
            "tags": []
          },
          "execution_count": 52
        }
      ]
    },
    {
      "cell_type": "code",
      "metadata": {
        "id": "_K-K2QzVVtvB",
        "colab": {
          "base_uri": "https://localhost:8080/"
        },
        "outputId": "7f166be6-dca1-4034-d687-5c6c335e56ac"
      },
      "source": [
        "y_train.shape, y_test.shape"
      ],
      "execution_count": null,
      "outputs": [
        {
          "output_type": "execute_result",
          "data": {
            "text/plain": [
              "((242,), (61,))"
            ]
          },
          "metadata": {
            "tags": []
          },
          "execution_count": 53
        }
      ]
    },
    {
      "cell_type": "code",
      "metadata": {
        "id": "z6zfY-wYSvu-",
        "colab": {
          "base_uri": "https://localhost:8080/"
        },
        "outputId": "581e3d2d-1b0c-4cc6-e967-a44d269bfbeb"
      },
      "source": [
        "X_train"
      ],
      "execution_count": null,
      "outputs": [
        {
          "output_type": "execute_result",
          "data": {
            "text/plain": [
              "array([[ 0.86832466, -1.61614984,  1.00712289, ..., -0.71369147,\n",
              "         0.30612609,  1.07105508],\n",
              "       [ 1.09342865, -1.61614984, -0.93489894, ..., -0.71369147,\n",
              "         1.32095503, -0.54891573],\n",
              "       [-2.17057911,  0.61875451,  0.03611198, ...,  0.93119744,\n",
              "        -0.70870286, -0.54891573],\n",
              "       ...,\n",
              "       [-0.59485123, -1.61614984, -0.93489894, ...,  0.93119744,\n",
              "        -0.70870286, -0.54891573],\n",
              "       [-0.9325072 ,  0.61875451, -0.93489894, ...,  0.93119744,\n",
              "        -0.70870286,  1.07105508],\n",
              "       [ 0.3055647 , -1.61614984, -0.93489894, ..., -0.71369147,\n",
              "        -0.70870286,  1.07105508]])"
            ]
          },
          "metadata": {
            "tags": []
          },
          "execution_count": 54
        }
      ]
    },
    {
      "cell_type": "markdown",
      "metadata": {
        "id": "c0hHGUzabQud"
      },
      "source": [
        "## Создание полиномиальных"
      ]
    },
    {
      "cell_type": "code",
      "metadata": {
        "id": "rGM49N74S0XS"
      },
      "source": [
        "def create_polinomial(X, degree = 2):\n",
        "    return PolynomialFeatures(degree).fit_transform(X)"
      ],
      "execution_count": null,
      "outputs": []
    },
    {
      "cell_type": "code",
      "metadata": {
        "id": "wODagqyETZBV"
      },
      "source": [
        "X_train = create_polinomial(X_train, 2)\n",
        "X_test = create_polinomial(X_test, 2)"
      ],
      "execution_count": null,
      "outputs": []
    },
    {
      "cell_type": "code",
      "metadata": {
        "id": "JlJPP58GTfXI",
        "colab": {
          "base_uri": "https://localhost:8080/"
        },
        "outputId": "c31be61e-f982-4019-955c-727eeaa95f54"
      },
      "source": [
        "X_train.shape, X_test.shape"
      ],
      "execution_count": null,
      "outputs": [
        {
          "output_type": "execute_result",
          "data": {
            "text/plain": [
              "((242, 105), (61, 105))"
            ]
          },
          "metadata": {
            "tags": []
          },
          "execution_count": 57
        }
      ]
    },
    {
      "cell_type": "markdown",
      "metadata": {
        "id": "QGRJEOaGbUMj"
      },
      "source": [
        "## Аугментация"
      ]
    },
    {
      "cell_type": "code",
      "metadata": {
        "id": "lb_YN9N5Tt_3"
      },
      "source": [
        "def oversample_data(X, y):\n",
        "    return ADASYN(sampling_strategy='minority').fit_resample(np.array(X), np.array(y))"
      ],
      "execution_count": null,
      "outputs": []
    },
    {
      "cell_type": "code",
      "metadata": {
        "id": "Iue_Wtg5U7Uf"
      },
      "source": [
        "def undersample_data(X, y):\n",
        "    return TomekLinks().fit_resample(np.array(X), np.array(y))"
      ],
      "execution_count": null,
      "outputs": []
    },
    {
      "cell_type": "code",
      "metadata": {
        "id": "lAA5subnU4-Y"
      },
      "source": [
        "def augment_data(X, y):\n",
        "    try:\n",
        "        X, y = oversample_data(X, y)\n",
        "    except:\n",
        "        pass\n",
        "    # try:\n",
        "    #     X, y = undersample_data(X, y)\n",
        "    # except:\n",
        "    #     pass\n",
        "    return X, y"
      ],
      "execution_count": null,
      "outputs": []
    },
    {
      "cell_type": "code",
      "metadata": {
        "id": "jEGwmzNIWiqG"
      },
      "source": [
        "X_train, y_train = augment_data(X_train, y_train)"
      ],
      "execution_count": null,
      "outputs": []
    },
    {
      "cell_type": "code",
      "metadata": {
        "id": "-S8OH1DcXC2F",
        "colab": {
          "base_uri": "https://localhost:8080/"
        },
        "outputId": "aaa004c2-b06d-4417-ab07-96d370b9f862"
      },
      "source": [
        "X_train.shape, y_train.shape"
      ],
      "execution_count": null,
      "outputs": [
        {
          "output_type": "execute_result",
          "data": {
            "text/plain": [
              "((242, 105), (242,))"
            ]
          },
          "metadata": {
            "tags": []
          },
          "execution_count": 62
        }
      ]
    },
    {
      "cell_type": "markdown",
      "metadata": {
        "id": "p69dlvw7bX6T"
      },
      "source": [
        "## Алгоритмы"
      ]
    },
    {
      "cell_type": "code",
      "metadata": {
        "id": "fFzDD5oAXFKD"
      },
      "source": [
        "from sklearn.svm import SVC"
      ],
      "execution_count": null,
      "outputs": []
    },
    {
      "cell_type": "code",
      "metadata": {
        "id": "qxOwqc7DXh62",
        "colab": {
          "base_uri": "https://localhost:8080/"
        },
        "outputId": "51b7d4e1-bda3-4895-98c5-231d1bfca016"
      },
      "source": [
        "alg = SVC()\n",
        "\n",
        "grid = {'C': np.array(np.linspace(-5, 5, 10), dtype='float'),\n",
        "        'kernel': ['linear', 'poly', 'rbf', 'sigmoid'],\n",
        "        }\n",
        "\n",
        "gs = GridSearchCV(alg, grid, verbose=2, n_jobs = -1, scoring = 'f1')\n",
        "gs.fit(X_train, y_train)\n",
        "gs.best_params_, gs.best_score_"
      ],
      "execution_count": null,
      "outputs": [
        {
          "output_type": "stream",
          "text": [
            "Fitting 5 folds for each of 40 candidates, totalling 200 fits\n"
          ],
          "name": "stdout"
        },
        {
          "output_type": "stream",
          "text": [
            "/usr/local/lib/python3.6/dist-packages/sklearn/model_selection/_search.py:921: UserWarning: One or more of the test scores are non-finite: [       nan        nan        nan        nan        nan        nan\n",
            "        nan        nan        nan        nan        nan        nan\n",
            "        nan        nan        nan        nan        nan        nan\n",
            "        nan        nan 0.70934343 0.74472683 0.77824243 0.81681088\n",
            " 0.72095359 0.75839161 0.80719978 0.81140158 0.70051792 0.76039298\n",
            " 0.76818026 0.80700339 0.70806509 0.76535544 0.77160114 0.78938819\n",
            " 0.70806509 0.75719045 0.7698715  0.78125589]\n",
            "  category=UserWarning\n"
          ],
          "name": "stderr"
        },
        {
          "output_type": "execute_result",
          "data": {
            "text/plain": [
              "({'C': 0.5555555555555554, 'kernel': 'sigmoid'}, 0.8168108808327279)"
            ]
          },
          "metadata": {
            "tags": []
          },
          "execution_count": 64
        }
      ]
    },
    {
      "cell_type": "code",
      "metadata": {
        "id": "IOV4lhQLYB1f"
      },
      "source": [
        "alg = SVC(C =  0.55, kernel = 'sigmoid')\n",
        "alg.fit(X_train, y_train)\n",
        "preds = alg.predict(X_test)"
      ],
      "execution_count": null,
      "outputs": []
    },
    {
      "cell_type": "code",
      "metadata": {
        "id": "ByTzw-7kYnQS",
        "colab": {
          "base_uri": "https://localhost:8080/"
        },
        "outputId": "b4347c62-821f-4c8d-d083-c19e1466d990"
      },
      "source": [
        "from sklearn import metrics\n",
        "\n",
        "print(metrics.classification_report(y_test, preds))"
      ],
      "execution_count": null,
      "outputs": [
        {
          "output_type": "stream",
          "text": [
            "              precision    recall  f1-score   support\n",
            "\n",
            "           0       0.91      0.77      0.83        26\n",
            "           1       0.85      0.94      0.89        35\n",
            "\n",
            "    accuracy                           0.87        61\n",
            "   macro avg       0.88      0.86      0.86        61\n",
            "weighted avg       0.87      0.87      0.87        61\n",
            "\n"
          ],
          "name": "stdout"
        }
      ]
    },
    {
      "cell_type": "markdown",
      "metadata": {
        "id": "IStc1RnpbapB"
      },
      "source": [
        "## Оценка репрезентативности данных"
      ]
    },
    {
      "cell_type": "code",
      "metadata": {
        "id": "yd_aOhYGYYpH",
        "colab": {
          "base_uri": "https://localhost:8080/"
        },
        "outputId": "335dd7c2-2979-4dfc-b516-ed5e552d5dec"
      },
      "source": [
        "results = []\n",
        "\n",
        "for i in range(20):\n",
        "    train_size = 0.8\n",
        "    # перемешка\n",
        "    df = df.sample(frac=1).reset_index(drop=True)\n",
        "    # нормализация\n",
        "    X_train, y_train, mean, std = normalize(df[:int(train_size*len(df))])\n",
        "    X_test, y_test, mean, std = normalize(df[int(train_size*len(df)):], df_type = 'test', mean = mean, std = std)\n",
        "    # полиномиальные\n",
        "    X_train = create_polinomial(X_train, 2)\n",
        "    X_test = create_polinomial(X_test, 2)  \n",
        "    # аугментация\n",
        "    X_train, y_train = augment_data(X_train, y_train)\n",
        "    # алгоритмы\n",
        "    alg = SVC()\n",
        "    grid = {'C': np.array(np.linspace(-5, 5, 10), dtype='float'),\n",
        "            'kernel': ['linear', 'poly', 'rbf', 'sigmoid'],\n",
        "            }\n",
        "\n",
        "    gs = GridSearchCV(alg, grid, n_jobs = -1, scoring = 'f1')\n",
        "    gs.fit(X_train, y_train)\n",
        "    \n",
        "    print(gs.best_score_)\n",
        "    results.append(gs.best_score_)"
      ],
      "execution_count": null,
      "outputs": [
        {
          "output_type": "stream",
          "text": [
            "/usr/local/lib/python3.6/dist-packages/sklearn/model_selection/_search.py:921: UserWarning: One or more of the test scores are non-finite: [       nan        nan        nan        nan        nan        nan\n",
            "        nan        nan        nan        nan        nan        nan\n",
            "        nan        nan        nan        nan        nan        nan\n",
            "        nan        nan 0.76281513 0.73544069 0.78995663 0.83595948\n",
            " 0.74075425 0.74534512 0.81819038 0.8209394  0.74322179 0.74708277\n",
            " 0.80035932 0.79717342 0.74322179 0.75569986 0.79422561 0.80236812\n",
            " 0.74322179 0.75635386 0.80657374 0.8006256 ]\n",
            "  category=UserWarning\n"
          ],
          "name": "stderr"
        },
        {
          "output_type": "stream",
          "text": [
            "0.8359594836949658\n"
          ],
          "name": "stdout"
        },
        {
          "output_type": "stream",
          "text": [
            "/usr/local/lib/python3.6/dist-packages/sklearn/model_selection/_search.py:921: UserWarning: One or more of the test scores are non-finite: [       nan        nan        nan        nan        nan        nan\n",
            "        nan        nan        nan        nan        nan        nan\n",
            "        nan        nan        nan        nan        nan        nan\n",
            "        nan        nan 0.76355662 0.73848769 0.83052246 0.81981964\n",
            " 0.75073263 0.75083916 0.82896992 0.79557645 0.74730406 0.76336996\n",
            " 0.82395031 0.79096503 0.74730406 0.76780702 0.81461698 0.78701092\n",
            " 0.74730406 0.77959345 0.80251996 0.77715074]\n",
            "  category=UserWarning\n"
          ],
          "name": "stderr"
        },
        {
          "output_type": "stream",
          "text": [
            "0.8305224557166844\n"
          ],
          "name": "stdout"
        },
        {
          "output_type": "stream",
          "text": [
            "/usr/local/lib/python3.6/dist-packages/sklearn/model_selection/_search.py:921: UserWarning: One or more of the test scores are non-finite: [       nan        nan        nan        nan        nan        nan\n",
            "        nan        nan        nan        nan        nan        nan\n",
            "        nan        nan        nan        nan        nan        nan\n",
            "        nan        nan 0.8107013  0.72298146 0.73823343 0.75911848\n",
            " 0.80726839 0.74468883 0.78237072 0.76424872 0.80929196 0.76337625\n",
            " 0.81546725 0.76132827 0.80929196 0.77155215 0.82188327 0.76921388\n",
            " 0.80929196 0.77488498 0.81617827 0.74554633]\n",
            "  category=UserWarning\n"
          ],
          "name": "stderr"
        },
        {
          "output_type": "stream",
          "text": [
            "0.8218832739587457\n"
          ],
          "name": "stdout"
        },
        {
          "output_type": "stream",
          "text": [
            "/usr/local/lib/python3.6/dist-packages/sklearn/model_selection/_search.py:921: UserWarning: One or more of the test scores are non-finite: [       nan        nan        nan        nan        nan        nan\n",
            "        nan        nan        nan        nan        nan        nan\n",
            "        nan        nan        nan        nan        nan        nan\n",
            "        nan        nan 0.74736033 0.73099145 0.80025675 0.84318124\n",
            " 0.72330958 0.75120752 0.81946174 0.83449157 0.72330958 0.7571862\n",
            " 0.81844586 0.80356992 0.72330958 0.75721124 0.81913832 0.78542435\n",
            " 0.72330958 0.75746109 0.8063629  0.80560184]\n",
            "  category=UserWarning\n"
          ],
          "name": "stderr"
        },
        {
          "output_type": "stream",
          "text": [
            "0.8431812385573346\n"
          ],
          "name": "stdout"
        },
        {
          "output_type": "stream",
          "text": [
            "/usr/local/lib/python3.6/dist-packages/sklearn/model_selection/_search.py:921: UserWarning: One or more of the test scores are non-finite: [       nan        nan        nan        nan        nan        nan\n",
            "        nan        nan        nan        nan        nan        nan\n",
            "        nan        nan        nan        nan        nan        nan\n",
            "        nan        nan 0.81772565 0.72849038 0.74734766 0.79376889\n",
            " 0.8028457  0.75509354 0.79077075 0.8064577  0.8028457  0.76487529\n",
            " 0.81554073 0.76010571 0.8028457  0.77429346 0.83795264 0.74399728\n",
            " 0.8028457  0.78102013 0.83379679 0.74203529]\n",
            "  category=UserWarning\n"
          ],
          "name": "stderr"
        },
        {
          "output_type": "stream",
          "text": [
            "0.8379526355996945\n"
          ],
          "name": "stdout"
        },
        {
          "output_type": "stream",
          "text": [
            "/usr/local/lib/python3.6/dist-packages/sklearn/model_selection/_search.py:921: UserWarning: One or more of the test scores are non-finite: [       nan        nan        nan        nan        nan        nan\n",
            "        nan        nan        nan        nan        nan        nan\n",
            "        nan        nan        nan        nan        nan        nan\n",
            "        nan        nan 0.77548358 0.71942807 0.7807663  0.80460032\n",
            " 0.76611259 0.7518725  0.78518519 0.75749329 0.75634953 0.74312091\n",
            " 0.7920848  0.75229483 0.75402272 0.74241822 0.7729797  0.760867\n",
            " 0.75402272 0.74222088 0.77033811 0.76175614]\n",
            "  category=UserWarning\n"
          ],
          "name": "stderr"
        },
        {
          "output_type": "stream",
          "text": [
            "0.8046003150576224\n"
          ],
          "name": "stdout"
        },
        {
          "output_type": "stream",
          "text": [
            "/usr/local/lib/python3.6/dist-packages/sklearn/model_selection/_search.py:921: UserWarning: One or more of the test scores are non-finite: [       nan        nan        nan        nan        nan        nan\n",
            "        nan        nan        nan        nan        nan        nan\n",
            "        nan        nan        nan        nan        nan        nan\n",
            "        nan        nan 0.79933865 0.74017056 0.7788091  0.80139594\n",
            " 0.79337264 0.74337071 0.78940979 0.76544229 0.78880121 0.76045555\n",
            " 0.79173052 0.75060984 0.78880121 0.7612336  0.78643085 0.73425989\n",
            " 0.78880121 0.77068312 0.78538531 0.74885024]\n",
            "  category=UserWarning\n"
          ],
          "name": "stderr"
        },
        {
          "output_type": "stream",
          "text": [
            "0.8013959394902781\n"
          ],
          "name": "stdout"
        },
        {
          "output_type": "stream",
          "text": [
            "/usr/local/lib/python3.6/dist-packages/sklearn/model_selection/_search.py:921: UserWarning: One or more of the test scores are non-finite: [       nan        nan        nan        nan        nan        nan\n",
            "        nan        nan        nan        nan        nan        nan\n",
            "        nan        nan        nan        nan        nan        nan\n",
            "        nan        nan 0.74778179 0.72554593 0.76884958 0.83399988\n",
            " 0.73045799 0.74161139 0.78705318 0.79225419 0.72721551 0.74697011\n",
            " 0.78731097 0.77261231 0.72554884 0.74933982 0.78230061 0.78322662\n",
            " 0.72554884 0.75693952 0.78836539 0.77790061]\n",
            "  category=UserWarning\n"
          ],
          "name": "stderr"
        },
        {
          "output_type": "stream",
          "text": [
            "0.8339998758280567\n"
          ],
          "name": "stdout"
        },
        {
          "output_type": "stream",
          "text": [
            "/usr/local/lib/python3.6/dist-packages/sklearn/model_selection/_search.py:921: UserWarning: One or more of the test scores are non-finite: [       nan        nan        nan        nan        nan        nan\n",
            "        nan        nan        nan        nan        nan        nan\n",
            "        nan        nan        nan        nan        nan        nan\n",
            "        nan        nan 0.77148449 0.71010385 0.78278405 0.82039831\n",
            " 0.73723206 0.72576209 0.80075018 0.78617189 0.73723206 0.72296579\n",
            " 0.78603387 0.78147567 0.73723206 0.73321873 0.77990402 0.75627329\n",
            " 0.73723206 0.74429648 0.78131109 0.76587987]\n",
            "  category=UserWarning\n"
          ],
          "name": "stderr"
        },
        {
          "output_type": "stream",
          "text": [
            "0.820398310928687\n"
          ],
          "name": "stdout"
        },
        {
          "output_type": "stream",
          "text": [
            "/usr/local/lib/python3.6/dist-packages/sklearn/model_selection/_search.py:921: UserWarning: One or more of the test scores are non-finite: [       nan        nan        nan        nan        nan        nan\n",
            "        nan        nan        nan        nan        nan        nan\n",
            "        nan        nan        nan        nan        nan        nan\n",
            "        nan        nan 0.78308233 0.71966693 0.77822923 0.82387397\n",
            " 0.78841751 0.75481475 0.79006767 0.8204975  0.78841751 0.77307786\n",
            " 0.78605612 0.81702845 0.78841751 0.76363015 0.79615238 0.81063152\n",
            " 0.78841751 0.76716155 0.80026074 0.79590906]\n",
            "  category=UserWarning\n"
          ],
          "name": "stderr"
        },
        {
          "output_type": "stream",
          "text": [
            "0.8238739745538709\n"
          ],
          "name": "stdout"
        },
        {
          "output_type": "stream",
          "text": [
            "/usr/local/lib/python3.6/dist-packages/sklearn/model_selection/_search.py:921: UserWarning: One or more of the test scores are non-finite: [       nan        nan        nan        nan        nan        nan\n",
            "        nan        nan        nan        nan        nan        nan\n",
            "        nan        nan        nan        nan        nan        nan\n",
            "        nan        nan 0.77545958 0.73741261 0.79770631 0.78106465\n",
            " 0.7908466  0.7465661  0.80092052 0.79006519 0.7908466  0.73765349\n",
            " 0.79091588 0.74866269 0.7908466  0.75132583 0.7989739  0.74093199\n",
            " 0.7908466  0.75339623 0.79737374 0.74736238]\n",
            "  category=UserWarning\n"
          ],
          "name": "stderr"
        },
        {
          "output_type": "stream",
          "text": [
            "0.800920517348624\n"
          ],
          "name": "stdout"
        },
        {
          "output_type": "stream",
          "text": [
            "/usr/local/lib/python3.6/dist-packages/sklearn/model_selection/_search.py:921: UserWarning: One or more of the test scores are non-finite: [       nan        nan        nan        nan        nan        nan\n",
            "        nan        nan        nan        nan        nan        nan\n",
            "        nan        nan        nan        nan        nan        nan\n",
            "        nan        nan 0.77114846 0.72388892 0.81353804 0.85098811\n",
            " 0.75991306 0.75201507 0.8254451  0.85469355 0.75991306 0.75456838\n",
            " 0.83830116 0.82145225 0.75991306 0.76983864 0.84407739 0.80163901\n",
            " 0.75991306 0.77359163 0.84133882 0.790014  ]\n",
            "  category=UserWarning\n"
          ],
          "name": "stderr"
        },
        {
          "output_type": "stream",
          "text": [
            "0.854693545625749\n"
          ],
          "name": "stdout"
        },
        {
          "output_type": "stream",
          "text": [
            "/usr/local/lib/python3.6/dist-packages/sklearn/model_selection/_search.py:921: UserWarning: One or more of the test scores are non-finite: [       nan        nan        nan        nan        nan        nan\n",
            "        nan        nan        nan        nan        nan        nan\n",
            "        nan        nan        nan        nan        nan        nan\n",
            "        nan        nan 0.75255079 0.7229225  0.78262231 0.83705322\n",
            " 0.74857196 0.7483871  0.80365502 0.79184275 0.74857196 0.76396201\n",
            " 0.79792068 0.7734558  0.74857196 0.77624222 0.79760352 0.74144205\n",
            " 0.74857196 0.77198157 0.79895222 0.73652841]\n",
            "  category=UserWarning\n"
          ],
          "name": "stderr"
        },
        {
          "output_type": "stream",
          "text": [
            "0.8370532241934887\n"
          ],
          "name": "stdout"
        },
        {
          "output_type": "stream",
          "text": [
            "/usr/local/lib/python3.6/dist-packages/sklearn/model_selection/_search.py:921: UserWarning: One or more of the test scores are non-finite: [       nan        nan        nan        nan        nan        nan\n",
            "        nan        nan        nan        nan        nan        nan\n",
            "        nan        nan        nan        nan        nan        nan\n",
            "        nan        nan 0.80063178 0.73824727 0.79900597 0.80128612\n",
            " 0.79658744 0.75876488 0.83715176 0.77295403 0.79658744 0.76679055\n",
            " 0.82972546 0.79007866 0.79658744 0.76092092 0.81488122 0.77050207\n",
            " 0.79658744 0.76837317 0.79895471 0.75772096]\n",
            "  category=UserWarning\n"
          ],
          "name": "stderr"
        },
        {
          "output_type": "stream",
          "text": [
            "0.8371517586695791\n"
          ],
          "name": "stdout"
        },
        {
          "output_type": "stream",
          "text": [
            "/usr/local/lib/python3.6/dist-packages/sklearn/model_selection/_search.py:921: UserWarning: One or more of the test scores are non-finite: [       nan        nan        nan        nan        nan        nan\n",
            "        nan        nan        nan        nan        nan        nan\n",
            "        nan        nan        nan        nan        nan        nan\n",
            "        nan        nan 0.75514859 0.72847235 0.78692519 0.80689487\n",
            " 0.78020408 0.75145351 0.8217821  0.76958872 0.77835223 0.76106708\n",
            " 0.80245955 0.77878473 0.77835223 0.76306828 0.79071634 0.76638223\n",
            " 0.77835223 0.76088037 0.78651305 0.78262157]\n",
            "  category=UserWarning\n"
          ],
          "name": "stderr"
        },
        {
          "output_type": "stream",
          "text": [
            "0.8217820996713143\n"
          ],
          "name": "stdout"
        },
        {
          "output_type": "stream",
          "text": [
            "/usr/local/lib/python3.6/dist-packages/sklearn/model_selection/_search.py:921: UserWarning: One or more of the test scores are non-finite: [       nan        nan        nan        nan        nan        nan\n",
            "        nan        nan        nan        nan        nan        nan\n",
            "        nan        nan        nan        nan        nan        nan\n",
            "        nan        nan 0.81302592 0.737741   0.8101051  0.84374847\n",
            " 0.80478661 0.7684162  0.82817481 0.78883233 0.80478661 0.782275\n",
            " 0.840574   0.75949022 0.80478661 0.78829244 0.84044306 0.74703876\n",
            " 0.80478661 0.80378847 0.81390577 0.75643865]\n",
            "  category=UserWarning\n"
          ],
          "name": "stderr"
        },
        {
          "output_type": "stream",
          "text": [
            "0.8437484707609493\n"
          ],
          "name": "stdout"
        },
        {
          "output_type": "stream",
          "text": [
            "/usr/local/lib/python3.6/dist-packages/sklearn/model_selection/_search.py:921: UserWarning: One or more of the test scores are non-finite: [       nan        nan        nan        nan        nan        nan\n",
            "        nan        nan        nan        nan        nan        nan\n",
            "        nan        nan        nan        nan        nan        nan\n",
            "        nan        nan 0.74708853 0.7286785  0.81936197 0.82806065\n",
            " 0.75537018 0.75728368 0.82815255 0.80927065 0.75796758 0.75059137\n",
            " 0.81023569 0.80083565 0.75796758 0.7537105  0.81023569 0.81519452\n",
            " 0.75796758 0.76322319 0.80290557 0.79446587]\n",
            "  category=UserWarning\n"
          ],
          "name": "stderr"
        },
        {
          "output_type": "stream",
          "text": [
            "0.8281525458668316\n"
          ],
          "name": "stdout"
        },
        {
          "output_type": "stream",
          "text": [
            "/usr/local/lib/python3.6/dist-packages/sklearn/model_selection/_search.py:921: UserWarning: One or more of the test scores are non-finite: [       nan        nan        nan        nan        nan        nan\n",
            "        nan        nan        nan        nan        nan        nan\n",
            "        nan        nan        nan        nan        nan        nan\n",
            "        nan        nan 0.77580919 0.7367765  0.81471849 0.81364541\n",
            " 0.76692949 0.76622103 0.82663055 0.82066942 0.76692949 0.76574081\n",
            " 0.83198076 0.83268986 0.76692949 0.7815986  0.84694063 0.81710182\n",
            " 0.76692949 0.794877   0.84725652 0.80593746]\n",
            "  category=UserWarning\n"
          ],
          "name": "stderr"
        },
        {
          "output_type": "stream",
          "text": [
            "0.8472565170678379\n"
          ],
          "name": "stdout"
        },
        {
          "output_type": "stream",
          "text": [
            "/usr/local/lib/python3.6/dist-packages/sklearn/model_selection/_search.py:921: UserWarning: One or more of the test scores are non-finite: [       nan        nan        nan        nan        nan        nan\n",
            "        nan        nan        nan        nan        nan        nan\n",
            "        nan        nan        nan        nan        nan        nan\n",
            "        nan        nan 0.74809548 0.72602632 0.75578226 0.8054086\n",
            " 0.74611518 0.75648693 0.79312652 0.77700668 0.74297435 0.75519794\n",
            " 0.79005809 0.79195353 0.74297435 0.76335354 0.78505668 0.76052381\n",
            " 0.74297435 0.76523165 0.77372727 0.74897098]\n",
            "  category=UserWarning\n"
          ],
          "name": "stderr"
        },
        {
          "output_type": "stream",
          "text": [
            "0.8054085998612704\n",
            "0.8320918132306213\n"
          ],
          "name": "stdout"
        },
        {
          "output_type": "stream",
          "text": [
            "/usr/local/lib/python3.6/dist-packages/sklearn/model_selection/_search.py:921: UserWarning: One or more of the test scores are non-finite: [       nan        nan        nan        nan        nan        nan\n",
            "        nan        nan        nan        nan        nan        nan\n",
            "        nan        nan        nan        nan        nan        nan\n",
            "        nan        nan 0.72516123 0.72189177 0.80682079 0.83209181\n",
            " 0.74219826 0.74630132 0.77539234 0.81862774 0.74219826 0.7519461\n",
            " 0.78189974 0.78178588 0.74219826 0.76406373 0.79164631 0.80697142\n",
            " 0.74219826 0.77051612 0.79053226 0.79956266]\n",
            "  category=UserWarning\n"
          ],
          "name": "stderr"
        }
      ]
    },
    {
      "cell_type": "code",
      "metadata": {
        "id": "8Mj_9QROZb4m",
        "colab": {
          "base_uri": "https://localhost:8080/",
          "height": 417
        },
        "outputId": "549e59b0-eb7a-4d3d-ff9c-e94b651d02ec"
      },
      "source": [
        "fig1, ax1 = plt.subplots()\n",
        "ax1.set_title('F1 в результате перемешки')\n",
        "ax1.boxplot(results)"
      ],
      "execution_count": null,
      "outputs": [
        {
          "output_type": "execute_result",
          "data": {
            "text/plain": [
              "{'boxes': [<matplotlib.lines.Line2D at 0x7f44b3534e48>],\n",
              " 'caps': [<matplotlib.lines.Line2D at 0x7f44b34d12b0>,\n",
              "  <matplotlib.lines.Line2D at 0x7f44b34d1080>],\n",
              " 'fliers': [<matplotlib.lines.Line2D at 0x7f44b2c53358>],\n",
              " 'means': [],\n",
              " 'medians': [<matplotlib.lines.Line2D at 0x7f44b34d1978>],\n",
              " 'whiskers': [<matplotlib.lines.Line2D at 0x7f44b34d1e80>,\n",
              "  <matplotlib.lines.Line2D at 0x7f44b34d1470>]}"
            ]
          },
          "metadata": {
            "tags": []
          },
          "execution_count": 68
        },
        {
          "output_type": "display_data",
          "data": {
            "image/png": "[encoded data removed]",
            "text/plain": [
              "<Figure size 432x288 with 1 Axes>"
            ]
          },
          "metadata": {
            "tags": [],
            "needs_background": "light"
          }
        }
      ]
    },
    {
      "cell_type": "markdown",
      "metadata": {
        "id": "K30FHoArbftg"
      },
      "source": [
        "## Кривые обучения"
      ]
    },
    {
      "cell_type": "code",
      "metadata": {
        "id": "f_V-bRZLaSv6"
      },
      "source": [
        "# отобразим данные и средние значения кривых между ними (так как берем k фолдов)\n",
        "def plot_with_err(x, data, **kwargs):\n",
        "    mu, std = data.mean(1), data.std(1)\n",
        "    lines = plt.plot(x, mu, '-', **kwargs)\n",
        "    plt.fill_between(x, mu - std, mu + std, edgecolor='none',\n",
        "    facecolor=lines[0].get_color(), alpha=0.2)"
      ],
      "execution_count": null,
      "outputs": []
    },
    {
      "cell_type": "code",
      "metadata": {
        "id": "7QW_L9P1ZhYr",
        "colab": {
          "base_uri": "https://localhost:8080/",
          "height": 627
        },
        "outputId": "42a75a85-2200-4de5-c0ad-0f320147176b"
      },
      "source": [
        "from sklearn.model_selection import learning_curve\n",
        "from sklearn.pipeline import Pipeline\n",
        "from sklearn.preprocessing import StandardScaler, PolynomialFeatures\n",
        "\n",
        "pipe = Pipeline([('scaler', StandardScaler()), # нормализуем\n",
        "                 ('poly', PolynomialFeatures(degree=3)), # создадим полиномиальных признаков (степень 2)\n",
        "                 ('alg', SVC())]) # svm\n",
        "\n",
        "N_train, val_train, val_test = learning_curve(pipe,\n",
        "                                              df.drop(columns=['target']).values, # X\n",
        "                                              df['target'].values, # y\n",
        "                                              train_sizes = np.linspace(0.1, 1, 10), # переменный размер обучающей выборки\n",
        "                                              cv=5, # 5 фолдов кросс вал\n",
        "                                              scoring='f1') # R2\n",
        "\n",
        "from matplotlib.pyplot import figure, ylim\n",
        "figure(figsize=(15, 10))\n",
        "\n",
        "ylim(0, 1)\n",
        "plot_with_err(N_train, val_train, label='training scores')\n",
        "plot_with_err(N_train, val_test, label='validation scores')\n",
        "plt.xlabel('Размер на Train')\n",
        "plt.ylabel('F1')\n",
        "plt.legend()"
      ],
      "execution_count": null,
      "outputs": [
        {
          "output_type": "execute_result",
          "data": {
            "text/plain": [
              "<matplotlib.legend.Legend at 0x7f44b35b1588>"
            ]
          },
          "metadata": {
            "tags": []
          },
          "execution_count": 70
        },
        {
          "output_type": "display_data",
          "data": {
            "image/png": "[encoded data removed]",
            "text/plain": [
              "<Figure size 1080x720 with 1 Axes>"
            ]
          },
          "metadata": {
            "tags": [],
            "needs_background": "light"
          }
        }
      ]
    },
    {
      "cell_type": "code",
      "metadata": {
        "id": "5ixbL54VaJHq"
      },
      "source": [
        ""
      ],
      "execution_count": null,
      "outputs": []
    }
  ]
}