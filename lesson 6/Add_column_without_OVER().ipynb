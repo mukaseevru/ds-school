{
  "nbformat": 4,
  "nbformat_minor": 0,
  "metadata": {
    "colab": {
      "name": "Add column without OVER().ipynb",
      "provenance": [],
      "collapsed_sections": [],
      "include_colab_link": true
    },
    "kernelspec": {
      "name": "python3",
      "display_name": "Python 3"
    }
  },
  "cells": [
    {
      "cell_type": "markdown",
      "metadata": {
        "id": "view-in-github",
        "colab_type": "text"
      },
      "source": [
        "<a href=\"https://colab.research.google.com/github/mukaseevru/ds-school/blob/main/lesson%206/Add_column_without_OVER().ipynb\" target=\"_parent\"><img src=\"https://colab.research.google.com/assets/colab-badge.svg\" alt=\"Open In Colab\"/></a>"
      ]
    },
    {
      "cell_type": "code",
      "metadata": {
        "colab": {
          "base_uri": "https://localhost:8080/"
        },
        "id": "dAglsJlB3OLq",
        "outputId": "5f17fe49-a5d6-4cc1-cb30-8e150e9d0928"
      },
      "source": [
        "from google.colab import drive\n",
        "drive.mount('/content/drive')"
      ],
      "execution_count": 1,
      "outputs": [
        {
          "output_type": "stream",
          "text": [
            "Drive already mounted at /content/drive; to attempt to forcibly remount, call drive.mount(\"/content/drive\", force_remount=True).\n"
          ],
          "name": "stdout"
        }
      ]
    },
    {
      "cell_type": "code",
      "metadata": {
        "id": "FZJh6NFAhaU_",
        "colab": {
          "base_uri": "https://localhost:8080/"
        },
        "outputId": "690703a7-4088-449c-ba4c-b6ab1b7c84c7"
      },
      "source": [
        "import sqlite3\n",
        "import os\n",
        "path = \"./drive/My Drive/my_databases\"\n",
        "if not os.path.exists(path):\n",
        "    os.mkdir(path)\n",
        "conn = sqlite3.connect(path + '/test.db')\n",
        "print(\"Opened database successfully\");"
      ],
      "execution_count": 2,
      "outputs": [
        {
          "output_type": "stream",
          "text": [
            "Opened database successfully\n"
          ],
          "name": "stdout"
        }
      ]
    },
    {
      "cell_type": "code",
      "metadata": {
        "id": "hHke_8Vehq5G"
      },
      "source": [
        "cursor = conn.cursor()\n",
        "cursor.executescript('''\n",
        "CREATE TABLE team_data(code integer PRIMARY KEY,\n",
        "                                     team text, \n",
        "                                     country text, \n",
        "                                     season integer, \n",
        "                                     total_goals integer);''')\n",
        "conn.commit()"
      ],
      "execution_count": 3,
      "outputs": []
    },
    {
      "cell_type": "code",
      "metadata": {
        "colab": {
          "base_uri": "https://localhost:8080/"
        },
        "id": "KV6p7ngjhins",
        "outputId": "95fac717-d0b4-4bc7-dc82-4d524de01d53"
      },
      "source": [
        "cursor.execute(\"INSERT INTO team_data VALUES(1, 'Real Madrid', 'Spain', 2019, 53);\")\n",
        "cursor.execute(\"INSERT INTO team_data VALUES(2, 'Barcelona', 'Spain', 2019, 47);\")\n",
        "sections = [(3, 'Arsenal', 'UK', 2019, 52), (4, 'Real Madrid', 'Spain', 2018, 49),\n",
        "            (5, 'Barcelona', 'Spain', 2018, 45), (6, 'Arsenal', 'UK', 2018, 50 )]\n",
        "cursor.executemany(\"INSERT INTO team_data VALUES (?, ?, ?, ?, ?)\", sections)"
      ],
      "execution_count": 4,
      "outputs": [
        {
          "output_type": "execute_result",
          "data": {
            "text/plain": [
              "<sqlite3.Cursor at 0x7fc47e07fce0>"
            ]
          },
          "metadata": {
            "tags": []
          },
          "execution_count": 4
        }
      ]
    },
    {
      "cell_type": "code",
      "metadata": {
        "id": "unj-HhfhMBlR",
        "colab": {
          "base_uri": "https://localhost:8080/"
        },
        "outputId": "1c1b5f9d-926d-45c2-9a61-b2593e73c13b"
      },
      "source": [
        "sql  = ''' SELECT * FROM team_data;'''\n",
        "cursor.execute(sql)\n",
        "for row in cursor:\n",
        "    print(row)"
      ],
      "execution_count": 5,
      "outputs": [
        {
          "output_type": "stream",
          "text": [
            "(1, 'Real Madrid', 'Spain', 2019, 53)\n",
            "(2, 'Barcelona', 'Spain', 2019, 47)\n",
            "(3, 'Arsenal', 'UK', 2019, 52)\n",
            "(4, 'Real Madrid', 'Spain', 2018, 49)\n",
            "(5, 'Barcelona', 'Spain', 2018, 45)\n",
            "(6, 'Arsenal', 'UK', 2018, 50)\n"
          ],
          "name": "stdout"
        }
      ]
    },
    {
      "cell_type": "code",
      "metadata": {
        "id": "_xkGEn95uh6W"
      },
      "source": [
        "sql = '''\n",
        "-- Создаем временную таблицу и добавляем столбец с количеством строк\n",
        "CREATE TABLE IF NOT EXISTS team_data_temp\n",
        "(code integer PRIMARY KEY,\n",
        "team text, \n",
        "country text, \n",
        "season integer, \n",
        "total_goals integer,\n",
        "count_str number\n",
        ");\n",
        "\n",
        "-- Заполняем временную таблицу\n",
        "INSERT INTO team_data_temp(code, team, country, season, total_goals, count_str)\n",
        "SELECT code, team, country, season, total_goals, (SELECT COUNT(*) AS count_str FROM team_data) FROM team_data;\n",
        "\n",
        "-- Удаляем старую таблицу\n",
        "DROP TABLE team_data;\n",
        "\n",
        "-- Переименовываем новую\n",
        "ALTER TABLE team_data_temp RENAME TO team_data;\n",
        "'''\n",
        "cursor.executescript(sql)\n",
        "for row in cursor:\n",
        "  print(row)"
      ],
      "execution_count": 6,
      "outputs": []
    },
    {
      "cell_type": "code",
      "metadata": {
        "id": "r9SeHPpgu73Z",
        "colab": {
          "base_uri": "https://localhost:8080/"
        },
        "outputId": "aa48c3f6-616c-4e05-fef6-1868398b0f6b"
      },
      "source": [
        "sql  = '''SELECT * FROM team_data;'''\n",
        "cursor.execute(sql)\n",
        "for row in cursor:\n",
        "    print(row)"
      ],
      "execution_count": 7,
      "outputs": [
        {
          "output_type": "stream",
          "text": [
            "(1, 'Real Madrid', 'Spain', 2019, 53, 6)\n",
            "(2, 'Barcelona', 'Spain', 2019, 47, 6)\n",
            "(3, 'Arsenal', 'UK', 2019, 52, 6)\n",
            "(4, 'Real Madrid', 'Spain', 2018, 49, 6)\n",
            "(5, 'Barcelona', 'Spain', 2018, 45, 6)\n",
            "(6, 'Arsenal', 'UK', 2018, 50, 6)\n"
          ],
          "name": "stdout"
        }
      ]
    },
    {
      "cell_type": "code",
      "metadata": {
        "id": "C00bszRb0mNF"
      },
      "source": [
        "sql  = '''DROP TABLE team_data;'''\n",
        "cursor.execute(sql)\n",
        "for row in cursor:\n",
        "    print(row)\n",
        "cursor.close()\n",
        "conn.commit()\n",
        "conn.close()"
      ],
      "execution_count": 8,
      "outputs": []
    }
  ]
}