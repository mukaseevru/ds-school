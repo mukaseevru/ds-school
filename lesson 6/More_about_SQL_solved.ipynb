{
  "nbformat": 4,
  "nbformat_minor": 0,
  "metadata": {
    "colab": {
      "name": "More_about_SQL_solved.ipynb",
      "provenance": [],
      "collapsed_sections": [],
      "include_colab_link": true
    },
    "kernelspec": {
      "name": "python3",
      "display_name": "Python 3"
    }
  },
  "cells": [
    {
      "cell_type": "markdown",
      "metadata": {
        "id": "view-in-github",
        "colab_type": "text"
      },
      "source": [
        "<a href=\"https://colab.research.google.com/github/mukaseevru/ds-school/blob/main/lesson%206/More_about_SQL_solved.ipynb\" target=\"_parent\"><img src=\"https://colab.research.google.com/assets/colab-badge.svg\" alt=\"Open In Colab\"/></a>"
      ]
    },
    {
      "cell_type": "markdown",
      "metadata": {
        "id": "fPu_17Y2qo8X"
      },
      "source": [
        "## План занятия\n",
        "\n",
        "- Повторим как создавать БД при помощи SQLalchemy\n",
        "- Разберем новые операторы в SQL\n",
        "- Разберем подробнее ORM (объектно-реляционное отображение) в SQLalchemy"
      ]
    },
    {
      "cell_type": "markdown",
      "metadata": {
        "id": "eug_b6nh7G83"
      },
      "source": [
        "(задание из презентации)"
      ]
    },
    {
      "cell_type": "code",
      "metadata": {
        "id": "BS7R-wFwTkiF"
      },
      "source": [
        "import matplotlib.pyplot as plt\n",
        "import pandas as pd\n",
        "import numpy as np"
      ],
      "execution_count": 1,
      "outputs": []
    },
    {
      "cell_type": "code",
      "metadata": {
        "colab": {
          "base_uri": "https://localhost:8080/"
        },
        "id": "98olMNYWJS4y",
        "outputId": "4f9aef3b-caf3-4847-fccb-22c4b3307ac3"
      },
      "source": [
        "prices = np.random.permutation(np.arange(10))\n",
        "prices"
      ],
      "execution_count": 2,
      "outputs": [
        {
          "output_type": "execute_result",
          "data": {
            "text/plain": [
              "array([0, 7, 1, 6, 5, 3, 8, 9, 4, 2])"
            ]
          },
          "metadata": {
            "tags": []
          },
          "execution_count": 2
        }
      ]
    },
    {
      "cell_type": "code",
      "metadata": {
        "colab": {
          "base_uri": "https://localhost:8080/"
        },
        "id": "EH4RpcYeJS7v",
        "outputId": "9b4de004-42c3-4337-de39-2d6e2dbb7d5f"
      },
      "source": [
        "k = 3\n",
        "for i in range(len(prices)):\n",
        "    n_leq = 0\n",
        "    for j in range(len(prices)):\n",
        "        if prices[j] >= prices[i]:\n",
        "            n_leq += 1\n",
        "    if n_leq == k:\n",
        "        print(prices[i])\n",
        "        break"
      ],
      "execution_count": 3,
      "outputs": [
        {
          "output_type": "stream",
          "text": [
            "7\n"
          ],
          "name": "stdout"
        }
      ]
    },
    {
      "cell_type": "markdown",
      "metadata": {
        "id": "BoZKQ5V3piYh"
      },
      "source": [
        "# SQLAlchemy. Recap"
      ]
    },
    {
      "cell_type": "code",
      "metadata": {
        "id": "0_PUKeLFHoXG"
      },
      "source": [
        "import sys\n",
        "from sqlalchemy import Column, ForeignKey, Integer, String\n",
        "from sqlalchemy.ext.declarative import declarative_base\n",
        "from sqlalchemy.orm import relationship\n",
        "from sqlalchemy import create_engine"
      ],
      "execution_count": 4,
      "outputs": []
    },
    {
      "cell_type": "code",
      "metadata": {
        "id": "XcyrGKGQNakJ"
      },
      "source": [
        "from IPython.display import display\n",
        "import pandas as pd\n",
        "import sqlalchemy\n",
        "\n",
        "def sql(query):\n",
        "    print()\n",
        "    print(query)\n",
        "    print()\n",
        "\n",
        "def get_results(query):\n",
        "    global engine\n",
        "    q = query.statement if isinstance(query, sqlalchemy.orm.query.Query) else query\n",
        "    return pd.read_sql(q, engine)\n",
        "\n",
        "def display_results(query):\n",
        "    df = get_results(query)\n",
        "    display(df)\n",
        "    #sql(query)\n"
      ],
      "execution_count": 5,
      "outputs": []
    },
    {
      "cell_type": "code",
      "metadata": {
        "id": "U9unHD1rHoZ-"
      },
      "source": [
        "Base = declarative_base()\n",
        "\n",
        "class Person(Base):\n",
        "    __tablename__= 'person'\n",
        "    id = Column(Integer, primary_key=True)\n",
        "    name = Column(String(250), nullable=False)\n",
        "    \n",
        "class Address(Base):\n",
        "    __tablename__ = 'address'\n",
        "    id = Column(Integer, primary_key=True)\n",
        "    country = Column(String(250))\n",
        "    state = Column(String(250))\n",
        "    street_name = Column(String(250))\n",
        "    street_number = Column(String(250))\n",
        "    post_code = Column(String(250))\n",
        "    person_id = Column(Integer, ForeignKey('person.id'))\n",
        "    person = relationship(Person)\n",
        "\n",
        "engine = create_engine('sqlite:///sqlalchemy_example.db')\n",
        "\n",
        "connection = engine.connect()\n",
        "\n",
        "Base.metadata.create_all(engine)"
      ],
      "execution_count": 6,
      "outputs": []
    },
    {
      "cell_type": "code",
      "metadata": {
        "id": "LkspRLHqHodh"
      },
      "source": [
        "from sqlalchemy import create_engine\n",
        "from sqlalchemy.orm import sessionmaker"
      ],
      "execution_count": 7,
      "outputs": []
    },
    {
      "cell_type": "code",
      "metadata": {
        "id": "85QKyqHBH92d"
      },
      "source": [
        "DBSession = sessionmaker(bind=engine)\n",
        "session = DBSession()\n",
        "\n",
        "new_person = Person(name='Nawin')\n",
        "session.add(new_person)\n",
        "session.commit()\n",
        "\n",
        "new_address = Address(post_code='48103',country = 'USA', state = 'WA', street_name ='West Huron Street',street_number ='1', person=new_person)\n",
        "session.add(new_address)\n",
        "session.commit()"
      ],
      "execution_count": 8,
      "outputs": []
    },
    {
      "cell_type": "code",
      "metadata": {
        "colab": {
          "base_uri": "https://localhost:8080/"
        },
        "id": "i2ZumUw_H-Ex",
        "outputId": "d26f5395-dae6-47f6-f4d3-4d70a5c2020a"
      },
      "source": [
        "engine.table_names()"
      ],
      "execution_count": 9,
      "outputs": [
        {
          "output_type": "execute_result",
          "data": {
            "text/plain": [
              "['address', 'person']"
            ]
          },
          "metadata": {
            "tags": []
          },
          "execution_count": 9
        }
      ]
    },
    {
      "cell_type": "code",
      "metadata": {
        "colab": {
          "base_uri": "https://localhost:8080/",
          "height": 421
        },
        "id": "v3N1k0QRNcwj",
        "outputId": "09c887ad-c5d0-4699-fa4c-927dfc6904cf"
      },
      "source": [
        "from sqlalchemy import select \n",
        "\n",
        "query = select([Person])\n",
        "display_results(query)"
      ],
      "execution_count": 10,
      "outputs": [
        {
          "output_type": "display_data",
          "data": {
            "text/html": [
              "<div>\n",
              "<style scoped>\n",
              "    .dataframe tbody tr th:only-of-type {\n",
              "        vertical-align: middle;\n",
              "    }\n",
              "\n",
              "    .dataframe tbody tr th {\n",
              "        vertical-align: top;\n",
              "    }\n",
              "\n",
              "    .dataframe thead th {\n",
              "        text-align: right;\n",
              "    }\n",
              "</style>\n",
              "<table border=\"1\" class=\"dataframe\">\n",
              "  <thead>\n",
              "    <tr style=\"text-align: right;\">\n",
              "      <th></th>\n",
              "      <th>id</th>\n",
              "      <th>name</th>\n",
              "    </tr>\n",
              "  </thead>\n",
              "  <tbody>\n",
              "    <tr>\n",
              "      <th>0</th>\n",
              "      <td>1</td>\n",
              "      <td>Nawin</td>\n",
              "    </tr>\n",
              "    <tr>\n",
              "      <th>1</th>\n",
              "      <td>2</td>\n",
              "      <td>Moshe</td>\n",
              "    </tr>\n",
              "    <tr>\n",
              "      <th>2</th>\n",
              "      <td>3</td>\n",
              "      <td>Lisa</td>\n",
              "    </tr>\n",
              "    <tr>\n",
              "      <th>3</th>\n",
              "      <td>4</td>\n",
              "      <td>Nika</td>\n",
              "    </tr>\n",
              "    <tr>\n",
              "      <th>4</th>\n",
              "      <td>5</td>\n",
              "      <td>Max</td>\n",
              "    </tr>\n",
              "    <tr>\n",
              "      <th>5</th>\n",
              "      <td>6</td>\n",
              "      <td>Dan</td>\n",
              "    </tr>\n",
              "    <tr>\n",
              "      <th>6</th>\n",
              "      <td>7</td>\n",
              "      <td>Alex</td>\n",
              "    </tr>\n",
              "    <tr>\n",
              "      <th>7</th>\n",
              "      <td>8</td>\n",
              "      <td>Nawin</td>\n",
              "    </tr>\n",
              "    <tr>\n",
              "      <th>8</th>\n",
              "      <td>9</td>\n",
              "      <td>Max</td>\n",
              "    </tr>\n",
              "    <tr>\n",
              "      <th>9</th>\n",
              "      <td>10</td>\n",
              "      <td>Dan</td>\n",
              "    </tr>\n",
              "    <tr>\n",
              "      <th>10</th>\n",
              "      <td>11</td>\n",
              "      <td>Alex</td>\n",
              "    </tr>\n",
              "    <tr>\n",
              "      <th>11</th>\n",
              "      <td>12</td>\n",
              "      <td>Nawin</td>\n",
              "    </tr>\n",
              "  </tbody>\n",
              "</table>\n",
              "</div>"
            ],
            "text/plain": [
              "    id   name\n",
              "0    1  Nawin\n",
              "1    2  Moshe\n",
              "2    3   Lisa\n",
              "3    4   Nika\n",
              "4    5    Max\n",
              "5    6    Dan\n",
              "6    7   Alex\n",
              "7    8  Nawin\n",
              "8    9    Max\n",
              "9   10    Dan\n",
              "10  11   Alex\n",
              "11  12  Nawin"
            ]
          },
          "metadata": {
            "tags": []
          }
        }
      ]
    },
    {
      "cell_type": "code",
      "metadata": {
        "colab": {
          "base_uri": "https://localhost:8080/",
          "height": 235
        },
        "id": "JIojZxdwacFy",
        "outputId": "bc1e7609-101c-4306-8dda-8cebfd2177bf"
      },
      "source": [
        "query = select([Address])\n",
        "display_results(query)"
      ],
      "execution_count": 11,
      "outputs": [
        {
          "output_type": "display_data",
          "data": {
            "text/html": [
              "<div>\n",
              "<style scoped>\n",
              "    .dataframe tbody tr th:only-of-type {\n",
              "        vertical-align: middle;\n",
              "    }\n",
              "\n",
              "    .dataframe tbody tr th {\n",
              "        vertical-align: top;\n",
              "    }\n",
              "\n",
              "    .dataframe thead th {\n",
              "        text-align: right;\n",
              "    }\n",
              "</style>\n",
              "<table border=\"1\" class=\"dataframe\">\n",
              "  <thead>\n",
              "    <tr style=\"text-align: right;\">\n",
              "      <th></th>\n",
              "      <th>id</th>\n",
              "      <th>country</th>\n",
              "      <th>state</th>\n",
              "      <th>street_name</th>\n",
              "      <th>street_number</th>\n",
              "      <th>post_code</th>\n",
              "      <th>person_id</th>\n",
              "    </tr>\n",
              "  </thead>\n",
              "  <tbody>\n",
              "    <tr>\n",
              "      <th>0</th>\n",
              "      <td>1</td>\n",
              "      <td>USA</td>\n",
              "      <td>WA</td>\n",
              "      <td>West Huron Street</td>\n",
              "      <td>1</td>\n",
              "      <td>48103</td>\n",
              "      <td>1</td>\n",
              "    </tr>\n",
              "    <tr>\n",
              "      <th>1</th>\n",
              "      <td>2</td>\n",
              "      <td>Russia</td>\n",
              "      <td>Moscow</td>\n",
              "      <td>Pervomay Street</td>\n",
              "      <td>42</td>\n",
              "      <td>141700</td>\n",
              "      <td>2</td>\n",
              "    </tr>\n",
              "    <tr>\n",
              "      <th>2</th>\n",
              "      <td>3</td>\n",
              "      <td>Russia</td>\n",
              "      <td>Moscow</td>\n",
              "      <td>Pervomay Street</td>\n",
              "      <td>42</td>\n",
              "      <td>141700</td>\n",
              "      <td>3</td>\n",
              "    </tr>\n",
              "    <tr>\n",
              "      <th>3</th>\n",
              "      <td>4</td>\n",
              "      <td>USA</td>\n",
              "      <td>CA</td>\n",
              "      <td>Green Street</td>\n",
              "      <td>104</td>\n",
              "      <td>655689</td>\n",
              "      <td>4</td>\n",
              "    </tr>\n",
              "    <tr>\n",
              "      <th>4</th>\n",
              "      <td>5</td>\n",
              "      <td>USA</td>\n",
              "      <td>WA</td>\n",
              "      <td>West Huron Street</td>\n",
              "      <td>1</td>\n",
              "      <td>48103</td>\n",
              "      <td>8</td>\n",
              "    </tr>\n",
              "    <tr>\n",
              "      <th>5</th>\n",
              "      <td>6</td>\n",
              "      <td>USA</td>\n",
              "      <td>WA</td>\n",
              "      <td>West Huron Street</td>\n",
              "      <td>1</td>\n",
              "      <td>48103</td>\n",
              "      <td>12</td>\n",
              "    </tr>\n",
              "  </tbody>\n",
              "</table>\n",
              "</div>"
            ],
            "text/plain": [
              "   id country   state        street_name street_number post_code  person_id\n",
              "0   1     USA      WA  West Huron Street             1     48103          1\n",
              "1   2  Russia  Moscow    Pervomay Street            42    141700          2\n",
              "2   3  Russia  Moscow    Pervomay Street            42    141700          3\n",
              "3   4     USA      CA       Green Street           104    655689          4\n",
              "4   5     USA      WA  West Huron Street             1     48103          8\n",
              "5   6     USA      WA  West Huron Street             1     48103         12"
            ]
          },
          "metadata": {
            "tags": []
          }
        }
      ]
    },
    {
      "cell_type": "markdown",
      "metadata": {
        "id": "Q9tgst13N3z7"
      },
      "source": [
        "Добавим несколько людей с разными адресами"
      ]
    },
    {
      "cell_type": "code",
      "metadata": {
        "id": "e6hvE5fqO4mI"
      },
      "source": [
        "from sqlalchemy import exists\n",
        "def record_exists(session, name):\n",
        "    return session.query(exists().where(Person.name == name)).scalar()"
      ],
      "execution_count": 12,
      "outputs": []
    },
    {
      "cell_type": "code",
      "metadata": {
        "colab": {
          "base_uri": "https://localhost:8080/"
        },
        "id": "_IEuM9rAO4ud",
        "outputId": "5ff0b8e6-228c-4be4-d9a9-935a19389bfa"
      },
      "source": [
        "record_exists(session, 'Nawin')"
      ],
      "execution_count": 13,
      "outputs": [
        {
          "output_type": "execute_result",
          "data": {
            "text/plain": [
              "True"
            ]
          },
          "metadata": {
            "tags": []
          },
          "execution_count": 13
        }
      ]
    },
    {
      "cell_type": "code",
      "metadata": {
        "colab": {
          "base_uri": "https://localhost:8080/"
        },
        "id": "EQ1xe2CNPsHN",
        "outputId": "06776f93-c531-4f62-94c1-2bd837c8ff07"
      },
      "source": [
        "record_exists(session, 'Lisa')"
      ],
      "execution_count": 14,
      "outputs": [
        {
          "output_type": "execute_result",
          "data": {
            "text/plain": [
              "True"
            ]
          },
          "metadata": {
            "tags": []
          },
          "execution_count": 14
        }
      ]
    },
    {
      "cell_type": "code",
      "metadata": {
        "id": "9f9xwmVfU7x9"
      },
      "source": [
        "names = ['Moshe', 'Lisa', 'Nika']\n",
        "adress_info = [('141700', 'Russia', 'Moscow', 'Pervomay Street', '42'), #Moshe adress\n",
        "               ('141700', 'Russia', 'Moscow', 'Pervomay Street', '42'), #Lisa adress\n",
        "               ('655689', 'USA', 'CA', 'Green Street', '104')] #Nika adress"
      ],
      "execution_count": 15,
      "outputs": []
    },
    {
      "cell_type": "code",
      "metadata": {
        "id": "ryWBclC4PZco",
        "colab": {
          "base_uri": "https://localhost:8080/"
        },
        "outputId": "43a725ca-6718-4de2-9ed0-74603e83c10b"
      },
      "source": [
        "for i, name, adress in zip(range(len(names)), names, adress_info):\n",
        "    if not record_exists(session, name):\n",
        "        new_person = Person(name=name)\n",
        "        new_address = Address(country=adress[1],state=adress[2], street_number=adress[4], post_code=adress[0],street_name =adress[3], person=new_person)\n",
        "        session.add(new_person)\n",
        "        session.add(new_address)\n",
        "    else:\n",
        "        print(\"Already exists, skipping...\")\n",
        "\n",
        "session.commit()"
      ],
      "execution_count": 16,
      "outputs": [
        {
          "output_type": "stream",
          "text": [
            "Already exists, skipping...\n",
            "Already exists, skipping...\n",
            "Already exists, skipping...\n"
          ],
          "name": "stdout"
        }
      ]
    },
    {
      "cell_type": "markdown",
      "metadata": {
        "id": "VpBJwAU8QJ92"
      },
      "source": [
        "Проверим теперь таблицу"
      ]
    },
    {
      "cell_type": "code",
      "metadata": {
        "colab": {
          "base_uri": "https://localhost:8080/",
          "height": 421
        },
        "id": "OmotKm8-PZgu",
        "outputId": "f5c15475-87ac-4521-8a0d-f8597b7a39d0"
      },
      "source": [
        "query = select([Person.id, Person.name])\n",
        "display_results(query)"
      ],
      "execution_count": 17,
      "outputs": [
        {
          "output_type": "display_data",
          "data": {
            "text/html": [
              "<div>\n",
              "<style scoped>\n",
              "    .dataframe tbody tr th:only-of-type {\n",
              "        vertical-align: middle;\n",
              "    }\n",
              "\n",
              "    .dataframe tbody tr th {\n",
              "        vertical-align: top;\n",
              "    }\n",
              "\n",
              "    .dataframe thead th {\n",
              "        text-align: right;\n",
              "    }\n",
              "</style>\n",
              "<table border=\"1\" class=\"dataframe\">\n",
              "  <thead>\n",
              "    <tr style=\"text-align: right;\">\n",
              "      <th></th>\n",
              "      <th>id</th>\n",
              "      <th>name</th>\n",
              "    </tr>\n",
              "  </thead>\n",
              "  <tbody>\n",
              "    <tr>\n",
              "      <th>0</th>\n",
              "      <td>1</td>\n",
              "      <td>Nawin</td>\n",
              "    </tr>\n",
              "    <tr>\n",
              "      <th>1</th>\n",
              "      <td>2</td>\n",
              "      <td>Moshe</td>\n",
              "    </tr>\n",
              "    <tr>\n",
              "      <th>2</th>\n",
              "      <td>3</td>\n",
              "      <td>Lisa</td>\n",
              "    </tr>\n",
              "    <tr>\n",
              "      <th>3</th>\n",
              "      <td>4</td>\n",
              "      <td>Nika</td>\n",
              "    </tr>\n",
              "    <tr>\n",
              "      <th>4</th>\n",
              "      <td>5</td>\n",
              "      <td>Max</td>\n",
              "    </tr>\n",
              "    <tr>\n",
              "      <th>5</th>\n",
              "      <td>6</td>\n",
              "      <td>Dan</td>\n",
              "    </tr>\n",
              "    <tr>\n",
              "      <th>6</th>\n",
              "      <td>7</td>\n",
              "      <td>Alex</td>\n",
              "    </tr>\n",
              "    <tr>\n",
              "      <th>7</th>\n",
              "      <td>8</td>\n",
              "      <td>Nawin</td>\n",
              "    </tr>\n",
              "    <tr>\n",
              "      <th>8</th>\n",
              "      <td>9</td>\n",
              "      <td>Max</td>\n",
              "    </tr>\n",
              "    <tr>\n",
              "      <th>9</th>\n",
              "      <td>10</td>\n",
              "      <td>Dan</td>\n",
              "    </tr>\n",
              "    <tr>\n",
              "      <th>10</th>\n",
              "      <td>11</td>\n",
              "      <td>Alex</td>\n",
              "    </tr>\n",
              "    <tr>\n",
              "      <th>11</th>\n",
              "      <td>12</td>\n",
              "      <td>Nawin</td>\n",
              "    </tr>\n",
              "  </tbody>\n",
              "</table>\n",
              "</div>"
            ],
            "text/plain": [
              "    id   name\n",
              "0    1  Nawin\n",
              "1    2  Moshe\n",
              "2    3   Lisa\n",
              "3    4   Nika\n",
              "4    5    Max\n",
              "5    6    Dan\n",
              "6    7   Alex\n",
              "7    8  Nawin\n",
              "8    9    Max\n",
              "9   10    Dan\n",
              "10  11   Alex\n",
              "11  12  Nawin"
            ]
          },
          "metadata": {
            "tags": []
          }
        }
      ]
    },
    {
      "cell_type": "code",
      "metadata": {
        "colab": {
          "base_uri": "https://localhost:8080/",
          "height": 235
        },
        "id": "tReT7S1HVxNL",
        "outputId": "a07d2293-d661-46a8-977c-85b8f31f426a"
      },
      "source": [
        "query = select([Address])\n",
        "display_results(query)"
      ],
      "execution_count": 18,
      "outputs": [
        {
          "output_type": "display_data",
          "data": {
            "text/html": [
              "<div>\n",
              "<style scoped>\n",
              "    .dataframe tbody tr th:only-of-type {\n",
              "        vertical-align: middle;\n",
              "    }\n",
              "\n",
              "    .dataframe tbody tr th {\n",
              "        vertical-align: top;\n",
              "    }\n",
              "\n",
              "    .dataframe thead th {\n",
              "        text-align: right;\n",
              "    }\n",
              "</style>\n",
              "<table border=\"1\" class=\"dataframe\">\n",
              "  <thead>\n",
              "    <tr style=\"text-align: right;\">\n",
              "      <th></th>\n",
              "      <th>id</th>\n",
              "      <th>country</th>\n",
              "      <th>state</th>\n",
              "      <th>street_name</th>\n",
              "      <th>street_number</th>\n",
              "      <th>post_code</th>\n",
              "      <th>person_id</th>\n",
              "    </tr>\n",
              "  </thead>\n",
              "  <tbody>\n",
              "    <tr>\n",
              "      <th>0</th>\n",
              "      <td>1</td>\n",
              "      <td>USA</td>\n",
              "      <td>WA</td>\n",
              "      <td>West Huron Street</td>\n",
              "      <td>1</td>\n",
              "      <td>48103</td>\n",
              "      <td>1</td>\n",
              "    </tr>\n",
              "    <tr>\n",
              "      <th>1</th>\n",
              "      <td>2</td>\n",
              "      <td>Russia</td>\n",
              "      <td>Moscow</td>\n",
              "      <td>Pervomay Street</td>\n",
              "      <td>42</td>\n",
              "      <td>141700</td>\n",
              "      <td>2</td>\n",
              "    </tr>\n",
              "    <tr>\n",
              "      <th>2</th>\n",
              "      <td>3</td>\n",
              "      <td>Russia</td>\n",
              "      <td>Moscow</td>\n",
              "      <td>Pervomay Street</td>\n",
              "      <td>42</td>\n",
              "      <td>141700</td>\n",
              "      <td>3</td>\n",
              "    </tr>\n",
              "    <tr>\n",
              "      <th>3</th>\n",
              "      <td>4</td>\n",
              "      <td>USA</td>\n",
              "      <td>CA</td>\n",
              "      <td>Green Street</td>\n",
              "      <td>104</td>\n",
              "      <td>655689</td>\n",
              "      <td>4</td>\n",
              "    </tr>\n",
              "    <tr>\n",
              "      <th>4</th>\n",
              "      <td>5</td>\n",
              "      <td>USA</td>\n",
              "      <td>WA</td>\n",
              "      <td>West Huron Street</td>\n",
              "      <td>1</td>\n",
              "      <td>48103</td>\n",
              "      <td>8</td>\n",
              "    </tr>\n",
              "    <tr>\n",
              "      <th>5</th>\n",
              "      <td>6</td>\n",
              "      <td>USA</td>\n",
              "      <td>WA</td>\n",
              "      <td>West Huron Street</td>\n",
              "      <td>1</td>\n",
              "      <td>48103</td>\n",
              "      <td>12</td>\n",
              "    </tr>\n",
              "  </tbody>\n",
              "</table>\n",
              "</div>"
            ],
            "text/plain": [
              "   id country   state        street_name street_number post_code  person_id\n",
              "0   1     USA      WA  West Huron Street             1     48103          1\n",
              "1   2  Russia  Moscow    Pervomay Street            42    141700          2\n",
              "2   3  Russia  Moscow    Pervomay Street            42    141700          3\n",
              "3   4     USA      CA       Green Street           104    655689          4\n",
              "4   5     USA      WA  West Huron Street             1     48103          8\n",
              "5   6     USA      WA  West Huron Street             1     48103         12"
            ]
          },
          "metadata": {
            "tags": []
          }
        }
      ]
    },
    {
      "cell_type": "markdown",
      "metadata": {
        "id": "G1TjwzfiSnSi"
      },
      "source": [
        "Другой способ добавления с использованием **add_all()**"
      ]
    },
    {
      "cell_type": "code",
      "metadata": {
        "id": "ux3E1H-_QOEY"
      },
      "source": [
        "session.add_all([Person(name='Max'),\n",
        "                 Person(name='Dan'),\n",
        "                 Person(name='Alex')])\n",
        "session.commit()"
      ],
      "execution_count": 19,
      "outputs": []
    },
    {
      "cell_type": "code",
      "metadata": {
        "colab": {
          "base_uri": "https://localhost:8080/",
          "height": 514
        },
        "id": "KQ0xg_YwQOIi",
        "outputId": "3f34109a-ed32-4dc2-bd05-827b92755490"
      },
      "source": [
        "query = select([Person.id, Person.name])\n",
        "display_results(query)"
      ],
      "execution_count": 20,
      "outputs": [
        {
          "output_type": "display_data",
          "data": {
            "text/html": [
              "<div>\n",
              "<style scoped>\n",
              "    .dataframe tbody tr th:only-of-type {\n",
              "        vertical-align: middle;\n",
              "    }\n",
              "\n",
              "    .dataframe tbody tr th {\n",
              "        vertical-align: top;\n",
              "    }\n",
              "\n",
              "    .dataframe thead th {\n",
              "        text-align: right;\n",
              "    }\n",
              "</style>\n",
              "<table border=\"1\" class=\"dataframe\">\n",
              "  <thead>\n",
              "    <tr style=\"text-align: right;\">\n",
              "      <th></th>\n",
              "      <th>id</th>\n",
              "      <th>name</th>\n",
              "    </tr>\n",
              "  </thead>\n",
              "  <tbody>\n",
              "    <tr>\n",
              "      <th>0</th>\n",
              "      <td>1</td>\n",
              "      <td>Nawin</td>\n",
              "    </tr>\n",
              "    <tr>\n",
              "      <th>1</th>\n",
              "      <td>2</td>\n",
              "      <td>Moshe</td>\n",
              "    </tr>\n",
              "    <tr>\n",
              "      <th>2</th>\n",
              "      <td>3</td>\n",
              "      <td>Lisa</td>\n",
              "    </tr>\n",
              "    <tr>\n",
              "      <th>3</th>\n",
              "      <td>4</td>\n",
              "      <td>Nika</td>\n",
              "    </tr>\n",
              "    <tr>\n",
              "      <th>4</th>\n",
              "      <td>5</td>\n",
              "      <td>Max</td>\n",
              "    </tr>\n",
              "    <tr>\n",
              "      <th>5</th>\n",
              "      <td>6</td>\n",
              "      <td>Dan</td>\n",
              "    </tr>\n",
              "    <tr>\n",
              "      <th>6</th>\n",
              "      <td>7</td>\n",
              "      <td>Alex</td>\n",
              "    </tr>\n",
              "    <tr>\n",
              "      <th>7</th>\n",
              "      <td>8</td>\n",
              "      <td>Nawin</td>\n",
              "    </tr>\n",
              "    <tr>\n",
              "      <th>8</th>\n",
              "      <td>9</td>\n",
              "      <td>Max</td>\n",
              "    </tr>\n",
              "    <tr>\n",
              "      <th>9</th>\n",
              "      <td>10</td>\n",
              "      <td>Dan</td>\n",
              "    </tr>\n",
              "    <tr>\n",
              "      <th>10</th>\n",
              "      <td>11</td>\n",
              "      <td>Alex</td>\n",
              "    </tr>\n",
              "    <tr>\n",
              "      <th>11</th>\n",
              "      <td>12</td>\n",
              "      <td>Nawin</td>\n",
              "    </tr>\n",
              "    <tr>\n",
              "      <th>12</th>\n",
              "      <td>13</td>\n",
              "      <td>Max</td>\n",
              "    </tr>\n",
              "    <tr>\n",
              "      <th>13</th>\n",
              "      <td>14</td>\n",
              "      <td>Dan</td>\n",
              "    </tr>\n",
              "    <tr>\n",
              "      <th>14</th>\n",
              "      <td>15</td>\n",
              "      <td>Alex</td>\n",
              "    </tr>\n",
              "  </tbody>\n",
              "</table>\n",
              "</div>"
            ],
            "text/plain": [
              "    id   name\n",
              "0    1  Nawin\n",
              "1    2  Moshe\n",
              "2    3   Lisa\n",
              "3    4   Nika\n",
              "4    5    Max\n",
              "5    6    Dan\n",
              "6    7   Alex\n",
              "7    8  Nawin\n",
              "8    9    Max\n",
              "9   10    Dan\n",
              "10  11   Alex\n",
              "11  12  Nawin\n",
              "12  13    Max\n",
              "13  14    Dan\n",
              "14  15   Alex"
            ]
          },
          "metadata": {
            "tags": []
          }
        }
      ]
    },
    {
      "cell_type": "code",
      "metadata": {
        "colab": {
          "base_uri": "https://localhost:8080/",
          "height": 235
        },
        "id": "agOyki3aUGv5",
        "outputId": "c2eb6917-f581-4a44-d560-c18b79e2500e"
      },
      "source": [
        "query = select([Address])\n",
        "display_results(query)"
      ],
      "execution_count": 21,
      "outputs": [
        {
          "output_type": "display_data",
          "data": {
            "text/html": [
              "<div>\n",
              "<style scoped>\n",
              "    .dataframe tbody tr th:only-of-type {\n",
              "        vertical-align: middle;\n",
              "    }\n",
              "\n",
              "    .dataframe tbody tr th {\n",
              "        vertical-align: top;\n",
              "    }\n",
              "\n",
              "    .dataframe thead th {\n",
              "        text-align: right;\n",
              "    }\n",
              "</style>\n",
              "<table border=\"1\" class=\"dataframe\">\n",
              "  <thead>\n",
              "    <tr style=\"text-align: right;\">\n",
              "      <th></th>\n",
              "      <th>id</th>\n",
              "      <th>country</th>\n",
              "      <th>state</th>\n",
              "      <th>street_name</th>\n",
              "      <th>street_number</th>\n",
              "      <th>post_code</th>\n",
              "      <th>person_id</th>\n",
              "    </tr>\n",
              "  </thead>\n",
              "  <tbody>\n",
              "    <tr>\n",
              "      <th>0</th>\n",
              "      <td>1</td>\n",
              "      <td>USA</td>\n",
              "      <td>WA</td>\n",
              "      <td>West Huron Street</td>\n",
              "      <td>1</td>\n",
              "      <td>48103</td>\n",
              "      <td>1</td>\n",
              "    </tr>\n",
              "    <tr>\n",
              "      <th>1</th>\n",
              "      <td>2</td>\n",
              "      <td>Russia</td>\n",
              "      <td>Moscow</td>\n",
              "      <td>Pervomay Street</td>\n",
              "      <td>42</td>\n",
              "      <td>141700</td>\n",
              "      <td>2</td>\n",
              "    </tr>\n",
              "    <tr>\n",
              "      <th>2</th>\n",
              "      <td>3</td>\n",
              "      <td>Russia</td>\n",
              "      <td>Moscow</td>\n",
              "      <td>Pervomay Street</td>\n",
              "      <td>42</td>\n",
              "      <td>141700</td>\n",
              "      <td>3</td>\n",
              "    </tr>\n",
              "    <tr>\n",
              "      <th>3</th>\n",
              "      <td>4</td>\n",
              "      <td>USA</td>\n",
              "      <td>CA</td>\n",
              "      <td>Green Street</td>\n",
              "      <td>104</td>\n",
              "      <td>655689</td>\n",
              "      <td>4</td>\n",
              "    </tr>\n",
              "    <tr>\n",
              "      <th>4</th>\n",
              "      <td>5</td>\n",
              "      <td>USA</td>\n",
              "      <td>WA</td>\n",
              "      <td>West Huron Street</td>\n",
              "      <td>1</td>\n",
              "      <td>48103</td>\n",
              "      <td>8</td>\n",
              "    </tr>\n",
              "    <tr>\n",
              "      <th>5</th>\n",
              "      <td>6</td>\n",
              "      <td>USA</td>\n",
              "      <td>WA</td>\n",
              "      <td>West Huron Street</td>\n",
              "      <td>1</td>\n",
              "      <td>48103</td>\n",
              "      <td>12</td>\n",
              "    </tr>\n",
              "  </tbody>\n",
              "</table>\n",
              "</div>"
            ],
            "text/plain": [
              "   id country   state        street_name street_number post_code  person_id\n",
              "0   1     USA      WA  West Huron Street             1     48103          1\n",
              "1   2  Russia  Moscow    Pervomay Street            42    141700          2\n",
              "2   3  Russia  Moscow    Pervomay Street            42    141700          3\n",
              "3   4     USA      CA       Green Street           104    655689          4\n",
              "4   5     USA      WA  West Huron Street             1     48103          8\n",
              "5   6     USA      WA  West Huron Street             1     48103         12"
            ]
          },
          "metadata": {
            "tags": []
          }
        }
      ]
    },
    {
      "cell_type": "markdown",
      "metadata": {
        "id": "Tk8GSFPQJUq1"
      },
      "source": [
        "# Синтаксис 'чистых' SQL запросов. Повторение + новый материал"
      ]
    },
    {
      "cell_type": "markdown",
      "metadata": {
        "id": "1TVvVSm-KR27"
      },
      "source": [
        "## Create"
      ]
    },
    {
      "cell_type": "code",
      "metadata": {
        "colab": {
          "base_uri": "https://localhost:8080/"
        },
        "id": "UvXnXjd2gSwV",
        "outputId": "ed413bb4-e6cf-4226-f1a3-e67908e6a101"
      },
      "source": [
        "engine.table_names()"
      ],
      "execution_count": 22,
      "outputs": [
        {
          "output_type": "execute_result",
          "data": {
            "text/plain": [
              "['address', 'person']"
            ]
          },
          "metadata": {
            "tags": []
          },
          "execution_count": 22
        }
      ]
    },
    {
      "cell_type": "code",
      "metadata": {
        "colab": {
          "base_uri": "https://localhost:8080/"
        },
        "id": "BBwCJxdhJJKq",
        "outputId": "3ab8a619-4f69-4482-a3f2-97010d544fda"
      },
      "source": [
        "connection.execute('''\n",
        "CREATE TABLE friends (\n",
        "    id_ INT UNSIGNED AUTO_INCREMENT,\n",
        "    friendName VARCHAR(50),\n",
        "    phone VARCHAR(50),\n",
        "    addressLine1 VARCHAR(50),\n",
        "    addressLine2 VARCHAR(50),\n",
        "    city VARCHAR(50),\n",
        "    state VARCHAR(50),\n",
        "    postalCode VARCHAR(50),\n",
        "    country VARCHAR(50),\n",
        "    PRIMARY KEY(id_)\n",
        ");\n",
        "''')"
      ],
      "execution_count": 23,
      "outputs": [
        {
          "output_type": "execute_result",
          "data": {
            "text/plain": [
              "<sqlalchemy.engine.result.ResultProxy at 0x7fb208c18048>"
            ]
          },
          "metadata": {
            "tags": []
          },
          "execution_count": 23
        }
      ]
    },
    {
      "cell_type": "code",
      "metadata": {
        "colab": {
          "base_uri": "https://localhost:8080/"
        },
        "id": "rQjWWZT7JJNm",
        "outputId": "7d86fd03-bbfe-42a6-d619-05727166c167"
      },
      "source": [
        "engine.table_names()"
      ],
      "execution_count": 24,
      "outputs": [
        {
          "output_type": "execute_result",
          "data": {
            "text/plain": [
              "['address', 'friends', 'person']"
            ]
          },
          "metadata": {
            "tags": []
          },
          "execution_count": 24
        }
      ]
    },
    {
      "cell_type": "code",
      "metadata": {
        "id": "JLldzWvUTgma"
      },
      "source": [
        "result = connection.execute(\"select * from friends\")\n",
        "for row in result:\n",
        "    print(\"Friend info\", row)"
      ],
      "execution_count": 25,
      "outputs": []
    },
    {
      "cell_type": "code",
      "metadata": {
        "colab": {
          "base_uri": "https://localhost:8080/",
          "height": 49
        },
        "id": "kPLBrNtccwR6",
        "outputId": "6126078c-657f-4b0a-d1ee-de9d3e36b762"
      },
      "source": [
        "pd.read_sql('SELECT * from friends;', connection)"
      ],
      "execution_count": 26,
      "outputs": [
        {
          "output_type": "execute_result",
          "data": {
            "text/html": [
              "<div>\n",
              "<style scoped>\n",
              "    .dataframe tbody tr th:only-of-type {\n",
              "        vertical-align: middle;\n",
              "    }\n",
              "\n",
              "    .dataframe tbody tr th {\n",
              "        vertical-align: top;\n",
              "    }\n",
              "\n",
              "    .dataframe thead th {\n",
              "        text-align: right;\n",
              "    }\n",
              "</style>\n",
              "<table border=\"1\" class=\"dataframe\">\n",
              "  <thead>\n",
              "    <tr style=\"text-align: right;\">\n",
              "      <th></th>\n",
              "      <th>id_</th>\n",
              "      <th>friendName</th>\n",
              "      <th>phone</th>\n",
              "      <th>addressLine1</th>\n",
              "      <th>addressLine2</th>\n",
              "      <th>city</th>\n",
              "      <th>state</th>\n",
              "      <th>postalCode</th>\n",
              "      <th>country</th>\n",
              "    </tr>\n",
              "  </thead>\n",
              "  <tbody>\n",
              "  </tbody>\n",
              "</table>\n",
              "</div>"
            ],
            "text/plain": [
              "Empty DataFrame\n",
              "Columns: [id_, friendName, phone, addressLine1, addressLine2, city, state, postalCode, country]\n",
              "Index: []"
            ]
          },
          "metadata": {
            "tags": []
          },
          "execution_count": 26
        }
      ]
    },
    {
      "cell_type": "code",
      "metadata": {
        "colab": {
          "base_uri": "https://localhost:8080/",
          "height": 514
        },
        "id": "pGEHbMkXdCVm",
        "outputId": "0874bddf-788e-4afc-c06a-dee5f284cfec"
      },
      "source": [
        "pd.read_sql('SELECT * from person;', connection)"
      ],
      "execution_count": 27,
      "outputs": [
        {
          "output_type": "execute_result",
          "data": {
            "text/html": [
              "<div>\n",
              "<style scoped>\n",
              "    .dataframe tbody tr th:only-of-type {\n",
              "        vertical-align: middle;\n",
              "    }\n",
              "\n",
              "    .dataframe tbody tr th {\n",
              "        vertical-align: top;\n",
              "    }\n",
              "\n",
              "    .dataframe thead th {\n",
              "        text-align: right;\n",
              "    }\n",
              "</style>\n",
              "<table border=\"1\" class=\"dataframe\">\n",
              "  <thead>\n",
              "    <tr style=\"text-align: right;\">\n",
              "      <th></th>\n",
              "      <th>id</th>\n",
              "      <th>name</th>\n",
              "    </tr>\n",
              "  </thead>\n",
              "  <tbody>\n",
              "    <tr>\n",
              "      <th>0</th>\n",
              "      <td>1</td>\n",
              "      <td>Nawin</td>\n",
              "    </tr>\n",
              "    <tr>\n",
              "      <th>1</th>\n",
              "      <td>2</td>\n",
              "      <td>Moshe</td>\n",
              "    </tr>\n",
              "    <tr>\n",
              "      <th>2</th>\n",
              "      <td>3</td>\n",
              "      <td>Lisa</td>\n",
              "    </tr>\n",
              "    <tr>\n",
              "      <th>3</th>\n",
              "      <td>4</td>\n",
              "      <td>Nika</td>\n",
              "    </tr>\n",
              "    <tr>\n",
              "      <th>4</th>\n",
              "      <td>5</td>\n",
              "      <td>Max</td>\n",
              "    </tr>\n",
              "    <tr>\n",
              "      <th>5</th>\n",
              "      <td>6</td>\n",
              "      <td>Dan</td>\n",
              "    </tr>\n",
              "    <tr>\n",
              "      <th>6</th>\n",
              "      <td>7</td>\n",
              "      <td>Alex</td>\n",
              "    </tr>\n",
              "    <tr>\n",
              "      <th>7</th>\n",
              "      <td>8</td>\n",
              "      <td>Nawin</td>\n",
              "    </tr>\n",
              "    <tr>\n",
              "      <th>8</th>\n",
              "      <td>9</td>\n",
              "      <td>Max</td>\n",
              "    </tr>\n",
              "    <tr>\n",
              "      <th>9</th>\n",
              "      <td>10</td>\n",
              "      <td>Dan</td>\n",
              "    </tr>\n",
              "    <tr>\n",
              "      <th>10</th>\n",
              "      <td>11</td>\n",
              "      <td>Alex</td>\n",
              "    </tr>\n",
              "    <tr>\n",
              "      <th>11</th>\n",
              "      <td>12</td>\n",
              "      <td>Nawin</td>\n",
              "    </tr>\n",
              "    <tr>\n",
              "      <th>12</th>\n",
              "      <td>13</td>\n",
              "      <td>Max</td>\n",
              "    </tr>\n",
              "    <tr>\n",
              "      <th>13</th>\n",
              "      <td>14</td>\n",
              "      <td>Dan</td>\n",
              "    </tr>\n",
              "    <tr>\n",
              "      <th>14</th>\n",
              "      <td>15</td>\n",
              "      <td>Alex</td>\n",
              "    </tr>\n",
              "  </tbody>\n",
              "</table>\n",
              "</div>"
            ],
            "text/plain": [
              "    id   name\n",
              "0    1  Nawin\n",
              "1    2  Moshe\n",
              "2    3   Lisa\n",
              "3    4   Nika\n",
              "4    5    Max\n",
              "5    6    Dan\n",
              "6    7   Alex\n",
              "7    8  Nawin\n",
              "8    9    Max\n",
              "9   10    Dan\n",
              "10  11   Alex\n",
              "11  12  Nawin\n",
              "12  13    Max\n",
              "13  14    Dan\n",
              "14  15   Alex"
            ]
          },
          "metadata": {
            "tags": []
          },
          "execution_count": 27
        }
      ]
    },
    {
      "cell_type": "code",
      "metadata": {
        "colab": {
          "base_uri": "https://localhost:8080/"
        },
        "id": "aliIYD8hdRol",
        "outputId": "5287a619-8cb7-4b52-b8cc-8f909e36718a"
      },
      "source": [
        "result = connection.execute(\n",
        "'''SELECT\n",
        "    country,\n",
        "    state,\n",
        "    post_code\n",
        "FROM \n",
        "    address\n",
        "WHERE \n",
        "    country = 'USA' AND \n",
        "    state = 'CA';\n",
        "''')\n",
        "\n",
        "for row in result:\n",
        "    print(\"adress info\", row)"
      ],
      "execution_count": 28,
      "outputs": [
        {
          "output_type": "stream",
          "text": [
            "adress info ('USA', 'CA', '655689')\n"
          ],
          "name": "stdout"
        }
      ]
    },
    {
      "cell_type": "markdown",
      "metadata": {
        "id": "buDcmd75lGfi"
      },
      "source": [
        "## Insert into"
      ]
    },
    {
      "cell_type": "code",
      "metadata": {
        "colab": {
          "base_uri": "https://localhost:8080/"
        },
        "id": "eypcVnH4kGOI",
        "outputId": "ff3d71c1-78f5-477b-e38d-166451ce8ace"
      },
      "source": [
        "connection.execute(\n",
        "\"\"\"\n",
        "INSERT INTO friends (\n",
        "    id_,\n",
        "    country,\n",
        "    state,\n",
        "    postalCode\n",
        ")\n",
        "VALUES (1, \"UK\", \"London\", 5678)\n",
        "\"\"\"\n",
        ")"
      ],
      "execution_count": 29,
      "outputs": [
        {
          "output_type": "execute_result",
          "data": {
            "text/plain": [
              "<sqlalchemy.engine.result.ResultProxy at 0x7fb208b03da0>"
            ]
          },
          "metadata": {
            "tags": []
          },
          "execution_count": 29
        }
      ]
    },
    {
      "cell_type": "code",
      "metadata": {
        "colab": {
          "base_uri": "https://localhost:8080/",
          "height": 80
        },
        "id": "YGOVUsVUlJyW",
        "outputId": "d004bb2b-a6d2-4c05-e988-44d8a7a96818"
      },
      "source": [
        "pd.read_sql('SELECT * from friends;', connection)"
      ],
      "execution_count": 30,
      "outputs": [
        {
          "output_type": "execute_result",
          "data": {
            "text/html": [
              "<div>\n",
              "<style scoped>\n",
              "    .dataframe tbody tr th:only-of-type {\n",
              "        vertical-align: middle;\n",
              "    }\n",
              "\n",
              "    .dataframe tbody tr th {\n",
              "        vertical-align: top;\n",
              "    }\n",
              "\n",
              "    .dataframe thead th {\n",
              "        text-align: right;\n",
              "    }\n",
              "</style>\n",
              "<table border=\"1\" class=\"dataframe\">\n",
              "  <thead>\n",
              "    <tr style=\"text-align: right;\">\n",
              "      <th></th>\n",
              "      <th>id_</th>\n",
              "      <th>friendName</th>\n",
              "      <th>phone</th>\n",
              "      <th>addressLine1</th>\n",
              "      <th>addressLine2</th>\n",
              "      <th>city</th>\n",
              "      <th>state</th>\n",
              "      <th>postalCode</th>\n",
              "      <th>country</th>\n",
              "    </tr>\n",
              "  </thead>\n",
              "  <tbody>\n",
              "    <tr>\n",
              "      <th>0</th>\n",
              "      <td>1</td>\n",
              "      <td>None</td>\n",
              "      <td>None</td>\n",
              "      <td>None</td>\n",
              "      <td>None</td>\n",
              "      <td>None</td>\n",
              "      <td>London</td>\n",
              "      <td>5678</td>\n",
              "      <td>UK</td>\n",
              "    </tr>\n",
              "  </tbody>\n",
              "</table>\n",
              "</div>"
            ],
            "text/plain": [
              "   id_ friendName phone addressLine1  ...  city   state postalCode country\n",
              "0    1       None  None         None  ...  None  London       5678      UK\n",
              "\n",
              "[1 rows x 9 columns]"
            ]
          },
          "metadata": {
            "tags": []
          },
          "execution_count": 30
        }
      ]
    },
    {
      "cell_type": "markdown",
      "metadata": {
        "id": "OgcTKIWalDc6"
      },
      "source": [
        "## Update"
      ]
    },
    {
      "cell_type": "code",
      "metadata": {
        "colab": {
          "base_uri": "https://localhost:8080/"
        },
        "id": "I3LAmOy2k0ti",
        "outputId": "801cbb48-1a53-4d93-9bfa-789067c0bf40"
      },
      "source": [
        "connection.execute(\n",
        "'''\n",
        "UPDATE friends \n",
        "\n",
        "SET\n",
        "    friendName = \"Mike\"\n",
        "WHERE \n",
        "    country = \"UK\"\n",
        "''')"
      ],
      "execution_count": 31,
      "outputs": [
        {
          "output_type": "execute_result",
          "data": {
            "text/plain": [
              "<sqlalchemy.engine.result.ResultProxy at 0x7fb208b1d7b8>"
            ]
          },
          "metadata": {
            "tags": []
          },
          "execution_count": 31
        }
      ]
    },
    {
      "cell_type": "code",
      "metadata": {
        "colab": {
          "base_uri": "https://localhost:8080/",
          "height": 80
        },
        "id": "8F8nAH2YkW53",
        "outputId": "d701c794-562c-405f-d149-c30b813df44f"
      },
      "source": [
        "pd.read_sql('SELECT * from friends;', connection)"
      ],
      "execution_count": 32,
      "outputs": [
        {
          "output_type": "execute_result",
          "data": {
            "text/html": [
              "<div>\n",
              "<style scoped>\n",
              "    .dataframe tbody tr th:only-of-type {\n",
              "        vertical-align: middle;\n",
              "    }\n",
              "\n",
              "    .dataframe tbody tr th {\n",
              "        vertical-align: top;\n",
              "    }\n",
              "\n",
              "    .dataframe thead th {\n",
              "        text-align: right;\n",
              "    }\n",
              "</style>\n",
              "<table border=\"1\" class=\"dataframe\">\n",
              "  <thead>\n",
              "    <tr style=\"text-align: right;\">\n",
              "      <th></th>\n",
              "      <th>id_</th>\n",
              "      <th>friendName</th>\n",
              "      <th>phone</th>\n",
              "      <th>addressLine1</th>\n",
              "      <th>addressLine2</th>\n",
              "      <th>city</th>\n",
              "      <th>state</th>\n",
              "      <th>postalCode</th>\n",
              "      <th>country</th>\n",
              "    </tr>\n",
              "  </thead>\n",
              "  <tbody>\n",
              "    <tr>\n",
              "      <th>0</th>\n",
              "      <td>1</td>\n",
              "      <td>Mike</td>\n",
              "      <td>None</td>\n",
              "      <td>None</td>\n",
              "      <td>None</td>\n",
              "      <td>None</td>\n",
              "      <td>London</td>\n",
              "      <td>5678</td>\n",
              "      <td>UK</td>\n",
              "    </tr>\n",
              "  </tbody>\n",
              "</table>\n",
              "</div>"
            ],
            "text/plain": [
              "   id_ friendName phone addressLine1  ...  city   state postalCode country\n",
              "0    1       Mike  None         None  ...  None  London       5678      UK\n",
              "\n",
              "[1 rows x 9 columns]"
            ]
          },
          "metadata": {
            "tags": []
          },
          "execution_count": 32
        }
      ]
    },
    {
      "cell_type": "markdown",
      "metadata": {
        "id": "migpKc_tX5rq"
      },
      "source": [
        "## Insert into select"
      ]
    },
    {
      "cell_type": "code",
      "metadata": {
        "colab": {
          "base_uri": "https://localhost:8080/"
        },
        "id": "4IWsR3znTgrZ",
        "outputId": "7eafdbdf-472b-40f6-a426-63e82bd09f18"
      },
      "source": [
        "connection.execute(\n",
        "'''\n",
        "INSERT INTO friends (\n",
        "    country,\n",
        "    state,\n",
        "    postalCode\n",
        ")\n",
        "SELECT\n",
        "    country,\n",
        "    state,\n",
        "    post_code\n",
        "FROM \n",
        "    address\n",
        "WHERE \n",
        "    country = 'USA' AND \n",
        "    state = 'CA';\n",
        "''')"
      ],
      "execution_count": 33,
      "outputs": [
        {
          "output_type": "execute_result",
          "data": {
            "text/plain": [
              "<sqlalchemy.engine.result.ResultProxy at 0x7fb208c0c3c8>"
            ]
          },
          "metadata": {
            "tags": []
          },
          "execution_count": 33
        }
      ]
    },
    {
      "cell_type": "code",
      "metadata": {
        "colab": {
          "base_uri": "https://localhost:8080/",
          "height": 111
        },
        "id": "1yV3A2AsTgwr",
        "outputId": "619c4168-7321-4168-a251-f88263557ba6"
      },
      "source": [
        "pd.read_sql('SELECT * from friends;', connection)"
      ],
      "execution_count": 34,
      "outputs": [
        {
          "output_type": "execute_result",
          "data": {
            "text/html": [
              "<div>\n",
              "<style scoped>\n",
              "    .dataframe tbody tr th:only-of-type {\n",
              "        vertical-align: middle;\n",
              "    }\n",
              "\n",
              "    .dataframe tbody tr th {\n",
              "        vertical-align: top;\n",
              "    }\n",
              "\n",
              "    .dataframe thead th {\n",
              "        text-align: right;\n",
              "    }\n",
              "</style>\n",
              "<table border=\"1\" class=\"dataframe\">\n",
              "  <thead>\n",
              "    <tr style=\"text-align: right;\">\n",
              "      <th></th>\n",
              "      <th>id_</th>\n",
              "      <th>friendName</th>\n",
              "      <th>phone</th>\n",
              "      <th>addressLine1</th>\n",
              "      <th>addressLine2</th>\n",
              "      <th>city</th>\n",
              "      <th>state</th>\n",
              "      <th>postalCode</th>\n",
              "      <th>country</th>\n",
              "    </tr>\n",
              "  </thead>\n",
              "  <tbody>\n",
              "    <tr>\n",
              "      <th>0</th>\n",
              "      <td>1.0</td>\n",
              "      <td>Mike</td>\n",
              "      <td>None</td>\n",
              "      <td>None</td>\n",
              "      <td>None</td>\n",
              "      <td>None</td>\n",
              "      <td>London</td>\n",
              "      <td>5678</td>\n",
              "      <td>UK</td>\n",
              "    </tr>\n",
              "    <tr>\n",
              "      <th>1</th>\n",
              "      <td>NaN</td>\n",
              "      <td>None</td>\n",
              "      <td>None</td>\n",
              "      <td>None</td>\n",
              "      <td>None</td>\n",
              "      <td>None</td>\n",
              "      <td>CA</td>\n",
              "      <td>655689</td>\n",
              "      <td>USA</td>\n",
              "    </tr>\n",
              "  </tbody>\n",
              "</table>\n",
              "</div>"
            ],
            "text/plain": [
              "   id_ friendName phone addressLine1  ...  city   state postalCode country\n",
              "0  1.0       Mike  None         None  ...  None  London       5678      UK\n",
              "1  NaN       None  None         None  ...  None      CA     655689     USA\n",
              "\n",
              "[2 rows x 9 columns]"
            ]
          },
          "metadata": {
            "tags": []
          },
          "execution_count": 34
        }
      ]
    },
    {
      "cell_type": "markdown",
      "metadata": {
        "id": "Skkm-u8_nVIX"
      },
      "source": [
        "## Drop"
      ]
    },
    {
      "cell_type": "code",
      "metadata": {
        "colab": {
          "base_uri": "https://localhost:8080/"
        },
        "id": "hrlHc-kknTG5",
        "outputId": "d7065a0a-8948-4d13-a1cf-eb68d29a85a5"
      },
      "source": [
        "connection.execute('DROP TABLE friends;')"
      ],
      "execution_count": 35,
      "outputs": [
        {
          "output_type": "execute_result",
          "data": {
            "text/plain": [
              "<sqlalchemy.engine.result.ResultProxy at 0x7fb208c18518>"
            ]
          },
          "metadata": {
            "tags": []
          },
          "execution_count": 35
        }
      ]
    },
    {
      "cell_type": "code",
      "metadata": {
        "colab": {
          "base_uri": "https://localhost:8080/"
        },
        "id": "dodI0YRrnLST",
        "outputId": "92c6ba98-1eb7-4322-e356-a73745cb88ef"
      },
      "source": [
        "engine.table_names()"
      ],
      "execution_count": 36,
      "outputs": [
        {
          "output_type": "execute_result",
          "data": {
            "text/plain": [
              "['address', 'person']"
            ]
          },
          "metadata": {
            "tags": []
          },
          "execution_count": 36
        }
      ]
    },
    {
      "cell_type": "markdown",
      "metadata": {
        "id": "JomhfuPXnlTM"
      },
      "source": [
        "## Create view\n",
        "\n",
        "CREATE VIEW создаст представление по заданному вами условию"
      ]
    },
    {
      "cell_type": "code",
      "metadata": {
        "colab": {
          "base_uri": "https://localhost:8080/"
        },
        "id": "ubXisimnninm",
        "outputId": "9898081d-00ba-4748-cfef-106a55658255"
      },
      "source": [
        "connection.execute('''\n",
        "CREATE VIEW test_view AS\n",
        "    SELECT \n",
        "        street_name, \n",
        "        street_number\n",
        "    FROM\n",
        "        address\n",
        "    ORDER BY street_number;\n",
        "''')"
      ],
      "execution_count": 37,
      "outputs": [
        {
          "output_type": "execute_result",
          "data": {
            "text/plain": [
              "<sqlalchemy.engine.result.ResultProxy at 0x7fb208b037b8>"
            ]
          },
          "metadata": {
            "tags": []
          },
          "execution_count": 37
        }
      ]
    },
    {
      "cell_type": "code",
      "metadata": {
        "colab": {
          "base_uri": "https://localhost:8080/"
        },
        "id": "0lVQhhwcnive",
        "outputId": "4d6bc31e-b0a3-4052-93aa-6bd68471733a"
      },
      "source": [
        "engine.table_names()"
      ],
      "execution_count": 38,
      "outputs": [
        {
          "output_type": "execute_result",
          "data": {
            "text/plain": [
              "['address', 'person']"
            ]
          },
          "metadata": {
            "tags": []
          },
          "execution_count": 38
        }
      ]
    },
    {
      "cell_type": "markdown",
      "metadata": {
        "id": "YdTxSpTSpGe3"
      },
      "source": [
        "Но в pandas таблицы и представления разделяют одно пространство имен "
      ]
    },
    {
      "cell_type": "code",
      "metadata": {
        "colab": {
          "base_uri": "https://localhost:8080/",
          "height": 235
        },
        "id": "Zn_-IxDAhaXF",
        "outputId": "e18f38ba-07d6-46df-9ddd-d5b3e5719946"
      },
      "source": [
        "pd.read_sql('SELECT * from test_view;', connection)"
      ],
      "execution_count": 39,
      "outputs": [
        {
          "output_type": "execute_result",
          "data": {
            "text/html": [
              "<div>\n",
              "<style scoped>\n",
              "    .dataframe tbody tr th:only-of-type {\n",
              "        vertical-align: middle;\n",
              "    }\n",
              "\n",
              "    .dataframe tbody tr th {\n",
              "        vertical-align: top;\n",
              "    }\n",
              "\n",
              "    .dataframe thead th {\n",
              "        text-align: right;\n",
              "    }\n",
              "</style>\n",
              "<table border=\"1\" class=\"dataframe\">\n",
              "  <thead>\n",
              "    <tr style=\"text-align: right;\">\n",
              "      <th></th>\n",
              "      <th>street_name</th>\n",
              "      <th>street_number</th>\n",
              "    </tr>\n",
              "  </thead>\n",
              "  <tbody>\n",
              "    <tr>\n",
              "      <th>0</th>\n",
              "      <td>West Huron Street</td>\n",
              "      <td>1</td>\n",
              "    </tr>\n",
              "    <tr>\n",
              "      <th>1</th>\n",
              "      <td>West Huron Street</td>\n",
              "      <td>1</td>\n",
              "    </tr>\n",
              "    <tr>\n",
              "      <th>2</th>\n",
              "      <td>West Huron Street</td>\n",
              "      <td>1</td>\n",
              "    </tr>\n",
              "    <tr>\n",
              "      <th>3</th>\n",
              "      <td>Green Street</td>\n",
              "      <td>104</td>\n",
              "    </tr>\n",
              "    <tr>\n",
              "      <th>4</th>\n",
              "      <td>Pervomay Street</td>\n",
              "      <td>42</td>\n",
              "    </tr>\n",
              "    <tr>\n",
              "      <th>5</th>\n",
              "      <td>Pervomay Street</td>\n",
              "      <td>42</td>\n",
              "    </tr>\n",
              "  </tbody>\n",
              "</table>\n",
              "</div>"
            ],
            "text/plain": [
              "         street_name street_number\n",
              "0  West Huron Street             1\n",
              "1  West Huron Street             1\n",
              "2  West Huron Street             1\n",
              "3       Green Street           104\n",
              "4    Pervomay Street            42\n",
              "5    Pervomay Street            42"
            ]
          },
          "metadata": {
            "tags": []
          },
          "execution_count": 39
        }
      ]
    },
    {
      "cell_type": "code",
      "metadata": {
        "colab": {
          "base_uri": "https://localhost:8080/"
        },
        "id": "vGZvvVcKpv8S",
        "outputId": "1edc7d5a-6e64-4067-9b91-ff9719c3538e"
      },
      "source": [
        "connection.execute('''\n",
        "drop view test_view;\n",
        "''')"
      ],
      "execution_count": 40,
      "outputs": [
        {
          "output_type": "execute_result",
          "data": {
            "text/plain": [
              "<sqlalchemy.engine.result.ResultProxy at 0x7fb208ab9908>"
            ]
          },
          "metadata": {
            "tags": []
          },
          "execution_count": 40
        }
      ]
    },
    {
      "cell_type": "markdown",
      "metadata": {
        "id": "wovwv7tisQMD"
      },
      "source": [
        "## Case\n",
        "\n",
        "Выражение MySQL CASE - это структура потока управления, которая позволяет добавлять логику if-else к запросу. Вообще говоря, вы можете использовать выражение CASE в любом месте, которое допускает допустимое выражение, например, предложения SELECT, WHERE и ORDER BY."
      ]
    },
    {
      "cell_type": "code",
      "metadata": {
        "colab": {
          "base_uri": "https://localhost:8080/",
          "height": 235
        },
        "id": "bRf5I9ZmsbP6",
        "outputId": "8f31a1ef-0098-4bf9-b3fe-e0c0bfb06131"
      },
      "source": [
        "pd.read_sql('SELECT * from address;', connection)"
      ],
      "execution_count": 41,
      "outputs": [
        {
          "output_type": "execute_result",
          "data": {
            "text/html": [
              "<div>\n",
              "<style scoped>\n",
              "    .dataframe tbody tr th:only-of-type {\n",
              "        vertical-align: middle;\n",
              "    }\n",
              "\n",
              "    .dataframe tbody tr th {\n",
              "        vertical-align: top;\n",
              "    }\n",
              "\n",
              "    .dataframe thead th {\n",
              "        text-align: right;\n",
              "    }\n",
              "</style>\n",
              "<table border=\"1\" class=\"dataframe\">\n",
              "  <thead>\n",
              "    <tr style=\"text-align: right;\">\n",
              "      <th></th>\n",
              "      <th>id</th>\n",
              "      <th>country</th>\n",
              "      <th>state</th>\n",
              "      <th>street_name</th>\n",
              "      <th>street_number</th>\n",
              "      <th>post_code</th>\n",
              "      <th>person_id</th>\n",
              "    </tr>\n",
              "  </thead>\n",
              "  <tbody>\n",
              "    <tr>\n",
              "      <th>0</th>\n",
              "      <td>1</td>\n",
              "      <td>USA</td>\n",
              "      <td>WA</td>\n",
              "      <td>West Huron Street</td>\n",
              "      <td>1</td>\n",
              "      <td>48103</td>\n",
              "      <td>1</td>\n",
              "    </tr>\n",
              "    <tr>\n",
              "      <th>1</th>\n",
              "      <td>2</td>\n",
              "      <td>Russia</td>\n",
              "      <td>Moscow</td>\n",
              "      <td>Pervomay Street</td>\n",
              "      <td>42</td>\n",
              "      <td>141700</td>\n",
              "      <td>2</td>\n",
              "    </tr>\n",
              "    <tr>\n",
              "      <th>2</th>\n",
              "      <td>3</td>\n",
              "      <td>Russia</td>\n",
              "      <td>Moscow</td>\n",
              "      <td>Pervomay Street</td>\n",
              "      <td>42</td>\n",
              "      <td>141700</td>\n",
              "      <td>3</td>\n",
              "    </tr>\n",
              "    <tr>\n",
              "      <th>3</th>\n",
              "      <td>4</td>\n",
              "      <td>USA</td>\n",
              "      <td>CA</td>\n",
              "      <td>Green Street</td>\n",
              "      <td>104</td>\n",
              "      <td>655689</td>\n",
              "      <td>4</td>\n",
              "    </tr>\n",
              "    <tr>\n",
              "      <th>4</th>\n",
              "      <td>5</td>\n",
              "      <td>USA</td>\n",
              "      <td>WA</td>\n",
              "      <td>West Huron Street</td>\n",
              "      <td>1</td>\n",
              "      <td>48103</td>\n",
              "      <td>8</td>\n",
              "    </tr>\n",
              "    <tr>\n",
              "      <th>5</th>\n",
              "      <td>6</td>\n",
              "      <td>USA</td>\n",
              "      <td>WA</td>\n",
              "      <td>West Huron Street</td>\n",
              "      <td>1</td>\n",
              "      <td>48103</td>\n",
              "      <td>12</td>\n",
              "    </tr>\n",
              "  </tbody>\n",
              "</table>\n",
              "</div>"
            ],
            "text/plain": [
              "   id country   state        street_name street_number post_code  person_id\n",
              "0   1     USA      WA  West Huron Street             1     48103          1\n",
              "1   2  Russia  Moscow    Pervomay Street            42    141700          2\n",
              "2   3  Russia  Moscow    Pervomay Street            42    141700          3\n",
              "3   4     USA      CA       Green Street           104    655689          4\n",
              "4   5     USA      WA  West Huron Street             1     48103          8\n",
              "5   6     USA      WA  West Huron Street             1     48103         12"
            ]
          },
          "metadata": {
            "tags": []
          },
          "execution_count": 41
        }
      ]
    },
    {
      "cell_type": "code",
      "metadata": {
        "colab": {
          "base_uri": "https://localhost:8080/",
          "height": 235
        },
        "id": "We_1tKRysPRT",
        "outputId": "fa0baf52-780e-4bae-8280-429375f22c70"
      },
      "source": [
        "pd.read_sql('''\n",
        "SELECT \n",
        "    \n",
        "    country `Страна`,\n",
        "    CASE country\n",
        "\t\tWHEN \"Russia\" THEN 'Живет в России'\n",
        "        WHEN \"USA\" THEN 'Живет в США'\n",
        "        ELSE 'Живет в другой стране'\n",
        "\tend `Страна проживания`\n",
        "FROM\n",
        "    (SELECT \n",
        "\t\tcountry\n",
        "\tFROM\n",
        "\t\taddress\n",
        "\tINNER JOIN person\n",
        "\t\tON  address.person_id = person.id) as cte\n",
        "ORDER BY country;\n",
        "''', connection)"
      ],
      "execution_count": 42,
      "outputs": [
        {
          "output_type": "execute_result",
          "data": {
            "text/html": [
              "<div>\n",
              "<style scoped>\n",
              "    .dataframe tbody tr th:only-of-type {\n",
              "        vertical-align: middle;\n",
              "    }\n",
              "\n",
              "    .dataframe tbody tr th {\n",
              "        vertical-align: top;\n",
              "    }\n",
              "\n",
              "    .dataframe thead th {\n",
              "        text-align: right;\n",
              "    }\n",
              "</style>\n",
              "<table border=\"1\" class=\"dataframe\">\n",
              "  <thead>\n",
              "    <tr style=\"text-align: right;\">\n",
              "      <th></th>\n",
              "      <th>Страна</th>\n",
              "      <th>Страна проживания</th>\n",
              "    </tr>\n",
              "  </thead>\n",
              "  <tbody>\n",
              "    <tr>\n",
              "      <th>0</th>\n",
              "      <td>Russia</td>\n",
              "      <td>Живет в России</td>\n",
              "    </tr>\n",
              "    <tr>\n",
              "      <th>1</th>\n",
              "      <td>Russia</td>\n",
              "      <td>Живет в России</td>\n",
              "    </tr>\n",
              "    <tr>\n",
              "      <th>2</th>\n",
              "      <td>USA</td>\n",
              "      <td>Живет в США</td>\n",
              "    </tr>\n",
              "    <tr>\n",
              "      <th>3</th>\n",
              "      <td>USA</td>\n",
              "      <td>Живет в США</td>\n",
              "    </tr>\n",
              "    <tr>\n",
              "      <th>4</th>\n",
              "      <td>USA</td>\n",
              "      <td>Живет в США</td>\n",
              "    </tr>\n",
              "    <tr>\n",
              "      <th>5</th>\n",
              "      <td>USA</td>\n",
              "      <td>Живет в США</td>\n",
              "    </tr>\n",
              "  </tbody>\n",
              "</table>\n",
              "</div>"
            ],
            "text/plain": [
              "   Страна Страна проживания\n",
              "0  Russia    Живет в России\n",
              "1  Russia    Живет в России\n",
              "2     USA       Живет в США\n",
              "3     USA       Живет в США\n",
              "4     USA       Живет в США\n",
              "5     USA       Живет в США"
            ]
          },
          "metadata": {
            "tags": []
          },
          "execution_count": 42
        }
      ]
    },
    {
      "cell_type": "markdown",
      "metadata": {
        "id": "4m8LUONLwBjo"
      },
      "source": [
        "ЗАДАНИЕ\n",
        "\n",
        "Добавить еще один столбец - Имя человека"
      ]
    },
    {
      "cell_type": "code",
      "metadata": {
        "id": "XIpyB4h5wKoK"
      },
      "source": [
        "# TODO"
      ],
      "execution_count": 43,
      "outputs": []
    },
    {
      "cell_type": "code",
      "metadata": {
        "colab": {
          "base_uri": "https://localhost:8080/",
          "height": 235
        },
        "id": "JcaV31ysxd7f",
        "outputId": "b6d8865d-e279-43e1-cb44-85883b55a0d3"
      },
      "source": [
        "pd.read_sql('''\n",
        "SELECT \n",
        "    name 'Имя',\n",
        "    country 'Страна',\n",
        "    CASE country\n",
        "\t\tWHEN \"Russia\" THEN 'Живет в России'\n",
        "        WHEN \"USA\" THEN 'Живет в США'\n",
        "        ELSE 'Живет в другой стране'\n",
        "\tend 'Страна проживания'\n",
        "FROM\n",
        "    (SELECT \n",
        "\t\tcountry,\n",
        "        name\n",
        "\tFROM\n",
        "\t\taddress\n",
        "\tINNER JOIN person\n",
        "\t\tUSING (id))\n",
        "ORDER BY country;\n",
        "''', connection)"
      ],
      "execution_count": 44,
      "outputs": [
        {
          "output_type": "execute_result",
          "data": {
            "text/html": [
              "<div>\n",
              "<style scoped>\n",
              "    .dataframe tbody tr th:only-of-type {\n",
              "        vertical-align: middle;\n",
              "    }\n",
              "\n",
              "    .dataframe tbody tr th {\n",
              "        vertical-align: top;\n",
              "    }\n",
              "\n",
              "    .dataframe thead th {\n",
              "        text-align: right;\n",
              "    }\n",
              "</style>\n",
              "<table border=\"1\" class=\"dataframe\">\n",
              "  <thead>\n",
              "    <tr style=\"text-align: right;\">\n",
              "      <th></th>\n",
              "      <th>Имя</th>\n",
              "      <th>Страна</th>\n",
              "      <th>Страна проживания</th>\n",
              "    </tr>\n",
              "  </thead>\n",
              "  <tbody>\n",
              "    <tr>\n",
              "      <th>0</th>\n",
              "      <td>Moshe</td>\n",
              "      <td>Russia</td>\n",
              "      <td>Живет в России</td>\n",
              "    </tr>\n",
              "    <tr>\n",
              "      <th>1</th>\n",
              "      <td>Lisa</td>\n",
              "      <td>Russia</td>\n",
              "      <td>Живет в России</td>\n",
              "    </tr>\n",
              "    <tr>\n",
              "      <th>2</th>\n",
              "      <td>Nawin</td>\n",
              "      <td>USA</td>\n",
              "      <td>Живет в США</td>\n",
              "    </tr>\n",
              "    <tr>\n",
              "      <th>3</th>\n",
              "      <td>Nika</td>\n",
              "      <td>USA</td>\n",
              "      <td>Живет в США</td>\n",
              "    </tr>\n",
              "    <tr>\n",
              "      <th>4</th>\n",
              "      <td>Max</td>\n",
              "      <td>USA</td>\n",
              "      <td>Живет в США</td>\n",
              "    </tr>\n",
              "    <tr>\n",
              "      <th>5</th>\n",
              "      <td>Dan</td>\n",
              "      <td>USA</td>\n",
              "      <td>Живет в США</td>\n",
              "    </tr>\n",
              "  </tbody>\n",
              "</table>\n",
              "</div>"
            ],
            "text/plain": [
              "     Имя  Страна Страна проживания\n",
              "0  Moshe  Russia    Живет в России\n",
              "1   Lisa  Russia    Живет в России\n",
              "2  Nawin     USA       Живет в США\n",
              "3   Nika     USA       Живет в США\n",
              "4    Max     USA       Живет в США\n",
              "5    Dan     USA       Живет в США"
            ]
          },
          "metadata": {
            "tags": []
          },
          "execution_count": 44
        }
      ]
    },
    {
      "cell_type": "markdown",
      "metadata": {
        "id": "dDbCLqIwxk-y"
      },
      "source": [
        "Вопрос: Почему в данном случае плохо использовать следующий синтаксис \"JOIN ... USING (id)\" ?\n",
        "\n",
        "Как это исправить?"
      ]
    },
    {
      "cell_type": "code",
      "metadata": {
        "id": "ZCkDQdavx0ro"
      },
      "source": [
        "#TODO"
      ],
      "execution_count": 45,
      "outputs": []
    },
    {
      "cell_type": "code",
      "metadata": {
        "colab": {
          "base_uri": "https://localhost:8080/",
          "height": 235
        },
        "id": "CI8f-gSPsPZe",
        "outputId": "abdb6e97-f083-4121-9d9c-16cffa77b844"
      },
      "source": [
        "pd.read_sql('''\n",
        "SELECT \n",
        "    name 'Имя',\n",
        "    country 'Страна',\n",
        "    CASE country\n",
        "\t\tWHEN \"Russia\" THEN 'Живет в России'\n",
        "        WHEN \"USA\" THEN 'Живет в США'\n",
        "        ELSE 'Живет в другой стране'\n",
        "\tend 'Страна проживания'\n",
        "FROM\n",
        "    (SELECT \n",
        "\t\tcountry,\n",
        "        name\n",
        "\tFROM\n",
        "\t\taddress\n",
        "\tINNER JOIN person\n",
        "\t\tON  address.person_id = person.id)\n",
        "ORDER BY country;\n",
        "''', connection)"
      ],
      "execution_count": 46,
      "outputs": [
        {
          "output_type": "execute_result",
          "data": {
            "text/html": [
              "<div>\n",
              "<style scoped>\n",
              "    .dataframe tbody tr th:only-of-type {\n",
              "        vertical-align: middle;\n",
              "    }\n",
              "\n",
              "    .dataframe tbody tr th {\n",
              "        vertical-align: top;\n",
              "    }\n",
              "\n",
              "    .dataframe thead th {\n",
              "        text-align: right;\n",
              "    }\n",
              "</style>\n",
              "<table border=\"1\" class=\"dataframe\">\n",
              "  <thead>\n",
              "    <tr style=\"text-align: right;\">\n",
              "      <th></th>\n",
              "      <th>Имя</th>\n",
              "      <th>Страна</th>\n",
              "      <th>Страна проживания</th>\n",
              "    </tr>\n",
              "  </thead>\n",
              "  <tbody>\n",
              "    <tr>\n",
              "      <th>0</th>\n",
              "      <td>Moshe</td>\n",
              "      <td>Russia</td>\n",
              "      <td>Живет в России</td>\n",
              "    </tr>\n",
              "    <tr>\n",
              "      <th>1</th>\n",
              "      <td>Lisa</td>\n",
              "      <td>Russia</td>\n",
              "      <td>Живет в России</td>\n",
              "    </tr>\n",
              "    <tr>\n",
              "      <th>2</th>\n",
              "      <td>Nawin</td>\n",
              "      <td>USA</td>\n",
              "      <td>Живет в США</td>\n",
              "    </tr>\n",
              "    <tr>\n",
              "      <th>3</th>\n",
              "      <td>Nika</td>\n",
              "      <td>USA</td>\n",
              "      <td>Живет в США</td>\n",
              "    </tr>\n",
              "    <tr>\n",
              "      <th>4</th>\n",
              "      <td>Nawin</td>\n",
              "      <td>USA</td>\n",
              "      <td>Живет в США</td>\n",
              "    </tr>\n",
              "    <tr>\n",
              "      <th>5</th>\n",
              "      <td>Nawin</td>\n",
              "      <td>USA</td>\n",
              "      <td>Живет в США</td>\n",
              "    </tr>\n",
              "  </tbody>\n",
              "</table>\n",
              "</div>"
            ],
            "text/plain": [
              "     Имя  Страна Страна проживания\n",
              "0  Moshe  Russia    Живет в России\n",
              "1   Lisa  Russia    Живет в России\n",
              "2  Nawin     USA       Живет в США\n",
              "3   Nika     USA       Живет в США\n",
              "4  Nawin     USA       Живет в США\n",
              "5  Nawin     USA       Живет в США"
            ]
          },
          "metadata": {
            "tags": []
          },
          "execution_count": 46
        }
      ]
    },
    {
      "cell_type": "code",
      "metadata": {
        "id": "UApCLBYExNmq"
      },
      "source": [
        "# TODO"
      ],
      "execution_count": 47,
      "outputs": []
    },
    {
      "cell_type": "markdown",
      "metadata": {
        "id": "vhK_7BXMxCEP"
      },
      "source": [
        "ДОП ЗАДАНИЕ**\n",
        "\n",
        "Если человек живет в Москве, то вывести его имя, улицу и почтовый код"
      ]
    },
    {
      "cell_type": "code",
      "metadata": {
        "id": "NYh6M4KvsPh_",
        "colab": {
          "base_uri": "https://localhost:8080/",
          "height": 111
        },
        "outputId": "e69c0b07-25e9-4859-b2c4-2ad11d81164c"
      },
      "source": [
        "pd.read_sql('''\n",
        "SELECT \n",
        "    name 'Имя',\n",
        "--    state 'Город',\n",
        "    street_name 'Улица',\n",
        "    post_code 'Почтовый код'\n",
        "--    CASE state\n",
        "--\t\tWHEN \"Moscow\" THEN 'Живет в Москве'\n",
        "--    ELSE 'Живет в другом городе'\n",
        "--\t  END 'Город проживания'\n",
        "FROM\n",
        "    (SELECT state, name, street_name, post_code\n",
        "\t  FROM address\n",
        "\t  INNER JOIN person ON address.person_id = person.id)\n",
        "WHERE state = 'Moscow'\n",
        "ORDER BY state;\n",
        "''', connection)"
      ],
      "execution_count": 48,
      "outputs": [
        {
          "output_type": "execute_result",
          "data": {
            "text/html": [
              "<div>\n",
              "<style scoped>\n",
              "    .dataframe tbody tr th:only-of-type {\n",
              "        vertical-align: middle;\n",
              "    }\n",
              "\n",
              "    .dataframe tbody tr th {\n",
              "        vertical-align: top;\n",
              "    }\n",
              "\n",
              "    .dataframe thead th {\n",
              "        text-align: right;\n",
              "    }\n",
              "</style>\n",
              "<table border=\"1\" class=\"dataframe\">\n",
              "  <thead>\n",
              "    <tr style=\"text-align: right;\">\n",
              "      <th></th>\n",
              "      <th>Имя</th>\n",
              "      <th>Улица</th>\n",
              "      <th>Почтовый код</th>\n",
              "    </tr>\n",
              "  </thead>\n",
              "  <tbody>\n",
              "    <tr>\n",
              "      <th>0</th>\n",
              "      <td>Moshe</td>\n",
              "      <td>Pervomay Street</td>\n",
              "      <td>141700</td>\n",
              "    </tr>\n",
              "    <tr>\n",
              "      <th>1</th>\n",
              "      <td>Lisa</td>\n",
              "      <td>Pervomay Street</td>\n",
              "      <td>141700</td>\n",
              "    </tr>\n",
              "  </tbody>\n",
              "</table>\n",
              "</div>"
            ],
            "text/plain": [
              "     Имя            Улица Почтовый код\n",
              "0  Moshe  Pervomay Street       141700\n",
              "1   Lisa  Pervomay Street       141700"
            ]
          },
          "metadata": {
            "tags": []
          },
          "execution_count": 48
        }
      ]
    },
    {
      "cell_type": "markdown",
      "metadata": {
        "id": "NX2Jp5Bi0-Fe"
      },
      "source": [
        "Задача на изображении HW_task.png решена в файле Add_column_without_OVER().ipynb"
      ]
    },
    {
      "cell_type": "markdown",
      "metadata": {
        "id": "JKrp-BOtxVz7"
      },
      "source": [
        "# Работа с датами"
      ]
    },
    {
      "cell_type": "markdown",
      "metadata": {
        "id": "dEEI2CaFyHH1"
      },
      "source": [
        "## Date\n",
        "\n",
        "MySQL DATE - один из пяти временных типов данных, используемых для управления значениями даты. MySQL использует формат гггг-мм-дд для хранения значения даты. Этот формат является фиксированным, и его невозможно изменить. (Для собственных форматов дат используйте DATE_FORMAT)\n",
        "\n",
        "MySQL использует 3 байта для хранения значения DATE. Значения ДАТЫ варьируются от 1000-01-01 до 9999-12-31."
      ]
    },
    {
      "cell_type": "code",
      "metadata": {
        "colab": {
          "base_uri": "https://localhost:8080/"
        },
        "id": "mfCSKHubqHOq",
        "outputId": "422d09ba-a500-4a02-a5ad-7cbe44b09e6d"
      },
      "source": [
        "connection.execute('''\n",
        "CREATE TABLE people (\n",
        "    id INT AUTO_INCREMENT PRIMARY KEY,\n",
        "    first_name VARCHAR(50) NOT NULL,\n",
        "    last_name VARCHAR(50) NOT NULL,\n",
        "    birth_date DATE NOT NULL\n",
        ");\n",
        "''')"
      ],
      "execution_count": 49,
      "outputs": [
        {
          "output_type": "execute_result",
          "data": {
            "text/plain": [
              "<sqlalchemy.engine.result.ResultProxy at 0x7fb208ad0f60>"
            ]
          },
          "metadata": {
            "tags": []
          },
          "execution_count": 49
        }
      ]
    },
    {
      "cell_type": "code",
      "metadata": {
        "colab": {
          "base_uri": "https://localhost:8080/"
        },
        "id": "d00r9x71xYgO",
        "outputId": "71f8c14c-4b61-4adc-96a5-46da4ce8cbaf"
      },
      "source": [
        "engine.table_names()"
      ],
      "execution_count": 50,
      "outputs": [
        {
          "output_type": "execute_result",
          "data": {
            "text/plain": [
              "['address', 'people', 'person']"
            ]
          },
          "metadata": {
            "tags": []
          },
          "execution_count": 50
        }
      ]
    },
    {
      "cell_type": "code",
      "metadata": {
        "colab": {
          "base_uri": "https://localhost:8080/",
          "height": 49
        },
        "id": "1tld4rn9xYpM",
        "outputId": "c81755dc-b807-49c6-a0e9-828bacc38b8a"
      },
      "source": [
        "pd.read_sql('''SELECT * from people''', connection)"
      ],
      "execution_count": 51,
      "outputs": [
        {
          "output_type": "execute_result",
          "data": {
            "text/html": [
              "<div>\n",
              "<style scoped>\n",
              "    .dataframe tbody tr th:only-of-type {\n",
              "        vertical-align: middle;\n",
              "    }\n",
              "\n",
              "    .dataframe tbody tr th {\n",
              "        vertical-align: top;\n",
              "    }\n",
              "\n",
              "    .dataframe thead th {\n",
              "        text-align: right;\n",
              "    }\n",
              "</style>\n",
              "<table border=\"1\" class=\"dataframe\">\n",
              "  <thead>\n",
              "    <tr style=\"text-align: right;\">\n",
              "      <th></th>\n",
              "      <th>id</th>\n",
              "      <th>first_name</th>\n",
              "      <th>last_name</th>\n",
              "      <th>birth_date</th>\n",
              "    </tr>\n",
              "  </thead>\n",
              "  <tbody>\n",
              "  </tbody>\n",
              "</table>\n",
              "</div>"
            ],
            "text/plain": [
              "Empty DataFrame\n",
              "Columns: [id, first_name, last_name, birth_date]\n",
              "Index: []"
            ]
          },
          "metadata": {
            "tags": []
          },
          "execution_count": 51
        }
      ]
    },
    {
      "cell_type": "markdown",
      "metadata": {
        "id": "HK4I_i6Pyk8q"
      },
      "source": [
        "Добавим элемент"
      ]
    },
    {
      "cell_type": "code",
      "metadata": {
        "colab": {
          "base_uri": "https://localhost:8080/"
        },
        "id": "HwU9Vu4VqHQj",
        "outputId": "961c270f-d411-4a74-90c3-8f5398781d95"
      },
      "source": [
        "connection.execute('''\n",
        "INSERT INTO people(first_name, last_name, birth_date)\n",
        "VALUES('John','Doe','1990-09-01');\n",
        "''')"
      ],
      "execution_count": 52,
      "outputs": [
        {
          "output_type": "execute_result",
          "data": {
            "text/plain": [
              "<sqlalchemy.engine.result.ResultProxy at 0x7fb208ad6f28>"
            ]
          },
          "metadata": {
            "tags": []
          },
          "execution_count": 52
        }
      ]
    },
    {
      "cell_type": "markdown",
      "metadata": {
        "id": "ujZcNsq7yjPV"
      },
      "source": [
        "Посмотрим на результат"
      ]
    },
    {
      "cell_type": "code",
      "metadata": {
        "colab": {
          "base_uri": "https://localhost:8080/",
          "height": 80
        },
        "id": "UlTPeilgyfFF",
        "outputId": "ff55051c-fed6-4230-f131-d347275c22c9"
      },
      "source": [
        "pd.read_sql('''\n",
        "SELECT \n",
        "    first_name, \n",
        "    last_name, \n",
        "    birth_date\n",
        "FROM\n",
        "    people;\n",
        "''', connection)"
      ],
      "execution_count": 53,
      "outputs": [
        {
          "output_type": "execute_result",
          "data": {
            "text/html": [
              "<div>\n",
              "<style scoped>\n",
              "    .dataframe tbody tr th:only-of-type {\n",
              "        vertical-align: middle;\n",
              "    }\n",
              "\n",
              "    .dataframe tbody tr th {\n",
              "        vertical-align: top;\n",
              "    }\n",
              "\n",
              "    .dataframe thead th {\n",
              "        text-align: right;\n",
              "    }\n",
              "</style>\n",
              "<table border=\"1\" class=\"dataframe\">\n",
              "  <thead>\n",
              "    <tr style=\"text-align: right;\">\n",
              "      <th></th>\n",
              "      <th>first_name</th>\n",
              "      <th>last_name</th>\n",
              "      <th>birth_date</th>\n",
              "    </tr>\n",
              "  </thead>\n",
              "  <tbody>\n",
              "    <tr>\n",
              "      <th>0</th>\n",
              "      <td>John</td>\n",
              "      <td>Doe</td>\n",
              "      <td>1990-09-01</td>\n",
              "    </tr>\n",
              "  </tbody>\n",
              "</table>\n",
              "</div>"
            ],
            "text/plain": [
              "  first_name last_name  birth_date\n",
              "0       John       Doe  1990-09-01"
            ]
          },
          "metadata": {
            "tags": []
          },
          "execution_count": 53
        }
      ]
    },
    {
      "cell_type": "markdown",
      "metadata": {
        "id": "_qtkJ766yuL3"
      },
      "source": [
        "## Функции от дат"
      ]
    },
    {
      "cell_type": "code",
      "metadata": {
        "colab": {
          "base_uri": "https://localhost:8080/"
        },
        "id": "XJSZqubizNTu",
        "outputId": "3ded91ee-48f4-47bb-ac42-cb92f97b2841"
      },
      "source": [
        "!pip install mysql-connector-python"
      ],
      "execution_count": 54,
      "outputs": [
        {
          "output_type": "stream",
          "text": [
            "Collecting mysql-connector-python\n",
            "\u001b[?25l  Downloading https://files.pythonhosted.org/packages/6c/1d/e666f7d43496a2315d3963a2fb7f8df84e7293b4ddbf05e46d6bdb4a8892/mysql_connector_python-8.0.22-cp36-cp36m-manylinux1_x86_64.whl (18.0MB)\n",
            "\u001b[K     |████████████████████████████████| 18.0MB 235kB/s \n",
            "\u001b[?25hRequirement already satisfied: protobuf>=3.0.0 in /usr/local/lib/python3.6/dist-packages (from mysql-connector-python) (3.12.4)\n",
            "Requirement already satisfied: setuptools in /usr/local/lib/python3.6/dist-packages (from protobuf>=3.0.0->mysql-connector-python) (50.3.2)\n",
            "Requirement already satisfied: six>=1.9 in /usr/local/lib/python3.6/dist-packages (from protobuf>=3.0.0->mysql-connector-python) (1.15.0)\n",
            "Installing collected packages: mysql-connector-python\n",
            "Successfully installed mysql-connector-python-8.0.22\n"
          ],
          "name": "stdout"
        }
      ]
    },
    {
      "cell_type": "code",
      "metadata": {
        "colab": {
          "base_uri": "https://localhost:8080/"
        },
        "id": "RZRazmmpyfPK",
        "outputId": "175dccc4-a22c-4aba-a6c5-94f837f0dec7"
      },
      "source": [
        "import datetime\n",
        "datetime.datetime.now() #текущее время"
      ],
      "execution_count": 55,
      "outputs": [
        {
          "output_type": "execute_result",
          "data": {
            "text/plain": [
              "datetime.datetime(2020, 12, 17, 17, 53, 25, 402298)"
            ]
          },
          "metadata": {
            "tags": []
          },
          "execution_count": 55
        }
      ]
    },
    {
      "cell_type": "code",
      "metadata": {
        "colab": {
          "base_uri": "https://localhost:8080/",
          "height": 80
        },
        "id": "OpmjMO4Gywo-",
        "outputId": "924330ae-a9ed-4f73-e498-600fc1560fa3"
      },
      "source": [
        "pd.read_sql('''\n",
        "SELECT CURRENT_TIMESTAMP\n",
        "''', connection)"
      ],
      "execution_count": 56,
      "outputs": [
        {
          "output_type": "execute_result",
          "data": {
            "text/html": [
              "<div>\n",
              "<style scoped>\n",
              "    .dataframe tbody tr th:only-of-type {\n",
              "        vertical-align: middle;\n",
              "    }\n",
              "\n",
              "    .dataframe tbody tr th {\n",
              "        vertical-align: top;\n",
              "    }\n",
              "\n",
              "    .dataframe thead th {\n",
              "        text-align: right;\n",
              "    }\n",
              "</style>\n",
              "<table border=\"1\" class=\"dataframe\">\n",
              "  <thead>\n",
              "    <tr style=\"text-align: right;\">\n",
              "      <th></th>\n",
              "      <th>CURRENT_TIMESTAMP</th>\n",
              "    </tr>\n",
              "  </thead>\n",
              "  <tbody>\n",
              "    <tr>\n",
              "      <th>0</th>\n",
              "      <td>2020-12-17 17:53:25</td>\n",
              "    </tr>\n",
              "  </tbody>\n",
              "</table>\n",
              "</div>"
            ],
            "text/plain": [
              "     CURRENT_TIMESTAMP\n",
              "0  2020-12-17 17:53:25"
            ]
          },
          "metadata": {
            "tags": []
          },
          "execution_count": 56
        }
      ]
    },
    {
      "cell_type": "code",
      "metadata": {
        "colab": {
          "base_uri": "https://localhost:8080/",
          "height": 80
        },
        "id": "GAL3TJ-P19LU",
        "outputId": "4c23561d-cdaa-4a0a-adbc-386f0feaebf8"
      },
      "source": [
        "pd.read_sql('''\n",
        "SELECT DATE(CURRENT_TIMESTAMP) as `текущее время`;\n",
        "''', connection)"
      ],
      "execution_count": 57,
      "outputs": [
        {
          "output_type": "execute_result",
          "data": {
            "text/html": [
              "<div>\n",
              "<style scoped>\n",
              "    .dataframe tbody tr th:only-of-type {\n",
              "        vertical-align: middle;\n",
              "    }\n",
              "\n",
              "    .dataframe tbody tr th {\n",
              "        vertical-align: top;\n",
              "    }\n",
              "\n",
              "    .dataframe thead th {\n",
              "        text-align: right;\n",
              "    }\n",
              "</style>\n",
              "<table border=\"1\" class=\"dataframe\">\n",
              "  <thead>\n",
              "    <tr style=\"text-align: right;\">\n",
              "      <th></th>\n",
              "      <th>текущее время</th>\n",
              "    </tr>\n",
              "  </thead>\n",
              "  <tbody>\n",
              "    <tr>\n",
              "      <th>0</th>\n",
              "      <td>2020-12-17</td>\n",
              "    </tr>\n",
              "  </tbody>\n",
              "</table>\n",
              "</div>"
            ],
            "text/plain": [
              "  текущее время\n",
              "0    2020-12-17"
            ]
          },
          "metadata": {
            "tags": []
          },
          "execution_count": 57
        }
      ]
    },
    {
      "cell_type": "code",
      "metadata": {
        "colab": {
          "base_uri": "https://localhost:8080/",
          "height": 80
        },
        "id": "zkjNwB8Bywey",
        "outputId": "8629d3cd-15fd-4f19-d6be-4938d1948958"
      },
      "source": [
        "pd.read_sql('''\n",
        "SELECT CURRENT_TIME\n",
        "''', connection)"
      ],
      "execution_count": 58,
      "outputs": [
        {
          "output_type": "execute_result",
          "data": {
            "text/html": [
              "<div>\n",
              "<style scoped>\n",
              "    .dataframe tbody tr th:only-of-type {\n",
              "        vertical-align: middle;\n",
              "    }\n",
              "\n",
              "    .dataframe tbody tr th {\n",
              "        vertical-align: top;\n",
              "    }\n",
              "\n",
              "    .dataframe thead th {\n",
              "        text-align: right;\n",
              "    }\n",
              "</style>\n",
              "<table border=\"1\" class=\"dataframe\">\n",
              "  <thead>\n",
              "    <tr style=\"text-align: right;\">\n",
              "      <th></th>\n",
              "      <th>CURRENT_TIME</th>\n",
              "    </tr>\n",
              "  </thead>\n",
              "  <tbody>\n",
              "    <tr>\n",
              "      <th>0</th>\n",
              "      <td>17:53:25</td>\n",
              "    </tr>\n",
              "  </tbody>\n",
              "</table>\n",
              "</div>"
            ],
            "text/plain": [
              "  CURRENT_TIME\n",
              "0     17:53:25"
            ]
          },
          "metadata": {
            "tags": []
          },
          "execution_count": 58
        }
      ]
    },
    {
      "cell_type": "markdown",
      "metadata": {
        "id": "G1L0QsEr9Z_q"
      },
      "source": [
        "## Работа с триггером\n",
        "\n",
        "Триггеры по своей сути представляют обработчики событий. Они выполняются при наступлении какого-либо простого действия в SQL. Такими действиями обычно являются: удаление, вставка и обновление данных.\n",
        "\n",
        "То есть, триггер — это по сути ловушка, которая срабатывает при определенном действии. Триггер позволяет автоматизировать некоторые расчетные рутинные действия. Примеры мы разберем дальше.\n",
        "\n",
        "Оператор для создания следующий:\n",
        "\n",
        "`CREATE TRIGGER name_trigger`\n",
        "\n",
        "После оператора и имени триггера необходимо указать в каком случае будет срабатывать триггер. Возможно 6 вариантов:\n",
        "\n",
        "* BEFORE INSERT\n",
        "* BEFORE UPDATE\n",
        "* BEFORE DELETE\n",
        "* AFTER INSERT\n",
        "* AFTER UPDATE\n",
        "* AFTER DELETE"
      ]
    },
    {
      "cell_type": "code",
      "metadata": {
        "colab": {
          "base_uri": "https://localhost:8080/"
        },
        "id": "Qn2B8hiZ9eha",
        "outputId": "ca2d9c4e-ccd4-4ca7-9a8c-0989a49f5110"
      },
      "source": [
        "connection.execute(\n",
        "'''\n",
        "CREATE TABLE IF NOT EXISTS test_table(\n",
        "    id int INTEGER AUTO_INCREMENT PRIMARY KEY NOT NULL,\n",
        "    text TEXT NOT NULL\n",
        ");\n",
        "''')"
      ],
      "execution_count": 59,
      "outputs": [
        {
          "output_type": "execute_result",
          "data": {
            "text/plain": [
              "<sqlalchemy.engine.result.ResultProxy at 0x7fb208aeb5c0>"
            ]
          },
          "metadata": {
            "tags": []
          },
          "execution_count": 59
        }
      ]
    },
    {
      "cell_type": "code",
      "metadata": {
        "colab": {
          "base_uri": "https://localhost:8080/"
        },
        "id": "RXjeOmK59m6E",
        "outputId": "8b937061-90ac-46b6-87b6-223c7d4abd04"
      },
      "source": [
        "connection.execute('''\n",
        "    CREATE TABLE IF NOT EXISTS log_data(\n",
        "        id int AUTO_INCREMENT PRIMARY KEY,\n",
        "        action text not null,\n",
        "        table_name text not null\n",
        "    );\n",
        "''')"
      ],
      "execution_count": 60,
      "outputs": [
        {
          "output_type": "execute_result",
          "data": {
            "text/plain": [
              "<sqlalchemy.engine.result.ResultProxy at 0x7fb208aeb8d0>"
            ]
          },
          "metadata": {
            "tags": []
          },
          "execution_count": 60
        }
      ]
    },
    {
      "cell_type": "code",
      "metadata": {
        "colab": {
          "base_uri": "https://localhost:8080/"
        },
        "id": "lYFVO6GR_Zj_",
        "outputId": "e8b83310-7132-43ef-df41-97875d1667aa"
      },
      "source": [
        "connection.execute('''\n",
        "    CREATE TRIGGER log_changes AFTER INSERT ON test_table\n",
        "    FOR EACH ROW BEGIN\n",
        "        INSERT INTO log_data (table_name, action) \n",
        "        VALUES ('test_table', 'add row');\n",
        "    END;\n",
        "''')"
      ],
      "execution_count": 61,
      "outputs": [
        {
          "output_type": "execute_result",
          "data": {
            "text/plain": [
              "<sqlalchemy.engine.result.ResultProxy at 0x7fb208ad6128>"
            ]
          },
          "metadata": {
            "tags": []
          },
          "execution_count": 61
        }
      ]
    },
    {
      "cell_type": "code",
      "metadata": {
        "colab": {
          "base_uri": "https://localhost:8080/"
        },
        "id": "fP41iFDh9esN",
        "outputId": "3c655b55-0e19-4d1d-f94f-75ac4dec118b"
      },
      "source": [
        "connection.execute('''\n",
        "insert into test_table(id, text) values (1, 'tt')\n",
        "''')"
      ],
      "execution_count": 62,
      "outputs": [
        {
          "output_type": "execute_result",
          "data": {
            "text/plain": [
              "<sqlalchemy.engine.result.ResultProxy at 0x7fb208ad63c8>"
            ]
          },
          "metadata": {
            "tags": []
          },
          "execution_count": 62
        }
      ]
    },
    {
      "cell_type": "code",
      "metadata": {
        "colab": {
          "base_uri": "https://localhost:8080/",
          "height": 80
        },
        "id": "t8EB0mPG-Ec-",
        "outputId": "de4afe5e-f033-4603-88ee-d2a2b7172464"
      },
      "source": [
        "pd.read_sql('Select * from test_table', connection)"
      ],
      "execution_count": 63,
      "outputs": [
        {
          "output_type": "execute_result",
          "data": {
            "text/html": [
              "<div>\n",
              "<style scoped>\n",
              "    .dataframe tbody tr th:only-of-type {\n",
              "        vertical-align: middle;\n",
              "    }\n",
              "\n",
              "    .dataframe tbody tr th {\n",
              "        vertical-align: top;\n",
              "    }\n",
              "\n",
              "    .dataframe thead th {\n",
              "        text-align: right;\n",
              "    }\n",
              "</style>\n",
              "<table border=\"1\" class=\"dataframe\">\n",
              "  <thead>\n",
              "    <tr style=\"text-align: right;\">\n",
              "      <th></th>\n",
              "      <th>id</th>\n",
              "      <th>text</th>\n",
              "    </tr>\n",
              "  </thead>\n",
              "  <tbody>\n",
              "    <tr>\n",
              "      <th>0</th>\n",
              "      <td>1</td>\n",
              "      <td>tt</td>\n",
              "    </tr>\n",
              "  </tbody>\n",
              "</table>\n",
              "</div>"
            ],
            "text/plain": [
              "   id text\n",
              "0   1   tt"
            ]
          },
          "metadata": {
            "tags": []
          },
          "execution_count": 63
        }
      ]
    },
    {
      "cell_type": "code",
      "metadata": {
        "colab": {
          "base_uri": "https://localhost:8080/",
          "height": 80
        },
        "id": "lZoi0DRj9euw",
        "outputId": "473768fc-8243-4b21-a8f4-bb0b185adeeb"
      },
      "source": [
        "pd.read_sql('Select * from log_data', connection)"
      ],
      "execution_count": 64,
      "outputs": [
        {
          "output_type": "execute_result",
          "data": {
            "text/html": [
              "<div>\n",
              "<style scoped>\n",
              "    .dataframe tbody tr th:only-of-type {\n",
              "        vertical-align: middle;\n",
              "    }\n",
              "\n",
              "    .dataframe tbody tr th {\n",
              "        vertical-align: top;\n",
              "    }\n",
              "\n",
              "    .dataframe thead th {\n",
              "        text-align: right;\n",
              "    }\n",
              "</style>\n",
              "<table border=\"1\" class=\"dataframe\">\n",
              "  <thead>\n",
              "    <tr style=\"text-align: right;\">\n",
              "      <th></th>\n",
              "      <th>id</th>\n",
              "      <th>action</th>\n",
              "      <th>table_name</th>\n",
              "    </tr>\n",
              "  </thead>\n",
              "  <tbody>\n",
              "    <tr>\n",
              "      <th>0</th>\n",
              "      <td>None</td>\n",
              "      <td>add row</td>\n",
              "      <td>test_table</td>\n",
              "    </tr>\n",
              "  </tbody>\n",
              "</table>\n",
              "</div>"
            ],
            "text/plain": [
              "     id   action  table_name\n",
              "0  None  add row  test_table"
            ]
          },
          "metadata": {
            "tags": []
          },
          "execution_count": 64
        }
      ]
    },
    {
      "cell_type": "code",
      "metadata": {
        "colab": {
          "base_uri": "https://localhost:8080/"
        },
        "id": "wKBZUDNP_y67",
        "outputId": "7932b839-d11e-4d1c-e652-2f5d90a2a43f"
      },
      "source": [
        "connection.execute('''\n",
        "insert into test_table(id, text) values (2, 'tt')\n",
        "''')"
      ],
      "execution_count": 65,
      "outputs": [
        {
          "output_type": "execute_result",
          "data": {
            "text/plain": [
              "<sqlalchemy.engine.result.ResultProxy at 0x7fb208adfe80>"
            ]
          },
          "metadata": {
            "tags": []
          },
          "execution_count": 65
        }
      ]
    },
    {
      "cell_type": "code",
      "metadata": {
        "colab": {
          "base_uri": "https://localhost:8080/",
          "height": 111
        },
        "id": "bw81iNJg_zG_",
        "outputId": "70c632bc-e16f-4675-90f1-fb62218308b2"
      },
      "source": [
        "pd.read_sql('Select * from log_data', connection)"
      ],
      "execution_count": 66,
      "outputs": [
        {
          "output_type": "execute_result",
          "data": {
            "text/html": [
              "<div>\n",
              "<style scoped>\n",
              "    .dataframe tbody tr th:only-of-type {\n",
              "        vertical-align: middle;\n",
              "    }\n",
              "\n",
              "    .dataframe tbody tr th {\n",
              "        vertical-align: top;\n",
              "    }\n",
              "\n",
              "    .dataframe thead th {\n",
              "        text-align: right;\n",
              "    }\n",
              "</style>\n",
              "<table border=\"1\" class=\"dataframe\">\n",
              "  <thead>\n",
              "    <tr style=\"text-align: right;\">\n",
              "      <th></th>\n",
              "      <th>id</th>\n",
              "      <th>action</th>\n",
              "      <th>table_name</th>\n",
              "    </tr>\n",
              "  </thead>\n",
              "  <tbody>\n",
              "    <tr>\n",
              "      <th>0</th>\n",
              "      <td>None</td>\n",
              "      <td>add row</td>\n",
              "      <td>test_table</td>\n",
              "    </tr>\n",
              "    <tr>\n",
              "      <th>1</th>\n",
              "      <td>None</td>\n",
              "      <td>add row</td>\n",
              "      <td>test_table</td>\n",
              "    </tr>\n",
              "  </tbody>\n",
              "</table>\n",
              "</div>"
            ],
            "text/plain": [
              "     id   action  table_name\n",
              "0  None  add row  test_table\n",
              "1  None  add row  test_table"
            ]
          },
          "metadata": {
            "tags": []
          },
          "execution_count": 66
        }
      ]
    },
    {
      "cell_type": "markdown",
      "metadata": {
        "id": "QCZ58eH2AE0M"
      },
      "source": [
        "Создание базы данных подписок по id"
      ]
    },
    {
      "cell_type": "code",
      "metadata": {
        "colab": {
          "base_uri": "https://localhost:8080/"
        },
        "id": "FddD76GpADex",
        "outputId": "ace03f0c-0d9a-4f91-f6b8-8e8a537ab8a8"
      },
      "source": [
        "connection.execute('''\n",
        "CREATE TABLE IF NOT EXISTS subscriptions(\n",
        "    subscriptionId INT AUTO_INCREMENT,\n",
        "    userId INT,\n",
        "    dailyEmail BOOLEAN NOT NULL DEFAULT FALSE,\n",
        "    weeklyEmail BOOLEAN NOT NULL DEFAULT FALSE,\n",
        "    specialOffer BOOLEAN NOT NULL DEFAULT FALSE,\n",
        "    phone BOOLEAN NOT NULL DEFAULT FALSE,\n",
        "    PRIMARY KEY (subscriptionId)\n",
        "    );\n",
        "''')"
      ],
      "execution_count": 67,
      "outputs": [
        {
          "output_type": "execute_result",
          "data": {
            "text/plain": [
              "<sqlalchemy.engine.result.ResultProxy at 0x7fb208446fd0>"
            ]
          },
          "metadata": {
            "tags": []
          },
          "execution_count": 67
        }
      ]
    },
    {
      "cell_type": "markdown",
      "metadata": {
        "id": "5n35eu7LAJHP"
      },
      "source": [
        "Создание базы данных пользователей с внешним ключем на список подписок"
      ]
    },
    {
      "cell_type": "code",
      "metadata": {
        "colab": {
          "base_uri": "https://localhost:8080/"
        },
        "id": "vw1SpcrcADq5",
        "outputId": "001aa2c6-75dd-4af4-e749-dcc0179b23af"
      },
      "source": [
        "connection.execute('''\n",
        "CREATE TABLE IF NOT EXISTS users(\n",
        "    userId INT AUTO_INCREMENT,\n",
        "    subscription_id INT,\n",
        "    firstName VARCHAR(255) NOT NULL,\n",
        "    secondName VARCHAR(255) NOT NULL,\n",
        "    email VARCHAR(255) NOT NULL,\n",
        "    emailConfimed BOOLEAN NOT NULL DEFAULT FALSE,\n",
        "    PRIMARY KEY (userId),\n",
        "    FOREIGN KEY (subscription_id)\n",
        "        REFERENCES subscriptions(subscriptionId)\n",
        "        ON UPDATE RESTRICT ON DELETE CASCADE\n",
        "    );\n",
        "''')"
      ],
      "execution_count": 68,
      "outputs": [
        {
          "output_type": "execute_result",
          "data": {
            "text/plain": [
              "<sqlalchemy.engine.result.ResultProxy at 0x7fb20844f278>"
            ]
          },
          "metadata": {
            "tags": []
          },
          "execution_count": 68
        }
      ]
    },
    {
      "cell_type": "markdown",
      "metadata": {
        "id": "JsN2ORwZAOOT"
      },
      "source": [
        "Загрузим пустую бд и удалим id (чтоб не получить ошибки автоинкремента)"
      ]
    },
    {
      "cell_type": "code",
      "metadata": {
        "colab": {
          "base_uri": "https://localhost:8080/",
          "height": 49
        },
        "id": "YfWVewCzAD4O",
        "outputId": "08301c2c-949f-4bd3-f6da-6eb8b34e4a5e"
      },
      "source": [
        "subscriptions = pd.read_sql('Select * from subscriptions', connection)\n",
        "# дропаем столбец, который автоинкрементируется\n",
        "del subscriptions['subscriptionId']\n",
        "subscriptions.head()"
      ],
      "execution_count": 69,
      "outputs": [
        {
          "output_type": "execute_result",
          "data": {
            "text/html": [
              "<div>\n",
              "<style scoped>\n",
              "    .dataframe tbody tr th:only-of-type {\n",
              "        vertical-align: middle;\n",
              "    }\n",
              "\n",
              "    .dataframe tbody tr th {\n",
              "        vertical-align: top;\n",
              "    }\n",
              "\n",
              "    .dataframe thead th {\n",
              "        text-align: right;\n",
              "    }\n",
              "</style>\n",
              "<table border=\"1\" class=\"dataframe\">\n",
              "  <thead>\n",
              "    <tr style=\"text-align: right;\">\n",
              "      <th></th>\n",
              "      <th>userId</th>\n",
              "      <th>dailyEmail</th>\n",
              "      <th>weeklyEmail</th>\n",
              "      <th>specialOffer</th>\n",
              "      <th>phone</th>\n",
              "    </tr>\n",
              "  </thead>\n",
              "  <tbody>\n",
              "  </tbody>\n",
              "</table>\n",
              "</div>"
            ],
            "text/plain": [
              "Empty DataFrame\n",
              "Columns: [userId, dailyEmail, weeklyEmail, specialOffer, phone]\n",
              "Index: []"
            ]
          },
          "metadata": {
            "tags": []
          },
          "execution_count": 69
        }
      ]
    },
    {
      "cell_type": "markdown",
      "metadata": {
        "id": "Pd5TWDImAQtd"
      },
      "source": [
        "добавим строку в конец датафрейма"
      ]
    },
    {
      "cell_type": "code",
      "metadata": {
        "colab": {
          "base_uri": "https://localhost:8080/",
          "height": 80
        },
        "id": "843IXEF3AD61",
        "outputId": "d6a1ae80-1e1c-4cc5-fe3a-82686f4d6ed7"
      },
      "source": [
        "subscriptions.loc[len(subscriptions)] = [0, False, False, False, False]\n",
        "subscriptions.head()"
      ],
      "execution_count": 70,
      "outputs": [
        {
          "output_type": "execute_result",
          "data": {
            "text/html": [
              "<div>\n",
              "<style scoped>\n",
              "    .dataframe tbody tr th:only-of-type {\n",
              "        vertical-align: middle;\n",
              "    }\n",
              "\n",
              "    .dataframe tbody tr th {\n",
              "        vertical-align: top;\n",
              "    }\n",
              "\n",
              "    .dataframe thead th {\n",
              "        text-align: right;\n",
              "    }\n",
              "</style>\n",
              "<table border=\"1\" class=\"dataframe\">\n",
              "  <thead>\n",
              "    <tr style=\"text-align: right;\">\n",
              "      <th></th>\n",
              "      <th>userId</th>\n",
              "      <th>dailyEmail</th>\n",
              "      <th>weeklyEmail</th>\n",
              "      <th>specialOffer</th>\n",
              "      <th>phone</th>\n",
              "    </tr>\n",
              "  </thead>\n",
              "  <tbody>\n",
              "    <tr>\n",
              "      <th>0</th>\n",
              "      <td>0</td>\n",
              "      <td>False</td>\n",
              "      <td>False</td>\n",
              "      <td>False</td>\n",
              "      <td>False</td>\n",
              "    </tr>\n",
              "  </tbody>\n",
              "</table>\n",
              "</div>"
            ],
            "text/plain": [
              "  userId dailyEmail weeklyEmail specialOffer  phone\n",
              "0      0      False       False        False  False"
            ]
          },
          "metadata": {
            "tags": []
          },
          "execution_count": 70
        }
      ]
    },
    {
      "cell_type": "markdown",
      "metadata": {
        "id": "_pLNxwlkAV6W"
      },
      "source": [
        "Добавим датафрейм в таблицу"
      ]
    },
    {
      "cell_type": "code",
      "metadata": {
        "id": "azOHj7C1ARqO"
      },
      "source": [
        "# добавляем в конец\n",
        "subscriptions.to_sql('subscriptions', connection, if_exists='append', index=False)"
      ],
      "execution_count": 71,
      "outputs": []
    },
    {
      "cell_type": "code",
      "metadata": {
        "colab": {
          "base_uri": "https://localhost:8080/",
          "height": 80
        },
        "id": "fuVJkyqeAXgy",
        "outputId": "60b9eb13-de23-48e4-a303-a1eb8b74465e"
      },
      "source": [
        "pd.read_sql('Select * from subscriptions', connection)"
      ],
      "execution_count": 72,
      "outputs": [
        {
          "output_type": "execute_result",
          "data": {
            "text/html": [
              "<div>\n",
              "<style scoped>\n",
              "    .dataframe tbody tr th:only-of-type {\n",
              "        vertical-align: middle;\n",
              "    }\n",
              "\n",
              "    .dataframe tbody tr th {\n",
              "        vertical-align: top;\n",
              "    }\n",
              "\n",
              "    .dataframe thead th {\n",
              "        text-align: right;\n",
              "    }\n",
              "</style>\n",
              "<table border=\"1\" class=\"dataframe\">\n",
              "  <thead>\n",
              "    <tr style=\"text-align: right;\">\n",
              "      <th></th>\n",
              "      <th>subscriptionId</th>\n",
              "      <th>userId</th>\n",
              "      <th>dailyEmail</th>\n",
              "      <th>weeklyEmail</th>\n",
              "      <th>specialOffer</th>\n",
              "      <th>phone</th>\n",
              "    </tr>\n",
              "  </thead>\n",
              "  <tbody>\n",
              "    <tr>\n",
              "      <th>0</th>\n",
              "      <td>None</td>\n",
              "      <td>0</td>\n",
              "      <td>0</td>\n",
              "      <td>0</td>\n",
              "      <td>0</td>\n",
              "      <td>0</td>\n",
              "    </tr>\n",
              "  </tbody>\n",
              "</table>\n",
              "</div>"
            ],
            "text/plain": [
              "  subscriptionId  userId  dailyEmail  weeklyEmail  specialOffer  phone\n",
              "0           None       0           0            0             0      0"
            ]
          },
          "metadata": {
            "tags": []
          },
          "execution_count": 72
        }
      ]
    },
    {
      "cell_type": "markdown",
      "metadata": {
        "id": "ZyQFsIVgAeJq"
      },
      "source": [
        "\n",
        "Создадим пользователя и удалим userId (чтоб не было ошибок автоинкремента)"
      ]
    },
    {
      "cell_type": "code",
      "metadata": {
        "colab": {
          "base_uri": "https://localhost:8080/",
          "height": 49
        },
        "id": "NOJg_X2iAXtW",
        "outputId": "baaf4e0c-0b69-4094-fe62-950c61ca805f"
      },
      "source": [
        "# создаем пользователя\n",
        "users = pd.read_sql('Select * from users', connection)\n",
        "# дропаем столбец, который автоинкрементируется\n",
        "del users['userId']\n",
        "users.head()"
      ],
      "execution_count": 73,
      "outputs": [
        {
          "output_type": "execute_result",
          "data": {
            "text/html": [
              "<div>\n",
              "<style scoped>\n",
              "    .dataframe tbody tr th:only-of-type {\n",
              "        vertical-align: middle;\n",
              "    }\n",
              "\n",
              "    .dataframe tbody tr th {\n",
              "        vertical-align: top;\n",
              "    }\n",
              "\n",
              "    .dataframe thead th {\n",
              "        text-align: right;\n",
              "    }\n",
              "</style>\n",
              "<table border=\"1\" class=\"dataframe\">\n",
              "  <thead>\n",
              "    <tr style=\"text-align: right;\">\n",
              "      <th></th>\n",
              "      <th>subscription_id</th>\n",
              "      <th>firstName</th>\n",
              "      <th>secondName</th>\n",
              "      <th>email</th>\n",
              "      <th>emailConfimed</th>\n",
              "    </tr>\n",
              "  </thead>\n",
              "  <tbody>\n",
              "  </tbody>\n",
              "</table>\n",
              "</div>"
            ],
            "text/plain": [
              "Empty DataFrame\n",
              "Columns: [subscription_id, firstName, secondName, email, emailConfimed]\n",
              "Index: []"
            ]
          },
          "metadata": {
            "tags": []
          },
          "execution_count": 73
        }
      ]
    },
    {
      "cell_type": "code",
      "metadata": {
        "colab": {
          "base_uri": "https://localhost:8080/",
          "height": 80
        },
        "id": "uvXQ9gZ-ARsx",
        "outputId": "a6aec5fd-f53b-469b-c9c7-1eadb5007ac6"
      },
      "source": [
        "users.loc[len(users)] = [1, 'Illya', 'Tykhov', 'tixons.work@gmail.com', True]\n",
        "users.head()"
      ],
      "execution_count": 74,
      "outputs": [
        {
          "output_type": "execute_result",
          "data": {
            "text/html": [
              "<div>\n",
              "<style scoped>\n",
              "    .dataframe tbody tr th:only-of-type {\n",
              "        vertical-align: middle;\n",
              "    }\n",
              "\n",
              "    .dataframe tbody tr th {\n",
              "        vertical-align: top;\n",
              "    }\n",
              "\n",
              "    .dataframe thead th {\n",
              "        text-align: right;\n",
              "    }\n",
              "</style>\n",
              "<table border=\"1\" class=\"dataframe\">\n",
              "  <thead>\n",
              "    <tr style=\"text-align: right;\">\n",
              "      <th></th>\n",
              "      <th>subscription_id</th>\n",
              "      <th>firstName</th>\n",
              "      <th>secondName</th>\n",
              "      <th>email</th>\n",
              "      <th>emailConfimed</th>\n",
              "    </tr>\n",
              "  </thead>\n",
              "  <tbody>\n",
              "    <tr>\n",
              "      <th>0</th>\n",
              "      <td>1</td>\n",
              "      <td>Illya</td>\n",
              "      <td>Tykhov</td>\n",
              "      <td>tixons.work@gmail.com</td>\n",
              "      <td>True</td>\n",
              "    </tr>\n",
              "  </tbody>\n",
              "</table>\n",
              "</div>"
            ],
            "text/plain": [
              "  subscription_id firstName secondName                  email emailConfimed\n",
              "0               1     Illya     Tykhov  tixons.work@gmail.com          True"
            ]
          },
          "metadata": {
            "tags": []
          },
          "execution_count": 74
        }
      ]
    },
    {
      "cell_type": "markdown",
      "metadata": {
        "id": "Zran9v4kAoiI"
      },
      "source": [
        "Добавим датафрейм в таблицу sql"
      ]
    },
    {
      "cell_type": "code",
      "metadata": {
        "id": "e0aDpDulAEQz"
      },
      "source": [
        "users.to_sql('users', connection, if_exists='append', index=False)"
      ],
      "execution_count": 75,
      "outputs": []
    },
    {
      "cell_type": "code",
      "metadata": {
        "colab": {
          "base_uri": "https://localhost:8080/",
          "height": 80
        },
        "id": "Uy7tyfG5Akgv",
        "outputId": "3c17b235-6f57-4f38-a21d-e0a2ac83de79"
      },
      "source": [
        "pd.read_sql('Select * from users', connection)"
      ],
      "execution_count": 76,
      "outputs": [
        {
          "output_type": "execute_result",
          "data": {
            "text/html": [
              "<div>\n",
              "<style scoped>\n",
              "    .dataframe tbody tr th:only-of-type {\n",
              "        vertical-align: middle;\n",
              "    }\n",
              "\n",
              "    .dataframe tbody tr th {\n",
              "        vertical-align: top;\n",
              "    }\n",
              "\n",
              "    .dataframe thead th {\n",
              "        text-align: right;\n",
              "    }\n",
              "</style>\n",
              "<table border=\"1\" class=\"dataframe\">\n",
              "  <thead>\n",
              "    <tr style=\"text-align: right;\">\n",
              "      <th></th>\n",
              "      <th>userId</th>\n",
              "      <th>subscription_id</th>\n",
              "      <th>firstName</th>\n",
              "      <th>secondName</th>\n",
              "      <th>email</th>\n",
              "      <th>emailConfimed</th>\n",
              "    </tr>\n",
              "  </thead>\n",
              "  <tbody>\n",
              "    <tr>\n",
              "      <th>0</th>\n",
              "      <td>None</td>\n",
              "      <td>1</td>\n",
              "      <td>Illya</td>\n",
              "      <td>Tykhov</td>\n",
              "      <td>tixons.work@gmail.com</td>\n",
              "      <td>1</td>\n",
              "    </tr>\n",
              "  </tbody>\n",
              "</table>\n",
              "</div>"
            ],
            "text/plain": [
              "  userId  subscription_id  ...                  email emailConfimed\n",
              "0   None                1  ...  tixons.work@gmail.com             1\n",
              "\n",
              "[1 rows x 6 columns]"
            ]
          },
          "metadata": {
            "tags": []
          },
          "execution_count": 76
        }
      ]
    },
    {
      "cell_type": "markdown",
      "metadata": {
        "id": "HOHZx79eBdiG"
      },
      "source": [
        "Агрегатная функция выполняет вычисление для нескольких значений и возвращает одно значение. Например, можно использовать агрегатную функцию AVG (), которая принимает несколько чисел и возвращает среднее значение чисел. Синтаксис:\n",
        "\n",
        "`\n",
        "function_name(DISTINCT | ALL expression)\n",
        "`"
      ]
    },
    {
      "cell_type": "code",
      "metadata": {
        "colab": {
          "base_uri": "https://localhost:8080/",
          "height": 80
        },
        "id": "qNhaSleQBVlJ",
        "outputId": "fdcd4b2d-23c4-4f2d-8365-7fd6c5298d8b"
      },
      "source": [
        "pd.read_sql('''\n",
        "SELECT \n",
        "    COUNT(subscription_id) `количество`,\n",
        "    AVG(subscription_id) `средняя величина`,\n",
        "    MIN(subscription_id) `минимальная величина`,\n",
        "    MAX(subscription_id) `максимальная величина`\n",
        "FROM \n",
        "    users;\n",
        "''', connection)"
      ],
      "execution_count": 77,
      "outputs": [
        {
          "output_type": "execute_result",
          "data": {
            "text/html": [
              "<div>\n",
              "<style scoped>\n",
              "    .dataframe tbody tr th:only-of-type {\n",
              "        vertical-align: middle;\n",
              "    }\n",
              "\n",
              "    .dataframe tbody tr th {\n",
              "        vertical-align: top;\n",
              "    }\n",
              "\n",
              "    .dataframe thead th {\n",
              "        text-align: right;\n",
              "    }\n",
              "</style>\n",
              "<table border=\"1\" class=\"dataframe\">\n",
              "  <thead>\n",
              "    <tr style=\"text-align: right;\">\n",
              "      <th></th>\n",
              "      <th>количество</th>\n",
              "      <th>средняя величина</th>\n",
              "      <th>минимальная величина</th>\n",
              "      <th>максимальная величина</th>\n",
              "    </tr>\n",
              "  </thead>\n",
              "  <tbody>\n",
              "    <tr>\n",
              "      <th>0</th>\n",
              "      <td>1</td>\n",
              "      <td>1.0</td>\n",
              "      <td>1</td>\n",
              "      <td>1</td>\n",
              "    </tr>\n",
              "  </tbody>\n",
              "</table>\n",
              "</div>"
            ],
            "text/plain": [
              "   количество  средняя величина  минимальная величина  максимальная величина\n",
              "0           1               1.0                     1                      1"
            ]
          },
          "metadata": {
            "tags": []
          },
          "execution_count": 77
        }
      ]
    },
    {
      "cell_type": "code",
      "metadata": {
        "colab": {
          "base_uri": "https://localhost:8080/",
          "height": 80
        },
        "id": "63Qq_dJWB2rL",
        "outputId": "388a7964-96a1-4ae9-be5f-749090ad1bb1"
      },
      "source": [
        "pd.read_sql('''\n",
        "SELECT \n",
        "    firstName `Имя`, \n",
        "    COUNT(*) `Количество`\n",
        "FROM\n",
        "    users\n",
        "GROUP BY subscription_id\n",
        "ORDER BY subscription_id;\n",
        "''', connection)"
      ],
      "execution_count": 78,
      "outputs": [
        {
          "output_type": "execute_result",
          "data": {
            "text/html": [
              "<div>\n",
              "<style scoped>\n",
              "    .dataframe tbody tr th:only-of-type {\n",
              "        vertical-align: middle;\n",
              "    }\n",
              "\n",
              "    .dataframe tbody tr th {\n",
              "        vertical-align: top;\n",
              "    }\n",
              "\n",
              "    .dataframe thead th {\n",
              "        text-align: right;\n",
              "    }\n",
              "</style>\n",
              "<table border=\"1\" class=\"dataframe\">\n",
              "  <thead>\n",
              "    <tr style=\"text-align: right;\">\n",
              "      <th></th>\n",
              "      <th>Имя</th>\n",
              "      <th>Количество</th>\n",
              "    </tr>\n",
              "  </thead>\n",
              "  <tbody>\n",
              "    <tr>\n",
              "      <th>0</th>\n",
              "      <td>Illya</td>\n",
              "      <td>1</td>\n",
              "    </tr>\n",
              "  </tbody>\n",
              "</table>\n",
              "</div>"
            ],
            "text/plain": [
              "     Имя  Количество\n",
              "0  Illya           1"
            ]
          },
          "metadata": {
            "tags": []
          },
          "execution_count": 78
        }
      ]
    },
    {
      "cell_type": "code",
      "metadata": {
        "id": "S63hrWPhIzUq"
      },
      "source": [
        "# Пример интерфейса для работы с данными"
      ],
      "execution_count": 79,
      "outputs": []
    },
    {
      "cell_type": "code",
      "metadata": {
        "id": "Cy7OzdFTI3pn"
      },
      "source": [
        "import sqlite3\n",
        "conn = sqlite3.connect('mydatabase.db')\n",
        "\n",
        "cursor = conn.cursor()"
      ],
      "execution_count": 80,
      "outputs": []
    },
    {
      "cell_type": "code",
      "metadata": {
        "id": "g0Opz_OOI34b"
      },
      "source": [
        "cursor.execute(\n",
        "'''\n",
        "CREATE TABLE user\n",
        "    (id INTEGER PRIMARY KEY AUTOINCREMENT,\n",
        "    name VARCHAR(255),\n",
        "    lastName VARCHAR(255),\n",
        "    age integer,\n",
        "    deletedFlg integer\n",
        "    )\n",
        "'''\n",
        ")\n",
        "conn.commit()"
      ],
      "execution_count": 81,
      "outputs": []
    },
    {
      "cell_type": "code",
      "metadata": {
        "id": "5PwPbgbeI4HZ"
      },
      "source": [
        "cursor.execute(\n",
        "'''\n",
        "INSERT INTO user(\n",
        "    name,\n",
        "    lastName,\n",
        "    age,\n",
        "    deletedFlg\n",
        ")\n",
        "VALUES ('Петя', 'Иванов', 31, 0)\n",
        "'''\n",
        ")\n",
        "conn.commit()"
      ],
      "execution_count": 82,
      "outputs": []
    },
    {
      "cell_type": "code",
      "metadata": {
        "colab": {
          "base_uri": "https://localhost:8080/"
        },
        "id": "f2z6fXExI4Kb",
        "outputId": "df8285c7-e047-46ab-fe3f-34ddc19e7367"
      },
      "source": [
        "cursor.execute('SELECT * FROM user')\n",
        "db_ =  cursor.fetchall()\n",
        "\n",
        "for element in db_:\n",
        "    print(element)"
      ],
      "execution_count": 83,
      "outputs": [
        {
          "output_type": "stream",
          "text": [
            "(1, 'Петя', 'Иванов', 31, 0)\n"
          ],
          "name": "stdout"
        }
      ]
    },
    {
      "cell_type": "markdown",
      "metadata": {
        "id": "sjKHYejeJ1ii"
      },
      "source": [
        "Добавим еще элементов 2умя способами"
      ]
    },
    {
      "cell_type": "markdown",
      "metadata": {
        "id": "mnC03T0yJ45B"
      },
      "source": [
        "1 способ"
      ]
    },
    {
      "cell_type": "code",
      "metadata": {
        "id": "UrE21eYeI4b5"
      },
      "source": [
        "cursor.execute(\n",
        "'''\n",
        "INSERT INTO user(\n",
        "    name,\n",
        "    lastName,\n",
        "    age,\n",
        "    deletedFlg\n",
        ")\n",
        "VALUES ('Катя', 'Петрова', 30, 0),\n",
        "        ('Аня', 'Воронцова', 25, 0),\n",
        "        ('Дима', 'Петров', 35, 0)\n",
        "'''\n",
        ")\n",
        "conn.commit()"
      ],
      "execution_count": 84,
      "outputs": []
    },
    {
      "cell_type": "code",
      "metadata": {
        "colab": {
          "base_uri": "https://localhost:8080/"
        },
        "id": "VucwRbBzJjBM",
        "outputId": "c25e07d0-6a4d-4d81-aa0b-75593612a7fe"
      },
      "source": [
        "cursor.execute('SELECT * FROM user')\n",
        "db_ =  cursor.fetchall()\n",
        "\n",
        "for element in db_:\n",
        "    print(element)"
      ],
      "execution_count": 85,
      "outputs": [
        {
          "output_type": "stream",
          "text": [
            "(1, 'Петя', 'Иванов', 31, 0)\n",
            "(2, 'Катя', 'Петрова', 30, 0)\n",
            "(3, 'Аня', 'Воронцова', 25, 0)\n",
            "(4, 'Дима', 'Петров', 35, 0)\n"
          ],
          "name": "stdout"
        }
      ]
    },
    {
      "cell_type": "markdown",
      "metadata": {
        "id": "JOUotcYdJ7sJ"
      },
      "source": [
        "2 способ"
      ]
    },
    {
      "cell_type": "code",
      "metadata": {
        "id": "TK4JhQX3J7Ez"
      },
      "source": [
        "values = [\n",
        "          ('Карина', 'Иванова', 26, 0),\n",
        "          ('Вася', 'Воронцов', 28, 0),\n",
        "          ('Света', 'Михайлова', 31, 0)\n",
        "]\n",
        "\n",
        "cursor.executemany('''\n",
        "INSERT INTO user(\n",
        "    name,\n",
        "    lastName,\n",
        "    age,\n",
        "    deletedFlg\n",
        ")\n",
        "VALUES (?, ?, ?, ?)\n",
        "''', values)\n",
        "conn.commit()"
      ],
      "execution_count": 86,
      "outputs": []
    },
    {
      "cell_type": "code",
      "metadata": {
        "colab": {
          "base_uri": "https://localhost:8080/"
        },
        "id": "4CtHmsK3KG9X",
        "outputId": "699d2863-c5f3-441b-fe14-a0861fdeacc9"
      },
      "source": [
        "cursor.execute('SELECT * FROM user')\n",
        "db_ =  cursor.fetchall()\n",
        "\n",
        "for element in db_:\n",
        "    print(element)"
      ],
      "execution_count": 87,
      "outputs": [
        {
          "output_type": "stream",
          "text": [
            "(1, 'Петя', 'Иванов', 31, 0)\n",
            "(2, 'Катя', 'Петрова', 30, 0)\n",
            "(3, 'Аня', 'Воронцова', 25, 0)\n",
            "(4, 'Дима', 'Петров', 35, 0)\n",
            "(5, 'Карина', 'Иванова', 26, 0)\n",
            "(6, 'Вася', 'Воронцов', 28, 0)\n",
            "(7, 'Света', 'Михайлова', 31, 0)\n"
          ],
          "name": "stdout"
        }
      ]
    },
    {
      "cell_type": "markdown",
      "metadata": {
        "id": "FYtlz-y-Jk3F"
      },
      "source": [
        "ЗАДАНИЕ\n",
        "\n",
        "Как вывести результат в таблице pandas dataframe?"
      ]
    },
    {
      "cell_type": "code",
      "metadata": {
        "id": "P6-XBwIzJuzv"
      },
      "source": [
        "# TODO"
      ],
      "execution_count": 88,
      "outputs": []
    },
    {
      "cell_type": "code",
      "metadata": {
        "colab": {
          "base_uri": "https://localhost:8080/",
          "height": 266
        },
        "id": "rMk3KsurI44b",
        "outputId": "777a8a50-1d68-4a47-dd78-be61c3017f34"
      },
      "source": [
        "pd.read_sql('''\n",
        "SELECT * FROM user\n",
        "''', conn)"
      ],
      "execution_count": 89,
      "outputs": [
        {
          "output_type": "execute_result",
          "data": {
            "text/html": [
              "<div>\n",
              "<style scoped>\n",
              "    .dataframe tbody tr th:only-of-type {\n",
              "        vertical-align: middle;\n",
              "    }\n",
              "\n",
              "    .dataframe tbody tr th {\n",
              "        vertical-align: top;\n",
              "    }\n",
              "\n",
              "    .dataframe thead th {\n",
              "        text-align: right;\n",
              "    }\n",
              "</style>\n",
              "<table border=\"1\" class=\"dataframe\">\n",
              "  <thead>\n",
              "    <tr style=\"text-align: right;\">\n",
              "      <th></th>\n",
              "      <th>id</th>\n",
              "      <th>name</th>\n",
              "      <th>lastName</th>\n",
              "      <th>age</th>\n",
              "      <th>deletedFlg</th>\n",
              "    </tr>\n",
              "  </thead>\n",
              "  <tbody>\n",
              "    <tr>\n",
              "      <th>0</th>\n",
              "      <td>1</td>\n",
              "      <td>Петя</td>\n",
              "      <td>Иванов</td>\n",
              "      <td>31</td>\n",
              "      <td>0</td>\n",
              "    </tr>\n",
              "    <tr>\n",
              "      <th>1</th>\n",
              "      <td>2</td>\n",
              "      <td>Катя</td>\n",
              "      <td>Петрова</td>\n",
              "      <td>30</td>\n",
              "      <td>0</td>\n",
              "    </tr>\n",
              "    <tr>\n",
              "      <th>2</th>\n",
              "      <td>3</td>\n",
              "      <td>Аня</td>\n",
              "      <td>Воронцова</td>\n",
              "      <td>25</td>\n",
              "      <td>0</td>\n",
              "    </tr>\n",
              "    <tr>\n",
              "      <th>3</th>\n",
              "      <td>4</td>\n",
              "      <td>Дима</td>\n",
              "      <td>Петров</td>\n",
              "      <td>35</td>\n",
              "      <td>0</td>\n",
              "    </tr>\n",
              "    <tr>\n",
              "      <th>4</th>\n",
              "      <td>5</td>\n",
              "      <td>Карина</td>\n",
              "      <td>Иванова</td>\n",
              "      <td>26</td>\n",
              "      <td>0</td>\n",
              "    </tr>\n",
              "    <tr>\n",
              "      <th>5</th>\n",
              "      <td>6</td>\n",
              "      <td>Вася</td>\n",
              "      <td>Воронцов</td>\n",
              "      <td>28</td>\n",
              "      <td>0</td>\n",
              "    </tr>\n",
              "    <tr>\n",
              "      <th>6</th>\n",
              "      <td>7</td>\n",
              "      <td>Света</td>\n",
              "      <td>Михайлова</td>\n",
              "      <td>31</td>\n",
              "      <td>0</td>\n",
              "    </tr>\n",
              "  </tbody>\n",
              "</table>\n",
              "</div>"
            ],
            "text/plain": [
              "   id    name   lastName  age  deletedFlg\n",
              "0   1    Петя     Иванов   31           0\n",
              "1   2    Катя    Петрова   30           0\n",
              "2   3     Аня  Воронцова   25           0\n",
              "3   4    Дима     Петров   35           0\n",
              "4   5  Карина    Иванова   26           0\n",
              "5   6    Вася   Воронцов   28           0\n",
              "6   7   Света  Михайлова   31           0"
            ]
          },
          "metadata": {
            "tags": []
          },
          "execution_count": 89
        }
      ]
    },
    {
      "cell_type": "markdown",
      "metadata": {
        "id": "PszocDAeKKuq"
      },
      "source": [
        "Пример интерфейса для дальнейшей работы с данными"
      ]
    },
    {
      "cell_type": "code",
      "metadata": {
        "id": "t_m6eI84KOuV"
      },
      "source": [
        "import sqlite3\n",
        "import pandas as pd\n",
        "\n",
        "class my_interface():\n",
        "    # db_name - название таблицы\n",
        "    def __init__(self, db_name):\n",
        "        # создаем объект подключения с названием бд\n",
        "        self.conn = sqlite3.connect(f'{db_name}.db')\n",
        "        # операции с бд\n",
        "        self.cursor = self.conn.cursor()\n",
        "        \n",
        "        # создание таблиц\n",
        "        # таблица пользователей\n",
        "        self.create_users()\n",
        "        # таблица логирования\n",
        "        self.create_log_info()\n",
        "        \n",
        "#         print(pd.read_sql(\"SELECT name FROM sqlite_master WHERE type='table';\", conn) )\n",
        "    \n",
        "    # создание таблицы пользователей\n",
        "    def create_users(self):\n",
        "        try:\n",
        "            self.cursor.execute(\n",
        "            '''\n",
        "            CREATE TABLE users\n",
        "                (id INTEGER PRIMARY KEY AUTOINCREMENT,\n",
        "                name VARCHAR(255),\n",
        "                lastName VARCHAR(255),\n",
        "                age integer,\n",
        "                deletedFlg integer\n",
        "                )\n",
        "            '''\n",
        "            )\n",
        "        except Exception as e:\n",
        "            print(e)\n",
        "      \n",
        "    # создание таблицы логирования\n",
        "    def create_log_info(self):\n",
        "        try:\n",
        "            self.cursor.execute(\n",
        "            '''\n",
        "            CREATE TABLE loginfo\n",
        "                (id INTEGER PRIMARY KEY AUTOINCREMENT,\n",
        "                tablename VARCHAR(255) NOT NULL,\n",
        "                action VARCHAR(255) NOT NULL,\n",
        "                timestamp DATE DEFAULT (datetime('now','localtime'))\n",
        "                )\n",
        "            '''\n",
        "            )\n",
        "        except Exception as e:\n",
        "            print(e)\n",
        "      \n",
        "    # логирование действий\n",
        "    def log_info(self, tablename, action):\n",
        "        self.cursor.execute(f'INSERT INTO loginfo(tablename, action) VALUES (\\'{tablename}\\', \\'{action}\\');')\n",
        "        self.conn.commit()\n",
        "      \n",
        "    # логическое удаление из таблицы tablename по id\n",
        "    def delete(self, tablename, id_, **kwargs):\n",
        "        print(f'UPDATE {tablename} SET deletedFlg = 1 WHERE id = {id_}')\n",
        "        self.cursor.execute(f'UPDATE {tablename} SET deletedFlg = 1 WHERE id = {id_}')\n",
        "        self.log_info(tablename, 'delete')\n",
        "        self.conn.commit()\n",
        "\n",
        "    # отобразить данные из тыблицы tablename с ограничениями, описанными в kwargs\n",
        "    def show_data(self, tablename, **kwargs):\n",
        "        self.log_info(tablename, 'show')\n",
        "        if kwargs != {}:\n",
        "            if kwargs.get('limit') is not None:\n",
        "                # возвращаем запрос с ограничениями на кол-во элементов, которые считываем из kwargs\n",
        "                return pd.read_sql(f\"SELECT * FROM {tablename} LIMIT {kwargs.get('limit')};\", self.conn) \n",
        "        return pd.read_sql(f\"SELECT * FROM {tablename}\", self.conn) \n",
        "      \n",
        "#     def add_users(self, values):\n",
        "#         self.cursor.executemany('''\n",
        "#         INSERT INTO users(    \n",
        "#             name,\n",
        "#             lastName,\n",
        "#             age,\n",
        "#             deletedFlg\n",
        "#         )\n",
        "#         VALUES (?, ?, ?, ?)\n",
        "#         ''', values)\n",
        "#         self.conn.commit()\n",
        "    \n",
        "    # добавление данных в таблицу tablename с полями, описанными в fields (list)\n",
        "    def add_data(self, tablename, fields, values):\n",
        "        # продумать интеграцию через to_sql библиотеки pandas\n",
        "        # вставляем значения в таблицу, распаковываем названия полей и ? для подстановки данных\n",
        "        # объединяем в одну строку суммированием\n",
        "        self.cursor.executemany(\n",
        "              \"INSERT INTO \" + \n",
        "              tablename + '(' + \n",
        "              ', '.join(fields) +\n",
        "              ') VALUES (' + \n",
        "              ', '.join(['?' for i in range(len(values[0]))]) + ');'\n",
        "        , values)\n",
        "        self.conn.commit()\n",
        "        self.log_info(tablename, 'add')\n"
      ],
      "execution_count": 90,
      "outputs": []
    },
    {
      "cell_type": "code",
      "metadata": {
        "id": "IQWi-jUbKay1"
      },
      "source": [
        "values = [\n",
        "          ('Аня', 'Иванова', 26, 0),\n",
        "          ('Вася', 'Воронцов', 28, 0),\n",
        "          ('Лена', 'Петрова', 31, 0)\n",
        "        ]\n",
        "        "
      ],
      "execution_count": 91,
      "outputs": []
    },
    {
      "cell_type": "markdown",
      "metadata": {
        "id": "7bK17g7fKk-N"
      },
      "source": [
        "ЗАДАНИЕ\n",
        "\n",
        "1. Создать таблицу при помощи my_interface()"
      ]
    },
    {
      "cell_type": "code",
      "metadata": {
        "id": "ddOFKcZCNF1C"
      },
      "source": [
        "# TODO"
      ],
      "execution_count": 92,
      "outputs": []
    },
    {
      "cell_type": "code",
      "metadata": {
        "colab": {
          "base_uri": "https://localhost:8080/"
        },
        "id": "PfJJJAbWKeN-",
        "outputId": "7cd01a9b-da5d-438c-d29c-a0d8db08904b"
      },
      "source": [
        "interface = my_interface('my_interface')\n",
        "type(interface)"
      ],
      "execution_count": 93,
      "outputs": [
        {
          "output_type": "execute_result",
          "data": {
            "text/plain": [
              "__main__.my_interface"
            ]
          },
          "metadata": {
            "tags": []
          },
          "execution_count": 93
        }
      ]
    },
    {
      "cell_type": "code",
      "metadata": {
        "colab": {
          "base_uri": "https://localhost:8080/",
          "height": 49
        },
        "id": "BT_RjoUULRXi",
        "outputId": "57479453-389e-4d28-a549-eae30c1e413f"
      },
      "source": [
        "interface.show_data('users')"
      ],
      "execution_count": 94,
      "outputs": [
        {
          "output_type": "execute_result",
          "data": {
            "text/html": [
              "<div>\n",
              "<style scoped>\n",
              "    .dataframe tbody tr th:only-of-type {\n",
              "        vertical-align: middle;\n",
              "    }\n",
              "\n",
              "    .dataframe tbody tr th {\n",
              "        vertical-align: top;\n",
              "    }\n",
              "\n",
              "    .dataframe thead th {\n",
              "        text-align: right;\n",
              "    }\n",
              "</style>\n",
              "<table border=\"1\" class=\"dataframe\">\n",
              "  <thead>\n",
              "    <tr style=\"text-align: right;\">\n",
              "      <th></th>\n",
              "      <th>id</th>\n",
              "      <th>name</th>\n",
              "      <th>lastName</th>\n",
              "      <th>age</th>\n",
              "      <th>deletedFlg</th>\n",
              "    </tr>\n",
              "  </thead>\n",
              "  <tbody>\n",
              "  </tbody>\n",
              "</table>\n",
              "</div>"
            ],
            "text/plain": [
              "Empty DataFrame\n",
              "Columns: [id, name, lastName, age, deletedFlg]\n",
              "Index: []"
            ]
          },
          "metadata": {
            "tags": []
          },
          "execution_count": 94
        }
      ]
    },
    {
      "cell_type": "markdown",
      "metadata": {
        "id": "r55XnePBKzCz"
      },
      "source": [
        "2. Добавить данные в таблицу `users` при помощи метода add_data()"
      ]
    },
    {
      "cell_type": "code",
      "metadata": {
        "id": "jOrRavs1NIoq"
      },
      "source": [
        "# TODO"
      ],
      "execution_count": 95,
      "outputs": []
    },
    {
      "cell_type": "code",
      "metadata": {
        "id": "UHhi16GDKefb"
      },
      "source": [
        "interface.add_data('users', ['name', 'lastName', 'age', 'deletedFlg'], values)"
      ],
      "execution_count": 96,
      "outputs": []
    },
    {
      "cell_type": "code",
      "metadata": {
        "colab": {
          "base_uri": "https://localhost:8080/",
          "height": 142
        },
        "id": "UXUVNnMlLAEu",
        "outputId": "f21e03eb-36c0-43e5-a555-4b773f1d6b65"
      },
      "source": [
        "interface.show_data('users')"
      ],
      "execution_count": 97,
      "outputs": [
        {
          "output_type": "execute_result",
          "data": {
            "text/html": [
              "<div>\n",
              "<style scoped>\n",
              "    .dataframe tbody tr th:only-of-type {\n",
              "        vertical-align: middle;\n",
              "    }\n",
              "\n",
              "    .dataframe tbody tr th {\n",
              "        vertical-align: top;\n",
              "    }\n",
              "\n",
              "    .dataframe thead th {\n",
              "        text-align: right;\n",
              "    }\n",
              "</style>\n",
              "<table border=\"1\" class=\"dataframe\">\n",
              "  <thead>\n",
              "    <tr style=\"text-align: right;\">\n",
              "      <th></th>\n",
              "      <th>id</th>\n",
              "      <th>name</th>\n",
              "      <th>lastName</th>\n",
              "      <th>age</th>\n",
              "      <th>deletedFlg</th>\n",
              "    </tr>\n",
              "  </thead>\n",
              "  <tbody>\n",
              "    <tr>\n",
              "      <th>0</th>\n",
              "      <td>1</td>\n",
              "      <td>Аня</td>\n",
              "      <td>Иванова</td>\n",
              "      <td>26</td>\n",
              "      <td>0</td>\n",
              "    </tr>\n",
              "    <tr>\n",
              "      <th>1</th>\n",
              "      <td>2</td>\n",
              "      <td>Вася</td>\n",
              "      <td>Воронцов</td>\n",
              "      <td>28</td>\n",
              "      <td>0</td>\n",
              "    </tr>\n",
              "    <tr>\n",
              "      <th>2</th>\n",
              "      <td>3</td>\n",
              "      <td>Лена</td>\n",
              "      <td>Петрова</td>\n",
              "      <td>31</td>\n",
              "      <td>0</td>\n",
              "    </tr>\n",
              "  </tbody>\n",
              "</table>\n",
              "</div>"
            ],
            "text/plain": [
              "   id  name  lastName  age  deletedFlg\n",
              "0   1   Аня   Иванова   26           0\n",
              "1   2  Вася  Воронцов   28           0\n",
              "2   3  Лена   Петрова   31           0"
            ]
          },
          "metadata": {
            "tags": []
          },
          "execution_count": 97
        }
      ]
    },
    {
      "cell_type": "markdown",
      "metadata": {
        "id": "vK6l-k5ULgVp"
      },
      "source": [
        "3. Удалить пользователя с id = 1 при помощи delete()"
      ]
    },
    {
      "cell_type": "code",
      "metadata": {
        "id": "cpZNjSzKNKHG"
      },
      "source": [
        "# TODO"
      ],
      "execution_count": 98,
      "outputs": []
    },
    {
      "cell_type": "code",
      "metadata": {
        "colab": {
          "base_uri": "https://localhost:8080/"
        },
        "id": "vvXfnhhtK44x",
        "outputId": "f4233a68-49c0-4899-d79f-e43c8b33893e"
      },
      "source": [
        "interface.delete('users', 1)"
      ],
      "execution_count": 99,
      "outputs": [
        {
          "output_type": "stream",
          "text": [
            "UPDATE users SET deletedFlg = 1 WHERE id = 1\n"
          ],
          "name": "stdout"
        }
      ]
    },
    {
      "cell_type": "code",
      "metadata": {
        "colab": {
          "base_uri": "https://localhost:8080/",
          "height": 142
        },
        "id": "hXc5cRSbK5Jo",
        "outputId": "8cac5a4c-35da-43bb-f22a-bf28c96de8cb"
      },
      "source": [
        "interface.show_data('users')"
      ],
      "execution_count": 100,
      "outputs": [
        {
          "output_type": "execute_result",
          "data": {
            "text/html": [
              "<div>\n",
              "<style scoped>\n",
              "    .dataframe tbody tr th:only-of-type {\n",
              "        vertical-align: middle;\n",
              "    }\n",
              "\n",
              "    .dataframe tbody tr th {\n",
              "        vertical-align: top;\n",
              "    }\n",
              "\n",
              "    .dataframe thead th {\n",
              "        text-align: right;\n",
              "    }\n",
              "</style>\n",
              "<table border=\"1\" class=\"dataframe\">\n",
              "  <thead>\n",
              "    <tr style=\"text-align: right;\">\n",
              "      <th></th>\n",
              "      <th>id</th>\n",
              "      <th>name</th>\n",
              "      <th>lastName</th>\n",
              "      <th>age</th>\n",
              "      <th>deletedFlg</th>\n",
              "    </tr>\n",
              "  </thead>\n",
              "  <tbody>\n",
              "    <tr>\n",
              "      <th>0</th>\n",
              "      <td>1</td>\n",
              "      <td>Аня</td>\n",
              "      <td>Иванова</td>\n",
              "      <td>26</td>\n",
              "      <td>1</td>\n",
              "    </tr>\n",
              "    <tr>\n",
              "      <th>1</th>\n",
              "      <td>2</td>\n",
              "      <td>Вася</td>\n",
              "      <td>Воронцов</td>\n",
              "      <td>28</td>\n",
              "      <td>0</td>\n",
              "    </tr>\n",
              "    <tr>\n",
              "      <th>2</th>\n",
              "      <td>3</td>\n",
              "      <td>Лена</td>\n",
              "      <td>Петрова</td>\n",
              "      <td>31</td>\n",
              "      <td>0</td>\n",
              "    </tr>\n",
              "  </tbody>\n",
              "</table>\n",
              "</div>"
            ],
            "text/plain": [
              "   id  name  lastName  age  deletedFlg\n",
              "0   1   Аня   Иванова   26           1\n",
              "1   2  Вася  Воронцов   28           0\n",
              "2   3  Лена   Петрова   31           0"
            ]
          },
          "metadata": {
            "tags": []
          },
          "execution_count": 100
        }
      ]
    },
    {
      "cell_type": "markdown",
      "metadata": {
        "id": "YowWDOSjLq7T"
      },
      "source": [
        "4. Вывести логи по всем предыдущим операциям show_data('loginfo', limit = 5)"
      ]
    },
    {
      "cell_type": "code",
      "metadata": {
        "id": "a1gTbDuRNLTy"
      },
      "source": [
        "# TODO"
      ],
      "execution_count": 101,
      "outputs": []
    },
    {
      "cell_type": "code",
      "metadata": {
        "colab": {
          "base_uri": "https://localhost:8080/",
          "height": 204
        },
        "id": "qeD8s8v-LYN0",
        "outputId": "056daa5b-7648-42cd-b63b-04395b9aad35"
      },
      "source": [
        "interface.show_data('loginfo', limit = 5)"
      ],
      "execution_count": 102,
      "outputs": [
        {
          "output_type": "execute_result",
          "data": {
            "text/html": [
              "<div>\n",
              "<style scoped>\n",
              "    .dataframe tbody tr th:only-of-type {\n",
              "        vertical-align: middle;\n",
              "    }\n",
              "\n",
              "    .dataframe tbody tr th {\n",
              "        vertical-align: top;\n",
              "    }\n",
              "\n",
              "    .dataframe thead th {\n",
              "        text-align: right;\n",
              "    }\n",
              "</style>\n",
              "<table border=\"1\" class=\"dataframe\">\n",
              "  <thead>\n",
              "    <tr style=\"text-align: right;\">\n",
              "      <th></th>\n",
              "      <th>id</th>\n",
              "      <th>tablename</th>\n",
              "      <th>action</th>\n",
              "      <th>timestamp</th>\n",
              "    </tr>\n",
              "  </thead>\n",
              "  <tbody>\n",
              "    <tr>\n",
              "      <th>0</th>\n",
              "      <td>1</td>\n",
              "      <td>users</td>\n",
              "      <td>show</td>\n",
              "      <td>2020-12-17 17:53:26</td>\n",
              "    </tr>\n",
              "    <tr>\n",
              "      <th>1</th>\n",
              "      <td>2</td>\n",
              "      <td>users</td>\n",
              "      <td>add</td>\n",
              "      <td>2020-12-17 17:53:26</td>\n",
              "    </tr>\n",
              "    <tr>\n",
              "      <th>2</th>\n",
              "      <td>3</td>\n",
              "      <td>users</td>\n",
              "      <td>show</td>\n",
              "      <td>2020-12-17 17:53:26</td>\n",
              "    </tr>\n",
              "    <tr>\n",
              "      <th>3</th>\n",
              "      <td>4</td>\n",
              "      <td>users</td>\n",
              "      <td>delete</td>\n",
              "      <td>2020-12-17 17:53:26</td>\n",
              "    </tr>\n",
              "    <tr>\n",
              "      <th>4</th>\n",
              "      <td>5</td>\n",
              "      <td>users</td>\n",
              "      <td>show</td>\n",
              "      <td>2020-12-17 17:53:26</td>\n",
              "    </tr>\n",
              "  </tbody>\n",
              "</table>\n",
              "</div>"
            ],
            "text/plain": [
              "   id tablename  action            timestamp\n",
              "0   1     users    show  2020-12-17 17:53:26\n",
              "1   2     users     add  2020-12-17 17:53:26\n",
              "2   3     users    show  2020-12-17 17:53:26\n",
              "3   4     users  delete  2020-12-17 17:53:26\n",
              "4   5     users    show  2020-12-17 17:53:26"
            ]
          },
          "metadata": {
            "tags": []
          },
          "execution_count": 102
        }
      ]
    },
    {
      "cell_type": "markdown",
      "metadata": {
        "id": "kZkT8LzDThIA"
      },
      "source": [
        "# ORM (объектно-реляционное отображение) на примере SQLalchemy"
      ]
    },
    {
      "cell_type": "markdown",
      "metadata": {
        "id": "Dwdjv9HgTnZZ"
      },
      "source": [
        "В этой части мы пройдем основные функции и подходы к созданию БД при помощи такого замечательного инструмента как SQLAlchemy :)"
      ]
    },
    {
      "cell_type": "markdown",
      "metadata": {
        "id": "txyJbOACsGKF"
      },
      "source": [
        "Переключим наше внимание на объектно-реляционное отображение. Первой целью является использование описанной нами системы таблиц метаданных для предоставления возможности переноса функций заданного пользователем класса на коллекцию столбцов в таблице базы данных. Второй целью является предоставление возможности описания отношений между заданными пользователем классами, которые будут основываться на отношениях между таблицами в базе данных.\n",
        "\n",
        "В **SQLAlchemy** такая связь называется «отображением», что соответствует широко известному шаблону проектирования с названием «DataMapper»"
      ]
    },
    {
      "cell_type": "markdown",
      "metadata": {
        "id": "6c5sZ6H_sQp0"
      },
      "source": [
        "## Классическое представление классов таблиц"
      ]
    },
    {
      "cell_type": "markdown",
      "metadata": {
        "id": "KP9i3rXYsYKX"
      },
      "source": [
        "Объект класса `sqlalchemy.orm.mapper.Mapper` связывает колонки из схемы таблицы и атрибуты Python класса."
      ]
    },
    {
      "cell_type": "code",
      "metadata": {
        "colab": {
          "base_uri": "https://localhost:8080/"
        },
        "id": "zbSSgbIc2_Lv",
        "outputId": "80db3696-9d3a-4d12-c7c6-d12da4d1bf84"
      },
      "source": [
        "from sqlalchemy import Table, MetaData, Column, Integer, String, ForeignKey\n",
        "from sqlalchemy.orm import mapper, relationship\n",
        "\n",
        "metadata = MetaData()\n",
        "\n",
        "user = Table('user', metadata,\n",
        "             Column('id', Integer, primary_key=True),\n",
        "             Column('name', String(50)),\n",
        "             Column('fullname', String(50)),\n",
        "             Column('password', String(12))\n",
        "             )\n",
        "\n",
        "\n",
        "address = Table('address', metadata,\n",
        "                Column('id', Integer, primary_key=True),\n",
        "                Column('user_id', Integer, ForeignKey('user.id')),\n",
        "                Column('email_address', String(50))\n",
        "                )\n",
        "\n",
        "\n",
        "class User(object):\n",
        "    pass\n",
        "\n",
        "\n",
        "class Address(object):\n",
        "    pass\n",
        "\n",
        "print(dir(User))\n",
        "\n",
        "mapper(\n",
        "    User, user,\n",
        "    properties={\n",
        "        'addresses': relationship(Address, backref='user',\n",
        "                                  order_by=address.c.id)\n",
        "    })\n",
        "\n",
        "print(dir(User))\n",
        "\n",
        "mapper(Address, address)"
      ],
      "execution_count": 103,
      "outputs": [
        {
          "output_type": "stream",
          "text": [
            "['__class__', '__delattr__', '__dict__', '__dir__', '__doc__', '__eq__', '__format__', '__ge__', '__getattribute__', '__gt__', '__hash__', '__init__', '__init_subclass__', '__le__', '__lt__', '__module__', '__ne__', '__new__', '__reduce__', '__reduce_ex__', '__repr__', '__setattr__', '__sizeof__', '__str__', '__subclasshook__', '__weakref__']\n",
            "['__class__', '__delattr__', '__dict__', '__dir__', '__doc__', '__eq__', '__format__', '__ge__', '__getattribute__', '__gt__', '__hash__', '__init__', '__init_subclass__', '__le__', '__lt__', '__module__', '__ne__', '__new__', '__reduce__', '__reduce_ex__', '__repr__', '__setattr__', '__sizeof__', '__str__', '__subclasshook__', '__weakref__', '_sa_class_manager', 'addresses', 'fullname', 'id', 'name', 'password']\n"
          ],
          "name": "stdout"
        },
        {
          "output_type": "execute_result",
          "data": {
            "text/plain": [
              "<Mapper at 0x7fb2083ca198; Address>"
            ]
          },
          "metadata": {
            "tags": []
          },
          "execution_count": 103
        }
      ]
    },
    {
      "cell_type": "markdown",
      "metadata": {
        "id": "BYg54dxDshzM"
      },
      "source": [
        "## Декларативное представление классов таблиц"
      ]
    },
    {
      "cell_type": "markdown",
      "metadata": {
        "id": "gz5c6LBSslyA"
      },
      "source": [
        "Каждый класс, представляющий таблицу в БД, должен наследоваться от базового класса который создается при помощи функции `sqlalchemy.ext.declarative.declarative_base().`"
      ]
    },
    {
      "cell_type": "code",
      "metadata": {
        "id": "1FybWPQVqHfp"
      },
      "source": [
        "from sqlalchemy.ext.declarative import declarative_base\n",
        "Base = declarative_base()\n"
      ],
      "execution_count": 104,
      "outputs": []
    },
    {
      "cell_type": "code",
      "metadata": {
        "id": "g3rcxgKuJJTm"
      },
      "source": [
        "from sqlalchemy import Column, Integer, String\n",
        "\n",
        "class User(Base):\n",
        "     __tablename__ = 'user'\n",
        "\n",
        "     id = Column(Integer, primary_key=True)\n",
        "     name = Column(String)\n",
        "     fullname = Column(String)\n",
        "\n",
        "     def __repr__(self):\n",
        "         return \"<User(%r, %r)>\" % (\n",
        "                 self.name, self.fullname\n",
        "             )"
      ],
      "execution_count": 105,
      "outputs": []
    },
    {
      "cell_type": "markdown",
      "metadata": {
        "id": "h-_3zplBs6rY"
      },
      "source": [
        "## Схема таблицы"
      ]
    },
    {
      "cell_type": "markdown",
      "metadata": {
        "id": "-EeEeeYss9hH"
      },
      "source": [
        "Для каждого класса унаследованного от базового автоматически создается схема таблицы (объект класса sqlalchemy.schema.Table) и привязывается к нему через атрибут` __table__.`"
      ]
    },
    {
      "cell_type": "code",
      "metadata": {
        "colab": {
          "base_uri": "https://localhost:8080/"
        },
        "id": "yxqs2RUps4Nl",
        "outputId": "b2c55dd4-2e62-4e2f-fb86-40cd613575d6"
      },
      "source": [
        "User.__table__"
      ],
      "execution_count": 106,
      "outputs": [
        {
          "output_type": "execute_result",
          "data": {
            "text/plain": [
              "Table('user', MetaData(bind=None), Column('id', Integer(), table=<user>, primary_key=True, nullable=False), Column('name', String(), table=<user>), Column('fullname', String(), table=<user>), schema=None)"
            ]
          },
          "metadata": {
            "tags": []
          },
          "execution_count": 106
        }
      ]
    },
    {
      "cell_type": "markdown",
      "metadata": {
        "id": "PfyVBINXtDN5"
      },
      "source": [
        "## MetaData"
      ]
    },
    {
      "cell_type": "markdown",
      "metadata": {
        "id": "nWgQ5QtltGbF"
      },
      "source": [
        "Любой класс таблицы автоматически ассоциируется с объектом sqlalchemy.schema.Table, который автоматически добавляется в список `sqlalchemy.schema.MetaData. `\n",
        "\n",
        "Базовый класс `Base`, созданный при помощи функции `sqlalchemy.ext.declarative.declarative_base()`, является более высокоуровневой абстракцией над `sqlalchemy.schema.MetaData`, которая позволяет описывать таблицы декларативным способом. Таким образом все классы-таблицы имеют свою схему, которая хранится в атрибуте metadata базового класса Base:"
      ]
    },
    {
      "cell_type": "code",
      "metadata": {
        "colab": {
          "base_uri": "https://localhost:8080/"
        },
        "id": "S8MymSzEs4gm",
        "outputId": "77f9e483-7c2d-46a1-d53a-d203515de046"
      },
      "source": [
        "Base.metadata"
      ],
      "execution_count": 107,
      "outputs": [
        {
          "output_type": "execute_result",
          "data": {
            "text/plain": [
              "MetaData(bind=None)"
            ]
          },
          "metadata": {
            "tags": []
          },
          "execution_count": 107
        }
      ]
    },
    {
      "cell_type": "code",
      "metadata": {
        "colab": {
          "base_uri": "https://localhost:8080/"
        },
        "id": "279Z_l_stBID",
        "outputId": "de2b0de5-1d8e-4640-fe61-745606d1fc30"
      },
      "source": [
        "Base.metadata.tables.items()"
      ],
      "execution_count": 108,
      "outputs": [
        {
          "output_type": "execute_result",
          "data": {
            "text/plain": [
              "dict_items([('user', Table('user', MetaData(bind=None), Column('id', Integer(), table=<user>, primary_key=True, nullable=False), Column('name', String(), table=<user>), Column('fullname', String(), table=<user>), schema=None))])"
            ]
          },
          "metadata": {
            "tags": []
          },
          "execution_count": 108
        }
      ]
    },
    {
      "cell_type": "markdown",
      "metadata": {
        "id": "qhfMiKdYtVbR"
      },
      "source": [
        "Благодаря тому что Base содержит в себе объект `sqlalchemy.schema.MetaData`, вы можете пользоваться всеми его возможностями."
      ]
    },
    {
      "cell_type": "code",
      "metadata": {
        "id": "iqj_S0NdtBao"
      },
      "source": [
        "from sqlalchemy import create_engine\n",
        "engine = create_engine('sqlite://')\n",
        "Base.metadata.create_all(engine)"
      ],
      "execution_count": 109,
      "outputs": []
    },
    {
      "cell_type": "markdown",
      "metadata": {
        "id": "YpRExr-Btfla"
      },
      "source": [
        "## Mapper"
      ]
    },
    {
      "cell_type": "markdown",
      "metadata": {
        "id": "5Xv05ph0tlPQ"
      },
      "source": [
        "Объект класса `sqlalchemy.orm.mapper.Mapper` связывает колонки из схемы таблицы и атрибуты из класса таблицы унаследованного от Base."
      ]
    },
    {
      "cell_type": "code",
      "metadata": {
        "colab": {
          "base_uri": "https://localhost:8080/"
        },
        "id": "REk0CCQftBd-",
        "outputId": "e1a29569-134e-4baa-c356-9d12632cbc96"
      },
      "source": [
        "from sqlalchemy import Column, ForeignKey, Integer, String\n",
        "from sqlalchemy.ext.declarative import declarative_base\n",
        "from sqlalchemy.orm import relationship\n",
        "\n",
        "Base = declarative_base()\n",
        "\n",
        "\n",
        "class User(Base):\n",
        "    __tablename__ = 'user'\n",
        "\n",
        "    id = Column(Integer, primary_key=True)\n",
        "    name = Column(String)\n",
        "    fullname = Column(String)\n",
        "    password = Column('password', String)\n",
        "\n",
        "    addresses = relationship(\"Address\", backref=\"user\",\n",
        "                             order_by=\"Address.id\")\n",
        "\n",
        "\n",
        "class Address(Base):\n",
        "    __tablename__ = 'address'\n",
        "\n",
        "    id = Column(Integer, primary_key=True)\n",
        "    user_id = Column(ForeignKey('user.id'))\n",
        "    email_address = Column(String)\n",
        "\n",
        "address1 = Address(email_address=\"vas@example.com\")\n",
        "address2 = Address(email_address=\"vas2@example.com\")\n",
        "address3 = Address(email_address=\"vasya@example.com\")\n",
        "\n",
        "print(\"Mapper relationship: \" + str(User.__mapper__.relationships))\n",
        "print(\"Mapper columns: \" + str(User.__mapper__.c.items()))\n",
        "\n",
        "user1 = User(name=\"Вася\")\n",
        "user1.addresses = [address1, address2, address3]\n",
        "print(\"User1 columns: \" + str(user1.__table__.c.items()))\n",
        "print(address1.user.name)"
      ],
      "execution_count": 110,
      "outputs": [
        {
          "output_type": "stream",
          "text": [
            "Mapper relationship: <sqlalchemy.util._collections.ImmutableProperties object at 0x7fb2083fd308>\n",
            "Mapper columns: [('id', Column('id', Integer(), table=<user>, primary_key=True, nullable=False)), ('name', Column('name', String(), table=<user>)), ('fullname', Column('fullname', String(), table=<user>)), ('password', Column('password', String(), table=<user>))]\n",
            "User1 columns: [('id', Column('id', Integer(), table=<user>, primary_key=True, nullable=False)), ('name', Column('name', String(), table=<user>)), ('fullname', Column('fullname', String(), table=<user>)), ('password', Column('password', String(), table=<user>))]\n",
            "Вася\n"
          ],
          "name": "stdout"
        }
      ]
    },
    {
      "cell_type": "code",
      "metadata": {
        "id": "FKNgvGgtxp-q"
      },
      "source": [
        "engine = create_engine('sqlite://')\n",
        "Base.metadata.create_all(engine)"
      ],
      "execution_count": 111,
      "outputs": []
    },
    {
      "cell_type": "markdown",
      "metadata": {
        "id": "PeJwLX1jtvAZ"
      },
      "source": [
        "## Конструктор класса"
      ]
    },
    {
      "cell_type": "markdown",
      "metadata": {
        "id": "sx-9FTC2tz7t"
      },
      "source": [
        "Декларативно описанный класс таблицы содержит в себе конструктор по умолчанию."
      ]
    },
    {
      "cell_type": "code",
      "metadata": {
        "id": "4Wgm3cA_txFc"
      },
      "source": [
        "ed_user = User(name='ed', fullname='Edward Jones', password = '123456')"
      ],
      "execution_count": 112,
      "outputs": []
    },
    {
      "cell_type": "markdown",
      "metadata": {
        "id": "pKMBQVb3t67E"
      },
      "source": [
        "Можно переопределить конструктор вручную\n",
        "\n",
        "```\n",
        "class User(Base):\n",
        "    __tablename__ = 'user'\n",
        "\n",
        "    def __init__(self, name, fullname):\n",
        "       self.name = name\n",
        "       self.fullname = fullname\n",
        "\n",
        "    id = Column(Integer, primary_key=True)\n",
        "    name = Column(String)\n",
        "    fullname = Column(String)\n",
        "    password = Column(String)\n",
        "\n",
        "    addresses = relationship(\"Address\", backref=\"user\",\n",
        "                             order_by=\"Address.id\")\n",
        "```"
      ]
    },
    {
      "cell_type": "markdown",
      "metadata": {
        "id": "ZGD9H06ZuKGZ"
      },
      "source": [
        "Поле `User.id` является первичным ключом, если его значение не указанно явно или такой id не существует в БД, то объект считается новым. После записи объекта в БД, значение поля id автоматически присваивается."
      ]
    },
    {
      "cell_type": "code",
      "metadata": {
        "colab": {
          "base_uri": "https://localhost:8080/"
        },
        "id": "NklPYGLptxuI",
        "outputId": "76ae3568-a3a6-491f-87a3-cb14d637ee25"
      },
      "source": [
        "print(ed_user.name, ed_user.fullname, ed_user.password)"
      ],
      "execution_count": 113,
      "outputs": [
        {
          "output_type": "stream",
          "text": [
            "ed Edward Jones 123456\n"
          ],
          "name": "stdout"
        }
      ]
    },
    {
      "cell_type": "code",
      "metadata": {
        "colab": {
          "base_uri": "https://localhost:8080/"
        },
        "id": "QfAErzkutxxV",
        "outputId": "81994a5d-a759-4abc-c957-289721e9b181"
      },
      "source": [
        "print(ed_user.id)"
      ],
      "execution_count": 114,
      "outputs": [
        {
          "output_type": "stream",
          "text": [
            "None\n"
          ],
          "name": "stdout"
        }
      ]
    },
    {
      "cell_type": "markdown",
      "metadata": {
        "id": "gajlh9mkuW0K"
      },
      "source": [
        "## Сессии"
      ]
    },
    {
      "cell_type": "markdown",
      "metadata": {
        "id": "yuPGEoq7uatn"
      },
      "source": [
        "Сессии являются более абстрактным уровнем над механизмом соединения с СУБД `sqlalchemy.engine.Engine.` Они включают в себя функции хранения состояния объектов таблиц и записи этого состояния, по требованию, в БД.\n",
        "\n",
        "См:\n",
        "\n",
        "http://docs.sqlalchemy.org/en/latest/orm/session_basics.html\n",
        "\n",
        "https://ru.wikibooks.org/wiki/SQLAlchemy/Sessions"
      ]
    },
    {
      "cell_type": "markdown",
      "metadata": {
        "id": "kBZHIYv0umXh"
      },
      "source": [
        "Сессии создаются при помощи экземпляра класса `sqlalchemy.orm.session.Session.`"
      ]
    },
    {
      "cell_type": "code",
      "metadata": {
        "id": "xma3cHkntyGP"
      },
      "source": [
        "from sqlalchemy.orm import Session\n",
        "session = Session(bind=engine)"
      ],
      "execution_count": 115,
      "outputs": []
    },
    {
      "cell_type": "code",
      "metadata": {
        "id": "WHUX1MMjtyal"
      },
      "source": [
        "session.add(ed_user)"
      ],
      "execution_count": 116,
      "outputs": []
    },
    {
      "cell_type": "code",
      "metadata": {
        "id": "dKuXJcX4w7HS"
      },
      "source": [
        "session.commit()"
      ],
      "execution_count": 117,
      "outputs": []
    },
    {
      "cell_type": "markdown",
      "metadata": {
        "id": "dJHUoFYwux8V"
      },
      "source": [
        "Перед выполнением любого запроса из сессии, состояние сессии автоматически переносится в БД. В нашем случае, не сохраненный объект `ed_user` добавляется в БД."
      ]
    },
    {
      "cell_type": "code",
      "metadata": {
        "id": "rW3CjoW3usFC"
      },
      "source": [
        "our_user = session.query(User).filter_by(name='ed').first()"
      ],
      "execution_count": 118,
      "outputs": []
    },
    {
      "cell_type": "code",
      "metadata": {
        "colab": {
          "base_uri": "https://localhost:8080/"
        },
        "id": "lJCIenUqusah",
        "outputId": "31289bd9-e17d-4255-aa21-797266947b3f"
      },
      "source": [
        "our_user"
      ],
      "execution_count": 119,
      "outputs": [
        {
          "output_type": "execute_result",
          "data": {
            "text/plain": [
              "<__main__.User at 0x7fb2083cad30>"
            ]
          },
          "metadata": {
            "tags": []
          },
          "execution_count": 119
        }
      ]
    },
    {
      "cell_type": "code",
      "metadata": {
        "colab": {
          "base_uri": "https://localhost:8080/"
        },
        "id": "vdP6AB1ltyu-",
        "outputId": "85dc251d-3e1e-4d5e-ec72-e0ba97a6bff3"
      },
      "source": [
        "our_user.id"
      ],
      "execution_count": 120,
      "outputs": [
        {
          "output_type": "execute_result",
          "data": {
            "text/plain": [
              "1"
            ]
          },
          "metadata": {
            "tags": []
          },
          "execution_count": 120
        }
      ]
    },
    {
      "cell_type": "code",
      "metadata": {
        "colab": {
          "base_uri": "https://localhost:8080/"
        },
        "id": "v4BI_ofEs4jw",
        "outputId": "f926acb5-a1de-42c0-b66c-bab382be3d01"
      },
      "source": [
        "ed_user.id\n"
      ],
      "execution_count": 121,
      "outputs": [
        {
          "output_type": "execute_result",
          "data": {
            "text/plain": [
              "1"
            ]
          },
          "metadata": {
            "tags": []
          },
          "execution_count": 121
        }
      ]
    },
    {
      "cell_type": "markdown",
      "metadata": {
        "id": "0-aMpjmtx9hd"
      },
      "source": [
        "Что проверяет следующее условие?"
      ]
    },
    {
      "cell_type": "code",
      "metadata": {
        "colab": {
          "base_uri": "https://localhost:8080/"
        },
        "id": "mt8wMDfss45r",
        "outputId": "6821ea08-0d62-488b-abbf-fd5582c1f8bc"
      },
      "source": [
        "ed_user == our_user is ed_user"
      ],
      "execution_count": 122,
      "outputs": [
        {
          "output_type": "execute_result",
          "data": {
            "text/plain": [
              "True"
            ]
          },
          "metadata": {
            "tags": []
          },
          "execution_count": 122
        }
      ]
    },
    {
      "cell_type": "code",
      "metadata": {
        "id": "dN4N6xRSyELU"
      },
      "source": [
        "session.add_all([\n",
        "     User(name='wendy', fullname='Wendy Weathersmith'),\n",
        "     User(name='mary', fullname='Mary Contrary'),\n",
        "     User(name='fred', fullname='Fred Flinstone')\n",
        " ])"
      ],
      "execution_count": 123,
      "outputs": []
    },
    {
      "cell_type": "markdown",
      "metadata": {
        "id": "ZKdjasmXyJ8D"
      },
      "source": [
        "Если объект, находящийся в сессии, поменялся, то он помечается как `dirty.` Все измененные объекты в сессии доступны через атрибут `sqlalchemy.orm.session.Session.dirty`"
      ]
    },
    {
      "cell_type": "code",
      "metadata": {
        "id": "8uL4-n9RyEil"
      },
      "source": [
        "ed_user.fullname = 'Ed Jones'"
      ],
      "execution_count": 124,
      "outputs": []
    },
    {
      "cell_type": "code",
      "metadata": {
        "id": "BhyQoTC70YPv"
      },
      "source": [
        "session.commit()"
      ],
      "execution_count": 125,
      "outputs": []
    },
    {
      "cell_type": "markdown",
      "metadata": {
        "id": "qm0fA9_oyTek"
      },
      "source": [
        ""
      ]
    },
    {
      "cell_type": "code",
      "metadata": {
        "id": "As9YqfWis2qc"
      },
      "source": [
        "for i in session.dirty:\n",
        "    print(i)"
      ],
      "execution_count": 126,
      "outputs": []
    },
    {
      "cell_type": "markdown",
      "metadata": {
        "id": "RezV0utkyyyF"
      },
      "source": [
        "Новые объекты, попавшие в сессию после ее сохранения или в новую сессию, доступны через атрибут `sqlalchemy.orm.session.Session.new`"
      ]
    },
    {
      "cell_type": "code",
      "metadata": {
        "colab": {
          "base_uri": "https://localhost:8080/"
        },
        "id": "nOqnF70FyRsF",
        "outputId": "f09d41f4-5423-4748-add0-c85a30ff2460"
      },
      "source": [
        "session.new"
      ],
      "execution_count": 127,
      "outputs": [
        {
          "output_type": "execute_result",
          "data": {
            "text/plain": [
              "IdentitySet([])"
            ]
          },
          "metadata": {
            "tags": []
          },
          "execution_count": 127
        }
      ]
    },
    {
      "cell_type": "markdown",
      "metadata": {
        "id": "Jz131v1uy3xh"
      },
      "source": [
        "Метод `sqlalchemy.orm.session.Session.commit()` сохраняет состояние сессии в БД и подтверждает SQL транзакцию, в рамках которой выполнялись все предыдущие запросы."
      ]
    },
    {
      "cell_type": "code",
      "metadata": {
        "id": "dqvhPk2ay6QZ"
      },
      "source": [
        "session.commit()"
      ],
      "execution_count": 128,
      "outputs": []
    },
    {
      "cell_type": "code",
      "metadata": {
        "colab": {
          "base_uri": "https://localhost:8080/",
          "height": 37
        },
        "id": "B2HQhLDHy7Ef",
        "outputId": "5cb9a820-5978-4bc1-de98-22145d4e5d29"
      },
      "source": [
        "ed_user.name"
      ],
      "execution_count": 129,
      "outputs": [
        {
          "output_type": "execute_result",
          "data": {
            "application/vnd.google.colaboratory.intrinsic+json": {
              "type": "string"
            },
            "text/plain": [
              "'ed'"
            ]
          },
          "metadata": {
            "tags": []
          },
          "execution_count": 129
        }
      ]
    },
    {
      "cell_type": "markdown",
      "metadata": {
        "id": "w1PYP5YxzWyw"
      },
      "source": [
        "## SQL запросы через ORM"
      ]
    },
    {
      "cell_type": "markdown",
      "metadata": {
        "id": "H-M3ShxGzb7_"
      },
      "source": [
        "Операции над атрибутами класса таблицы равносильны операциям над объектом `sqlalchemy.schema.Column.` Поэтому их можно использовать в конструкторе SQL запросов. Результатом выполнения SQL выражения будет список значений записи в БД."
      ]
    },
    {
      "cell_type": "code",
      "metadata": {
        "colab": {
          "base_uri": "https://localhost:8080/"
        },
        "id": "3DcDrO8azUr-",
        "outputId": "1ce749cd-a966-4d11-9847-ec7f57a9d836"
      },
      "source": [
        "print(User.name == \"ed\")"
      ],
      "execution_count": 130,
      "outputs": [
        {
          "output_type": "stream",
          "text": [
            "\"user\".name = :name_1\n"
          ],
          "name": "stdout"
        }
      ]
    },
    {
      "cell_type": "code",
      "metadata": {
        "id": "MdgIVxCIzVDN"
      },
      "source": [
        "from sqlalchemy import select\n",
        "sel = select([User.name, User.fullname]).where(User.name == 'ed').order_by(User.id)"
      ],
      "execution_count": 131,
      "outputs": []
    },
    {
      "cell_type": "code",
      "metadata": {
        "colab": {
          "base_uri": "https://localhost:8080/"
        },
        "id": "ZUXTZkLszVHv",
        "outputId": "2b044ae9-7681-42c0-b9b3-9251624bb0e1"
      },
      "source": [
        "session.connection().execute(sel).fetchall()"
      ],
      "execution_count": 132,
      "outputs": [
        {
          "output_type": "execute_result",
          "data": {
            "text/plain": [
              "[('ed', 'Ed Jones')]"
            ]
          },
          "metadata": {
            "tags": []
          },
          "execution_count": 132
        }
      ]
    },
    {
      "cell_type": "markdown",
      "metadata": {
        "id": "ll0uEb9O0yUy"
      },
      "source": [
        "ORM позволяет конструировать запросы при помощи метода `sqlalchemy.orm.session.Session.query().` Этот метод создает объект класса `sqlalchemy.orm.query.Query`, который является более высокой абстракцией конструктора SQL выражения в SQLAlchemy.\n",
        "\n",
        "ORM, в отличии от стандартного конструктора SQL выражения, позволяет создавать запросы более наглядно и возвращать результат в виде объектов которые привязаны к сессии."
      ]
    },
    {
      "cell_type": "code",
      "metadata": {
        "id": "9IVCRq2q1XGf"
      },
      "source": [
        ""
      ],
      "execution_count": 132,
      "outputs": []
    },
    {
      "cell_type": "code",
      "metadata": {
        "colab": {
          "base_uri": "https://localhost:8080/"
        },
        "id": "p55obPY0yxjA",
        "outputId": "a8553a8d-de03-4834-d58a-b8936ec7d0b5"
      },
      "source": [
        "for name, fullname in session.query(User.name, User.fullname):\n",
        "    print(name, fullname)\n"
      ],
      "execution_count": 133,
      "outputs": [
        {
          "output_type": "stream",
          "text": [
            "ed Ed Jones\n",
            "wendy Wendy Weathersmith\n",
            "mary Mary Contrary\n",
            "fred Fred Flinstone\n"
          ],
          "name": "stdout"
        }
      ]
    },
    {
      "cell_type": "markdown",
      "metadata": {
        "id": "c8kliNvI1OQP"
      },
      "source": [
        "Или комбинировать значения полей с объектами."
      ]
    },
    {
      "cell_type": "code",
      "metadata": {
        "colab": {
          "base_uri": "https://localhost:8080/"
        },
        "id": "1T0uMmIj0kFv",
        "outputId": "4678cb0c-aade-4368-92d7-9e72f30fe915"
      },
      "source": [
        "for row in session.query(User, User.name):\n",
        "    print(row.User.name,row.User.fullname, '...',row.name)"
      ],
      "execution_count": 134,
      "outputs": [
        {
          "output_type": "stream",
          "text": [
            "ed Ed Jones ... ed\n",
            "wendy Wendy Weathersmith ... wendy\n",
            "mary Mary Contrary ... mary\n",
            "fred Fred Flinstone ... fred\n"
          ],
          "name": "stdout"
        }
      ]
    },
    {
      "cell_type": "markdown",
      "metadata": {
        "id": "EEDDHhyi173g"
      },
      "source": [
        "## Ограничения и условия"
      ]
    },
    {
      "cell_type": "markdown",
      "metadata": {
        "id": "ynrVINco2AQI"
      },
      "source": [
        "**LIMIT, OFFSET**\n",
        "\n",
        "Выбор конкретной строки запроса делается не средствами языка Python, а на стороне СУБД, за счет конструкции `LIMIT ? OFFSET ?`, что значительно ускоряет выполнение запроса. Для программиста это выглядит прозрачно, как будто он работает с Python списком."
      ]
    },
    {
      "cell_type": "code",
      "metadata": {
        "colab": {
          "base_uri": "https://localhost:8080/"
        },
        "id": "amMSJ6n91L8o",
        "outputId": "7889c43b-ffc1-472d-dda0-428315bf1b54"
      },
      "source": [
        "u = session.query(User).order_by(User.id)[2]\n",
        "print(u.fullname)"
      ],
      "execution_count": 135,
      "outputs": [
        {
          "output_type": "stream",
          "text": [
            "Mary Contrary\n"
          ],
          "name": "stdout"
        }
      ]
    },
    {
      "cell_type": "markdown",
      "metadata": {
        "id": "_8hJ3ez52hiO"
      },
      "source": [
        "Аналогично работают и Python срезы."
      ]
    },
    {
      "cell_type": "code",
      "metadata": {
        "colab": {
          "base_uri": "https://localhost:8080/"
        },
        "id": "7ec69PSH2gVP",
        "outputId": "fd8b4a94-4fb4-4eb3-b4a7-24f18d734467"
      },
      "source": [
        "for u in session.query(User).order_by(User.id)[1:3]:\n",
        "    print(u.fullname)"
      ],
      "execution_count": 136,
      "outputs": [
        {
          "output_type": "stream",
          "text": [
            "Wendy Weathersmith\n",
            "Mary Contrary\n"
          ],
          "name": "stdout"
        }
      ]
    },
    {
      "cell_type": "markdown",
      "metadata": {
        "id": "fK13YQFX2vr0"
      },
      "source": [
        "**WHERE**\n",
        "\n",
        "Условие `WHERE` соответствует методу `sqlalchemy.orm.query.Query.filter_by().`"
      ]
    },
    {
      "cell_type": "code",
      "metadata": {
        "colab": {
          "base_uri": "https://localhost:8080/"
        },
        "id": "H2jtVhRU1MCP",
        "outputId": "55e47a98-6240-46f6-e65f-bb2ea9a91b12"
      },
      "source": [
        "for name, in session.query(User.name).\\\n",
        "                 filter_by(fullname='Ed Jones'):\n",
        "                 print(name)"
      ],
      "execution_count": 137,
      "outputs": [
        {
          "output_type": "stream",
          "text": [
            "ed\n"
          ],
          "name": "stdout"
        }
      ]
    },
    {
      "cell_type": "markdown",
      "metadata": {
        "id": "1rJslViE2_9G"
      },
      "source": [
        "Или более функциональному методу `sqlalchemy.orm.query.Query.filter()`"
      ]
    },
    {
      "cell_type": "code",
      "metadata": {
        "colab": {
          "base_uri": "https://localhost:8080/"
        },
        "id": "k1tnUbsM2oM9",
        "outputId": "264b1153-e939-415b-e53a-4c8f31e9d6c0"
      },
      "source": [
        "for name, in session.query(User.name).\\\n",
        "                 filter(User.fullname == 'Ed Jones'):\n",
        "                 print(name)"
      ],
      "execution_count": 138,
      "outputs": [
        {
          "output_type": "stream",
          "text": [
            "ed\n"
          ],
          "name": "stdout"
        }
      ]
    },
    {
      "cell_type": "code",
      "metadata": {
        "colab": {
          "base_uri": "https://localhost:8080/"
        },
        "id": "z1ErmI8a2oSq",
        "outputId": "daf12a4a-748e-411c-e6fb-ba483b99963d"
      },
      "source": [
        "from sqlalchemy import or_\n",
        "for name, in session.query(User.name).\\\n",
        "                 filter(or_(User.fullname == 'Ed Jones', User.id < 5)):\n",
        "                 print(name)"
      ],
      "execution_count": 139,
      "outputs": [
        {
          "output_type": "stream",
          "text": [
            "ed\n",
            "wendy\n",
            "mary\n",
            "fred\n"
          ],
          "name": "stdout"
        }
      ]
    },
    {
      "cell_type": "markdown",
      "metadata": {
        "id": "8xf7y1gi3Mj-"
      },
      "source": [
        "Последовательное выполнение методов `sqlalchemy.orm.query.Query.filter()` соединяет условия `WHERE` при помощи оператора `AND`, аналогично конструкции `select().where().`"
      ]
    },
    {
      "cell_type": "code",
      "metadata": {
        "colab": {
          "base_uri": "https://localhost:8080/"
        },
        "id": "KOhCFKdH2oZf",
        "outputId": "4d581d21-dc16-484c-fd0d-0c49b4f26eae"
      },
      "source": [
        "for user in session.query(User).\\\n",
        "                         filter(User.name == 'ed').\\\n",
        "                         filter(User.fullname == 'Ed Jones'):\n",
        "                         print(user.name)"
      ],
      "execution_count": 140,
      "outputs": [
        {
          "output_type": "stream",
          "text": [
            "ed\n"
          ],
          "name": "stdout"
        }
      ]
    },
    {
      "cell_type": "markdown",
      "metadata": {
        "id": "vds6-uZS3kZc"
      },
      "source": [
        "## Выполнение SQL выражений"
      ]
    },
    {
      "cell_type": "markdown",
      "metadata": {
        "id": "8Tb5_N3z3oZ3"
      },
      "source": [
        "Сам объект класса `sqlalchemy.orm.query.Query` не выполняет обращений к БД."
      ]
    },
    {
      "cell_type": "code",
      "metadata": {
        "id": "8UyU1A6S3i-F"
      },
      "source": [
        "query = session.query(User).filter_by(fullname='Ed Jones')"
      ],
      "execution_count": 141,
      "outputs": []
    },
    {
      "cell_type": "markdown",
      "metadata": {
        "id": "SPV0bMWb320q"
      },
      "source": [
        "Для этого существуют специальные методы этого класса, например :\n",
        "\n",
        "- `sqlalchemy.orm.query.Query.all()`\n",
        "- `sqlalchemy.orm.query.Query.first()` - выполнит запрос и вернет первую строку запроса или None\n",
        "- `sqlalchemy.orm.query.Query.one()` - выполнит запрос, вернет первую строку запроса и проверит что она одна и только одна, иначе вызовет исключение sqlalchemy.orm.exc.NoResultFound.\n"
      ]
    },
    {
      "cell_type": "code",
      "metadata": {
        "colab": {
          "base_uri": "https://localhost:8080/"
        },
        "id": "vJlnY7gk3q3D",
        "outputId": "eb0ff638-7612-4a3b-d764-be6fb9e1ad93"
      },
      "source": [
        "for i in query.all():\n",
        "    print(i.name)"
      ],
      "execution_count": 142,
      "outputs": [
        {
          "output_type": "stream",
          "text": [
            "ed\n"
          ],
          "name": "stdout"
        }
      ]
    },
    {
      "cell_type": "code",
      "metadata": {
        "colab": {
          "base_uri": "https://localhost:8080/",
          "height": 37
        },
        "id": "_-iyQTtP3rUH",
        "outputId": "da6cd6ee-dc7c-49e7-b268-36d0e841386e"
      },
      "source": [
        "query.first().name"
      ],
      "execution_count": 143,
      "outputs": [
        {
          "output_type": "execute_result",
          "data": {
            "application/vnd.google.colaboratory.intrinsic+json": {
              "type": "string"
            },
            "text/plain": [
              "'ed'"
            ]
          },
          "metadata": {
            "tags": []
          },
          "execution_count": 143
        }
      ]
    },
    {
      "cell_type": "code",
      "metadata": {
        "colab": {
          "base_uri": "https://localhost:8080/",
          "height": 37
        },
        "id": "RcYpjOyg3jWy",
        "outputId": "d2317756-6f0d-4a52-8f3d-b96a4a33cef3"
      },
      "source": [
        "query.one().name"
      ],
      "execution_count": 144,
      "outputs": [
        {
          "output_type": "execute_result",
          "data": {
            "application/vnd.google.colaboratory.intrinsic+json": {
              "type": "string"
            },
            "text/plain": [
              "'ed'"
            ]
          },
          "metadata": {
            "tags": []
          },
          "execution_count": 144
        }
      ]
    },
    {
      "cell_type": "code",
      "metadata": {
        "colab": {
          "base_uri": "https://localhost:8080/",
          "height": 300
        },
        "id": "6MbQvNI33jvX",
        "outputId": "d0cdb102-15ca-4aff-8707-81f90edcb629"
      },
      "source": [
        "query = session.query(User).filter_by(fullname='nonexistent')\n",
        "query.one()"
      ],
      "execution_count": 145,
      "outputs": [
        {
          "output_type": "error",
          "ename": "NoResultFound",
          "evalue": "ignored",
          "traceback": [
            "\u001b[0;31m---------------------------------------------------------------------------\u001b[0m",
            "\u001b[0;31mNoResultFound\u001b[0m                             Traceback (most recent call last)",
            "\u001b[0;32m<ipython-input-145-631e90468c74>\u001b[0m in \u001b[0;36m<module>\u001b[0;34m()\u001b[0m\n\u001b[1;32m      1\u001b[0m \u001b[0mquery\u001b[0m \u001b[0;34m=\u001b[0m \u001b[0msession\u001b[0m\u001b[0;34m.\u001b[0m\u001b[0mquery\u001b[0m\u001b[0;34m(\u001b[0m\u001b[0mUser\u001b[0m\u001b[0;34m)\u001b[0m\u001b[0;34m.\u001b[0m\u001b[0mfilter_by\u001b[0m\u001b[0;34m(\u001b[0m\u001b[0mfullname\u001b[0m\u001b[0;34m=\u001b[0m\u001b[0;34m'nonexistent'\u001b[0m\u001b[0;34m)\u001b[0m\u001b[0;34m\u001b[0m\u001b[0;34m\u001b[0m\u001b[0m\n\u001b[0;32m----> 2\u001b[0;31m \u001b[0mquery\u001b[0m\u001b[0;34m.\u001b[0m\u001b[0mone\u001b[0m\u001b[0;34m(\u001b[0m\u001b[0;34m)\u001b[0m\u001b[0;34m\u001b[0m\u001b[0;34m\u001b[0m\u001b[0m\n\u001b[0m",
            "\u001b[0;32m/usr/local/lib/python3.6/dist-packages/sqlalchemy/orm/query.py\u001b[0m in \u001b[0;36mone\u001b[0;34m(self)\u001b[0m\n\u001b[1;32m   3498\u001b[0m         \u001b[0;32melse\u001b[0m\u001b[0;34m:\u001b[0m\u001b[0;34m\u001b[0m\u001b[0;34m\u001b[0m\u001b[0m\n\u001b[1;32m   3499\u001b[0m             \u001b[0;32mif\u001b[0m \u001b[0mret\u001b[0m \u001b[0;32mis\u001b[0m \u001b[0;32mNone\u001b[0m\u001b[0;34m:\u001b[0m\u001b[0;34m\u001b[0m\u001b[0;34m\u001b[0m\u001b[0m\n\u001b[0;32m-> 3500\u001b[0;31m                 \u001b[0;32mraise\u001b[0m \u001b[0morm_exc\u001b[0m\u001b[0;34m.\u001b[0m\u001b[0mNoResultFound\u001b[0m\u001b[0;34m(\u001b[0m\u001b[0;34m\"No row was found for one()\"\u001b[0m\u001b[0;34m)\u001b[0m\u001b[0;34m\u001b[0m\u001b[0;34m\u001b[0m\u001b[0m\n\u001b[0m\u001b[1;32m   3501\u001b[0m             \u001b[0;32mreturn\u001b[0m \u001b[0mret\u001b[0m\u001b[0;34m\u001b[0m\u001b[0;34m\u001b[0m\u001b[0m\n\u001b[1;32m   3502\u001b[0m \u001b[0;34m\u001b[0m\u001b[0m\n",
            "\u001b[0;31mNoResultFound\u001b[0m: No row was found for one()"
          ]
        }
      ]
    },
    {
      "cell_type": "code",
      "metadata": {
        "id": "Lu7k5Qqw466F"
      },
      "source": [
        "engine.table_names()"
      ],
      "execution_count": null,
      "outputs": []
    },
    {
      "cell_type": "code",
      "metadata": {
        "id": "ytyMqSSM5FDo"
      },
      "source": [
        "Address.__table__.drop(engine)"
      ],
      "execution_count": null,
      "outputs": []
    },
    {
      "cell_type": "code",
      "metadata": {
        "id": "azqkKuGN5Szj"
      },
      "source": [
        "User.__table__.drop(engine)"
      ],
      "execution_count": null,
      "outputs": []
    },
    {
      "cell_type": "code",
      "metadata": {
        "id": "nAelrxgE5ItN"
      },
      "source": [
        "engine.table_names()"
      ],
      "execution_count": null,
      "outputs": []
    },
    {
      "cell_type": "code",
      "metadata": {
        "id": "RB0gL-EA6PF_"
      },
      "source": [
        ""
      ],
      "execution_count": null,
      "outputs": []
    },
    {
      "cell_type": "code",
      "metadata": {
        "id": "-tVn0snE6PMd"
      },
      "source": [
        ""
      ],
      "execution_count": null,
      "outputs": []
    },
    {
      "cell_type": "code",
      "metadata": {
        "id": "P4qk_SSy6PT5"
      },
      "source": [
        ""
      ],
      "execution_count": null,
      "outputs": []
    }
  ]
}