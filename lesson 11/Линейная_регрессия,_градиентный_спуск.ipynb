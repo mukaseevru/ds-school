{
  "nbformat": 4,
  "nbformat_minor": 0,
  "metadata": {
    "colab": {
      "name": "Линейная регрессия, градиентный спуск.ipynb",
      "provenance": [],
      "collapsed_sections": [],
      "toc_visible": true
    },
    "kernelspec": {
      "name": "python3",
      "display_name": "Python 3"
    },
    "accelerator": "GPU"
  },
  "cells": [
    {
      "cell_type": "markdown",
      "metadata": {
        "id": "WBIx7HpJwCKa"
      },
      "source": [
        "ноутбук в колаб: https://colab.research.google.com/drive/1ceJwncr_WqKxYo_isx5Lsvz2H4ynt56-?usp=sharing"
      ]
    },
    {
      "cell_type": "code",
      "metadata": {
        "id": "8JSYdc4UJD6s"
      },
      "source": [
        "import numpy as np\n",
        "import pandas as pd\n",
        "import matplotlib.pyplot as plt"
      ],
      "execution_count": null,
      "outputs": []
    },
    {
      "cell_type": "markdown",
      "metadata": {
        "id": "hDpmpUTw_XF7"
      },
      "source": [
        "# Повторение"
      ]
    },
    {
      "cell_type": "markdown",
      "metadata": {
        "id": "4oW8ZZWAXN2E"
      },
      "source": [
        "## Загрузка и подготовка данных"
      ]
    },
    {
      "cell_type": "code",
      "metadata": {
        "id": "vW1tcon9JTEQ"
      },
      "source": [
        "df = pd.read_csv('https://raw.githubusercontent.com/tixonsit/mmdad_materials/master/datasets_14872_228180_Admission_Predict_Ver1.1.csv')\n",
        "del df['Serial No.']"
      ],
      "execution_count": null,
      "outputs": []
    },
    {
      "cell_type": "code",
      "metadata": {
        "id": "oUQRj1lsJlFR",
        "colab": {
          "base_uri": "https://localhost:8080/",
          "height": 204
        },
        "outputId": "ba26ad70-b657-45e7-9dfe-18f34e497427"
      },
      "source": [
        "df.head()"
      ],
      "execution_count": null,
      "outputs": [
        {
          "output_type": "execute_result",
          "data": {
            "text/html": [
              "<div>\n",
              "<style scoped>\n",
              "    .dataframe tbody tr th:only-of-type {\n",
              "        vertical-align: middle;\n",
              "    }\n",
              "\n",
              "    .dataframe tbody tr th {\n",
              "        vertical-align: top;\n",
              "    }\n",
              "\n",
              "    .dataframe thead th {\n",
              "        text-align: right;\n",
              "    }\n",
              "</style>\n",
              "<table border=\"1\" class=\"dataframe\">\n",
              "  <thead>\n",
              "    <tr style=\"text-align: right;\">\n",
              "      <th></th>\n",
              "      <th>GRE Score</th>\n",
              "      <th>TOEFL Score</th>\n",
              "      <th>University Rating</th>\n",
              "      <th>SOP</th>\n",
              "      <th>LOR</th>\n",
              "      <th>CGPA</th>\n",
              "      <th>Research</th>\n",
              "      <th>Chance of Admit</th>\n",
              "    </tr>\n",
              "  </thead>\n",
              "  <tbody>\n",
              "    <tr>\n",
              "      <th>0</th>\n",
              "      <td>337</td>\n",
              "      <td>118</td>\n",
              "      <td>4</td>\n",
              "      <td>4.5</td>\n",
              "      <td>4.5</td>\n",
              "      <td>9.65</td>\n",
              "      <td>1</td>\n",
              "      <td>0.92</td>\n",
              "    </tr>\n",
              "    <tr>\n",
              "      <th>1</th>\n",
              "      <td>324</td>\n",
              "      <td>107</td>\n",
              "      <td>4</td>\n",
              "      <td>4.0</td>\n",
              "      <td>4.5</td>\n",
              "      <td>8.87</td>\n",
              "      <td>1</td>\n",
              "      <td>0.76</td>\n",
              "    </tr>\n",
              "    <tr>\n",
              "      <th>2</th>\n",
              "      <td>316</td>\n",
              "      <td>104</td>\n",
              "      <td>3</td>\n",
              "      <td>3.0</td>\n",
              "      <td>3.5</td>\n",
              "      <td>8.00</td>\n",
              "      <td>1</td>\n",
              "      <td>0.72</td>\n",
              "    </tr>\n",
              "    <tr>\n",
              "      <th>3</th>\n",
              "      <td>322</td>\n",
              "      <td>110</td>\n",
              "      <td>3</td>\n",
              "      <td>3.5</td>\n",
              "      <td>2.5</td>\n",
              "      <td>8.67</td>\n",
              "      <td>1</td>\n",
              "      <td>0.80</td>\n",
              "    </tr>\n",
              "    <tr>\n",
              "      <th>4</th>\n",
              "      <td>314</td>\n",
              "      <td>103</td>\n",
              "      <td>2</td>\n",
              "      <td>2.0</td>\n",
              "      <td>3.0</td>\n",
              "      <td>8.21</td>\n",
              "      <td>0</td>\n",
              "      <td>0.65</td>\n",
              "    </tr>\n",
              "  </tbody>\n",
              "</table>\n",
              "</div>"
            ],
            "text/plain": [
              "   GRE Score  TOEFL Score  University Rating  ...  CGPA  Research  Chance of Admit \n",
              "0        337          118                  4  ...  9.65         1              0.92\n",
              "1        324          107                  4  ...  8.87         1              0.76\n",
              "2        316          104                  3  ...  8.00         1              0.72\n",
              "3        322          110                  3  ...  8.67         1              0.80\n",
              "4        314          103                  2  ...  8.21         0              0.65\n",
              "\n",
              "[5 rows x 8 columns]"
            ]
          },
          "metadata": {
            "tags": []
          },
          "execution_count": 3
        }
      ]
    },
    {
      "cell_type": "code",
      "metadata": {
        "id": "TG3eV_4dJmZT",
        "colab": {
          "base_uri": "https://localhost:8080/"
        },
        "outputId": "0d49ae3c-4570-4110-efcd-e9dacefd282e"
      },
      "source": [
        "# мало :(\n",
        "len(df)"
      ],
      "execution_count": null,
      "outputs": [
        {
          "output_type": "execute_result",
          "data": {
            "text/plain": [
              "500"
            ]
          },
          "metadata": {
            "tags": []
          },
          "execution_count": 4
        }
      ]
    },
    {
      "cell_type": "code",
      "metadata": {
        "id": "kw2Nz3P1XgMH",
        "colab": {
          "base_uri": "https://localhost:8080/",
          "height": 747
        },
        "outputId": "d099f570-9998-4e9d-d6e4-d191f8f2649f"
      },
      "source": [
        "import seaborn as sns\n",
        "\n",
        "sns.clustermap(df.corr())"
      ],
      "execution_count": null,
      "outputs": [
        {
          "output_type": "execute_result",
          "data": {
            "text/plain": [
              "<seaborn.matrix.ClusterGrid at 0x7f5c5f399d68>"
            ]
          },
          "metadata": {
            "tags": []
          },
          "execution_count": 5
        },
        {
          "output_type": "display_data",
          "data": {
            "image/png": "[encoded data removed]",
            "text/plain": [
              "<Figure size 720x720 with 4 Axes>"
            ]
          },
          "metadata": {
            "tags": [],
            "needs_background": "light"
          }
        }
      ]
    },
    {
      "cell_type": "code",
      "metadata": {
        "id": "tDzaJx_AJoSZ"
      },
      "source": [
        "# перемешка\n",
        "df = df.sample(frac=1).reset_index(drop=True)\n",
        "# train test split\n",
        "df_train = df[:400]\n",
        "df_test = df[400:]\n",
        "# среднее и стандартное отклонение\n",
        "mean = df.mean(axis=0)\n",
        "std = df.std(axis=0)\n",
        "# 0 мат ожидание и 1 дисперсию\n",
        "df_train = (df_train - mean)/std\n",
        "X_train = df_train.drop(columns=['Chance of Admit ']).values\n",
        "y_train = df_train['Chance of Admit '].values\n",
        "df_test = (df_test - mean)/std\n",
        "X_test = df_test.drop(columns=['Chance of Admit ']).values\n",
        "y_test = df_test['Chance of Admit '].values"
      ],
      "execution_count": null,
      "outputs": []
    },
    {
      "cell_type": "code",
      "metadata": {
        "id": "qvctLNtwKBzh",
        "colab": {
          "base_uri": "https://localhost:8080/"
        },
        "outputId": "aad68070-5f58-4927-b534-e51563e71d9a"
      },
      "source": [
        "X_train[:5]"
      ],
      "execution_count": null,
      "outputs": [
        {
          "output_type": "execute_result",
          "data": {
            "text/plain": [
              "array([[-0.75005655, -1.01810831, -0.97419196, -0.37739519,  0.55756685,\n",
              "        -1.11842871, -1.12702343],\n",
              "       [ 0.84354802,  0.95496981,  1.64930524,  1.13622188,  0.55756685,\n",
              "         1.36167753,  0.88551841],\n",
              "       [ 0.40088008,  0.2972771 , -0.09969289, -0.37739519,  0.55756685,\n",
              "        -0.62240746,  0.88551841],\n",
              "       [-0.04178785, -0.85368513, -0.09969289, -1.38647324, -0.52298906,\n",
              "        -1.94513079, -1.12702343],\n",
              "       [-1.28125807, -0.85368513, -0.09969289,  0.12714383,  1.63812275,\n",
              "        -0.40746492, -1.12702343]])"
            ]
          },
          "metadata": {
            "tags": []
          },
          "execution_count": 7
        }
      ]
    },
    {
      "cell_type": "code",
      "metadata": {
        "id": "aKV4jwOhKDpO",
        "colab": {
          "base_uri": "https://localhost:8080/"
        },
        "outputId": "8c21aeff-a5c0-435d-de3e-1465110fb0b3"
      },
      "source": [
        "y_train[:5]"
      ],
      "execution_count": null,
      "outputs": [
        {
          "output_type": "execute_result",
          "data": {
            "text/plain": [
              "array([-0.29573389,  1.33384909,  0.20022615, -0.57913962, -0.50828819])"
            ]
          },
          "metadata": {
            "tags": []
          },
          "execution_count": 8
        }
      ]
    },
    {
      "cell_type": "markdown",
      "metadata": {
        "id": "S8PPlFzDXSlU"
      },
      "source": [
        "## Создание алгоритма"
      ]
    },
    {
      "cell_type": "code",
      "metadata": {
        "id": "yG3D8nw8JC2B",
        "colab": {
          "base_uri": "https://localhost:8080/"
        },
        "outputId": "c14f0262-2ca8-4121-a830-1cb83248dc71"
      },
      "source": [
        "print('размерность пространства признаков:', X_train.shape[1])\n",
        "# инициализация весов под размерность пространства признаков\n",
        "w = np.ones(X_train.shape[1])\n",
        "# выбираем случайный индекс, по которому найдем частную производную\n",
        "ind = np.random.randint(X_train.shape[1])\n",
        "print('Случайный индекс', ind)\n",
        "# переможим выбранный столбец на нужный вес (получаем кол-во элементов train)\n",
        "len(np.dot(X_train[:,ind], w[ind]))"
      ],
      "execution_count": null,
      "outputs": [
        {
          "output_type": "stream",
          "text": [
            "размерность пространства признаков: 7\n",
            "Случайный индекс 2\n"
          ],
          "name": "stdout"
        },
        {
          "output_type": "execute_result",
          "data": {
            "text/plain": [
              "400"
            ]
          },
          "metadata": {
            "tags": []
          },
          "execution_count": 9
        }
      ]
    },
    {
      "cell_type": "markdown",
      "metadata": {
        "id": "tfobTgP5LHtZ"
      },
      "source": [
        "$$MSE = \\frac{1}{n}\\sum_{i = 1}^{n}(y_i - \\hat{y_i})^2$$\n",
        "\n",
        "Реализуем ошибку по формуле:"
      ]
    },
    {
      "cell_type": "code",
      "metadata": {
        "id": "QWlm6k1ULb0X"
      },
      "source": [
        "mse = lambda y, y_pred:((y-y_pred)**2).sum()/len(y_pred)   "
      ],
      "execution_count": null,
      "outputs": []
    },
    {
      "cell_type": "code",
      "metadata": {
        "id": "KTe3AIgPQ6Vc"
      },
      "source": [
        "# очистка экрана\n",
        "from google.colab import output\n",
        "# коэффициент детерминации\n",
        "from sklearn.metrics import r2_score"
      ],
      "execution_count": null,
      "outputs": []
    },
    {
      "cell_type": "markdown",
      "metadata": {
        "id": "VAfKZM45XyT2"
      },
      "source": [
        "Стохастический градиентный спуск (англ. stochastic gradient descent, SGD) − оптимизационный алгоритм, отличающийся от обычного градиентного спуска тем, что градиент оптимизируемой функции считается на каждом шаге не как сумма градиентов от каждого элемента выборки, а как градиент от одного, случайно выбранного элемента."
      ]
    },
    {
      "cell_type": "markdown",
      "metadata": {
        "id": "0QVx-8CgXc_h"
      },
      "source": [
        "![dssmall](https://github.com/m9psy/neural_network_habr_guide/blob/master/Part%203/images/stochastic.gif?raw=true)"
      ]
    },
    {
      "cell_type": "markdown",
      "metadata": {
        "id": "7LMlKFjzMgdi"
      },
      "source": [
        "$$w_{t+1} = w_{t} - \\frac{2\\alpha}{n}X_i(<X_i, w_{t}> - y_i) $$\n",
        "\n",
        "Реализуем шаг по формуле"
      ]
    },
    {
      "cell_type": "code",
      "metadata": {
        "id": "x1JnXq6a_HRH"
      },
      "source": [
        "gradient_step_stah = lambda X, y, w, alpha, ind: w - (alpha* 2.0 / X.shape[0]) * X[ind] * (np.dot(X[ind], w) - y[ind])"
      ],
      "execution_count": null,
      "outputs": []
    },
    {
      "cell_type": "code",
      "metadata": {
        "id": "uz-WNufqNIpJ",
        "colab": {
          "base_uri": "https://localhost:8080/"
        },
        "outputId": "bd742878-e6eb-4ce1-bbb2-0caca06bb335"
      },
      "source": [
        "# выбрали случайный индекс\n",
        "ind = np.random.randint(X_train.shape[1])\n",
        "# сделали один шаг (w = [1, 1, ...])\n",
        "gradient_step_stah(X_train, y_train, np.ones(X_train.shape[1]),1e-4,ind)"
      ],
      "execution_count": null,
      "outputs": [
        {
          "output_type": "execute_result",
          "data": {
            "text/plain": [
              "array([0.99999976, 0.99999978, 0.99999994, 0.99999915, 0.99999968,\n",
              "       0.99999943, 1.00000054])"
            ]
          },
          "metadata": {
            "tags": []
          },
          "execution_count": 13
        }
      ]
    },
    {
      "cell_type": "code",
      "metadata": {
        "id": "NAK0BcE6gpnP",
        "colab": {
          "base_uri": "https://localhost:8080/"
        },
        "outputId": "e67da34f-20fd-4461-9f7a-cc9b0fb65b67"
      },
      "source": [
        "X_train.shape[1]"
      ],
      "execution_count": null,
      "outputs": [
        {
          "output_type": "execute_result",
          "data": {
            "text/plain": [
              "7"
            ]
          },
          "metadata": {
            "tags": []
          },
          "execution_count": 14
        }
      ]
    },
    {
      "cell_type": "markdown",
      "metadata": {
        "id": "6jG4O7DRgStd"
      },
      "source": [
        "## Обучение алгоритма"
      ]
    },
    {
      "cell_type": "code",
      "metadata": {
        "id": "wYMc6vvtJQVY",
        "colab": {
          "base_uri": "https://localhost:8080/"
        },
        "outputId": "2a64736e-157f-48c0-be9e-e2d950daff5d"
      },
      "source": [
        "# стохастический градиентный спуск\n",
        "def sgd(X, y, w, alpha = 1e-4, max_it = 10e6):\n",
        "    # номер итерации\n",
        "    iter_num = 0\n",
        "    # ошибки на трейне\n",
        "    errors = []\n",
        "    # ошибки на тесте\n",
        "    errors_test = []\n",
        "    # r2 на тесте\n",
        "    r2 = []\n",
        "    while (iter_num < max_it):\n",
        "        # выбираем случайный элемент\n",
        "        ind = np.random.randint(X.shape[0])\n",
        "        # обновляем веса град спуском\n",
        "        w = gradient_step_stah(X, y, w, alpha, ind)\n",
        "        # отображаем каждый %\n",
        "        if iter_num%(int(max_it/100))==0:\n",
        "            # очищаем экран\n",
        "            output.clear()\n",
        "            print('Выполнено:', int(iter_num/max_it * 100), '%')\n",
        "            # mse train\n",
        "            error = mse(y_train,np.dot(X_train, w))\n",
        "            errors.append(error)\n",
        "            print('Mse train:', error)\n",
        "            # mse test\n",
        "            error = mse(y_test,np.dot(X_test, w))\n",
        "            errors_test.append(error)\n",
        "            print('Mse test:', error)\n",
        "            # r2 test\n",
        "            R = r2_score(y_test,np.dot(X_test, w))\n",
        "            r2.append(R)\n",
        "            print('R2:', R)\n",
        "        iter_num += 1\n",
        "\n",
        "    return w, errors, errors_test, r2\n",
        "\n",
        "w, mse_train, mse_test, r2 = sgd(X_train, y_train, np.ones(X_train.shape[1]))"
      ],
      "execution_count": null,
      "outputs": [
        {
          "output_type": "stream",
          "text": [
            "Выполнено: 99 %\n",
            "Mse train: 0.1979148108331011\n",
            "Mse test: 0.12146346162909519\n",
            "R2: 0.8444109054597653\n"
          ],
          "name": "stdout"
        }
      ]
    },
    {
      "cell_type": "code",
      "metadata": {
        "id": "oBcedhprSn3t",
        "colab": {
          "base_uri": "https://localhost:8080/",
          "height": 609
        },
        "outputId": "9fc6d171-b56d-4aea-cc0e-ac4138cb3d18"
      },
      "source": [
        "from matplotlib.pyplot import figure\n",
        "\n",
        "plt.figure(figsize=(15,10))\n",
        "plt.grid()\n",
        "\n",
        "plt.plot(mse_train, label = 'train')\n",
        "plt.plot(mse_test, label = 'test')\n",
        "plt.legend()"
      ],
      "execution_count": null,
      "outputs": [
        {
          "output_type": "execute_result",
          "data": {
            "text/plain": [
              "<matplotlib.legend.Legend at 0x7f5c45fcc208>"
            ]
          },
          "metadata": {
            "tags": []
          },
          "execution_count": 16
        },
        {
          "output_type": "display_data",
          "data": {
            "image/png": "[encoded data removed]",
            "text/plain": [
              "<Figure size 1080x720 with 1 Axes>"
            ]
          },
          "metadata": {
            "tags": [],
            "needs_background": "light"
          }
        }
      ]
    },
    {
      "cell_type": "code",
      "metadata": {
        "id": "etXEv-uWVAvm",
        "colab": {
          "base_uri": "https://localhost:8080/",
          "height": 609
        },
        "outputId": "fc3d73a9-2a65-40d6-a58f-20918bd250e8"
      },
      "source": [
        "from matplotlib.pyplot import figure\n",
        "\n",
        "plt.figure(figsize=(15,10))\n",
        "plt.grid()\n",
        "\n",
        "plt.plot(r2, label = 'r2')\n",
        "plt.legend()"
      ],
      "execution_count": null,
      "outputs": [
        {
          "output_type": "execute_result",
          "data": {
            "text/plain": [
              "<matplotlib.legend.Legend at 0x7f5c45f40ef0>"
            ]
          },
          "metadata": {
            "tags": []
          },
          "execution_count": 17
        },
        {
          "output_type": "display_data",
          "data": {
            "image/png": "[encoded data removed]",
            "text/plain": [
              "<Figure size 1080x720 with 1 Axes>"
            ]
          },
          "metadata": {
            "tags": [],
            "needs_background": "light"
          }
        }
      ]
    },
    {
      "cell_type": "code",
      "metadata": {
        "id": "8ACfnz1FRV8E",
        "colab": {
          "base_uri": "https://localhost:8080/"
        },
        "outputId": "ed2346de-7cc9-453a-e118-b9faaa48afec"
      },
      "source": [
        "print('веса', w)\n",
        "print('R^2 = ', r2_score(y_test, np.dot(X_test,w)))"
      ],
      "execution_count": null,
      "outputs": [
        {
          "output_type": "stream",
          "text": [
            "веса [0.19854855 0.16123524 0.06034153 0.03323349 0.13712037 0.35897761\n",
            " 0.10055719]\n",
            "R^2 =  0.8444942023608428\n"
          ],
          "name": "stdout"
        }
      ]
    },
    {
      "cell_type": "code",
      "metadata": {
        "id": "xLZZmoD_QQyB",
        "colab": {
          "base_uri": "https://localhost:8080/",
          "height": 375
        },
        "outputId": "383eea6b-b454-4925-b3c0-b3b1fde71afa"
      },
      "source": [
        "# массив результатов\n",
        "r2_shuffles = []\n",
        "# проверим, зависит ли изначальная перемешка от результата\n",
        "for i in range(20):\n",
        "    print(f'Итерация {i+1}')\n",
        "    # перемешка\n",
        "    df = df.sample(frac=1).reset_index(drop=True)\n",
        "    # train test split\n",
        "    df_train = df[:400]\n",
        "    df_test = df[400:]\n",
        "    # среднее и стандартное отклонение\n",
        "    mean = df.mean(axis=0)\n",
        "    std = df.std(axis=0)\n",
        "    # 0 мат ожидание и 1 дисперсию\n",
        "    df_train = (df_train - mean)/std\n",
        "    X_train = df_train.drop(columns=['Chance of Admit ']).values\n",
        "    y_train = df_train['Chance of Admit '].values\n",
        "    df_test = (df_test - mean)/std\n",
        "    X_test = df_test.drop(columns=['Chance of Admit ']).values\n",
        "    y_test = df_test['Chance of Admit '].values\n",
        "\n",
        "    w, mse_train, mse_test, r2 = sgd(X_train, y_train, np.ones(X_train.shape[1]))\n",
        "    print(f'Итерация {i+1} | R^2 = ', r2_score(y_test, np.dot(X_test,w)))\n",
        "    r2_shuffles.append(r2_score(y_test, np.dot(X_test,w)))"
      ],
      "execution_count": null,
      "outputs": [
        {
          "output_type": "stream",
          "text": [
            "Выполнено: 53 %\n",
            "Mse train: 0.19051628269195425\n",
            "Mse test: 0.22203256156963938\n",
            "R2: 0.7824011661766636\n"
          ],
          "name": "stdout"
        },
        {
          "output_type": "error",
          "ename": "KeyboardInterrupt",
          "evalue": "ignored",
          "traceback": [
            "\u001b[0;31m---------------------------------------------------------------------------\u001b[0m",
            "\u001b[0;31mKeyboardInterrupt\u001b[0m                         Traceback (most recent call last)",
            "\u001b[0;32m<ipython-input-19-f7900a86b3e1>\u001b[0m in \u001b[0;36m<module>\u001b[0;34m()\u001b[0m\n\u001b[1;32m     20\u001b[0m     \u001b[0my_test\u001b[0m \u001b[0;34m=\u001b[0m \u001b[0mdf_test\u001b[0m\u001b[0;34m[\u001b[0m\u001b[0;34m'Chance of Admit '\u001b[0m\u001b[0;34m]\u001b[0m\u001b[0;34m.\u001b[0m\u001b[0mvalues\u001b[0m\u001b[0;34m\u001b[0m\u001b[0;34m\u001b[0m\u001b[0m\n\u001b[1;32m     21\u001b[0m \u001b[0;34m\u001b[0m\u001b[0m\n\u001b[0;32m---> 22\u001b[0;31m     \u001b[0mw\u001b[0m\u001b[0;34m,\u001b[0m \u001b[0mmse_train\u001b[0m\u001b[0;34m,\u001b[0m \u001b[0mmse_test\u001b[0m\u001b[0;34m,\u001b[0m \u001b[0mr2\u001b[0m \u001b[0;34m=\u001b[0m \u001b[0msgd\u001b[0m\u001b[0;34m(\u001b[0m\u001b[0mX_train\u001b[0m\u001b[0;34m,\u001b[0m \u001b[0my_train\u001b[0m\u001b[0;34m,\u001b[0m \u001b[0mnp\u001b[0m\u001b[0;34m.\u001b[0m\u001b[0mones\u001b[0m\u001b[0;34m(\u001b[0m\u001b[0mX_train\u001b[0m\u001b[0;34m.\u001b[0m\u001b[0mshape\u001b[0m\u001b[0;34m[\u001b[0m\u001b[0;36m1\u001b[0m\u001b[0;34m]\u001b[0m\u001b[0;34m)\u001b[0m\u001b[0;34m)\u001b[0m\u001b[0;34m\u001b[0m\u001b[0;34m\u001b[0m\u001b[0m\n\u001b[0m\u001b[1;32m     23\u001b[0m     \u001b[0mprint\u001b[0m\u001b[0;34m(\u001b[0m\u001b[0;34mf'Итерация {i+1} | R^2 = '\u001b[0m\u001b[0;34m,\u001b[0m \u001b[0mr2_score\u001b[0m\u001b[0;34m(\u001b[0m\u001b[0my_test\u001b[0m\u001b[0;34m,\u001b[0m \u001b[0mnp\u001b[0m\u001b[0;34m.\u001b[0m\u001b[0mdot\u001b[0m\u001b[0;34m(\u001b[0m\u001b[0mX_test\u001b[0m\u001b[0;34m,\u001b[0m\u001b[0mw\u001b[0m\u001b[0;34m)\u001b[0m\u001b[0;34m)\u001b[0m\u001b[0;34m)\u001b[0m\u001b[0;34m\u001b[0m\u001b[0;34m\u001b[0m\u001b[0m\n\u001b[1;32m     24\u001b[0m     \u001b[0mr2_shuffles\u001b[0m\u001b[0;34m.\u001b[0m\u001b[0mappend\u001b[0m\u001b[0;34m(\u001b[0m\u001b[0mr2_score\u001b[0m\u001b[0;34m(\u001b[0m\u001b[0my_test\u001b[0m\u001b[0;34m,\u001b[0m \u001b[0mnp\u001b[0m\u001b[0;34m.\u001b[0m\u001b[0mdot\u001b[0m\u001b[0;34m(\u001b[0m\u001b[0mX_test\u001b[0m\u001b[0;34m,\u001b[0m\u001b[0mw\u001b[0m\u001b[0;34m)\u001b[0m\u001b[0;34m)\u001b[0m\u001b[0;34m)\u001b[0m\u001b[0;34m\u001b[0m\u001b[0;34m\u001b[0m\u001b[0m\n",
            "\u001b[0;32m<ipython-input-15-7d457f3c13c9>\u001b[0m in \u001b[0;36msgd\u001b[0;34m(X, y, w, alpha, max_it)\u001b[0m\n\u001b[1;32m     13\u001b[0m         \u001b[0mind\u001b[0m \u001b[0;34m=\u001b[0m \u001b[0mnp\u001b[0m\u001b[0;34m.\u001b[0m\u001b[0mrandom\u001b[0m\u001b[0;34m.\u001b[0m\u001b[0mrandint\u001b[0m\u001b[0;34m(\u001b[0m\u001b[0mX\u001b[0m\u001b[0;34m.\u001b[0m\u001b[0mshape\u001b[0m\u001b[0;34m[\u001b[0m\u001b[0;36m0\u001b[0m\u001b[0;34m]\u001b[0m\u001b[0;34m)\u001b[0m\u001b[0;34m\u001b[0m\u001b[0;34m\u001b[0m\u001b[0m\n\u001b[1;32m     14\u001b[0m         \u001b[0;31m# обновляем веса град спуском\u001b[0m\u001b[0;34m\u001b[0m\u001b[0;34m\u001b[0m\u001b[0;34m\u001b[0m\u001b[0m\n\u001b[0;32m---> 15\u001b[0;31m         \u001b[0mw\u001b[0m \u001b[0;34m=\u001b[0m \u001b[0mgradient_step_stah\u001b[0m\u001b[0;34m(\u001b[0m\u001b[0mX\u001b[0m\u001b[0;34m,\u001b[0m \u001b[0my\u001b[0m\u001b[0;34m,\u001b[0m \u001b[0mw\u001b[0m\u001b[0;34m,\u001b[0m \u001b[0malpha\u001b[0m\u001b[0;34m,\u001b[0m \u001b[0mind\u001b[0m\u001b[0;34m)\u001b[0m\u001b[0;34m\u001b[0m\u001b[0;34m\u001b[0m\u001b[0m\n\u001b[0m\u001b[1;32m     16\u001b[0m         \u001b[0;31m# отображаем каждый %\u001b[0m\u001b[0;34m\u001b[0m\u001b[0;34m\u001b[0m\u001b[0;34m\u001b[0m\u001b[0m\n\u001b[1;32m     17\u001b[0m         \u001b[0;32mif\u001b[0m \u001b[0miter_num\u001b[0m\u001b[0;34m%\u001b[0m\u001b[0;34m(\u001b[0m\u001b[0mint\u001b[0m\u001b[0;34m(\u001b[0m\u001b[0mmax_it\u001b[0m\u001b[0;34m/\u001b[0m\u001b[0;36m100\u001b[0m\u001b[0;34m)\u001b[0m\u001b[0;34m)\u001b[0m\u001b[0;34m==\u001b[0m\u001b[0;36m0\u001b[0m\u001b[0;34m:\u001b[0m\u001b[0;34m\u001b[0m\u001b[0;34m\u001b[0m\u001b[0m\n",
            "\u001b[0;32m<ipython-input-12-e5a384564227>\u001b[0m in \u001b[0;36m<lambda>\u001b[0;34m(X, y, w, alpha, ind)\u001b[0m\n\u001b[0;32m----> 1\u001b[0;31m \u001b[0mgradient_step_stah\u001b[0m \u001b[0;34m=\u001b[0m \u001b[0;32mlambda\u001b[0m \u001b[0mX\u001b[0m\u001b[0;34m,\u001b[0m \u001b[0my\u001b[0m\u001b[0;34m,\u001b[0m \u001b[0mw\u001b[0m\u001b[0;34m,\u001b[0m \u001b[0malpha\u001b[0m\u001b[0;34m,\u001b[0m \u001b[0mind\u001b[0m\u001b[0;34m:\u001b[0m \u001b[0mw\u001b[0m \u001b[0;34m-\u001b[0m \u001b[0;34m(\u001b[0m\u001b[0malpha\u001b[0m\u001b[0;34m*\u001b[0m \u001b[0;36m2.0\u001b[0m \u001b[0;34m/\u001b[0m \u001b[0mX\u001b[0m\u001b[0;34m.\u001b[0m\u001b[0mshape\u001b[0m\u001b[0;34m[\u001b[0m\u001b[0;36m0\u001b[0m\u001b[0;34m]\u001b[0m\u001b[0;34m)\u001b[0m \u001b[0;34m*\u001b[0m \u001b[0mX\u001b[0m\u001b[0;34m[\u001b[0m\u001b[0mind\u001b[0m\u001b[0;34m]\u001b[0m \u001b[0;34m*\u001b[0m \u001b[0;34m(\u001b[0m\u001b[0mnp\u001b[0m\u001b[0;34m.\u001b[0m\u001b[0mdot\u001b[0m\u001b[0;34m(\u001b[0m\u001b[0mX\u001b[0m\u001b[0;34m[\u001b[0m\u001b[0mind\u001b[0m\u001b[0;34m]\u001b[0m\u001b[0;34m,\u001b[0m \u001b[0mw\u001b[0m\u001b[0;34m)\u001b[0m \u001b[0;34m-\u001b[0m \u001b[0my\u001b[0m\u001b[0;34m[\u001b[0m\u001b[0mind\u001b[0m\u001b[0;34m]\u001b[0m\u001b[0;34m)\u001b[0m\u001b[0;34m\u001b[0m\u001b[0;34m\u001b[0m\u001b[0m\n\u001b[0m",
            "\u001b[0;31mKeyboardInterrupt\u001b[0m: "
          ]
        }
      ]
    },
    {
      "cell_type": "code",
      "metadata": {
        "id": "jlFxViMwXAjH",
        "colab": {
          "base_uri": "https://localhost:8080/",
          "height": 417
        },
        "outputId": "22c8291f-52a2-47fe-9f68-c82ab38b840c"
      },
      "source": [
        "fig1, ax1 = plt.subplots()\n",
        "ax1.set_title('R^2 в результате перемешки')\n",
        "ax1.boxplot(r2_shuffles)"
      ],
      "execution_count": null,
      "outputs": [
        {
          "output_type": "execute_result",
          "data": {
            "text/plain": [
              "{'boxes': [<matplotlib.lines.Line2D at 0x7f5c45e43ac8>],\n",
              " 'caps': [<matplotlib.lines.Line2D at 0x7f5c45e52588>,\n",
              "  <matplotlib.lines.Line2D at 0x7f5c45e52908>],\n",
              " 'fliers': [<matplotlib.lines.Line2D at 0x7f5c45ddb048>],\n",
              " 'means': [],\n",
              " 'medians': [<matplotlib.lines.Line2D at 0x7f5c45e52c88>],\n",
              " 'whiskers': [<matplotlib.lines.Line2D at 0x7f5c45e43e48>,\n",
              "  <matplotlib.lines.Line2D at 0x7f5c45e52208>]}"
            ]
          },
          "metadata": {
            "tags": []
          },
          "execution_count": 20
        },
        {
          "output_type": "display_data",
          "data": {
            "image/png": "[encoded data removed]",
            "text/plain": [
              "<Figure size 432x288 with 1 Axes>"
            ]
          },
          "metadata": {
            "tags": [],
            "needs_background": "light"
          }
        }
      ]
    },
    {
      "cell_type": "markdown",
      "metadata": {
        "id": "GiNTmE6ngdhx"
      },
      "source": [
        "Вывод: сильно зависит от перемешки -> данные нерепрезентативны -> накапливаем еще или аугментируем"
      ]
    },
    {
      "cell_type": "markdown",
      "metadata": {
        "id": "q8GU1nh3mj7n"
      },
      "source": [
        "## Обучение с помощью sklearn"
      ]
    },
    {
      "cell_type": "code",
      "metadata": {
        "id": "aIrbw9wGmjRc",
        "colab": {
          "base_uri": "https://localhost:8080/"
        },
        "outputId": "15673994-49f5-4f7c-c617-6737c89020c1"
      },
      "source": [
        "from sklearn.linear_model import SGDRegressor\n",
        "# инициализируем и обучаем\n",
        "reg = SGDRegressor()\n",
        "reg.fit(X_train, y_train)"
      ],
      "execution_count": null,
      "outputs": [
        {
          "output_type": "execute_result",
          "data": {
            "text/plain": [
              "SGDRegressor(alpha=0.0001, average=False, early_stopping=False, epsilon=0.1,\n",
              "             eta0=0.01, fit_intercept=True, l1_ratio=0.15,\n",
              "             learning_rate='invscaling', loss='squared_loss', max_iter=1000,\n",
              "             n_iter_no_change=5, penalty='l2', power_t=0.25, random_state=None,\n",
              "             shuffle=True, tol=0.001, validation_fraction=0.1, verbose=0,\n",
              "             warm_start=False)"
            ]
          },
          "metadata": {
            "tags": []
          },
          "execution_count": 21
        }
      ]
    },
    {
      "cell_type": "code",
      "metadata": {
        "id": "4dBg3GWs0Jq_",
        "colab": {
          "base_uri": "https://localhost:8080/"
        },
        "outputId": "6d751e4b-df2b-409a-800b-d98dbddcd5a1"
      },
      "source": [
        "print('Mse sgd (sklearn): ', r2_score(y_test, reg.predict(X_test)))"
      ],
      "execution_count": null,
      "outputs": [
        {
          "output_type": "stream",
          "text": [
            "Mse sgd (sklearn):  0.8099229508452628\n"
          ],
          "name": "stdout"
        }
      ]
    },
    {
      "cell_type": "markdown",
      "metadata": {
        "id": "i181uCF21Bs4"
      },
      "source": [
        "Настраиваем тонко"
      ]
    },
    {
      "cell_type": "code",
      "metadata": {
        "id": "lmS4w6U8nHA7",
        "colab": {
          "base_uri": "https://localhost:8080/"
        },
        "outputId": "8d927a25-b103-4b57-f491-02cee4c29d56"
      },
      "source": [
        "from sklearn.model_selection import GridSearchCV\n",
        "\n",
        "grid = {'penalty': ['l1', 'l2'],\n",
        "        'alpha': [1e-4, 1e-5, 1e-6, 1e-7]}\n",
        "\n",
        "reg = SGDRegressor()\n",
        "gs = GridSearchCV(reg, grid, cv=5)\n",
        "\n",
        "# Обучаем его\n",
        "gs.fit(X_train, y_train)\n",
        "gs.best_params_, gs.best_score_"
      ],
      "execution_count": null,
      "outputs": [
        {
          "output_type": "execute_result",
          "data": {
            "text/plain": [
              "({'alpha': 0.0001, 'penalty': 'l2'}, 0.8097119654612956)"
            ]
          },
          "metadata": {
            "tags": []
          },
          "execution_count": 23
        }
      ]
    },
    {
      "cell_type": "code",
      "metadata": {
        "id": "buEMyrmz0n58",
        "colab": {
          "base_uri": "https://localhost:8080/"
        },
        "outputId": "42529b2f-a940-4e9e-c935-08307e4056d7"
      },
      "source": [
        "from sklearn.linear_model import SGDRegressor\n",
        "# инициализируем и обучаем\n",
        "reg = SGDRegressor(alpha = 1e-05, penalty = 'l2')\n",
        "reg.fit(X_train, y_train)"
      ],
      "execution_count": null,
      "outputs": [
        {
          "output_type": "execute_result",
          "data": {
            "text/plain": [
              "SGDRegressor(alpha=1e-05, average=False, early_stopping=False, epsilon=0.1,\n",
              "             eta0=0.01, fit_intercept=True, l1_ratio=0.15,\n",
              "             learning_rate='invscaling', loss='squared_loss', max_iter=1000,\n",
              "             n_iter_no_change=5, penalty='l2', power_t=0.25, random_state=None,\n",
              "             shuffle=True, tol=0.001, validation_fraction=0.1, verbose=0,\n",
              "             warm_start=False)"
            ]
          },
          "metadata": {
            "tags": []
          },
          "execution_count": 24
        }
      ]
    },
    {
      "cell_type": "code",
      "metadata": {
        "id": "PWG_X64r0o1V",
        "colab": {
          "base_uri": "https://localhost:8080/"
        },
        "outputId": "c792db64-b042-4b5e-de24-25af6bfc76f4"
      },
      "source": [
        "print('Mse sgd (sklearn): ', r2_score(y_test, reg.predict(X_test)))"
      ],
      "execution_count": null,
      "outputs": [
        {
          "output_type": "stream",
          "text": [
            "Mse sgd (sklearn):  0.8085748782624143\n"
          ],
          "name": "stdout"
        }
      ]
    },
    {
      "cell_type": "code",
      "metadata": {
        "id": "s5PlFmWT1Lb3",
        "colab": {
          "base_uri": "https://localhost:8080/"
        },
        "outputId": "e3a0ca9d-01e9-4668-b068-6dd43ae94d1c"
      },
      "source": [
        "fin_score = []\n",
        "\n",
        "for i in range(30):\n",
        "    print(f'Итерация {i+1}')\n",
        "    # перемешка\n",
        "    df = df.sample(frac=1).reset_index(drop=True)\n",
        "    # train test split\n",
        "    df_train = df[:400]\n",
        "    df_test = df[400:]\n",
        "    # среднее и стандартное отклонение\n",
        "    mean = df.mean(axis=0)\n",
        "    std = df.std(axis=0)\n",
        "    # 0 мат ожидание и 1 дисперсию\n",
        "    df_train = (df_train - mean)/std\n",
        "    X_train = df_train.drop(columns=['Chance of Admit ']).values\n",
        "    y_train = df_train['Chance of Admit '].values\n",
        "    df_test = (df_test - mean)/std\n",
        "    X_test = df_test.drop(columns=['Chance of Admit ']).values\n",
        "    y_test = df_test['Chance of Admit '].values\n",
        "\n",
        "    # обучение\n",
        "    grid = {'penalty': ['l1', 'l2'],\n",
        "            'alpha': [1e-4, 1e-5, 1e-6, 1e-7]}\n",
        "\n",
        "    reg = SGDRegressor()\n",
        "    gs = GridSearchCV(reg, grid, cv=5, scoring = 'r2')\n",
        "\n",
        "    # Обучаем его\n",
        "    gs.fit(X_train, y_train)\n",
        "    print(gs.best_score_)\n",
        "    fin_score.append(gs.best_score_)"
      ],
      "execution_count": null,
      "outputs": [
        {
          "output_type": "stream",
          "text": [
            "Итерация 1\n",
            "0.8109177706435201\n",
            "Итерация 2\n",
            "0.8198261986327733\n",
            "Итерация 3\n",
            "0.8092944066597569\n",
            "Итерация 4\n",
            "0.8078472515506094\n",
            "Итерация 5\n",
            "0.8119252273501584\n",
            "Итерация 6\n",
            "0.7969072937292928\n",
            "Итерация 7\n",
            "0.7956026082377654\n",
            "Итерация 8\n",
            "0.8036936558068124\n",
            "Итерация 9\n",
            "0.8060383820051505\n",
            "Итерация 10\n",
            "0.8032334665712701\n",
            "Итерация 11\n",
            "0.8063744122411365\n",
            "Итерация 12\n",
            "0.814178695781138\n",
            "Итерация 13\n",
            "0.8113545721445821\n",
            "Итерация 14\n",
            "0.8000055833354516\n",
            "Итерация 15\n",
            "0.7936631228843594\n",
            "Итерация 16\n",
            "0.8128613722777185\n",
            "Итерация 17\n",
            "0.8174970129769239\n",
            "Итерация 18\n",
            "0.7978412281418048\n",
            "Итерация 19\n",
            "0.8081217313303494\n",
            "Итерация 20\n",
            "0.8204904791626919\n",
            "Итерация 21\n",
            "0.8159335375063641\n",
            "Итерация 22\n",
            "0.8187848150067663\n",
            "Итерация 23\n",
            "0.8072786430431321\n",
            "Итерация 24\n",
            "0.8033467813126485\n",
            "Итерация 25\n",
            "0.8249546871718272\n",
            "Итерация 26\n",
            "0.8244556550113333\n",
            "Итерация 27\n",
            "0.8117539794599405\n",
            "Итерация 28\n",
            "0.7904734177162176\n",
            "Итерация 29\n",
            "0.8014776460898485\n",
            "Итерация 30\n",
            "0.8105552181734911\n"
          ],
          "name": "stdout"
        }
      ]
    },
    {
      "cell_type": "code",
      "metadata": {
        "id": "tlUhmuP74t8G",
        "colab": {
          "base_uri": "https://localhost:8080/",
          "height": 417
        },
        "outputId": "0bcca010-aebe-4481-d985-0ec7de53c3ae"
      },
      "source": [
        "fig1, ax1 = plt.subplots()\n",
        "ax1.set_title('R^2 в результате перемешки (+ регуляризация)')\n",
        "ax1.boxplot(fin_score)"
      ],
      "execution_count": null,
      "outputs": [
        {
          "output_type": "execute_result",
          "data": {
            "text/plain": [
              "{'boxes': [<matplotlib.lines.Line2D at 0x7f5c4440f518>],\n",
              " 'caps': [<matplotlib.lines.Line2D at 0x7f5c4440ff28>,\n",
              "  <matplotlib.lines.Line2D at 0x7f5c443982e8>],\n",
              " 'fliers': [<matplotlib.lines.Line2D at 0x7f5c443989e8>],\n",
              " 'means': [],\n",
              " 'medians': [<matplotlib.lines.Line2D at 0x7f5c44398668>],\n",
              " 'whiskers': [<matplotlib.lines.Line2D at 0x7f5c4440f828>,\n",
              "  <matplotlib.lines.Line2D at 0x7f5c4440fba8>]}"
            ]
          },
          "metadata": {
            "tags": []
          },
          "execution_count": 27
        },
        {
          "output_type": "display_data",
          "data": {
            "image/png": "[encoded data removed]",
            "text/plain": [
              "<Figure size 432x288 with 1 Axes>"
            ]
          },
          "metadata": {
            "tags": [],
            "needs_background": "light"
          }
        }
      ]
    },
    {
      "cell_type": "markdown",
      "metadata": {
        "id": "Jcqo7pYBi3aM"
      },
      "source": [
        "# Работа с линейными методами"
      ]
    },
    {
      "cell_type": "markdown",
      "metadata": {
        "id": "Rys08KrbjYhh"
      },
      "source": [
        "На основе https://www.kaggle.com/zynicide/wine-reviews#winemag-data_first150k.csv"
      ]
    },
    {
      "cell_type": "code",
      "metadata": {
        "id": "nWZxOxVHgOnH"
      },
      "source": [
        "# импортируем зависимости\n",
        "import numpy as np\n",
        "import pandas as pd\n",
        "import matplotlib.pyplot as plt\n",
        "import seaborn as sns"
      ],
      "execution_count": null,
      "outputs": []
    },
    {
      "cell_type": "markdown",
      "metadata": {
        "id": "uAVkjg3cB_kR"
      },
      "source": [
        "## Загрузка данных"
      ]
    },
    {
      "cell_type": "code",
      "metadata": {
        "id": "wUe_b4NyZQf-",
        "colab": {
          "base_uri": "https://localhost:8080/",
          "height": 374
        },
        "outputId": "c93f7119-b112-4dab-976b-4e1504898708"
      },
      "source": [
        "df = pd.read_csv('https://raw.githubusercontent.com/tixonsit/mmdad_materials/master/winemag-data-130k-v2.csv')\n",
        "df.head()"
      ],
      "execution_count": null,
      "outputs": [
        {
          "output_type": "execute_result",
          "data": {
            "text/html": [
              "<div>\n",
              "<style scoped>\n",
              "    .dataframe tbody tr th:only-of-type {\n",
              "        vertical-align: middle;\n",
              "    }\n",
              "\n",
              "    .dataframe tbody tr th {\n",
              "        vertical-align: top;\n",
              "    }\n",
              "\n",
              "    .dataframe thead th {\n",
              "        text-align: right;\n",
              "    }\n",
              "</style>\n",
              "<table border=\"1\" class=\"dataframe\">\n",
              "  <thead>\n",
              "    <tr style=\"text-align: right;\">\n",
              "      <th></th>\n",
              "      <th>Unnamed: 0</th>\n",
              "      <th>country</th>\n",
              "      <th>description</th>\n",
              "      <th>designation</th>\n",
              "      <th>points</th>\n",
              "      <th>price</th>\n",
              "      <th>province</th>\n",
              "      <th>region_1</th>\n",
              "      <th>region_2</th>\n",
              "      <th>taster_name</th>\n",
              "      <th>taster_twitter_handle</th>\n",
              "      <th>title</th>\n",
              "      <th>variety</th>\n",
              "      <th>winery</th>\n",
              "    </tr>\n",
              "  </thead>\n",
              "  <tbody>\n",
              "    <tr>\n",
              "      <th>0</th>\n",
              "      <td>0</td>\n",
              "      <td>Italy</td>\n",
              "      <td>Aromas include tropical fruit, broom, brimston...</td>\n",
              "      <td>Vulkà Bianco</td>\n",
              "      <td>87</td>\n",
              "      <td>NaN</td>\n",
              "      <td>Sicily &amp; Sardinia</td>\n",
              "      <td>Etna</td>\n",
              "      <td>NaN</td>\n",
              "      <td>Kerin O’Keefe</td>\n",
              "      <td>@kerinokeefe</td>\n",
              "      <td>Nicosia 2013 Vulkà Bianco  (Etna)</td>\n",
              "      <td>White Blend</td>\n",
              "      <td>Nicosia</td>\n",
              "    </tr>\n",
              "    <tr>\n",
              "      <th>1</th>\n",
              "      <td>1</td>\n",
              "      <td>Portugal</td>\n",
              "      <td>This is ripe and fruity, a wine that is smooth...</td>\n",
              "      <td>Avidagos</td>\n",
              "      <td>87</td>\n",
              "      <td>15.0</td>\n",
              "      <td>Douro</td>\n",
              "      <td>NaN</td>\n",
              "      <td>NaN</td>\n",
              "      <td>Roger Voss</td>\n",
              "      <td>@vossroger</td>\n",
              "      <td>Quinta dos Avidagos 2011 Avidagos Red (Douro)</td>\n",
              "      <td>Portuguese Red</td>\n",
              "      <td>Quinta dos Avidagos</td>\n",
              "    </tr>\n",
              "    <tr>\n",
              "      <th>2</th>\n",
              "      <td>2</td>\n",
              "      <td>US</td>\n",
              "      <td>Tart and snappy, the flavors of lime flesh and...</td>\n",
              "      <td>NaN</td>\n",
              "      <td>87</td>\n",
              "      <td>14.0</td>\n",
              "      <td>Oregon</td>\n",
              "      <td>Willamette Valley</td>\n",
              "      <td>Willamette Valley</td>\n",
              "      <td>Paul Gregutt</td>\n",
              "      <td>@paulgwine</td>\n",
              "      <td>Rainstorm 2013 Pinot Gris (Willamette Valley)</td>\n",
              "      <td>Pinot Gris</td>\n",
              "      <td>Rainstorm</td>\n",
              "    </tr>\n",
              "    <tr>\n",
              "      <th>3</th>\n",
              "      <td>3</td>\n",
              "      <td>US</td>\n",
              "      <td>Pineapple rind, lemon pith and orange blossom ...</td>\n",
              "      <td>Reserve Late Harvest</td>\n",
              "      <td>87</td>\n",
              "      <td>13.0</td>\n",
              "      <td>Michigan</td>\n",
              "      <td>Lake Michigan Shore</td>\n",
              "      <td>NaN</td>\n",
              "      <td>Alexander Peartree</td>\n",
              "      <td>NaN</td>\n",
              "      <td>St. Julian 2013 Reserve Late Harvest Riesling ...</td>\n",
              "      <td>Riesling</td>\n",
              "      <td>St. Julian</td>\n",
              "    </tr>\n",
              "    <tr>\n",
              "      <th>4</th>\n",
              "      <td>4</td>\n",
              "      <td>US</td>\n",
              "      <td>Much like the regular bottling from 2012, this...</td>\n",
              "      <td>Vintner's Reserve Wild Child Block</td>\n",
              "      <td>87</td>\n",
              "      <td>65.0</td>\n",
              "      <td>Oregon</td>\n",
              "      <td>Willamette Valley</td>\n",
              "      <td>Willamette Valley</td>\n",
              "      <td>Paul Gregutt</td>\n",
              "      <td>@paulgwine</td>\n",
              "      <td>Sweet Cheeks 2012 Vintner's Reserve Wild Child...</td>\n",
              "      <td>Pinot Noir</td>\n",
              "      <td>Sweet Cheeks</td>\n",
              "    </tr>\n",
              "  </tbody>\n",
              "</table>\n",
              "</div>"
            ],
            "text/plain": [
              "   Unnamed: 0   country  ...         variety               winery\n",
              "0           0     Italy  ...     White Blend              Nicosia\n",
              "1           1  Portugal  ...  Portuguese Red  Quinta dos Avidagos\n",
              "2           2        US  ...      Pinot Gris            Rainstorm\n",
              "3           3        US  ...        Riesling           St. Julian\n",
              "4           4        US  ...      Pinot Noir         Sweet Cheeks\n",
              "\n",
              "[5 rows x 14 columns]"
            ]
          },
          "metadata": {
            "tags": []
          },
          "execution_count": 3
        }
      ]
    },
    {
      "cell_type": "markdown",
      "metadata": {
        "id": "9JxSFAm3Cyhh"
      },
      "source": [
        "Корректно ли все загрузилось, сколько пропусков?"
      ]
    },
    {
      "cell_type": "code",
      "metadata": {
        "id": "h476GzdcCw0h",
        "colab": {
          "base_uri": "https://localhost:8080/",
          "height": 692
        },
        "outputId": "6896a0cc-01bb-4a34-a1d3-8a3941e503e3"
      },
      "source": [
        "fig, ax = plt.subplots(figsize=(14,10))\n",
        "sns.heatmap(df.isnull(), cbar=False, cmap=\"YlGnBu_r\")\n",
        "plt.show()"
      ],
      "execution_count": null,
      "outputs": [
        {
          "output_type": "display_data",
          "data": {
            "image/png": "[encoded data removed]",
            "text/plain": [
              "<Figure size 1008x720 with 1 Axes>"
            ]
          },
          "metadata": {
            "tags": [],
            "needs_background": "light"
          }
        }
      ]
    },
    {
      "cell_type": "markdown",
      "metadata": {
        "id": "AfRRQNyZC4Kd"
      },
      "source": [
        "Нам важно, чтоб был столбец цены. Столбцы region_2 (2й регион), taster_name (имя тестировщика), taster_twitter_handle (твиттер тестировщика), designation (назначение) нам не особо важны. Остальные стобцы почистим"
      ]
    },
    {
      "cell_type": "code",
      "metadata": {
        "id": "DTGmCkP2C0tx",
        "colab": {
          "base_uri": "https://localhost:8080/",
          "height": 204
        },
        "outputId": "09fde2ae-5003-44bd-bc57-8deea74fce99"
      },
      "source": [
        "df.drop(columns=['region_2', 'Unnamed: 0', 'taster_name', 'taster_twitter_handle', 'designation'], inplace=True)\n",
        "df.dropna(inplace=True)\n",
        "df.head()"
      ],
      "execution_count": null,
      "outputs": [
        {
          "output_type": "execute_result",
          "data": {
            "text/html": [
              "<div>\n",
              "<style scoped>\n",
              "    .dataframe tbody tr th:only-of-type {\n",
              "        vertical-align: middle;\n",
              "    }\n",
              "\n",
              "    .dataframe tbody tr th {\n",
              "        vertical-align: top;\n",
              "    }\n",
              "\n",
              "    .dataframe thead th {\n",
              "        text-align: right;\n",
              "    }\n",
              "</style>\n",
              "<table border=\"1\" class=\"dataframe\">\n",
              "  <thead>\n",
              "    <tr style=\"text-align: right;\">\n",
              "      <th></th>\n",
              "      <th>country</th>\n",
              "      <th>description</th>\n",
              "      <th>points</th>\n",
              "      <th>price</th>\n",
              "      <th>province</th>\n",
              "      <th>region_1</th>\n",
              "      <th>title</th>\n",
              "      <th>variety</th>\n",
              "      <th>winery</th>\n",
              "    </tr>\n",
              "  </thead>\n",
              "  <tbody>\n",
              "    <tr>\n",
              "      <th>2</th>\n",
              "      <td>US</td>\n",
              "      <td>Tart and snappy, the flavors of lime flesh and...</td>\n",
              "      <td>87</td>\n",
              "      <td>14.0</td>\n",
              "      <td>Oregon</td>\n",
              "      <td>Willamette Valley</td>\n",
              "      <td>Rainstorm 2013 Pinot Gris (Willamette Valley)</td>\n",
              "      <td>Pinot Gris</td>\n",
              "      <td>Rainstorm</td>\n",
              "    </tr>\n",
              "    <tr>\n",
              "      <th>3</th>\n",
              "      <td>US</td>\n",
              "      <td>Pineapple rind, lemon pith and orange blossom ...</td>\n",
              "      <td>87</td>\n",
              "      <td>13.0</td>\n",
              "      <td>Michigan</td>\n",
              "      <td>Lake Michigan Shore</td>\n",
              "      <td>St. Julian 2013 Reserve Late Harvest Riesling ...</td>\n",
              "      <td>Riesling</td>\n",
              "      <td>St. Julian</td>\n",
              "    </tr>\n",
              "    <tr>\n",
              "      <th>4</th>\n",
              "      <td>US</td>\n",
              "      <td>Much like the regular bottling from 2012, this...</td>\n",
              "      <td>87</td>\n",
              "      <td>65.0</td>\n",
              "      <td>Oregon</td>\n",
              "      <td>Willamette Valley</td>\n",
              "      <td>Sweet Cheeks 2012 Vintner's Reserve Wild Child...</td>\n",
              "      <td>Pinot Noir</td>\n",
              "      <td>Sweet Cheeks</td>\n",
              "    </tr>\n",
              "    <tr>\n",
              "      <th>5</th>\n",
              "      <td>Spain</td>\n",
              "      <td>Blackberry and raspberry aromas show a typical...</td>\n",
              "      <td>87</td>\n",
              "      <td>15.0</td>\n",
              "      <td>Northern Spain</td>\n",
              "      <td>Navarra</td>\n",
              "      <td>Tandem 2011 Ars In Vitro Tempranillo-Merlot (N...</td>\n",
              "      <td>Tempranillo-Merlot</td>\n",
              "      <td>Tandem</td>\n",
              "    </tr>\n",
              "    <tr>\n",
              "      <th>6</th>\n",
              "      <td>Italy</td>\n",
              "      <td>Here's a bright, informal red that opens with ...</td>\n",
              "      <td>87</td>\n",
              "      <td>16.0</td>\n",
              "      <td>Sicily &amp; Sardinia</td>\n",
              "      <td>Vittoria</td>\n",
              "      <td>Terre di Giurfo 2013 Belsito Frappato (Vittoria)</td>\n",
              "      <td>Frappato</td>\n",
              "      <td>Terre di Giurfo</td>\n",
              "    </tr>\n",
              "  </tbody>\n",
              "</table>\n",
              "</div>"
            ],
            "text/plain": [
              "  country  ...           winery\n",
              "2      US  ...        Rainstorm\n",
              "3      US  ...       St. Julian\n",
              "4      US  ...     Sweet Cheeks\n",
              "5   Spain  ...           Tandem\n",
              "6   Italy  ...  Terre di Giurfo\n",
              "\n",
              "[5 rows x 9 columns]"
            ]
          },
          "metadata": {
            "tags": []
          },
          "execution_count": 5
        }
      ]
    },
    {
      "cell_type": "code",
      "metadata": {
        "id": "GnJuhrp6C6Rw",
        "colab": {
          "base_uri": "https://localhost:8080/",
          "height": 596
        },
        "outputId": "1382bb24-ee86-4e25-c728-58ee74190cfe"
      },
      "source": [
        "fig, ax = plt.subplots(figsize=(14,10))\n",
        "sns.heatmap(df.isnull(), cbar=False, cmap=\"YlGnBu_r\")\n",
        "plt.show()"
      ],
      "execution_count": null,
      "outputs": [
        {
          "output_type": "display_data",
          "data": {
            "image/png": "[encoded data removed]",
            "text/plain": [
              "<Figure size 1008x720 with 1 Axes>"
            ]
          },
          "metadata": {
            "tags": [],
            "needs_background": "light"
          }
        }
      ]
    },
    {
      "cell_type": "code",
      "metadata": {
        "id": "Iu0XI2kjDZ3-",
        "colab": {
          "base_uri": "https://localhost:8080/"
        },
        "outputId": "77fdb119-07aa-4ab5-f5bf-19e565a08ea5"
      },
      "source": [
        "df.info()"
      ],
      "execution_count": null,
      "outputs": [
        {
          "output_type": "stream",
          "text": [
            "<class 'pandas.core.frame.DataFrame'>\n",
            "Int64Index: 101400 entries, 2 to 129970\n",
            "Data columns (total 9 columns):\n",
            " #   Column       Non-Null Count   Dtype  \n",
            "---  ------       --------------   -----  \n",
            " 0   country      101400 non-null  object \n",
            " 1   description  101400 non-null  object \n",
            " 2   points       101400 non-null  int64  \n",
            " 3   price        101400 non-null  float64\n",
            " 4   province     101400 non-null  object \n",
            " 5   region_1     101400 non-null  object \n",
            " 6   title        101400 non-null  object \n",
            " 7   variety      101400 non-null  object \n",
            " 8   winery       101400 non-null  object \n",
            "dtypes: float64(1), int64(1), object(7)\n",
            "memory usage: 7.7+ MB\n"
          ],
          "name": "stdout"
        }
      ]
    },
    {
      "cell_type": "code",
      "metadata": {
        "id": "prCHA9ysC8ao",
        "colab": {
          "base_uri": "https://localhost:8080/"
        },
        "outputId": "bbf73cbf-65d6-4e3c-92ce-3afc04e06883"
      },
      "source": [
        "len(df)"
      ],
      "execution_count": null,
      "outputs": [
        {
          "output_type": "execute_result",
          "data": {
            "text/plain": [
              "101400"
            ]
          },
          "metadata": {
            "tags": []
          },
          "execution_count": 8
        }
      ]
    },
    {
      "cell_type": "markdown",
      "metadata": {
        "id": "zyBOcvkKC_mg"
      },
      "source": [
        "## Графическое исследование данных"
      ]
    },
    {
      "cell_type": "code",
      "metadata": {
        "id": "ZUM9hr46C-U4",
        "colab": {
          "base_uri": "https://localhost:8080/",
          "height": 282
        },
        "outputId": "39b472b3-6f58-4511-ec43-b13c3b4c6572"
      },
      "source": [
        "df['price'].hist()"
      ],
      "execution_count": null,
      "outputs": [
        {
          "output_type": "execute_result",
          "data": {
            "text/plain": [
              "<matplotlib.axes._subplots.AxesSubplot at 0x7f29f38ae588>"
            ]
          },
          "metadata": {
            "tags": []
          },
          "execution_count": 9
        },
        {
          "output_type": "display_data",
          "data": {
            "image/png": "[encoded data removed]",
            "text/plain": [
              "<Figure size 432x288 with 1 Axes>"
            ]
          },
          "metadata": {
            "tags": [],
            "needs_background": "light"
          }
        }
      ]
    },
    {
      "cell_type": "markdown",
      "metadata": {
        "id": "cni4WaCUDDaa"
      },
      "source": [
        "Давайте отфильтруем очень дорогие и посмотрим на обычный ценовой диапазон"
      ]
    },
    {
      "cell_type": "code",
      "metadata": {
        "id": "vN0BsKsdDBrI",
        "colab": {
          "base_uri": "https://localhost:8080/",
          "height": 282
        },
        "outputId": "341398bc-e9c2-42db-8548-061a591e5556"
      },
      "source": [
        "df[df['price'] < 200]['price'].hist(bins = 50)"
      ],
      "execution_count": null,
      "outputs": [
        {
          "output_type": "execute_result",
          "data": {
            "text/plain": [
              "<matplotlib.axes._subplots.AxesSubplot at 0x7f29f3848198>"
            ]
          },
          "metadata": {
            "tags": []
          },
          "execution_count": 10
        },
        {
          "output_type": "display_data",
          "data": {
            "image/png": "[encoded data removed]",
            "text/plain": [
              "<Figure size 432x288 with 1 Axes>"
            ]
          },
          "metadata": {
            "tags": [],
            "needs_background": "light"
          }
        }
      ]
    },
    {
      "cell_type": "code",
      "metadata": {
        "id": "tmHOmPBlDErY",
        "colab": {
          "base_uri": "https://localhost:8080/"
        },
        "outputId": "7880ecd6-a330-43c6-f2c7-12495244e7c7"
      },
      "source": [
        "# посмотрим на основную информацию\n",
        "df['price'].describe()"
      ],
      "execution_count": null,
      "outputs": [
        {
          "output_type": "execute_result",
          "data": {
            "text/plain": [
              "count    101400.000000\n",
              "mean         36.936558\n",
              "std          41.895979\n",
              "min           4.000000\n",
              "25%          18.000000\n",
              "50%          28.000000\n",
              "75%          45.000000\n",
              "max        3300.000000\n",
              "Name: price, dtype: float64"
            ]
          },
          "metadata": {
            "tags": []
          },
          "execution_count": 11
        }
      ]
    },
    {
      "cell_type": "markdown",
      "metadata": {
        "id": "WnL3E8huDH9g"
      },
      "source": [
        "Медиана ~28 за бутылку, средняя ~37, стандартное отклонение ~42 (в $)"
      ]
    },
    {
      "cell_type": "code",
      "metadata": {
        "id": "inBe5yzckVc3"
      },
      "source": [
        "from matplotlib.pyplot import figure"
      ],
      "execution_count": null,
      "outputs": []
    },
    {
      "cell_type": "code",
      "metadata": {
        "id": "VxW6yb26DGwg",
        "colab": {
          "base_uri": "https://localhost:8080/",
          "height": 614
        },
        "outputId": "91a3876c-2d03-433a-9a2f-46aa229e0a61"
      },
      "source": [
        "import pylab as pl\n",
        "figure(num=None, figsize=(10, 8), dpi=80, facecolor='w', edgecolor='k')\n",
        "pl.suptitle(\"Распределение по оценкам\")\n",
        "df['points'].hist(bins=20)"
      ],
      "execution_count": null,
      "outputs": [
        {
          "output_type": "execute_result",
          "data": {
            "text/plain": [
              "<matplotlib.axes._subplots.AxesSubplot at 0x7f29f3748ac8>"
            ]
          },
          "metadata": {
            "tags": []
          },
          "execution_count": 13
        },
        {
          "output_type": "display_data",
          "data": {
            "image/png": "[encoded data removed]",
            "text/plain": [
              "<Figure size 800x640 with 1 Axes>"
            ]
          },
          "metadata": {
            "tags": []
          }
        }
      ]
    },
    {
      "cell_type": "code",
      "metadata": {
        "id": "b8t_hUvgDL3o",
        "colab": {
          "base_uri": "https://localhost:8080/"
        },
        "outputId": "d42ce5c2-9da2-41c5-cdfd-b5d6b7478f01"
      },
      "source": [
        "df['points'].describe()"
      ],
      "execution_count": null,
      "outputs": [
        {
          "output_type": "execute_result",
          "data": {
            "text/plain": [
              "count    101400.000000\n",
              "mean         88.463343\n",
              "std           3.060467\n",
              "min          80.000000\n",
              "25%          86.000000\n",
              "50%          88.000000\n",
              "75%          91.000000\n",
              "max         100.000000\n",
              "Name: points, dtype: float64"
            ]
          },
          "metadata": {
            "tags": []
          },
          "execution_count": 14
        }
      ]
    },
    {
      "cell_type": "markdown",
      "metadata": {
        "id": "PgElRkzyDmD6"
      },
      "source": [
        "Самая ценная информация хранится в текстовом обзоре, попробуем его предобработать \"по старинке\""
      ]
    },
    {
      "cell_type": "code",
      "metadata": {
        "id": "9lV_xWuYDldD"
      },
      "source": [
        "import string\n",
        "# реализуем предобработку\n",
        "def preprocess(doc):\n",
        "    # к нижнему регистру\n",
        "    doc = doc.lower()\n",
        "    # убираем пунктуацию, пробелы, прочее\n",
        "    for p in string.punctuation + string.whitespace:\n",
        "        doc = doc.replace(p, ' ')\n",
        "    # убираем лишние пробелы, объединяем обратно\n",
        "    doc = doc.strip()\n",
        "    doc = ' '.join([w for w in doc.split(' ') if w != ''])\n",
        "    return doc"
      ],
      "execution_count": null,
      "outputs": []
    },
    {
      "cell_type": "code",
      "metadata": {
        "id": "C87INmfjDY03",
        "colab": {
          "base_uri": "https://localhost:8080/",
          "height": 419
        },
        "outputId": "58f0b1aa-a2e9-4c07-b6e7-be0e82e0eb3c"
      },
      "source": [
        "# найдем все стобцы с типом данных строки\n",
        "df.select_dtypes(include= np.object)"
      ],
      "execution_count": null,
      "outputs": [
        {
          "output_type": "execute_result",
          "data": {
            "text/html": [
              "<div>\n",
              "<style scoped>\n",
              "    .dataframe tbody tr th:only-of-type {\n",
              "        vertical-align: middle;\n",
              "    }\n",
              "\n",
              "    .dataframe tbody tr th {\n",
              "        vertical-align: top;\n",
              "    }\n",
              "\n",
              "    .dataframe thead th {\n",
              "        text-align: right;\n",
              "    }\n",
              "</style>\n",
              "<table border=\"1\" class=\"dataframe\">\n",
              "  <thead>\n",
              "    <tr style=\"text-align: right;\">\n",
              "      <th></th>\n",
              "      <th>country</th>\n",
              "      <th>description</th>\n",
              "      <th>province</th>\n",
              "      <th>region_1</th>\n",
              "      <th>title</th>\n",
              "      <th>variety</th>\n",
              "      <th>winery</th>\n",
              "    </tr>\n",
              "  </thead>\n",
              "  <tbody>\n",
              "    <tr>\n",
              "      <th>2</th>\n",
              "      <td>US</td>\n",
              "      <td>Tart and snappy, the flavors of lime flesh and...</td>\n",
              "      <td>Oregon</td>\n",
              "      <td>Willamette Valley</td>\n",
              "      <td>Rainstorm 2013 Pinot Gris (Willamette Valley)</td>\n",
              "      <td>Pinot Gris</td>\n",
              "      <td>Rainstorm</td>\n",
              "    </tr>\n",
              "    <tr>\n",
              "      <th>3</th>\n",
              "      <td>US</td>\n",
              "      <td>Pineapple rind, lemon pith and orange blossom ...</td>\n",
              "      <td>Michigan</td>\n",
              "      <td>Lake Michigan Shore</td>\n",
              "      <td>St. Julian 2013 Reserve Late Harvest Riesling ...</td>\n",
              "      <td>Riesling</td>\n",
              "      <td>St. Julian</td>\n",
              "    </tr>\n",
              "    <tr>\n",
              "      <th>4</th>\n",
              "      <td>US</td>\n",
              "      <td>Much like the regular bottling from 2012, this...</td>\n",
              "      <td>Oregon</td>\n",
              "      <td>Willamette Valley</td>\n",
              "      <td>Sweet Cheeks 2012 Vintner's Reserve Wild Child...</td>\n",
              "      <td>Pinot Noir</td>\n",
              "      <td>Sweet Cheeks</td>\n",
              "    </tr>\n",
              "    <tr>\n",
              "      <th>5</th>\n",
              "      <td>Spain</td>\n",
              "      <td>Blackberry and raspberry aromas show a typical...</td>\n",
              "      <td>Northern Spain</td>\n",
              "      <td>Navarra</td>\n",
              "      <td>Tandem 2011 Ars In Vitro Tempranillo-Merlot (N...</td>\n",
              "      <td>Tempranillo-Merlot</td>\n",
              "      <td>Tandem</td>\n",
              "    </tr>\n",
              "    <tr>\n",
              "      <th>6</th>\n",
              "      <td>Italy</td>\n",
              "      <td>Here's a bright, informal red that opens with ...</td>\n",
              "      <td>Sicily &amp; Sardinia</td>\n",
              "      <td>Vittoria</td>\n",
              "      <td>Terre di Giurfo 2013 Belsito Frappato (Vittoria)</td>\n",
              "      <td>Frappato</td>\n",
              "      <td>Terre di Giurfo</td>\n",
              "    </tr>\n",
              "    <tr>\n",
              "      <th>...</th>\n",
              "      <td>...</td>\n",
              "      <td>...</td>\n",
              "      <td>...</td>\n",
              "      <td>...</td>\n",
              "      <td>...</td>\n",
              "      <td>...</td>\n",
              "      <td>...</td>\n",
              "    </tr>\n",
              "    <tr>\n",
              "      <th>129965</th>\n",
              "      <td>France</td>\n",
              "      <td>While it's rich, this beautiful dry wine also ...</td>\n",
              "      <td>Alsace</td>\n",
              "      <td>Alsace</td>\n",
              "      <td>Domaine Rieflé-Landmann 2013 Seppi Landmann Va...</td>\n",
              "      <td>Pinot Gris</td>\n",
              "      <td>Domaine Rieflé-Landmann</td>\n",
              "    </tr>\n",
              "    <tr>\n",
              "      <th>129967</th>\n",
              "      <td>US</td>\n",
              "      <td>Citation is given as much as a decade of bottl...</td>\n",
              "      <td>Oregon</td>\n",
              "      <td>Oregon</td>\n",
              "      <td>Citation 2004 Pinot Noir (Oregon)</td>\n",
              "      <td>Pinot Noir</td>\n",
              "      <td>Citation</td>\n",
              "    </tr>\n",
              "    <tr>\n",
              "      <th>129968</th>\n",
              "      <td>France</td>\n",
              "      <td>Well-drained gravel soil gives this wine its c...</td>\n",
              "      <td>Alsace</td>\n",
              "      <td>Alsace</td>\n",
              "      <td>Domaine Gresser 2013 Kritt Gewurztraminer (Als...</td>\n",
              "      <td>Gewürztraminer</td>\n",
              "      <td>Domaine Gresser</td>\n",
              "    </tr>\n",
              "    <tr>\n",
              "      <th>129969</th>\n",
              "      <td>France</td>\n",
              "      <td>A dry style of Pinot Gris, this is crisp with ...</td>\n",
              "      <td>Alsace</td>\n",
              "      <td>Alsace</td>\n",
              "      <td>Domaine Marcel Deiss 2012 Pinot Gris (Alsace)</td>\n",
              "      <td>Pinot Gris</td>\n",
              "      <td>Domaine Marcel Deiss</td>\n",
              "    </tr>\n",
              "    <tr>\n",
              "      <th>129970</th>\n",
              "      <td>France</td>\n",
              "      <td>Big, rich and off-dry, this is powered by inte...</td>\n",
              "      <td>Alsace</td>\n",
              "      <td>Alsace</td>\n",
              "      <td>Domaine Schoffit 2012 Lieu-dit Harth Cuvée Car...</td>\n",
              "      <td>Gewürztraminer</td>\n",
              "      <td>Domaine Schoffit</td>\n",
              "    </tr>\n",
              "  </tbody>\n",
              "</table>\n",
              "<p>101400 rows × 7 columns</p>\n",
              "</div>"
            ],
            "text/plain": [
              "       country  ...                   winery\n",
              "2           US  ...                Rainstorm\n",
              "3           US  ...               St. Julian\n",
              "4           US  ...             Sweet Cheeks\n",
              "5        Spain  ...                   Tandem\n",
              "6        Italy  ...          Terre di Giurfo\n",
              "...        ...  ...                      ...\n",
              "129965  France  ...  Domaine Rieflé-Landmann\n",
              "129967      US  ...                 Citation\n",
              "129968  France  ...          Domaine Gresser\n",
              "129969  France  ...     Domaine Marcel Deiss\n",
              "129970  France  ...         Domaine Schoffit\n",
              "\n",
              "[101400 rows x 7 columns]"
            ]
          },
          "metadata": {
            "tags": []
          },
          "execution_count": 16
        }
      ]
    },
    {
      "cell_type": "code",
      "metadata": {
        "id": "it0qWv0RD-BT",
        "colab": {
          "base_uri": "https://localhost:8080/",
          "height": 204
        },
        "outputId": "a9f810ae-2d6a-4596-f6a9-0dd6952c60c1"
      },
      "source": [
        "#  применим к этим столбцам нашу функцию понижения текста\n",
        "for colname in df.select_dtypes(include= np.object).columns:\n",
        "    df[colname] = df[colname].map(preprocess)\n",
        "df.head()"
      ],
      "execution_count": null,
      "outputs": [
        {
          "output_type": "execute_result",
          "data": {
            "text/html": [
              "<div>\n",
              "<style scoped>\n",
              "    .dataframe tbody tr th:only-of-type {\n",
              "        vertical-align: middle;\n",
              "    }\n",
              "\n",
              "    .dataframe tbody tr th {\n",
              "        vertical-align: top;\n",
              "    }\n",
              "\n",
              "    .dataframe thead th {\n",
              "        text-align: right;\n",
              "    }\n",
              "</style>\n",
              "<table border=\"1\" class=\"dataframe\">\n",
              "  <thead>\n",
              "    <tr style=\"text-align: right;\">\n",
              "      <th></th>\n",
              "      <th>country</th>\n",
              "      <th>description</th>\n",
              "      <th>points</th>\n",
              "      <th>price</th>\n",
              "      <th>province</th>\n",
              "      <th>region_1</th>\n",
              "      <th>title</th>\n",
              "      <th>variety</th>\n",
              "      <th>winery</th>\n",
              "    </tr>\n",
              "  </thead>\n",
              "  <tbody>\n",
              "    <tr>\n",
              "      <th>2</th>\n",
              "      <td>us</td>\n",
              "      <td>tart and snappy the flavors of lime flesh and ...</td>\n",
              "      <td>87</td>\n",
              "      <td>14.0</td>\n",
              "      <td>oregon</td>\n",
              "      <td>willamette valley</td>\n",
              "      <td>rainstorm 2013 pinot gris willamette valley</td>\n",
              "      <td>pinot gris</td>\n",
              "      <td>rainstorm</td>\n",
              "    </tr>\n",
              "    <tr>\n",
              "      <th>3</th>\n",
              "      <td>us</td>\n",
              "      <td>pineapple rind lemon pith and orange blossom s...</td>\n",
              "      <td>87</td>\n",
              "      <td>13.0</td>\n",
              "      <td>michigan</td>\n",
              "      <td>lake michigan shore</td>\n",
              "      <td>st julian 2013 reserve late harvest riesling l...</td>\n",
              "      <td>riesling</td>\n",
              "      <td>st julian</td>\n",
              "    </tr>\n",
              "    <tr>\n",
              "      <th>4</th>\n",
              "      <td>us</td>\n",
              "      <td>much like the regular bottling from 2012 this ...</td>\n",
              "      <td>87</td>\n",
              "      <td>65.0</td>\n",
              "      <td>oregon</td>\n",
              "      <td>willamette valley</td>\n",
              "      <td>sweet cheeks 2012 vintner s reserve wild child...</td>\n",
              "      <td>pinot noir</td>\n",
              "      <td>sweet cheeks</td>\n",
              "    </tr>\n",
              "    <tr>\n",
              "      <th>5</th>\n",
              "      <td>spain</td>\n",
              "      <td>blackberry and raspberry aromas show a typical...</td>\n",
              "      <td>87</td>\n",
              "      <td>15.0</td>\n",
              "      <td>northern spain</td>\n",
              "      <td>navarra</td>\n",
              "      <td>tandem 2011 ars in vitro tempranillo merlot na...</td>\n",
              "      <td>tempranillo merlot</td>\n",
              "      <td>tandem</td>\n",
              "    </tr>\n",
              "    <tr>\n",
              "      <th>6</th>\n",
              "      <td>italy</td>\n",
              "      <td>here s a bright informal red that opens with a...</td>\n",
              "      <td>87</td>\n",
              "      <td>16.0</td>\n",
              "      <td>sicily sardinia</td>\n",
              "      <td>vittoria</td>\n",
              "      <td>terre di giurfo 2013 belsito frappato vittoria</td>\n",
              "      <td>frappato</td>\n",
              "      <td>terre di giurfo</td>\n",
              "    </tr>\n",
              "  </tbody>\n",
              "</table>\n",
              "</div>"
            ],
            "text/plain": [
              "  country  ...           winery\n",
              "2      us  ...        rainstorm\n",
              "3      us  ...        st julian\n",
              "4      us  ...     sweet cheeks\n",
              "5   spain  ...           tandem\n",
              "6   italy  ...  terre di giurfo\n",
              "\n",
              "[5 rows x 9 columns]"
            ]
          },
          "metadata": {
            "tags": []
          },
          "execution_count": 17
        }
      ]
    },
    {
      "cell_type": "markdown",
      "metadata": {
        "id": "bs-l6heUEFgi"
      },
      "source": [
        "Что можно сделать с текстом? Преобразовать его в матрицу tfidf, которая каждому слову в тексте выставит его меру tfidf:\n",
        "\n",
        "Каждому тексту (набору слов) ставит в соответствие вектор (набор цифр, по одной для каждого слова): text -> vector $v$ from $R^N$ where $N$ is a vocabulary size.\n",
        "\n",
        "$TF-IDF(token, document) = TF(token, document) * IDF(token, document)$\n",
        "\n",
        "$TF$ Частотность термина - кол-во встречаний в выбранном документе (в нашем случае описании):\n",
        "\n",
        "$TF(token, document) = \\frac{n_{token}}{\\sum_{k}n_k}.$\n",
        "\n",
        "$IDF$ обратная частота - логарифм от (количества документов) / (кол-во документов, где появлялось слово)\n",
        "\n",
        "$IDF(token, all\\_documents) = \\log\\frac{Total\\ number\\ of\\ documents}{number\\ of\\ documents\\ where\\ token\\ appeared}.$"
      ]
    },
    {
      "cell_type": "markdown",
      "metadata": {
        "id": "wLIzSn_NEndj"
      },
      "source": [
        "![image.png](data:image/png;base64,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)"
      ]
    },
    {
      "cell_type": "markdown",
      "metadata": {
        "id": "NeGTTMcxEqeQ"
      },
      "source": [
        "Для оперативности вычислений перемешаем обзоры и возьмем 10 тысяч из них:"
      ]
    },
    {
      "cell_type": "code",
      "metadata": {
        "id": "0zq_RR5bEAob"
      },
      "source": [
        "df = df.sample(frac=1).reset_index(drop=True)\n",
        "df = df[:10000]"
      ],
      "execution_count": null,
      "outputs": []
    },
    {
      "cell_type": "code",
      "metadata": {
        "id": "4Gv2FyTtnVng",
        "colab": {
          "base_uri": "https://localhost:8080/",
          "height": 204
        },
        "outputId": "6728dd09-ae5b-4ef5-cac8-4c6efac95c3d"
      },
      "source": [
        "df.head()"
      ],
      "execution_count": null,
      "outputs": [
        {
          "output_type": "execute_result",
          "data": {
            "text/html": [
              "<div>\n",
              "<style scoped>\n",
              "    .dataframe tbody tr th:only-of-type {\n",
              "        vertical-align: middle;\n",
              "    }\n",
              "\n",
              "    .dataframe tbody tr th {\n",
              "        vertical-align: top;\n",
              "    }\n",
              "\n",
              "    .dataframe thead th {\n",
              "        text-align: right;\n",
              "    }\n",
              "</style>\n",
              "<table border=\"1\" class=\"dataframe\">\n",
              "  <thead>\n",
              "    <tr style=\"text-align: right;\">\n",
              "      <th></th>\n",
              "      <th>country</th>\n",
              "      <th>description</th>\n",
              "      <th>points</th>\n",
              "      <th>price</th>\n",
              "      <th>province</th>\n",
              "      <th>region_1</th>\n",
              "      <th>title</th>\n",
              "      <th>variety</th>\n",
              "      <th>winery</th>\n",
              "    </tr>\n",
              "  </thead>\n",
              "  <tbody>\n",
              "    <tr>\n",
              "      <th>0</th>\n",
              "      <td>italy</td>\n",
              "      <td>this dark inky expression of sagrantino offers...</td>\n",
              "      <td>88</td>\n",
              "      <td>60.0</td>\n",
              "      <td>central italy</td>\n",
              "      <td>montefalco sagrantino</td>\n",
              "      <td>còlpetrone 2006 montefalco sagrantino</td>\n",
              "      <td>sagrantino</td>\n",
              "      <td>còlpetrone</td>\n",
              "    </tr>\n",
              "    <tr>\n",
              "      <th>1</th>\n",
              "      <td>italy</td>\n",
              "      <td>angimbé a 70 30 blend of insolia and chardonna...</td>\n",
              "      <td>85</td>\n",
              "      <td>14.0</td>\n",
              "      <td>sicily sardinia</td>\n",
              "      <td>sicilia</td>\n",
              "      <td>cusumano 2007 angimbé white sicilia</td>\n",
              "      <td>white blend</td>\n",
              "      <td>cusumano</td>\n",
              "    </tr>\n",
              "    <tr>\n",
              "      <th>2</th>\n",
              "      <td>spain</td>\n",
              "      <td>on the brink of excellence with a creamy more ...</td>\n",
              "      <td>88</td>\n",
              "      <td>24.0</td>\n",
              "      <td>galicia</td>\n",
              "      <td>rías baixas</td>\n",
              "      <td>terras gauda 2007 o rosal albariño rías baixas</td>\n",
              "      <td>albariño</td>\n",
              "      <td>terras gauda</td>\n",
              "    </tr>\n",
              "    <tr>\n",
              "      <th>3</th>\n",
              "      <td>france</td>\n",
              "      <td>there is lovely richness here with fresh acidi...</td>\n",
              "      <td>88</td>\n",
              "      <td>46.0</td>\n",
              "      <td>bordeaux</td>\n",
              "      <td>pomerol</td>\n",
              "      <td>château la bassonnerie 2007 pomerol</td>\n",
              "      <td>bordeaux style red blend</td>\n",
              "      <td>château la bassonnerie</td>\n",
              "    </tr>\n",
              "    <tr>\n",
              "      <th>4</th>\n",
              "      <td>us</td>\n",
              "      <td>kind of bizarre because there are baked custar...</td>\n",
              "      <td>82</td>\n",
              "      <td>18.0</td>\n",
              "      <td>california</td>\n",
              "      <td>el dorado</td>\n",
              "      <td>lava cap 2000 sémillon el dorado</td>\n",
              "      <td>sémillon</td>\n",
              "      <td>lava cap</td>\n",
              "    </tr>\n",
              "  </tbody>\n",
              "</table>\n",
              "</div>"
            ],
            "text/plain": [
              "  country  ...                  winery\n",
              "0   italy  ...              còlpetrone\n",
              "1   italy  ...                cusumano\n",
              "2   spain  ...            terras gauda\n",
              "3  france  ...  château la bassonnerie\n",
              "4      us  ...                lava cap\n",
              "\n",
              "[5 rows x 9 columns]"
            ]
          },
          "metadata": {
            "tags": []
          },
          "execution_count": 19
        }
      ]
    },
    {
      "cell_type": "code",
      "metadata": {
        "id": "FFRd38r2FsR-",
        "colab": {
          "base_uri": "https://localhost:8080/"
        },
        "outputId": "1226aaab-6bec-48a4-af24-dcabf19923ff"
      },
      "source": [
        "# импортируем tfidf преобразование\n",
        "from sklearn.feature_extraction.text import TfidfVectorizer\n",
        "\n",
        "# инициализировали алгоритм\n",
        "vectorizer = TfidfVectorizer()\n",
        "# преобразовали его в матрицу tfidf как в примере на картинке выше\n",
        "X_np = vectorizer.fit_transform(df['description'].values)\n",
        "# отобразили его размерность\n",
        "print(X_np.shape)"
      ],
      "execution_count": null,
      "outputs": [
        {
          "output_type": "stream",
          "text": [
            "(10000, 11476)\n"
          ],
          "name": "stdout"
        }
      ]
    },
    {
      "cell_type": "code",
      "metadata": {
        "id": "PkOOnRdDFvh8"
      },
      "source": [
        "# т.к. сам тип матрицы из scipy - преобразуем в tfidf\n",
        "X_np = X_np.toarray()"
      ],
      "execution_count": null,
      "outputs": []
    },
    {
      "cell_type": "markdown",
      "metadata": {
        "id": "FvyxcRJaF0VS"
      },
      "source": [
        "Мы получили преобразованные описания в виде набор из 15263 столбцов, которые отвечают уникальным словам в этом описании. Сами слова можно найти через vectorizer.get_feature_names()"
      ]
    },
    {
      "cell_type": "code",
      "metadata": {
        "id": "4cP0b37bFyJM",
        "colab": {
          "base_uri": "https://localhost:8080/"
        },
        "outputId": "8ea84b3d-0b96-4c6d-8a08-30d5b2fe34b5"
      },
      "source": [
        "# отобразим произвольные слова\n",
        "print(vectorizer.get_feature_names()[3000:3010])"
      ],
      "execution_count": null,
      "outputs": [
        {
          "output_type": "stream",
          "text": [
            "['detail', 'detailed', 'details', 'detect', 'detectable', 'determination', 'determined', 'detonates', 'detours', 'detract']\n"
          ],
          "name": "stdout"
        }
      ]
    },
    {
      "cell_type": "markdown",
      "metadata": {
        "id": "CzI5jGrZF-KF"
      },
      "source": [
        "## Для начала решим задачу задачу без текстовых описаний"
      ]
    },
    {
      "cell_type": "markdown",
      "metadata": {
        "id": "ldXfQBFvF_y-"
      },
      "source": [
        "## Классификация"
      ]
    },
    {
      "cell_type": "markdown",
      "metadata": {
        "id": "eLC_nZqWHGLX"
      },
      "source": [
        "### Подготовка данных"
      ]
    },
    {
      "cell_type": "markdown",
      "metadata": {
        "id": "IMBLoO_ZGBdl"
      },
      "source": [
        "Давайте для начала будем решать задачу кластеризации. Разделим наши оценки вина от 1 до 5, где 5 - максимальная, 1 - минимальная (исходя из колонки points)"
      ]
    },
    {
      "cell_type": "code",
      "metadata": {
        "id": "R0HO1BjFF5Kr",
        "colab": {
          "base_uri": "https://localhost:8080/",
          "height": 282
        },
        "outputId": "f16533a6-3100-498a-f0a0-5503ac96c60f"
      },
      "source": [
        "df['points'].hist()"
      ],
      "execution_count": null,
      "outputs": [
        {
          "output_type": "execute_result",
          "data": {
            "text/plain": [
              "<matplotlib.axes._subplots.AxesSubplot at 0x7f5c404233c8>"
            ]
          },
          "metadata": {
            "tags": []
          },
          "execution_count": 49
        },
        {
          "output_type": "display_data",
          "data": {
            "image/png": "[encoded data removed]",
            "text/plain": [
              "<Figure size 432x288 with 1 Axes>"
            ]
          },
          "metadata": {
            "tags": [],
            "needs_background": "light"
          }
        }
      ]
    },
    {
      "cell_type": "markdown",
      "metadata": {
        "id": "5uiEHgMmGEYD"
      },
      "source": [
        "С учетом этого распределения оценки будут следующие\n",
        "* 1: 80-85 - очень плохое вино\n",
        "* 2: 85-88 - плохое вино\n",
        "* 3: 88-92 - среднестатистическое вино\n",
        "* 4: 92-95 - хорошее вино\n",
        "* 5: 95-100 - очень хорошее"
      ]
    },
    {
      "cell_type": "code",
      "metadata": {
        "id": "t_Jv-6I1GCjz",
        "colab": {
          "base_uri": "https://localhost:8080/",
          "height": 359
        },
        "outputId": "222719ad-335f-48ad-dd6d-15492226dbee"
      },
      "source": [
        "def make_class(point):\n",
        "    if point < 85:\n",
        "        return 1\n",
        "    elif point >= 85 and point < 88:\n",
        "        return 2\n",
        "    elif point >= 88 and point < 92:\n",
        "        return 3\n",
        "    elif point >= 92 and point < 95:\n",
        "        return 4\n",
        "    elif point >= 95:\n",
        "        return 5\n",
        "\n",
        "df['points'] = df['points'].apply(make_class)\n",
        "df.head(10)"
      ],
      "execution_count": null,
      "outputs": [
        {
          "output_type": "execute_result",
          "data": {
            "text/html": [
              "<div>\n",
              "<style scoped>\n",
              "    .dataframe tbody tr th:only-of-type {\n",
              "        vertical-align: middle;\n",
              "    }\n",
              "\n",
              "    .dataframe tbody tr th {\n",
              "        vertical-align: top;\n",
              "    }\n",
              "\n",
              "    .dataframe thead th {\n",
              "        text-align: right;\n",
              "    }\n",
              "</style>\n",
              "<table border=\"1\" class=\"dataframe\">\n",
              "  <thead>\n",
              "    <tr style=\"text-align: right;\">\n",
              "      <th></th>\n",
              "      <th>country</th>\n",
              "      <th>description</th>\n",
              "      <th>points</th>\n",
              "      <th>price</th>\n",
              "      <th>province</th>\n",
              "      <th>region_1</th>\n",
              "      <th>title</th>\n",
              "      <th>variety</th>\n",
              "      <th>winery</th>\n",
              "    </tr>\n",
              "  </thead>\n",
              "  <tbody>\n",
              "    <tr>\n",
              "      <th>0</th>\n",
              "      <td>italy</td>\n",
              "      <td>nebbiolo from two vineyard sites le coste and ...</td>\n",
              "      <td>3</td>\n",
              "      <td>82.0</td>\n",
              "      <td>piedmont</td>\n",
              "      <td>barolo</td>\n",
              "      <td>parusso 2008 le coste mosconi barolo</td>\n",
              "      <td>nebbiolo</td>\n",
              "      <td>parusso</td>\n",
              "    </tr>\n",
              "    <tr>\n",
              "      <th>1</th>\n",
              "      <td>us</td>\n",
              "      <td>this inaugural release is 88 cabernet sauvigno...</td>\n",
              "      <td>4</td>\n",
              "      <td>87.0</td>\n",
              "      <td>california</td>\n",
              "      <td>napa valley</td>\n",
              "      <td>les belles collines 2009 les sommets red napa ...</td>\n",
              "      <td>bordeaux style red blend</td>\n",
              "      <td>les belles collines</td>\n",
              "    </tr>\n",
              "    <tr>\n",
              "      <th>2</th>\n",
              "      <td>australia</td>\n",
              "      <td>faintly nutty notes of toasted grain accent th...</td>\n",
              "      <td>2</td>\n",
              "      <td>10.0</td>\n",
              "      <td>australia other</td>\n",
              "      <td>south eastern australia</td>\n",
              "      <td>kalbarri 2010 bin select 462 chardonnay south ...</td>\n",
              "      <td>chardonnay</td>\n",
              "      <td>kalbarri</td>\n",
              "    </tr>\n",
              "    <tr>\n",
              "      <th>3</th>\n",
              "      <td>italy</td>\n",
              "      <td>this light and refreshing sauvignon from north...</td>\n",
              "      <td>2</td>\n",
              "      <td>25.0</td>\n",
              "      <td>northeastern italy</td>\n",
              "      <td>collio</td>\n",
              "      <td>primosic 2008 gmajne sauvignon collio</td>\n",
              "      <td>sauvignon</td>\n",
              "      <td>primosic</td>\n",
              "    </tr>\n",
              "    <tr>\n",
              "      <th>4</th>\n",
              "      <td>us</td>\n",
              "      <td>an exuberantly ripe fruity cabernet brimming w...</td>\n",
              "      <td>2</td>\n",
              "      <td>25.0</td>\n",
              "      <td>california</td>\n",
              "      <td>lodi</td>\n",
              "      <td>mettler family vineyards 2006 estate cabernet ...</td>\n",
              "      <td>cabernet sauvignon</td>\n",
              "      <td>mettler family vineyards</td>\n",
              "    </tr>\n",
              "    <tr>\n",
              "      <th>5</th>\n",
              "      <td>france</td>\n",
              "      <td>while the wine is very sweet the sweetness doe...</td>\n",
              "      <td>4</td>\n",
              "      <td>78.0</td>\n",
              "      <td>alsace</td>\n",
              "      <td>alsace</td>\n",
              "      <td>domaine rieflé landmann 2012 seppi landmann zi...</td>\n",
              "      <td>gewürztraminer</td>\n",
              "      <td>domaine rieflé landmann</td>\n",
              "    </tr>\n",
              "    <tr>\n",
              "      <th>6</th>\n",
              "      <td>italy</td>\n",
              "      <td>aromas suggesting yellow spring flower beeswax...</td>\n",
              "      <td>3</td>\n",
              "      <td>16.0</td>\n",
              "      <td>northeastern italy</td>\n",
              "      <td>collio</td>\n",
              "      <td>gradis ciutta 2015 chardonnay collio</td>\n",
              "      <td>chardonnay</td>\n",
              "      <td>gradis ciutta</td>\n",
              "    </tr>\n",
              "    <tr>\n",
              "      <th>7</th>\n",
              "      <td>us</td>\n",
              "      <td>a bright fluffy white this moderately bodied o...</td>\n",
              "      <td>3</td>\n",
              "      <td>22.0</td>\n",
              "      <td>california</td>\n",
              "      <td>russian river valley</td>\n",
              "      <td>kenwood 2015 six ridges chardonnay russian riv...</td>\n",
              "      <td>chardonnay</td>\n",
              "      <td>kenwood</td>\n",
              "    </tr>\n",
              "    <tr>\n",
              "      <th>8</th>\n",
              "      <td>italy</td>\n",
              "      <td>here s a luminous and bright sweet sparkling w...</td>\n",
              "      <td>1</td>\n",
              "      <td>15.0</td>\n",
              "      <td>veneto</td>\n",
              "      <td>veneto</td>\n",
              "      <td>mionetto nv moscato dolce moscato veneto</td>\n",
              "      <td>moscato</td>\n",
              "      <td>mionetto</td>\n",
              "    </tr>\n",
              "    <tr>\n",
              "      <th>9</th>\n",
              "      <td>us</td>\n",
              "      <td>the smell of tart green apple frying in butter...</td>\n",
              "      <td>2</td>\n",
              "      <td>28.0</td>\n",
              "      <td>california</td>\n",
              "      <td>santa lucia highlands</td>\n",
              "      <td>morgan 2012 highland chardonnay santa lucia hi...</td>\n",
              "      <td>chardonnay</td>\n",
              "      <td>morgan</td>\n",
              "    </tr>\n",
              "  </tbody>\n",
              "</table>\n",
              "</div>"
            ],
            "text/plain": [
              "     country  ...                    winery\n",
              "0      italy  ...                   parusso\n",
              "1         us  ...       les belles collines\n",
              "2  australia  ...                  kalbarri\n",
              "3      italy  ...                  primosic\n",
              "4         us  ...  mettler family vineyards\n",
              "5     france  ...   domaine rieflé landmann\n",
              "6      italy  ...             gradis ciutta\n",
              "7         us  ...                   kenwood\n",
              "8      italy  ...                  mionetto\n",
              "9         us  ...                    morgan\n",
              "\n",
              "[10 rows x 9 columns]"
            ]
          },
          "metadata": {
            "tags": []
          },
          "execution_count": 50
        }
      ]
    },
    {
      "cell_type": "code",
      "metadata": {
        "id": "2WNcI0DMGGkz",
        "colab": {
          "base_uri": "https://localhost:8080/"
        },
        "outputId": "4b7dc485-866e-490a-8de2-cb75c6ab06d0"
      },
      "source": [
        "df['points'].value_counts()"
      ],
      "execution_count": null,
      "outputs": [
        {
          "output_type": "execute_result",
          "data": {
            "text/plain": [
              "3    4321\n",
              "2    2990\n",
              "4    1542\n",
              "1     950\n",
              "5     197\n",
              "Name: points, dtype: int64"
            ]
          },
          "metadata": {
            "tags": []
          },
          "execution_count": 51
        }
      ]
    },
    {
      "cell_type": "code",
      "metadata": {
        "id": "pXEB0G5xGJdj",
        "colab": {
          "base_uri": "https://localhost:8080/",
          "height": 204
        },
        "outputId": "5f861a39-62d6-4f04-f19b-abef144bb2f2"
      },
      "source": [
        "# Подключаем класс для предобработки данных\n",
        "from sklearn import preprocessing\n",
        "\n",
        "# Напишем функцию, которая принимает на вход DataFrame, кодирует числовыми значениями категориальные признаки\n",
        "# и возвращает обновленный DataFrame и сами кодировщики.\n",
        "def number_encode_features(init_df):\n",
        "    result = init_df.copy() # копируем нашу исходную таблицу\n",
        "    encoders = {}\n",
        "    for column in result.columns:\n",
        "        if result.dtypes[column] == np.object: # np.object -- строковый тип / если тип столбца - строка, то нужно его закодировать\n",
        "            encoders[column] = preprocessing.LabelEncoder() # для колонки column создаем кодировщик\n",
        "            result[column] = encoders[column].fit_transform(result[column]) # применяем кодировщик к столбцу и перезаписываем столбец\n",
        "    return result, encoders\n",
        "\n",
        "# используем все, кроме описания\n",
        "encoded_data, encoders = number_encode_features(df.drop(columns='description')) # Теперь encoded data содержит закодированные кат. признаки \n",
        "encoded_data.head()"
      ],
      "execution_count": null,
      "outputs": [
        {
          "output_type": "execute_result",
          "data": {
            "text/html": [
              "<div>\n",
              "<style scoped>\n",
              "    .dataframe tbody tr th:only-of-type {\n",
              "        vertical-align: middle;\n",
              "    }\n",
              "\n",
              "    .dataframe tbody tr th {\n",
              "        vertical-align: top;\n",
              "    }\n",
              "\n",
              "    .dataframe thead th {\n",
              "        text-align: right;\n",
              "    }\n",
              "</style>\n",
              "<table border=\"1\" class=\"dataframe\">\n",
              "  <thead>\n",
              "    <tr style=\"text-align: right;\">\n",
              "      <th></th>\n",
              "      <th>country</th>\n",
              "      <th>points</th>\n",
              "      <th>price</th>\n",
              "      <th>province</th>\n",
              "      <th>region_1</th>\n",
              "      <th>title</th>\n",
              "      <th>variety</th>\n",
              "      <th>winery</th>\n",
              "    </tr>\n",
              "  </thead>\n",
              "  <tbody>\n",
              "    <tr>\n",
              "      <th>0</th>\n",
              "      <td>4</td>\n",
              "      <td>3</td>\n",
              "      <td>82.0</td>\n",
              "      <td>40</td>\n",
              "      <td>47</td>\n",
              "      <td>6943</td>\n",
              "      <td>156</td>\n",
              "      <td>3709</td>\n",
              "    </tr>\n",
              "    <tr>\n",
              "      <th>1</th>\n",
              "      <td>6</td>\n",
              "      <td>4</td>\n",
              "      <td>87.0</td>\n",
              "      <td>8</td>\n",
              "      <td>461</td>\n",
              "      <td>5594</td>\n",
              "      <td>14</td>\n",
              "      <td>3042</td>\n",
              "    </tr>\n",
              "    <tr>\n",
              "      <th>2</th>\n",
              "      <td>1</td>\n",
              "      <td>2</td>\n",
              "      <td>10.0</td>\n",
              "      <td>3</td>\n",
              "      <td>639</td>\n",
              "      <td>5061</td>\n",
              "      <td>44</td>\n",
              "      <td>2795</td>\n",
              "    </tr>\n",
              "    <tr>\n",
              "      <th>3</th>\n",
              "      <td>4</td>\n",
              "      <td>2</td>\n",
              "      <td>25.0</td>\n",
              "      <td>32</td>\n",
              "      <td>173</td>\n",
              "      <td>7362</td>\n",
              "      <td>214</td>\n",
              "      <td>3925</td>\n",
              "    </tr>\n",
              "    <tr>\n",
              "      <th>4</th>\n",
              "      <td>6</td>\n",
              "      <td>2</td>\n",
              "      <td>25.0</td>\n",
              "      <td>8</td>\n",
              "      <td>361</td>\n",
              "      <td>6332</td>\n",
              "      <td>21</td>\n",
              "      <td>3398</td>\n",
              "    </tr>\n",
              "  </tbody>\n",
              "</table>\n",
              "</div>"
            ],
            "text/plain": [
              "   country  points  price  province  region_1  title  variety  winery\n",
              "0        4       3   82.0        40        47   6943      156    3709\n",
              "1        6       4   87.0         8       461   5594       14    3042\n",
              "2        1       2   10.0         3       639   5061       44    2795\n",
              "3        4       2   25.0        32       173   7362      214    3925\n",
              "4        6       2   25.0         8       361   6332       21    3398"
            ]
          },
          "metadata": {
            "tags": []
          },
          "execution_count": 52
        }
      ]
    },
    {
      "cell_type": "code",
      "metadata": {
        "id": "-JQIp7ATGnDq",
        "colab": {
          "base_uri": "https://localhost:8080/",
          "height": 592
        },
        "outputId": "514d5ac0-f23d-4887-bf01-31971731d665"
      },
      "source": [
        "plt.subplots(figsize=(12, 10))\n",
        "sns.heatmap(encoded_data.corr(), square = True, annot=True)\n",
        "plt.show()"
      ],
      "execution_count": null,
      "outputs": [
        {
          "output_type": "display_data",
          "data": {
            "image/png": "[encoded data removed]",
            "text/plain": [
              "<Figure size 864x720 with 2 Axes>"
            ]
          },
          "metadata": {
            "tags": [],
            "needs_background": "light"
          }
        }
      ]
    },
    {
      "cell_type": "code",
      "metadata": {
        "id": "G2mGB_wPGoNB",
        "colab": {
          "base_uri": "https://localhost:8080/",
          "height": 204
        },
        "outputId": "fee1c195-b3f3-4299-dc84-62d48296713a"
      },
      "source": [
        "encoded_data.drop(columns=['winery'], inplace=True)\n",
        "encoded_data.head()"
      ],
      "execution_count": null,
      "outputs": [
        {
          "output_type": "execute_result",
          "data": {
            "text/html": [
              "<div>\n",
              "<style scoped>\n",
              "    .dataframe tbody tr th:only-of-type {\n",
              "        vertical-align: middle;\n",
              "    }\n",
              "\n",
              "    .dataframe tbody tr th {\n",
              "        vertical-align: top;\n",
              "    }\n",
              "\n",
              "    .dataframe thead th {\n",
              "        text-align: right;\n",
              "    }\n",
              "</style>\n",
              "<table border=\"1\" class=\"dataframe\">\n",
              "  <thead>\n",
              "    <tr style=\"text-align: right;\">\n",
              "      <th></th>\n",
              "      <th>country</th>\n",
              "      <th>points</th>\n",
              "      <th>price</th>\n",
              "      <th>province</th>\n",
              "      <th>region_1</th>\n",
              "      <th>title</th>\n",
              "      <th>variety</th>\n",
              "    </tr>\n",
              "  </thead>\n",
              "  <tbody>\n",
              "    <tr>\n",
              "      <th>0</th>\n",
              "      <td>4</td>\n",
              "      <td>3</td>\n",
              "      <td>82.0</td>\n",
              "      <td>40</td>\n",
              "      <td>47</td>\n",
              "      <td>6943</td>\n",
              "      <td>156</td>\n",
              "    </tr>\n",
              "    <tr>\n",
              "      <th>1</th>\n",
              "      <td>6</td>\n",
              "      <td>4</td>\n",
              "      <td>87.0</td>\n",
              "      <td>8</td>\n",
              "      <td>461</td>\n",
              "      <td>5594</td>\n",
              "      <td>14</td>\n",
              "    </tr>\n",
              "    <tr>\n",
              "      <th>2</th>\n",
              "      <td>1</td>\n",
              "      <td>2</td>\n",
              "      <td>10.0</td>\n",
              "      <td>3</td>\n",
              "      <td>639</td>\n",
              "      <td>5061</td>\n",
              "      <td>44</td>\n",
              "    </tr>\n",
              "    <tr>\n",
              "      <th>3</th>\n",
              "      <td>4</td>\n",
              "      <td>2</td>\n",
              "      <td>25.0</td>\n",
              "      <td>32</td>\n",
              "      <td>173</td>\n",
              "      <td>7362</td>\n",
              "      <td>214</td>\n",
              "    </tr>\n",
              "    <tr>\n",
              "      <th>4</th>\n",
              "      <td>6</td>\n",
              "      <td>2</td>\n",
              "      <td>25.0</td>\n",
              "      <td>8</td>\n",
              "      <td>361</td>\n",
              "      <td>6332</td>\n",
              "      <td>21</td>\n",
              "    </tr>\n",
              "  </tbody>\n",
              "</table>\n",
              "</div>"
            ],
            "text/plain": [
              "   country  points  price  province  region_1  title  variety\n",
              "0        4       3   82.0        40        47   6943      156\n",
              "1        6       4   87.0         8       461   5594       14\n",
              "2        1       2   10.0         3       639   5061       44\n",
              "3        4       2   25.0        32       173   7362      214\n",
              "4        6       2   25.0         8       361   6332       21"
            ]
          },
          "metadata": {
            "tags": []
          },
          "execution_count": 54
        }
      ]
    },
    {
      "cell_type": "code",
      "metadata": {
        "id": "6bGM-hdHGq9B"
      },
      "source": [
        "# выделим целевую переменную - качество\n",
        "y = np.array(encoded_data['points'])"
      ],
      "execution_count": null,
      "outputs": []
    },
    {
      "cell_type": "code",
      "metadata": {
        "id": "Z-Bh1bIPGs2B",
        "colab": {
          "base_uri": "https://localhost:8080/"
        },
        "outputId": "dd4e8aaf-1942-41e7-c2ca-8687a2593395"
      },
      "source": [
        "y"
      ],
      "execution_count": null,
      "outputs": [
        {
          "output_type": "execute_result",
          "data": {
            "text/plain": [
              "array([3, 4, 2, ..., 3, 1, 3])"
            ]
          },
          "metadata": {
            "tags": []
          },
          "execution_count": 56
        }
      ]
    },
    {
      "cell_type": "code",
      "metadata": {
        "id": "YS9DQ5zuGtKx",
        "colab": {
          "base_uri": "https://localhost:8080/"
        },
        "outputId": "ebb78481-e9c3-4322-f58a-c1fde07f5608"
      },
      "source": [
        "X = np.array(encoded_data.drop(columns=['points']), float)\n",
        "X"
      ],
      "execution_count": null,
      "outputs": [
        {
          "output_type": "execute_result",
          "data": {
            "text/plain": [
              "array([[4.000e+00, 8.200e+01, 4.000e+01, 4.700e+01, 6.943e+03, 1.560e+02],\n",
              "       [6.000e+00, 8.700e+01, 8.000e+00, 4.610e+02, 5.594e+03, 1.400e+01],\n",
              "       [1.000e+00, 1.000e+01, 3.000e+00, 6.390e+02, 5.061e+03, 4.400e+01],\n",
              "       ...,\n",
              "       [6.000e+00, 6.500e+01, 8.000e+00, 4.610e+02, 9.322e+03, 1.950e+02],\n",
              "       [3.000e+00, 3.200e+01, 0.000e+00, 9.000e+00, 3.214e+03, 2.000e+02],\n",
              "       [6.000e+00, 4.500e+01, 3.700e+01, 7.610e+02, 9.695e+03, 1.850e+02]])"
            ]
          },
          "metadata": {
            "tags": []
          },
          "execution_count": 57
        }
      ]
    },
    {
      "cell_type": "code",
      "metadata": {
        "id": "ngQvVwcdHNcL"
      },
      "source": [
        "X_train = X[:int(len(X)*0.8)]\n",
        "y_train = y[:int(len(X)*0.8)]\n",
        "\n",
        "X_test = X[int(len(X)*0.8):]\n",
        "y_test = y[int(len(X)*0.8):]"
      ],
      "execution_count": null,
      "outputs": []
    },
    {
      "cell_type": "markdown",
      "metadata": {
        "id": "z5eSbUP5G-xm"
      },
      "source": [
        "### Нормализация"
      ]
    },
    {
      "cell_type": "code",
      "metadata": {
        "id": "1O0qZWmyGu2R"
      },
      "source": [
        "mean = X_train.mean(axis=0)\n",
        "std = X_train.std(axis=0)"
      ],
      "execution_count": null,
      "outputs": []
    },
    {
      "cell_type": "code",
      "metadata": {
        "id": "5qF7puNOG1GI",
        "colab": {
          "base_uri": "https://localhost:8080/"
        },
        "outputId": "cf5ab528-2069-4ead-9fa7-62a828d0399c"
      },
      "source": [
        "mean, std"
      ],
      "execution_count": null,
      "outputs": [
        {
          "output_type": "execute_result",
          "data": {
            "text/plain": [
              "(array([4.7815000e+00, 3.6714000e+01, 2.4145500e+01, 3.8454200e+02,\n",
              "        4.9609085e+03, 1.4344675e+02]),\n",
              " array([1.59295566e+00, 3.57696024e+01, 1.87346625e+01, 2.32993677e+02,\n",
              "        2.87097951e+03, 8.74678593e+01]))"
            ]
          },
          "metadata": {
            "tags": []
          },
          "execution_count": 60
        }
      ]
    },
    {
      "cell_type": "code",
      "metadata": {
        "id": "urpOxkVOG983"
      },
      "source": [
        "X_train = (X_train - mean)/std\n",
        "X_test = (X_test - mean)/std"
      ],
      "execution_count": null,
      "outputs": []
    },
    {
      "cell_type": "code",
      "metadata": {
        "id": "Dx1KH1J9HkCW",
        "colab": {
          "base_uri": "https://localhost:8080/"
        },
        "outputId": "ada8388c-b1fa-4717-a52b-4ffae9098116"
      },
      "source": [
        "print(X_train.shape, X_test.shape, y_train.shape, y_test.shape)"
      ],
      "execution_count": null,
      "outputs": [
        {
          "output_type": "stream",
          "text": [
            "(8000, 6) (2000, 6) (8000,) (2000,)\n"
          ],
          "name": "stdout"
        }
      ]
    },
    {
      "cell_type": "markdown",
      "metadata": {
        "id": "I4GKOHB9Huf7"
      },
      "source": [
        "### Алгоритмы"
      ]
    },
    {
      "cell_type": "code",
      "metadata": {
        "id": "QXtK5XyzIBoR"
      },
      "source": [
        "from sklearn.neighbors import KNeighborsClassifier\n",
        "from sklearn.linear_model import LogisticRegression\n",
        "from sklearn.svm import SVC\n",
        "from sklearn import tree\n",
        "from sklearn.ensemble import RandomForestClassifier\n",
        "from sklearn.ensemble import GradientBoostingClassifier, GradientBoostingRegressor\n",
        "\n",
        "import warnings\n",
        "warnings.filterwarnings(\"ignore\")"
      ],
      "execution_count": null,
      "outputs": []
    },
    {
      "cell_type": "markdown",
      "metadata": {
        "id": "88KY3xcJHvXb"
      },
      "source": [
        "### KNN"
      ]
    },
    {
      "cell_type": "code",
      "metadata": {
        "id": "kKSTDuPnHocu",
        "colab": {
          "base_uri": "https://localhost:8080/"
        },
        "outputId": "0e11efae-0c67-49ea-ea20-b4d544f068ce"
      },
      "source": [
        "knn = KNeighborsClassifier()\n",
        "from sklearn.model_selection import GridSearchCV\n",
        "knn_grid = {'n_neighbors': np.array(np.linspace(30, 50, 20), dtype='int')}\n",
        "gs = GridSearchCV(knn, knn_grid)\n",
        "gs.fit(X_train, y_train)\n",
        "gs.best_params_, gs.best_score_"
      ],
      "execution_count": null,
      "outputs": [
        {
          "output_type": "execute_result",
          "data": {
            "text/plain": [
              "({'n_neighbors': 48}, 0.46825)"
            ]
          },
          "metadata": {
            "tags": []
          },
          "execution_count": 64
        }
      ]
    },
    {
      "cell_type": "code",
      "metadata": {
        "id": "7YgvWjNAH_1B"
      },
      "source": [
        "# Функция отрисовки графиков\n",
        "def grid_plot(x, y, x_label, title, y_label='cross_val, accuracy'):\n",
        "    # определили размер графика\n",
        "    plt.figure(figsize=(12, 6))\n",
        "    # добавили сетку на фон\n",
        "    plt.grid(True)\n",
        "    # построили по х - число соседей, по y - точность\n",
        "    plt.plot(x, y, 'go-')\n",
        "    # добавили подписи осей и название графика\n",
        "    plt.xlabel(x_label)\n",
        "    plt.ylabel(y_label)\n",
        "    plt.title(title)"
      ],
      "execution_count": null,
      "outputs": []
    },
    {
      "cell_type": "code",
      "metadata": {
        "id": "bk32hEARIDb8",
        "colab": {
          "base_uri": "https://localhost:8080/",
          "height": 405
        },
        "outputId": "56cded99-e874-4c5b-819f-c1026ec74118"
      },
      "source": [
        "# Строим график зависимости качества от числа соседей\n",
        "# замечание: результаты обучения хранятся в атрибуте cv_results_ объекта gs\n",
        "grid_plot(knn_grid['n_neighbors'], gs.cv_results_['mean_test_score'], 'n_neighbors', 'KNeighborsClassifier')"
      ],
      "execution_count": null,
      "outputs": [
        {
          "output_type": "display_data",
          "data": {
            "image/png": "[encoded data removed]",
            "text/plain": [
              "<Figure size 864x432 with 1 Axes>"
            ]
          },
          "metadata": {
            "tags": [],
            "needs_background": "light"
          }
        }
      ]
    },
    {
      "cell_type": "code",
      "metadata": {
        "id": "RUKwOBZ0ILwX",
        "colab": {
          "base_uri": "https://localhost:8080/"
        },
        "outputId": "d4b564e1-24c6-46b1-da40-b0fccd8c80eb"
      },
      "source": [
        "knn = KNeighborsClassifier(n_neighbors=31, n_jobs=4)\n",
        "\n",
        "knn.fit(X_train, y_train)"
      ],
      "execution_count": null,
      "outputs": [
        {
          "output_type": "execute_result",
          "data": {
            "text/plain": [
              "KNeighborsClassifier(algorithm='auto', leaf_size=30, metric='minkowski',\n",
              "                     metric_params=None, n_jobs=4, n_neighbors=31, p=2,\n",
              "                     weights='uniform')"
            ]
          },
          "metadata": {
            "tags": []
          },
          "execution_count": 67
        }
      ]
    },
    {
      "cell_type": "code",
      "metadata": {
        "id": "Y_EblFG1IE5T"
      },
      "source": [
        "preds = knn.predict(X_test)"
      ],
      "execution_count": null,
      "outputs": []
    },
    {
      "cell_type": "code",
      "metadata": {
        "id": "WSMhf6LSIQhi",
        "colab": {
          "base_uri": "https://localhost:8080/"
        },
        "outputId": "0bcb288d-3cf0-497d-acdb-5e1c9101fcc5"
      },
      "source": [
        "from sklearn import metrics\n",
        "\n",
        "print(metrics.classification_report(y_test, preds))"
      ],
      "execution_count": null,
      "outputs": [
        {
          "output_type": "stream",
          "text": [
            "              precision    recall  f1-score   support\n",
            "\n",
            "           1       0.38      0.08      0.13       177\n",
            "           2       0.49      0.46      0.47       600\n",
            "           3       0.51      0.73      0.60       879\n",
            "           4       0.46      0.22      0.29       297\n",
            "           5       0.00      0.00      0.00        47\n",
            "\n",
            "    accuracy                           0.49      2000\n",
            "   macro avg       0.37      0.30      0.30      2000\n",
            "weighted avg       0.47      0.49      0.46      2000\n",
            "\n"
          ],
          "name": "stdout"
        }
      ]
    },
    {
      "cell_type": "markdown",
      "metadata": {
        "id": "Jf_AWL8-g-Xh"
      },
      "source": [
        "## SVM"
      ]
    },
    {
      "cell_type": "markdown",
      "metadata": {
        "id": "x9m0rNdWhrVk"
      },
      "source": [
        "Про параметр C:\n",
        "\n",
        "Для лог. регрессии : https://habr.com/ru/company/ods/blog/323890/ (см пункт 3. Наглядный пример регуляризации логистической регрессии)\n",
        "\n",
        "Для SVM: https://habr.com/ru/post/428503/"
      ]
    },
    {
      "cell_type": "code",
      "metadata": {
        "id": "x4Msm4bfIRZS",
        "colab": {
          "base_uri": "https://localhost:8080/"
        },
        "outputId": "fe8892d5-fc6c-4990-aa27-b7efb04f9720"
      },
      "source": [
        "alg = SVC()\n",
        "\n",
        "grid = {'C': np.array(np.linspace(-5, 5, 10), dtype='float'),\n",
        "        'kernel': ['linear', 'poly', 'rbf', 'sigmoid']}\n",
        "\n",
        "gs = GridSearchCV(alg, grid, verbose=2, n_jobs = -1)\n",
        "gs.fit(X_train, y_train)\n",
        "gs.best_params_, gs.best_score_"
      ],
      "execution_count": null,
      "outputs": [
        {
          "output_type": "stream",
          "text": [
            "Fitting 5 folds for each of 40 candidates, totalling 200 fits\n"
          ],
          "name": "stdout"
        },
        {
          "output_type": "stream",
          "text": [
            "[Parallel(n_jobs=-1)]: Using backend LokyBackend with 2 concurrent workers.\n",
            "[Parallel(n_jobs=-1)]: Done 147 tasks      | elapsed:  1.5min\n",
            "[Parallel(n_jobs=-1)]: Done 200 out of 200 | elapsed:  3.4min finished\n"
          ],
          "name": "stderr"
        },
        {
          "output_type": "execute_result",
          "data": {
            "text/plain": [
              "({'C': 5.0, 'kernel': 'rbf'}, 0.48949999999999994)"
            ]
          },
          "metadata": {
            "tags": []
          },
          "execution_count": 70
        }
      ]
    },
    {
      "cell_type": "code",
      "metadata": {
        "id": "4rS23nnmjtFc",
        "colab": {
          "base_uri": "https://localhost:8080/"
        },
        "outputId": "f2a05c7f-587d-4a2f-a1d8-a67e87a21a54"
      },
      "source": [
        "svm = SVC(C=5, kernel = 'rbf')\n",
        "\n",
        "svm.fit(X_train, y_train)"
      ],
      "execution_count": null,
      "outputs": [
        {
          "output_type": "execute_result",
          "data": {
            "text/plain": [
              "SVC(C=5, break_ties=False, cache_size=200, class_weight=None, coef0=0.0,\n",
              "    decision_function_shape='ovr', degree=3, gamma='scale', kernel='rbf',\n",
              "    max_iter=-1, probability=False, random_state=None, shrinking=True,\n",
              "    tol=0.001, verbose=False)"
            ]
          },
          "metadata": {
            "tags": []
          },
          "execution_count": 71
        }
      ]
    },
    {
      "cell_type": "code",
      "metadata": {
        "id": "Ka9WOLvPlbRo"
      },
      "source": [
        "preds = svm.predict(X_test)"
      ],
      "execution_count": null,
      "outputs": []
    },
    {
      "cell_type": "code",
      "metadata": {
        "id": "otqo87-_liHx",
        "colab": {
          "base_uri": "https://localhost:8080/"
        },
        "outputId": "c8e6199c-ce6b-4043-faab-4909963dc0cd"
      },
      "source": [
        "from sklearn import metrics\n",
        "\n",
        "print(metrics.classification_report(y_test, preds))"
      ],
      "execution_count": null,
      "outputs": [
        {
          "output_type": "stream",
          "text": [
            "              precision    recall  f1-score   support\n",
            "\n",
            "           1       0.36      0.02      0.04       177\n",
            "           2       0.55      0.44      0.49       600\n",
            "           3       0.52      0.84      0.64       879\n",
            "           4       0.55      0.16      0.25       297\n",
            "           5       0.56      0.19      0.29        47\n",
            "\n",
            "    accuracy                           0.53      2000\n",
            "   macro avg       0.51      0.33      0.34      2000\n",
            "weighted avg       0.52      0.53      0.48      2000\n",
            "\n"
          ],
          "name": "stdout"
        }
      ]
    },
    {
      "cell_type": "markdown",
      "metadata": {
        "id": "P13gsLJWlm7T"
      },
      "source": [
        "## Логистическая"
      ]
    },
    {
      "cell_type": "code",
      "metadata": {
        "id": "NF6xPyfVliZe",
        "colab": {
          "base_uri": "https://localhost:8080/"
        },
        "outputId": "6cc1d0fa-2a95-4ce6-f099-6f5bb8519f2c"
      },
      "source": [
        "alg = LogisticRegression()\n",
        "\n",
        "grid = {'penalty': ['l1', 'l2', 'elasticnet'],\n",
        "        'C': np.array(np.logspace(-3, 2, num = 10), dtype='float')}\n",
        "\n",
        "gs = GridSearchCV(alg, grid, verbose=2, n_jobs = -1)\n",
        "gs.fit(X_train, y_train)\n",
        "gs.best_params_, gs.best_score_"
      ],
      "execution_count": null,
      "outputs": [
        {
          "output_type": "stream",
          "text": [
            "Fitting 5 folds for each of 30 candidates, totalling 150 fits\n"
          ],
          "name": "stdout"
        },
        {
          "output_type": "stream",
          "text": [
            "[Parallel(n_jobs=-1)]: Using backend LokyBackend with 2 concurrent workers.\n",
            "[Parallel(n_jobs=-1)]: Done 150 out of 150 | elapsed:    3.8s finished\n"
          ],
          "name": "stderr"
        },
        {
          "output_type": "execute_result",
          "data": {
            "text/plain": [
              "({'C': 0.1668100537200059, 'penalty': 'l2'}, 0.49312500000000004)"
            ]
          },
          "metadata": {
            "tags": []
          },
          "execution_count": 74
        }
      ]
    },
    {
      "cell_type": "code",
      "metadata": {
        "id": "TOJB5s4OmPod",
        "colab": {
          "base_uri": "https://localhost:8080/"
        },
        "outputId": "0b77ba45-40c6-4fbe-e114-b9b8a93e4ea1"
      },
      "source": [
        "logreg = LogisticRegression(penalty='l2', C = 0.1668100537200059)\n",
        "\n",
        "logreg.fit(X_train, y_train)\n",
        "\n",
        "preds = logreg.predict(X_test)\n",
        "\n",
        "print(metrics.classification_report(y_test, preds))"
      ],
      "execution_count": null,
      "outputs": [
        {
          "output_type": "stream",
          "text": [
            "              precision    recall  f1-score   support\n",
            "\n",
            "           1       0.00      0.00      0.00       177\n",
            "           2       0.50      0.55      0.52       600\n",
            "           3       0.53      0.71      0.61       879\n",
            "           4       0.46      0.21      0.29       297\n",
            "           5       0.30      0.06      0.11        47\n",
            "\n",
            "    accuracy                           0.51      2000\n",
            "   macro avg       0.36      0.31      0.31      2000\n",
            "weighted avg       0.46      0.51      0.47      2000\n",
            "\n"
          ],
          "name": "stdout"
        }
      ]
    },
    {
      "cell_type": "markdown",
      "metadata": {
        "id": "nEFcnhtRm5kQ"
      },
      "source": [
        "## Регрессия"
      ]
    },
    {
      "cell_type": "code",
      "metadata": {
        "id": "3x3_iWpxmosu",
        "colab": {
          "base_uri": "https://localhost:8080/"
        },
        "outputId": "4f2fa576-f7ab-4bc6-952e-798b11c3affa"
      },
      "source": [
        "from sklearn.model_selection import GridSearchCV\n",
        "\n",
        "grid = {'penalty': ['l1', 'l2'],\n",
        "        'alpha': [1e-4, 1e-5, 1e-6, 1e-7]}\n",
        "\n",
        "reg = SGDRegressor()\n",
        "gs = GridSearchCV(reg, grid, verbose = 2, scoring = 'r2')\n",
        "\n",
        "# Обучаем его\n",
        "gs.fit(X_train, y_train)\n",
        "gs.best_params_, gs.best_score_"
      ],
      "execution_count": null,
      "outputs": [
        {
          "output_type": "stream",
          "text": [
            "Fitting 5 folds for each of 8 candidates, totalling 40 fits\n",
            "[CV] alpha=0.0001, penalty=l1 ........................................\n",
            "[CV] ......................... alpha=0.0001, penalty=l1, total=   0.0s\n",
            "[CV] alpha=0.0001, penalty=l1 ........................................\n",
            "[CV] ......................... alpha=0.0001, penalty=l1, total=   0.0s\n",
            "[CV] alpha=0.0001, penalty=l1 ........................................\n",
            "[CV] ......................... alpha=0.0001, penalty=l1, total=   0.0s\n",
            "[CV] alpha=0.0001, penalty=l1 ........................................\n",
            "[CV] ......................... alpha=0.0001, penalty=l1, total=   0.0s\n",
            "[CV] alpha=0.0001, penalty=l1 ........................................\n",
            "[CV] ......................... alpha=0.0001, penalty=l1, total=   0.0s\n",
            "[CV] alpha=0.0001, penalty=l2 ........................................\n",
            "[CV] ......................... alpha=0.0001, penalty=l2, total=   0.0s\n",
            "[CV] alpha=0.0001, penalty=l2 ........................................\n",
            "[CV] ......................... alpha=0.0001, penalty=l2, total=   0.0s\n",
            "[CV] alpha=0.0001, penalty=l2 ........................................\n",
            "[CV] ......................... alpha=0.0001, penalty=l2, total=   0.0s\n",
            "[CV] alpha=0.0001, penalty=l2 ........................................\n",
            "[CV] ......................... alpha=0.0001, penalty=l2, total=   0.0s\n",
            "[CV] alpha=0.0001, penalty=l2 ........................................\n",
            "[CV] ......................... alpha=0.0001, penalty=l2, total=   0.0s\n",
            "[CV] alpha=1e-05, penalty=l1 .........................................\n",
            "[CV] .......................... alpha=1e-05, penalty=l1, total=   0.0s\n",
            "[CV] alpha=1e-05, penalty=l1 .........................................\n",
            "[CV] .......................... alpha=1e-05, penalty=l1, total=   0.0s\n",
            "[CV] alpha=1e-05, penalty=l1 .........................................\n",
            "[CV] .......................... alpha=1e-05, penalty=l1, total=   0.0s\n",
            "[CV] alpha=1e-05, penalty=l1 .........................................\n",
            "[CV] .......................... alpha=1e-05, penalty=l1, total=   0.0s\n",
            "[CV] alpha=1e-05, penalty=l1 .........................................\n"
          ],
          "name": "stdout"
        },
        {
          "output_type": "stream",
          "text": [
            "[Parallel(n_jobs=1)]: Using backend SequentialBackend with 1 concurrent workers.\n",
            "[Parallel(n_jobs=1)]: Done   1 out of   1 | elapsed:    0.0s remaining:    0.0s\n"
          ],
          "name": "stderr"
        },
        {
          "output_type": "stream",
          "text": [
            "[CV] .......................... alpha=1e-05, penalty=l1, total=   0.0s\n",
            "[CV] alpha=1e-05, penalty=l2 .........................................\n",
            "[CV] .......................... alpha=1e-05, penalty=l2, total=   0.0s\n",
            "[CV] alpha=1e-05, penalty=l2 .........................................\n",
            "[CV] .......................... alpha=1e-05, penalty=l2, total=   0.0s\n",
            "[CV] alpha=1e-05, penalty=l2 .........................................\n",
            "[CV] .......................... alpha=1e-05, penalty=l2, total=   0.0s\n",
            "[CV] alpha=1e-05, penalty=l2 .........................................\n",
            "[CV] .......................... alpha=1e-05, penalty=l2, total=   0.0s\n",
            "[CV] alpha=1e-05, penalty=l2 .........................................\n",
            "[CV] .......................... alpha=1e-05, penalty=l2, total=   0.0s\n",
            "[CV] alpha=1e-06, penalty=l1 .........................................\n",
            "[CV] .......................... alpha=1e-06, penalty=l1, total=   0.0s\n",
            "[CV] alpha=1e-06, penalty=l1 .........................................\n",
            "[CV] .......................... alpha=1e-06, penalty=l1, total=   0.0s\n",
            "[CV] alpha=1e-06, penalty=l1 .........................................\n",
            "[CV] .......................... alpha=1e-06, penalty=l1, total=   0.0s\n",
            "[CV] alpha=1e-06, penalty=l1 .........................................\n",
            "[CV] .......................... alpha=1e-06, penalty=l1, total=   0.0s\n",
            "[CV] alpha=1e-06, penalty=l1 .........................................\n",
            "[CV] .......................... alpha=1e-06, penalty=l1, total=   0.0s\n",
            "[CV] alpha=1e-06, penalty=l2 .........................................\n",
            "[CV] .......................... alpha=1e-06, penalty=l2, total=   0.0s\n",
            "[CV] alpha=1e-06, penalty=l2 .........................................\n",
            "[CV] .......................... alpha=1e-06, penalty=l2, total=   0.0s\n",
            "[CV] alpha=1e-06, penalty=l2 .........................................\n",
            "[CV] .......................... alpha=1e-06, penalty=l2, total=   0.0s\n",
            "[CV] alpha=1e-06, penalty=l2 .........................................\n",
            "[CV] .......................... alpha=1e-06, penalty=l2, total=   0.0s\n",
            "[CV] alpha=1e-06, penalty=l2 .........................................\n",
            "[CV] .......................... alpha=1e-06, penalty=l2, total=   0.0s\n",
            "[CV] alpha=1e-07, penalty=l1 .........................................\n",
            "[CV] .......................... alpha=1e-07, penalty=l1, total=   0.0s\n",
            "[CV] alpha=1e-07, penalty=l1 .........................................\n",
            "[CV] .......................... alpha=1e-07, penalty=l1, total=   0.0s\n",
            "[CV] alpha=1e-07, penalty=l1 .........................................\n",
            "[CV] .......................... alpha=1e-07, penalty=l1, total=   0.0s\n",
            "[CV] alpha=1e-07, penalty=l1 .........................................\n",
            "[CV] .......................... alpha=1e-07, penalty=l1, total=   0.0s\n",
            "[CV] alpha=1e-07, penalty=l1 .........................................\n",
            "[CV] .......................... alpha=1e-07, penalty=l1, total=   0.0s\n",
            "[CV] alpha=1e-07, penalty=l2 .........................................\n",
            "[CV] .......................... alpha=1e-07, penalty=l2, total=   0.0s\n",
            "[CV] alpha=1e-07, penalty=l2 .........................................\n",
            "[CV] .......................... alpha=1e-07, penalty=l2, total=   0.0s\n",
            "[CV] alpha=1e-07, penalty=l2 .........................................\n",
            "[CV] .......................... alpha=1e-07, penalty=l2, total=   0.0s\n",
            "[CV] alpha=1e-07, penalty=l2 .........................................\n",
            "[CV] .......................... alpha=1e-07, penalty=l2, total=   0.0s\n",
            "[CV] alpha=1e-07, penalty=l2 .........................................\n",
            "[CV] .......................... alpha=1e-07, penalty=l2, total=   0.0s\n"
          ],
          "name": "stdout"
        },
        {
          "output_type": "stream",
          "text": [
            "[Parallel(n_jobs=1)]: Done  40 out of  40 | elapsed:    0.6s finished\n"
          ],
          "name": "stderr"
        },
        {
          "output_type": "execute_result",
          "data": {
            "text/plain": [
              "({'alpha': 0.0001, 'penalty': 'l2'}, 0.18754423547002824)"
            ]
          },
          "metadata": {
            "tags": []
          },
          "execution_count": 76
        }
      ]
    },
    {
      "cell_type": "code",
      "metadata": {
        "id": "4jPSUnUxn1Lk"
      },
      "source": [
        "reg = SGDRegressor(alpha = 1e-4, penalty='l2')\n",
        "reg.fit(X_train, y_train)\n",
        "preds = reg.predict(X_test)"
      ],
      "execution_count": null,
      "outputs": []
    },
    {
      "cell_type": "code",
      "metadata": {
        "id": "puzESXE2oLau",
        "colab": {
          "base_uri": "https://localhost:8080/"
        },
        "outputId": "ae7837f7-2325-47b1-d33e-b2382ba14439"
      },
      "source": [
        "print('R2 sgd (sklearn): ', r2_score(y_test, preds))"
      ],
      "execution_count": null,
      "outputs": [
        {
          "output_type": "stream",
          "text": [
            "R2 sgd (sklearn):  0.12302806645343844\n"
          ],
          "name": "stdout"
        }
      ]
    },
    {
      "cell_type": "code",
      "metadata": {
        "id": "5HT4g1RvoXU0",
        "colab": {
          "base_uri": "https://localhost:8080/",
          "height": 350
        },
        "outputId": "05a22b88-32e5-45c1-ee7e-443eaa71dc5e"
      },
      "source": [
        "plt.hist(y_test - preds)"
      ],
      "execution_count": null,
      "outputs": [
        {
          "output_type": "execute_result",
          "data": {
            "text/plain": [
              "(array([  1.,   0.,   1.,   2.,   1.,   9., 195., 778., 901., 112.]),\n",
              " array([-8.8179025 , -7.69267585, -6.5674492 , -5.44222255, -4.3169959 ,\n",
              "        -3.19176925, -2.0665426 , -0.94131595,  0.1839107 ,  1.30913734,\n",
              "         2.43436399]),\n",
              " <a list of 10 Patch objects>)"
            ]
          },
          "metadata": {
            "tags": []
          },
          "execution_count": 79
        },
        {
          "output_type": "display_data",
          "data": {
            "image/png": "[encoded data removed]",
            "text/plain": [
              "<Figure size 432x288 with 1 Axes>"
            ]
          },
          "metadata": {
            "tags": [],
            "needs_background": "light"
          }
        }
      ]
    },
    {
      "cell_type": "code",
      "metadata": {
        "id": "aFlIFU16ocBL"
      },
      "source": [
        "\n",
        "reg = GradientBoostingRegressor()\n",
        "reg.fit(X_train, y_train)\n",
        "preds = reg.predict(X_test)"
      ],
      "execution_count": null,
      "outputs": []
    },
    {
      "cell_type": "code",
      "metadata": {
        "id": "WHVaxLOAoybK",
        "colab": {
          "base_uri": "https://localhost:8080/"
        },
        "outputId": "240356eb-d41a-4975-ae68-7b4d41d0d515"
      },
      "source": [
        "print('R2 gb: ', r2_score(y_test, preds))"
      ],
      "execution_count": null,
      "outputs": [
        {
          "output_type": "stream",
          "text": [
            "R2 gb:  0.36938480415973196\n"
          ],
          "name": "stdout"
        }
      ]
    },
    {
      "cell_type": "code",
      "metadata": {
        "id": "SHmwFZU5o0Ej",
        "colab": {
          "base_uri": "https://localhost:8080/",
          "height": 352
        },
        "outputId": "609e8d74-446d-49fd-dd32-7f3a0804d02c"
      },
      "source": [
        "plt.hist(y_test - preds)"
      ],
      "execution_count": null,
      "outputs": [
        {
          "output_type": "execute_result",
          "data": {
            "text/plain": [
              "(array([ 10.,  28., 128., 209., 481., 478., 471., 139.,  48.,   8.]),\n",
              " array([-2.50597434, -2.02944346, -1.55291258, -1.0763817 , -0.59985082,\n",
              "        -0.12331994,  0.35321094,  0.82974182,  1.3062727 ,  1.78280358,\n",
              "         2.25933446]),\n",
              " <a list of 10 Patch objects>)"
            ]
          },
          "metadata": {
            "tags": []
          },
          "execution_count": 82
        },
        {
          "output_type": "display_data",
          "data": {
            "image/png": "[encoded data removed]",
            "text/plain": [
              "<Figure size 432x288 with 1 Axes>"
            ]
          },
          "metadata": {
            "tags": [],
            "needs_background": "light"
          }
        }
      ]
    },
    {
      "cell_type": "code",
      "metadata": {
        "id": "2EnO5_Zhpl4V",
        "colab": {
          "base_uri": "https://localhost:8080/",
          "height": 350
        },
        "outputId": "68303115-9f30-480f-821a-cb6e0c03ebdc"
      },
      "source": [
        "plt.hist(y_test)\n",
        "plt.hist(preds)"
      ],
      "execution_count": null,
      "outputs": [
        {
          "output_type": "execute_result",
          "data": {
            "text/plain": [
              "(array([ 71., 144., 443., 519., 339., 329., 118.,  19.,  13.,   5.]),\n",
              " array([1.42022584, 1.76182309, 2.10342035, 2.44501761, 2.78661487,\n",
              "        3.12821212, 3.46980938, 3.81140664, 4.15300389, 4.49460115,\n",
              "        4.83619841]),\n",
              " <a list of 10 Patch objects>)"
            ]
          },
          "metadata": {
            "tags": []
          },
          "execution_count": 83
        },
        {
          "output_type": "display_data",
          "data": {
            "image/png": "[encoded data removed]",
            "text/plain": [
              "<Figure size 432x288 with 1 Axes>"
            ]
          },
          "metadata": {
            "tags": [],
            "needs_background": "light"
          }
        }
      ]
    },
    {
      "cell_type": "markdown",
      "metadata": {
        "id": "0t3UnTMZpM8b"
      },
      "source": [
        "## Data+tfidf"
      ]
    },
    {
      "cell_type": "code",
      "metadata": {
        "id": "M-EK9Bkmo7jD"
      },
      "source": [
        "df = pd.read_csv('https://raw.githubusercontent.com/tixonsit/mmdad_materials/master/winemag-data-130k-v2.csv', index_col='Unnamed: 0')"
      ],
      "execution_count": null,
      "outputs": []
    },
    {
      "cell_type": "code",
      "metadata": {
        "id": "sJEjUfrCpk-y",
        "colab": {
          "base_uri": "https://localhost:8080/",
          "height": 204
        },
        "outputId": "a33c2844-f245-4572-bf30-e244b51b1e4a"
      },
      "source": [
        "df.drop(columns=['region_2', 'taster_name', 'taster_twitter_handle', 'designation'], inplace=True)\n",
        "df.dropna(inplace=True)\n",
        "df.head()"
      ],
      "execution_count": null,
      "outputs": [
        {
          "output_type": "execute_result",
          "data": {
            "text/html": [
              "<div>\n",
              "<style scoped>\n",
              "    .dataframe tbody tr th:only-of-type {\n",
              "        vertical-align: middle;\n",
              "    }\n",
              "\n",
              "    .dataframe tbody tr th {\n",
              "        vertical-align: top;\n",
              "    }\n",
              "\n",
              "    .dataframe thead th {\n",
              "        text-align: right;\n",
              "    }\n",
              "</style>\n",
              "<table border=\"1\" class=\"dataframe\">\n",
              "  <thead>\n",
              "    <tr style=\"text-align: right;\">\n",
              "      <th></th>\n",
              "      <th>country</th>\n",
              "      <th>description</th>\n",
              "      <th>points</th>\n",
              "      <th>price</th>\n",
              "      <th>province</th>\n",
              "      <th>region_1</th>\n",
              "      <th>title</th>\n",
              "      <th>variety</th>\n",
              "      <th>winery</th>\n",
              "    </tr>\n",
              "  </thead>\n",
              "  <tbody>\n",
              "    <tr>\n",
              "      <th>2</th>\n",
              "      <td>US</td>\n",
              "      <td>Tart and snappy, the flavors of lime flesh and...</td>\n",
              "      <td>87</td>\n",
              "      <td>14.0</td>\n",
              "      <td>Oregon</td>\n",
              "      <td>Willamette Valley</td>\n",
              "      <td>Rainstorm 2013 Pinot Gris (Willamette Valley)</td>\n",
              "      <td>Pinot Gris</td>\n",
              "      <td>Rainstorm</td>\n",
              "    </tr>\n",
              "    <tr>\n",
              "      <th>3</th>\n",
              "      <td>US</td>\n",
              "      <td>Pineapple rind, lemon pith and orange blossom ...</td>\n",
              "      <td>87</td>\n",
              "      <td>13.0</td>\n",
              "      <td>Michigan</td>\n",
              "      <td>Lake Michigan Shore</td>\n",
              "      <td>St. Julian 2013 Reserve Late Harvest Riesling ...</td>\n",
              "      <td>Riesling</td>\n",
              "      <td>St. Julian</td>\n",
              "    </tr>\n",
              "    <tr>\n",
              "      <th>4</th>\n",
              "      <td>US</td>\n",
              "      <td>Much like the regular bottling from 2012, this...</td>\n",
              "      <td>87</td>\n",
              "      <td>65.0</td>\n",
              "      <td>Oregon</td>\n",
              "      <td>Willamette Valley</td>\n",
              "      <td>Sweet Cheeks 2012 Vintner's Reserve Wild Child...</td>\n",
              "      <td>Pinot Noir</td>\n",
              "      <td>Sweet Cheeks</td>\n",
              "    </tr>\n",
              "    <tr>\n",
              "      <th>5</th>\n",
              "      <td>Spain</td>\n",
              "      <td>Blackberry and raspberry aromas show a typical...</td>\n",
              "      <td>87</td>\n",
              "      <td>15.0</td>\n",
              "      <td>Northern Spain</td>\n",
              "      <td>Navarra</td>\n",
              "      <td>Tandem 2011 Ars In Vitro Tempranillo-Merlot (N...</td>\n",
              "      <td>Tempranillo-Merlot</td>\n",
              "      <td>Tandem</td>\n",
              "    </tr>\n",
              "    <tr>\n",
              "      <th>6</th>\n",
              "      <td>Italy</td>\n",
              "      <td>Here's a bright, informal red that opens with ...</td>\n",
              "      <td>87</td>\n",
              "      <td>16.0</td>\n",
              "      <td>Sicily &amp; Sardinia</td>\n",
              "      <td>Vittoria</td>\n",
              "      <td>Terre di Giurfo 2013 Belsito Frappato (Vittoria)</td>\n",
              "      <td>Frappato</td>\n",
              "      <td>Terre di Giurfo</td>\n",
              "    </tr>\n",
              "  </tbody>\n",
              "</table>\n",
              "</div>"
            ],
            "text/plain": [
              "  country  ...           winery\n",
              "2      US  ...        Rainstorm\n",
              "3      US  ...       St. Julian\n",
              "4      US  ...     Sweet Cheeks\n",
              "5   Spain  ...           Tandem\n",
              "6   Italy  ...  Terre di Giurfo\n",
              "\n",
              "[5 rows x 9 columns]"
            ]
          },
          "metadata": {
            "tags": []
          },
          "execution_count": 24
        }
      ]
    },
    {
      "cell_type": "code",
      "metadata": {
        "id": "X-frhC3cqEGn",
        "colab": {
          "base_uri": "https://localhost:8080/",
          "height": 181
        },
        "outputId": "5adab0ee-d597-4efb-a995-fe976e94c905"
      },
      "source": [
        "df['points'] = df['points'].apply(make_class)\n",
        "df.head(10)"
      ],
      "execution_count": null,
      "outputs": [
        {
          "output_type": "error",
          "ename": "NameError",
          "evalue": "ignored",
          "traceback": [
            "\u001b[0;31m---------------------------------------------------------------------------\u001b[0m",
            "\u001b[0;31mNameError\u001b[0m                                 Traceback (most recent call last)",
            "\u001b[0;32m<ipython-input-25-8a1a5018a8d9>\u001b[0m in \u001b[0;36m<module>\u001b[0;34m()\u001b[0m\n\u001b[0;32m----> 1\u001b[0;31m \u001b[0mdf\u001b[0m\u001b[0;34m[\u001b[0m\u001b[0;34m'points'\u001b[0m\u001b[0;34m]\u001b[0m \u001b[0;34m=\u001b[0m \u001b[0mdf\u001b[0m\u001b[0;34m[\u001b[0m\u001b[0;34m'points'\u001b[0m\u001b[0;34m]\u001b[0m\u001b[0;34m.\u001b[0m\u001b[0mapply\u001b[0m\u001b[0;34m(\u001b[0m\u001b[0mmake_class\u001b[0m\u001b[0;34m)\u001b[0m\u001b[0;34m\u001b[0m\u001b[0;34m\u001b[0m\u001b[0m\n\u001b[0m\u001b[1;32m      2\u001b[0m \u001b[0mdf\u001b[0m\u001b[0;34m.\u001b[0m\u001b[0mhead\u001b[0m\u001b[0;34m(\u001b[0m\u001b[0;36m10\u001b[0m\u001b[0;34m)\u001b[0m\u001b[0;34m\u001b[0m\u001b[0;34m\u001b[0m\u001b[0m\n",
            "\u001b[0;31mNameError\u001b[0m: name 'make_class' is not defined"
          ]
        }
      ]
    },
    {
      "cell_type": "code",
      "metadata": {
        "id": "E8fUoaq-qLo1"
      },
      "source": [
        "df.points.value_counts()"
      ],
      "execution_count": null,
      "outputs": []
    },
    {
      "cell_type": "code",
      "metadata": {
        "id": "J5120-2uqN7U",
        "colab": {
          "base_uri": "https://localhost:8080/",
          "height": 204
        },
        "outputId": "04d0666a-e0a1-45a6-9d20-6eeae3aff729"
      },
      "source": [
        "#  применим к этим столбцам нашу функцию понижения текста\n",
        "for colname in df.select_dtypes(include= np.object).columns:\n",
        "    df[colname] = df[colname].map(preprocess)\n",
        "df.head()"
      ],
      "execution_count": null,
      "outputs": [
        {
          "output_type": "execute_result",
          "data": {
            "text/html": [
              "<div>\n",
              "<style scoped>\n",
              "    .dataframe tbody tr th:only-of-type {\n",
              "        vertical-align: middle;\n",
              "    }\n",
              "\n",
              "    .dataframe tbody tr th {\n",
              "        vertical-align: top;\n",
              "    }\n",
              "\n",
              "    .dataframe thead th {\n",
              "        text-align: right;\n",
              "    }\n",
              "</style>\n",
              "<table border=\"1\" class=\"dataframe\">\n",
              "  <thead>\n",
              "    <tr style=\"text-align: right;\">\n",
              "      <th></th>\n",
              "      <th>country</th>\n",
              "      <th>description</th>\n",
              "      <th>points</th>\n",
              "      <th>price</th>\n",
              "      <th>province</th>\n",
              "      <th>region_1</th>\n",
              "      <th>title</th>\n",
              "      <th>variety</th>\n",
              "      <th>winery</th>\n",
              "    </tr>\n",
              "  </thead>\n",
              "  <tbody>\n",
              "    <tr>\n",
              "      <th>2</th>\n",
              "      <td>us</td>\n",
              "      <td>tart and snappy the flavors of lime flesh and ...</td>\n",
              "      <td>2</td>\n",
              "      <td>14.0</td>\n",
              "      <td>oregon</td>\n",
              "      <td>willamette valley</td>\n",
              "      <td>rainstorm 2013 pinot gris willamette valley</td>\n",
              "      <td>pinot gris</td>\n",
              "      <td>rainstorm</td>\n",
              "    </tr>\n",
              "    <tr>\n",
              "      <th>3</th>\n",
              "      <td>us</td>\n",
              "      <td>pineapple rind lemon pith and orange blossom s...</td>\n",
              "      <td>2</td>\n",
              "      <td>13.0</td>\n",
              "      <td>michigan</td>\n",
              "      <td>lake michigan shore</td>\n",
              "      <td>st julian 2013 reserve late harvest riesling l...</td>\n",
              "      <td>riesling</td>\n",
              "      <td>st julian</td>\n",
              "    </tr>\n",
              "    <tr>\n",
              "      <th>4</th>\n",
              "      <td>us</td>\n",
              "      <td>much like the regular bottling from 2012 this ...</td>\n",
              "      <td>2</td>\n",
              "      <td>65.0</td>\n",
              "      <td>oregon</td>\n",
              "      <td>willamette valley</td>\n",
              "      <td>sweet cheeks 2012 vintner s reserve wild child...</td>\n",
              "      <td>pinot noir</td>\n",
              "      <td>sweet cheeks</td>\n",
              "    </tr>\n",
              "    <tr>\n",
              "      <th>5</th>\n",
              "      <td>spain</td>\n",
              "      <td>blackberry and raspberry aromas show a typical...</td>\n",
              "      <td>2</td>\n",
              "      <td>15.0</td>\n",
              "      <td>northern spain</td>\n",
              "      <td>navarra</td>\n",
              "      <td>tandem 2011 ars in vitro tempranillo merlot na...</td>\n",
              "      <td>tempranillo merlot</td>\n",
              "      <td>tandem</td>\n",
              "    </tr>\n",
              "    <tr>\n",
              "      <th>6</th>\n",
              "      <td>italy</td>\n",
              "      <td>here s a bright informal red that opens with a...</td>\n",
              "      <td>2</td>\n",
              "      <td>16.0</td>\n",
              "      <td>sicily sardinia</td>\n",
              "      <td>vittoria</td>\n",
              "      <td>terre di giurfo 2013 belsito frappato vittoria</td>\n",
              "      <td>frappato</td>\n",
              "      <td>terre di giurfo</td>\n",
              "    </tr>\n",
              "  </tbody>\n",
              "</table>\n",
              "</div>"
            ],
            "text/plain": [
              "  country  ...           winery\n",
              "2      us  ...        rainstorm\n",
              "3      us  ...        st julian\n",
              "4      us  ...     sweet cheeks\n",
              "5   spain  ...           tandem\n",
              "6   italy  ...  terre di giurfo\n",
              "\n",
              "[5 rows x 9 columns]"
            ]
          },
          "metadata": {
            "tags": []
          },
          "execution_count": 88
        }
      ]
    },
    {
      "cell_type": "code",
      "metadata": {
        "id": "wRWtz0XXwMXv"
      },
      "source": [
        "from sklearn import preprocessing"
      ],
      "execution_count": null,
      "outputs": []
    },
    {
      "cell_type": "code",
      "metadata": {
        "id": "fS4yMvvxwKr5"
      },
      "source": [
        "# и возвращает обновленный DataFrame и сами кодировщики.\n",
        "def number_encode_features(init_df):\n",
        "    result = init_df.copy() # копируем нашу исходную таблицу\n",
        "    encoders = {}\n",
        "    for column in result.columns:\n",
        "        if result.dtypes[column] == np.object: # np.object -- строковый тип / если тип столбца - строка, то нужно его закодировать\n",
        "            encoders[column] = preprocessing.LabelEncoder() # для колонки column создаем кодировщик\n",
        "            result[column] = encoders[column].fit_transform(result[column]) # применяем кодировщик к столбцу и перезаписываем столбец\n",
        "    return result, encoders"
      ],
      "execution_count": null,
      "outputs": []
    },
    {
      "cell_type": "code",
      "metadata": {
        "id": "hwzSzpn_qWKE",
        "colab": {
          "base_uri": "https://localhost:8080/",
          "height": 204
        },
        "outputId": "b7730a05-cb9a-49e3-f682-79baad7329e9"
      },
      "source": [
        "encoded_data, encoders = number_encode_features(df.drop(columns='description')) # Теперь encoded data содержит закодированные кат. признаки \n",
        "encoded_data.head()"
      ],
      "execution_count": null,
      "outputs": [
        {
          "output_type": "execute_result",
          "data": {
            "text/html": [
              "<div>\n",
              "<style scoped>\n",
              "    .dataframe tbody tr th:only-of-type {\n",
              "        vertical-align: middle;\n",
              "    }\n",
              "\n",
              "    .dataframe tbody tr th {\n",
              "        vertical-align: top;\n",
              "    }\n",
              "\n",
              "    .dataframe thead th {\n",
              "        text-align: right;\n",
              "    }\n",
              "</style>\n",
              "<table border=\"1\" class=\"dataframe\">\n",
              "  <thead>\n",
              "    <tr style=\"text-align: right;\">\n",
              "      <th></th>\n",
              "      <th>country</th>\n",
              "      <th>points</th>\n",
              "      <th>price</th>\n",
              "      <th>province</th>\n",
              "      <th>region_1</th>\n",
              "      <th>title</th>\n",
              "      <th>variety</th>\n",
              "      <th>winery</th>\n",
              "    </tr>\n",
              "  </thead>\n",
              "  <tbody>\n",
              "    <tr>\n",
              "      <th>2</th>\n",
              "      <td>6</td>\n",
              "      <td>87</td>\n",
              "      <td>14.0</td>\n",
              "      <td>43</td>\n",
              "      <td>1192</td>\n",
              "      <td>69940</td>\n",
              "      <td>318</td>\n",
              "      <td>10741</td>\n",
              "    </tr>\n",
              "    <tr>\n",
              "      <th>3</th>\n",
              "      <td>6</td>\n",
              "      <td>87</td>\n",
              "      <td>13.0</td>\n",
              "      <td>30</td>\n",
              "      <td>538</td>\n",
              "      <td>78569</td>\n",
              "      <td>347</td>\n",
              "      <td>11860</td>\n",
              "    </tr>\n",
              "    <tr>\n",
              "      <th>4</th>\n",
              "      <td>6</td>\n",
              "      <td>87</td>\n",
              "      <td>65.0</td>\n",
              "      <td>43</td>\n",
              "      <td>1192</td>\n",
              "      <td>80105</td>\n",
              "      <td>322</td>\n",
              "      <td>12038</td>\n",
              "    </tr>\n",
              "    <tr>\n",
              "      <th>5</th>\n",
              "      <td>5</td>\n",
              "      <td>87</td>\n",
              "      <td>15.0</td>\n",
              "      <td>39</td>\n",
              "      <td>739</td>\n",
              "      <td>80765</td>\n",
              "      <td>430</td>\n",
              "      <td>12107</td>\n",
              "    </tr>\n",
              "    <tr>\n",
              "      <th>6</th>\n",
              "      <td>4</td>\n",
              "      <td>87</td>\n",
              "      <td>16.0</td>\n",
              "      <td>50</td>\n",
              "      <td>1179</td>\n",
              "      <td>82494</td>\n",
              "      <td>131</td>\n",
              "      <td>12369</td>\n",
              "    </tr>\n",
              "  </tbody>\n",
              "</table>\n",
              "</div>"
            ],
            "text/plain": [
              "   country  points  price  province  region_1  title  variety  winery\n",
              "2        6      87   14.0        43      1192  69940      318   10741\n",
              "3        6      87   13.0        30       538  78569      347   11860\n",
              "4        6      87   65.0        43      1192  80105      322   12038\n",
              "5        5      87   15.0        39       739  80765      430   12107\n",
              "6        4      87   16.0        50      1179  82494      131   12369"
            ]
          },
          "metadata": {
            "tags": []
          },
          "execution_count": 28
        }
      ]
    },
    {
      "cell_type": "code",
      "metadata": {
        "id": "GXnH4ZVFqiYE"
      },
      "source": [
        "y = np.array(encoded_data.points)\n",
        "del encoded_data['points']"
      ],
      "execution_count": null,
      "outputs": []
    },
    {
      "cell_type": "code",
      "metadata": {
        "id": "f64lnLF1qo2z",
        "colab": {
          "base_uri": "https://localhost:8080/",
          "height": 419
        },
        "outputId": "ec9e3898-ebfa-475e-cdba-83c31037d513"
      },
      "source": [
        "encoded_data"
      ],
      "execution_count": null,
      "outputs": [
        {
          "output_type": "execute_result",
          "data": {
            "text/html": [
              "<div>\n",
              "<style scoped>\n",
              "    .dataframe tbody tr th:only-of-type {\n",
              "        vertical-align: middle;\n",
              "    }\n",
              "\n",
              "    .dataframe tbody tr th {\n",
              "        vertical-align: top;\n",
              "    }\n",
              "\n",
              "    .dataframe thead th {\n",
              "        text-align: right;\n",
              "    }\n",
              "</style>\n",
              "<table border=\"1\" class=\"dataframe\">\n",
              "  <thead>\n",
              "    <tr style=\"text-align: right;\">\n",
              "      <th></th>\n",
              "      <th>country</th>\n",
              "      <th>price</th>\n",
              "      <th>province</th>\n",
              "      <th>region_1</th>\n",
              "      <th>title</th>\n",
              "      <th>variety</th>\n",
              "      <th>winery</th>\n",
              "    </tr>\n",
              "  </thead>\n",
              "  <tbody>\n",
              "    <tr>\n",
              "      <th>2</th>\n",
              "      <td>6</td>\n",
              "      <td>14.0</td>\n",
              "      <td>43</td>\n",
              "      <td>1192</td>\n",
              "      <td>69940</td>\n",
              "      <td>318</td>\n",
              "      <td>10741</td>\n",
              "    </tr>\n",
              "    <tr>\n",
              "      <th>3</th>\n",
              "      <td>6</td>\n",
              "      <td>13.0</td>\n",
              "      <td>30</td>\n",
              "      <td>538</td>\n",
              "      <td>78569</td>\n",
              "      <td>347</td>\n",
              "      <td>11860</td>\n",
              "    </tr>\n",
              "    <tr>\n",
              "      <th>4</th>\n",
              "      <td>6</td>\n",
              "      <td>65.0</td>\n",
              "      <td>43</td>\n",
              "      <td>1192</td>\n",
              "      <td>80105</td>\n",
              "      <td>322</td>\n",
              "      <td>12038</td>\n",
              "    </tr>\n",
              "    <tr>\n",
              "      <th>5</th>\n",
              "      <td>5</td>\n",
              "      <td>15.0</td>\n",
              "      <td>39</td>\n",
              "      <td>739</td>\n",
              "      <td>80765</td>\n",
              "      <td>430</td>\n",
              "      <td>12107</td>\n",
              "    </tr>\n",
              "    <tr>\n",
              "      <th>6</th>\n",
              "      <td>4</td>\n",
              "      <td>16.0</td>\n",
              "      <td>50</td>\n",
              "      <td>1179</td>\n",
              "      <td>82494</td>\n",
              "      <td>131</td>\n",
              "      <td>12369</td>\n",
              "    </tr>\n",
              "    <tr>\n",
              "      <th>...</th>\n",
              "      <td>...</td>\n",
              "      <td>...</td>\n",
              "      <td>...</td>\n",
              "      <td>...</td>\n",
              "      <td>...</td>\n",
              "      <td>...</td>\n",
              "      <td>...</td>\n",
              "    </tr>\n",
              "    <tr>\n",
              "      <th>129965</th>\n",
              "      <td>3</td>\n",
              "      <td>28.0</td>\n",
              "      <td>0</td>\n",
              "      <td>21</td>\n",
              "      <td>29580</td>\n",
              "      <td>318</td>\n",
              "      <td>5187</td>\n",
              "    </tr>\n",
              "    <tr>\n",
              "      <th>129967</th>\n",
              "      <td>6</td>\n",
              "      <td>75.0</td>\n",
              "      <td>43</td>\n",
              "      <td>769</td>\n",
              "      <td>22789</td>\n",
              "      <td>322</td>\n",
              "      <td>4065</td>\n",
              "    </tr>\n",
              "    <tr>\n",
              "      <th>129968</th>\n",
              "      <td>3</td>\n",
              "      <td>30.0</td>\n",
              "      <td>0</td>\n",
              "      <td>21</td>\n",
              "      <td>28812</td>\n",
              "      <td>149</td>\n",
              "      <td>5037</td>\n",
              "    </tr>\n",
              "    <tr>\n",
              "      <th>129969</th>\n",
              "      <td>3</td>\n",
              "      <td>32.0</td>\n",
              "      <td>0</td>\n",
              "      <td>21</td>\n",
              "      <td>29266</td>\n",
              "      <td>318</td>\n",
              "      <td>5122</td>\n",
              "    </tr>\n",
              "    <tr>\n",
              "      <th>129970</th>\n",
              "      <td>3</td>\n",
              "      <td>21.0</td>\n",
              "      <td>0</td>\n",
              "      <td>21</td>\n",
              "      <td>29793</td>\n",
              "      <td>149</td>\n",
              "      <td>5228</td>\n",
              "    </tr>\n",
              "  </tbody>\n",
              "</table>\n",
              "<p>101400 rows × 7 columns</p>\n",
              "</div>"
            ],
            "text/plain": [
              "        country  price  province  region_1  title  variety  winery\n",
              "2             6   14.0        43      1192  69940      318   10741\n",
              "3             6   13.0        30       538  78569      347   11860\n",
              "4             6   65.0        43      1192  80105      322   12038\n",
              "5             5   15.0        39       739  80765      430   12107\n",
              "6             4   16.0        50      1179  82494      131   12369\n",
              "...         ...    ...       ...       ...    ...      ...     ...\n",
              "129965        3   28.0         0        21  29580      318    5187\n",
              "129967        6   75.0        43       769  22789      322    4065\n",
              "129968        3   30.0         0        21  28812      149    5037\n",
              "129969        3   32.0         0        21  29266      318    5122\n",
              "129970        3   21.0         0        21  29793      149    5228\n",
              "\n",
              "[101400 rows x 7 columns]"
            ]
          },
          "metadata": {
            "tags": []
          },
          "execution_count": 30
        }
      ]
    },
    {
      "cell_type": "code",
      "metadata": {
        "id": "TNs3lTQeq2-s",
        "colab": {
          "base_uri": "https://localhost:8080/"
        },
        "outputId": "7fbd1246-1b2f-4878-ee2b-cb0f7b02453a"
      },
      "source": [
        "y"
      ],
      "execution_count": null,
      "outputs": [
        {
          "output_type": "execute_result",
          "data": {
            "text/plain": [
              "array([87, 87, 87, ..., 90, 90, 90])"
            ]
          },
          "metadata": {
            "tags": []
          },
          "execution_count": 31
        }
      ]
    },
    {
      "cell_type": "code",
      "metadata": {
        "id": "8OOUTkOzq5Kq"
      },
      "source": [
        "encoded_data = encoded_data[:20000]"
      ],
      "execution_count": null,
      "outputs": []
    },
    {
      "cell_type": "code",
      "metadata": {
        "id": "9gk1Lc9yq8bC"
      },
      "source": [
        "y = y[:20000]"
      ],
      "execution_count": null,
      "outputs": []
    },
    {
      "cell_type": "code",
      "metadata": {
        "id": "tpYEAqBsrWEe"
      },
      "source": [
        "X_train = encoded_data.values[:int(len(encoded_data.values)*0.8)]\n",
        "y_train = y[:int(len(encoded_data.values)*0.8)]\n",
        "\n",
        "X_test = encoded_data.values[int(len(encoded_data.values)*0.8):]\n",
        "y_test = y[int(len(encoded_data.values)*0.8):]"
      ],
      "execution_count": null,
      "outputs": []
    },
    {
      "cell_type": "code",
      "metadata": {
        "id": "pi6B2k2yrdal",
        "colab": {
          "base_uri": "https://localhost:8080/"
        },
        "outputId": "6616c519-d4dd-4472-db9f-4e3e763f9b7b"
      },
      "source": [
        "X_train.shape, y_train.shape"
      ],
      "execution_count": null,
      "outputs": [
        {
          "output_type": "execute_result",
          "data": {
            "text/plain": [
              "((16000, 7), (16000,))"
            ]
          },
          "metadata": {
            "tags": []
          },
          "execution_count": 35
        }
      ]
    },
    {
      "cell_type": "code",
      "metadata": {
        "id": "pgXdJFp5rhPe",
        "colab": {
          "base_uri": "https://localhost:8080/"
        },
        "outputId": "49a36d91-654a-4efa-f014-fae80e8b0f87"
      },
      "source": [
        "pd.Series(y_train).value_counts()"
      ],
      "execution_count": null,
      "outputs": [
        {
          "output_type": "execute_result",
          "data": {
            "text/plain": [
              "87     2193\n",
              "88     1977\n",
              "90     1878\n",
              "86     1565\n",
              "91     1374\n",
              "89     1362\n",
              "92     1263\n",
              "85     1187\n",
              "84      919\n",
              "93      758\n",
              "94      539\n",
              "83      389\n",
              "82      219\n",
              "95      162\n",
              "96       69\n",
              "81       67\n",
              "80       39\n",
              "97       26\n",
              "98       10\n",
              "99        2\n",
              "100       2\n",
              "dtype: int64"
            ]
          },
          "metadata": {
            "tags": []
          },
          "execution_count": 36
        }
      ]
    },
    {
      "cell_type": "code",
      "metadata": {
        "id": "iDu4jXS0rBQS"
      },
      "source": [
        "mean = X_train.mean(axis=0)\n",
        "std = X_train.std(axis=0)"
      ],
      "execution_count": null,
      "outputs": []
    },
    {
      "cell_type": "code",
      "metadata": {
        "id": "qNh35ByAsB-w"
      },
      "source": [
        "X_train = (X_train - mean)/std\n",
        "X_test = (X_test - mean)/std"
      ],
      "execution_count": null,
      "outputs": []
    },
    {
      "cell_type": "code",
      "metadata": {
        "id": "qKACRifVrO9p",
        "colab": {
          "base_uri": "https://localhost:8080/"
        },
        "outputId": "fdb39854-f34c-416e-8b7b-10798f7a3525"
      },
      "source": [
        "df['description']"
      ],
      "execution_count": null,
      "outputs": [
        {
          "output_type": "execute_result",
          "data": {
            "text/plain": [
              "2         Tart and snappy, the flavors of lime flesh and...\n",
              "3         Pineapple rind, lemon pith and orange blossom ...\n",
              "4         Much like the regular bottling from 2012, this...\n",
              "5         Blackberry and raspberry aromas show a typical...\n",
              "6         Here's a bright, informal red that opens with ...\n",
              "                                ...                        \n",
              "129965    While it's rich, this beautiful dry wine also ...\n",
              "129967    Citation is given as much as a decade of bottl...\n",
              "129968    Well-drained gravel soil gives this wine its c...\n",
              "129969    A dry style of Pinot Gris, this is crisp with ...\n",
              "129970    Big, rich and off-dry, this is powered by inte...\n",
              "Name: description, Length: 101400, dtype: object"
            ]
          },
          "metadata": {
            "tags": []
          },
          "execution_count": 39
        }
      ]
    },
    {
      "cell_type": "code",
      "metadata": {
        "id": "efwQ9Xe9ruJP",
        "colab": {
          "base_uri": "https://localhost:8080/"
        },
        "outputId": "c13220e5-9b54-4ccc-83b6-dfcd3f72e8b4"
      },
      "source": [
        "from sklearn.feature_extraction.text import TfidfVectorizer\n",
        "vectorizer = TfidfVectorizer()\n",
        "# преобразовали его в матрицу tfidf как в примере на картинке выше\n",
        "X_np = vectorizer.fit_transform(df['description'][:20000].values)\n",
        "# отобразили его размерность\n",
        "print(X_np.shape)"
      ],
      "execution_count": null,
      "outputs": [
        {
          "output_type": "stream",
          "text": [
            "(20000, 15175)\n"
          ],
          "name": "stdout"
        }
      ]
    },
    {
      "cell_type": "code",
      "metadata": {
        "id": "Nqx2ehS5scE5",
        "colab": {
          "base_uri": "https://localhost:8080/"
        },
        "outputId": "33c9e56f-94ef-4de2-bec0-a2e3c60754d6"
      },
      "source": [
        "X_train.shape"
      ],
      "execution_count": null,
      "outputs": [
        {
          "output_type": "execute_result",
          "data": {
            "text/plain": [
              "(16000, 7)"
            ]
          },
          "metadata": {
            "tags": []
          },
          "execution_count": 41
        }
      ]
    },
    {
      "cell_type": "code",
      "metadata": {
        "id": "ITvkD8ysr9Lu"
      },
      "source": [
        "X_train = np.append(X_train, X_np.toarray()[:16000], axis=1)\n"
      ],
      "execution_count": null,
      "outputs": []
    },
    {
      "cell_type": "code",
      "metadata": {
        "id": "AxC7jvkFsyy6"
      },
      "source": [
        "X_test = np.append(X_test, X_np.toarray()[16000:], axis=1)"
      ],
      "execution_count": null,
      "outputs": []
    },
    {
      "cell_type": "code",
      "metadata": {
        "id": "yulwS055saFA",
        "colab": {
          "base_uri": "https://localhost:8080/"
        },
        "outputId": "348f5508-3089-4df8-c4b9-51883cf95f3d"
      },
      "source": [
        "X_train.shape"
      ],
      "execution_count": null,
      "outputs": [
        {
          "output_type": "execute_result",
          "data": {
            "text/plain": [
              "(16000, 15182)"
            ]
          },
          "metadata": {
            "tags": []
          },
          "execution_count": 44
        }
      ]
    },
    {
      "cell_type": "code",
      "metadata": {
        "id": "LC8QeQf9suFs",
        "colab": {
          "base_uri": "https://localhost:8080/"
        },
        "outputId": "39d5018d-75cb-4517-e1e7-4ebae54d9bd1"
      },
      "source": [
        "X_test.shape"
      ],
      "execution_count": null,
      "outputs": [
        {
          "output_type": "execute_result",
          "data": {
            "text/plain": [
              "(4000, 15182)"
            ]
          },
          "metadata": {
            "tags": []
          },
          "execution_count": 45
        }
      ]
    },
    {
      "cell_type": "code",
      "metadata": {
        "id": "Okc-d22GtU7_"
      },
      "source": [
        "from sklearn.ensemble import GradientBoostingClassifier, GradientBoostingRegressor\n",
        "reg = GradientBoostingRegressor()\n",
        "reg.fit(X_train, y_train)\n",
        "preds = reg.predict(X_test)"
      ],
      "execution_count": null,
      "outputs": []
    },
    {
      "cell_type": "code",
      "metadata": {
        "id": "v-j3VQP8s4nC",
        "colab": {
          "base_uri": "https://localhost:8080/"
        },
        "outputId": "068b6d12-5984-4674-cd51-2411ca9e14d6"
      },
      "source": [
        "from sklearn.metrics import r2_score\n",
        "print('R2 gb: ', r2_score(y_test, preds))"
      ],
      "execution_count": null,
      "outputs": [
        {
          "output_type": "stream",
          "text": [
            "R2 gb:  0.5639403067942397\n"
          ],
          "name": "stdout"
        }
      ]
    },
    {
      "cell_type": "code",
      "metadata": {
        "id": "W4cGXAyQBoUe"
      },
      "source": [
        ""
      ],
      "execution_count": null,
      "outputs": []
    }
  ]
}