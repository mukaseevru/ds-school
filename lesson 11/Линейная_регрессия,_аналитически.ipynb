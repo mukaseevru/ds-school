{
  "nbformat": 4,
  "nbformat_minor": 0,
  "metadata": {
    "colab": {
      "name": "Линейная регрессия, аналитически.ipynb",
      "provenance": [],
      "collapsed_sections": []
    },
    "kernelspec": {
      "name": "python3",
      "display_name": "Python 3"
    }
  },
  "cells": [
    {
      "cell_type": "markdown",
      "metadata": {
        "id": "PNK_0ITKDx_c"
      },
      "source": [
        "# Линейные методы. Регрессия."
      ]
    },
    {
      "cell_type": "markdown",
      "metadata": {
        "id": "ubtW4BNLIC0R"
      },
      "source": [
        "ссылка на ноутбук в колаб: https://colab.research.google.com/drive/14K1qyVT4yxCJ_tOggyO4dw-dYC_4PF2u?usp=sharing"
      ]
    },
    {
      "cell_type": "markdown",
      "metadata": {
        "id": "DW6oRt_HKcpE"
      },
      "source": [
        "Матричные производные:\n",
        "\n",
        "http://www.machinelearning.ru/wiki/images/archive/9/93/20170127140036!MO17_seminar3.pdf"
      ]
    },
    {
      "cell_type": "markdown",
      "metadata": {
        "id": "fRVu5ANBLGGo"
      },
      "source": [
        "Линейные методы предполагают, что между признаками объекта и целевой переменной существует линейная зависимость, то есть:\n",
        "$$ y = w_1 x_1 + w_2 x_2 + ... + w_k x_k + b $$,\n",
        "где у - целевая переменная (что мы хотим предсказать), $x_i$ -- признак объекта х, $w_i$ -- вес i-го признака, b -- bias (смещение, свободный член)\n",
        "\n",
        "Часто предполагают, что объект х содержит в себе фиктивный признак, который всегда равен 1, тогда bias это есть вес этого признака. В этом случае формула принимает простой вид:\n",
        "$$ y = <w, x> $$,\n",
        "где $<\\cdot, \\cdot>$ -- скалярное произведение векторов.\n",
        "\n",
        "В матричной форме, в случае, когда у нас есть n объектов формулу можно переписать следующим образом:\n",
        "$$ y = Xw $$,\n",
        "y -- вектор размера n, X -- матрица объекты-признаки размера $n \\times k$, w -- вектор весов размера k.\n",
        "\n",
        "Решение по методу наименьших квадратов дает \n",
        "$$ w = (X^TX)^{-1}X^Ty $$"
      ]
    },
    {
      "cell_type": "markdown",
      "metadata": {
        "id": "xx_zFZBo6iKb"
      },
      "source": [
        "**Определение (Lp-норма):**\n",
        "\n",
        "$$\n",
        "    \\|\\cdot\\|_{p}: \\mathbb{R}^{d} \\to \\mathbb{R}\\\\\n",
        "    \\forall p \\geq 1: \\forall x \\in \\mathbb{R}^{d}: \\|x\\|_{p} = \\sqrt[p]{\\sum_{i=1}^{n} x_{i}^{p}}\n",
        "$$\n",
        "\n",
        "**Доказательство**\n",
        "\n",
        "Вспомним, как выглядит задача оптимизации:\n",
        "\n",
        "$$\n",
        "    \\frac{1}{n} \\sum_{i=1}^{n} (y_i - \\langle x_i, w \\rangle)^2 \\to \\min\\limits_{w}\n",
        "$$\n",
        "\n",
        "Эта задача оптимизации допускает следующую более удобную запись:\n",
        "\n",
        "$$\n",
        "    \\frac{1}{n} \\| Xw - y \\|_{2}^{2} \\to \\min\\limits_{w}\n",
        "$$\n",
        "\n",
        "Утверждается, что:\n",
        "\n",
        "$$\n",
        "    \\frac{1}{n} \\| Xw - y \\|_{2}^{2} = \\frac{1}{n} (Xw - y)^{\\top} (Xw - y)\n",
        "$$\n",
        "\n",
        "(потому что $\\| x \\|_{2}^{2} = \\langle x, x\\rangle$)\n",
        "\n",
        "Раскроем это выражение:\n",
        "\n",
        "$$\n",
        "\\begin{align*}\n",
        "    & (Xw - y)^{\\top} (Xw - y) =\\\\\n",
        "    &= (w^{\\top} X^{\\top} - y^{\\top}) (Xw - y) =\\\\\n",
        "    &= (w^{\\top} X^{\\top} X w - w^{\\top} X^{\\top} y) - (y^{\\top} X w - y^{\\top} y) =\\\\\n",
        "    &= w^{\\top} X^{\\top} X w - 2 y^{\\top} X w + y^{\\top} y\n",
        "\\end{align*}\n",
        "$$\n",
        "\n",
        "Найдём градиент этой функции, т.е. все частные производные по весам (т.е. по $w_1, \\ldots, w_d$).\n",
        "\n",
        "$$\n",
        "\\begin{align*}\n",
        "    &\\frac{\\partial}{\\partial w} (w^{\\top} X^{\\top} X w - 2 y^{\\top} X w + y^{\\top} y) =\\\\\n",
        "    &= 2 X^{\\top} X w - 2 X^{\\top} y = 0\n",
        "\\end{align*}\n",
        "$$\n",
        "\n",
        "Отсюда получаем итоговый ответ:\n",
        "\n",
        "$$\n",
        "\\begin{align*}\n",
        "    X^{\\top} X w &= X^{\\top} y\\\\\n",
        "    w &= (X^{\\top} X)^{-1} X^{\\top} y\n",
        "\\end{align*}\n",
        "$$"
      ]
    },
    {
      "cell_type": "markdown",
      "metadata": {
        "id": "xOt0ORJluEhQ"
      },
      "source": [
        "Полезная статья прорешение Линейной регрессии: https://habr.com/ru/post/474602/"
      ]
    },
    {
      "cell_type": "code",
      "metadata": {
        "id": "e9dsBCqULS3F"
      },
      "source": [
        "import numpy as np\n",
        "import pandas as pd\n",
        "from matplotlib import pyplot as plt\n",
        "%matplotlib inline"
      ],
      "execution_count": null,
      "outputs": []
    },
    {
      "cell_type": "code",
      "metadata": {
        "id": "Ss3Xirk33T5x"
      },
      "source": [
        "X = np.linspace(-5, 5, 100)\n",
        "y = 10 * X - 7\n",
        "\n",
        "\n",
        "X_train = X[0::2].reshape(-1, 1)\n",
        "y_train = y[0::2] + np.random.randn(50) * 10\n",
        "\n",
        "X_test = X[1::2].reshape(-1, 1)\n",
        "y_test = y[1::2] + np.random.randn(50) * 10"
      ],
      "execution_count": null,
      "outputs": []
    },
    {
      "cell_type": "code",
      "metadata": {
        "id": "MTCJ6Jc2LP3h",
        "colab": {
          "base_uri": "https://localhost:8080/"
        },
        "outputId": "e9181535-8bf4-4d6a-9e5d-a33c2b538f84"
      },
      "source": [
        "X_train[1], y_train[1]"
      ],
      "execution_count": null,
      "outputs": [
        {
          "output_type": "execute_result",
          "data": {
            "text/plain": [
              "(array([-4.7979798]), -63.670216015861186)"
            ]
          },
          "metadata": {
            "tags": []
          },
          "execution_count": 3
        }
      ]
    },
    {
      "cell_type": "code",
      "metadata": {
        "id": "RV_yTmiAMcZc",
        "colab": {
          "base_uri": "https://localhost:8080/"
        },
        "outputId": "ebff2a69-1fd0-48bc-a22f-a6de86e8ddd0"
      },
      "source": [
        "def fit(X, y):\n",
        "    n, k = X.shape\n",
        "    X = np.hstack((X, np.ones((n, 1))))\n",
        "    w = np.linalg.inv(X.T @ X) @ X.T @ y\n",
        "    return w\n",
        "\n",
        "def predict(X, w):\n",
        "    n, k = X.shape\n",
        "    X = np.hstack((X, np.ones((n, 1))))\n",
        "    y_pred = X @ w\n",
        "    return y_pred\n",
        "\n",
        "weights = fit(X_train, y_train)\n",
        "weights"
      ],
      "execution_count": null,
      "outputs": [
        {
          "output_type": "execute_result",
          "data": {
            "text/plain": [
              "array([10.39219337, -7.03755424])"
            ]
          },
          "metadata": {
            "tags": []
          },
          "execution_count": 4
        }
      ]
    },
    {
      "cell_type": "code",
      "metadata": {
        "id": "HDM9jvhOyFp8"
      },
      "source": [
        "y_hat = predict(X_test, weights)"
      ],
      "execution_count": null,
      "outputs": []
    },
    {
      "cell_type": "code",
      "metadata": {
        "id": "lSr7D-CsyRXY",
        "colab": {
          "base_uri": "https://localhost:8080/",
          "height": 418
        },
        "outputId": "a58f43e6-d2e5-43bc-907a-22a5bdd6e6ee"
      },
      "source": [
        "plt.hist((y_test - y_hat)**2, bins = 20)"
      ],
      "execution_count": null,
      "outputs": [
        {
          "output_type": "execute_result",
          "data": {
            "text/plain": [
              "(array([16.,  6.,  6.,  3.,  4.,  3.,  4.,  2.,  1.,  0.,  0.,  1.,  0.,\n",
              "         2.,  1.,  0.,  0.,  0.,  0.,  1.]),\n",
              " array([3.54372699e-05, 1.97076673e+01, 3.94152992e+01, 5.91229311e+01,\n",
              "        7.88305630e+01, 9.85381948e+01, 1.18245827e+02, 1.37953459e+02,\n",
              "        1.57661090e+02, 1.77368722e+02, 1.97076354e+02, 2.16783986e+02,\n",
              "        2.36491618e+02, 2.56199250e+02, 2.75906882e+02, 2.95614514e+02,\n",
              "        3.15322146e+02, 3.35029777e+02, 3.54737409e+02, 3.74445041e+02,\n",
              "        3.94152673e+02]),\n",
              " <a list of 20 Patch objects>)"
            ]
          },
          "metadata": {
            "tags": []
          },
          "execution_count": 6
        },
        {
          "output_type": "display_data",
          "data": {
            "image/png": "[encoded data removed]",
            "text/plain": [
              "<Figure size 432x288 with 1 Axes>"
            ]
          },
          "metadata": {
            "tags": [],
            "needs_background": "light"
          }
        }
      ]
    },
    {
      "cell_type": "code",
      "metadata": {
        "id": "4JIVQm0J1bde",
        "colab": {
          "base_uri": "https://localhost:8080/",
          "height": 265
        },
        "outputId": "560cc9be-c82c-413e-ce08-ac2b991840aa"
      },
      "source": [
        "import matplotlib.pyplot as plt\n",
        "\n",
        "plt.plot(X, y, label = 'data')\n",
        "plt.scatter(X_train, y_train, label ='train')\n",
        "plt.scatter(X_test, y_test, label ='test')\n",
        "plt.legend()\n",
        "plt.show()"
      ],
      "execution_count": null,
      "outputs": [
        {
          "output_type": "display_data",
          "data": {
            "image/png": "[encoded data removed]",
            "text/plain": [
              "<Figure size 432x288 with 1 Axes>"
            ]
          },
          "metadata": {
            "tags": [],
            "needs_background": "light"
          }
        }
      ]
    },
    {
      "cell_type": "code",
      "metadata": {
        "id": "rwSr7vva14-I",
        "colab": {
          "base_uri": "https://localhost:8080/",
          "height": 265
        },
        "outputId": "8f6ceacc-f07b-4edc-8475-bd3edc7892e7"
      },
      "source": [
        "import matplotlib.pyplot as plt\n",
        "\n",
        "plt.plot(X, y, label = 'data')\n",
        "plt.scatter(X_train, y_train, label ='train')\n",
        "plt.scatter(X_test, y_test, label ='test')\n",
        "plt.plot(X[1::2], X[1::2].reshape(-1, 1).dot(weights[:-1]) + weights[-1], label = 'preds')\n",
        "plt.legend()\n",
        "plt.show()"
      ],
      "execution_count": null,
      "outputs": [
        {
          "output_type": "display_data",
          "data": {
            "image/png": "[encoded data removed]",
            "text/plain": [
              "<Figure size 432x288 with 1 Axes>"
            ]
          },
          "metadata": {
            "tags": [],
            "needs_background": "light"
          }
        }
      ]
    },
    {
      "cell_type": "markdown",
      "metadata": {
        "id": "3PLeQb5xGGI2"
      },
      "source": [
        "**Определение (R2-score или коэффициент детерминации):**\n",
        "\n",
        "$$ R^2 = 1 - \\frac{MSE(y, \\widehat{y})}{D y} $$"
      ]
    },
    {
      "cell_type": "code",
      "metadata": {
        "id": "VykDMvHG2zHE",
        "colab": {
          "base_uri": "https://localhost:8080/"
        },
        "outputId": "1d040fb1-6d94-4d88-9028-841f06282c30"
      },
      "source": [
        "from sklearn.metrics import r2_score\n",
        "\n",
        "train_preds = predict(X_train, weights)\n",
        "test_preds = predict(X_test, weights)\n",
        "\n",
        "print('train r2', r2_score(y_train, train_preds))\n",
        "print('test r2', r2_score(y_test, test_preds))"
      ],
      "execution_count": null,
      "outputs": [
        {
          "output_type": "stream",
          "text": [
            "train r2 0.922774059031591\n",
            "test r2 0.9178801314503982\n"
          ],
          "name": "stdout"
        }
      ]
    },
    {
      "cell_type": "code",
      "metadata": {
        "id": "7VEiNra22QmH",
        "colab": {
          "base_uri": "https://localhost:8080/"
        },
        "outputId": "6d93bef1-0086-43c1-f24b-576a50b0a40f"
      },
      "source": [
        "from sklearn.metrics import mean_squared_error\n",
        "\n",
        "train_preds = predict(X_train, weights)\n",
        "test_preds = predict(X_test, weights)\n",
        "\n",
        "print('train mse', mean_squared_error(y_train, train_preds))\n",
        "print('test mse', mean_squared_error(y_test, test_preds))"
      ],
      "execution_count": null,
      "outputs": [
        {
          "output_type": "stream",
          "text": [
            "train mse 76.81691863949644\n",
            "test mse 77.59498694783902\n"
          ],
          "name": "stdout"
        }
      ]
    },
    {
      "cell_type": "markdown",
      "metadata": {
        "id": "G276_whHL02N"
      },
      "source": [
        "### Ridge&Lasso\n",
        "\n",
        "На практике точные формулы для подсчета коэффициентов линейной регрессии не используются, а используется метод градиентного спуска который состоит в подсчете производных от ошибки и шагу в направлении наискорейшего убывания функции (напомню, что мы стремимся минимизировать функцию потерь). Эти методы работают быстрее, чем точное вычисление обратных матриц и их перемножение.\n",
        "Более того, во многих задачах это единственный способ обучить модель, так как не всегда (на самом деле почти никогда) удается выписать точную формулу для минимума сложного функционала ошибки.\n",
        "\n",
        "Давайте рассмотрим реализации линейных регрессоров в библиотеке sklearn\n",
        "\n",
        "Но сначала давайте поймём, зачем вообще нужна регуляризация. Рассмотрим проблему мультиколлинеарности. В упрощённом понимании, это означает, что признаки линейно зависимы. Посмотрим, к чему это ведёт."
      ]
    },
    {
      "cell_type": "code",
      "metadata": {
        "colab": {
          "base_uri": "https://localhost:8080/"
        },
        "id": "cLhFPkULyke-",
        "outputId": "3bba9ee3-0398-445c-a9ce-fc77f0771a07"
      },
      "source": [
        "X_train"
      ],
      "execution_count": null,
      "outputs": [
        {
          "output_type": "execute_result",
          "data": {
            "text/plain": [
              "array([[-5.        ],\n",
              "       [-4.7979798 ],\n",
              "       [-4.5959596 ],\n",
              "       [-4.39393939],\n",
              "       [-4.19191919],\n",
              "       [-3.98989899],\n",
              "       [-3.78787879],\n",
              "       [-3.58585859],\n",
              "       [-3.38383838],\n",
              "       [-3.18181818],\n",
              "       [-2.97979798],\n",
              "       [-2.77777778],\n",
              "       [-2.57575758],\n",
              "       [-2.37373737],\n",
              "       [-2.17171717],\n",
              "       [-1.96969697],\n",
              "       [-1.76767677],\n",
              "       [-1.56565657],\n",
              "       [-1.36363636],\n",
              "       [-1.16161616],\n",
              "       [-0.95959596],\n",
              "       [-0.75757576],\n",
              "       [-0.55555556],\n",
              "       [-0.35353535],\n",
              "       [-0.15151515],\n",
              "       [ 0.05050505],\n",
              "       [ 0.25252525],\n",
              "       [ 0.45454545],\n",
              "       [ 0.65656566],\n",
              "       [ 0.85858586],\n",
              "       [ 1.06060606],\n",
              "       [ 1.26262626],\n",
              "       [ 1.46464646],\n",
              "       [ 1.66666667],\n",
              "       [ 1.86868687],\n",
              "       [ 2.07070707],\n",
              "       [ 2.27272727],\n",
              "       [ 2.47474747],\n",
              "       [ 2.67676768],\n",
              "       [ 2.87878788],\n",
              "       [ 3.08080808],\n",
              "       [ 3.28282828],\n",
              "       [ 3.48484848],\n",
              "       [ 3.68686869],\n",
              "       [ 3.88888889],\n",
              "       [ 4.09090909],\n",
              "       [ 4.29292929],\n",
              "       [ 4.49494949],\n",
              "       [ 4.6969697 ],\n",
              "       [ 4.8989899 ]])"
            ]
          },
          "metadata": {
            "tags": []
          },
          "execution_count": 78
        }
      ]
    },
    {
      "cell_type": "code",
      "metadata": {
        "id": "ClvBLotDHCVt",
        "colab": {
          "base_uri": "https://localhost:8080/"
        },
        "outputId": "5fad0d99-e301-4db6-8554-ac261329ebad"
      },
      "source": [
        "X_adversary = X_train.copy()\n",
        "X_adversary[:, 0] = 2\n",
        "print(X_train.shape, X_adversary.shape)"
      ],
      "execution_count": null,
      "outputs": [
        {
          "output_type": "stream",
          "text": [
            "(50, 1) (50, 1)\n"
          ],
          "name": "stdout"
        }
      ]
    },
    {
      "cell_type": "code",
      "metadata": {
        "colab": {
          "base_uri": "https://localhost:8080/"
        },
        "id": "_u6CJateyofQ",
        "outputId": "e934acaf-04ca-4788-cd0d-8baf1958aaff"
      },
      "source": [
        "X_adversary"
      ],
      "execution_count": null,
      "outputs": [
        {
          "output_type": "execute_result",
          "data": {
            "text/plain": [
              "array([[2.],\n",
              "       [2.],\n",
              "       [2.],\n",
              "       [2.],\n",
              "       [2.],\n",
              "       [2.],\n",
              "       [2.],\n",
              "       [2.],\n",
              "       [2.],\n",
              "       [2.],\n",
              "       [2.],\n",
              "       [2.],\n",
              "       [2.],\n",
              "       [2.],\n",
              "       [2.],\n",
              "       [2.],\n",
              "       [2.],\n",
              "       [2.],\n",
              "       [2.],\n",
              "       [2.],\n",
              "       [2.],\n",
              "       [2.],\n",
              "       [2.],\n",
              "       [2.],\n",
              "       [2.],\n",
              "       [2.],\n",
              "       [2.],\n",
              "       [2.],\n",
              "       [2.],\n",
              "       [2.],\n",
              "       [2.],\n",
              "       [2.],\n",
              "       [2.],\n",
              "       [2.],\n",
              "       [2.],\n",
              "       [2.],\n",
              "       [2.],\n",
              "       [2.],\n",
              "       [2.],\n",
              "       [2.],\n",
              "       [2.],\n",
              "       [2.],\n",
              "       [2.],\n",
              "       [2.],\n",
              "       [2.],\n",
              "       [2.],\n",
              "       [2.],\n",
              "       [2.],\n",
              "       [2.],\n",
              "       [2.]])"
            ]
          },
          "metadata": {
            "tags": []
          },
          "execution_count": 80
        }
      ]
    },
    {
      "cell_type": "code",
      "metadata": {
        "colab": {
          "base_uri": "https://localhost:8080/",
          "height": 358
        },
        "id": "X-xlOw0FyhlP",
        "outputId": "7bd69f98-3d7a-47cb-9e31-5beaf0a94bcc"
      },
      "source": [
        "w_adversary = fit(X_adversary, y_train)\n",
        "w_adversary"
      ],
      "execution_count": null,
      "outputs": [
        {
          "output_type": "error",
          "ename": "LinAlgError",
          "evalue": "ignored",
          "traceback": [
            "\u001b[0;31m---------------------------------------------------------------------------\u001b[0m",
            "\u001b[0;31mLinAlgError\u001b[0m                               Traceback (most recent call last)",
            "\u001b[0;32m<ipython-input-81-9efc575ed364>\u001b[0m in \u001b[0;36m<module>\u001b[0;34m()\u001b[0m\n\u001b[0;32m----> 1\u001b[0;31m \u001b[0mw_adversary\u001b[0m \u001b[0;34m=\u001b[0m \u001b[0mfit\u001b[0m\u001b[0;34m(\u001b[0m\u001b[0mX_adversary\u001b[0m\u001b[0;34m,\u001b[0m \u001b[0my_train\u001b[0m\u001b[0;34m)\u001b[0m\u001b[0;34m\u001b[0m\u001b[0;34m\u001b[0m\u001b[0m\n\u001b[0m\u001b[1;32m      2\u001b[0m \u001b[0mw_adversary\u001b[0m\u001b[0;34m\u001b[0m\u001b[0;34m\u001b[0m\u001b[0m\n",
            "\u001b[0;32m<ipython-input-4-3f743da5b218>\u001b[0m in \u001b[0;36mfit\u001b[0;34m(X, y)\u001b[0m\n\u001b[1;32m      2\u001b[0m     \u001b[0mn\u001b[0m\u001b[0;34m,\u001b[0m \u001b[0mk\u001b[0m \u001b[0;34m=\u001b[0m \u001b[0mX\u001b[0m\u001b[0;34m.\u001b[0m\u001b[0mshape\u001b[0m\u001b[0;34m\u001b[0m\u001b[0;34m\u001b[0m\u001b[0m\n\u001b[1;32m      3\u001b[0m     \u001b[0mX\u001b[0m \u001b[0;34m=\u001b[0m \u001b[0mnp\u001b[0m\u001b[0;34m.\u001b[0m\u001b[0mhstack\u001b[0m\u001b[0;34m(\u001b[0m\u001b[0;34m(\u001b[0m\u001b[0mX\u001b[0m\u001b[0;34m,\u001b[0m \u001b[0mnp\u001b[0m\u001b[0;34m.\u001b[0m\u001b[0mones\u001b[0m\u001b[0;34m(\u001b[0m\u001b[0;34m(\u001b[0m\u001b[0mn\u001b[0m\u001b[0;34m,\u001b[0m \u001b[0;36m1\u001b[0m\u001b[0;34m)\u001b[0m\u001b[0;34m)\u001b[0m\u001b[0;34m)\u001b[0m\u001b[0;34m)\u001b[0m\u001b[0;34m\u001b[0m\u001b[0;34m\u001b[0m\u001b[0m\n\u001b[0;32m----> 4\u001b[0;31m     \u001b[0mw\u001b[0m \u001b[0;34m=\u001b[0m \u001b[0mnp\u001b[0m\u001b[0;34m.\u001b[0m\u001b[0mlinalg\u001b[0m\u001b[0;34m.\u001b[0m\u001b[0minv\u001b[0m\u001b[0;34m(\u001b[0m\u001b[0mX\u001b[0m\u001b[0;34m.\u001b[0m\u001b[0mT\u001b[0m \u001b[0;34m@\u001b[0m \u001b[0mX\u001b[0m\u001b[0;34m)\u001b[0m \u001b[0;34m@\u001b[0m \u001b[0mX\u001b[0m\u001b[0;34m.\u001b[0m\u001b[0mT\u001b[0m \u001b[0;34m@\u001b[0m \u001b[0my\u001b[0m\u001b[0;34m\u001b[0m\u001b[0;34m\u001b[0m\u001b[0m\n\u001b[0m\u001b[1;32m      5\u001b[0m     \u001b[0;32mreturn\u001b[0m \u001b[0mw\u001b[0m\u001b[0;34m\u001b[0m\u001b[0;34m\u001b[0m\u001b[0m\n\u001b[1;32m      6\u001b[0m \u001b[0;34m\u001b[0m\u001b[0m\n",
            "\u001b[0;32m<__array_function__ internals>\u001b[0m in \u001b[0;36minv\u001b[0;34m(*args, **kwargs)\u001b[0m\n",
            "\u001b[0;32m/usr/local/lib/python3.6/dist-packages/numpy/linalg/linalg.py\u001b[0m in \u001b[0;36minv\u001b[0;34m(a)\u001b[0m\n\u001b[1;32m    544\u001b[0m     \u001b[0msignature\u001b[0m \u001b[0;34m=\u001b[0m \u001b[0;34m'D->D'\u001b[0m \u001b[0;32mif\u001b[0m \u001b[0misComplexType\u001b[0m\u001b[0;34m(\u001b[0m\u001b[0mt\u001b[0m\u001b[0;34m)\u001b[0m \u001b[0;32melse\u001b[0m \u001b[0;34m'd->d'\u001b[0m\u001b[0;34m\u001b[0m\u001b[0;34m\u001b[0m\u001b[0m\n\u001b[1;32m    545\u001b[0m     \u001b[0mextobj\u001b[0m \u001b[0;34m=\u001b[0m \u001b[0mget_linalg_error_extobj\u001b[0m\u001b[0;34m(\u001b[0m\u001b[0m_raise_linalgerror_singular\u001b[0m\u001b[0;34m)\u001b[0m\u001b[0;34m\u001b[0m\u001b[0;34m\u001b[0m\u001b[0m\n\u001b[0;32m--> 546\u001b[0;31m     \u001b[0mainv\u001b[0m \u001b[0;34m=\u001b[0m \u001b[0m_umath_linalg\u001b[0m\u001b[0;34m.\u001b[0m\u001b[0minv\u001b[0m\u001b[0;34m(\u001b[0m\u001b[0ma\u001b[0m\u001b[0;34m,\u001b[0m \u001b[0msignature\u001b[0m\u001b[0;34m=\u001b[0m\u001b[0msignature\u001b[0m\u001b[0;34m,\u001b[0m \u001b[0mextobj\u001b[0m\u001b[0;34m=\u001b[0m\u001b[0mextobj\u001b[0m\u001b[0;34m)\u001b[0m\u001b[0;34m\u001b[0m\u001b[0;34m\u001b[0m\u001b[0m\n\u001b[0m\u001b[1;32m    547\u001b[0m     \u001b[0;32mreturn\u001b[0m \u001b[0mwrap\u001b[0m\u001b[0;34m(\u001b[0m\u001b[0mainv\u001b[0m\u001b[0;34m.\u001b[0m\u001b[0mastype\u001b[0m\u001b[0;34m(\u001b[0m\u001b[0mresult_t\u001b[0m\u001b[0;34m,\u001b[0m \u001b[0mcopy\u001b[0m\u001b[0;34m=\u001b[0m\u001b[0;32mFalse\u001b[0m\u001b[0;34m)\u001b[0m\u001b[0;34m)\u001b[0m\u001b[0;34m\u001b[0m\u001b[0;34m\u001b[0m\u001b[0m\n\u001b[1;32m    548\u001b[0m \u001b[0;34m\u001b[0m\u001b[0m\n",
            "\u001b[0;32m/usr/local/lib/python3.6/dist-packages/numpy/linalg/linalg.py\u001b[0m in \u001b[0;36m_raise_linalgerror_singular\u001b[0;34m(err, flag)\u001b[0m\n\u001b[1;32m     86\u001b[0m \u001b[0;34m\u001b[0m\u001b[0m\n\u001b[1;32m     87\u001b[0m \u001b[0;32mdef\u001b[0m \u001b[0m_raise_linalgerror_singular\u001b[0m\u001b[0;34m(\u001b[0m\u001b[0merr\u001b[0m\u001b[0;34m,\u001b[0m \u001b[0mflag\u001b[0m\u001b[0;34m)\u001b[0m\u001b[0;34m:\u001b[0m\u001b[0;34m\u001b[0m\u001b[0;34m\u001b[0m\u001b[0m\n\u001b[0;32m---> 88\u001b[0;31m     \u001b[0;32mraise\u001b[0m \u001b[0mLinAlgError\u001b[0m\u001b[0;34m(\u001b[0m\u001b[0;34m\"Singular matrix\"\u001b[0m\u001b[0;34m)\u001b[0m\u001b[0;34m\u001b[0m\u001b[0;34m\u001b[0m\u001b[0m\n\u001b[0m\u001b[1;32m     89\u001b[0m \u001b[0;34m\u001b[0m\u001b[0m\n\u001b[1;32m     90\u001b[0m \u001b[0;32mdef\u001b[0m \u001b[0m_raise_linalgerror_nonposdef\u001b[0m\u001b[0;34m(\u001b[0m\u001b[0merr\u001b[0m\u001b[0;34m,\u001b[0m \u001b[0mflag\u001b[0m\u001b[0;34m)\u001b[0m\u001b[0;34m:\u001b[0m\u001b[0;34m\u001b[0m\u001b[0;34m\u001b[0m\u001b[0m\n",
            "\u001b[0;31mLinAlgError\u001b[0m: Singular matrix"
          ]
        }
      ]
    },
    {
      "cell_type": "markdown",
      "metadata": {
        "id": "R1iQ4tbeyuN0"
      },
      "source": [
        "**ВОПРОС** Почему так произошло??"
      ]
    },
    {
      "cell_type": "code",
      "metadata": {
        "id": "6Pic637Cy4nm"
      },
      "source": [
        "#TODO"
      ],
      "execution_count": null,
      "outputs": []
    },
    {
      "cell_type": "code",
      "metadata": {
        "id": "swMli_8vy71y"
      },
      "source": [
        ""
      ],
      "execution_count": null,
      "outputs": []
    },
    {
      "cell_type": "markdown",
      "metadata": {
        "id": "GTUfDWr4Iwxr"
      },
      "source": [
        "**Что произошло**\n",
        "\n",
        "Ранг матрицы $\\mathrm{X_{adversary}}$ равен 1, а размерность признакового пространства равна 2. Из линейной алгебры известно, что ранг произведения матриц не превосходит минимального ранга этих двух матриц: \n",
        "\n",
        "$$\n",
        "    \\mathrm{rk} AB \\leq \\min \\{\\mathrm{rk} A, \\mathrm{rk} B\\}\n",
        "$$\n",
        "\n",
        "К чему это здесь приводит? Посмотрим на аналитическое решение\n",
        "$$\n",
        "    w = (X^{\\top} X)^{-1} X^{\\top} y\n",
        "$$\n",
        "\n",
        "Нас интересует компонента $(X^{\\top} X)^{-1}$. Здесь обратная не определена, потому что ранг матрицы $X^{\\top} X$ не превосходит единицы. При этом матрица $X^{\\top} X$ -- квадратная, размера 2x2. Из линейной алгебры мы знаем, что квадратная матрица обратима только тогда, когда она полноранговая. Именно об этом Вам сигналит ошибка LinAlgError: Вы пытаетесь обратить матрицу, которую обращать нельзя. Что делать?\n",
        "\n",
        "**Определение ($L_{p}$-регуляризация):**\n",
        "Пусть задана линейная регрессия с вектором весов $w$ и функцией ошибок $\\mathcal{L}(y, \\widehat{y}(w))$ (например, среднеквадратичная ошибка), тогда к ней можно добавить $L_{p}$-регуляризацию изменив функционал ошибки следующим образом:\n",
        "\n",
        "$$\n",
        "    \\mathcal{L}(y, \\widehat{y}(w)) + \\alpha \\|w\\|_{p}^{p} \\to \\min\\limits_{w}\n",
        "$$\n",
        "\n",
        "Если $p$ равно 2, то это называют **Ridge**-регуляризацией, а если $p$ равно 1, то **Lasso**-регуляризацией.\n",
        "\n",
        "**Утверждение:** $L_{2}$-регуляризация позволяет избежать этой проблемы ($L_{p}$-нормы для произвольных $p$, на самом деле, тоже, но это уже нетривиально доказывать).\n",
        "\n",
        "**Определение (напоминание):** Собственные значения матрицы $A$ это такие числа $\\lambda$, что существует ненулевой вектор $x$, такой что $Ax = \\lambda x$\n",
        "\n",
        "А как вообще понять, насколько плохо всё с матрицей в плане того, что с ней будет происходить при попытке её обратить?\n",
        "Посчитать коэффициент обусловленности: отношение максимального собственного значения к минимальному. Чем он больше, тем всё хуже."
      ]
    },
    {
      "cell_type": "code",
      "metadata": {
        "id": "DW79B9eNPHYf",
        "colab": {
          "base_uri": "https://localhost:8080/"
        },
        "outputId": "9a213e2d-11fa-4a76-baa7-54200068d9c7"
      },
      "source": [
        "eigenvals, eigenvectors = np.linalg.eig(X.reshape(1,-1).T @ X.reshape(1,-1))\n",
        "eigenvals.max() / eigenvals.min()"
      ],
      "execution_count": null,
      "outputs": [
        {
          "output_type": "execute_result",
          "data": {
            "text/plain": [
              "(-3.403409617281981e+16-0j)"
            ]
          },
          "metadata": {
            "tags": []
          },
          "execution_count": 85
        }
      ]
    },
    {
      "cell_type": "code",
      "metadata": {
        "id": "m5x9U-gELRjY"
      },
      "source": [
        "from sklearn.linear_model import LinearRegression, Ridge, Lasso"
      ],
      "execution_count": null,
      "outputs": []
    },
    {
      "cell_type": "code",
      "metadata": {
        "id": "UgaA6qihMav8"
      },
      "source": [
        "from sklearn.datasets import load_wine"
      ],
      "execution_count": null,
      "outputs": []
    },
    {
      "cell_type": "code",
      "metadata": {
        "id": "zTf8-WxNMhF7",
        "colab": {
          "base_uri": "https://localhost:8080/"
        },
        "outputId": "70387c16-45b8-4fe7-d079-4ef74c49def3"
      },
      "source": [
        "wine_data = load_wine()\n",
        "wine_data"
      ],
      "execution_count": null,
      "outputs": [
        {
          "output_type": "execute_result",
          "data": {
            "text/plain": [
              "{'DESCR': '.. _wine_dataset:\\n\\nWine recognition dataset\\n------------------------\\n\\n**Data Set Characteristics:**\\n\\n    :Number of Instances: 178 (50 in each of three classes)\\n    :Number of Attributes: 13 numeric, predictive attributes and the class\\n    :Attribute Information:\\n \\t\\t- Alcohol\\n \\t\\t- Malic acid\\n \\t\\t- Ash\\n\\t\\t- Alcalinity of ash  \\n \\t\\t- Magnesium\\n\\t\\t- Total phenols\\n \\t\\t- Flavanoids\\n \\t\\t- Nonflavanoid phenols\\n \\t\\t- Proanthocyanins\\n\\t\\t- Color intensity\\n \\t\\t- Hue\\n \\t\\t- OD280/OD315 of diluted wines\\n \\t\\t- Proline\\n\\n    - class:\\n            - class_0\\n            - class_1\\n            - class_2\\n\\t\\t\\n    :Summary Statistics:\\n    \\n    ============================= ==== ===== ======= =====\\n                                   Min   Max   Mean     SD\\n    ============================= ==== ===== ======= =====\\n    Alcohol:                      11.0  14.8    13.0   0.8\\n    Malic Acid:                   0.74  5.80    2.34  1.12\\n    Ash:                          1.36  3.23    2.36  0.27\\n    Alcalinity of Ash:            10.6  30.0    19.5   3.3\\n    Magnesium:                    70.0 162.0    99.7  14.3\\n    Total Phenols:                0.98  3.88    2.29  0.63\\n    Flavanoids:                   0.34  5.08    2.03  1.00\\n    Nonflavanoid Phenols:         0.13  0.66    0.36  0.12\\n    Proanthocyanins:              0.41  3.58    1.59  0.57\\n    Colour Intensity:              1.3  13.0     5.1   2.3\\n    Hue:                          0.48  1.71    0.96  0.23\\n    OD280/OD315 of diluted wines: 1.27  4.00    2.61  0.71\\n    Proline:                       278  1680     746   315\\n    ============================= ==== ===== ======= =====\\n\\n    :Missing Attribute Values: None\\n    :Class Distribution: class_0 (59), class_1 (71), class_2 (48)\\n    :Creator: R.A. Fisher\\n    :Donor: Michael Marshall (MARSHALL%PLU@io.arc.nasa.gov)\\n    :Date: July, 1988\\n\\nThis is a copy of UCI ML Wine recognition datasets.\\nhttps://archive.ics.uci.edu/ml/machine-learning-databases/wine/wine.data\\n\\nThe data is the results of a chemical analysis of wines grown in the same\\nregion in Italy by three different cultivators. There are thirteen different\\nmeasurements taken for different constituents found in the three types of\\nwine.\\n\\nOriginal Owners: \\n\\nForina, M. et al, PARVUS - \\nAn Extendible Package for Data Exploration, Classification and Correlation. \\nInstitute of Pharmaceutical and Food Analysis and Technologies,\\nVia Brigata Salerno, 16147 Genoa, Italy.\\n\\nCitation:\\n\\nLichman, M. (2013). UCI Machine Learning Repository\\n[https://archive.ics.uci.edu/ml]. Irvine, CA: University of California,\\nSchool of Information and Computer Science. \\n\\n.. topic:: References\\n\\n  (1) S. Aeberhard, D. Coomans and O. de Vel, \\n  Comparison of Classifiers in High Dimensional Settings, \\n  Tech. Rep. no. 92-02, (1992), Dept. of Computer Science and Dept. of  \\n  Mathematics and Statistics, James Cook University of North Queensland. \\n  (Also submitted to Technometrics). \\n\\n  The data was used with many others for comparing various \\n  classifiers. The classes are separable, though only RDA \\n  has achieved 100% correct classification. \\n  (RDA : 100%, QDA 99.4%, LDA 98.9%, 1NN 96.1% (z-transformed data)) \\n  (All results using the leave-one-out technique) \\n\\n  (2) S. Aeberhard, D. Coomans and O. de Vel, \\n  \"THE CLASSIFICATION PERFORMANCE OF RDA\" \\n  Tech. Rep. no. 92-01, (1992), Dept. of Computer Science and Dept. of \\n  Mathematics and Statistics, James Cook University of North Queensland. \\n  (Also submitted to Journal of Chemometrics).\\n',\n",
              " 'data': array([[1.423e+01, 1.710e+00, 2.430e+00, ..., 1.040e+00, 3.920e+00,\n",
              "         1.065e+03],\n",
              "        [1.320e+01, 1.780e+00, 2.140e+00, ..., 1.050e+00, 3.400e+00,\n",
              "         1.050e+03],\n",
              "        [1.316e+01, 2.360e+00, 2.670e+00, ..., 1.030e+00, 3.170e+00,\n",
              "         1.185e+03],\n",
              "        ...,\n",
              "        [1.327e+01, 4.280e+00, 2.260e+00, ..., 5.900e-01, 1.560e+00,\n",
              "         8.350e+02],\n",
              "        [1.317e+01, 2.590e+00, 2.370e+00, ..., 6.000e-01, 1.620e+00,\n",
              "         8.400e+02],\n",
              "        [1.413e+01, 4.100e+00, 2.740e+00, ..., 6.100e-01, 1.600e+00,\n",
              "         5.600e+02]]),\n",
              " 'feature_names': ['alcohol',\n",
              "  'malic_acid',\n",
              "  'ash',\n",
              "  'alcalinity_of_ash',\n",
              "  'magnesium',\n",
              "  'total_phenols',\n",
              "  'flavanoids',\n",
              "  'nonflavanoid_phenols',\n",
              "  'proanthocyanins',\n",
              "  'color_intensity',\n",
              "  'hue',\n",
              "  'od280/od315_of_diluted_wines',\n",
              "  'proline'],\n",
              " 'target': array([0, 0, 0, 0, 0, 0, 0, 0, 0, 0, 0, 0, 0, 0, 0, 0, 0, 0, 0, 0, 0, 0,\n",
              "        0, 0, 0, 0, 0, 0, 0, 0, 0, 0, 0, 0, 0, 0, 0, 0, 0, 0, 0, 0, 0, 0,\n",
              "        0, 0, 0, 0, 0, 0, 0, 0, 0, 0, 0, 0, 0, 0, 0, 1, 1, 1, 1, 1, 1, 1,\n",
              "        1, 1, 1, 1, 1, 1, 1, 1, 1, 1, 1, 1, 1, 1, 1, 1, 1, 1, 1, 1, 1, 1,\n",
              "        1, 1, 1, 1, 1, 1, 1, 1, 1, 1, 1, 1, 1, 1, 1, 1, 1, 1, 1, 1, 1, 1,\n",
              "        1, 1, 1, 1, 1, 1, 1, 1, 1, 1, 1, 1, 1, 1, 1, 1, 1, 1, 1, 1, 2, 2,\n",
              "        2, 2, 2, 2, 2, 2, 2, 2, 2, 2, 2, 2, 2, 2, 2, 2, 2, 2, 2, 2, 2, 2,\n",
              "        2, 2, 2, 2, 2, 2, 2, 2, 2, 2, 2, 2, 2, 2, 2, 2, 2, 2, 2, 2, 2, 2,\n",
              "        2, 2]),\n",
              " 'target_names': array(['class_0', 'class_1', 'class_2'], dtype='<U7')}"
            ]
          },
          "metadata": {
            "tags": []
          },
          "execution_count": 34
        }
      ]
    },
    {
      "cell_type": "code",
      "metadata": {
        "id": "gv9QhZ29Mb50"
      },
      "source": [
        "X = pd.DataFrame(wine_data['data'], columns=wine_data['feature_names'])\n",
        "y = wine_data['target']"
      ],
      "execution_count": null,
      "outputs": []
    },
    {
      "cell_type": "code",
      "metadata": {
        "id": "2X3jgBGuMeDE",
        "colab": {
          "base_uri": "https://localhost:8080/",
          "height": 607
        },
        "outputId": "76254ba9-704b-41ca-bd97-c6a1a4f06ead"
      },
      "source": [
        "_ = X.hist(X.columns, figsize=(10, 10))"
      ],
      "execution_count": null,
      "outputs": [
        {
          "output_type": "display_data",
          "data": {
            "image/png": "[encoded data removed]",
            "text/plain": [
              "<Figure size 720x720 with 16 Axes>"
            ]
          },
          "metadata": {
            "tags": [],
            "needs_background": "light"
          }
        }
      ]
    },
    {
      "cell_type": "code",
      "metadata": {
        "id": "Z5WwzMmiMfyr",
        "colab": {
          "base_uri": "https://localhost:8080/",
          "height": 539
        },
        "outputId": "d32ae356-a441-49b6-cd19-18276fa23564"
      },
      "source": [
        "import seaborn as sns\n",
        "\n",
        "plt.figure(figsize = (10,6))\n",
        "sns.heatmap(X.corr())"
      ],
      "execution_count": null,
      "outputs": [
        {
          "output_type": "execute_result",
          "data": {
            "text/plain": [
              "<matplotlib.axes._subplots.AxesSubplot at 0x7fbbe649b4e0>"
            ]
          },
          "metadata": {
            "tags": []
          },
          "execution_count": 38
        },
        {
          "output_type": "display_data",
          "data": {
            "image/png": "[encoded data removed]",
            "text/plain": [
              "<Figure size 720x432 with 2 Axes>"
            ]
          },
          "metadata": {
            "tags": [],
            "needs_background": "light"
          }
        }
      ]
    },
    {
      "cell_type": "code",
      "metadata": {
        "id": "tn3C6aLWNg-E",
        "colab": {
          "base_uri": "https://localhost:8080/",
          "height": 747
        },
        "outputId": "70446e01-2d2a-40cb-9733-ecb9f9a65b2e"
      },
      "source": [
        "sns.clustermap(X.corr())"
      ],
      "execution_count": null,
      "outputs": [
        {
          "output_type": "execute_result",
          "data": {
            "text/plain": [
              "<seaborn.matrix.ClusterGrid at 0x7fbbe60db278>"
            ]
          },
          "metadata": {
            "tags": []
          },
          "execution_count": 39
        },
        {
          "output_type": "display_data",
          "data": {
            "image/png": "[encoded data removed]",
            "text/plain": [
              "<Figure size 720x720 with 4 Axes>"
            ]
          },
          "metadata": {
            "tags": [],
            "needs_background": "light"
          }
        }
      ]
    },
    {
      "cell_type": "code",
      "metadata": {
        "id": "eHde418VN8cR",
        "colab": {
          "base_uri": "https://localhost:8080/"
        },
        "outputId": "8c9d01e3-5e4e-49b9-ea29-7a147a2bcaf6"
      },
      "source": [
        "X.corr().loc['total_phenols', 'flavanoids']"
      ],
      "execution_count": null,
      "outputs": [
        {
          "output_type": "execute_result",
          "data": {
            "text/plain": [
              "0.8645635000951156"
            ]
          },
          "metadata": {
            "tags": []
          },
          "execution_count": 40
        }
      ]
    },
    {
      "cell_type": "code",
      "metadata": {
        "id": "ZewQhvWnMipr"
      },
      "source": [
        "from sklearn.model_selection import train_test_split\n",
        "\n",
        "X_train, X_test, y_train, y_test = train_test_split(\n",
        "    X, y, test_size=0.3, random_state=99, stratify=y\n",
        ")"
      ],
      "execution_count": null,
      "outputs": []
    },
    {
      "cell_type": "code",
      "metadata": {
        "id": "yjfmaMKIMlWT"
      },
      "source": [
        "from sklearn.preprocessing import StandardScaler\n",
        "\n",
        "scaler = StandardScaler()\n",
        "\n",
        "X_train = scaler.fit_transform(X_train)\n",
        "X_test = scaler.transform(X_test)"
      ],
      "execution_count": null,
      "outputs": []
    },
    {
      "cell_type": "code",
      "metadata": {
        "id": "VFdldjDfMsGD"
      },
      "source": [
        "from sklearn.metrics import mean_squared_error"
      ],
      "execution_count": null,
      "outputs": []
    },
    {
      "cell_type": "code",
      "metadata": {
        "id": "oaslBvEsMnKj",
        "colab": {
          "base_uri": "https://localhost:8080/"
        },
        "outputId": "89ba1a34-124e-4e2c-f018-16094168defc"
      },
      "source": [
        "regressor = LinearRegression()\n",
        "\n",
        "regressor.fit(X_train, y_train)\n",
        "test_predictions = regressor.predict(X_test)\n",
        "\n",
        "print('test mse: ', mean_squared_error(y_test, test_predictions))\n",
        "print('r2 score: ', r2_score(y_test, test_predictions))"
      ],
      "execution_count": null,
      "outputs": [
        {
          "output_type": "stream",
          "text": [
            "test mse:  0.06962900442881438\n",
            "r2 score:  0.8854832617515946\n"
          ],
          "name": "stdout"
        }
      ]
    },
    {
      "cell_type": "code",
      "metadata": {
        "id": "1eGcAHp4UiMq",
        "colab": {
          "base_uri": "https://localhost:8080/",
          "height": 419
        },
        "outputId": "fdd5ebeb-2136-4cca-e5a6-e99cf0295162"
      },
      "source": [
        "X"
      ],
      "execution_count": null,
      "outputs": [
        {
          "output_type": "execute_result",
          "data": {
            "text/html": [
              "<div>\n",
              "<style scoped>\n",
              "    .dataframe tbody tr th:only-of-type {\n",
              "        vertical-align: middle;\n",
              "    }\n",
              "\n",
              "    .dataframe tbody tr th {\n",
              "        vertical-align: top;\n",
              "    }\n",
              "\n",
              "    .dataframe thead th {\n",
              "        text-align: right;\n",
              "    }\n",
              "</style>\n",
              "<table border=\"1\" class=\"dataframe\">\n",
              "  <thead>\n",
              "    <tr style=\"text-align: right;\">\n",
              "      <th></th>\n",
              "      <th>alcohol</th>\n",
              "      <th>malic_acid</th>\n",
              "      <th>ash</th>\n",
              "      <th>alcalinity_of_ash</th>\n",
              "      <th>magnesium</th>\n",
              "      <th>total_phenols</th>\n",
              "      <th>flavanoids</th>\n",
              "      <th>nonflavanoid_phenols</th>\n",
              "      <th>proanthocyanins</th>\n",
              "      <th>color_intensity</th>\n",
              "      <th>hue</th>\n",
              "      <th>od280/od315_of_diluted_wines</th>\n",
              "      <th>proline</th>\n",
              "    </tr>\n",
              "  </thead>\n",
              "  <tbody>\n",
              "    <tr>\n",
              "      <th>0</th>\n",
              "      <td>14.23</td>\n",
              "      <td>1.71</td>\n",
              "      <td>2.43</td>\n",
              "      <td>15.6</td>\n",
              "      <td>127.0</td>\n",
              "      <td>2.80</td>\n",
              "      <td>3.06</td>\n",
              "      <td>0.28</td>\n",
              "      <td>2.29</td>\n",
              "      <td>5.64</td>\n",
              "      <td>1.04</td>\n",
              "      <td>3.92</td>\n",
              "      <td>1065.0</td>\n",
              "    </tr>\n",
              "    <tr>\n",
              "      <th>1</th>\n",
              "      <td>13.20</td>\n",
              "      <td>1.78</td>\n",
              "      <td>2.14</td>\n",
              "      <td>11.2</td>\n",
              "      <td>100.0</td>\n",
              "      <td>2.65</td>\n",
              "      <td>2.76</td>\n",
              "      <td>0.26</td>\n",
              "      <td>1.28</td>\n",
              "      <td>4.38</td>\n",
              "      <td>1.05</td>\n",
              "      <td>3.40</td>\n",
              "      <td>1050.0</td>\n",
              "    </tr>\n",
              "    <tr>\n",
              "      <th>2</th>\n",
              "      <td>13.16</td>\n",
              "      <td>2.36</td>\n",
              "      <td>2.67</td>\n",
              "      <td>18.6</td>\n",
              "      <td>101.0</td>\n",
              "      <td>2.80</td>\n",
              "      <td>3.24</td>\n",
              "      <td>0.30</td>\n",
              "      <td>2.81</td>\n",
              "      <td>5.68</td>\n",
              "      <td>1.03</td>\n",
              "      <td>3.17</td>\n",
              "      <td>1185.0</td>\n",
              "    </tr>\n",
              "    <tr>\n",
              "      <th>3</th>\n",
              "      <td>14.37</td>\n",
              "      <td>1.95</td>\n",
              "      <td>2.50</td>\n",
              "      <td>16.8</td>\n",
              "      <td>113.0</td>\n",
              "      <td>3.85</td>\n",
              "      <td>3.49</td>\n",
              "      <td>0.24</td>\n",
              "      <td>2.18</td>\n",
              "      <td>7.80</td>\n",
              "      <td>0.86</td>\n",
              "      <td>3.45</td>\n",
              "      <td>1480.0</td>\n",
              "    </tr>\n",
              "    <tr>\n",
              "      <th>4</th>\n",
              "      <td>13.24</td>\n",
              "      <td>2.59</td>\n",
              "      <td>2.87</td>\n",
              "      <td>21.0</td>\n",
              "      <td>118.0</td>\n",
              "      <td>2.80</td>\n",
              "      <td>2.69</td>\n",
              "      <td>0.39</td>\n",
              "      <td>1.82</td>\n",
              "      <td>4.32</td>\n",
              "      <td>1.04</td>\n",
              "      <td>2.93</td>\n",
              "      <td>735.0</td>\n",
              "    </tr>\n",
              "    <tr>\n",
              "      <th>...</th>\n",
              "      <td>...</td>\n",
              "      <td>...</td>\n",
              "      <td>...</td>\n",
              "      <td>...</td>\n",
              "      <td>...</td>\n",
              "      <td>...</td>\n",
              "      <td>...</td>\n",
              "      <td>...</td>\n",
              "      <td>...</td>\n",
              "      <td>...</td>\n",
              "      <td>...</td>\n",
              "      <td>...</td>\n",
              "      <td>...</td>\n",
              "    </tr>\n",
              "    <tr>\n",
              "      <th>173</th>\n",
              "      <td>13.71</td>\n",
              "      <td>5.65</td>\n",
              "      <td>2.45</td>\n",
              "      <td>20.5</td>\n",
              "      <td>95.0</td>\n",
              "      <td>1.68</td>\n",
              "      <td>0.61</td>\n",
              "      <td>0.52</td>\n",
              "      <td>1.06</td>\n",
              "      <td>7.70</td>\n",
              "      <td>0.64</td>\n",
              "      <td>1.74</td>\n",
              "      <td>740.0</td>\n",
              "    </tr>\n",
              "    <tr>\n",
              "      <th>174</th>\n",
              "      <td>13.40</td>\n",
              "      <td>3.91</td>\n",
              "      <td>2.48</td>\n",
              "      <td>23.0</td>\n",
              "      <td>102.0</td>\n",
              "      <td>1.80</td>\n",
              "      <td>0.75</td>\n",
              "      <td>0.43</td>\n",
              "      <td>1.41</td>\n",
              "      <td>7.30</td>\n",
              "      <td>0.70</td>\n",
              "      <td>1.56</td>\n",
              "      <td>750.0</td>\n",
              "    </tr>\n",
              "    <tr>\n",
              "      <th>175</th>\n",
              "      <td>13.27</td>\n",
              "      <td>4.28</td>\n",
              "      <td>2.26</td>\n",
              "      <td>20.0</td>\n",
              "      <td>120.0</td>\n",
              "      <td>1.59</td>\n",
              "      <td>0.69</td>\n",
              "      <td>0.43</td>\n",
              "      <td>1.35</td>\n",
              "      <td>10.20</td>\n",
              "      <td>0.59</td>\n",
              "      <td>1.56</td>\n",
              "      <td>835.0</td>\n",
              "    </tr>\n",
              "    <tr>\n",
              "      <th>176</th>\n",
              "      <td>13.17</td>\n",
              "      <td>2.59</td>\n",
              "      <td>2.37</td>\n",
              "      <td>20.0</td>\n",
              "      <td>120.0</td>\n",
              "      <td>1.65</td>\n",
              "      <td>0.68</td>\n",
              "      <td>0.53</td>\n",
              "      <td>1.46</td>\n",
              "      <td>9.30</td>\n",
              "      <td>0.60</td>\n",
              "      <td>1.62</td>\n",
              "      <td>840.0</td>\n",
              "    </tr>\n",
              "    <tr>\n",
              "      <th>177</th>\n",
              "      <td>14.13</td>\n",
              "      <td>4.10</td>\n",
              "      <td>2.74</td>\n",
              "      <td>24.5</td>\n",
              "      <td>96.0</td>\n",
              "      <td>2.05</td>\n",
              "      <td>0.76</td>\n",
              "      <td>0.56</td>\n",
              "      <td>1.35</td>\n",
              "      <td>9.20</td>\n",
              "      <td>0.61</td>\n",
              "      <td>1.60</td>\n",
              "      <td>560.0</td>\n",
              "    </tr>\n",
              "  </tbody>\n",
              "</table>\n",
              "<p>178 rows × 13 columns</p>\n",
              "</div>"
            ],
            "text/plain": [
              "     alcohol  malic_acid   ash  ...   hue  od280/od315_of_diluted_wines  proline\n",
              "0      14.23        1.71  2.43  ...  1.04                          3.92   1065.0\n",
              "1      13.20        1.78  2.14  ...  1.05                          3.40   1050.0\n",
              "2      13.16        2.36  2.67  ...  1.03                          3.17   1185.0\n",
              "3      14.37        1.95  2.50  ...  0.86                          3.45   1480.0\n",
              "4      13.24        2.59  2.87  ...  1.04                          2.93    735.0\n",
              "..       ...         ...   ...  ...   ...                           ...      ...\n",
              "173    13.71        5.65  2.45  ...  0.64                          1.74    740.0\n",
              "174    13.40        3.91  2.48  ...  0.70                          1.56    750.0\n",
              "175    13.27        4.28  2.26  ...  0.59                          1.56    835.0\n",
              "176    13.17        2.59  2.37  ...  0.60                          1.62    840.0\n",
              "177    14.13        4.10  2.74  ...  0.61                          1.60    560.0\n",
              "\n",
              "[178 rows x 13 columns]"
            ]
          },
          "metadata": {
            "tags": []
          },
          "execution_count": 45
        }
      ]
    },
    {
      "cell_type": "code",
      "metadata": {
        "id": "nUrN2soBMoxb",
        "colab": {
          "base_uri": "https://localhost:8080/",
          "height": 502
        },
        "outputId": "70d34e37-a392-4993-802a-cc3681cadf26"
      },
      "source": [
        "plt.figure(figsize=(20, 8))\n",
        "plt.bar(X.columns, regressor.coef_)"
      ],
      "execution_count": null,
      "outputs": [
        {
          "output_type": "execute_result",
          "data": {
            "text/plain": [
              "<BarContainer object of 13 artists>"
            ]
          },
          "metadata": {
            "tags": []
          },
          "execution_count": 47
        },
        {
          "output_type": "display_data",
          "data": {
            "image/png": "[encoded data removed]",
            "text/plain": [
              "<Figure size 1440x576 with 1 Axes>"
            ]
          },
          "metadata": {
            "tags": [],
            "needs_background": "light"
          }
        }
      ]
    },
    {
      "cell_type": "markdown",
      "metadata": {
        "id": "BBT8gghkM0aI"
      },
      "source": [
        "Теперь обратимся к методам с регуляризацией.\n",
        "\n",
        "Ridge (L2-регуляризация) сильно штрафует за слишком большие веса и не очень за малые. При увеличении коэффициента перед регуляризатором веса меняются плавно"
      ]
    },
    {
      "cell_type": "code",
      "metadata": {
        "id": "a4OT2jMXMzz8",
        "colab": {
          "base_uri": "https://localhost:8080/",
          "height": 279
        },
        "outputId": "aeab8bab-35b2-4c3f-f8a4-5b280e6d0c87"
      },
      "source": [
        "alphas = np.linspace(1, 1000, 100)\n",
        "\n",
        "weights = np.empty((len(X.columns), 0))\n",
        "for alpha in alphas:\n",
        "    ridge_regressor = Ridge(alpha)\n",
        "    ridge_regressor.fit(X_train, y_train)\n",
        "    weights = np.hstack((weights, ridge_regressor.coef_.reshape(-1, 1)))\n",
        "plt.plot(alphas, weights.T)\n",
        "plt.xlabel('regularization coef')\n",
        "plt.ylabel('weight value')\n",
        "plt.show()"
      ],
      "execution_count": null,
      "outputs": [
        {
          "output_type": "display_data",
          "data": {
            "image/png": "[encoded data removed]",
            "text/plain": [
              "<Figure size 432x288 with 1 Axes>"
            ]
          },
          "metadata": {
            "tags": [],
            "needs_background": "light"
          }
        }
      ]
    },
    {
      "cell_type": "markdown",
      "metadata": {
        "id": "dRt8FhcHM4f_"
      },
      "source": [
        "Lasso одинаково сильно штрафует малые и большие веса, поэтому при достаточно большом коэффициенте регуляризации многие признаки становятся равными нулю, при этом остаются только наиболее инфромативные. Этот факт можно использовать для решения задачи отбора признаков."
      ]
    },
    {
      "cell_type": "code",
      "metadata": {
        "id": "cBqkQ24lM3lG",
        "colab": {
          "base_uri": "https://localhost:8080/",
          "height": 334
        },
        "outputId": "8e327f7c-29ef-4c31-b4ad-1a70dcadb69d"
      },
      "source": [
        "alphas = np.linspace(0.1, 1, 100)\n",
        "\n",
        "plt.figure(figsize=(10, 5))\n",
        "weights = np.empty((len(X.columns), 0))\n",
        "for alpha in alphas:\n",
        "    lasso_regressor = Lasso(alpha)\n",
        "    lasso_regressor.fit(X_train, y_train)\n",
        "    weights = np.hstack((weights, lasso_regressor.coef_.reshape(-1, 1)))\n",
        "plt.plot(alphas, weights.T)\n",
        "plt.xlabel('regularization coef')\n",
        "plt.ylabel('weight value')\n",
        "plt.grid()\n",
        "plt.show()"
      ],
      "execution_count": null,
      "outputs": [
        {
          "output_type": "display_data",
          "data": {
            "image/png": "[encoded data removed]",
            "text/plain": [
              "<Figure size 720x360 with 1 Axes>"
            ]
          },
          "metadata": {
            "tags": [],
            "needs_background": "light"
          }
        }
      ]
    },
    {
      "cell_type": "code",
      "metadata": {
        "id": "wNcemWQ4My2y",
        "colab": {
          "base_uri": "https://localhost:8080/"
        },
        "outputId": "09203b82-af7b-48a3-f6da-68efb5aee6d2"
      },
      "source": [
        "ridge = Ridge(0.1)\n",
        "ridge.fit(X_train, y_train)\n",
        "print('\\n r2 score ridge: ', r2_score(y_test, ridge.predict(X_test)))\n",
        "print('test mse ridge: ', mean_squared_error(y_test, ridge.predict(X_test)))\n",
        "\n",
        "lasso = Lasso(0.1)\n",
        "lasso.fit(X_train, y_train)\n",
        "print('\\n r2 score lasso: ', r2_score(y_test, lasso.predict(X_test)))\n",
        "print('test mse lasso: ', mean_squared_error(y_test, lasso.predict(X_test)))"
      ],
      "execution_count": null,
      "outputs": [
        {
          "output_type": "stream",
          "text": [
            "\n",
            " r2 score ridge:  0.8855667777832188\n",
            "test mse ridge:  0.06957822461946266\n",
            "\n",
            " r2 score lasso:  0.8392508798545893\n",
            "test mse lasso:  0.09773943416248733\n"
          ],
          "name": "stdout"
        }
      ]
    },
    {
      "cell_type": "code",
      "metadata": {
        "id": "EGQcTMVoBnYP"
      },
      "source": [
        ""
      ],
      "execution_count": null,
      "outputs": []
    }
  ]
}