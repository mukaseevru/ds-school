{
 "cells": [
  {
   "cell_type": "markdown",
   "metadata": {
    "colab_type": "text",
    "id": "view-in-github"
   },
   "source": [
    "<a href=\"https://colab.research.google.com/github/mukaseevru/ds-school/blob/main/lesson%207/HW_7_lesson.ipynb\" target=\"_parent\"><img src=\"https://colab.research.google.com/assets/colab-badge.svg\" alt=\"Open In Colab\"/></a>"
   ]
  },
  {
   "cell_type": "markdown",
   "metadata": {
    "id": "PDkG3Bis38V_"
   },
   "source": [
    "# Домашнее задание к 7 уроку.\n",
    "\n",
    "**Дедлайн: 23.12.2020**"
   ]
  },
  {
   "cell_type": "markdown",
   "metadata": {
    "id": "T_frQ-789isH"
   },
   "source": [
    "colab: https://colab.research.google.com/drive/1KLD5pDCa0ka_g1U4D2ExihaaEwXzfTPW?usp=sharing"
   ]
  },
  {
   "cell_type": "markdown",
   "metadata": {
    "id": "PzhnPFbL3igE"
   },
   "source": [
    "**ФОРМАТ ОТЧЕТНОСТИ:** pdf-файл с решенными задачами (задачи 2-9), ноутбук с проверкой решения этих задач (при помощи numpy), и pdf файл с отчетом по 1-ой задаче (краткий пересказ статьи). Вы можете оформить решения с использованием Markdown (писать текст прямо в юпитер ноутбуке), Latex, Word или же решить в тетради и сформировать pdf из фото.\n",
    "\n",
    "Итого: 2 pdf файла.\n",
    "\n",
    "Все задания необходимо выполнять ВРУЧНУЮ. А также проверить корректность полученных результатов с использованием Numpy.\n",
    "\n",
    "Туториал как писать \"Latex-формулы\" прямо в Юпитере:\n",
    "https://www.youtube.com/watch?v=vSc25kdgecg\n",
    "\n",
    "Ноутбук с примером формул: https://nbviewer.jupyter.org/github/postlogist/course_opt/blob/master/jupyter_tutorial/02_markdown.ipynb\n"
   ]
  },
  {
   "cell_type": "markdown",
   "metadata": {
    "id": "RU2u4fG55fBq"
   },
   "source": [
    "## Пример\n",
    "\n",
    "\n",
    "Найдем ранг матрицы \n",
    "\n",
    "$$\\begin{pmatrix}\n",
    "1 & 2 & 3 & 4 & 5\\\\ \n",
    "2 & 5 & 8 & 11 & 14\\\\ \n",
    "3 & 9 & 14 & 20 & 26\\\\ \n",
    "5 & 14 & 22 & 31 & 40\n",
    "\\end{pmatrix}.$$\n",
    "\n",
    "Четвертая строка является суммой второй и третьей строк, а значит, ее можно отбросить:\n",
    "\n",
    "$$\\begin{pmatrix}\n",
    "1 & 2 & 3 & 4 & 5\\\\ \n",
    "2 & 5 & 8 & 11 & 14\\\\ \n",
    "3 & 9 & 14 & 20 & 26\n",
    "\\end{pmatrix}.$$\n",
    "\n",
    "Из второй и третьей строк вычтем первую, умноженную на $2$ и $3$ соответственно:\n",
    "\n",
    "$$\\begin{pmatrix}\n",
    "1 & 2 & 3 & 4 & 5\\\\ \n",
    "0 & 1 & 2 & 3 & 4\\\\ \n",
    "0 & 2 & 5 & 8 & 11\n",
    "\\end{pmatrix}.$$\n",
    "\n",
    "И вычтем из третьей строки вторую, умноженную на $2$:\n",
    "\n",
    "$$\\begin{pmatrix}\n",
    "1 & 2 & 3 & 4 & 5\\\\ \n",
    "0 & 1 & 2 & 3 & 4\\\\ \n",
    "0 & 0 & 1 & 2 & 3\n",
    "\\end{pmatrix}.$$\n",
    "\n",
    "Таким образом, ранг матрицы равен $3$."
   ]
  },
  {
   "cell_type": "code",
   "execution_count": 1,
   "metadata": {
    "colab": {
     "base_uri": "https://localhost:8080/"
    },
    "id": "c3mJUpE65vak",
    "outputId": "b2533aab-cb09-41d1-872f-9d4c293dc5ba"
   },
   "outputs": [
    {
     "name": "stdout",
     "output_type": "stream",
     "text": [
      "Ранг матрицы: 3\n"
     ]
    }
   ],
   "source": [
    "# Проверка\n",
    "\n",
    "import numpy as np\n",
    "a = [1, 2, 3, 4, 5]\n",
    "b = [2, 5, 8, 11, 14]\n",
    "c = [3, 9, 14, 20, 26]\n",
    "d = [5, 14, 22, 31, 40]\n",
    "\n",
    "x = np.array([a, b, c, d])\n",
    "r = np.linalg.matrix_rank(x)\n",
    "\n",
    "print(f'Ранг матрицы: {r}')"
   ]
  },
  {
   "cell_type": "markdown",
   "metadata": {
    "id": "1NlQHLnE5iV-"
   },
   "source": [
    "# Задачи"
   ]
  },
  {
   "cell_type": "markdown",
   "metadata": {
    "id": "oOoLPT-d232H"
   },
   "source": [
    "**1.** Прочитать статью http://www.scielo.org.mx/pdf/cys/v18n3/v18n3a7.pdf и сделать следующее:\n",
    "\n",
    "- Написать кратко (не более 300 слов (минимум 100), отчет в формате pdf) о различиях между cosine similarity и soft similarity. Привести примеры использования и написать собственный пример вычисления cosine similarity и soft similarity для произвольных векторов (не брать вектора из статьи! надо самим придумать координаты/размерность векторов)"
   ]
  },
  {
   "cell_type": "markdown",
   "metadata": {
    "id": "2A79cNRu3BUA"
   },
   "source": [
    "__2.__ Найти сумму и произведение матриц $A=\\begin{pmatrix}\n",
    "1 & -2\\\\ \n",
    "3 & 0\n",
    "\\end{pmatrix}$ и $B=\\begin{pmatrix}\n",
    "4 & -1\\\\ \n",
    "0 & 5\n",
    "\\end{pmatrix}.$\n",
    "\n",
    "__3.__ Из закономерностей сложения и умножения матриц на число можно сделать вывод, что матрицы одного размера образуют линейное пространство. Вычислить линейную комбинацию $3A-2B+4C$ для матриц $A=\\begin{pmatrix}\n",
    "1 & 7\\\\ \n",
    "3 & -6\n",
    "\\end{pmatrix}$, $B=\\begin{pmatrix}\n",
    "0 & 5\\\\ \n",
    "2 & -1\n",
    "\\end{pmatrix}$, $C=\\begin{pmatrix}\n",
    "2 & -4\\\\ \n",
    "1 & 1\n",
    "\\end{pmatrix}.$\n",
    "    \n",
    "__4.__ Дана матрица $A=\\begin{pmatrix}\n",
    "4 & 1\\\\ \n",
    "5 & -2\\\\ \n",
    "2 & 3\n",
    "\\end{pmatrix}$.\n",
    "Вычислить $AA^{T}$ и $A^{T}A$.\n",
    "\n",
    "__5*.__ Написать на Python функцию для перемножения двух произвольных матриц, не используя NumPy."
   ]
  },
  {
   "cell_type": "markdown",
   "metadata": {
    "id": "-naSOZaf3L7s"
   },
   "source": [
    "\n",
    "__6.__ Вычислить определитель (используйте любой удобный для вас способ вычисления определителя: через миноры, через перестановки или другой):\n",
    "\n",
    "   a)\n",
    "\n",
    "$$\\begin{vmatrix}\n",
    "sinx & -cosx\\\\ \n",
    "cosx & sinx\n",
    "\\end{vmatrix};$$\n",
    "\n",
    "   б)\n",
    "    \n",
    "$$\\begin{vmatrix}\n",
    "8 & 4 & 6\\\\ \n",
    "0 & 5 & 1\\\\ \n",
    "0 & 0 & 9\n",
    "\\end{vmatrix};$$\n",
    "    \n",
    "   в)\n",
    "\n",
    "$$\\begin{vmatrix}\n",
    "2 & 3 & 4\\\\ \n",
    "5 & 6 & 7\\\\ \n",
    "8 & 9 & 10\n",
    "\\end{vmatrix}.$$\n",
    "\n",
    "\n",
    "__7.__ Определитель матрицы $A$ равен $4$. Найти:\n",
    "\n",
    "   а) $det(A^{2})$;\n",
    "    \n",
    "   б) $det(A^{T})$;\n",
    "    \n",
    "   в) $det(2A)$.\n",
    "   \n",
    "__8.__  Доказать, что матрица\n",
    "\n",
    "$$\\begin{pmatrix}\n",
    "-2 & 7 & -3\\\\ \n",
    "4 & -14 & 6\\\\ \n",
    "-3 & 7 & 13\n",
    "\\end{pmatrix}$$\n",
    "   \n",
    "вырожденная.\n",
    "\n",
    "__9.__ Найти ранг матрицы:\n",
    "\n",
    "   а) $\\begin{pmatrix}\n",
    "1 & 2 & 3\\\\ \n",
    "1 & 1 & 1\\\\ \n",
    "2 & 3 & 4\n",
    "\\end{pmatrix};$\n",
    "\n",
    "   б) $\\begin{pmatrix}\n",
    "0 & 0 & 2 & 1\\\\ \n",
    "0 & 0 & 2 & 2\\\\ \n",
    "0 & 0 & 4 & 3\\\\ \n",
    "2 & 3 & 5 & 6\n",
    "\\end{pmatrix}.$"
   ]
  },
  {
   "cell_type": "markdown",
   "metadata": {
    "id": "ekAaqmaE3E1T"
   },
   "source": [
    "# Доп материалы\n",
    "1. [Способы задать матрицу в NumPy](https://docs.scipy.org/doc/numpy-1.10.1/user/basics.creation.html).\n",
    "2. [numpy.transpose](https://docs.scipy.org/doc/numpy-1.10.0/reference/generated/numpy.transpose.html).\n",
    "3. [array.T](https://docs.scipy.org/doc/numpy-1.10.0/reference/generated/numpy.ndarray.T.html).\n",
    "4. [Перемножение матриц в NumPy](https://docs.scipy.org/doc/numpy-1.10.0/reference/routines.linalg.html#matrix-and-vector-products).\n",
    "\n",
    "5. [Определитель матрицы в NumPy](https://docs.scipy.org/doc/numpy-1.14.2/reference/generated/numpy.linalg.det.html)\n",
    "\n",
    "6. [Ранг матрицы в NumPy](https://docs.scipy.org/doc/numpy-1.14.2/reference/generated/numpy.linalg.matrix_rank.html)\n",
    "\n",
    "7. [Обращение матриц в NumPy](https://docs.scipy.org/doc/numpy/reference/generated/numpy.linalg.inv.html)"
   ]
  },
  {
   "cell_type": "markdown",
   "metadata": {
    "id": "e1MoXgAhTm7k"
   },
   "source": [
    "Решение Домашнего задания"
   ]
  },
  {
   "cell_type": "markdown",
   "metadata": {
    "id": "t_5r3KiI-eYz"
   },
   "source": [
    "__1.__ Прочитать статью http://www.scielo.org.mx/pdf/cys/v18n3/v18n3a7.pdf и сделать следующее:\n",
    "\n",
    "- Написать кратко (не более 300 слов (минимум 100), отчет в формате pdf) о различиях между cosine similarity и soft similarity. Привести примеры использования и написать собственный пример вычисления cosine similarity и soft similarity для произвольных векторов (не брать вектора из статьи! надо самим придумать координаты/размерность векторов)"
   ]
  },
  {
   "cell_type": "markdown",
   "metadata": {
    "id": "JeWrJApCTshE"
   },
   "source": [
    "<a href='https://github.com/mukaseevru/ds-school/blob/main/lesson%207/HW_7_lesson_(1).pdf'>Ссылка на PDF</a>"
   ]
  },
  {
   "cell_type": "code",
   "execution_count": 2,
   "metadata": {
    "id": "OVo8CTpxeJK4"
   },
   "outputs": [],
   "source": [
    "import gensim.downloader as api\n",
    "from gensim import corpora\n",
    "from gensim.matutils import softcossim\n",
    "fasttext_model300 = api.load('fasttext-wiki-news-subwords-300')"
   ]
  },
  {
   "cell_type": "code",
   "execution_count": 3,
   "metadata": {
    "colab": {
     "base_uri": "https://localhost:8080/"
    },
    "id": "iOaosuOmn9nO",
    "outputId": "7a1c57e3-b419-470e-9820-02b05ae93056"
   },
   "outputs": [
    {
     "name": "stdout",
     "output_type": "stream",
     "text": [
      "0.8017683002913699\n"
     ]
    }
   ],
   "source": [
    "# Определим две фразы\n",
    "sent_1 = 'Саша очень любит играть в футбол'.split()\n",
    "sent_2 = 'Оля каждый день играет в футбол на позиции вратаря'.split()\n",
    "\n",
    "# Подготовим словарь слов\n",
    "documents = [sent_1, sent_2]\n",
    "dictionary = corpora.Dictionary(documents)\n",
    "\n",
    "# Подготовим матрицу подобия\n",
    "similarity_matrix = fasttext_model300.similarity_matrix(dictionary)\n",
    "\n",
    "# Конвертируем предложения в векторы\n",
    "sent_1 = dictionary.doc2bow(sent_1)\n",
    "sent_2 = dictionary.doc2bow(sent_2)\n",
    "\n",
    "# Посчитаем мягкое косинусное сходство\n",
    "print(softcossim(sent_1, sent_2, similarity_matrix))"
   ]
  },
  {
   "cell_type": "markdown",
   "metadata": {
    "id": "IFxyELlbTlPs"
   },
   "source": [
    "__2.__ Найти сумму и произведение матриц $A=\\begin{pmatrix}\n",
    "1 & -2\\\\ \n",
    "3 & 0\n",
    "\\end{pmatrix}$ и $B=\\begin{pmatrix}\n",
    "4 & -1\\\\ \n",
    "0 & 5\n",
    "\\end{pmatrix}.$"
   ]
  },
  {
   "cell_type": "code",
   "execution_count": 4,
   "metadata": {
    "colab": {
     "base_uri": "https://localhost:8080/"
    },
    "id": "PfGmLhCQTXyk",
    "outputId": "36f7b015-71f4-48c3-a782-7c844dcea0b4"
   },
   "outputs": [
    {
     "name": "stdout",
     "output_type": "stream",
     "text": [
      "Матрица A\n",
      "[[ 1 -2]\n",
      " [ 3  0]]\n",
      "\n",
      "Матрица B\n",
      "[[ 4 -1]\n",
      " [ 0  5]]\n",
      "\n",
      "Сумма\n",
      "[[ 5 -3]\n",
      " [ 3  5]]\n",
      "Произведение\n",
      "[[  4 -11]\n",
      " [ 12  -3]]\n"
     ]
    }
   ],
   "source": [
    "import numpy as np\n",
    "A = np.array([[1, -2], [3, 0]])\n",
    "B = np.array([[4, -1], [0, 5]])\n",
    "print(f'Матрица A\\n{A}\\n')\n",
    "print(f'Матрица B\\n{B}\\n')\n",
    "print(f'Сумма\\n{A + B}')\n",
    "print(f'Произведение\\n{np.dot(A, B)}')"
   ]
  },
  {
   "cell_type": "markdown",
   "metadata": {
    "id": "9H-Zp6dwWmFg"
   },
   "source": [
    "__3.__ Из закономерностей сложения и умножения матриц на число можно сделать вывод, что матрицы одного размера образуют линейное пространство. Вычислить линейную комбинацию $3A-2B+4C$ для матриц $A=\\begin{pmatrix}\n",
    "1 & 7\\\\ \n",
    "3 & -6\n",
    "\\end{pmatrix}$, $B=\\begin{pmatrix}\n",
    "0 & 5\\\\ \n",
    "2 & -1\n",
    "\\end{pmatrix}$, $C=\\begin{pmatrix}\n",
    "2 & -4\\\\ \n",
    "1 & 1\n",
    "\\end{pmatrix}.$"
   ]
  },
  {
   "cell_type": "code",
   "execution_count": 5,
   "metadata": {
    "colab": {
     "base_uri": "https://localhost:8080/"
    },
    "id": "VzrlnczqUkrT",
    "outputId": "abf00d1d-1093-4675-b60d-f05b1f28f6e7"
   },
   "outputs": [
    {
     "name": "stdout",
     "output_type": "stream",
     "text": [
      "Матрица A\n",
      "[[ 1  7]\n",
      " [ 3 -6]]\n",
      "\n",
      "Матрица B\n",
      "[[ 0  5]\n",
      " [ 2 -1]]\n",
      "\n",
      "Матрица C\n",
      "[[ 2 -4]\n",
      " [ 1  1]]\n",
      "\n",
      "Линейная комбинация 3A-2B+4C\n",
      "[[ 11  -5]\n",
      " [  9 -12]]\n"
     ]
    }
   ],
   "source": [
    "A = np.array([[1, 7], [3, -6]])\n",
    "B = np.array([[0, 5], [2, -1]])\n",
    "C = np.array([[2, -4], [1, 1]])\n",
    "print(f'Матрица A\\n{A}\\n')\n",
    "print(f'Матрица B\\n{B}\\n')\n",
    "print(f'Матрица C\\n{C}\\n')\n",
    "print(f'Линейная комбинация 3A-2B+4C\\n{3*A - 2*B + 4*C}')"
   ]
  },
  {
   "cell_type": "markdown",
   "metadata": {
    "id": "mvttQhS4bfIO"
   },
   "source": [
    "__4.__ Дана матрица $A=\\begin{pmatrix}\n",
    "4 & 1\\\\ \n",
    "5 & -2\\\\ \n",
    "2 & 3\n",
    "\\end{pmatrix}$.\n",
    "Вычислить $AA^{T}$ и $A^{T}A$."
   ]
  },
  {
   "cell_type": "code",
   "execution_count": 6,
   "metadata": {
    "colab": {
     "base_uri": "https://localhost:8080/"
    },
    "id": "OE3JhcpcV2Wk",
    "outputId": "0458dd8b-d4f3-494e-b58a-301cc5f52bbb"
   },
   "outputs": [
    {
     "name": "stdout",
     "output_type": "stream",
     "text": [
      "Матрица:\n",
      "[[ 4  1]\n",
      " [ 5 -2]\n",
      " [ 2  3]]\n",
      "Транспонированная матрица:\n",
      "[[ 4  5  2]\n",
      " [ 1 -2  3]]\n"
     ]
    }
   ],
   "source": [
    "A = np.array([[4, 1], [5, -2], [2, 3]])\n",
    "print(f'Матрица:\\n{A}')\n",
    "print(f'Транспонированная матрица:\\n{A.T}')"
   ]
  },
  {
   "cell_type": "markdown",
   "metadata": {
    "id": "Upot388qcNV4"
   },
   "source": [
    "$AA^{T}$:"
   ]
  },
  {
   "cell_type": "code",
   "execution_count": 7,
   "metadata": {
    "colab": {
     "base_uri": "https://localhost:8080/"
    },
    "id": "9CMto2JccMf7",
    "outputId": "ae222e5b-766a-40d7-a1b5-88b8d177505e"
   },
   "outputs": [
    {
     "name": "stdout",
     "output_type": "stream",
     "text": [
      "[[17 18 11]\n",
      " [18 29  4]\n",
      " [11  4 13]]\n",
      "\n"
     ]
    }
   ],
   "source": [
    "print(f'{np.dot(A, A.T)}\\n')"
   ]
  },
  {
   "cell_type": "markdown",
   "metadata": {
    "id": "1yUNIoUFc5-u"
   },
   "source": [
    "$A^{T}A$"
   ]
  },
  {
   "cell_type": "code",
   "execution_count": 8,
   "metadata": {
    "colab": {
     "base_uri": "https://localhost:8080/"
    },
    "id": "IB2O2PhzcaOw",
    "outputId": "e0eb160e-87ed-424d-ed98-a311f5cb8890"
   },
   "outputs": [
    {
     "name": "stdout",
     "output_type": "stream",
     "text": [
      "[[45  0]\n",
      " [ 0 14]]\n",
      "\n"
     ]
    }
   ],
   "source": [
    "print(f'{np.dot(A.T, A)}\\n')"
   ]
  },
  {
   "cell_type": "markdown",
   "metadata": {
    "id": "Ja3nSN1RfFkb"
   },
   "source": [
    "__5*.__ Написать на Python функцию для перемножения двух произвольных матриц, не используя NumPy."
   ]
  },
  {
   "cell_type": "code",
   "execution_count": 9,
   "metadata": {
    "colab": {
     "base_uri": "https://localhost:8080/"
    },
    "id": "YXXp37rjc4Rn",
    "outputId": "8bbd1678-4ac8-4028-f96f-9b4e74c2aa4c"
   },
   "outputs": [
    {
     "data": {
      "text/plain": [
       "[[17, 18, 11], [18, 29, 4], [11, 4, 13]]"
      ]
     },
     "execution_count": 9,
     "metadata": {
      "tags": []
     },
     "output_type": "execute_result"
    }
   ],
   "source": [
    "# array_1 - первая матрица размерностью m строк на n столбцов\n",
    "# array_2 - вторая матрица размерностью n строк на k столбцов\n",
    "def multy_matrix(array_1, array_2):\n",
    "  array_1_m = array_1.shape[0]\n",
    "  array_1_n = array_1.shape[1]\n",
    "  array_2_n = array_2.shape[0]\n",
    "  array_2_k = array_2.shape[1]\n",
    "  if array_1_n == array_2_n:\n",
    "    result = [[0 for x in range(array_2_k)] for y in range(array_2_k)]\n",
    "    for k in range(array_2_k):\n",
    "      for m in range(array_2_k):\n",
    "        temp = 0\n",
    "        for n in range(array_1_n):\n",
    "            temp += array_1[m][n] * array_2[n][k]\n",
    "        result[m][k] = temp\n",
    "    return result\n",
    "  else:\n",
    "    print('Ошибка в размерности матриц')\n",
    "    return False\n",
    "multy_matrix(A, A.T)"
   ]
  },
  {
   "cell_type": "markdown",
   "metadata": {
    "id": "-blawYYtldqR"
   },
   "source": [
    "__6.__ Вычислить определитель (используйте любой удобный для вас способ вычисления определителя: через миноры, через перестановки или другой):\n",
    "\n",
    "   a)\n",
    "\n",
    "$$\\begin{vmatrix}\n",
    "sinx & -cosx\\\\ \n",
    "cosx & sinx\n",
    "\\end{vmatrix};$$"
   ]
  },
  {
   "cell_type": "code",
   "execution_count": 10,
   "metadata": {
    "colab": {
     "base_uri": "https://localhost:8080/"
    },
    "id": "cpeOpePKlccg",
    "outputId": "6d25da81-3534-4484-8c1e-210f4e04d775"
   },
   "outputs": [
    {
     "name": "stdout",
     "output_type": "stream",
     "text": [
      "Матрица:\n",
      "[[ 1.2246468e-16  1.0000000e+00]\n",
      " [-1.0000000e+00  1.2246468e-16]]\n",
      "Определитель:\n",
      "1\n"
     ]
    }
   ],
   "source": [
    "x = np.pi\n",
    "A = np.array([[np.sin(x), -np.cos(x)], [np.cos(x), np.sin(x)]])\n",
    "print(f'Матрица:\\n{A}')\n",
    "print(f'Определитель:\\n{np.linalg.det(A):.0f}')"
   ]
  },
  {
   "cell_type": "markdown",
   "metadata": {
    "id": "Pi7_O0bClgrM"
   },
   "source": [
    "   б)\n",
    "    \n",
    "$$\\begin{vmatrix}\n",
    "8 & 4 & 6\\\\ \n",
    "0 & 5 & 1\\\\ \n",
    "0 & 0 & 9\n",
    "\\end{vmatrix};$$"
   ]
  },
  {
   "cell_type": "code",
   "execution_count": 11,
   "metadata": {
    "colab": {
     "base_uri": "https://localhost:8080/"
    },
    "id": "Q2gZvlL1gla1",
    "outputId": "226848d0-e6cd-4c19-90fa-5dee45d3dced"
   },
   "outputs": [
    {
     "name": "stdout",
     "output_type": "stream",
     "text": [
      "Матрица:\n",
      "[[8 4 6]\n",
      " [0 5 1]\n",
      " [0 0 9]]\n",
      "Определитель:\n",
      "360\n"
     ]
    }
   ],
   "source": [
    "A = np.array([[8, 4, 6], [0, 5, 1], [0, 0, 9]])\n",
    "print(f'Матрица:\\n{A}')\n",
    "print(f'Определитель:\\n{np.linalg.det(A):.0f}')"
   ]
  },
  {
   "cell_type": "markdown",
   "metadata": {
    "id": "Ss_hn-Z1lk6B"
   },
   "source": [
    "   в)\n",
    "\n",
    "$$\\begin{vmatrix}\n",
    "2 & 3 & 4\\\\ \n",
    "5 & 6 & 7\\\\ \n",
    "8 & 9 & 10\n",
    "\\end{vmatrix}.$$"
   ]
  },
  {
   "cell_type": "code",
   "execution_count": 12,
   "metadata": {
    "colab": {
     "base_uri": "https://localhost:8080/"
    },
    "id": "xDlPlhZYhS3Z",
    "outputId": "0e06f436-efe1-46fc-aa76-4684d83cac7b"
   },
   "outputs": [
    {
     "name": "stdout",
     "output_type": "stream",
     "text": [
      "Матрица:\n",
      "[[ 2  3  4]\n",
      " [ 5  6  7]\n",
      " [ 8  9 10]]\n",
      "Определитель:\n",
      "0\n"
     ]
    }
   ],
   "source": [
    "A = np.array([[2, 3, 4], [5, 6, 7], [8, 9, 10]])\n",
    "print(f'Матрица:\\n{A}')\n",
    "print(f'Определитель:\\n{np.linalg.det(A):.0f}')"
   ]
  },
  {
   "cell_type": "markdown",
   "metadata": {
    "id": "NUsk_I7qnxD6"
   },
   "source": [
    "__7.__ Определитель матрицы $A$ равен $4$. Найти:"
   ]
  },
  {
   "cell_type": "code",
   "execution_count": 13,
   "metadata": {
    "colab": {
     "base_uri": "https://localhost:8080/"
    },
    "id": "vz3ewk2fm3oD",
    "outputId": "4317a30f-d20d-4579-f9bc-47d978da95f2"
   },
   "outputs": [
    {
     "name": "stdout",
     "output_type": "stream",
     "text": [
      "Матрица:\n",
      "[[1 0 0]\n",
      " [0 1 0]\n",
      " [0 0 4]]\n",
      "Определитель:\n",
      "4\n"
     ]
    }
   ],
   "source": [
    "# Возьмем матрицу для примера\n",
    "A = np.array([[1, 0, 0], [0, 1, 0], [0, 0, 4]])\n",
    "print(f'Матрица:\\n{A}')\n",
    "print(f'Определитель:\\n{np.linalg.det(A):.0f}')"
   ]
  },
  {
   "cell_type": "markdown",
   "metadata": {
    "id": "DnPYlpNYoUlh"
   },
   "source": [
    "а) $det(A^{2})$;"
   ]
  },
  {
   "cell_type": "code",
   "execution_count": 14,
   "metadata": {
    "colab": {
     "base_uri": "https://localhost:8080/"
    },
    "id": "6leCUcscn5AY",
    "outputId": "e902c74d-b8b8-4698-d1e1-af675f4fa387"
   },
   "outputs": [
    {
     "name": "stdout",
     "output_type": "stream",
     "text": [
      "Определитель:\n",
      "16\n"
     ]
    }
   ],
   "source": [
    "print(f'Определитель:\\n{np.linalg.det(np.dot(A,A)):.0f}')"
   ]
  },
  {
   "cell_type": "markdown",
   "metadata": {
    "id": "pjqnFuAeoXhr"
   },
   "source": [
    "б) $det(A^{T})$;"
   ]
  },
  {
   "cell_type": "code",
   "execution_count": 15,
   "metadata": {
    "colab": {
     "base_uri": "https://localhost:8080/"
    },
    "id": "gL4Nub2ioZdv",
    "outputId": "7e9ade7d-89bb-46df-8b64-051f692f7829"
   },
   "outputs": [
    {
     "name": "stdout",
     "output_type": "stream",
     "text": [
      "Определитель:\n",
      "4\n"
     ]
    }
   ],
   "source": [
    "print(f'Определитель:\\n{np.linalg.det(A.T):.0f}')"
   ]
  },
  {
   "cell_type": "markdown",
   "metadata": {
    "id": "MNUGVR-NoaP2"
   },
   "source": [
    "в) $det(2A)$."
   ]
  },
  {
   "cell_type": "code",
   "execution_count": 16,
   "metadata": {
    "colab": {
     "base_uri": "https://localhost:8080/"
    },
    "id": "V-56reNdobVE",
    "outputId": "65b0a1a4-e73e-4ee0-acba-60136392a975"
   },
   "outputs": [
    {
     "name": "stdout",
     "output_type": "stream",
     "text": [
      "Определитель:\n",
      "32\n"
     ]
    }
   ],
   "source": [
    "# Зависит от рамерности матрицы\n",
    "print(f'Определитель:\\n{np.linalg.det(2*A):.0f}')"
   ]
  },
  {
   "cell_type": "markdown",
   "metadata": {
    "id": "n5XFS4JkpIc9"
   },
   "source": [
    "__8.__  Доказать, что матрица\n",
    "\n",
    "$$\\begin{pmatrix}\n",
    "-2 & 7 & -3\\\\ \n",
    "4 & -14 & 6\\\\ \n",
    "-3 & 7 & 13\n",
    "\\end{pmatrix}$$\n",
    "   \n",
    "вырожденная."
   ]
  },
  {
   "cell_type": "code",
   "execution_count": 17,
   "metadata": {
    "colab": {
     "base_uri": "https://localhost:8080/"
    },
    "id": "Kmfp8n2yotZW",
    "outputId": "b046645f-6a3f-4e88-a7e7-2b08486fbdfd"
   },
   "outputs": [
    {
     "name": "stdout",
     "output_type": "stream",
     "text": [
      "Матрица:\n",
      "[[ -2   7  -3]\n",
      " [  4 -14   6]\n",
      " [ -3   7  13]]\n",
      "Определитель:\n",
      "0\n"
     ]
    }
   ],
   "source": [
    "# Матрица вырожденная, если определитель равен 0\n",
    "A = np.array([[-2, 7, -3], [4, -14, 6], [-3, 7, 13]])\n",
    "print(f'Матрица:\\n{A}')\n",
    "print(f'Определитель:\\n{np.linalg.det(A):.0f}')"
   ]
  },
  {
   "cell_type": "markdown",
   "metadata": {
    "id": "PJDz-pIfpfRM"
   },
   "source": [
    "__9.__ Найти ранг матрицы:\n",
    "\n",
    "   а) $\\begin{pmatrix}\n",
    "1 & 2 & 3\\\\ \n",
    "1 & 1 & 1\\\\ \n",
    "2 & 3 & 4\n",
    "\\end{pmatrix};$"
   ]
  },
  {
   "cell_type": "code",
   "execution_count": 18,
   "metadata": {
    "colab": {
     "base_uri": "https://localhost:8080/"
    },
    "id": "FSRuPvpopTGn",
    "outputId": "77e8c402-f313-476c-8527-49c118b27561"
   },
   "outputs": [
    {
     "name": "stdout",
     "output_type": "stream",
     "text": [
      "Ранг матрицы: 2\n"
     ]
    }
   ],
   "source": [
    "A = np.array([[1, 2, 3], [1, 1, 1], [2, 3, 4]])\n",
    "r = np.linalg.matrix_rank(A)\n",
    "\n",
    "print(f'Ранг матрицы: {r}')"
   ]
  },
  {
   "cell_type": "markdown",
   "metadata": {
    "id": "nNxs7DuYpijT"
   },
   "source": [
    "   б) $\\begin{pmatrix}\n",
    "0 & 0 & 2 & 1\\\\ \n",
    "0 & 0 & 2 & 2\\\\ \n",
    "0 & 0 & 4 & 3\\\\ \n",
    "2 & 3 & 5 & 6\n",
    "\\end{pmatrix}.$"
   ]
  },
  {
   "cell_type": "code",
   "execution_count": 19,
   "metadata": {
    "colab": {
     "base_uri": "https://localhost:8080/"
    },
    "id": "Q2esd-OEpi6E",
    "outputId": "7b457c87-4a85-4e9b-b4ba-53dfa4fa1e12"
   },
   "outputs": [
    {
     "name": "stdout",
     "output_type": "stream",
     "text": [
      "Ранг матрицы: 3\n"
     ]
    }
   ],
   "source": [
    "A = np.array([[0, 0, 2, 1], [0, 0, 2, 2], [0, 0, 4, 3], [2, 3, 5, 6]])\n",
    "r = np.linalg.matrix_rank(A)\n",
    "\n",
    "print(f'Ранг матрицы: {r}')"
   ]
  },
  {
   "cell_type": "markdown",
   "metadata": {
    "id": "MnNtcHTkg13x"
   },
   "source": [
    "<a href='https://github.com/mukaseevru/ds-school/blob/main/lesson%207/HW_7_lesson_(2-9).pdf'>Ссылка на PDF</a>"
   ]
  }
 ],
 "metadata": {
  "colab": {
   "collapsed_sections": [],
   "include_colab_link": true,
   "name": "HW_7_lesson.ipynb",
   "provenance": []
  },
  "kernelspec": {
   "display_name": "Python 3",
   "language": "python",
   "name": "python3"
  },
  "language_info": {
   "codemirror_mode": {
    "name": "ipython",
    "version": 3
   },
   "file_extension": ".py",
   "mimetype": "text/x-python",
   "name": "python",
   "nbconvert_exporter": "python",
   "pygments_lexer": "ipython3",
   "version": "3.7.9"
  }
 },
 "nbformat": 4,
 "nbformat_minor": 1
}
