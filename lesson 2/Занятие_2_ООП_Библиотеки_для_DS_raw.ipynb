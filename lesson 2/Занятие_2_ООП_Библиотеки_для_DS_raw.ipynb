{
  "nbformat": 4,
  "nbformat_minor": 0,
  "metadata": {
    "colab": {
      "name": "Занятие_2_ООП_Библиотеки_для_DS_raw.ipynb",
      "provenance": [],
      "collapsed_sections": [],
      "include_colab_link": true
    },
    "kernelspec": {
      "name": "python3",
      "display_name": "Python 3"
    }
  },
  "cells": [
    {
      "cell_type": "markdown",
      "metadata": {
        "id": "view-in-github",
        "colab_type": "text"
      },
      "source": [
        "<a href=\"https://colab.research.google.com/github/mukaseevru/ds-school/blob/main/lesson%202/%D0%97%D0%B0%D0%BD%D1%8F%D1%82%D0%B8%D0%B5_2_%D0%9E%D0%9E%D0%9F_%D0%91%D0%B8%D0%B1%D0%BB%D0%B8%D0%BE%D1%82%D0%B5%D0%BA%D0%B8_%D0%B4%D0%BB%D1%8F_DS_raw.ipynb\" target=\"_parent\"><img src=\"https://colab.research.google.com/assets/colab-badge.svg\" alt=\"Open In Colab\"/></a>"
      ]
    },
    {
      "cell_type": "markdown",
      "metadata": {
        "id": "V-JZNegPdrB9"
      },
      "source": [
        "# Занятие 2. ООП. Библиотеки для DS\n",
        "*26.11.2020.*\n",
        "#### **Преподаватель:** Виктория Дочкина"
      ]
    },
    {
      "cell_type": "markdown",
      "metadata": {
        "id": "NyBOGqoZd5yD"
      },
      "source": [
        "## План занятия:\n",
        "* Больше практики по пройденному материалу\n",
        "* Постулаты в ООП\n",
        "* Разберем подробно анатомию классов в Python\n",
        "  * приватные и публичные поля и методы\n",
        "  * магические методы, статические методы\n",
        "  * абстрактные классы\n",
        "* ДЗ"
      ]
    },
    {
      "cell_type": "markdown",
      "metadata": {
        "id": "hirKQopsfTej"
      },
      "source": [
        "# Практические задачи по пройденным темам"
      ]
    },
    {
      "cell_type": "markdown",
      "metadata": {
        "id": "Yd67cIGKwxD-"
      },
      "source": [
        "### Задача 1. Преобразования разных типов данных"
      ]
    },
    {
      "cell_type": "code",
      "metadata": {
        "colab": {
          "base_uri": "https://localhost:8080/"
        },
        "id": "CjvV_GGHcNIB",
        "outputId": "2a513dc4-8224-4674-baff-b30aabaf9ff8"
      },
      "source": [
        "text = '3'\n",
        "whole_number = int(text) \n",
        "number = float(text)\n",
        "print(whole_number)\n",
        "print(number)"
      ],
      "execution_count": null,
      "outputs": [
        {
          "output_type": "stream",
          "text": [
            "3\n",
            "3.0\n"
          ],
          "name": "stdout"
        }
      ]
    },
    {
      "cell_type": "code",
      "metadata": {
        "colab": {
          "base_uri": "https://localhost:8080/"
        },
        "id": "T69gwK2oLxoQ",
        "outputId": "621dcfab-1be5-4c2a-a35a-a8cc78521905"
      },
      "source": [
        "type(whole_number)"
      ],
      "execution_count": null,
      "outputs": [
        {
          "output_type": "execute_result",
          "data": {
            "text/plain": [
              "int"
            ]
          },
          "metadata": {
            "tags": []
          },
          "execution_count": 169
        }
      ]
    },
    {
      "cell_type": "markdown",
      "metadata": {
        "id": "vCApbGYTjrni"
      },
      "source": [
        "Заменим число в кавычках на дробное"
      ]
    },
    {
      "cell_type": "code",
      "metadata": {
        "colab": {
          "base_uri": "https://localhost:8080/",
          "height": 232
        },
        "id": "xw8FiL1mjpFp",
        "outputId": "5f2797e8-c444-4bae-a9a1-d5aa322e187d"
      },
      "source": [
        "# TODO\n",
        "text = \"3.\"\n",
        "whole_number = int(text) \n",
        "number = float(text)\n",
        "print(whole_number)\n",
        "print(number)"
      ],
      "execution_count": null,
      "outputs": [
        {
          "output_type": "error",
          "ename": "ValueError",
          "evalue": "ignored",
          "traceback": [
            "\u001b[0;31m---------------------------------------------------------------------------\u001b[0m",
            "\u001b[0;31mValueError\u001b[0m                                Traceback (most recent call last)",
            "\u001b[0;32m<ipython-input-170-9f6fe8c86d42>\u001b[0m in \u001b[0;36m<module>\u001b[0;34m()\u001b[0m\n\u001b[1;32m      1\u001b[0m \u001b[0;31m# TODO\u001b[0m\u001b[0;34m\u001b[0m\u001b[0;34m\u001b[0m\u001b[0;34m\u001b[0m\u001b[0m\n\u001b[1;32m      2\u001b[0m \u001b[0mtext\u001b[0m \u001b[0;34m=\u001b[0m \u001b[0;34m\"3.\"\u001b[0m\u001b[0;34m\u001b[0m\u001b[0;34m\u001b[0m\u001b[0m\n\u001b[0;32m----> 3\u001b[0;31m \u001b[0mwhole_number\u001b[0m \u001b[0;34m=\u001b[0m \u001b[0mint\u001b[0m\u001b[0;34m(\u001b[0m\u001b[0mtext\u001b[0m\u001b[0;34m)\u001b[0m\u001b[0;34m\u001b[0m\u001b[0;34m\u001b[0m\u001b[0m\n\u001b[0m\u001b[1;32m      4\u001b[0m \u001b[0mnumber\u001b[0m \u001b[0;34m=\u001b[0m \u001b[0mfloat\u001b[0m\u001b[0;34m(\u001b[0m\u001b[0mtext\u001b[0m\u001b[0;34m)\u001b[0m\u001b[0;34m\u001b[0m\u001b[0;34m\u001b[0m\u001b[0m\n\u001b[1;32m      5\u001b[0m \u001b[0mprint\u001b[0m\u001b[0;34m(\u001b[0m\u001b[0mwhole_number\u001b[0m\u001b[0;34m)\u001b[0m\u001b[0;34m\u001b[0m\u001b[0;34m\u001b[0m\u001b[0m\n",
            "\u001b[0;31mValueError\u001b[0m: invalid literal for int() with base 10: '3.'"
          ]
        }
      ]
    },
    {
      "cell_type": "code",
      "metadata": {
        "id": "-MC6gZs4L9I8"
      },
      "source": [
        "number = float(text)"
      ],
      "execution_count": null,
      "outputs": []
    },
    {
      "cell_type": "markdown",
      "metadata": {
        "id": "qBeXfyqcj0VP"
      },
      "source": [
        "Как решить это? есть идеи?"
      ]
    },
    {
      "cell_type": "code",
      "metadata": {
        "colab": {
          "base_uri": "https://localhost:8080/"
        },
        "id": "jwVCympocOX1",
        "outputId": "02c488cb-d514-4910-ed46-3c44c8019bd0"
      },
      "source": [
        "#TODO\n",
        "text = '3.1'\n",
        "whole_number = int(float(text))\n",
        "number = float(text)\n",
        "print(whole_number)\n",
        "print(number)"
      ],
      "execution_count": null,
      "outputs": [
        {
          "output_type": "stream",
          "text": [
            "3\n",
            "3.1\n"
          ],
          "name": "stdout"
        }
      ]
    },
    {
      "cell_type": "markdown",
      "metadata": {
        "id": "D484GpZXvZK3"
      },
      "source": [
        "### Задача 2\n",
        " Проверить - есть ли буква 'e', буквосчетание 'or' или 'lr' в следующей строке?"
      ]
    },
    {
      "cell_type": "code",
      "metadata": {
        "id": "Wut5UQaZkLKU"
      },
      "source": [
        "a = \"hello world\""
      ],
      "execution_count": null,
      "outputs": []
    },
    {
      "cell_type": "code",
      "metadata": {
        "id": "JlFZs1RckL2S"
      },
      "source": [
        "#TODO\n",
        "bool_ = 'e' in a or 'or' in a or 'lr' in a"
      ],
      "execution_count": null,
      "outputs": []
    },
    {
      "cell_type": "markdown",
      "metadata": {
        "id": "TxJxcfRnv45G"
      },
      "source": [
        "Если такие буквы не встретились в Вашей строке, то выведите \"Совпадений нет\", в противоположном случае - \"Есть совпадения\""
      ]
    },
    {
      "cell_type": "code",
      "metadata": {
        "colab": {
          "base_uri": "https://localhost:8080/"
        },
        "id": "lzIPI1zjkLfU",
        "outputId": "30bb4bbb-2853-4c58-8a81-53d49e2c3fb4"
      },
      "source": [
        "#TODO\n",
        "if bool_:\n",
        "  print('Есть совпадения')\n",
        "else:\n",
        "  print('Совпадений нет')"
      ],
      "execution_count": null,
      "outputs": [
        {
          "output_type": "stream",
          "text": [
            "Есть совпадения\n"
          ],
          "name": "stdout"
        }
      ]
    },
    {
      "cell_type": "markdown",
      "metadata": {
        "id": "0jrFeKXezNjp"
      },
      "source": [
        "### Функция **filter()**\n",
        "Прежде чем перейдем к следующей задаче, хотелось бы упомянуть о функции **filter()**\n",
        "\n",
        "Функция **filter()** применяет функцию ко всем элементам последовательности и возвращает итератор с теми объектами, для которых функция вернула True"
      ]
    },
    {
      "cell_type": "markdown",
      "metadata": {
        "id": "LEJw29q70QVK"
      },
      "source": [
        "Из списка слов оставить только те, у которых количество букв больше двух:"
      ]
    },
    {
      "cell_type": "code",
      "metadata": {
        "id": "IVVcJzLqY6WP"
      },
      "source": [
        "list_of_words = ['one', 'two', 'list', '', 'dict']"
      ],
      "execution_count": null,
      "outputs": []
    },
    {
      "cell_type": "code",
      "metadata": {
        "colab": {
          "base_uri": "https://localhost:8080/"
        },
        "id": "XLjTkXNLOKZz",
        "outputId": "deb52279-f0b1-4e93-8140-ec9be5ff23a5"
      },
      "source": [
        "len(list_of_words)"
      ],
      "execution_count": null,
      "outputs": [
        {
          "output_type": "execute_result",
          "data": {
            "text/plain": [
              "5"
            ]
          },
          "metadata": {
            "tags": []
          },
          "execution_count": 187
        }
      ]
    },
    {
      "cell_type": "code",
      "metadata": {
        "id": "i9pPW4geYe6s"
      },
      "source": [
        "#TODO\n",
        "def check_len(a):\n",
        "  supp_list = []\n",
        "  for word in a:\n",
        "    if len(word)>2:\n",
        "      supp_list.append(True)\n",
        "    else:\n",
        "      supp_list.append(False)\n",
        "  return supp_list"
      ],
      "execution_count": null,
      "outputs": []
    },
    {
      "cell_type": "code",
      "metadata": {
        "id": "awDXWPXGOlQC"
      },
      "source": [
        "check = check_len(list_of_words)"
      ],
      "execution_count": null,
      "outputs": []
    },
    {
      "cell_type": "code",
      "metadata": {
        "colab": {
          "base_uri": "https://localhost:8080/"
        },
        "id": "xD2Lm6RQPUCg",
        "outputId": "865e8599-a692-438e-e09a-7c3ef718e199"
      },
      "source": [
        "check"
      ],
      "execution_count": null,
      "outputs": [
        {
          "output_type": "execute_result",
          "data": {
            "text/plain": [
              "[True, True, True, False, True]"
            ]
          },
          "metadata": {
            "tags": []
          },
          "execution_count": 194
        }
      ]
    },
    {
      "cell_type": "code",
      "metadata": {
        "id": "QWdZE_zPPY2-"
      },
      "source": [
        "def check_len(a):\n",
        "  if len(a)>2:\n",
        "    return True\n",
        "  else:\n",
        "    return False"
      ],
      "execution_count": null,
      "outputs": []
    },
    {
      "cell_type": "code",
      "metadata": {
        "colab": {
          "base_uri": "https://localhost:8080/"
        },
        "id": "c1YZYQ6yPsxE",
        "outputId": "91f55689-b583-4361-85f3-9d6cb51f2127"
      },
      "source": [
        "list(filter(check_len, list_of_words))"
      ],
      "execution_count": null,
      "outputs": [
        {
          "output_type": "execute_result",
          "data": {
            "text/plain": [
              "['one', 'two', 'list', 'dict']"
            ]
          },
          "metadata": {
            "tags": []
          },
          "execution_count": 198
        }
      ]
    },
    {
      "cell_type": "code",
      "metadata": {
        "id": "WJJniDzUPZfP"
      },
      "source": [
        ""
      ],
      "execution_count": null,
      "outputs": []
    },
    {
      "cell_type": "markdown",
      "metadata": {
        "id": "GL0dz-NdYYmV"
      },
      "source": [
        "делаем тоже самое, но при помощи выражения lambda"
      ]
    },
    {
      "cell_type": "code",
      "metadata": {
        "colab": {
          "base_uri": "https://localhost:8080/"
        },
        "id": "SJsmaaPc0RMu",
        "outputId": "b3286ae4-9d1a-4486-d180-36b1201b5cb6"
      },
      "source": [
        "list(filter(lambda x:len(x)>2, list_of_words))"
      ],
      "execution_count": null,
      "outputs": [
        {
          "output_type": "execute_result",
          "data": {
            "text/plain": [
              "['one', 'two', 'list', 'dict']"
            ]
          },
          "metadata": {
            "tags": []
          },
          "execution_count": 199
        }
      ]
    },
    {
      "cell_type": "markdown",
      "metadata": {
        "id": "ECHi4avSzzgU"
      },
      "source": [
        "Из списка чисел оставить только нечетные (при помощи функции и при помощи lambda):"
      ]
    },
    {
      "cell_type": "code",
      "metadata": {
        "id": "SrwcWNqjZhg8"
      },
      "source": [
        "seq = [101, 11, 12, 422, 343, 76]"
      ],
      "execution_count": null,
      "outputs": []
    },
    {
      "cell_type": "code",
      "metadata": {
        "id": "ZmmTse6gZRE_"
      },
      "source": [
        "#TODO\n",
        "def check_odd(a):\n",
        "  supp_list = []\n",
        "  for i in a:\n",
        "    if i%2 != 0:\n",
        "      supp_list.append(i)\n",
        "    else:\n",
        "      continue\n",
        "  return supp_list\n",
        "\n"
      ],
      "execution_count": null,
      "outputs": []
    },
    {
      "cell_type": "code",
      "metadata": {
        "colab": {
          "base_uri": "https://localhost:8080/"
        },
        "id": "2HsFZH19Q_vL",
        "outputId": "462cc4ae-81a4-49a3-cc3c-ea8c847ff4a3"
      },
      "source": [
        "check_odd(seq)"
      ],
      "execution_count": null,
      "outputs": [
        {
          "output_type": "execute_result",
          "data": {
            "text/plain": [
              "[101, 11, 343]"
            ]
          },
          "metadata": {
            "tags": []
          },
          "execution_count": 204
        }
      ]
    },
    {
      "cell_type": "code",
      "metadata": {
        "colab": {
          "base_uri": "https://localhost:8080/"
        },
        "id": "Nr0xApm1RjA9",
        "outputId": "f8954725-a709-4efa-d3e0-f26bca6578ad"
      },
      "source": [
        "list(filter(lambda a: a%2!=0, seq))"
      ],
      "execution_count": null,
      "outputs": [
        {
          "output_type": "execute_result",
          "data": {
            "text/plain": [
              "[101, 11, 343]"
            ]
          },
          "metadata": {
            "tags": []
          },
          "execution_count": 206
        }
      ]
    },
    {
      "cell_type": "code",
      "metadata": {
        "colab": {
          "base_uri": "https://localhost:8080/"
        },
        "id": "hEtuPEWKzrtq",
        "outputId": "bc4a3199-0e3b-4e0a-bd06-3f1d22467995"
      },
      "source": [
        "#TODO\n",
        "list(filter(lambda x:x%2, seq))"
      ],
      "execution_count": null,
      "outputs": [
        {
          "output_type": "execute_result",
          "data": {
            "text/plain": [
              "[101, 11, 343]"
            ]
          },
          "metadata": {
            "tags": []
          },
          "execution_count": 207
        }
      ]
    },
    {
      "cell_type": "code",
      "metadata": {
        "colab": {
          "base_uri": "https://localhost:8080/"
        },
        "id": "xD4sdbEPRpeK",
        "outputId": "a42af00c-d5a3-47a3-8f54-f9b61c8d7965"
      },
      "source": [
        "int(False)"
      ],
      "execution_count": null,
      "outputs": [
        {
          "output_type": "execute_result",
          "data": {
            "text/plain": [
              "0"
            ]
          },
          "metadata": {
            "tags": []
          },
          "execution_count": 209
        }
      ]
    },
    {
      "cell_type": "markdown",
      "metadata": {
        "id": "bxvJhXPQ0A1G"
      },
      "source": [
        "Аналогично, только четные:"
      ]
    },
    {
      "cell_type": "code",
      "metadata": {
        "colab": {
          "base_uri": "https://localhost:8080/"
        },
        "id": "RLoeOaSzZ7z5",
        "outputId": "91e3fa44-8019-4f31-8f23-394086c3e5ac"
      },
      "source": [
        "#TODO\n",
        "def check_even(a):\n"
      ],
      "execution_count": null,
      "outputs": [
        {
          "output_type": "execute_result",
          "data": {
            "text/plain": [
              "[12, 422, 76]"
            ]
          },
          "metadata": {
            "tags": []
          },
          "execution_count": 13
        }
      ]
    },
    {
      "cell_type": "code",
      "metadata": {
        "colab": {
          "base_uri": "https://localhost:8080/"
        },
        "id": "Xgqlxf0q0ALd",
        "outputId": "c62589e2-8b65-4392-fc23-2ac4e060c375"
      },
      "source": [
        "#TODO\n",
        "list(filter(lambda x: x%2==0, seq))"
      ],
      "execution_count": null,
      "outputs": [
        {
          "output_type": "execute_result",
          "data": {
            "text/plain": [
              "[12, 422, 76]"
            ]
          },
          "metadata": {
            "tags": []
          },
          "execution_count": 211
        }
      ]
    },
    {
      "cell_type": "markdown",
      "metadata": {
        "id": "fqd43l2xaRnE"
      },
      "source": [
        "Из списка чисел оставить только те, которые > 0 (при помощи функции и при помощи lambda):"
      ]
    },
    {
      "cell_type": "code",
      "metadata": {
        "id": "qvcU6-krX9f1"
      },
      "source": [
        "a = [1, -4, 6, 8, -10]"
      ],
      "execution_count": null,
      "outputs": []
    },
    {
      "cell_type": "code",
      "metadata": {
        "id": "dt3RVX5xVwi2"
      },
      "source": [
        "#TODO\n",
        "def func(x):\n",
        "  supp_list = []\n",
        "  for i in x:\n",
        "    if i>0:\n",
        "      supp_list.append(i)\n",
        "    else:\n",
        "      continue\n",
        "  return supp_list"
      ],
      "execution_count": null,
      "outputs": []
    },
    {
      "cell_type": "code",
      "metadata": {
        "colab": {
          "base_uri": "https://localhost:8080/"
        },
        "id": "R8Dc7Bd0Sv4H",
        "outputId": "6e4969e4-20b5-4c21-891e-295b4af125cb"
      },
      "source": [
        "func(a)"
      ],
      "execution_count": null,
      "outputs": [
        {
          "output_type": "execute_result",
          "data": {
            "text/plain": [
              "[1, 6, 8]"
            ]
          },
          "metadata": {
            "tags": []
          },
          "execution_count": 216
        }
      ]
    },
    {
      "cell_type": "code",
      "metadata": {
        "colab": {
          "base_uri": "https://localhost:8080/"
        },
        "id": "95rj6Y90aeRQ",
        "outputId": "53d042ae-691a-43d5-a485-63aeb894003d"
      },
      "source": [
        "#TODO\n",
        "list(filter(lambda x:x>0, a))"
      ],
      "execution_count": null,
      "outputs": [
        {
          "output_type": "execute_result",
          "data": {
            "text/plain": [
              "[1, 6, 8]"
            ]
          },
          "metadata": {
            "tags": []
          },
          "execution_count": 217
        }
      ]
    },
    {
      "cell_type": "markdown",
      "metadata": {
        "id": "9YeQpenWyUdv"
      },
      "source": [
        "### Задача 3.\n",
        " Есть список a. Выведите все элементы, которые меньше 7. Сделайте это при помощи цикла for, list comprehensions, filter+lambda."
      ]
    },
    {
      "cell_type": "code",
      "metadata": {
        "id": "Q4qH-5WvkHC3"
      },
      "source": [
        "a = [1, 7, 1, 2, 3, 3, 5, 8,4, 69, 44, 32, 56]"
      ],
      "execution_count": null,
      "outputs": []
    },
    {
      "cell_type": "markdown",
      "metadata": {
        "id": "Wtimpd8Rywyt"
      },
      "source": [
        "Решим при помощи цикла for:"
      ]
    },
    {
      "cell_type": "code",
      "metadata": {
        "id": "jHi05nu1cOq_"
      },
      "source": [
        "#TODO\n",
        "def check_list(x):\n",
        "  supp_list = []\n",
        "  for i in x:\n",
        "    if i<7:\n",
        "      supp_list.append(i)\n",
        "    else:\n",
        "      continue\n",
        "  return supp_list"
      ],
      "execution_count": null,
      "outputs": []
    },
    {
      "cell_type": "code",
      "metadata": {
        "colab": {
          "base_uri": "https://localhost:8080/"
        },
        "id": "OZBpBJd1bFWk",
        "outputId": "0aad3278-8a82-45bd-c9bc-052d3249c9cd"
      },
      "source": [
        "new_a = check_list(a)\n",
        "new_a"
      ],
      "execution_count": null,
      "outputs": [
        {
          "output_type": "execute_result",
          "data": {
            "text/plain": [
              "[1, 1, 2, 3, 3, 5, 4]"
            ]
          },
          "metadata": {
            "tags": []
          },
          "execution_count": 224
        }
      ]
    },
    {
      "cell_type": "markdown",
      "metadata": {
        "id": "NjKSbmGOy2rI"
      },
      "source": [
        "Решим при помощи list comprehensions:"
      ]
    },
    {
      "cell_type": "code",
      "metadata": {
        "colab": {
          "base_uri": "https://localhost:8080/"
        },
        "id": "XoixI4rWy8UU",
        "outputId": "1ea359ef-e4aa-4769-e079-7c07f28ecc9e"
      },
      "source": [
        "#TODO\n",
        "new_a = [i for i in a if i<7]\n",
        "new_a"
      ],
      "execution_count": null,
      "outputs": [
        {
          "output_type": "execute_result",
          "data": {
            "text/plain": [
              "[1, 1, 2, 3, 3, 5, 4]"
            ]
          },
          "metadata": {
            "tags": []
          },
          "execution_count": 226
        }
      ]
    },
    {
      "cell_type": "markdown",
      "metadata": {
        "id": "1HsntQRRy-ht"
      },
      "source": [
        "Решим при помощи filter+lambda"
      ]
    },
    {
      "cell_type": "code",
      "metadata": {
        "colab": {
          "base_uri": "https://localhost:8080/"
        },
        "id": "gdHVQdjey8p1",
        "outputId": "7b58f328-bde7-4e3a-fccb-dd13611e11e3"
      },
      "source": [
        "#TODO\n",
        "list(filter(lambda x:x<7, a))"
      ],
      "execution_count": null,
      "outputs": [
        {
          "output_type": "execute_result",
          "data": {
            "text/plain": [
              "[1, 1, 2, 3, 3, 5, 4]"
            ]
          },
          "metadata": {
            "tags": []
          },
          "execution_count": 227
        }
      ]
    },
    {
      "cell_type": "markdown",
      "metadata": {
        "id": "4eYo_xSLznz0"
      },
      "source": [
        "### Задача 4\n",
        "Напишите функцию, которая перемножает все элементы заданного одномерного массива"
      ]
    },
    {
      "cell_type": "code",
      "metadata": {
        "id": "ZqUrm4cgdrox"
      },
      "source": [
        "seq = [3, 5, 6, 2]"
      ],
      "execution_count": null,
      "outputs": []
    },
    {
      "cell_type": "code",
      "metadata": {
        "id": "6gx2Hi3NdUTN"
      },
      "source": [
        "#TODO\n",
        "def multiply_list(items):\n",
        "  tot = 1\n",
        "  for i in items:\n",
        "    tot*=i\n",
        "  return tot"
      ],
      "execution_count": null,
      "outputs": []
    },
    {
      "cell_type": "code",
      "metadata": {
        "colab": {
          "base_uri": "https://localhost:8080/"
        },
        "id": "7ZNIIEEBdUst",
        "outputId": "0c973966-e2e8-4c35-d8f3-30c027133e1c"
      },
      "source": [
        "multiply_list(seq)"
      ],
      "execution_count": null,
      "outputs": [
        {
          "output_type": "execute_result",
          "data": {
            "text/plain": [
              "180"
            ]
          },
          "metadata": {
            "tags": []
          },
          "execution_count": 232
        }
      ]
    },
    {
      "cell_type": "markdown",
      "metadata": {
        "id": "6Kl9QuDMfJ4m"
      },
      "source": [
        "### Задача 5"
      ]
    },
    {
      "cell_type": "markdown",
      "metadata": {
        "id": "cdfdRfoEezK2"
      },
      "source": [
        "Напишите программу которая бы выводила количество таких элементов списка, у которых совпадает 1ый и последний символы\n",
        "\n",
        "\n",
        "вход : ['abc', 'xyz', 'aba', '1221']\n",
        "\n",
        "выход : 2"
      ]
    },
    {
      "cell_type": "code",
      "metadata": {
        "id": "a6Rx4XmmfOsy"
      },
      "source": [
        "seq = ['abc', 'xyz', 'aba', '1221']"
      ],
      "execution_count": null,
      "outputs": []
    },
    {
      "cell_type": "code",
      "metadata": {
        "colab": {
          "base_uri": "https://localhost:8080/"
        },
        "id": "Udm8MMm7easc",
        "outputId": "3c425afb-d3f5-4f3c-e6e5-c15d77bc9f9d"
      },
      "source": [
        "#TODO\n",
        "def match_words(words):  \n",
        "  count = 0\n",
        "  for word in words:\n",
        "    if word[0]==word[-1]:\n",
        "      count+=1\n",
        "  return count\n",
        "  \n",
        "print(match_words(seq)) "
      ],
      "execution_count": null,
      "outputs": [
        {
          "output_type": "stream",
          "text": [
            "2\n"
          ],
          "name": "stdout"
        }
      ]
    },
    {
      "cell_type": "markdown",
      "metadata": {
        "id": "xLnhjWN0gU_9"
      },
      "source": [
        "### Задача 6\n",
        "Допустим есть следующая формула эластичности спроса:\n",
        "$$\n",
        "E=\\frac{Q_{2}-Q_{1}}{Q_{1}} \\div \\frac{P_{2}-P_{1}}{P_{1}}\n",
        "$$\n",
        "где Е - эластичность спроса\n",
        "\n",
        "P1 и P2 - прежняя и новая цена\n",
        "\n",
        "Q1 и Q2 - спрос при прежней и новой цене соответственно\n",
        "\n",
        "Напишите функцию, которая принимала бы на вход параметры P1, P2, Q1, Q2, а на выходе бы возвращала E.\n"
      ]
    },
    {
      "cell_type": "code",
      "metadata": {
        "id": "JsVMTAQGhM65"
      },
      "source": [
        "#TODO\n",
        "def elas_demand(P1, P2, Q1, Q2):\n",
        "  if Q1!=0 and P1!= 0 and (P2-P1)!=0:\n",
        "    E = ((Q2 - Q1)/ Q1) / ((P2 - P1)/ P1)\n",
        "    return E\n",
        "  else:\n",
        "    return 'division by zero'"
      ],
      "execution_count": null,
      "outputs": []
    },
    {
      "cell_type": "code",
      "metadata": {
        "colab": {
          "base_uri": "https://localhost:8080/",
          "height": 37
        },
        "id": "jevA-ElmhzeE",
        "outputId": "d51eb187-4407-408b-d7a2-aaad8eff792f"
      },
      "source": [
        "elas_demand(P1=0, P2=20, Q1=7, Q2=8)\n"
      ],
      "execution_count": null,
      "outputs": [
        {
          "output_type": "execute_result",
          "data": {
            "application/vnd.google.colaboratory.intrinsic+json": {
              "type": "string"
            },
            "text/plain": [
              "'division by zero'"
            ]
          },
          "metadata": {
            "tags": []
          },
          "execution_count": 245
        }
      ]
    },
    {
      "cell_type": "markdown",
      "metadata": {
        "id": "7TYFdwdBj2w6"
      },
      "source": [
        "### Задача 7\n",
        "Допустим у Вас есть следующий полином:\n",
        "$$\n",
        "p(x)=a_{0}+a_{1} x+a_{2} x^{2}+\\cdots a_{n} x^{n}=\\sum_{i=0}^{n} a_{i} x^{i}\n",
        "$$\n",
        "Напишите функцию p(x, coeff), которая выводит значение полинома в заданной точке x с заданными коэффициентами"
      ]
    },
    {
      "cell_type": "code",
      "metadata": {
        "id": "lKt1zi9lW5ak"
      },
      "source": [
        "coeffs = [1,2,7]"
      ],
      "execution_count": null,
      "outputs": []
    },
    {
      "cell_type": "code",
      "metadata": {
        "id": "iT3jqr-5XHqL"
      },
      "source": [
        "def p(x, coeff):\n",
        "  p = 0\n",
        "  x1 = 1\n",
        "  for i in coeff:\n",
        "    p += i*x1\n",
        "    x1 *= x\n",
        "  return p"
      ],
      "execution_count": null,
      "outputs": []
    },
    {
      "cell_type": "code",
      "metadata": {
        "id": "B35LseOJkkn8"
      },
      "source": [
        "#TODO\n",
        "def p(x, coeff):\n",
        "  supp_list = []\n",
        "  for i, a in enumerate(coeff):\n",
        "    supp_list.append(a*x**i)\n",
        "  return sum(supp_list)"
      ],
      "execution_count": null,
      "outputs": []
    },
    {
      "cell_type": "code",
      "metadata": {
        "colab": {
          "base_uri": "https://localhost:8080/"
        },
        "id": "Qu8xqzgYkpjl",
        "outputId": "951592cf-2b44-4934-cd3a-7a2e8f6f6cea"
      },
      "source": [
        "p(1, coeffs)"
      ],
      "execution_count": null,
      "outputs": [
        {
          "output_type": "execute_result",
          "data": {
            "text/plain": [
              "10"
            ]
          },
          "metadata": {
            "tags": []
          },
          "execution_count": 251
        }
      ]
    },
    {
      "cell_type": "markdown",
      "metadata": {
        "id": "lI8M7Zv7k7Ht"
      },
      "source": [
        "Эту функцию можно переписать следующим образом:"
      ]
    },
    {
      "cell_type": "code",
      "metadata": {
        "id": "N5InHpKUlD42"
      },
      "source": [
        "#TODO\n",
        "def p(x, coeff):\n",
        "  return sum([a * x**i for i,a in enumerate(coeff)])"
      ],
      "execution_count": null,
      "outputs": []
    },
    {
      "cell_type": "code",
      "metadata": {
        "colab": {
          "base_uri": "https://localhost:8080/"
        },
        "id": "_HktYOcKlI8X",
        "outputId": "3c91682b-0f1f-4622-fca7-686d6bca373e"
      },
      "source": [
        "p(1, coeffs)"
      ],
      "execution_count": null,
      "outputs": [
        {
          "output_type": "execute_result",
          "data": {
            "text/plain": [
              "10"
            ]
          },
          "metadata": {
            "tags": []
          },
          "execution_count": 254
        }
      ]
    },
    {
      "cell_type": "markdown",
      "metadata": {
        "id": "4NY_iROicj2x"
      },
      "source": [
        "# Объектно-ориентированное программирование (ООП)\n",
        "\n",
        "ООП - парадигма программирования, основанная на концепциях объектов и классов.\n",
        "\n",
        "*   Класс — тип, описывающий устройство объектов. \n",
        "*   Объект — экземпляр класса. Класс - основа, на которой определяются объекты.\n",
        "\n",
        "В python всё является объектами (строки, списки, ...). Например, строка str() - это экземпляр класса строк или, иначе говоря, объект класса строк.\n",
        "\n",
        "Но возможности ООП в python этим не ограничены. Мы можем написать свой тип данных (класс), определить в нём свои методы.\n",
        "\n",
        "Это не является обязательным - мы можем пользоваться только встроенными объектами. Однако ООП полезно при долгосрочной разработке программы несколькими людьми, оно сильно упрощает понимание кода.\n",
        "\n",
        "\n",
        "Стандартная конструкция \n",
        "\n",
        "\n",
        "```\n",
        "class [название класса]() \n",
        "```\n",
        "\n",
        "\n",
        "---"
      ]
    },
    {
      "cell_type": "markdown",
      "metadata": {
        "id": "HzpfipRKXwg5"
      },
      "source": [
        "Сегодня мы на практических примерах разберём, как ООП реализовано в Python. Для начала построим несколько простых классов. \n",
        "\n",
        "Создадим 2 функции, которые назовем соответственно **earn** и **spend**. \n",
        "\n",
        "Функция **earn** берет начальное богатство потребителя w\n",
        "и добавляет к нему свой текущий заработок y.\n",
        "\n",
        "Функция **spend** берет начальное богатство потребителя w\n",
        "и вычитает из нее свои текущие расходы x."
      ]
    },
    {
      "cell_type": "code",
      "metadata": {
        "id": "KLhyXenwXsdr"
      },
      "source": [
        "def earn(w,y):\n",
        "    \"Человек с начальным капиталом w зарабатывает y\"\n",
        "    return w+y\n",
        "\n",
        "def spend(w,x):\n",
        "    \"Человек с начальным капиталом w тратит x\"\n",
        "    new_wealth = w - x\n",
        "    if new_wealth < 0:\n",
        "        print(\"Недостаточно средств\")\n",
        "    else:\n",
        "        return new_wealth"
      ],
      "execution_count": null,
      "outputs": []
    },
    {
      "cell_type": "markdown",
      "metadata": {
        "id": "G99u8BO3X4py"
      },
      "source": [
        "Мы можем использовать эти две функции для отслеживания состояния потребителя по мере того, как он зарабатывает и тратит.\n",
        "\n",
        "Например"
      ]
    },
    {
      "cell_type": "code",
      "metadata": {
        "colab": {
          "base_uri": "https://localhost:8080/"
        },
        "id": "3aRur4j-X2lg",
        "outputId": "53830d1f-2bec-4f68-8b2a-7b0a7c86cc65"
      },
      "source": [
        "w0 = 100\n",
        "w1=earn(w0,10)\n",
        "w2=spend(w1,20)\n",
        "w3=earn(w2,10)\n",
        "w4=spend(w3,20)\n",
        "print(\"w0,w1,w2,w3,w4 = \", w0,w1,w2,w3,w4)"
      ],
      "execution_count": null,
      "outputs": [
        {
          "output_type": "stream",
          "text": [
            "w0,w1,w2,w3,w4 =  100 110 90 100 80\n"
          ],
          "name": "stdout"
        }
      ]
    },
    {
      "cell_type": "markdown",
      "metadata": {
        "id": "fZkODLMdYCHs"
      },
      "source": [
        "Класс связывает набор данных, связанных с конкретным экземпляром, вместе с набором функций, которые работают с данными.\n",
        "\n",
        "В нашем примере экземпляром будет имя конкретного человека, данные экземпляра которого состоят исключительно из его состояния/начального капитала.\n",
        "\n",
        "В нашем примере к данным текущего экземпляра можно применить две функции: **earn** и **spend**. Данные экземпляра и функции называются методами.\n",
        "К ним можно легко получить доступ способами, которые мы сейчас опишем.\n",
        "\n",
        "Мы построим Consumer класс, включив в него :\n",
        "\n",
        "- атрибут капитала, в котором хранятся данные о капитале потребителя\n",
        "\n",
        "- метод **earn**, где заработок (у) увеличивает благосостояние потребителя на у\n",
        "\n",
        "- метод **spend**, где трата (х) либо уменьшает богатство на х, либо возвращает ошибку, если средств недостаточно"
      ]
    },
    {
      "cell_type": "code",
      "metadata": {
        "id": "MJlkfjP0X3lS"
      },
      "source": [
        "class Consumer:\n",
        "\n",
        "    def __init__(self, w):\n",
        "        # конструктор класса\n",
        "        # после того, как класс инициализирован - в него можно принимать агрументы\n",
        "        # конструкция __init__ запускается автоматически\n",
        "        # Вызов __init__ устанавливает «пространство имен» для хранения данных экземпляра.\n",
        "        \n",
        "        \"Инициализируем потребителя с нач.капиталом w долларов\"\n",
        "        self.wealth = w\n",
        "\n",
        "    def earn(self, y):\n",
        "        \"Потребитель зарабатывает y долларов\"\n",
        "        self.wealth += y\n",
        "\n",
        "    def spend(self, x):\n",
        "        \"Потребитель тратит х долларов, если это возможно\"\n",
        "        new_wealth = self.wealth - x\n",
        "        if new_wealth < 0:\n",
        "            print(\"Недостаточно средств\")\n",
        "        else:\n",
        "            self.wealth = new_wealth"
      ],
      "execution_count": null,
      "outputs": []
    },
    {
      "cell_type": "markdown",
      "metadata": {
        "id": "e4L6h748ZV5h"
      },
      "source": [
        "Зачем нам self?\n",
        "Классам нужен способ, что ссылаться на самих себя т.е. способ сообщения между экземплярами. Слово self это способ описания любого объектов."
      ]
    },
    {
      "cell_type": "markdown",
      "metadata": {
        "id": "442hZ2TyYJYu"
      },
      "source": [
        "Здесь есть особый синтаксис, поэтому давайте внимательно рассмотрим его\n",
        "\n",
        "- Ключевое слово class указывает, что мы создаем класс.\n",
        "\n",
        "Класс Consumer определяет начальные данные о капитале (`w`) и три метода: `__init__`, `earn` и `spend`.\n",
        "\n",
        "капитал `w` - это данные экземпляра, потому что каждый созданный нами потребитель (каждый экземпляр класса Consumer) будет иметь свои собственные данные о капитале.\n",
        "\n",
        "\n",
        "Метод `__init__` - это конструктор класса. Всякий раз, когда мы создаем экземпляр класса, метод `__init__` будет вызываться автоматически. Вызов `__init__` устанавливает «пространство имен» для хранения данных экземпляра."
      ]
    },
    {
      "cell_type": "markdown",
      "metadata": {
        "id": "tvIF9gPxYOQ3"
      },
      "source": [
        "Вот пример, в котором мы используем класс Consumer для создания экземпляра потребителя, которого мы назовем c1.\n",
        "\n",
        "Создав потребителя c1 и наделив его начальным капиталом 10, мы применим метод затрат."
      ]
    },
    {
      "cell_type": "code",
      "metadata": {
        "id": "eWVxvjPtX3GA"
      },
      "source": [
        "c1 = Consumer(10)  # Создадим экземпляр класса с нач.капиталом 10\n",
        "c1.spend(5)"
      ],
      "execution_count": null,
      "outputs": []
    },
    {
      "cell_type": "code",
      "metadata": {
        "colab": {
          "base_uri": "https://localhost:8080/"
        },
        "id": "Kx3KBBFKd3Ix",
        "outputId": "fe965c9d-35c0-469a-f19c-0cc8d482f464"
      },
      "source": [
        "c1.wealth"
      ],
      "execution_count": null,
      "outputs": [
        {
          "output_type": "execute_result",
          "data": {
            "text/plain": [
              "5"
            ]
          },
          "metadata": {
            "tags": []
          },
          "execution_count": 261
        }
      ]
    },
    {
      "cell_type": "code",
      "metadata": {
        "colab": {
          "base_uri": "https://localhost:8080/"
        },
        "id": "gjkCx3T6YSEO",
        "outputId": "278c7de0-215b-4f46-b64c-34b048d81bab"
      },
      "source": [
        "c1.earn(15)\n",
        "c1.spend(100)"
      ],
      "execution_count": null,
      "outputs": [
        {
          "output_type": "stream",
          "text": [
            "Недостаточно средств\n"
          ],
          "name": "stdout"
        }
      ]
    },
    {
      "cell_type": "markdown",
      "metadata": {
        "id": "dansPlM4YbEC"
      },
      "source": [
        "Зададим несколько потребителей"
      ]
    },
    {
      "cell_type": "code",
      "metadata": {
        "colab": {
          "base_uri": "https://localhost:8080/"
        },
        "id": "TvgpLJ88YSpE",
        "outputId": "e145dd22-eaf6-4f67-c7fd-260054cf83ec"
      },
      "source": [
        "c1 = Consumer(10) # Первый экземпляр класса\n",
        "c2 = Consumer(12) # Второй экземпляр класса\n",
        "c2.spend(4)\n",
        "c2.wealth"
      ],
      "execution_count": null,
      "outputs": [
        {
          "output_type": "execute_result",
          "data": {
            "text/plain": [
              "8"
            ]
          },
          "metadata": {
            "tags": []
          },
          "execution_count": 263
        }
      ]
    },
    {
      "cell_type": "code",
      "metadata": {
        "colab": {
          "base_uri": "https://localhost:8080/"
        },
        "id": "2ZeU4p9kXth2",
        "outputId": "db9812c5-a5e5-40b2-b561-6accfdf79d2a"
      },
      "source": [
        "c1.wealth"
      ],
      "execution_count": null,
      "outputs": [
        {
          "output_type": "execute_result",
          "data": {
            "text/plain": [
              "10"
            ]
          },
          "metadata": {
            "tags": []
          },
          "execution_count": 264
        }
      ]
    },
    {
      "cell_type": "code",
      "metadata": {
        "colab": {
          "base_uri": "https://localhost:8080/"
        },
        "id": "fUBle-qtcwvN",
        "outputId": "c6cee63b-248c-4141-dc02-6916d74e8709"
      },
      "source": [
        "c1.wealth"
      ],
      "execution_count": null,
      "outputs": [
        {
          "output_type": "execute_result",
          "data": {
            "text/plain": [
              "10"
            ]
          },
          "metadata": {
            "tags": []
          },
          "execution_count": 265
        }
      ]
    },
    {
      "cell_type": "markdown",
      "metadata": {
        "id": "_UmAic0JYjfL"
      },
      "source": [
        "Каждый экземпляр, то есть каждый потребитель, хранит свои данные в отдельном словаре, который можно вызвать при помощи метода `__dict__`."
      ]
    },
    {
      "cell_type": "code",
      "metadata": {
        "colab": {
          "base_uri": "https://localhost:8080/"
        },
        "id": "eqw0IHpnXuoT",
        "outputId": "3aca0ea2-7955-4bf5-ed9d-fa4950ed05e4"
      },
      "source": [
        "c1.__dict__"
      ],
      "execution_count": null,
      "outputs": [
        {
          "output_type": "execute_result",
          "data": {
            "text/plain": [
              "{'wealth': 10}"
            ]
          },
          "metadata": {
            "tags": []
          },
          "execution_count": 266
        }
      ]
    },
    {
      "cell_type": "code",
      "metadata": {
        "colab": {
          "base_uri": "https://localhost:8080/"
        },
        "id": "Aqr4Qsd0XuG1",
        "outputId": "be0dae4f-32fc-445a-dce5-bd5e0d30f045"
      },
      "source": [
        "c2.__dict__"
      ],
      "execution_count": null,
      "outputs": [
        {
          "output_type": "execute_result",
          "data": {
            "text/plain": [
              "{'wealth': 8}"
            ]
          },
          "metadata": {
            "tags": []
          },
          "execution_count": 267
        }
      ]
    },
    {
      "cell_type": "markdown",
      "metadata": {
        "id": "Q1ygsg54Yrn6"
      },
      "source": [
        "Когда мы получаем доступ или устанавливаем атрибуты, мы фактически просто изменяем этот словарь."
      ]
    },
    {
      "cell_type": "markdown",
      "metadata": {
        "id": "a1Dv_dBDYtd3"
      },
      "source": [
        "Если вы еще раз посмотрите на определение класса Consumer, вы увидите слово `self` во всем коде.\n",
        "\n",
        "Правила использования self при создании класса таковы:\n",
        "\n",
        "- Любые данные экземпляра должны начинаться с self\n",
        "  - например, метод заработка использует `self.wealth`, а не просто `wealth`.\n",
        "\n",
        "- Метод, определенный в коде, который определяет класс, должен иметь self в качестве первого аргумента.\n",
        "  - например, `def.earn(self, y)`, а не просто `def.earn(y)`\n",
        "\n",
        "- Любой метод, на который есть ссылка в классе, должен называться self.method_name\n",
        "\n",
        "В предыдущем коде нет примеров последнего правила, но мы вскоре увидим некоторые из них."
      ]
    },
    {
      "cell_type": "markdown",
      "metadata": {
        "id": "Usm1XqA5ZGBU"
      },
      "source": [
        "Еще пример уже другого класса:"
      ]
    },
    {
      "cell_type": "code",
      "metadata": {
        "id": "L4hmTB5gcQvl"
      },
      "source": [
        "class Sber():\n",
        "    # конструктор класса\n",
        "    # после того, как класс инициализирован - в него можно принимать агрументы\n",
        "    # конструкция __init__ автоматически запустится, в hello запишется 'привет'\n",
        "    def __init__(self, hey):\n",
        "        self.hello = hey\n",
        "\n",
        "    # определим функцию класса - распечатаем внутренний параметр hello\n",
        "    def print_hello(self):\n",
        "        print(self.hello) "
      ],
      "execution_count": null,
      "outputs": []
    },
    {
      "cell_type": "code",
      "metadata": {
        "colab": {
          "base_uri": "https://localhost:8080/"
        },
        "id": "_mw5zrQhcRDQ",
        "outputId": "088c983b-1e37-461d-f9d4-432b56bc874f"
      },
      "source": [
        "# Определим объект класса и передадим в него аргументы\n",
        "class_obj = Sber(234)\n",
        "class_obj.__dict__"
      ],
      "execution_count": null,
      "outputs": [
        {
          "output_type": "execute_result",
          "data": {
            "text/plain": [
              "{'hello': 234}"
            ]
          },
          "metadata": {
            "tags": []
          },
          "execution_count": 270
        }
      ]
    },
    {
      "cell_type": "code",
      "metadata": {
        "colab": {
          "base_uri": "https://localhost:8080/"
        },
        "id": "dDhGhASidQxf",
        "outputId": "916170af-7d2a-4296-a570-f2d9c50ac8e3"
      },
      "source": [
        "# вызовем функцию класса\n",
        "class_obj.print_hello()"
      ],
      "execution_count": null,
      "outputs": [
        {
          "output_type": "stream",
          "text": [
            "привет\n"
          ],
          "name": "stdout"
        }
      ]
    },
    {
      "cell_type": "markdown",
      "metadata": {
        "id": "8dE2jc8iZuXZ"
      },
      "source": [
        "## Постулаты ООП"
      ]
    },
    {
      "cell_type": "markdown",
      "metadata": {
        "id": "7W7DfC-Dcs50"
      },
      "source": [
        "## Постулат 1. Инкапсуляция\n",
        "\n",
        "Инкапсуляция – скрытие реализации каких либо частей модуля или объекта от внешнего мира (от клиента). Это означает, что манипулируя модификаторами доступа, можно скрыть или открыть только определенные свойства, методы или классы для того, чтобы ненужные для класса-клиента данные не были доступны.\n",
        "\n",
        "Инкапсуляция в Python работает лишь на уровне соглашения между программистами о том, какие атрибуты являются общедоступными, а какие — внутренними.\n",
        "\n",
        "Одиночное подчеркивание в начале имени атрибута говорит о том, что переменная или метод не предназначен для использования вне методов класса, однако атрибут доступен по этому имени."
      ]
    },
    {
      "cell_type": "code",
      "metadata": {
        "colab": {
          "base_uri": "https://localhost:8080/",
          "height": 37
        },
        "id": "H5cSGu_lcQcF",
        "outputId": "78a36cc7-293c-43a9-cc54-454bced53342"
      },
      "source": [
        "class Test:\n",
        "    name = \"test case\" \n",
        "    def __init__(self, seed=42):\n",
        "        self._seed = seed\n",
        "\n",
        "    def _secret(self):\n",
        "        return Test.name + ' ' + str(self._seed)\n",
        "        \n",
        "    def __str__(self):\n",
        "        return self._secret() + str(1666)\n",
        "\n",
        "obj = Test()\n",
        "obj._secret()"
      ],
      "execution_count": null,
      "outputs": [
        {
          "output_type": "execute_result",
          "data": {
            "application/vnd.google.colaboratory.intrinsic+json": {
              "type": "string"
            },
            "text/plain": [
              "'test case 42'"
            ]
          },
          "metadata": {
            "tags": []
          },
          "execution_count": 279
        }
      ]
    },
    {
      "cell_type": "code",
      "metadata": {
        "colab": {
          "base_uri": "https://localhost:8080/",
          "height": 37
        },
        "id": "Hy4qbKnAcQFn",
        "outputId": "2df46c57-aef3-4d80-94c8-60fcf3992399"
      },
      "source": [
        "obj.__str__()"
      ],
      "execution_count": null,
      "outputs": [
        {
          "output_type": "execute_result",
          "data": {
            "application/vnd.google.colaboratory.intrinsic+json": {
              "type": "string"
            },
            "text/plain": [
              "'test case 421666'"
            ]
          },
          "metadata": {
            "tags": []
          },
          "execution_count": 280
        }
      ]
    },
    {
      "cell_type": "code",
      "metadata": {
        "colab": {
          "base_uri": "https://localhost:8080/",
          "height": 37
        },
        "id": "oyvzj3cMfLAJ",
        "outputId": "61ab4bfe-dac2-4b1e-97c1-d855f4d29bbe"
      },
      "source": [
        "str(obj)"
      ],
      "execution_count": null,
      "outputs": [
        {
          "output_type": "execute_result",
          "data": {
            "application/vnd.google.colaboratory.intrinsic+json": {
              "type": "string"
            },
            "text/plain": [
              "'test case 421666'"
            ]
          },
          "metadata": {
            "tags": []
          },
          "execution_count": 281
        }
      ]
    },
    {
      "cell_type": "markdown",
      "metadata": {
        "id": "5S6NMyDgc0oR"
      },
      "source": [
        "Двойное подчеркивание в начале имени атрибута даёт большую защиту: атрибут становится недоступным по этому имени."
      ]
    },
    {
      "cell_type": "code",
      "metadata": {
        "colab": {
          "base_uri": "https://localhost:8080/",
          "height": 198
        },
        "id": "3WSpKsWTcxLy",
        "outputId": "e8f67924-ebb8-4e23-c9a9-c6437755b16b"
      },
      "source": [
        "class Test:\n",
        "    def __secret(self):\n",
        "        print('top secret')\n",
        "\n",
        "obj = Test()\n",
        "obj.__secret()"
      ],
      "execution_count": null,
      "outputs": [
        {
          "output_type": "error",
          "ename": "AttributeError",
          "evalue": "ignored",
          "traceback": [
            "\u001b[0;31m---------------------------------------------------------------------------\u001b[0m",
            "\u001b[0;31mAttributeError\u001b[0m                            Traceback (most recent call last)",
            "\u001b[0;32m<ipython-input-283-1294488e2eb0>\u001b[0m in \u001b[0;36m<module>\u001b[0;34m()\u001b[0m\n\u001b[1;32m      4\u001b[0m \u001b[0;34m\u001b[0m\u001b[0m\n\u001b[1;32m      5\u001b[0m \u001b[0mobj\u001b[0m \u001b[0;34m=\u001b[0m \u001b[0mTest\u001b[0m\u001b[0;34m(\u001b[0m\u001b[0;34m)\u001b[0m\u001b[0;34m\u001b[0m\u001b[0;34m\u001b[0m\u001b[0m\n\u001b[0;32m----> 6\u001b[0;31m \u001b[0mobj\u001b[0m\u001b[0;34m.\u001b[0m\u001b[0m__secret\u001b[0m\u001b[0;34m(\u001b[0m\u001b[0;34m)\u001b[0m\u001b[0;34m\u001b[0m\u001b[0;34m\u001b[0m\u001b[0m\n\u001b[0m",
            "\u001b[0;31mAttributeError\u001b[0m: 'Test' object has no attribute '__secret'"
          ]
        }
      ]
    },
    {
      "cell_type": "markdown",
      "metadata": {
        "id": "Gesh4vvjfWHf"
      },
      "source": [
        "Однако!!!"
      ]
    },
    {
      "cell_type": "code",
      "metadata": {
        "colab": {
          "base_uri": "https://localhost:8080/"
        },
        "id": "sqFQ54v2cxem",
        "outputId": "149a6a84-1ebf-482d-988b-caa637eb87e7"
      },
      "source": [
        "obj._Test__secret()"
      ],
      "execution_count": null,
      "outputs": [
        {
          "output_type": "stream",
          "text": [
            "top secret\n"
          ],
          "name": "stdout"
        }
      ]
    },
    {
      "cell_type": "markdown",
      "metadata": {
        "id": "1yqBhLXgc8jF"
      },
      "source": [
        "## Постулат 2. Наследование\n",
        "\n",
        "Наследование подразумевает то, что дочерний класс содержит все атрибуты родительского класса, при этом некоторые из них могут быть переопределены или добавлены в дочернем."
      ]
    },
    {
      "cell_type": "code",
      "metadata": {
        "id": "BZv-F_Tjcx0h"
      },
      "source": [
        "class Human():  \n",
        "    # Конструктор\n",
        "    def __init__(self, name, age, sex):\n",
        "        self.name = name \n",
        "        self.age = age \n",
        "        self.sex = sex \n",
        "        \n",
        "    # Метод (method):\n",
        "    def showInfo(self):\n",
        "        print(f'Человек: {self.name}, возраст {self.age}, пол {self.sex}')\n",
        "\n",
        "class SuperMan(Human):\n",
        "    def __init__(self, name, age, sex, weight, height):\n",
        "        # Вызывается конструктор родительского класса (Human)\n",
        "        # чтобы прикрепить значение к атрибутам 'name', 'age', 'sex' родительского класса\n",
        "        super().__init__(name, age, sex)\n",
        "\n",
        "        # Доопределяем передаваемые в конструктор SuperMan переменные\n",
        "        self.height = height\n",
        "        self.weight = weight\n",
        "\n",
        "    def showInfo(self): #TODO\n",
        "        print(f'Cупермен| имя: {self.name}, возраст {self.age}, пол {self.sex}, вес {self.weight}, рост {self.height}')"
      ],
      "execution_count": null,
      "outputs": []
    },
    {
      "cell_type": "markdown",
      "metadata": {
        "id": "HeSQg8k_f2qY"
      },
      "source": [
        "Главная задача метода super() это давать возможность использовать и исполнять в классе потомке, методы класса-родителя."
      ]
    },
    {
      "cell_type": "code",
      "metadata": {
        "colab": {
          "base_uri": "https://localhost:8080/"
        },
        "id": "WURQ4RmDcPUW",
        "outputId": "a967fcd2-97c8-4106-c204-8e59414594a7"
      },
      "source": [
        "human_obj = Human('Петя', 25, 'муж.')\n",
        "human_obj.showInfo()"
      ],
      "execution_count": null,
      "outputs": [
        {
          "output_type": "stream",
          "text": [
            "Человек: Петя, возраст 25, пол муж.\n"
          ],
          "name": "stdout"
        }
      ]
    },
    {
      "cell_type": "code",
      "metadata": {
        "colab": {
          "base_uri": "https://localhost:8080/"
        },
        "id": "FhVSUQREdE6p",
        "outputId": "cf70a5f0-ed7d-47c5-eefe-09e577e26475"
      },
      "source": [
        "superman_obj = SuperMan('Кларк ', 34, 'муж.', 91, 177)\n",
        "superman_obj.showInfo()"
      ],
      "execution_count": null,
      "outputs": [
        {
          "output_type": "stream",
          "text": [
            "Cупермен| имя: Кларк , возраст 34, пол муж., вес 177, рост 91\n"
          ],
          "name": "stdout"
        }
      ]
    },
    {
      "cell_type": "markdown",
      "metadata": {
        "id": "b2aOCd-edM8K"
      },
      "source": [
        "## Постулат 3. Полиморфизм\n",
        "Полиморфизм – это возможность обработки разных типов данных, т.е. принадлежащих к разным классам, с помощью \"одно и той же\" функции, или метода. На самом деле одинаковым является только имя метода, его исходный код зависит от класса. Кроме того, результаты работы одноименных методов могут существенно различаться. Поэтому в данном контексте под полиморфизмом понимается множество форм одного и того же слова – имени метода."
      ]
    },
    {
      "cell_type": "code",
      "metadata": {
        "colab": {
          "base_uri": "https://localhost:8080/"
        },
        "id": "4Xw6HrHwcPCy",
        "outputId": "3fdb8bd4-19e5-4c9c-cda0-7c22c1020053"
      },
      "source": [
        "superman_obj.showInfo()\n",
        "human_obj.showInfo()"
      ],
      "execution_count": null,
      "outputs": [
        {
          "output_type": "stream",
          "text": [
            "Cупермен| имя: Кларк , возраст 34, пол муж., вес 107, рост 191\n",
            "Человек: Петя, возраст 25, пол муж.\n"
          ],
          "name": "stdout"
        }
      ]
    },
    {
      "cell_type": "markdown",
      "metadata": {
        "id": "OYA6VHXWdHC4"
      },
      "source": [
        "# Продолжение"
      ]
    },
    {
      "cell_type": "markdown",
      "metadata": {
        "id": "lpea6LW_tlO_"
      },
      "source": [
        "### Пример с полиномом"
      ]
    },
    {
      "cell_type": "markdown",
      "metadata": {
        "id": "LFNJqP8EtrF5"
      },
      "source": [
        "Помните задачку с полиномом? Давайте перепишем это теперь в класс! И добавим доп. функционала :)"
      ]
    },
    {
      "cell_type": "markdown",
      "metadata": {
        "id": "PH-2WYJDuBq7"
      },
      "source": [
        "Дан полином:\n",
        "$$\n",
        "p(x)=a_{0}+a_{1} x+a_{2} x^{2}+\\cdots a_{n} x^{n}=\\sum_{i=0}^{n} a_{i} x^{i}\n",
        "$$\n",
        "\n",
        "Данные экземпляра для class Polynomial будут коэффициентами (a1,a2,a3..)\n",
        "\n",
        "Предоставьте методы, которые\n",
        "\n",
        "- Вычисляет p(x) для любого x\n",
        "- Дифференцирует многочлен, заменив исходные коэффициенты коэффициентами его производной p'\n",
        "\n",
        "Избегайте использования любых операторов import."
      ]
    },
    {
      "cell_type": "code",
      "metadata": {
        "id": "7-6BPZYVv9Go"
      },
      "source": [
        "coeffs = [2,4, 6, 8]"
      ],
      "execution_count": null,
      "outputs": []
    },
    {
      "cell_type": "code",
      "metadata": {
        "id": "JtmG5GDJvPk_"
      },
      "source": [
        "#Из прошлого примера\n",
        "def p(x, coeff):\n",
        "    supp_list = []\n",
        "    for i, a in enumerate(coeff):\n",
        "        supp_list.append(a*x**i)\n",
        "    return sum(supp_list)"
      ],
      "execution_count": null,
      "outputs": []
    },
    {
      "cell_type": "code",
      "metadata": {
        "colab": {
          "base_uri": "https://localhost:8080/"
        },
        "id": "Jr0NRjRFvHiH",
        "outputId": "51f0bc8d-0d0e-473c-a176-66aff50c1f4a"
      },
      "source": [
        "p(2, coeffs)"
      ],
      "execution_count": null,
      "outputs": [
        {
          "output_type": "execute_result",
          "data": {
            "text/plain": [
              "98"
            ]
          },
          "metadata": {
            "tags": []
          },
          "execution_count": 293
        }
      ]
    },
    {
      "cell_type": "markdown",
      "metadata": {
        "id": "VO-FFg4zw47a"
      },
      "source": [
        "Вспомним, как вычисляется производная $x^n$.\n",
        "$$(x^n)' = n \\cdot x^{(n-1)} $$\n",
        "\n",
        "Например:\n",
        "\n",
        "$(x^0)' = 0$\n",
        "\n",
        "$x' = (x^1)'= 1 \\cdot x^0 = 1$\n",
        "\n",
        "$(x^2)' = 2 \\cdot x ^1 = 2x$\n",
        "\n",
        "$(x^5)' = 5x^{5-1} = 5x^4$"
      ]
    },
    {
      "cell_type": "code",
      "metadata": {
        "id": "6Uf1cyp1vVeI"
      },
      "source": [
        "#Напишем функцию, вычисляющую производную\n",
        "def differentiate(coefficients):\n",
        "    \"Обновляет self.coefficients к p' вместо p.\"\n",
        "    new_coefficients = []\n",
        "    for i, a in enumerate(coefficients):\n",
        "        new_coefficients.append(i * a)\n",
        "    # Удалим 1ый элемент тк он равен 0\n",
        "    del new_coefficients[0]\n",
        "    # Обновим коэффициенты\n",
        "    return new_coefficients"
      ],
      "execution_count": null,
      "outputs": []
    },
    {
      "cell_type": "code",
      "metadata": {
        "colab": {
          "base_uri": "https://localhost:8080/"
        },
        "id": "N-Von3_8i4ME",
        "outputId": "bbc09215-510c-4e01-e5eb-53b6d0965953"
      },
      "source": [
        "coeffs"
      ],
      "execution_count": null,
      "outputs": [
        {
          "output_type": "execute_result",
          "data": {
            "text/plain": [
              "[2, 4, 6, 8]"
            ]
          },
          "metadata": {
            "tags": []
          },
          "execution_count": 297
        }
      ]
    },
    {
      "cell_type": "code",
      "metadata": {
        "colab": {
          "base_uri": "https://localhost:8080/"
        },
        "id": "apbtKzNBvH-e",
        "outputId": "9252c697-c458-495b-8d6b-4aed684576e9"
      },
      "source": [
        "new_coeffs = differentiate(coeffs) # сохраним новые коэффициенты в переменную new_coeffs\n",
        "new_coeffs"
      ],
      "execution_count": null,
      "outputs": [
        {
          "output_type": "execute_result",
          "data": {
            "text/plain": [
              "[4, 12, 24]"
            ]
          },
          "metadata": {
            "tags": []
          },
          "execution_count": 298
        }
      ]
    },
    {
      "cell_type": "code",
      "metadata": {
        "colab": {
          "base_uri": "https://localhost:8080/"
        },
        "id": "Irl1kiq4wQzv",
        "outputId": "839d451d-96ea-4df8-cadf-391e5bfc5762"
      },
      "source": [
        "p(2, new_coeffs)"
      ],
      "execution_count": null,
      "outputs": [
        {
          "output_type": "execute_result",
          "data": {
            "text/plain": [
              "124"
            ]
          },
          "metadata": {
            "tags": []
          },
          "execution_count": 299
        }
      ]
    },
    {
      "cell_type": "markdown",
      "metadata": {
        "id": "VJpPrUNLxsiL"
      },
      "source": [
        "Теперь перепишем все это в класс!"
      ]
    },
    {
      "cell_type": "code",
      "metadata": {
        "id": "_ACIjyOiuiaX"
      },
      "source": [
        "class Polynomial:\n",
        "    \"\"\"\n",
        "    Создает экземляр класса в ввиде\n",
        "\n",
        "        p(x) = a_0 x^0 + ... + a_N x^N,\n",
        "\n",
        "    где a_i = coefficients[i].\n",
        "    \"\"\"\n",
        "    def __init__(self, coefficients):\n",
        "        self.coefficients = coefficients\n",
        "\n",
        "    def __call__(self, x):\n",
        "        \"Вычисляет p(x) в x.\"\n",
        "        y = 0\n",
        "        for i, a in enumerate(self.coefficients):\n",
        "            y += a * x**i\n",
        "        return y\n",
        "\n",
        "    def differentiate(self):\n",
        "        \"Обновляет self.coefficients к p' вместо p.\"\n",
        "        new_coefficients = []\n",
        "        for i, a in enumerate(self.coefficients):\n",
        "            new_coefficients.append(i * a)\n",
        "        # Удалим 1ый элемент тк он равен 0\n",
        "        del new_coefficients[0]\n",
        "        # Обновим коэффициенты\n",
        "        self.coefficients = new_coefficients\n",
        "        return new_coefficients"
      ],
      "execution_count": null,
      "outputs": []
    },
    {
      "cell_type": "markdown",
      "metadata": {
        "id": "zUJef7sTi1Q3"
      },
      "source": [
        "Метод `__call__` позволяет экземпляру класса вызываться как функция"
      ]
    },
    {
      "cell_type": "code",
      "metadata": {
        "colab": {
          "base_uri": "https://localhost:8080/"
        },
        "id": "0zGQue2jui1-",
        "outputId": "c1b7f4a8-07fd-4f02-cac0-9e2f32aa58f5"
      },
      "source": [
        "polynom = Polynomial([coeffs, '32', 3]) # Инициалируем класс\n",
        "print(coeffs)"
      ],
      "execution_count": null,
      "outputs": [
        {
          "output_type": "stream",
          "text": [
            "[2, 4, 6, 8]\n"
          ],
          "name": "stdout"
        }
      ]
    },
    {
      "cell_type": "code",
      "metadata": {
        "colab": {
          "base_uri": "https://localhost:8080/"
        },
        "id": "ryzSGvDGjowa",
        "outputId": "4403e04d-b48f-457c-9576-3eca7d0bae85"
      },
      "source": [
        "print(polynom(2)) # вызываем экземпляр класса как функцию благодаря методу __call__"
      ],
      "execution_count": null,
      "outputs": [
        {
          "output_type": "stream",
          "text": [
            "98\n"
          ],
          "name": "stdout"
        }
      ]
    },
    {
      "cell_type": "code",
      "metadata": {
        "colab": {
          "base_uri": "https://localhost:8080/"
        },
        "id": "qJhkm4Jfh9p1",
        "outputId": "2e901b3c-b7ed-4d26-d2ee-dc831bfd60bb"
      },
      "source": [
        "res = polynom.differentiate() # Вызываем метод differentiate\n",
        "print(res)\n",
        "print(polynom(2)) # вызываем экземпляр класса как функцию благодаря методу __call__"
      ],
      "execution_count": null,
      "outputs": [
        {
          "output_type": "stream",
          "text": [
            "[4, 12, 24]\n",
            "124\n"
          ],
          "name": "stdout"
        }
      ]
    },
    {
      "cell_type": "markdown",
      "metadata": {
        "id": "nrwwpKM_mfKc"
      },
      "source": [
        "## Напишем свою соцсеть"
      ]
    },
    {
      "cell_type": "markdown",
      "metadata": {
        "id": "PYgNzVWKmVzg"
      },
      "source": [
        "Для этого представим, что мы идём по стопам Павла Дурова и задались целью сделать свой внутренний ВКонтакте для студентов Физтеха. В процессе разработки классов для пользователей мы столкнёмся с магическими методами, наследованием и трудностями инкапсуляции, а также с таким правилом хорошего тона, как использование type hints."
      ]
    },
    {
      "cell_type": "markdown",
      "metadata": {
        "id": "V1axTLK3rGKD"
      },
      "source": [
        "### Задание классов. Метод `__dict__`"
      ]
    },
    {
      "cell_type": "code",
      "metadata": {
        "id": "X3UYwTUzhDJX",
        "colab": {
          "base_uri": "https://localhost:8080/"
        },
        "outputId": "ca828a83-03ee-4bc6-9f6a-842d61291869"
      },
      "source": [
        "class Phystech:\n",
        "    \"\"\" Документация \"\"\"\n",
        "    uid = 0\n",
        "\n",
        "Phystech.__dict__"
      ],
      "execution_count": null,
      "outputs": [
        {
          "output_type": "execute_result",
          "data": {
            "text/plain": [
              "mappingproxy({'__dict__': <attribute '__dict__' of 'Phystech' objects>,\n",
              "              '__doc__': ' Документация ',\n",
              "              '__module__': '__main__',\n",
              "              '__weakref__': <attribute '__weakref__' of 'Phystech' objects>,\n",
              "              'uid': 0})"
            ]
          },
          "metadata": {
            "tags": []
          },
          "execution_count": 316
        }
      ]
    },
    {
      "cell_type": "markdown",
      "metadata": {
        "id": "tmWhs0FMrO_U"
      },
      "source": [
        "### Создание экземпляра класса. Метод `__init__`"
      ]
    },
    {
      "cell_type": "markdown",
      "metadata": {
        "id": "AR5hrMzHly8g"
      },
      "source": [
        "#### Отступление. Аннотации"
      ]
    },
    {
      "cell_type": "markdown",
      "metadata": {
        "id": "UuskWG-1ks2l"
      },
      "source": [
        "Далее мы будем пользовать аннотациями переменных. Что это значит?\n",
        "\n",
        "В простейшем случае аннотация содержит непосредственно ожидаемый тип переменной. Аннотации для переменных пишут через двоеточие после идентификатора. После этого может идти инициализация значения. Например,\n"
      ]
    },
    {
      "cell_type": "code",
      "metadata": {
        "id": "wUEoemKylB19"
      },
      "source": [
        "price: int = 5\n",
        "title: str"
      ],
      "execution_count": null,
      "outputs": []
    },
    {
      "cell_type": "markdown",
      "metadata": {
        "id": "53j6qikUlO3K"
      },
      "source": [
        "Параметры функции аннотируются так же как переменные, а возвращаемое значение указывается после стрелки -> и до завершающего двоеточия. Например"
      ]
    },
    {
      "cell_type": "code",
      "metadata": {
        "id": "GPw4MeCElDi_"
      },
      "source": [
        "def indent_right(s: str, width: int) -> str:\n",
        "    return \" \" * (max(0, width - len(s))) + s"
      ],
      "execution_count": null,
      "outputs": []
    },
    {
      "cell_type": "markdown",
      "metadata": {
        "id": "ipaObKFhlVZt"
      },
      "source": [
        "Для полей класса аннотации должны быть указаны явно при определении класса. Однако анализаторы могут выводить автоматически их на основе `__init__` метода, но в этом случае они не будут доступны во время выполнения программы."
      ]
    },
    {
      "cell_type": "code",
      "metadata": {
        "id": "QEU3hnGwlT3i"
      },
      "source": [
        "class Book:\n",
        "    title: str\n",
        "    author: str\n",
        "\n",
        "    def __init__(self, title: str, author: str) -> None:\n",
        "        self.title = title\n",
        "        self.author = author"
      ],
      "execution_count": null,
      "outputs": []
    },
    {
      "cell_type": "code",
      "metadata": {
        "colab": {
          "base_uri": "https://localhost:8080/"
        },
        "id": "KuGHyPonmnrW",
        "outputId": "5afa674b-d5a4-4e11-ad54-954350dc0e03"
      },
      "source": [
        "Book"
      ],
      "execution_count": null,
      "outputs": [
        {
          "output_type": "execute_result",
          "data": {
            "text/plain": [
              "__main__.Book"
            ]
          },
          "metadata": {
            "tags": []
          },
          "execution_count": 325
        }
      ]
    },
    {
      "cell_type": "markdown",
      "metadata": {
        "id": "W4ChxGVKlwOc"
      },
      "source": [
        "**Встроенные типы**\n",
        "\n",
        "Хоть вы и можете использовать стандартные типы в качестве аннотаций, много полезного сокрыто в модуле typing\n",
        "\n",
        "Optional\n",
        "\n",
        "Если вы пометите переменную типом int и попытаетесь присвоить ей None, будет ошибка:\n",
        "\n",
        "`Incompatible types in assignment (expression has type \"None\", variable has type \"int\")`\n",
        "\n",
        "Для таких случаев предусмотрена в модуле **typing** аннотация **Optional** с указанием конкретного типа. Обратите внимание, тип опциональной переменной указывается в квадратных скобках"
      ]
    },
    {
      "cell_type": "code",
      "metadata": {
        "id": "Hr2UOVZ1mJmb"
      },
      "source": [
        "from typing import Optional, List, Dict\n",
        "\n",
        "amount: int\n",
        "amount = None  # Incompatible types in assignment (expression has type \"None\", variable has type \"int\")\n",
        "\n",
        "price: Optional[int]\n",
        "price = None"
      ],
      "execution_count": null,
      "outputs": []
    },
    {
      "cell_type": "markdown",
      "metadata": {
        "id": "dEZPHFM-mfXn"
      },
      "source": [
        "**Списки**\n",
        "\n",
        "Для того, чтобы указать, что переменная содержит список можно использовать тип list в качестве аннотации. Однако если хочется конкретизировать, какие элементы содержит список, он такая аннотация уже не подойдёт. Для этого есть **typing.List.** Аналогично тому, как мы указывали тип опциональной переменной, мы указываем тип элементов списка в квадратных скобках"
      ]
    },
    {
      "cell_type": "code",
      "metadata": {
        "id": "0eCjHdHFmKEj"
      },
      "source": [
        "titles: List[str] = [\"hello\", \"world\"]\n",
        "titles.append(100500)  # Argument 1 to \"append\" of \"list\" has incompatible type \"int\"; expected \"str\"\n",
        "titles = [\"hello\", 1]  # List item 1 has incompatible type \"int\"; expected \"str\"\n",
        "\n",
        "items: List = [\"hello\", 1]"
      ],
      "execution_count": null,
      "outputs": []
    },
    {
      "cell_type": "markdown",
      "metadata": {
        "id": "iw5oyPhLmqPE"
      },
      "source": [
        "**Словари**\n",
        "\n",
        "Для словарей используется **typing.Dict.** Отдельно аннотируется тип ключа и тип значений:"
      ]
    },
    {
      "cell_type": "code",
      "metadata": {
        "id": "QGksx00emKlh"
      },
      "source": [
        "book_authors: Dict[str, str] = {\"Fahrenheit 451\": \"Bradbury\"}\n",
        "book_authors[\"1984\"] = 0  # Incompatible types in assignment (expression has type \"int\", target has type \"str\")\n",
        "book_authors[1984] = \"Orwell\"  # Invalid index type \"int\" for \"Dict[str, str]\"; expected type \"str\""
      ],
      "execution_count": null,
      "outputs": []
    },
    {
      "cell_type": "code",
      "metadata": {
        "colab": {
          "base_uri": "https://localhost:8080/"
        },
        "id": "HOB_N3QCnyKL",
        "outputId": "bb890b6a-ad5b-4f1f-e4cb-96ceb54f1e99"
      },
      "source": [
        "book_authors"
      ],
      "execution_count": null,
      "outputs": [
        {
          "output_type": "execute_result",
          "data": {
            "text/plain": [
              "{'1984': 0, 1984: 'Orwell', 'Fahrenheit 451': 1}"
            ]
          },
          "metadata": {
            "tags": []
          },
          "execution_count": 337
        }
      ]
    },
    {
      "cell_type": "markdown",
      "metadata": {
        "id": "FE6P48V4l3BF"
      },
      "source": [
        "### Перейдем к написанию соцсети"
      ]
    },
    {
      "cell_type": "code",
      "metadata": {
        "id": "eMQxB7NLrFzE"
      },
      "source": [
        "from datetime import datetime\n",
        "from typing import List, Dict, Optional\n",
        "\n",
        "\n",
        "class Phystech:\n",
        "    _uid = 0\n",
        "\n",
        "    def __init__(\n",
        "        self, \n",
        "        name: str,  #Аннотация\n",
        "        login: str, #Аннотация\n",
        "        password: str, #Аннотация\n",
        "        birthday: Optional[datetime] = None,  #Аннотация\n",
        "        status: Optional[str] = None, #Аннотация\n",
        "    ):\n",
        "        self.name = name\n",
        "        self.status = status\n",
        "        self.last_online = datetime.now()\n",
        "        self._birthday = birthday\n",
        "        self.__login = login\n",
        "        self.__password = password\n",
        "        self.__uid = Phystech._uid\n",
        "        Phystech._uid += 1\n",
        "\n",
        "landau = Phystech(\n",
        "    name='Лев Давидович Ландау',  \n",
        "    birthday=datetime(year=1908, month=1, day=22),\n",
        "    status='Главное – делайте все с увлечением: это страшно украшает жизнь.',\n",
        "    login='dau',\n",
        "    password='I<3Physics'\n",
        ")"
      ],
      "execution_count": null,
      "outputs": []
    },
    {
      "cell_type": "markdown",
      "metadata": {
        "id": "5y46d3Q3taCC"
      },
      "source": [
        "### Блеск и нищета инкапсуляции в Python"
      ]
    },
    {
      "cell_type": "code",
      "metadata": {
        "id": "5HUT3HCXthJ8",
        "colab": {
          "base_uri": "https://localhost:8080/"
        },
        "outputId": "8e094a80-e78b-47b0-9a8f-22ead67c5725"
      },
      "source": [
        "landau.__dict__"
      ],
      "execution_count": null,
      "outputs": [
        {
          "output_type": "execute_result",
          "data": {
            "text/plain": [
              "{'_Phystech__login': 'dau',\n",
              " '_Phystech__password': 'I<3Physics',\n",
              " '_Phystech__uid': 0,\n",
              " '_birthday': datetime.datetime(1908, 1, 22, 0, 0),\n",
              " 'last_online': datetime.datetime(2020, 11, 26, 17, 56, 50, 77732),\n",
              " 'name': 'Лев Давидович Ландау',\n",
              " 'status': 'Главное – делайте все с увлечением: это страшно украшает жизнь.'}"
            ]
          },
          "metadata": {
            "tags": []
          },
          "execution_count": 356
        }
      ]
    },
    {
      "cell_type": "code",
      "metadata": {
        "id": "v-d76bU1tpAN",
        "colab": {
          "base_uri": "https://localhost:8080/"
        },
        "outputId": "97d405e8-7102-4c74-fb3b-1c66c68c9c40"
      },
      "source": [
        "landau._birthday"
      ],
      "execution_count": null,
      "outputs": [
        {
          "output_type": "execute_result",
          "data": {
            "text/plain": [
              "datetime.datetime(1908, 1, 22, 0, 0)"
            ]
          },
          "metadata": {
            "tags": []
          },
          "execution_count": 354
        }
      ]
    },
    {
      "cell_type": "code",
      "metadata": {
        "colab": {
          "base_uri": "https://localhost:8080/",
          "height": 164
        },
        "id": "3nhUotj0nfz_",
        "outputId": "ab92a202-0197-4676-dddf-cf43b51d99bc"
      },
      "source": [
        "landau.__password"
      ],
      "execution_count": null,
      "outputs": [
        {
          "output_type": "error",
          "ename": "AttributeError",
          "evalue": "ignored",
          "traceback": [
            "\u001b[0;31m---------------------------------------------------------------------------\u001b[0m",
            "\u001b[0;31mAttributeError\u001b[0m                            Traceback (most recent call last)",
            "\u001b[0;32m<ipython-input-357-bb1695d21eb8>\u001b[0m in \u001b[0;36m<module>\u001b[0;34m()\u001b[0m\n\u001b[0;32m----> 1\u001b[0;31m \u001b[0mlandau\u001b[0m\u001b[0;34m.\u001b[0m\u001b[0m__password\u001b[0m\u001b[0;34m\u001b[0m\u001b[0;34m\u001b[0m\u001b[0m\n\u001b[0m",
            "\u001b[0;31mAttributeError\u001b[0m: 'Phystech' object has no attribute '__password'"
          ]
        }
      ]
    },
    {
      "cell_type": "code",
      "metadata": {
        "id": "SwerZcfFt7DI",
        "colab": {
          "base_uri": "https://localhost:8080/",
          "height": 37
        },
        "outputId": "a085c210-6fab-47d9-a214-ec85300a788e"
      },
      "source": [
        "landau._Phystech__password"
      ],
      "execution_count": null,
      "outputs": [
        {
          "output_type": "execute_result",
          "data": {
            "application/vnd.google.colaboratory.intrinsic+json": {
              "type": "string"
            },
            "text/plain": [
              "'I<3Physics'"
            ]
          },
          "metadata": {
            "tags": []
          },
          "execution_count": 358
        }
      ]
    },
    {
      "cell_type": "markdown",
      "metadata": {
        "id": "IeKnmORtugtU"
      },
      "source": [
        "\n",
        "\n",
        "> Strictly speaking, private methods are accessible outside their class, just not easily accessible. Nothing in Python is truly private; internally, the names of private methods and attributes are mangled and unmangled on the fly to make them seem inaccessible by their given names. You can access the `__parse` method of the `MP3FileInfo` class by the name `_MP3FileInfo__parse`. Acknowledge that this is interesting, then promise to never, ever do it in real code. Private methods are private for a reason, but like many other things in Python, their privateness is ultimately a matter of convention, not force.\n",
        "\n",
        "(c) [*Dive Into Python*](http://www.faqs.org/docs/diveintopython/fileinfo_private.html)\n",
        "\n"
      ]
    },
    {
      "cell_type": "markdown",
      "metadata": {
        "id": "5jSOCe8CvRCK"
      },
      "source": [
        "### Строковое представление классов. Методы `__str__` и `__repr__`"
      ]
    },
    {
      "cell_type": "code",
      "metadata": {
        "id": "POSJXd4PvcNH"
      },
      "source": [
        "class Phystech:\n",
        "    _uid = 0\n",
        "\n",
        "    def __init__(\n",
        "        self, name: str,  \n",
        "        login: str,\n",
        "        password: str,\n",
        "        graduation_year: Optional[int] = None,\n",
        "        birthday: Optional[datetime] = None, \n",
        "        status: Optional[str] = None,\n",
        "    ):\n",
        "        self.name = name\n",
        "        self.status = status\n",
        "        self.last_online = datetime.now()\n",
        "        self.uid = Phystech._uid\n",
        "        Phystech._uid += 1\n",
        "\n",
        "        self._birthday = birthday\n",
        "        self._graduation_year = graduation_year\n",
        "        self.__login = login\n",
        "        self.__password = password\n",
        "\n",
        "    def __str__(self) -> str:\n",
        "        str_repr_lines = [\n",
        "            f'НаФизтехе. Пользователь \\\"{self.name}\\\".',\n",
        "            'День рождения: {}'.format(\n",
        "                self._birthday if self._birthday is not None else '(скрыт)'\n",
        "            ),\n",
        "            f'Статус: \\\"{self.status}\\\".',\n",
        "            f'Последний раз был онлайн {self.last_online}'\n",
        "        ]\n",
        "        return '\\n'.join(str_repr_lines)\n",
        "\n",
        "    def __repr__(self) -> str:\n",
        "        return '\\n'.join([\n",
        "            f'uid:\\t{self._uid}', # change for __uid\n",
        "            f'last_online:\\t{self.last_online}',\n",
        "        ])\n",
        "\n",
        "    "
      ],
      "execution_count": null,
      "outputs": []
    },
    {
      "cell_type": "code",
      "metadata": {
        "id": "NDF7uj1vttcE"
      },
      "source": [
        "landau = Phystech(\n",
        "    name='Ландау Лев Давидович',  \n",
        "    birthday=datetime(year=1908, month=1, day=22),\n",
        "    status='Главное – делайте все с увлечением: это страшно украшает жизнь.',\n",
        "    login='dau',\n",
        "    password='I<3Physics'\n",
        ")"
      ],
      "execution_count": null,
      "outputs": []
    },
    {
      "cell_type": "code",
      "metadata": {
        "colab": {
          "base_uri": "https://localhost:8080/"
        },
        "id": "voBB05q8twlF",
        "outputId": "ebd4da3c-a775-4142-e497-5a838248dbbc"
      },
      "source": [
        "print(landau, '\\n')"
      ],
      "execution_count": null,
      "outputs": [
        {
          "output_type": "stream",
          "text": [
            "НаФизтехе. Пользователь \"Ландау Лев Давидович\".\n",
            "День рождения: 1908-01-22 00:00:00\n",
            "Статус: \"Главное – делайте все с увлечением: это страшно украшает жизнь.\".\n",
            "Последний раз был онлайн 2020-11-26 18:00:45.232210 \n",
            "\n"
          ],
          "name": "stdout"
        }
      ]
    },
    {
      "cell_type": "code",
      "metadata": {
        "colab": {
          "base_uri": "https://localhost:8080/"
        },
        "id": "XdHTlZHGtR0q",
        "outputId": "c8f4f173-f491-401f-a30d-aa93cf6c45fb"
      },
      "source": [
        "landau"
      ],
      "execution_count": null,
      "outputs": [
        {
          "output_type": "execute_result",
          "data": {
            "text/plain": [
              "uid:\t1\n",
              "last_online:\t2020-11-26 18:00:45.232210"
            ]
          },
          "metadata": {
            "tags": []
          },
          "execution_count": 365
        }
      ]
    },
    {
      "cell_type": "markdown",
      "metadata": {
        "id": "x3YzQ6M9ooQ-"
      },
      "source": [
        "`repr(obj)` возвращает однозначное текстовое представление (representation) объекта полезное для отладки, сообщений об ошибках, REPL, которое (иногда) позволяет его (теоретически) восстановить: eval(repr(obj)) == obj.\n",
        "\n",
        "`str(obj)` возвращает читаемый текст. Для многих объектов имеет смысл определить `__repr__()` (так как реализация по умолчанию в `object.__repr__` не слишком информативна). `__str__()` имеет смысл определять для объектов, для которых существует «естественное» человеко-читаемое (неспецифичное для Питона) представление (как в примере с датой), например, для логов."
      ]
    },
    {
      "cell_type": "markdown",
      "metadata": {
        "id": "aHS6RbJN-MCN"
      },
      "source": [
        "### Декоратор `@property`"
      ]
    },
    {
      "cell_type": "markdown",
      "metadata": {
        "id": "1-BTj3CW6-UL"
      },
      "source": [
        "Декораторы в духе `@property` -- специальные функции (т.н. замыкания), которые \"оборачиваются\" вокруг вашего кода, чтобы привнести в него дополнительный функционал на мета-уровне. Более строго, декоратор это структурный шаблон проектирования, предназначенный для динамического подключения дополнительного поведения к объекту. "
      ]
    },
    {
      "cell_type": "markdown",
      "metadata": {
        "id": "nhj7ZdqUpPkU"
      },
      "source": [
        "Python содержит очень удобный небольшой концепт, под названием @property, который выполняет несколько полезных задач. Мы рассмотрим, как делать следующее:\n",
        "\n",
        " - Конвертация метода класс в атрибуты только для чтения;"
      ]
    },
    {
      "cell_type": "code",
      "metadata": {
        "id": "6sZdLi5mqUcS"
      },
      "source": [
        "class Person(object):\n",
        "    \"\"\"\"\"\"\n",
        "    def __init__(self, first_name, last_name):\n",
        "        \"\"\"Конструктор\"\"\"\n",
        "        self.first_name = first_name\n",
        "        self.last_name = last_name\n",
        "    \n",
        "    @property\n",
        "    def full_name(self):\n",
        "        \"\"\"\n",
        "        Возвращаем полное имя\n",
        "        \"\"\"\n",
        "        return \"%s %s\" % (self.first_name, self.last_name)"
      ],
      "execution_count": null,
      "outputs": []
    },
    {
      "cell_type": "code",
      "metadata": {
        "colab": {
          "base_uri": "https://localhost:8080/"
        },
        "id": "Oj347t0XqU84",
        "outputId": "ef80e1fc-0e23-475b-8c58-0a8222c29c5c"
      },
      "source": [
        "person = Person(\"Mike\", \"Driscoll\")\n",
        " \n",
        "print(person.full_name) # Mike Driscoll\n",
        "print(person.first_name) # Mike"
      ],
      "execution_count": null,
      "outputs": [
        {
          "output_type": "stream",
          "text": [
            "Mike Driscoll\n",
            "Mike\n"
          ],
          "name": "stdout"
        }
      ]
    },
    {
      "cell_type": "code",
      "metadata": {
        "colab": {
          "base_uri": "https://localhost:8080/",
          "height": 164
        },
        "id": "31WH3SuFqkk1",
        "outputId": "aeebd13b-16b0-4840-e29f-8f9476588197"
      },
      "source": [
        "person.full_name = \"Jackalope\" # ==> Только для чтения"
      ],
      "execution_count": null,
      "outputs": [
        {
          "output_type": "error",
          "ename": "AttributeError",
          "evalue": "ignored",
          "traceback": [
            "\u001b[0;31m---------------------------------------------------------------------------\u001b[0m",
            "\u001b[0;31mAttributeError\u001b[0m                            Traceback (most recent call last)",
            "\u001b[0;32m<ipython-input-374-0740e4d01b1c>\u001b[0m in \u001b[0;36m<module>\u001b[0;34m()\u001b[0m\n\u001b[0;32m----> 1\u001b[0;31m \u001b[0mperson\u001b[0m\u001b[0;34m.\u001b[0m\u001b[0mfull_name\u001b[0m \u001b[0;34m=\u001b[0m \u001b[0;34m\"Jackalope\"\u001b[0m \u001b[0;31m# ==> Только для чтения\u001b[0m\u001b[0;34m\u001b[0m\u001b[0;34m\u001b[0m\u001b[0m\n\u001b[0m",
            "\u001b[0;31mAttributeError\u001b[0m: can't set attribute"
          ]
        }
      ]
    },
    {
      "cell_type": "markdown",
      "metadata": {
        "id": "rMpjOtetqtOq"
      },
      "source": [
        "Вернемся к написанию нашей соцсети"
      ]
    },
    {
      "cell_type": "code",
      "metadata": {
        "id": "tBr8K3hk-Rdr"
      },
      "source": [
        "# Запустить для проверки дополнительного ДЗ\n",
        "from typing import List, Dict, Optional\n",
        "from datetime import datetime\n",
        "class Phystech:\n",
        "    uid = 0\n",
        "\n",
        "    def __init__(\n",
        "        self, \n",
        "        name: str,  \n",
        "        login: str,\n",
        "        password: str,\n",
        "        graduation_year: Optional[int] = None,\n",
        "        birthday: Optional[datetime] = None, \n",
        "        status: Optional[str] = None,\n",
        "    ):\n",
        "        self.name = name\n",
        "        self.status = status\n",
        "        self.last_online = datetime.now()\n",
        "        self.__uid = Phystech.uid\n",
        "        Phystech.uid += 1\n",
        "\n",
        "        self._birthday = birthday\n",
        "        self._graduation_year = graduation_year\n",
        "        self.__login = login\n",
        "        self.__password = password\n",
        "\n",
        "    @property\n",
        "    def is_graduate(self) -> Optional[bool]:\n",
        "        if self._graduation_year is not None:\n",
        "            return datetime.now().year - self._graduation_year > 0\n",
        "        return None\n",
        "\n",
        "    def __str__(self) -> str:\n",
        "        str_repr_lines = [\n",
        "            f'НаФизтехе. Пользователь \\\"{self.name}\\\".',\n",
        "            'День рождения: {}'.format(\n",
        "                self._birthday if self._birthday is not None else '(скрыт)'\n",
        "            ),\n",
        "            f'Статус: \\\"{self.status}\\\".',\n",
        "            f'Последний раз был онлайн {self.last_online}'\n",
        "        ]\n",
        "        if self.is_graduate is not None:\n",
        "            if self.is_graduate:\n",
        "                str_repr_lines.append(\n",
        "                    f'Выпускник {self._graduation_year} года'\n",
        "                )\n",
        "        return '\\n'.join(str_repr_lines)\n",
        "\n",
        "    def __repr__(self) -> str:\n",
        "        return '\\n'.join([\n",
        "            f'uid:\\t{self.__uid}',\n",
        "            f'last_online:\\t{self.last_online}',\n",
        "        ])\n",
        "\n",
        "    \n",
        "\n",
        "ovchinkin = Phystech(\n",
        "    name='Овчинкин Владимир Александрович',  \n",
        "    birthday=datetime(year=1946, month=6, day=9),\n",
        "    status='Знаете, как много надо знать, чтобы понять, как мало мы знаем.',\n",
        "    login='ovchinkin',\n",
        "    graduation_year=1981,\n",
        "    password='general_physics_rules'\n",
        ")"
      ],
      "execution_count": 3,
      "outputs": []
    },
    {
      "cell_type": "code",
      "metadata": {
        "colab": {
          "base_uri": "https://localhost:8080/"
        },
        "id": "ZS5tGjUetKPM",
        "outputId": "64752f8c-e4cc-4831-9771-323bf6134d66"
      },
      "source": [
        "print(ovchinkin, '\\n')\n",
        "ovchinkin"
      ],
      "execution_count": null,
      "outputs": [
        {
          "output_type": "stream",
          "text": [
            "НаФизтехе. Пользователь \"Овчинкин Владимир Александрович\".\n",
            "День рождения: 1946-06-09 00:00:00\n",
            "Статус: \"Знаете, как много надо знать, чтобы понять, как мало мы знаем.\".\n",
            "Последний раз был онлайн 2020-11-26 18:08:17.020806\n",
            "Выпускник 1981 года \n",
            "\n"
          ],
          "name": "stdout"
        },
        {
          "output_type": "execute_result",
          "data": {
            "text/plain": [
              "uid:\t0\n",
              "last_online:\t2020-11-26 18:08:17.020806"
            ]
          },
          "metadata": {
            "tags": []
          },
          "execution_count": 378
        }
      ]
    },
    {
      "cell_type": "markdown",
      "metadata": {
        "id": "Vfy4Li9oqymD"
      },
      "source": [
        "Попробуем поменять год выпуска"
      ]
    },
    {
      "cell_type": "code",
      "metadata": {
        "colab": {
          "base_uri": "https://localhost:8080/"
        },
        "id": "bh3YObNLq2Hw",
        "outputId": "b0a9669b-e9b4-4d14-a2c0-3630296f0358"
      },
      "source": [
        "ovchinkin = Phystech(\n",
        "    name='Овчинкин Владимир Александрович',  \n",
        "    birthday=datetime(year=1946, month=6, day=9),\n",
        "    status='Знаете, как много надо знать, чтобы понять, как мало мы знаем.',\n",
        "    login='ovchinkin',\n",
        "    graduation_year=2021,\n",
        "    password='general_physics_rules'\n",
        ")\n",
        "print(ovchinkin, '\\n')\n",
        "ovchinkin"
      ],
      "execution_count": null,
      "outputs": [
        {
          "output_type": "stream",
          "text": [
            "НаФизтехе. Пользователь \"Овчинкин Владимир Александрович\".\n",
            "День рождения: 1946-06-09 00:00:00\n",
            "Статус: \"Знаете, как много надо знать, чтобы понять, как мало мы знаем.\".\n",
            "Последний раз был онлайн 2020-11-26 13:19:29.362117 \n",
            "\n"
          ],
          "name": "stdout"
        },
        {
          "output_type": "execute_result",
          "data": {
            "text/plain": [
              "uid:\t2\n",
              "last_online:\t2020-11-26 13:19:29.362117"
            ]
          },
          "metadata": {
            "tags": []
          },
          "execution_count": 97
        }
      ]
    },
    {
      "cell_type": "markdown",
      "metadata": {
        "id": "FLrt9xsn0YWP"
      },
      "source": [
        "### Наследование."
      ]
    },
    {
      "cell_type": "code",
      "metadata": {
        "id": "_LAznJ8h0bXz",
        "colab": {
          "base_uri": "https://localhost:8080/"
        },
        "outputId": "6bfe578c-33e4-4fc2-e023-bda0e0e47b2a"
      },
      "source": [
        "class Student(Phystech):\n",
        "    def __init__(\n",
        "        self, \n",
        "        name: str,  \n",
        "        login: str,\n",
        "        password: str,\n",
        "        faculty: str,\n",
        "        study_year: Optional[int] = None,\n",
        "        graduation_year: Optional[int] = None, \n",
        "        birthday: Optional[datetime] = None, \n",
        "        status: Optional[str] = None,\n",
        "    ):\n",
        "        super().__init__(\n",
        "            name=name, \n",
        "            login=login, \n",
        "            password=password, \n",
        "            birthday=birthday,\n",
        "            status=status,\n",
        "            graduation_year=graduation_year\n",
        "        )\n",
        "        self.faculty = faculty\n",
        "        self.study_year = study_year\n",
        "\n",
        "    def __str__(self) -> str:\n",
        "        str_repr_lines = [\n",
        "            super().__str__(),\n",
        "            f\"Факультет: {self.faculty}\",\n",
        "        ]\n",
        "        if self.study_year is not None:\n",
        "            str_repr_lines.append(f\"Курс: {self.study_year}\")\n",
        "        return '\\n'.join(str_repr_lines)\n",
        "\n",
        "paul_simon = Student(\n",
        "    name='Пол Саймон',\n",
        "    login='paul_simon',\n",
        "    graduation_year=2021,\n",
        "    password='I<3English',\n",
        "    faculty='ФОПФ',\n",
        "    status='Sapere Aude!'\n",
        ")\n",
        "print(paul_simon, '\\n')\n",
        "\n",
        "paul_simon"
      ],
      "execution_count": null,
      "outputs": [
        {
          "output_type": "stream",
          "text": [
            "НаФизтехе. Пользователь \"Пол Саймон\".\n",
            "День рождения: (скрыт)\n",
            "Статус: \"Sapere Aude!\".\n",
            "Последний раз был онлайн 2020-11-26 18:10:14.647064\n",
            "Факультет: ФОПФ \n",
            "\n"
          ],
          "name": "stdout"
        },
        {
          "output_type": "execute_result",
          "data": {
            "text/plain": [
              "uid:\t1\n",
              "last_online:\t2020-11-26 18:10:14.647064"
            ]
          },
          "metadata": {
            "tags": []
          },
          "execution_count": 379
        }
      ]
    },
    {
      "cell_type": "code",
      "metadata": {
        "id": "bVQXRbFYAF1I",
        "colab": {
          "base_uri": "https://localhost:8080/"
        },
        "outputId": "11ae43ee-6e4a-42ec-a56c-073b7fa59819"
      },
      "source": [
        "isinstance(paul_simon,  Phystech) # Возвращает флаг, указывающий на то, является ли указанный объект экземпляром указанного класса "
      ],
      "execution_count": null,
      "outputs": [
        {
          "output_type": "execute_result",
          "data": {
            "text/plain": [
              "True"
            ]
          },
          "metadata": {
            "tags": []
          },
          "execution_count": 380
        }
      ]
    },
    {
      "cell_type": "code",
      "metadata": {
        "id": "BEtwxrWLAKAQ",
        "colab": {
          "base_uri": "https://localhost:8080/"
        },
        "outputId": "eae27c58-f31a-42d1-9a82-917fbc78654f"
      },
      "source": [
        "issubclass(Student, Phystech) # Возвращает флаг, указывающий на то, является ли указанный класс подклассом указанного класса "
      ],
      "execution_count": null,
      "outputs": [
        {
          "output_type": "execute_result",
          "data": {
            "text/plain": [
              "True"
            ]
          },
          "metadata": {
            "tags": []
          },
          "execution_count": 381
        }
      ]
    },
    {
      "cell_type": "markdown",
      "metadata": {
        "id": "bWskMprq4X-_"
      },
      "source": [
        "### Остальные магические методы\n",
        "\n",
        "Их настолько много, что приводить их все здесь это плохая идея. Заинтересованный слушатель может ознакомиться с подробным перечнем в статье [\"Руководство по магическим методам в Питоне\"](https://habr.com/ru/post/186608/), с которой мы кратко ознакомились на занятии."
      ]
    },
    {
      "cell_type": "markdown",
      "metadata": {
        "id": "1oKM9LuA6ARM"
      },
      "source": [
        "### Материалы для самостоятельного изучения\n",
        "\n",
        "Открытый курс ШАД по Python: https://gitlab.manytask.org/py-tasks/lectures-2020-spring/  \n",
        "Релевантно: [лекция про декораторы](https://gitlab.manytask.org/py-tasks/lectures-2020-spring/blob/master/04.1.NamespacesAndDecorators/NamespacesAndDecorators.ipynb), [лекция про классы](https://gitlab.manytask.org/py-tasks/lectures-2020-spring/blob/master/06.1.Classes/Classes.ipynb), [лекция про typing](https://gitlab.manytask.org/py-tasks/lectures-2020-spring/blob/master/06.2.Typing/Typing.ipynb/)."
      ]
    },
    {
      "cell_type": "markdown",
      "metadata": {
        "id": "Fm8RmerwAjbd"
      },
      "source": [
        "### ДОП Задание к ДЗ (Необязательно к выполнению, но приносит доп. балл)\n",
        "Дополните класс `Phystech` так, чтобы у пользователей появился список друзей. Пользователи должны быть в состоянии добавлять других в друзья по `uid`, удалять других из друзей; смотреть на список общих друзей; проверять, приняли ли заявку в друзья; видеть актуальный список входящих и исходящих заявок; запрещать конкретным пользователям добавлять себя в друзья. \n",
        "\n",
        "При этом любое действие пользователя должно обновлять переменную `self.last_online`, а история её значений для каждого из пользователей должна накапливаться в статическом поле класса (т.е. должен быть `Dict[int, List[datetime]]` -- отображение из  `uid` в историю сеансов. \n",
        "\n",
        "Задание с двумя звёздочками -- сгенерировать 20 случайных пользователей, случайным образом просимулировать их взаимодействия, затем собрать `pandas.DataFrame` с данными о том, когда пользователи были онлайн и сколько у разных пользователей общих друзей, а потом визуализировать эти данные в `seaborn` с помощью `line plots` и `heatmap` соответственно.   \n"
      ]
    },
    {
      "cell_type": "code",
      "metadata": {
        "id": "WfGawws-xp7M"
      },
      "source": [
        "# Запустить ячейку с классом Phystech()\n",
        "# Подгружаем библиотеки\n",
        "from datetime import datetime\n",
        "from typing import List, Dict, Optional\n",
        "import matplotlib.pyplot as plt\n",
        "import seaborn as sns\n",
        "import numpy as np\n",
        "import pandas as pd\n",
        "import datetime as dt\n",
        "import random\n",
        "import hashlib\n",
        "\n",
        "# Определяем класс\n",
        "class Friends(Phystech):\n",
        "    uid = 0\n",
        "    friends = {}\n",
        "    friends_inbox = {}\n",
        "    friends_outbox = {}\n",
        "    friends_deny = {}\n",
        "    history = {}\n",
        "\n",
        "    def __init__(\n",
        "        self, \n",
        "        name: str,  \n",
        "        login: str,\n",
        "        password: str,\n",
        "        graduation_year: Optional[int] = None,\n",
        "        birthday: Optional[datetime] = None, \n",
        "        status: Optional[str] = None,\n",
        "    ):\n",
        "        self.name = name\n",
        "        self.status = status\n",
        "        self.last_online = datetime.now()\n",
        "        self.__uid = Friends.uid\n",
        "        Friends.uid += 1\n",
        "\n",
        "        self._birthday = birthday\n",
        "        self._graduation_year = graduation_year\n",
        "        self.__login = login\n",
        "        self.__password = password\n",
        "        Friends.friends[self.__uid] = []\n",
        "        Friends.friends_inbox[self.__uid] = {}\n",
        "        Friends.friends_outbox[self.__uid] = {}\n",
        "        Friends.friends_deny[self.__uid] = {}\n",
        "        Friends.history[self.__uid] = []\n",
        "\n",
        "    def __str__(self) -> str:\n",
        "        str_repr_lines = [\n",
        "            f'НаФизтехе. Пользователь \\\"{self.name}\\\".',\n",
        "            'День рождения: {}'.format(\n",
        "                self._birthday if self._birthday is not None else '(скрыт)'\n",
        "            ),\n",
        "            f'Статус: \\\"{self.status}\\\".',\n",
        "            f'Последний раз был онлайн {self.last_online}'\n",
        "        ]\n",
        "        if self.is_graduate is not None:\n",
        "            if self.is_graduate:\n",
        "                str_repr_lines.append(\n",
        "                    f'Выпускник {self._graduation_year} года'\n",
        "                )\n",
        "        return '\\n'.join(str_repr_lines)\n",
        "\n",
        "    def __repr__(self) -> str:\n",
        "        return f'uid:\\t\\\"{self.__uid}\\\"'\n",
        "\n",
        "# Определяем функцию обновления истории действий пользователя\n",
        "    def add_history(self) -> Optional[bool]:\n",
        "      self.last_online = datetime.now()\n",
        "      Friends.history[self.__uid].append(self.last_online.timestamp()*1000000)\n",
        "      return 1\n",
        "\n",
        "# Определяем функцию отправки приглашения в друзья\n",
        "    def send_invitation(self, uid: int) -> Optional[bool]:\n",
        "      self.add_history()\n",
        "      if (uid in Friends.friends[self.__uid]) or (uid == self.__uid) or (uid >= Friends.uid) or (uid in Friends.friends_outbox[self.__uid]) or (self.__uid in Friends.friends_deny[uid]):\n",
        "        return 0\n",
        "      Friends.friends_outbox[self.__uid][uid] = 0\n",
        "      Friends.friends_inbox[uid][self.__uid] = 0\n",
        "      return 1\n",
        "\n",
        "# Определяем функцию отображения отправленных приглашений\n",
        "    def show_friends_outbox(self) -> str:\n",
        "      self.add_history()\n",
        "      if Friends.friends_outbox[self.__uid]:\n",
        "        return '\\n'.join([\n",
        "            f'Приглашения отправлены: {Friends.friends_outbox[self.__uid]}'\n",
        "            ])\n",
        "      return '\\n'.join([\n",
        "            f'Приглашения пока не отправлены.'\n",
        "        ])\n",
        "\n",
        "# Определяем функцию отображения входящих приглашений\n",
        "    def show_friends_inbox(self) -> str:\n",
        "      self.add_history()\n",
        "      if Friends.friends_inbox[self.__uid]:\n",
        "        return '\\n'.join([\n",
        "            f'Приглашения получены от: {Friends.friends_inbox[self.__uid]}'\n",
        "            ])\n",
        "      return '\\n'.join([\n",
        "            f'Приглашения пока не получены.'\n",
        "        ])\n",
        "\n",
        "# Определяем функцию получения словаря входящих приглашений для рандомных действий пользователей\n",
        "    def get_friends_inbox(self) -> dict:\n",
        "      self.add_history()\n",
        "      if Friends.friends_inbox[self.__uid]:\n",
        "        return Friends.friends_inbox[self.__uid]\n",
        "\n",
        "# Определяем функцию добавления в друзья при получении приглашения\n",
        "    def add_friend(self, uid: int) -> Optional[bool]:\n",
        "      self.add_history()\n",
        "      if uid in Friends.friends_inbox[self.__uid]:\n",
        "        Friends.friends[self.__uid].append(uid)\n",
        "        Friends.friends_outbox[uid][self.__uid] = 1\n",
        "        Friends.friends_inbox[self.__uid][uid] = 1\n",
        "        return 1        \n",
        "      return 0\n",
        "\n",
        "# Определяем функцию удаления из друзей\n",
        "    def del_friend(self, uid: int) -> Optional[bool]:\n",
        "      self.add_history()\n",
        "      if (uid in Friends.friends[self.__uid]) and (uid != self.__uid):\n",
        "        Friends.friends[self.__uid].remove(uid)\n",
        "        return 1\n",
        "      return 0\n",
        "\n",
        "# Определяем функцию отображения друзей\n",
        "    def show_friends(self) -> str:\n",
        "      self.add_history()\n",
        "      if Friends.friends[self.__uid]:\n",
        "        return '\\n'.join([\n",
        "            f'uids друзей: {Friends.friends[self.__uid]}'\n",
        "            ])\n",
        "      return '\\n'.join([\n",
        "            f'Пока друзей нет.'\n",
        "        ])\n",
        "\n",
        "# Определяем функцию отображения общих друзей\n",
        "    def show_mutual_friends(self, uid: int) -> str:\n",
        "      self.add_history()\n",
        "      if Friends.friends[self.__uid]:\n",
        "        mutual_friends = list(set(Friends.friends[self.__uid]) & set(Friends.friends[uid]))\n",
        "        return '\\n'.join([\n",
        "            f'uids общих друзей: {mutual_friends}'\n",
        "            ])\n",
        "      return '\\n'.join([\n",
        "            f'Общих друзей пока нет.'\n",
        "        ])\n",
        "\n",
        "# Определяем функцию получения общих друзей для создания матрицы общих друзей\n",
        "    def get_mutual_friends(self, uid: int) -> str:\n",
        "      self.add_history()\n",
        "      if Friends.friends[self.__uid]:\n",
        "        mutual_friends = list(set(Friends.friends[self.__uid]) & set(Friends.friends[uid]))\n",
        "        return mutual_friends\n",
        "\n",
        "# Определяем функцию добавления пользователя в запретный список на добавление в друзья\n",
        "    def deny_friend(self, uid: int) -> Optional[bool]:\n",
        "      self.add_history()\n",
        "      if (uid in Friends.friends[self.__uid]) or (uid == self.__uid) or (uid >= Friends.uid):\n",
        "        return 0\n",
        "      Friends.friends_deny[self.__uid][uid] = 1\n",
        "      return 1\n",
        "\n",
        "# Определяем функцию отображения запретного списка на добавление в друзья\n",
        "    def show_deny_friends(self) -> dict:\n",
        "      self.add_history()\n",
        "      return Friends.friends_deny[self.__uid]\n",
        "\n",
        "# Определяем функцию отображения истории действий пользователя\n",
        "    def show_history(self) -> list:\n",
        "      self.add_history()\n",
        "      return Friends.history[self.__uid]"
      ],
      "execution_count": 4,
      "outputs": []
    },
    {
      "cell_type": "code",
      "metadata": {
        "id": "6GGORcWxDjEi"
      },
      "source": [
        "# Определяем функции для рандомного создания пользователей\n",
        "def random_name():\n",
        "  return random.choice(['Александр', 'Павел', 'Владимир', 'Евгений', 'Алексей', 'Андрей', 'Станислав', 'Олег', 'Иван', 'Ольга', 'Виктория', 'Оксана', 'Татьяна'])\n",
        "def random_byear():\n",
        "  return random.choice(range(1950, 1980))\n",
        "def random_bmonth():\n",
        "  return random.choice(range(1, 13))\n",
        "def random_bday():\n",
        "  return random.choice(range(1, 28))\n",
        "def random_login():\n",
        "  return str('user') + str(random.choice(range(1, 1000)))\n",
        "random_login()\n",
        "def random_gyear():\n",
        "  return random.choice(range(2000, 2020))\n",
        "def random_password():\n",
        "  return hashlib.md5(str(datetime.now()).encode()).hexdigest()\n",
        "def random_friends(users):\n",
        "  for i in range(len(users)):\n",
        "    for j in range(len(users) // 4):\n",
        "     users[i].deny_friend(random.choice(range(len(users))))\n",
        "  for i in range(len(users)):\n",
        "    for j in range(len(users) // 2):\n",
        "      users[i].send_invitation(random.choice(range(len(users))))\n",
        "  for i in range(len(users)):\n",
        "    for j in users[i].get_friends_inbox().keys():\n",
        "      users[i].add_friend(j)"
      ],
      "execution_count": 5,
      "outputs": []
    },
    {
      "cell_type": "code",
      "metadata": {
        "id": "-GAQoe6kHusB"
      },
      "source": [
        "# Определяем фукнцию для создания пользователей\n",
        "def create_users(numbers):\n",
        "  users = []\n",
        "  for i in range(numbers):\n",
        "    users.append(Friends(\n",
        "        name=random_name(),  \n",
        "        birthday=datetime(year=random_byear(), month=random_bmonth(), day=random_bday()),\n",
        "        status='Hi to all!',\n",
        "        login=random_login(),\n",
        "        graduation_year=random_gyear(),\n",
        "        password=random_password()\n",
        "))\n",
        "  return users\n",
        "# Создаем пользователей\n",
        "users = create_users(20)\n",
        "# Делаем рандомные действия\n",
        "random_friends(users)"
      ],
      "execution_count": 6,
      "outputs": []
    },
    {
      "cell_type": "code",
      "metadata": {
        "colab": {
          "base_uri": "https://localhost:8080/",
          "height": 367
        },
        "id": "rAi_1Vl9UYLQ",
        "outputId": "34e7d02d-7d16-4f70-837f-eda958786b46"
      },
      "source": [
        "# Определяем функцию по созданию словаря истории действий пользователей и рисуем график\n",
        "def create_history_dict(users):\n",
        "  history_dict = {}\n",
        "  for i in range(len(users)):\n",
        "    history_dict[i] = users[i].show_history()\n",
        "  return history_dict\n",
        "history_dict = create_history_dict(users)\n",
        "df = pd.DataFrame.from_dict(history_dict, orient='index')\n",
        "df = df.transpose()\n",
        "sns.lineplot(data=df)"
      ],
      "execution_count": 7,
      "outputs": [
        {
          "output_type": "execute_result",
          "data": {
            "text/plain": [
              "<matplotlib.axes._subplots.AxesSubplot at 0x7f53a8f219e8>"
            ]
          },
          "metadata": {
            "tags": []
          },
          "execution_count": 7
        },
        {
          "output_type": "display_data",
          "data": {
            "image/png": "[encoded data removed]",
            "text/plain": [
              "<Figure size 432x288 with 1 Axes>"
            ]
          },
          "metadata": {
            "tags": [],
            "needs_background": "light"
          }
        }
      ]
    },
    {
      "cell_type": "code",
      "metadata": {
        "colab": {
          "base_uri": "https://localhost:8080/",
          "height": 286
        },
        "id": "gDLa2W_Wkdza",
        "outputId": "ccb9ae02-970a-484e-a256-506f5bd5f4e9"
      },
      "source": [
        "# Определяем функцию по созданию матрицы общих друзей и рисуем тепловую карту\n",
        "def create_mutual_matrix(users):\n",
        "  mutual_matrix = pd.DataFrame(columns=range(len(users)), index=range(len(users)))\n",
        "  for i in range(len(users)):\n",
        "    for j in range(len(users)):\n",
        "      if i == j:\n",
        "        mutual_matrix.loc[i, j] = 0\n",
        "      else:\n",
        "        mutual_matrix.loc[i, j] = len(users[i].get_mutual_friends(j))\n",
        "  return mutual_matrix\n",
        "mutual_matrix = create_mutual_matrix(users)\n",
        "sns.heatmap(mutual_matrix.values.tolist())"
      ],
      "execution_count": 8,
      "outputs": [
        {
          "output_type": "execute_result",
          "data": {
            "text/plain": [
              "<matplotlib.axes._subplots.AxesSubplot at 0x7f53a88d98d0>"
            ]
          },
          "metadata": {
            "tags": []
          },
          "execution_count": 8
        },
        {
          "output_type": "display_data",
          "data": {
            "image/png": "[encoded data removed]",
            "text/plain": [
              "<Figure size 432x288 with 2 Axes>"
            ]
          },
          "metadata": {
            "tags": [],
            "needs_background": "light"
          }
        }
      ]
    },
    {
      "cell_type": "markdown",
      "metadata": {
        "id": "_RwFuo-tC9Sm"
      },
      "source": [
        "# Библиотека matplotlib\n",
        "\n",
        "Есть несколько пакетов для построения графиков. Один из наиболее популярных - `matplotlib`. Если в `jupyter notebook` выполнить специальную `ipython` команду `%matplotlib inline`, то графики будут строиться в том же окне браузера. \n",
        "\n",
        "Есть другие варианты, в которых графики показываются в отдельных окнах. Это удобно для трёхмерных графиков - тогда их можно вертеть мышкой (в случае inline графиков это невозможно). \n",
        "\n",
        "Графики можно также сохранять в файлы, как в векторных форматах (`eps`, `pdf`, `svg`), так и в растровых (`png`, `jpg`; конечно, растровые форматы годятся только для размещения графиков на web-страницах). `matplotlib` позволяет строить двумерные графики практически всех нужных типов, с достаточно гибкой регулировкой их параметров; он также поддерживает основные типы трёхмерных графиков, но для серьёзной трёхмерной визуализации данных лучше пользоваться более мощными специализированными системами.\n",
        "\n",
        "Некоторые функции отрисовки:\n",
        "\n",
        "* `plt.scatter(x, y, params)` — нарисовать точки с координатами из $x$ по горизонтальной оси и из $y$ по вертикальной оси\n",
        "* `plt.plot(x, y, params)` — нарисовать график по точкам с координатами из $x$ по горизонтальной оси и из $y$ по вертикальной оси. Точки будут соединятся в том порядке, в котором они указаны в этих массивах.\n",
        "* `plt.fill_between(x, y1, y2, params)` — закрасить пространство между $y_1$ и $y_2$ по координатам из $x$.\n",
        "*  `plt.pcolormesh(x1, x1, y, params)` — закрасить пространство в соответствии с интенсивностью $y$.\n",
        "* `plt.contour(x1, x1, y, lines)` — нарисовать линии уровня. Затем нужно применить `plt.clabel`\n",
        "\n",
        "\n",
        "Вспомогательные функции:\n",
        "\n",
        "*    `plt.figure(figsize=(x, y))` — создать график размера $(x, y)$\n",
        "*    `plt.show()` — показать график.\n",
        "*    `plt.subplot(...)` — добавить подграфик\n",
        "*    `plt.xlim(x_min, x_max)` — установить пределы графика по горизонтальной оси\n",
        "*    `plt.ylim(y_min, y_max)` — установить пределы графика по вертикальной оси\n",
        "*    `plt.title(name)` — установить имя графика\n",
        "*    `plt.xlabel(name)` — установить название горизонтальной оси\n",
        "*    `plt.ylabel(name)` — установить название вертикальной оси\n",
        "*    `plt.legend(loc=...)` — сделать легенду в позиции loc\n",
        "*    `plt.grid()` — добавить сетку на график\n",
        "*    `plt.savefig(filename)` — сохранить график в файл\n",
        "\n",
        "\n",
        "http://matplotlib.org/gallery.html (англ.) — тысячи примеров\n",
        "\n",
        "У функций в `matplotlib` много параметров.\n",
        "Для того, чтобы посмотреть все параметры, можно воспользоваться справкой\n"
      ]
    },
    {
      "cell_type": "code",
      "metadata": {
        "id": "548yVOqNDF6T"
      },
      "source": [
        "import numpy.random as npr\n",
        "import matplotlib.pyplot as plt\n",
        "from mpl_toolkits.mplot3d import Axes3D\n",
        "from pandas import *\n",
        "from numpy.random import randn\n",
        "from pylab import *\n",
        "import scipy.stats as sps\n",
        "import warnings\n",
        "warnings.simplefilter('ignore')\n",
        "\n",
        "%matplotlib inline"
      ],
      "execution_count": null,
      "outputs": []
    },
    {
      "cell_type": "markdown",
      "metadata": {
        "id": "6dQa8zMyDHqN"
      },
      "source": [
        "Посмотрим, что можно делать с библиотекой"
      ]
    },
    {
      "cell_type": "markdown",
      "metadata": {
        "id": "y7Dnebm4DNWA"
      },
      "source": [
        "## Основы matplotlib\n"
      ]
    },
    {
      "cell_type": "markdown",
      "metadata": {
        "id": "BGYHGop2yJ3k"
      },
      "source": [
        "Давайте, при помощи уже известой нам функции range(), инициализируем список со значениями от 0 до 1000 и построим график при помощи matplotlib!"
      ]
    },
    {
      "cell_type": "code",
      "metadata": {
        "id": "kTksZWsjyIXI"
      },
      "source": [
        "#TODO\n",
        "vals =  [i for i in range(1000)] # Make a list with values"
      ],
      "execution_count": null,
      "outputs": []
    },
    {
      "cell_type": "markdown",
      "metadata": {
        "id": "ekEbPmRUyr6E"
      },
      "source": [
        "На вход plot() принимает массивы точек x и y. Точки соединяются прямыми"
      ]
    },
    {
      "cell_type": "code",
      "metadata": {
        "colab": {
          "base_uri": "https://localhost:8080/",
          "height": 265
        },
        "id": "5II3Lx-MyI2o",
        "outputId": "3bdae864-d051-411e-938e-5bdb7e113851"
      },
      "source": [
        "plt.plot(vals, vals) # На вход plot() принимает массивы точек x и y\n",
        "plt.show()"
      ],
      "execution_count": null,
      "outputs": [
        {
          "output_type": "display_data",
          "data": {
            "image/png": "[encoded data removed]",
            "text/plain": [
              "<Figure size 432x288 with 1 Axes>"
            ]
          },
          "metadata": {
            "tags": [],
            "needs_background": "light"
          }
        }
      ]
    },
    {
      "cell_type": "markdown",
      "metadata": {
        "id": "MSa7ysDmyGLj"
      },
      "source": [
        "Еще пример: "
      ]
    },
    {
      "cell_type": "code",
      "metadata": {
        "id": "xchr9cOdDO3Y",
        "colab": {
          "base_uri": "https://localhost:8080/",
          "height": 265
        },
        "outputId": "d4d78287-2fa3-48a0-eeac-38b7bd5552a1"
      },
      "source": [
        "plt.plot([0, 0.25, 1], [0, 1, 0.5])\n",
        "plt.plot([0, 1, 0.5, 1.2],[1, 2, 3, 4])\n",
        "plt.plot([0, 1, 0.25, 1.2],[1, 2.1, 1.3, 4])\n",
        "plt.show()"
      ],
      "execution_count": null,
      "outputs": [
        {
          "output_type": "display_data",
          "data": {
            "image/png": "[encoded data removed]",
            "text/plain": [
              "<Figure size 432x288 with 1 Axes>"
            ]
          },
          "metadata": {
            "tags": [],
            "needs_background": "light"
          }
        }
      ]
    },
    {
      "cell_type": "code",
      "metadata": {
        "id": "fPqwAIwhDRZF",
        "colab": {
          "base_uri": "https://localhost:8080/",
          "height": 374
        },
        "outputId": "3abaeca3-c416-47dc-e0b3-56463fd87b83"
      },
      "source": [
        "# можно задавать размер изображения\n",
        "plt.figure(figsize=(8, 6)) # варьируя эти значения, можно изменять масштаб графика\n",
        "plt.plot([0, 1, 0.5, 1.2],[1, 2, 3, 4])\n",
        "plt.show()"
      ],
      "execution_count": null,
      "outputs": [
        {
          "output_type": "display_data",
          "data": {
            "image/png": "[encoded data removed]",
            "text/plain": [
              "<Figure size 576x432 with 1 Axes>"
            ]
          },
          "metadata": {
            "tags": [],
            "needs_background": "light"
          }
        }
      ]
    },
    {
      "cell_type": "code",
      "metadata": {
        "id": "Ry-p2b8kDS5t",
        "colab": {
          "base_uri": "https://localhost:8080/",
          "height": 483
        },
        "outputId": "63145699-4242-4f0f-9c7a-901b1809d8e6"
      },
      "source": [
        "# можно задавать размер изображения\n",
        "plt.figure(figsize=(8,8))\n",
        "plt.plot([0, 0.25, 1, 0], [0, 1, 0.5, 0])\n",
        "plt.show()"
      ],
      "execution_count": null,
      "outputs": [
        {
          "output_type": "display_data",
          "data": {
            "image/png": "[encoded data removed]",
            "text/plain": [
              "<Figure size 576x576 with 1 Axes>"
            ]
          },
          "metadata": {
            "tags": [],
            "needs_background": "light"
          }
        }
      ]
    },
    {
      "cell_type": "code",
      "metadata": {
        "id": "dQSz0b-RDUFZ",
        "colab": {
          "base_uri": "https://localhost:8080/",
          "height": 265
        },
        "outputId": "6fdcb80c-aa1e-4da6-a251-cf5db2dda916"
      },
      "source": [
        "# тут мы создаем массив numpy встроенной функцией\n",
        "# используем функцию из numpy, которая создает массив \n",
        "# из 100 точек в диапазоне от 0 до 4 Pi с константным шагом\n",
        "x = np.linspace(0, 4 * np.pi, 100)\n",
        "\n",
        "plt.figure()\n",
        "plt.plot(x, np.sin(x))\n",
        "plt.show()"
      ],
      "execution_count": null,
      "outputs": [
        {
          "output_type": "display_data",
          "data": {
            "image/png": "[encoded data removed]",
            "text/plain": [
              "<Figure size 432x288 with 1 Axes>"
            ]
          },
          "metadata": {
            "tags": [],
            "needs_background": "light"
          }
        }
      ]
    },
    {
      "cell_type": "markdown",
      "metadata": {
        "id": "zDFbZ_5uDXGq"
      },
      "source": [
        "Массив $x$ не обязан быть монотонно возрастающим. Можно строить любую параметрическую кривую $x=x(t)$, $y=y(t)$."
      ]
    },
    {
      "cell_type": "code",
      "metadata": {
        "id": "1VdLpbOhDYWu",
        "colab": {
          "base_uri": "https://localhost:8080/",
          "height": 265
        },
        "outputId": "38e337f9-ab60-4d66-c7bc-d7282cef9f8f"
      },
      "source": [
        "t = np.linspace(0, 2 * np.pi, 100)\n",
        "\n",
        "plt.figure()\n",
        "\n",
        "# поэлементно применяем функции к сгенерированному массиву данных\n",
        "plt.plot(np.cos(t), np.sin(t))\n",
        "plt.axes().set_aspect(1)\n",
        "plt.show()"
      ],
      "execution_count": null,
      "outputs": [
        {
          "output_type": "display_data",
          "data": {
            "image/png": "[encoded data removed]",
            "text/plain": [
              "<Figure size 432x288 with 1 Axes>"
            ]
          },
          "metadata": {
            "tags": [],
            "needs_background": "light"
          }
        }
      ]
    },
    {
      "cell_type": "markdown",
      "metadata": {
        "id": "nqgzqvSxDaeZ"
      },
      "source": [
        "Чтобы окружности выглядели как окружности, а не как эллипсы, (а квадраты как квадраты, а не как прямоугольники), нужно установить aspect ratio, равный 1."
      ]
    },
    {
      "cell_type": "markdown",
      "metadata": {
        "id": "pu82mqwJDuxa"
      },
      "source": [
        "Для простой регулировки цветов и типов линий после пары $x$ и $y$ координат вставляется форматная строка. Первая буква определяет цвет (`'r'` - красный, `'b'` - синий и т.д.), дальше задаётся тип линии (`'-'` - сплошная, `'--'` - пунктирная, `'-.'` - штрих-пунктирная и т.д.)."
      ]
    },
    {
      "cell_type": "code",
      "metadata": {
        "id": "esbTVkvPDv70",
        "colab": {
          "base_uri": "https://localhost:8080/",
          "height": 265
        },
        "outputId": "18f6364a-fdad-4156-e282-79384359c5e2"
      },
      "source": [
        "x = np.linspace(0, 4 * np.pi, 100)\n",
        "\n",
        "plt.figure()\n",
        "#plt.grid(color='g', linestyle=':', linewidth=0.5)\n",
        "plt.plot(x, np.sin(x), color='red', linestyle='--')#,'r--')\n",
        "plt.plot(x, np.cos(x), 'b--', alpha=0.5)\n",
        "plt.show()"
      ],
      "execution_count": null,
      "outputs": [
        {
          "output_type": "display_data",
          "data": {
            "image/png": "[encoded data removed]",
            "text/plain": [
              "<Figure size 432x288 with 1 Axes>"
            ]
          },
          "metadata": {
            "tags": [],
            "needs_background": "light"
          }
        }
      ]
    },
    {
      "cell_type": "markdown",
      "metadata": {
        "id": "XXJX9hI-DxYF"
      },
      "source": [
        "Если в качестве \"типа линии\" указано `'o'`, то это означает рисовать точки кружочками и не соединять их линиями; аналогично, `'s'` означает квадратики. Конечно, такие графики имеют смысл только тогда, когда точек не очень много."
      ]
    },
    {
      "cell_type": "code",
      "metadata": {
        "id": "w95cFUysDyZ_",
        "colab": {
          "base_uri": "https://localhost:8080/",
          "height": 265
        },
        "outputId": "424c389c-d1ba-430b-e49a-afb70bf7d9e3"
      },
      "source": [
        "x = np.linspace(0, 1, 11) # TO CHANGE\n",
        "\n",
        "plt.figure()\n",
        "plt.plot(x, x ** 2, 'ro')\n",
        "plt.plot(x, 1 - x, 'rs')\n",
        "plt.show()"
      ],
      "execution_count": null,
      "outputs": [
        {
          "output_type": "display_data",
          "data": {
            "image/png": "[encoded data removed]",
            "text/plain": [
              "<Figure size 432x288 with 1 Axes>"
            ]
          },
          "metadata": {
            "tags": [],
            "needs_background": "light"
          }
        }
      ]
    },
    {
      "cell_type": "markdown",
      "metadata": {
        "id": "GbQZfSmozyfR"
      },
      "source": [
        "### Задание"
      ]
    },
    {
      "cell_type": "markdown",
      "metadata": {
        "id": "fjCHnl5kz3Kb"
      },
      "source": [
        "Рассмотрим пример, связанный с хаотической динамикой в нелинейных системах.\n",
        "\n",
        "Простое правило, которое может генерировать беспорядочные временные траектории, - это логистическое отображение.\n",
        "\n",
        "$$\n",
        "x_{t+1}=r x_{t}\\left(1-x_{t}\\right), \\quad x_{0} \\in[0,1], \\quad r \\in[0,4]\n",
        "$$\n",
        "\n",
        "Напишем класс для генерации временных рядов из этой модели."
      ]
    },
    {
      "cell_type": "code",
      "metadata": {
        "id": "mUL1Ig0Bz8y6"
      },
      "source": [
        "class Chaos:\n",
        "  \"\"\"\n",
        "  Моделирует динамическую систему :`x_{t+1} = r x_t (1 - x_t)`\n",
        "  \"\"\"\n",
        "  def __init__(self, x0, r):\n",
        "      \"\"\"\n",
        "      Инициализируем x0 и r\n",
        "      \"\"\"\n",
        "      self.x, self.r = x0, r\n",
        "\n",
        "  def update(self):\n",
        "      \"Обновим состояние\"\n",
        "      self.x =  self.r * self.x *(1 - self.x)\n",
        "\n",
        "  def generate_sequence(self, n):\n",
        "      \"Сгенерируем и вернем последовательность длинной n.\"\n",
        "      path = []\n",
        "      for i in range(n):\n",
        "          path.append(self.x)\n",
        "          self.update()\n",
        "      return path"
      ],
      "execution_count": null,
      "outputs": []
    },
    {
      "cell_type": "code",
      "metadata": {
        "colab": {
          "base_uri": "https://localhost:8080/"
        },
        "id": "RJOOD2N_z-N9",
        "outputId": "0aa4f035-77b4-467c-d4e2-dba6e242cc97"
      },
      "source": [
        "ch = Chaos(0.1, 4.0)     # x0 = 0.1 and r = 0.4\n",
        "ch.generate_sequence(5)  # First 5 iterates"
      ],
      "execution_count": null,
      "outputs": [
        {
          "output_type": "execute_result",
          "data": {
            "text/plain": [
              "[0.1, 0.36000000000000004, 0.9216, 0.28901376000000006, 0.8219392261226498]"
            ]
          },
          "metadata": {
            "tags": []
          },
          "execution_count": 25
        }
      ]
    },
    {
      "cell_type": "code",
      "metadata": {
        "colab": {
          "base_uri": "https://localhost:8080/",
          "height": 265
        },
        "id": "MgqMsHTOz9yS",
        "outputId": "4f9ee5eb-0f81-4e36-f0f0-fc6256cb3342"
      },
      "source": [
        "ch = Chaos(0.1, 4.0)\n",
        "ts_length = 250\n",
        "x = ch.generate_sequence(ts_length)\n",
        "\n",
        "plt.plot(range(ts_length), x, 'bo-', alpha=0.5, lw=2, label='$x_t$')\n",
        "plt.legend(loc='upper right')\n",
        "plt.show()"
      ],
      "execution_count": null,
      "outputs": [
        {
          "output_type": "display_data",
          "data": {
            "image/png": "[encoded data removed]",
            "text/plain": [
              "<Figure size 432x288 with 1 Axes>"
            ]
          },
          "metadata": {
            "tags": [],
            "needs_background": "light"
          }
        }
      ]
    },
    {
      "cell_type": "markdown",
      "metadata": {
        "id": "XCFOEW0o02Ts"
      },
      "source": [
        "Сделаем график бОльшего размера"
      ]
    },
    {
      "cell_type": "code",
      "metadata": {
        "colab": {
          "base_uri": "https://localhost:8080/",
          "height": 320
        },
        "id": "hjymwLXLz9Xt",
        "outputId": "90f4d360-8754-46dd-d935-2d60718e4f70"
      },
      "source": [
        "plt.figure(figsize=(10,5))\n",
        "plt.plot(range(ts_length), x, 'bo-', alpha=0.5, lw=2, label='$x_t$')\n",
        "plt.legend(loc='upper right')\n",
        "plt.show()"
      ],
      "execution_count": null,
      "outputs": [
        {
          "output_type": "display_data",
          "data": {
            "image/png": "[encoded data removed]",
            "text/plain": [
              "<Figure size 720x360 with 1 Axes>"
            ]
          },
          "metadata": {
            "tags": [],
            "needs_background": "light"
          }
        }
      ]
    },
    {
      "cell_type": "markdown",
      "metadata": {
        "id": "QDzdvuzbXf-6"
      },
      "source": [
        "Давайте рассмотрим примеры других типов графиков:"
      ]
    },
    {
      "cell_type": "markdown",
      "metadata": {
        "id": "tHQ4YJElYVlj"
      },
      "source": [
        "### Диаграмма разброса (scatter plot)"
      ]
    },
    {
      "cell_type": "code",
      "metadata": {
        "id": "vha6M48m1fB1"
      },
      "source": [
        "x = np.linspace(0, 10, 30)\n",
        "y = np.sin(x)"
      ],
      "execution_count": null,
      "outputs": []
    },
    {
      "cell_type": "markdown",
      "metadata": {
        "id": "jTgDqhNI1mcS"
      },
      "source": [
        "Построим при помощи уже известного нам plot()"
      ]
    },
    {
      "cell_type": "code",
      "metadata": {
        "colab": {
          "base_uri": "https://localhost:8080/",
          "height": 265
        },
        "id": "g8r49x3-1g-s",
        "outputId": "0b53037e-7d7e-41e9-c8e1-4cf11ab7bc0d"
      },
      "source": [
        "plt.plot(x, y, color='black') # define marker = 'o'\n",
        "plt.show()"
      ],
      "execution_count": null,
      "outputs": [
        {
          "output_type": "display_data",
          "data": {
            "image/png": "[encoded data removed]",
            "text/plain": [
              "<Figure size 432x288 with 1 Axes>"
            ]
          },
          "metadata": {
            "tags": [],
            "needs_background": "light"
          }
        }
      ]
    },
    {
      "cell_type": "markdown",
      "metadata": {
        "id": "9Bmn6xd81tJ2"
      },
      "source": [
        "А теперь используем scatter()"
      ]
    },
    {
      "cell_type": "code",
      "metadata": {
        "colab": {
          "base_uri": "https://localhost:8080/",
          "height": 282
        },
        "id": "0Ivp9cb21w8u",
        "outputId": "ae77bdf9-cfd4-4f69-fab7-abf059866980"
      },
      "source": [
        "plt.scatter(x, y, color='black')"
      ],
      "execution_count": null,
      "outputs": [
        {
          "output_type": "execute_result",
          "data": {
            "text/plain": [
              "<matplotlib.collections.PathCollection at 0x7f6fa2d69b00>"
            ]
          },
          "metadata": {
            "tags": []
          },
          "execution_count": 414
        },
        {
          "output_type": "display_data",
          "data": {
            "image/png": "[encoded data removed]",
            "text/plain": [
              "<Figure size 432x288 with 1 Axes>"
            ]
          },
          "metadata": {
            "tags": [],
            "needs_background": "light"
          }
        }
      ]
    },
    {
      "cell_type": "code",
      "metadata": {
        "id": "_RsEccd-Xe88",
        "colab": {
          "base_uri": "https://localhost:8080/",
          "height": 265
        },
        "outputId": "270f3c18-3490-4bdf-8c87-73a26c8ae86a"
      },
      "source": [
        "import numpy as np\n",
        "import matplotlib.pyplot as plt\n",
        "\n",
        "# создадим 50 точек из нормального распределния\n",
        "N = 50\n",
        "# координаты х, у\n",
        "random_state = np.random.RandomState(seed=123456)\n",
        "x = random_state.rand(N)\n",
        "y = random_state.rand(N)\n",
        "# и их радиус\n",
        "area = (30 * random_state.rand(N))**2  # 0 to 15 point radii\n",
        "# отобразим\n",
        "plt.scatter(x, y, s=area, alpha=0.5)\n",
        "plt.show()"
      ],
      "execution_count": null,
      "outputs": [
        {
          "output_type": "display_data",
          "data": {
            "image/png": "[encoded data removed]",
            "text/plain": [
              "<Figure size 432x288 with 1 Axes>"
            ]
          },
          "metadata": {
            "tags": [],
            "needs_background": "light"
          }
        }
      ]
    },
    {
      "cell_type": "code",
      "metadata": {
        "colab": {
          "base_uri": "https://localhost:8080/",
          "height": 265
        },
        "id": "fYOOuWYb16TN",
        "outputId": "105bcb98-990e-4eec-a50d-ca8c547435d1"
      },
      "source": [
        "import numpy as np\n",
        "import matplotlib.pyplot as plt\n",
        "\n",
        "# создадим 50 точек из нормального распределния\n",
        "N = 50\n",
        "# координаты х, у\n",
        "random_state = np.random.RandomState(seed=123456)\n",
        "x = random_state.rand(N)\n",
        "y = random_state.rand(N)\n",
        "colors = random_state.rand(N)\n",
        "# и их радиус\n",
        "area = (30 * random_state.rand(N))**2  # 0 to 15 point radii\n",
        "# отобразим\n",
        "plt.scatter(x, y, s=area, c = colors, alpha=0.5, cmap='jet')\n",
        "plt.show()"
      ],
      "execution_count": null,
      "outputs": [
        {
          "output_type": "display_data",
          "data": {
            "image/png": "[encoded data removed]",
            "text/plain": [
              "<Figure size 432x288 with 1 Axes>"
            ]
          },
          "metadata": {
            "tags": [],
            "needs_background": "light"
          }
        }
      ]
    },
    {
      "cell_type": "markdown",
      "metadata": {
        "id": "HhGisq8NYdGz"
      },
      "source": [
        "### Столбчатые диаграммы (bar chart)"
      ]
    },
    {
      "cell_type": "code",
      "metadata": {
        "id": "8Yxc4ZpuYgVx",
        "colab": {
          "base_uri": "https://localhost:8080/",
          "height": 281
        },
        "outputId": "baecbc2f-67ec-43f1-99bb-4e249b75c106"
      },
      "source": [
        "# задаем подписи отображаемых объектов\n",
        "objects = ('Python', 'JavaScript', 'Java')\n",
        "# задаем значения позиций подписей (по х)\n",
        "y_pos = np.arange(len(objects)) \n",
        "# задаем значения (по y)\n",
        "popularity = [10., 9.5, 9]\n",
        "# создаем столбчатую диаграмму с вышеобозначенными значениями\n",
        "plt.bar(y_pos, popularity)\n",
        "# задаем подписи по оси х\n",
        "plt.xticks(y_pos, objects)\n",
        "# задаем название по y\n",
        "plt.ylabel('Частота использования на github')\n",
        "# задаем название всего графика\n",
        "plt.title('Популярность языков')\n",
        "\n",
        "plt.show()"
      ],
      "execution_count": null,
      "outputs": [
        {
          "output_type": "display_data",
          "data": {
            "image/png": "[encoded data removed]",
            "text/plain": [
              "<Figure size 432x288 with 1 Axes>"
            ]
          },
          "metadata": {
            "tags": [],
            "needs_background": "light"
          }
        }
      ]
    },
    {
      "cell_type": "markdown",
      "metadata": {
        "id": "dxkxL108Ymp1"
      },
      "source": [
        "### Гистограммы (histogram)"
      ]
    },
    {
      "cell_type": "code",
      "metadata": {
        "id": "r9jNkdQnYmvf",
        "colab": {
          "base_uri": "https://localhost:8080/"
        },
        "outputId": "7bfa148c-e5a2-45e4-90f5-c6248a6cd1d8"
      },
      "source": [
        "# среднее распределения\n",
        "mu = 42 \n",
        "# среднекадратичное отклонение\n",
        "sigma = 3.14 \n",
        "\n",
        "# значения, сгенерированные из нормального распределения\n",
        "x = mu + sigma * np.random.randn(10000)\n",
        "# отобразим несколько элементов\n",
        "print(x)"
      ],
      "execution_count": null,
      "outputs": [
        {
          "output_type": "stream",
          "text": [
            "[42.30765681 41.39675167 39.77680575 ... 42.58070569 38.71045202\n",
            " 48.5161702 ]\n"
          ],
          "name": "stdout"
        }
      ]
    },
    {
      "cell_type": "code",
      "metadata": {
        "id": "ax7BwcSCcs-W",
        "colab": {
          "base_uri": "https://localhost:8080/",
          "height": 265
        },
        "outputId": "e9ccaaf7-430e-4f2d-fb35-e183863ada07"
      },
      "source": [
        "num_bins = 500\n",
        "# Гистограмма переменной показывает распределение частоты этой переменной\n",
        "# (высота столбца - сколько элеметов попало в диапазон этого столбца)\n",
        "# В этом случае мы указали num_bins - количество столбцов заранее\n",
        "plt.hist(x, num_bins)\n",
        "plt.show()"
      ],
      "execution_count": null,
      "outputs": [
        {
          "output_type": "display_data",
          "data": {
            "image/png": "[encoded data removed]",
            "text/plain": [
              "<Figure size 432x288 with 1 Axes>"
            ]
          },
          "metadata": {
            "tags": [],
            "needs_background": "light"
          }
        }
      ]
    },
    {
      "cell_type": "code",
      "metadata": {
        "id": "qHIwxXZtdgXa",
        "colab": {
          "base_uri": "https://localhost:8080/",
          "height": 371
        },
        "outputId": "4baea3fa-e515-467f-a606-40d01162018c"
      },
      "source": [
        "# а можем оставить это на усмотрение алгоритма\n",
        "plt.hist(x)"
      ],
      "execution_count": null,
      "outputs": [
        {
          "output_type": "execute_result",
          "data": {
            "text/plain": [
              "(array([  22.,  111.,  565., 1684., 2863., 2816., 1392.,  457.,   82.,\n",
              "           8.]),\n",
              " array([30.21955755, 32.62256941, 35.02558126, 37.42859311, 39.83160496,\n",
              "        42.23461681, 44.63762866, 47.04064051, 49.44365236, 51.84666421,\n",
              "        54.24967606]),\n",
              " <a list of 10 Patch objects>)"
            ]
          },
          "metadata": {
            "tags": []
          },
          "execution_count": 426
        },
        {
          "output_type": "display_data",
          "data": {
            "image/png": "[encoded data removed]",
            "text/plain": [
              "<Figure size 432x288 with 1 Axes>"
            ]
          },
          "metadata": {
            "tags": [],
            "needs_background": "light"
          }
        }
      ]
    },
    {
      "cell_type": "markdown",
      "metadata": {
        "id": "tQbH0u3qYghQ"
      },
      "source": [
        "### Круговые диаграммы (pie chart)"
      ]
    },
    {
      "cell_type": "code",
      "metadata": {
        "id": "MWqf2KTqYgsZ",
        "colab": {
          "base_uri": "https://localhost:8080/",
          "height": 591
        },
        "outputId": "a40c1c69-3209-4b08-be23-8bb495c7fd3f"
      },
      "source": [
        "# определяем названия браузеров\n",
        "labels = 'Chrome', 'Safari', 'Samsung internet', 'UC Browser', 'Остальные'\n",
        "# определяем значения для соответсвующих подписей\n",
        "sizes = [64, 19, 6, 5, 6]\n",
        "# определяем насколько мы ходим выделить каждый относительно соседей\n",
        "explode = (0.1, 0, 0, 0, 0)\n",
        "# создаем объект подграфика и ось с данными и подписями\n",
        "fig1, ax1 = plt.subplots(figsize=(10, 10))\n",
        "# функции имеют много различных настроек, к примеру тени\n",
        "ax1.pie(sizes, explode=explode, labels=labels, shadow=True)\n",
        "# задаем название всего графика\n",
        "plt.title('Популярность браузеров в 2019')\n",
        "# отображаем\n",
        "plt.show()"
      ],
      "execution_count": null,
      "outputs": [
        {
          "output_type": "display_data",
          "data": {
            "image/png": "[encoded data removed]",
            "text/plain": [
              "<Figure size 720x720 with 1 Axes>"
            ]
          },
          "metadata": {
            "tags": []
          }
        }
      ]
    },
    {
      "cell_type": "markdown",
      "metadata": {
        "id": "AUEGKjgpD6hc"
      },
      "source": [
        "# Обработка числовых массивов даных"
      ]
    },
    {
      "cell_type": "markdown",
      "metadata": {
        "id": "9KE-N3ZCFZ_f"
      },
      "source": [
        "## Основы numpy"
      ]
    },
    {
      "cell_type": "code",
      "metadata": {
        "id": "SRFLXDcVBOBm"
      },
      "source": [
        "# импортируем саму библиотеку\n",
        "import numpy as np"
      ],
      "execution_count": null,
      "outputs": []
    },
    {
      "cell_type": "markdown",
      "metadata": {
        "id": "mIJ5jaIJGmgh"
      },
      "source": [
        "### Массивы\n",
        "\n",
        "Главный объект numpy - array. Массивы схожи со списками в python, но элементы массива должны иметь одинаковый тип данных (float и int). С массивами можно проводить числовые операции с большим объемом информации в разы быстрее и, главное, намного эффективнее чем со списками."
      ]
    },
    {
      "cell_type": "code",
      "metadata": {
        "id": "j5iz_57WFv0Q",
        "colab": {
          "base_uri": "https://localhost:8080/"
        },
        "outputId": "43748a78-a67f-49bf-f8bd-c37d2c560a1e"
      },
      "source": [
        "a = np.array([1, 2, 3, 4, 5])\n",
        "print(a, '|', type(a))"
      ],
      "execution_count": null,
      "outputs": [
        {
          "output_type": "stream",
          "text": [
            "[1 2 3 4 5] | <class 'numpy.ndarray'>\n"
          ],
          "name": "stdout"
        }
      ]
    },
    {
      "cell_type": "markdown",
      "metadata": {
        "id": "JGC-tBgsHjWw"
      },
      "source": [
        "Со всеми элементам можно получить доступ и манипулировать ими также, как вы бы это делали с обычными списками:"
      ]
    },
    {
      "cell_type": "markdown",
      "metadata": {
        "id": "G6i_WCAPQ04r"
      },
      "source": [
        "### Слайсинг "
      ]
    },
    {
      "cell_type": "code",
      "metadata": {
        "id": "lgqkCzJcGgrT",
        "colab": {
          "base_uri": "https://localhost:8080/"
        },
        "outputId": "7a6f5647-1c26-46c6-ff40-5c7dac5a82dd"
      },
      "source": [
        "a[:2]"
      ],
      "execution_count": null,
      "outputs": [
        {
          "output_type": "execute_result",
          "data": {
            "text/plain": [
              "array([1, 2])"
            ]
          },
          "metadata": {
            "tags": []
          },
          "execution_count": 61
        }
      ]
    },
    {
      "cell_type": "code",
      "metadata": {
        "id": "FwDb4esyIehG",
        "colab": {
          "base_uri": "https://localhost:8080/"
        },
        "outputId": "936415df-29de-4e42-97f5-529a1dc58188"
      },
      "source": [
        "a[::2]"
      ],
      "execution_count": null,
      "outputs": [
        {
          "output_type": "execute_result",
          "data": {
            "text/plain": [
              "array([1, 3, 5])"
            ]
          },
          "metadata": {
            "tags": []
          },
          "execution_count": 65
        }
      ]
    },
    {
      "cell_type": "code",
      "metadata": {
        "colab": {
          "base_uri": "https://localhost:8080/"
        },
        "id": "0KlMbxe0_Sma",
        "outputId": "8c8d752e-42fc-4668-f5cf-29d902e3c143"
      },
      "source": [
        "a[::-1]"
      ],
      "execution_count": null,
      "outputs": [
        {
          "output_type": "execute_result",
          "data": {
            "text/plain": [
              "array([5, 4, 3, 2, 1])"
            ]
          },
          "metadata": {
            "tags": []
          },
          "execution_count": 68
        }
      ]
    },
    {
      "cell_type": "code",
      "metadata": {
        "colab": {
          "base_uri": "https://localhost:8080/"
        },
        "id": "khJZvY_L_Wvk",
        "outputId": "e990610d-078e-41e0-a1ac-b97b890fe90d"
      },
      "source": [
        "a[::-2]"
      ],
      "execution_count": null,
      "outputs": [
        {
          "output_type": "execute_result",
          "data": {
            "text/plain": [
              "array([5, 3, 1])"
            ]
          },
          "metadata": {
            "tags": []
          },
          "execution_count": 69
        }
      ]
    },
    {
      "cell_type": "markdown",
      "metadata": {
        "id": "rGp_huBUJMA-"
      },
      "source": [
        "Массивы могут быть и многомерными:"
      ]
    },
    {
      "cell_type": "code",
      "metadata": {
        "id": "-y9ccrqgI5SB",
        "colab": {
          "base_uri": "https://localhost:8080/"
        },
        "outputId": "92330fea-07dd-41e5-e562-d8f4179486b8"
      },
      "source": [
        "a = np.array([[1, 2, 3], [4, 5, 6]], dtype=float)\n",
        "print(a, '|', type(a))"
      ],
      "execution_count": null,
      "outputs": [
        {
          "output_type": "stream",
          "text": [
            "[[1. 2. 3.]\n",
            " [4. 5. 6.]] | <class 'numpy.ndarray'>\n"
          ],
          "name": "stdout"
        }
      ]
    },
    {
      "cell_type": "code",
      "metadata": {
        "id": "2_xs0G87JGXZ",
        "colab": {
          "base_uri": "https://localhost:8080/"
        },
        "outputId": "d2617337-ac5c-4612-a46f-462edf12a81b"
      },
      "source": [
        "a[1,2]"
      ],
      "execution_count": null,
      "outputs": [
        {
          "output_type": "execute_result",
          "data": {
            "text/plain": [
              "6.0"
            ]
          },
          "metadata": {
            "tags": []
          },
          "execution_count": 71
        }
      ]
    },
    {
      "cell_type": "markdown",
      "metadata": {
        "id": "6u5ulqzCJnOA"
      },
      "source": [
        "Array slicing работает с многомерными массивами аналогично, как и с одномерными, применяя каждый срез, как фильтр для установленного измерения. Используйте \":\" в измерении для указывания использования всех элементов этого измерения:"
      ]
    },
    {
      "cell_type": "code",
      "metadata": {
        "id": "emqvgdlPJfvy",
        "colab": {
          "base_uri": "https://localhost:8080/"
        },
        "outputId": "4fee3b57-aee0-4812-e5b9-28eef59b50aa"
      },
      "source": [
        "a = np.array([[1, 2, 3], [4, 5, 6]], float)\n",
        "# выбрали элементы с шагом 2 второй строки массива\n",
        "a[1,::1]"
      ],
      "execution_count": null,
      "outputs": [
        {
          "output_type": "execute_result",
          "data": {
            "text/plain": [
              "array([4., 5., 6.])"
            ]
          },
          "metadata": {
            "tags": []
          },
          "execution_count": 76
        }
      ]
    },
    {
      "cell_type": "code",
      "metadata": {
        "colab": {
          "base_uri": "https://localhost:8080/"
        },
        "id": "5QAtFTJvAtYr",
        "outputId": "7abfbd47-fcac-41df-8fe6-edad8182c8ec"
      },
      "source": [
        "a"
      ],
      "execution_count": null,
      "outputs": [
        {
          "output_type": "execute_result",
          "data": {
            "text/plain": [
              "array([[1., 2., 3.],\n",
              "       [4., 5., 6.]])"
            ]
          },
          "metadata": {
            "tags": []
          },
          "execution_count": 77
        }
      ]
    },
    {
      "cell_type": "code",
      "metadata": {
        "id": "29LIXZdBxyVy",
        "colab": {
          "base_uri": "https://localhost:8080/"
        },
        "outputId": "8c2b3d76-d5d5-4de1-b3a3-ef1e55f9ea69"
      },
      "source": [
        "%%time\n",
        "x = [[i + j for j in range(1000)] for i in range(1000)]\n",
        "squares = [[(i + j)**2 for j in range(1000)] for i in range(1000)];\n"
      ],
      "execution_count": null,
      "outputs": [
        {
          "output_type": "stream",
          "text": [
            "CPU times: user 397 ms, sys: 54.2 ms, total: 451 ms\n",
            "Wall time: 452 ms\n"
          ],
          "name": "stdout"
        }
      ]
    },
    {
      "cell_type": "code",
      "metadata": {
        "id": "opXGG8oKyI-l",
        "colab": {
          "base_uri": "https://localhost:8080/"
        },
        "outputId": "2d4f0093-7c04-4221-a6d4-621a7da24920"
      },
      "source": [
        "%%time\n",
        "np_squares = np.arange(1000000).reshape((1000, 1000))**2"
      ],
      "execution_count": null,
      "outputs": [
        {
          "output_type": "stream",
          "text": [
            "CPU times: user 3.76 ms, sys: 8.98 ms, total: 12.7 ms\n",
            "Wall time: 15.7 ms\n"
          ],
          "name": "stdout"
        }
      ]
    },
    {
      "cell_type": "markdown",
      "metadata": {
        "id": "IVZnUM_mRICm"
      },
      "source": [
        "### Методы"
      ]
    },
    {
      "cell_type": "markdown",
      "metadata": {
        "id": "pTH2acWQKL-z"
      },
      "source": [
        "Метод shape возвращает количество строк и столбцов в матрице:"
      ]
    },
    {
      "cell_type": "code",
      "metadata": {
        "id": "ucg9Cu_oJr1C",
        "colab": {
          "base_uri": "https://localhost:8080/"
        },
        "outputId": "d5058ae8-88cb-4b9b-b4f7-a7dcdd2c2fe3"
      },
      "source": [
        "a.shape"
      ],
      "execution_count": null,
      "outputs": [
        {
          "output_type": "execute_result",
          "data": {
            "text/plain": [
              "(2, 3)"
            ]
          },
          "metadata": {
            "tags": []
          },
          "execution_count": 82
        }
      ]
    },
    {
      "cell_type": "markdown",
      "metadata": {
        "id": "OYLtCerbKV6-"
      },
      "source": [
        "float64, это числовой тип данных в numpy, который используется для хранения вещественных чисел двойной точности по аналогии с float в Python.\n",
        "\n",
        "Метод dtype возвращает тип переменных, хранящихся в массиве:"
      ]
    },
    {
      "cell_type": "code",
      "metadata": {
        "id": "QwIOEoR0KMWB",
        "colab": {
          "base_uri": "https://localhost:8080/"
        },
        "outputId": "4734abe2-7c8c-423f-db6c-fef743924916"
      },
      "source": [
        "a.dtype"
      ],
      "execution_count": null,
      "outputs": [
        {
          "output_type": "execute_result",
          "data": {
            "text/plain": [
              "dtype('float64')"
            ]
          },
          "metadata": {
            "tags": []
          },
          "execution_count": 83
        }
      ]
    },
    {
      "cell_type": "markdown",
      "metadata": {
        "id": "PpAFKnfhLVGe"
      },
      "source": [
        "Метод len возвращает длину первого измерения (оси):"
      ]
    },
    {
      "cell_type": "code",
      "metadata": {
        "id": "U2c3WjumKXYx",
        "colab": {
          "base_uri": "https://localhost:8080/"
        },
        "outputId": "3ee3c2f9-25be-4823-e4d2-7f4368ebba83"
      },
      "source": [
        "len(a)"
      ],
      "execution_count": null,
      "outputs": [
        {
          "output_type": "execute_result",
          "data": {
            "text/plain": [
              "2"
            ]
          },
          "metadata": {
            "tags": []
          },
          "execution_count": 84
        }
      ]
    },
    {
      "cell_type": "markdown",
      "metadata": {
        "id": "ncIU5L75LY6k"
      },
      "source": [
        "По аналогии с list, str можно проверять вхождение элемента"
      ]
    },
    {
      "cell_type": "code",
      "metadata": {
        "id": "jAyom_YvLWvh",
        "colab": {
          "base_uri": "https://localhost:8080/"
        },
        "outputId": "8d8110cb-6e94-454b-ad54-bc997039da46"
      },
      "source": [
        "6 in a"
      ],
      "execution_count": null,
      "outputs": [
        {
          "output_type": "execute_result",
          "data": {
            "text/plain": [
              "True"
            ]
          },
          "metadata": {
            "tags": []
          },
          "execution_count": 86
        }
      ]
    },
    {
      "cell_type": "code",
      "metadata": {
        "id": "kGnpvnBQ0QzG",
        "colab": {
          "base_uri": "https://localhost:8080/"
        },
        "outputId": "59ffe520-1112-4504-afd8-d02d4d13c2a5"
      },
      "source": [
        "a"
      ],
      "execution_count": null,
      "outputs": [
        {
          "output_type": "execute_result",
          "data": {
            "text/plain": [
              "array([[1., 2., 3.],\n",
              "       [4., 5., 6.]])"
            ]
          },
          "metadata": {
            "tags": []
          },
          "execution_count": 87
        }
      ]
    },
    {
      "cell_type": "markdown",
      "metadata": {
        "id": "Gh87hmz_RRhM"
      },
      "source": [
        "### Reshape"
      ]
    },
    {
      "cell_type": "markdown",
      "metadata": {
        "id": "PfQEPC6KL0eJ"
      },
      "source": [
        "Массивы можно переформировать при помощи метода, который задает новый многомерный массив. Следуя следующему примеру, мы переформатируем одномерный массив из 12 элементов в двумерный массив, состоящий из 4 строк и 3 столбцов:\n",
        "\n",
        "(метод reshape создает новый массив, а не модифицирует оригинальный)"
      ]
    },
    {
      "cell_type": "code",
      "metadata": {
        "id": "_hkGh1flLsX5",
        "colab": {
          "base_uri": "https://localhost:8080/"
        },
        "outputId": "78a87d71-4006-483a-86cb-bbf7db71fc9c"
      },
      "source": [
        "a = np.array(range(12), float)\n",
        "a"
      ],
      "execution_count": null,
      "outputs": [
        {
          "output_type": "execute_result",
          "data": {
            "text/plain": [
              "array([ 0.,  1.,  2.,  3.,  4.,  5.,  6.,  7.,  8.,  9., 10., 11.])"
            ]
          },
          "metadata": {
            "tags": []
          },
          "execution_count": 88
        }
      ]
    },
    {
      "cell_type": "code",
      "metadata": {
        "id": "zzHK7fHFL1Zp",
        "colab": {
          "base_uri": "https://localhost:8080/"
        },
        "outputId": "f19cc857-a01e-4a88-ae26-72cb8724223a"
      },
      "source": [
        "a = a.reshape((4, 3))\n",
        "a"
      ],
      "execution_count": null,
      "outputs": [
        {
          "output_type": "execute_result",
          "data": {
            "text/plain": [
              "array([[ 0.,  1.,  2.],\n",
              "       [ 3.,  4.,  5.],\n",
              "       [ 6.,  7.,  8.],\n",
              "       [ 9., 10., 11.]])"
            ]
          },
          "metadata": {
            "tags": []
          },
          "execution_count": 89
        }
      ]
    },
    {
      "cell_type": "markdown",
      "metadata": {
        "id": "NVUxkqH_RYiv"
      },
      "source": [
        "### Работа по ссылке"
      ]
    },
    {
      "cell_type": "markdown",
      "metadata": {
        "id": "BYnvAYIwMxX7"
      },
      "source": [
        "Работа по ссылке как и в python:"
      ]
    },
    {
      "cell_type": "code",
      "metadata": {
        "id": "2fRtkuANL8xp",
        "colab": {
          "base_uri": "https://localhost:8080/"
        },
        "outputId": "66225b8e-6241-49ee-98bd-1b863e0f0d2e"
      },
      "source": [
        "a = np.array([1, 2, 3])\n",
        "b = a\n",
        "c = a.copy()\n",
        "\n",
        "# меняем 0й элемент\n",
        "a[0] = 0\n",
        "\n",
        "print(f'Измененный массив а {a}')\n",
        "print(f'Измененный массив b {b}  <-- изменился по ссылке т.к. поменяти 0й элемент а')\n",
        "print(f'Измененный массив c {c}  <-- создали копию в памяти')"
      ],
      "execution_count": null,
      "outputs": [
        {
          "output_type": "stream",
          "text": [
            "Измененный массив а [0 2 3]\n",
            "Измененный массив b [0 2 3]  <-- изменился по ссылке т.к. поменяти 0й элемент а\n",
            "Измененный массив c [1 2 3]  <-- создали копию в памяти\n"
          ],
          "name": "stdout"
        }
      ]
    },
    {
      "cell_type": "markdown",
      "metadata": {
        "id": "4SlsERlpNzZ_"
      },
      "source": [
        "Можно преобразовать обратно в список:"
      ]
    },
    {
      "cell_type": "code",
      "metadata": {
        "id": "qyONlgzfM6-B",
        "colab": {
          "base_uri": "https://localhost:8080/"
        },
        "outputId": "c6fc69cf-7c66-42f5-d42e-e42e5aa67a5e"
      },
      "source": [
        "a.tolist()"
      ],
      "execution_count": null,
      "outputs": [
        {
          "output_type": "execute_result",
          "data": {
            "text/plain": [
              "[0, 2, 3]"
            ]
          },
          "metadata": {
            "tags": []
          },
          "execution_count": 91
        }
      ]
    },
    {
      "cell_type": "markdown",
      "metadata": {
        "id": "L86CDWkyPJ1K"
      },
      "source": [
        "Можно сделать и обратное: конвертируем в одномерный"
      ]
    },
    {
      "cell_type": "code",
      "metadata": {
        "id": "ySrv0JEhOpCC",
        "colab": {
          "base_uri": "https://localhost:8080/"
        },
        "outputId": "5ee8ce89-0cc5-494a-a6de-b2210ce1134d"
      },
      "source": [
        "np.random.randn(3, 4).flatten()"
      ],
      "execution_count": null,
      "outputs": [
        {
          "output_type": "execute_result",
          "data": {
            "text/plain": [
              "array([-0.17769833,  1.95503827, -1.93612445, -0.69214069, -0.23563631,\n",
              "        0.70188988, -0.66729581, -1.06518183,  0.18395553,  0.71248777,\n",
              "       -0.28812955, -0.96792189])"
            ]
          },
          "metadata": {
            "tags": []
          },
          "execution_count": 92
        }
      ]
    },
    {
      "cell_type": "markdown",
      "metadata": {
        "id": "bFRVFveSSFVK"
      },
      "source": [
        "### Объединение"
      ]
    },
    {
      "cell_type": "markdown",
      "metadata": {
        "id": "QzBNkHEAPK2R"
      },
      "source": [
        "Массивы можно объединять"
      ]
    },
    {
      "cell_type": "code",
      "metadata": {
        "id": "jZgJUAoLPK9h",
        "colab": {
          "base_uri": "https://localhost:8080/"
        },
        "outputId": "6260984d-b9a9-4b9c-b125-10ea9afc4aa7"
      },
      "source": [
        "a = np.array([[1, 2], [3, 4]], float)\n",
        "b = np.array([[5, 6], [7,8]], float)\n",
        "np.concatenate((a,b))"
      ],
      "execution_count": null,
      "outputs": [
        {
          "output_type": "execute_result",
          "data": {
            "text/plain": [
              "array([[1., 2.],\n",
              "       [3., 4.],\n",
              "       [5., 6.],\n",
              "       [7., 8.]])"
            ]
          },
          "metadata": {
            "tags": []
          },
          "execution_count": 93
        }
      ]
    },
    {
      "cell_type": "markdown",
      "metadata": {
        "id": "9f1FZ4tLQYIk"
      },
      "source": [
        "Если массив не одномерный, можно задать ось, по которой будет происходить соединение. По умолчанию (не задавая значения оси), соединение будет происходить по первому измерению:"
      ]
    },
    {
      "cell_type": "code",
      "metadata": {
        "id": "KO3y970wQNUj",
        "colab": {
          "base_uri": "https://localhost:8080/"
        },
        "outputId": "a1373016-f897-4acf-ee3f-d6d5b1c8f856"
      },
      "source": [
        "np.concatenate((a,b), axis=0)"
      ],
      "execution_count": null,
      "outputs": [
        {
          "output_type": "execute_result",
          "data": {
            "text/plain": [
              "array([[1., 2.],\n",
              "       [3., 4.],\n",
              "       [5., 6.],\n",
              "       [7., 8.]])"
            ]
          },
          "metadata": {
            "tags": []
          },
          "execution_count": 96
        }
      ]
    },
    {
      "cell_type": "code",
      "metadata": {
        "id": "dBhKmrRVQQgq",
        "colab": {
          "base_uri": "https://localhost:8080/"
        },
        "outputId": "3b5a3fcd-1755-485a-b822-ed9c2bd3b846"
      },
      "source": [
        "np.concatenate((a,b), axis=1)"
      ],
      "execution_count": null,
      "outputs": [
        {
          "output_type": "execute_result",
          "data": {
            "text/plain": [
              "array([[1., 2., 5., 6.],\n",
              "       [3., 4., 7., 8.]])"
            ]
          },
          "metadata": {
            "tags": []
          },
          "execution_count": 97
        }
      ]
    },
    {
      "cell_type": "markdown",
      "metadata": {
        "id": "blWIwCc23WVY"
      },
      "source": [
        "Можно инициализировать массивы произвольной размерности"
      ]
    },
    {
      "cell_type": "code",
      "metadata": {
        "colab": {
          "base_uri": "https://localhost:8080/"
        },
        "id": "dv1acogL3clv",
        "outputId": "f4cb2a1d-431e-4bdf-9222-3bea8be8b2e1"
      },
      "source": [
        "arr = np.zeros(shape = (2,3))\n",
        "arr"
      ],
      "execution_count": null,
      "outputs": [
        {
          "output_type": "execute_result",
          "data": {
            "text/plain": [
              "array([[0., 0., 0.],\n",
              "       [0., 0., 0.]])"
            ]
          },
          "metadata": {
            "tags": []
          },
          "execution_count": 102
        }
      ]
    },
    {
      "cell_type": "markdown",
      "metadata": {
        "id": "OC7_0BV33j9o"
      },
      "source": [
        "И присваивать элементам значения по индексам:"
      ]
    },
    {
      "cell_type": "code",
      "metadata": {
        "colab": {
          "base_uri": "https://localhost:8080/"
        },
        "id": "vvcrqzCZ3iNv",
        "outputId": "8cace3db-6ab5-4831-cb3e-4ae1a4dd8b74"
      },
      "source": [
        "arr[0, 1] = 10\n",
        "arr[1,0] = 11\n",
        "arr"
      ],
      "execution_count": null,
      "outputs": [
        {
          "output_type": "execute_result",
          "data": {
            "text/plain": [
              "array([[ 0., 10.,  0.],\n",
              "       [11.,  0.,  0.]])"
            ]
          },
          "metadata": {
            "tags": []
          },
          "execution_count": 103
        }
      ]
    },
    {
      "cell_type": "markdown",
      "metadata": {
        "id": "oAOyA_Lh3xz5"
      },
      "source": [
        "Выполнять условия:"
      ]
    },
    {
      "cell_type": "code",
      "metadata": {
        "colab": {
          "base_uri": "https://localhost:8080/"
        },
        "id": "hrwhX23SCjxm",
        "outputId": "04b854cc-0d36-4ba1-aeb9-e4cca42c66e7"
      },
      "source": [
        "arr==0"
      ],
      "execution_count": null,
      "outputs": [
        {
          "output_type": "execute_result",
          "data": {
            "text/plain": [
              "array([[ True, False,  True],\n",
              "       [False,  True,  True]])"
            ]
          },
          "metadata": {
            "tags": []
          },
          "execution_count": 104
        }
      ]
    },
    {
      "cell_type": "code",
      "metadata": {
        "colab": {
          "base_uri": "https://localhost:8080/"
        },
        "id": "HnF93Jzx3dGy",
        "outputId": "726641dc-2998-4b92-a12f-ec3b58620c02"
      },
      "source": [
        "arr[arr==0] = 7\n",
        "arr"
      ],
      "execution_count": null,
      "outputs": [
        {
          "output_type": "execute_result",
          "data": {
            "text/plain": [
              "array([[ 7., 10.,  7.],\n",
              "       [11.,  7.,  7.]])"
            ]
          },
          "metadata": {
            "tags": []
          },
          "execution_count": 105
        }
      ]
    },
    {
      "cell_type": "markdown",
      "metadata": {
        "id": "ii7coqbR2u6S"
      },
      "source": [
        "### Практика на Numpy"
      ]
    },
    {
      "cell_type": "markdown",
      "metadata": {
        "id": "-rV2WSZg2yHX"
      },
      "source": [
        "#### Задача 1\n",
        "при помощи метода range() создайте массив типа numpy array с использованием list comprehensions"
      ]
    },
    {
      "cell_type": "code",
      "metadata": {
        "colab": {
          "base_uri": "https://localhost:8080/"
        },
        "id": "P64oKMdn3FcL",
        "outputId": "32ca5332-6d71-4e46-f9ca-618f8afdfbac"
      },
      "source": [
        "#TODO\n",
        "seq = \n",
        "seq.shape"
      ],
      "execution_count": null,
      "outputs": [
        {
          "output_type": "execute_result",
          "data": {
            "text/plain": [
              "(10,)"
            ]
          },
          "metadata": {
            "tags": []
          },
          "execution_count": 150
        }
      ]
    },
    {
      "cell_type": "markdown",
      "metadata": {
        "id": "DlEM5MX54C07"
      },
      "source": [
        "#### Задача 2\n",
        "Написать функцию, которая считает произведение двух массивов arr1 и arr2"
      ]
    },
    {
      "cell_type": "code",
      "metadata": {
        "id": "IvSnoRya4SJq"
      },
      "source": [
        "arr1 = np.array([1,2,3])\n",
        "arr2 = np.array([10,20,30])"
      ],
      "execution_count": null,
      "outputs": []
    },
    {
      "cell_type": "code",
      "metadata": {
        "id": "ERQdw0be2oYY"
      },
      "source": [
        "def mult():"
      ],
      "execution_count": null,
      "outputs": []
    },
    {
      "cell_type": "code",
      "metadata": {
        "colab": {
          "base_uri": "https://localhost:8080/"
        },
        "id": "Qrm5kEBJ2n5H",
        "outputId": "d93eeef0-199c-453c-ff73-bec5b735a645"
      },
      "source": [
        "mult(arr1, arr2)"
      ],
      "execution_count": null,
      "outputs": [
        {
          "output_type": "execute_result",
          "data": {
            "text/plain": [
              "array([10, 40, 90])"
            ]
          },
          "metadata": {
            "tags": []
          },
          "execution_count": 153
        }
      ]
    },
    {
      "cell_type": "markdown",
      "metadata": {
        "id": "1Xoxwo7R41i-"
      },
      "source": [
        "#### Задача 3\n",
        "Заполните данный снизу массив единицами с 20го по 40й элемент"
      ]
    },
    {
      "cell_type": "code",
      "metadata": {
        "id": "7Cph1suV5IRd"
      },
      "source": [
        "arr = np.zeros((50,))"
      ],
      "execution_count": null,
      "outputs": []
    },
    {
      "cell_type": "code",
      "metadata": {
        "colab": {
          "base_uri": "https://localhost:8080/"
        },
        "id": "EaxKq7S-5Iyy",
        "outputId": "d64ee852-3c4f-4e40-d2a4-e048c0054436"
      },
      "source": [
        "#TODO\n"
      ],
      "execution_count": null,
      "outputs": [
        {
          "output_type": "execute_result",
          "data": {
            "text/plain": [
              "array([1., 1., 1., 1., 1., 1., 1., 1., 1., 1., 1., 1., 1., 1., 1., 1., 1.,\n",
              "       1., 1., 1., 1., 0., 0., 0., 0., 0., 0., 0., 0., 0.])"
            ]
          },
          "metadata": {
            "tags": []
          },
          "execution_count": 155
        }
      ]
    },
    {
      "cell_type": "markdown",
      "metadata": {
        "id": "5wYQ_ZGuQhA0"
      },
      "source": [
        "## Основы pandas"
      ]
    },
    {
      "cell_type": "code",
      "metadata": {
        "id": "zG-L1vINPLLZ"
      },
      "source": [
        "# импортируем библиотеку\n",
        "import pandas as pd"
      ],
      "execution_count": null,
      "outputs": []
    },
    {
      "cell_type": "markdown",
      "metadata": {
        "id": "hBMuhumsSOb5"
      },
      "source": [
        "### Series\n",
        "\n",
        "Одномерный набор данных. Отсутствующие данные записываются как `np.nan`, они не участвуют в вычислении средних, среднеквадратичных отклонений и т.д."
      ]
    },
    {
      "cell_type": "code",
      "metadata": {
        "id": "FSwgT534PLjf",
        "colab": {
          "base_uri": "https://localhost:8080/"
        },
        "outputId": "a920d28c-8353-4669-9c0e-493eb7d96b14"
      },
      "source": [
        "l = np.array([1, 3, 5, np.nan, 6, 8])\n",
        "s = pd.Series(l)\n",
        "s"
      ],
      "execution_count": null,
      "outputs": [
        {
          "output_type": "execute_result",
          "data": {
            "text/plain": [
              "0    1.0\n",
              "1    3.0\n",
              "2    5.0\n",
              "3    NaN\n",
              "4    6.0\n",
              "5    8.0\n",
              "dtype: float64"
            ]
          },
          "metadata": {
            "tags": []
          },
          "execution_count": 107
        }
      ]
    },
    {
      "cell_type": "code",
      "metadata": {
        "id": "QY_bJqZ-4OfO",
        "colab": {
          "base_uri": "https://localhost:8080/"
        },
        "outputId": "91e08d37-6e1d-447b-c653-4cdd9635c6e0"
      },
      "source": [
        "np.nanmean(l)"
      ],
      "execution_count": null,
      "outputs": [
        {
          "output_type": "execute_result",
          "data": {
            "text/plain": [
              "4.6"
            ]
          },
          "metadata": {
            "tags": []
          },
          "execution_count": 108
        }
      ]
    },
    {
      "cell_type": "code",
      "metadata": {
        "id": "7KQdOvkC23w9",
        "colab": {
          "base_uri": "https://localhost:8080/"
        },
        "outputId": "5c67a6a4-da2a-4fa7-c6ed-0a03e441f107"
      },
      "source": [
        "l[np.isnan(l)] = 0\n",
        "l"
      ],
      "execution_count": null,
      "outputs": [
        {
          "output_type": "execute_result",
          "data": {
            "text/plain": [
              "array([1., 3., 5., 0., 6., 8.])"
            ]
          },
          "metadata": {
            "tags": []
          },
          "execution_count": 110
        }
      ]
    },
    {
      "cell_type": "markdown",
      "metadata": {
        "id": "-A2ABYUBUN-d"
      },
      "source": [
        "### Полезная информация о датафрейме"
      ]
    },
    {
      "cell_type": "markdown",
      "metadata": {
        "id": "5a_LV_NQSXjz"
      },
      "source": [
        "\n",
        "Основная информация о наборе данных: среднее, среднеквадратичное отклонение, минимум, максимум, медиана (которая отличается от среднего для несимметричных распределений)."
      ]
    },
    {
      "cell_type": "code",
      "metadata": {
        "id": "sF6LLsYHSV8R",
        "colab": {
          "base_uri": "https://localhost:8080/"
        },
        "outputId": "8fe37917-ad96-4f73-89d1-0fe9c56d5843"
      },
      "source": [
        "s.describe()"
      ],
      "execution_count": null,
      "outputs": [
        {
          "output_type": "execute_result",
          "data": {
            "text/plain": [
              "count    6.000000\n",
              "mean     3.833333\n",
              "std      3.060501\n",
              "min      0.000000\n",
              "25%      1.500000\n",
              "50%      4.000000\n",
              "75%      5.750000\n",
              "max      8.000000\n",
              "dtype: float64"
            ]
          },
          "metadata": {
            "tags": []
          },
          "execution_count": 111
        }
      ]
    },
    {
      "cell_type": "markdown",
      "metadata": {
        "id": "bnmCxSqzUcuv"
      },
      "source": [
        "### Индексация"
      ]
    },
    {
      "cell_type": "markdown",
      "metadata": {
        "id": "Ry81MQRCScXe"
      },
      "source": [
        "Индексация по аналогии:"
      ]
    },
    {
      "cell_type": "code",
      "metadata": {
        "id": "lmCoGeIrSZJp",
        "colab": {
          "base_uri": "https://localhost:8080/"
        },
        "outputId": "4be4c175-7595-43d8-cdcf-e469422857d1"
      },
      "source": [
        "s[2]"
      ],
      "execution_count": null,
      "outputs": [
        {
          "output_type": "execute_result",
          "data": {
            "text/plain": [
              "5.0"
            ]
          },
          "metadata": {
            "tags": []
          },
          "execution_count": 112
        }
      ]
    },
    {
      "cell_type": "code",
      "metadata": {
        "id": "xrK5Mzc1Sfi5",
        "colab": {
          "base_uri": "https://localhost:8080/"
        },
        "outputId": "115eacaa-66d6-4d43-b73b-dc24ba1de09d"
      },
      "source": [
        "s[2] = 7\n",
        "s"
      ],
      "execution_count": null,
      "outputs": [
        {
          "output_type": "execute_result",
          "data": {
            "text/plain": [
              "0    1.0\n",
              "1    3.0\n",
              "2    7.0\n",
              "3    0.0\n",
              "4    6.0\n",
              "5    8.0\n",
              "dtype: float64"
            ]
          },
          "metadata": {
            "tags": []
          },
          "execution_count": 113
        }
      ]
    },
    {
      "cell_type": "code",
      "metadata": {
        "id": "d2OHkzJMSghp",
        "colab": {
          "base_uri": "https://localhost:8080/"
        },
        "outputId": "1d294671-714e-4269-c040-ece029f132d0"
      },
      "source": [
        "s[2:5]"
      ],
      "execution_count": null,
      "outputs": [
        {
          "output_type": "execute_result",
          "data": {
            "text/plain": [
              "2    7.0\n",
              "3    0.0\n",
              "4    6.0\n",
              "dtype: float64"
            ]
          },
          "metadata": {
            "tags": []
          },
          "execution_count": 114
        }
      ]
    },
    {
      "cell_type": "code",
      "metadata": {
        "id": "VuYa6Cl9Sh_x",
        "colab": {
          "base_uri": "https://localhost:8080/"
        },
        "outputId": "2e536d39-bcd0-498d-d9f5-b5af6bb22de2"
      },
      "source": [
        "s1 = s[1:]\n",
        "s1"
      ],
      "execution_count": null,
      "outputs": [
        {
          "output_type": "execute_result",
          "data": {
            "text/plain": [
              "1    3.0\n",
              "2    7.0\n",
              "3    0.0\n",
              "4    6.0\n",
              "5    8.0\n",
              "dtype: float64"
            ]
          },
          "metadata": {
            "tags": []
          },
          "execution_count": 115
        }
      ]
    },
    {
      "cell_type": "code",
      "metadata": {
        "id": "TT2drhGlSjEh",
        "colab": {
          "base_uri": "https://localhost:8080/"
        },
        "outputId": "7e554086-3ab5-45f2-b133-8df05c1674b5"
      },
      "source": [
        "s2 = s[:-1]\n",
        "s2"
      ],
      "execution_count": null,
      "outputs": [
        {
          "output_type": "execute_result",
          "data": {
            "text/plain": [
              "0    1.0\n",
              "1    3.0\n",
              "2    7.0\n",
              "3    0.0\n",
              "4    6.0\n",
              "dtype: float64"
            ]
          },
          "metadata": {
            "tags": []
          },
          "execution_count": 116
        }
      ]
    },
    {
      "cell_type": "markdown",
      "metadata": {
        "id": "Ia8RkJIXUh8w"
      },
      "source": [
        "### Сложение"
      ]
    },
    {
      "cell_type": "markdown",
      "metadata": {
        "id": "oAbI1vLKStKV"
      },
      "source": [
        "\n",
        "В сумме `s1+s2` складываются данные с одинаковыми индексами. Поскольку в `s1` нет данного и индексом 0, а в `s2` - с индексом 5, в `s1+s2` в соответствующих позициях будет `NaN`."
      ]
    },
    {
      "cell_type": "code",
      "metadata": {
        "id": "4MOI5t_fSqWp",
        "colab": {
          "base_uri": "https://localhost:8080/"
        },
        "outputId": "5ca041fb-bc47-426f-9fc1-80ecb9683c28"
      },
      "source": [
        "s1 + s2"
      ],
      "execution_count": null,
      "outputs": [
        {
          "output_type": "execute_result",
          "data": {
            "text/plain": [
              "0     NaN\n",
              "1     6.0\n",
              "2    14.0\n",
              "3     0.0\n",
              "4    12.0\n",
              "5     NaN\n",
              "dtype: float64"
            ]
          },
          "metadata": {
            "tags": []
          },
          "execution_count": 117
        }
      ]
    },
    {
      "cell_type": "markdown",
      "metadata": {
        "id": "QYKv-xQvS8NF"
      },
      "source": [
        "\n",
        "К наборам данных можно применять функции из `numpy`"
      ]
    },
    {
      "cell_type": "code",
      "metadata": {
        "id": "ouYtD_S5SuLp",
        "colab": {
          "base_uri": "https://localhost:8080/"
        },
        "outputId": "c1598bc1-9d0d-4670-e1b8-553ebc661e24"
      },
      "source": [
        "np.exp(s)"
      ],
      "execution_count": null,
      "outputs": [
        {
          "output_type": "execute_result",
          "data": {
            "text/plain": [
              "0       2.718282\n",
              "1      20.085537\n",
              "2    1096.633158\n",
              "3       1.000000\n",
              "4     403.428793\n",
              "5    2980.957987\n",
              "dtype: float64"
            ]
          },
          "metadata": {
            "tags": []
          },
          "execution_count": 118
        }
      ]
    },
    {
      "cell_type": "markdown",
      "metadata": {
        "id": "reCXhA1WUyS_"
      },
      "source": [
        "### Индексация"
      ]
    },
    {
      "cell_type": "markdown",
      "metadata": {
        "id": "ht--SRe5TFzB"
      },
      "source": [
        "При создании набора данных s мы не указали, что будет играть роль индекса. По умолчанию это последовательность целых чисел 0, 1, 2, ..."
      ]
    },
    {
      "cell_type": "code",
      "metadata": {
        "id": "dQ22HfMbTDp-",
        "colab": {
          "base_uri": "https://localhost:8080/"
        },
        "outputId": "d7f0b226-45d2-408a-ab30-e59c1e4afddd"
      },
      "source": [
        "s.index"
      ],
      "execution_count": null,
      "outputs": [
        {
          "output_type": "execute_result",
          "data": {
            "text/plain": [
              "RangeIndex(start=0, stop=6, step=1)"
            ]
          },
          "metadata": {
            "tags": []
          },
          "execution_count": 119
        }
      ]
    },
    {
      "cell_type": "markdown",
      "metadata": {
        "id": "Rld_IRMWTJzs"
      },
      "source": [
        "\n",
        "Но можно создавать наборы данных с индексом, заданным списком."
      ]
    },
    {
      "cell_type": "code",
      "metadata": {
        "id": "2AzyJzPjTIUw",
        "colab": {
          "base_uri": "https://localhost:8080/"
        },
        "outputId": "017a96dd-c98c-4b2e-aadd-f51e2fca1420"
      },
      "source": [
        "i=list('abcdef')\n",
        "i"
      ],
      "execution_count": null,
      "outputs": [
        {
          "output_type": "execute_result",
          "data": {
            "text/plain": [
              "['a', 'b', 'c', 'd', 'e', 'f']"
            ]
          },
          "metadata": {
            "tags": []
          },
          "execution_count": 120
        }
      ]
    },
    {
      "cell_type": "code",
      "metadata": {
        "id": "-iw1kCDNTNeI",
        "colab": {
          "base_uri": "https://localhost:8080/"
        },
        "outputId": "498945d7-ed53-43dd-dcc9-5fbd57c8fc92"
      },
      "source": [
        "s=pd.Series(l,index=i)\n",
        "s"
      ],
      "execution_count": null,
      "outputs": [
        {
          "output_type": "execute_result",
          "data": {
            "text/plain": [
              "a    1.0\n",
              "b    3.0\n",
              "c    7.0\n",
              "d    0.0\n",
              "e    6.0\n",
              "f    8.0\n",
              "dtype: float64"
            ]
          },
          "metadata": {
            "tags": []
          },
          "execution_count": 121
        }
      ]
    },
    {
      "cell_type": "markdown",
      "metadata": {
        "id": "ImGe0uFJTf0g"
      },
      "source": [
        "Если индекс - строка, то вместо s['c'] можно писать s.c."
      ]
    },
    {
      "cell_type": "code",
      "metadata": {
        "id": "u4zSYEnHTdbx",
        "colab": {
          "base_uri": "https://localhost:8080/"
        },
        "outputId": "4f332a9b-a3ee-4988-d1bb-82889e235359"
      },
      "source": [
        "s.c"
      ],
      "execution_count": null,
      "outputs": [
        {
          "output_type": "execute_result",
          "data": {
            "text/plain": [
              "7.0"
            ]
          },
          "metadata": {
            "tags": []
          },
          "execution_count": 122
        }
      ]
    },
    {
      "cell_type": "markdown",
      "metadata": {
        "id": "QHvoEZRSTog_"
      },
      "source": [
        "Набор данных можно создать из словаря."
      ]
    },
    {
      "cell_type": "code",
      "metadata": {
        "id": "M5q8of-wTgyp",
        "colab": {
          "base_uri": "https://localhost:8080/"
        },
        "outputId": "1f01b15e-9065-4e1b-e8c5-dfc65e9bc24b"
      },
      "source": [
        "s=pd.Series({'a':1,'b':2,'c':0})\n",
        "s"
      ],
      "execution_count": null,
      "outputs": [
        {
          "output_type": "execute_result",
          "data": {
            "text/plain": [
              "a    1\n",
              "b    2\n",
              "c    0\n",
              "dtype: int64"
            ]
          },
          "metadata": {
            "tags": []
          },
          "execution_count": 123
        }
      ]
    },
    {
      "cell_type": "markdown",
      "metadata": {
        "id": "wq-JcHCkTroC"
      },
      "source": [
        "Можно отсортировать набор данных."
      ]
    },
    {
      "cell_type": "code",
      "metadata": {
        "id": "dcoSNDtCTppx",
        "colab": {
          "base_uri": "https://localhost:8080/"
        },
        "outputId": "9029bf4d-ecd5-4654-aaae-050ab6915068"
      },
      "source": [
        "s.sort_values() #ascending"
      ],
      "execution_count": null,
      "outputs": [
        {
          "output_type": "execute_result",
          "data": {
            "text/plain": [
              "c    0\n",
              "a    1\n",
              "b    2\n",
              "dtype: int64"
            ]
          },
          "metadata": {
            "tags": []
          },
          "execution_count": 127
        }
      ]
    },
    {
      "cell_type": "markdown",
      "metadata": {
        "id": "EhicMBlWTxkm"
      },
      "source": [
        "Роль индекса может играть, скажем, последовательность дат (или времён измерения и т.д.)."
      ]
    },
    {
      "cell_type": "code",
      "metadata": {
        "id": "woA8drK4TtAZ",
        "colab": {
          "base_uri": "https://localhost:8080/"
        },
        "outputId": "8f59ca1e-b7dc-40dd-8193-1ac456f6c538"
      },
      "source": [
        "d=pd.date_range('20160101', periods=10)\n",
        "d"
      ],
      "execution_count": null,
      "outputs": [
        {
          "output_type": "execute_result",
          "data": {
            "text/plain": [
              "DatetimeIndex(['2016-01-01', '2016-01-02', '2016-01-03', '2016-01-04',\n",
              "               '2016-01-05', '2016-01-06', '2016-01-07', '2016-01-08',\n",
              "               '2016-01-09', '2016-01-10'],\n",
              "              dtype='datetime64[ns]', freq='D')"
            ]
          },
          "metadata": {
            "tags": []
          },
          "execution_count": 128
        }
      ]
    },
    {
      "cell_type": "code",
      "metadata": {
        "id": "2WhDA-ZPT2Dw",
        "colab": {
          "base_uri": "https://localhost:8080/"
        },
        "outputId": "0203cb78-7025-4f5d-8dd7-f5598e630838"
      },
      "source": [
        "s=pd.Series(np.random.normal(size=10), index=d)\n",
        "s"
      ],
      "execution_count": null,
      "outputs": [
        {
          "output_type": "execute_result",
          "data": {
            "text/plain": [
              "2016-01-01    0.328181\n",
              "2016-01-02    0.428177\n",
              "2016-01-03    0.111850\n",
              "2016-01-04    1.193666\n",
              "2016-01-05    0.332727\n",
              "2016-01-06   -0.297641\n",
              "2016-01-07   -1.839451\n",
              "2016-01-08    1.405636\n",
              "2016-01-09    0.835693\n",
              "2016-01-10   -0.228364\n",
              "Freq: D, dtype: float64"
            ]
          },
          "metadata": {
            "tags": []
          },
          "execution_count": 129
        }
      ]
    },
    {
      "cell_type": "markdown",
      "metadata": {
        "id": "TsI1ZICeUDhu"
      },
      "source": [
        "Операции сравнения возвращают наборы булевых данных."
      ]
    },
    {
      "cell_type": "code",
      "metadata": {
        "id": "bMWOp2qzT_lZ",
        "colab": {
          "base_uri": "https://localhost:8080/"
        },
        "outputId": "386577b2-3b5d-41ed-acc1-560990edcc07"
      },
      "source": [
        "s>0"
      ],
      "execution_count": null,
      "outputs": [
        {
          "output_type": "execute_result",
          "data": {
            "text/plain": [
              "2016-01-01     True\n",
              "2016-01-02     True\n",
              "2016-01-03     True\n",
              "2016-01-04     True\n",
              "2016-01-05     True\n",
              "2016-01-06    False\n",
              "2016-01-07    False\n",
              "2016-01-08     True\n",
              "2016-01-09     True\n",
              "2016-01-10    False\n",
              "Freq: D, dtype: bool"
            ]
          },
          "metadata": {
            "tags": []
          },
          "execution_count": 130
        }
      ]
    },
    {
      "cell_type": "markdown",
      "metadata": {
        "id": "mjQK67fjUGGm"
      },
      "source": [
        "Если такой булев набор использовать для индексации, получится поднабор только из тех данных, для которых условие есть True."
      ]
    },
    {
      "cell_type": "code",
      "metadata": {
        "id": "u_frxvjDUEW5",
        "colab": {
          "base_uri": "https://localhost:8080/"
        },
        "outputId": "faecc7fc-92d0-4f9b-e30c-8c47f1663e50"
      },
      "source": [
        "s[s>0]"
      ],
      "execution_count": null,
      "outputs": [
        {
          "output_type": "execute_result",
          "data": {
            "text/plain": [
              "2016-01-01    0.328181\n",
              "2016-01-02    0.428177\n",
              "2016-01-03    0.111850\n",
              "2016-01-04    1.193666\n",
              "2016-01-05    0.332727\n",
              "2016-01-08    1.405636\n",
              "2016-01-09    0.835693\n",
              "dtype: float64"
            ]
          },
          "metadata": {
            "tags": []
          },
          "execution_count": 131
        }
      ]
    },
    {
      "cell_type": "markdown",
      "metadata": {
        "id": "8ab0imaqUMC9"
      },
      "source": [
        "## DataFrame\n",
        "\n",
        "Двумерная таблица данных. Имеет индекс и набор столбцов (возможно, имеющих разные типы). Таблицу можно построить, например, из словаря, значениями в котором являются одномерные наборы данных."
      ]
    },
    {
      "cell_type": "code",
      "metadata": {
        "id": "Ft_C23eZUHAJ",
        "colab": {
          "base_uri": "https://localhost:8080/",
          "height": 173
        },
        "outputId": "6464cfbe-096c-4d7b-f637-b1a792029e51"
      },
      "source": [
        "d={'one': pd.Series([1,2,3], index=['a','b','c']),\n",
        "   'two': pd.Series([1,2,3,4], index=['a','b','c','d'])}\n",
        "df=pd.DataFrame(d) # Создаем таблицу\n",
        "df"
      ],
      "execution_count": null,
      "outputs": [
        {
          "output_type": "execute_result",
          "data": {
            "text/html": [
              "<div>\n",
              "<style scoped>\n",
              "    .dataframe tbody tr th:only-of-type {\n",
              "        vertical-align: middle;\n",
              "    }\n",
              "\n",
              "    .dataframe tbody tr th {\n",
              "        vertical-align: top;\n",
              "    }\n",
              "\n",
              "    .dataframe thead th {\n",
              "        text-align: right;\n",
              "    }\n",
              "</style>\n",
              "<table border=\"1\" class=\"dataframe\">\n",
              "  <thead>\n",
              "    <tr style=\"text-align: right;\">\n",
              "      <th></th>\n",
              "      <th>one</th>\n",
              "      <th>two</th>\n",
              "    </tr>\n",
              "  </thead>\n",
              "  <tbody>\n",
              "    <tr>\n",
              "      <th>a</th>\n",
              "      <td>1.0</td>\n",
              "      <td>1</td>\n",
              "    </tr>\n",
              "    <tr>\n",
              "      <th>b</th>\n",
              "      <td>2.0</td>\n",
              "      <td>2</td>\n",
              "    </tr>\n",
              "    <tr>\n",
              "      <th>c</th>\n",
              "      <td>3.0</td>\n",
              "      <td>3</td>\n",
              "    </tr>\n",
              "    <tr>\n",
              "      <th>d</th>\n",
              "      <td>NaN</td>\n",
              "      <td>4</td>\n",
              "    </tr>\n",
              "  </tbody>\n",
              "</table>\n",
              "</div>"
            ],
            "text/plain": [
              "   one  two\n",
              "a  1.0    1\n",
              "b  2.0    2\n",
              "c  3.0    3\n",
              "d  NaN    4"
            ]
          },
          "metadata": {
            "tags": []
          },
          "execution_count": 133
        }
      ]
    },
    {
      "cell_type": "markdown",
      "metadata": {
        "id": "YHWH6pfRZX5n"
      },
      "source": [
        "### Индексация, слайсинг и доступ к переменным"
      ]
    },
    {
      "cell_type": "code",
      "metadata": {
        "id": "XCYGEe1_YAgR",
        "colab": {
          "base_uri": "https://localhost:8080/"
        },
        "outputId": "c512b0d7-6681-43c7-96a1-a3e5834a4b5d"
      },
      "source": [
        "df.index"
      ],
      "execution_count": null,
      "outputs": [
        {
          "output_type": "execute_result",
          "data": {
            "text/plain": [
              "Index(['a', 'b', 'c', 'd'], dtype='object')"
            ]
          },
          "metadata": {
            "tags": []
          },
          "execution_count": 134
        }
      ]
    },
    {
      "cell_type": "code",
      "metadata": {
        "id": "qbcbTZPfYBzR",
        "colab": {
          "base_uri": "https://localhost:8080/"
        },
        "outputId": "4feb23ae-7818-4f89-dc6d-03cb42e900bc"
      },
      "source": [
        "df.columns"
      ],
      "execution_count": null,
      "outputs": [
        {
          "output_type": "execute_result",
          "data": {
            "text/plain": [
              "Index(['one', 'two'], dtype='object')"
            ]
          },
          "metadata": {
            "tags": []
          },
          "execution_count": 135
        }
      ]
    },
    {
      "cell_type": "code",
      "metadata": {
        "colab": {
          "base_uri": "https://localhost:8080/"
        },
        "id": "QL41EJqoDxi0",
        "outputId": "5bf51129-3999-40db-fd2c-b16ec94694ef"
      },
      "source": [
        "df.values"
      ],
      "execution_count": null,
      "outputs": [
        {
          "output_type": "execute_result",
          "data": {
            "text/plain": [
              "array([[ 1.,  1.],\n",
              "       [ 2.,  2.],\n",
              "       [ 3.,  3.],\n",
              "       [nan,  4.]])"
            ]
          },
          "metadata": {
            "tags": []
          },
          "execution_count": 137
        }
      ]
    },
    {
      "cell_type": "markdown",
      "metadata": {
        "id": "n7pWo3oyYISt"
      },
      "source": [
        "Если в качестве индекса указать имя столбца, получится одномерный набор данных."
      ]
    },
    {
      "cell_type": "code",
      "metadata": {
        "id": "iBgXKw7bYGAJ",
        "colab": {
          "base_uri": "https://localhost:8080/"
        },
        "outputId": "43d4ca30-c62f-4c3a-c6f6-82989d75acde"
      },
      "source": [
        "df['one']"
      ],
      "execution_count": null,
      "outputs": [
        {
          "output_type": "execute_result",
          "data": {
            "text/plain": [
              "a    1.0\n",
              "b    2.0\n",
              "c    3.0\n",
              "d    NaN\n",
              "Name: one, dtype: float64"
            ]
          },
          "metadata": {
            "tags": []
          },
          "execution_count": 139
        }
      ]
    },
    {
      "cell_type": "code",
      "metadata": {
        "id": "rY0aL_SrYJDx",
        "colab": {
          "base_uri": "https://localhost:8080/"
        },
        "outputId": "946229f8-590d-4b69-a92c-d15cc5c5773e"
      },
      "source": [
        "df.one"
      ],
      "execution_count": null,
      "outputs": [
        {
          "output_type": "execute_result",
          "data": {
            "text/plain": [
              "a    1.0\n",
              "b    2.0\n",
              "c    3.0\n",
              "d    NaN\n",
              "Name: one, dtype: float64"
            ]
          },
          "metadata": {
            "tags": []
          },
          "execution_count": 140
        }
      ]
    },
    {
      "cell_type": "code",
      "metadata": {
        "id": "-RJ6EcWRYLMR",
        "colab": {
          "base_uri": "https://localhost:8080/"
        },
        "outputId": "04dadb5d-ffe5-4f43-d007-858f72af374b"
      },
      "source": [
        "df['one']['c']"
      ],
      "execution_count": null,
      "outputs": [
        {
          "output_type": "execute_result",
          "data": {
            "text/plain": [
              "3.0"
            ]
          },
          "metadata": {
            "tags": []
          },
          "execution_count": 141
        }
      ]
    },
    {
      "cell_type": "markdown",
      "metadata": {
        "id": "EKtBa4F7YKEH"
      },
      "source": [
        "\n",
        "Однако если указать диапазон индексов, то это означает диапазон строк. Причём последняя строка включается в таблицу."
      ]
    },
    {
      "cell_type": "code",
      "metadata": {
        "id": "GJFchFYWYPu5",
        "colab": {
          "base_uri": "https://localhost:8080/",
          "height": 142
        },
        "outputId": "e1aa3728-c1e5-43e9-eada-822b253bd93d"
      },
      "source": [
        "df['b':'d']"
      ],
      "execution_count": null,
      "outputs": [
        {
          "output_type": "execute_result",
          "data": {
            "text/html": [
              "<div>\n",
              "<style scoped>\n",
              "    .dataframe tbody tr th:only-of-type {\n",
              "        vertical-align: middle;\n",
              "    }\n",
              "\n",
              "    .dataframe tbody tr th {\n",
              "        vertical-align: top;\n",
              "    }\n",
              "\n",
              "    .dataframe thead th {\n",
              "        text-align: right;\n",
              "    }\n",
              "</style>\n",
              "<table border=\"1\" class=\"dataframe\">\n",
              "  <thead>\n",
              "    <tr style=\"text-align: right;\">\n",
              "      <th></th>\n",
              "      <th>one</th>\n",
              "      <th>two</th>\n",
              "    </tr>\n",
              "  </thead>\n",
              "  <tbody>\n",
              "    <tr>\n",
              "      <th>b</th>\n",
              "      <td>2.0</td>\n",
              "      <td>2</td>\n",
              "    </tr>\n",
              "    <tr>\n",
              "      <th>c</th>\n",
              "      <td>3.0</td>\n",
              "      <td>3</td>\n",
              "    </tr>\n",
              "    <tr>\n",
              "      <th>d</th>\n",
              "      <td>NaN</td>\n",
              "      <td>4</td>\n",
              "    </tr>\n",
              "  </tbody>\n",
              "</table>\n",
              "</div>"
            ],
            "text/plain": [
              "   one  two\n",
              "b  2.0    2\n",
              "c  3.0    3\n",
              "d  NaN    4"
            ]
          },
          "metadata": {
            "tags": []
          },
          "execution_count": 142
        }
      ]
    },
    {
      "cell_type": "markdown",
      "metadata": {
        "id": "w7mq1wxwYTZh"
      },
      "source": [
        "\n",
        "Диапазон целых чисел даёт диапазон строк с такими номерами, не включая последнюю строку (как обычно при индексировании списков). Всё это кажется довольно нелогичным."
      ]
    },
    {
      "cell_type": "code",
      "metadata": {
        "id": "5MfjL6FaYQ9x",
        "colab": {
          "base_uri": "https://localhost:8080/",
          "height": 111
        },
        "outputId": "e57c0b13-5cf6-4bc6-de96-fbd7802c739b"
      },
      "source": [
        "df[1:3]"
      ],
      "execution_count": null,
      "outputs": [
        {
          "output_type": "execute_result",
          "data": {
            "text/html": [
              "<div>\n",
              "<style scoped>\n",
              "    .dataframe tbody tr th:only-of-type {\n",
              "        vertical-align: middle;\n",
              "    }\n",
              "\n",
              "    .dataframe tbody tr th {\n",
              "        vertical-align: top;\n",
              "    }\n",
              "\n",
              "    .dataframe thead th {\n",
              "        text-align: right;\n",
              "    }\n",
              "</style>\n",
              "<table border=\"1\" class=\"dataframe\">\n",
              "  <thead>\n",
              "    <tr style=\"text-align: right;\">\n",
              "      <th></th>\n",
              "      <th>one</th>\n",
              "      <th>two</th>\n",
              "    </tr>\n",
              "  </thead>\n",
              "  <tbody>\n",
              "    <tr>\n",
              "      <th>b</th>\n",
              "      <td>2.0</td>\n",
              "      <td>2</td>\n",
              "    </tr>\n",
              "    <tr>\n",
              "      <th>c</th>\n",
              "      <td>3.0</td>\n",
              "      <td>3</td>\n",
              "    </tr>\n",
              "  </tbody>\n",
              "</table>\n",
              "</div>"
            ],
            "text/plain": [
              "   one  two\n",
              "b  2.0    2\n",
              "c  3.0    3"
            ]
          },
          "metadata": {
            "tags": []
          },
          "execution_count": 143
        }
      ]
    },
    {
      "cell_type": "markdown",
      "metadata": {
        "id": "_mgcvTWRYcZB"
      },
      "source": [
        "\n",
        "Логичнее работает атрибут `loc`: первая позиция - всегда индекс строки, а вторая - столбца."
      ]
    },
    {
      "cell_type": "code",
      "metadata": {
        "id": "HD9v7djkYamI",
        "colab": {
          "base_uri": "https://localhost:8080/"
        },
        "outputId": "6bcd0475-95f1-4a42-89b7-1bdcbd1b3b34"
      },
      "source": [
        "df.loc['b']"
      ],
      "execution_count": null,
      "outputs": [
        {
          "output_type": "execute_result",
          "data": {
            "text/plain": [
              "one    2.0\n",
              "two    2.0\n",
              "Name: b, dtype: float64"
            ]
          },
          "metadata": {
            "tags": []
          },
          "execution_count": 144
        }
      ]
    },
    {
      "cell_type": "code",
      "metadata": {
        "id": "nAIWifpNYdkK",
        "colab": {
          "base_uri": "https://localhost:8080/"
        },
        "outputId": "06fe19d0-340b-49cb-fd90-c6ee98928a65"
      },
      "source": [
        "df.loc['b','one']"
      ],
      "execution_count": null,
      "outputs": [
        {
          "output_type": "execute_result",
          "data": {
            "text/plain": [
              "2.0"
            ]
          },
          "metadata": {
            "tags": []
          },
          "execution_count": 145
        }
      ]
    },
    {
      "cell_type": "code",
      "metadata": {
        "id": "dK9j0kAVYekg",
        "colab": {
          "base_uri": "https://localhost:8080/"
        },
        "outputId": "39eae3f2-6d8f-4082-86c4-dc75d79b3d0d"
      },
      "source": [
        "df.loc['a':'b','one']"
      ],
      "execution_count": null,
      "outputs": [
        {
          "output_type": "execute_result",
          "data": {
            "text/plain": [
              "a    1.0\n",
              "b    2.0\n",
              "Name: one, dtype: float64"
            ]
          },
          "metadata": {
            "tags": []
          },
          "execution_count": 146
        }
      ]
    },
    {
      "cell_type": "code",
      "metadata": {
        "id": "FG0aTDlZYfpI",
        "colab": {
          "base_uri": "https://localhost:8080/",
          "height": 111
        },
        "outputId": "669bb913-eccb-4a1f-9376-eb59f2f9cdcc"
      },
      "source": [
        "df.loc['a':'b', :]"
      ],
      "execution_count": null,
      "outputs": [
        {
          "output_type": "execute_result",
          "data": {
            "text/html": [
              "<div>\n",
              "<style scoped>\n",
              "    .dataframe tbody tr th:only-of-type {\n",
              "        vertical-align: middle;\n",
              "    }\n",
              "\n",
              "    .dataframe tbody tr th {\n",
              "        vertical-align: top;\n",
              "    }\n",
              "\n",
              "    .dataframe thead th {\n",
              "        text-align: right;\n",
              "    }\n",
              "</style>\n",
              "<table border=\"1\" class=\"dataframe\">\n",
              "  <thead>\n",
              "    <tr style=\"text-align: right;\">\n",
              "      <th></th>\n",
              "      <th>one</th>\n",
              "      <th>two</th>\n",
              "    </tr>\n",
              "  </thead>\n",
              "  <tbody>\n",
              "    <tr>\n",
              "      <th>a</th>\n",
              "      <td>1.0</td>\n",
              "      <td>1</td>\n",
              "    </tr>\n",
              "    <tr>\n",
              "      <th>b</th>\n",
              "      <td>2.0</td>\n",
              "      <td>2</td>\n",
              "    </tr>\n",
              "  </tbody>\n",
              "</table>\n",
              "</div>"
            ],
            "text/plain": [
              "   one  two\n",
              "a  1.0    1\n",
              "b  2.0    2"
            ]
          },
          "metadata": {
            "tags": []
          },
          "execution_count": 147
        }
      ]
    },
    {
      "cell_type": "code",
      "metadata": {
        "id": "L7bpZyqbYgxg",
        "colab": {
          "base_uri": "https://localhost:8080/"
        },
        "outputId": "0e38ece4-9ab7-4461-a7b8-86d6315d0bce"
      },
      "source": [
        "df.loc[:,'one']"
      ],
      "execution_count": null,
      "outputs": [
        {
          "output_type": "execute_result",
          "data": {
            "text/plain": [
              "a    1.0\n",
              "b    2.0\n",
              "c    3.0\n",
              "d    NaN\n",
              "Name: one, dtype: float64"
            ]
          },
          "metadata": {
            "tags": []
          },
          "execution_count": 148
        }
      ]
    },
    {
      "cell_type": "markdown",
      "metadata": {
        "id": "TF4QWB6DYjzK"
      },
      "source": [
        "К таблице можно добавлять новые столбцы."
      ]
    },
    {
      "cell_type": "code",
      "metadata": {
        "id": "TqGCpXiAYh2w",
        "colab": {
          "base_uri": "https://localhost:8080/",
          "height": 173
        },
        "outputId": "4a4718f4-342a-4ae2-be5e-09d7c4bfb4ba"
      },
      "source": [
        "df['three'] = df['one'] * df['two']\n",
        "df['flag'] = df['two'] > 2\n",
        "df"
      ],
      "execution_count": null,
      "outputs": [
        {
          "output_type": "execute_result",
          "data": {
            "text/html": [
              "<div>\n",
              "<style scoped>\n",
              "    .dataframe tbody tr th:only-of-type {\n",
              "        vertical-align: middle;\n",
              "    }\n",
              "\n",
              "    .dataframe tbody tr th {\n",
              "        vertical-align: top;\n",
              "    }\n",
              "\n",
              "    .dataframe thead th {\n",
              "        text-align: right;\n",
              "    }\n",
              "</style>\n",
              "<table border=\"1\" class=\"dataframe\">\n",
              "  <thead>\n",
              "    <tr style=\"text-align: right;\">\n",
              "      <th></th>\n",
              "      <th>one</th>\n",
              "      <th>two</th>\n",
              "      <th>three</th>\n",
              "      <th>flag</th>\n",
              "    </tr>\n",
              "  </thead>\n",
              "  <tbody>\n",
              "    <tr>\n",
              "      <th>a</th>\n",
              "      <td>1.0</td>\n",
              "      <td>1</td>\n",
              "      <td>1.0</td>\n",
              "      <td>False</td>\n",
              "    </tr>\n",
              "    <tr>\n",
              "      <th>b</th>\n",
              "      <td>2.0</td>\n",
              "      <td>2</td>\n",
              "      <td>4.0</td>\n",
              "      <td>False</td>\n",
              "    </tr>\n",
              "    <tr>\n",
              "      <th>c</th>\n",
              "      <td>3.0</td>\n",
              "      <td>3</td>\n",
              "      <td>9.0</td>\n",
              "      <td>True</td>\n",
              "    </tr>\n",
              "    <tr>\n",
              "      <th>d</th>\n",
              "      <td>NaN</td>\n",
              "      <td>4</td>\n",
              "      <td>NaN</td>\n",
              "      <td>True</td>\n",
              "    </tr>\n",
              "  </tbody>\n",
              "</table>\n",
              "</div>"
            ],
            "text/plain": [
              "   one  two  three   flag\n",
              "a  1.0    1    1.0  False\n",
              "b  2.0    2    4.0  False\n",
              "c  3.0    3    9.0   True\n",
              "d  NaN    4    NaN   True"
            ]
          },
          "metadata": {
            "tags": []
          },
          "execution_count": 149
        }
      ]
    },
    {
      "cell_type": "markdown",
      "metadata": {
        "id": "S-j1YX0HYmGS"
      },
      "source": [
        "Также можно удалять имеющиеся."
      ]
    },
    {
      "cell_type": "code",
      "metadata": {
        "id": "0WiYzzoUYk7Y",
        "colab": {
          "base_uri": "https://localhost:8080/",
          "height": 173
        },
        "outputId": "1de9e3b6-a834-4690-8f64-d9b8c7e711cc"
      },
      "source": [
        "#del df['two']\n",
        "df['foo'] = 0.\n",
        "df"
      ],
      "execution_count": null,
      "outputs": [
        {
          "output_type": "execute_result",
          "data": {
            "text/html": [
              "<div>\n",
              "<style scoped>\n",
              "    .dataframe tbody tr th:only-of-type {\n",
              "        vertical-align: middle;\n",
              "    }\n",
              "\n",
              "    .dataframe tbody tr th {\n",
              "        vertical-align: top;\n",
              "    }\n",
              "\n",
              "    .dataframe thead th {\n",
              "        text-align: right;\n",
              "    }\n",
              "</style>\n",
              "<table border=\"1\" class=\"dataframe\">\n",
              "  <thead>\n",
              "    <tr style=\"text-align: right;\">\n",
              "      <th></th>\n",
              "      <th>one</th>\n",
              "      <th>two</th>\n",
              "      <th>three</th>\n",
              "      <th>flag</th>\n",
              "      <th>foo</th>\n",
              "    </tr>\n",
              "  </thead>\n",
              "  <tbody>\n",
              "    <tr>\n",
              "      <th>a</th>\n",
              "      <td>1.0</td>\n",
              "      <td>1</td>\n",
              "      <td>1.0</td>\n",
              "      <td>False</td>\n",
              "      <td>0.0</td>\n",
              "    </tr>\n",
              "    <tr>\n",
              "      <th>b</th>\n",
              "      <td>2.0</td>\n",
              "      <td>2</td>\n",
              "      <td>4.0</td>\n",
              "      <td>False</td>\n",
              "      <td>0.0</td>\n",
              "    </tr>\n",
              "    <tr>\n",
              "      <th>c</th>\n",
              "      <td>3.0</td>\n",
              "      <td>3</td>\n",
              "      <td>9.0</td>\n",
              "      <td>True</td>\n",
              "      <td>0.0</td>\n",
              "    </tr>\n",
              "    <tr>\n",
              "      <th>d</th>\n",
              "      <td>NaN</td>\n",
              "      <td>4</td>\n",
              "      <td>NaN</td>\n",
              "      <td>True</td>\n",
              "      <td>0.0</td>\n",
              "    </tr>\n",
              "  </tbody>\n",
              "</table>\n",
              "</div>"
            ],
            "text/plain": [
              "   one  two  three   flag  foo\n",
              "a  1.0    1    1.0  False  0.0\n",
              "b  2.0    2    4.0  False  0.0\n",
              "c  3.0    3    9.0   True  0.0\n",
              "d  NaN    4    NaN   True  0.0"
            ]
          },
          "metadata": {
            "tags": []
          },
          "execution_count": 154
        }
      ]
    },
    {
      "cell_type": "code",
      "metadata": {
        "colab": {
          "base_uri": "https://localhost:8080/",
          "height": 173
        },
        "id": "RQ_OX_nzE0k4",
        "outputId": "756be564-b327-4b85-e836-5bdfb62d1cd7"
      },
      "source": [
        "del df['foo']\n",
        "df"
      ],
      "execution_count": null,
      "outputs": [
        {
          "output_type": "execute_result",
          "data": {
            "text/html": [
              "<div>\n",
              "<style scoped>\n",
              "    .dataframe tbody tr th:only-of-type {\n",
              "        vertical-align: middle;\n",
              "    }\n",
              "\n",
              "    .dataframe tbody tr th {\n",
              "        vertical-align: top;\n",
              "    }\n",
              "\n",
              "    .dataframe thead th {\n",
              "        text-align: right;\n",
              "    }\n",
              "</style>\n",
              "<table border=\"1\" class=\"dataframe\">\n",
              "  <thead>\n",
              "    <tr style=\"text-align: right;\">\n",
              "      <th></th>\n",
              "      <th>one</th>\n",
              "      <th>two</th>\n",
              "      <th>three</th>\n",
              "      <th>flag</th>\n",
              "    </tr>\n",
              "  </thead>\n",
              "  <tbody>\n",
              "    <tr>\n",
              "      <th>a</th>\n",
              "      <td>1.0</td>\n",
              "      <td>1</td>\n",
              "      <td>1.0</td>\n",
              "      <td>False</td>\n",
              "    </tr>\n",
              "    <tr>\n",
              "      <th>b</th>\n",
              "      <td>2.0</td>\n",
              "      <td>2</td>\n",
              "      <td>4.0</td>\n",
              "      <td>False</td>\n",
              "    </tr>\n",
              "    <tr>\n",
              "      <th>c</th>\n",
              "      <td>3.0</td>\n",
              "      <td>3</td>\n",
              "      <td>9.0</td>\n",
              "      <td>True</td>\n",
              "    </tr>\n",
              "    <tr>\n",
              "      <th>d</th>\n",
              "      <td>NaN</td>\n",
              "      <td>4</td>\n",
              "      <td>NaN</td>\n",
              "      <td>True</td>\n",
              "    </tr>\n",
              "  </tbody>\n",
              "</table>\n",
              "</div>"
            ],
            "text/plain": [
              "   one  two  three   flag\n",
              "a  1.0    1    1.0  False\n",
              "b  2.0    2    4.0  False\n",
              "c  3.0    3    9.0   True\n",
              "d  NaN    4    NaN   True"
            ]
          },
          "metadata": {
            "tags": []
          },
          "execution_count": 155
        }
      ]
    },
    {
      "cell_type": "code",
      "metadata": {
        "colab": {
          "base_uri": "https://localhost:8080/",
          "height": 173
        },
        "id": "owMbfVCiE5cF",
        "outputId": "ee1d4dd5-ea4d-4438-f2cf-151d61db932a"
      },
      "source": [
        "df['foo'] = 0\n",
        "df = df.drop(['foo'], axis=1)\n",
        "df"
      ],
      "execution_count": null,
      "outputs": [
        {
          "output_type": "execute_result",
          "data": {
            "text/html": [
              "<div>\n",
              "<style scoped>\n",
              "    .dataframe tbody tr th:only-of-type {\n",
              "        vertical-align: middle;\n",
              "    }\n",
              "\n",
              "    .dataframe tbody tr th {\n",
              "        vertical-align: top;\n",
              "    }\n",
              "\n",
              "    .dataframe thead th {\n",
              "        text-align: right;\n",
              "    }\n",
              "</style>\n",
              "<table border=\"1\" class=\"dataframe\">\n",
              "  <thead>\n",
              "    <tr style=\"text-align: right;\">\n",
              "      <th></th>\n",
              "      <th>one</th>\n",
              "      <th>two</th>\n",
              "      <th>three</th>\n",
              "      <th>flag</th>\n",
              "    </tr>\n",
              "  </thead>\n",
              "  <tbody>\n",
              "    <tr>\n",
              "      <th>a</th>\n",
              "      <td>1.0</td>\n",
              "      <td>1</td>\n",
              "      <td>1.0</td>\n",
              "      <td>False</td>\n",
              "    </tr>\n",
              "    <tr>\n",
              "      <th>b</th>\n",
              "      <td>2.0</td>\n",
              "      <td>2</td>\n",
              "      <td>4.0</td>\n",
              "      <td>False</td>\n",
              "    </tr>\n",
              "    <tr>\n",
              "      <th>c</th>\n",
              "      <td>3.0</td>\n",
              "      <td>3</td>\n",
              "      <td>9.0</td>\n",
              "      <td>True</td>\n",
              "    </tr>\n",
              "    <tr>\n",
              "      <th>d</th>\n",
              "      <td>NaN</td>\n",
              "      <td>4</td>\n",
              "      <td>NaN</td>\n",
              "      <td>True</td>\n",
              "    </tr>\n",
              "  </tbody>\n",
              "</table>\n",
              "</div>"
            ],
            "text/plain": [
              "   one  two  three   flag\n",
              "a  1.0    1    1.0  False\n",
              "b  2.0    2    4.0  False\n",
              "c  3.0    3    9.0   True\n",
              "d  NaN    4    NaN   True"
            ]
          },
          "metadata": {
            "tags": []
          },
          "execution_count": 158
        }
      ]
    },
    {
      "cell_type": "markdown",
      "metadata": {
        "id": "XFgxOqQPZlBW"
      },
      "source": [
        "### Функции для сортировки"
      ]
    },
    {
      "cell_type": "code",
      "metadata": {
        "id": "qFnN69CmYm7o",
        "colab": {
          "base_uri": "https://localhost:8080/"
        },
        "outputId": "db056a4e-645f-4d5a-c58e-59a857cc3867"
      },
      "source": [
        "mask = df.apply(lambda x: x['one'] < 1.5 or x['two'] > 2.5, axis=1)\n",
        "mask"
      ],
      "execution_count": null,
      "outputs": [
        {
          "output_type": "execute_result",
          "data": {
            "text/plain": [
              "a     True\n",
              "b    False\n",
              "c     True\n",
              "d     True\n",
              "dtype: bool"
            ]
          },
          "metadata": {
            "tags": []
          },
          "execution_count": 159
        }
      ]
    },
    {
      "cell_type": "code",
      "metadata": {
        "id": "1MLNwaH07spE",
        "colab": {
          "base_uri": "https://localhost:8080/"
        },
        "outputId": "1fb3b6ae-5ed6-4723-97a7-ea23d12fbbf7"
      },
      "source": [
        "mask = df.apply(lambda x: x['a'] + x['b'], axis=0)\n",
        "mask"
      ],
      "execution_count": null,
      "outputs": [
        {
          "output_type": "execute_result",
          "data": {
            "text/plain": [
              "one          3\n",
              "two          3\n",
              "three        5\n",
              "flag     False\n",
              "dtype: object"
            ]
          },
          "metadata": {
            "tags": []
          },
          "execution_count": 160
        }
      ]
    },
    {
      "cell_type": "code",
      "metadata": {
        "id": "Cawtu_Km8G0w",
        "colab": {
          "base_uri": "https://localhost:8080/",
          "height": 173
        },
        "outputId": "82a7e665-3096-4932-e3a6-70144c8da1d8"
      },
      "source": [
        "df.T"
      ],
      "execution_count": null,
      "outputs": [
        {
          "output_type": "execute_result",
          "data": {
            "text/html": [
              "<div>\n",
              "<style scoped>\n",
              "    .dataframe tbody tr th:only-of-type {\n",
              "        vertical-align: middle;\n",
              "    }\n",
              "\n",
              "    .dataframe tbody tr th {\n",
              "        vertical-align: top;\n",
              "    }\n",
              "\n",
              "    .dataframe thead th {\n",
              "        text-align: right;\n",
              "    }\n",
              "</style>\n",
              "<table border=\"1\" class=\"dataframe\">\n",
              "  <thead>\n",
              "    <tr style=\"text-align: right;\">\n",
              "      <th></th>\n",
              "      <th>a</th>\n",
              "      <th>b</th>\n",
              "      <th>c</th>\n",
              "      <th>d</th>\n",
              "    </tr>\n",
              "  </thead>\n",
              "  <tbody>\n",
              "    <tr>\n",
              "      <th>one</th>\n",
              "      <td>1</td>\n",
              "      <td>2</td>\n",
              "      <td>3</td>\n",
              "      <td>NaN</td>\n",
              "    </tr>\n",
              "    <tr>\n",
              "      <th>two</th>\n",
              "      <td>1</td>\n",
              "      <td>2</td>\n",
              "      <td>3</td>\n",
              "      <td>4</td>\n",
              "    </tr>\n",
              "    <tr>\n",
              "      <th>three</th>\n",
              "      <td>1</td>\n",
              "      <td>4</td>\n",
              "      <td>9</td>\n",
              "      <td>NaN</td>\n",
              "    </tr>\n",
              "    <tr>\n",
              "      <th>flag</th>\n",
              "      <td>False</td>\n",
              "      <td>False</td>\n",
              "      <td>True</td>\n",
              "      <td>True</td>\n",
              "    </tr>\n",
              "  </tbody>\n",
              "</table>\n",
              "</div>"
            ],
            "text/plain": [
              "           a      b     c     d\n",
              "one        1      2     3   NaN\n",
              "two        1      2     3     4\n",
              "three      1      4     9   NaN\n",
              "flag   False  False  True  True"
            ]
          },
          "metadata": {
            "tags": []
          },
          "execution_count": 161
        }
      ]
    },
    {
      "cell_type": "markdown",
      "metadata": {
        "id": "LsL7EZAMZv6_"
      },
      "source": [
        "### Объединение и добавление новых столбцов"
      ]
    },
    {
      "cell_type": "markdown",
      "metadata": {
        "id": "BRNtivXFYzu0"
      },
      "source": [
        "\n",
        "Добавим копию столбца `one`, в которую входят только строки до второй."
      ]
    },
    {
      "cell_type": "code",
      "metadata": {
        "id": "zrkvEJtsYuno",
        "colab": {
          "base_uri": "https://localhost:8080/",
          "height": 173
        },
        "outputId": "b3021c41-a80c-4153-da17-a71c8276a4dc"
      },
      "source": [
        "df['one_tr'] = df['one'][:2]\n",
        "df"
      ],
      "execution_count": null,
      "outputs": [
        {
          "output_type": "execute_result",
          "data": {
            "text/html": [
              "<div>\n",
              "<style scoped>\n",
              "    .dataframe tbody tr th:only-of-type {\n",
              "        vertical-align: middle;\n",
              "    }\n",
              "\n",
              "    .dataframe tbody tr th {\n",
              "        vertical-align: top;\n",
              "    }\n",
              "\n",
              "    .dataframe thead th {\n",
              "        text-align: right;\n",
              "    }\n",
              "</style>\n",
              "<table border=\"1\" class=\"dataframe\">\n",
              "  <thead>\n",
              "    <tr style=\"text-align: right;\">\n",
              "      <th></th>\n",
              "      <th>one</th>\n",
              "      <th>two</th>\n",
              "      <th>three</th>\n",
              "      <th>flag</th>\n",
              "      <th>one_tr</th>\n",
              "    </tr>\n",
              "  </thead>\n",
              "  <tbody>\n",
              "    <tr>\n",
              "      <th>a</th>\n",
              "      <td>1.0</td>\n",
              "      <td>1</td>\n",
              "      <td>1.0</td>\n",
              "      <td>False</td>\n",
              "      <td>1.0</td>\n",
              "    </tr>\n",
              "    <tr>\n",
              "      <th>b</th>\n",
              "      <td>2.0</td>\n",
              "      <td>2</td>\n",
              "      <td>4.0</td>\n",
              "      <td>False</td>\n",
              "      <td>2.0</td>\n",
              "    </tr>\n",
              "    <tr>\n",
              "      <th>c</th>\n",
              "      <td>3.0</td>\n",
              "      <td>3</td>\n",
              "      <td>9.0</td>\n",
              "      <td>True</td>\n",
              "      <td>NaN</td>\n",
              "    </tr>\n",
              "    <tr>\n",
              "      <th>d</th>\n",
              "      <td>NaN</td>\n",
              "      <td>4</td>\n",
              "      <td>NaN</td>\n",
              "      <td>True</td>\n",
              "      <td>NaN</td>\n",
              "    </tr>\n",
              "  </tbody>\n",
              "</table>\n",
              "</div>"
            ],
            "text/plain": [
              "   one  two  three   flag  one_tr\n",
              "a  1.0    1    1.0  False     1.0\n",
              "b  2.0    2    4.0  False     2.0\n",
              "c  3.0    3    9.0   True     NaN\n",
              "d  NaN    4    NaN   True     NaN"
            ]
          },
          "metadata": {
            "tags": []
          },
          "execution_count": 162
        }
      ]
    },
    {
      "cell_type": "code",
      "metadata": {
        "id": "-59tvBD7Y2To",
        "colab": {
          "base_uri": "https://localhost:8080/",
          "height": 173
        },
        "outputId": "51c70f31-4b64-49f0-ca83-22c2960a9836"
      },
      "source": [
        "df1=df.loc[:, ['one','one_tr']]\n",
        "df1"
      ],
      "execution_count": null,
      "outputs": [
        {
          "output_type": "execute_result",
          "data": {
            "text/html": [
              "<div>\n",
              "<style scoped>\n",
              "    .dataframe tbody tr th:only-of-type {\n",
              "        vertical-align: middle;\n",
              "    }\n",
              "\n",
              "    .dataframe tbody tr th {\n",
              "        vertical-align: top;\n",
              "    }\n",
              "\n",
              "    .dataframe thead th {\n",
              "        text-align: right;\n",
              "    }\n",
              "</style>\n",
              "<table border=\"1\" class=\"dataframe\">\n",
              "  <thead>\n",
              "    <tr style=\"text-align: right;\">\n",
              "      <th></th>\n",
              "      <th>one</th>\n",
              "      <th>one_tr</th>\n",
              "    </tr>\n",
              "  </thead>\n",
              "  <tbody>\n",
              "    <tr>\n",
              "      <th>a</th>\n",
              "      <td>1.0</td>\n",
              "      <td>1.0</td>\n",
              "    </tr>\n",
              "    <tr>\n",
              "      <th>b</th>\n",
              "      <td>2.0</td>\n",
              "      <td>2.0</td>\n",
              "    </tr>\n",
              "    <tr>\n",
              "      <th>c</th>\n",
              "      <td>3.0</td>\n",
              "      <td>NaN</td>\n",
              "    </tr>\n",
              "    <tr>\n",
              "      <th>d</th>\n",
              "      <td>NaN</td>\n",
              "      <td>NaN</td>\n",
              "    </tr>\n",
              "  </tbody>\n",
              "</table>\n",
              "</div>"
            ],
            "text/plain": [
              "   one  one_tr\n",
              "a  1.0     1.0\n",
              "b  2.0     2.0\n",
              "c  3.0     NaN\n",
              "d  NaN     NaN"
            ]
          },
          "metadata": {
            "tags": []
          },
          "execution_count": 163
        }
      ]
    },
    {
      "cell_type": "markdown",
      "metadata": {
        "id": "b9ozvKC7ZJZa"
      },
      "source": [
        "Можно объединять таблицы по вертикали и по горизонтали."
      ]
    },
    {
      "cell_type": "code",
      "metadata": {
        "id": "snimQl3LY3tA",
        "colab": {
          "base_uri": "https://localhost:8080/",
          "height": 111
        },
        "outputId": "0bfaf62b-2946-4f7b-fe82-9538340675a3"
      },
      "source": [
        "df2=pd.DataFrame({\n",
        "    'one':{'a':0,'b':1},\n",
        "    'one_tr':{'b':2}\n",
        "})\n",
        "df2"
      ],
      "execution_count": null,
      "outputs": [
        {
          "output_type": "execute_result",
          "data": {
            "text/html": [
              "<div>\n",
              "<style scoped>\n",
              "    .dataframe tbody tr th:only-of-type {\n",
              "        vertical-align: middle;\n",
              "    }\n",
              "\n",
              "    .dataframe tbody tr th {\n",
              "        vertical-align: top;\n",
              "    }\n",
              "\n",
              "    .dataframe thead th {\n",
              "        text-align: right;\n",
              "    }\n",
              "</style>\n",
              "<table border=\"1\" class=\"dataframe\">\n",
              "  <thead>\n",
              "    <tr style=\"text-align: right;\">\n",
              "      <th></th>\n",
              "      <th>one</th>\n",
              "      <th>one_tr</th>\n",
              "    </tr>\n",
              "  </thead>\n",
              "  <tbody>\n",
              "    <tr>\n",
              "      <th>a</th>\n",
              "      <td>0</td>\n",
              "      <td>NaN</td>\n",
              "    </tr>\n",
              "    <tr>\n",
              "      <th>b</th>\n",
              "      <td>1</td>\n",
              "      <td>2.0</td>\n",
              "    </tr>\n",
              "  </tbody>\n",
              "</table>\n",
              "</div>"
            ],
            "text/plain": [
              "   one  one_tr\n",
              "a    0     NaN\n",
              "b    1     2.0"
            ]
          },
          "metadata": {
            "tags": []
          },
          "execution_count": 164
        }
      ]
    },
    {
      "cell_type": "code",
      "metadata": {
        "id": "SWwLouGuY9xo",
        "colab": {
          "base_uri": "https://localhost:8080/",
          "height": 235
        },
        "outputId": "6b62aec2-6e01-4eed-8de5-df4eb98b321e"
      },
      "source": [
        "df3 = pd.concat([df,df2], axis=0)\n",
        "df3"
      ],
      "execution_count": null,
      "outputs": [
        {
          "output_type": "execute_result",
          "data": {
            "text/html": [
              "<div>\n",
              "<style scoped>\n",
              "    .dataframe tbody tr th:only-of-type {\n",
              "        vertical-align: middle;\n",
              "    }\n",
              "\n",
              "    .dataframe tbody tr th {\n",
              "        vertical-align: top;\n",
              "    }\n",
              "\n",
              "    .dataframe thead th {\n",
              "        text-align: right;\n",
              "    }\n",
              "</style>\n",
              "<table border=\"1\" class=\"dataframe\">\n",
              "  <thead>\n",
              "    <tr style=\"text-align: right;\">\n",
              "      <th></th>\n",
              "      <th>one</th>\n",
              "      <th>two</th>\n",
              "      <th>three</th>\n",
              "      <th>flag</th>\n",
              "      <th>one_tr</th>\n",
              "    </tr>\n",
              "  </thead>\n",
              "  <tbody>\n",
              "    <tr>\n",
              "      <th>a</th>\n",
              "      <td>1.0</td>\n",
              "      <td>1.0</td>\n",
              "      <td>1.0</td>\n",
              "      <td>False</td>\n",
              "      <td>1.0</td>\n",
              "    </tr>\n",
              "    <tr>\n",
              "      <th>b</th>\n",
              "      <td>2.0</td>\n",
              "      <td>2.0</td>\n",
              "      <td>4.0</td>\n",
              "      <td>False</td>\n",
              "      <td>2.0</td>\n",
              "    </tr>\n",
              "    <tr>\n",
              "      <th>c</th>\n",
              "      <td>3.0</td>\n",
              "      <td>3.0</td>\n",
              "      <td>9.0</td>\n",
              "      <td>True</td>\n",
              "      <td>NaN</td>\n",
              "    </tr>\n",
              "    <tr>\n",
              "      <th>d</th>\n",
              "      <td>NaN</td>\n",
              "      <td>4.0</td>\n",
              "      <td>NaN</td>\n",
              "      <td>True</td>\n",
              "      <td>NaN</td>\n",
              "    </tr>\n",
              "    <tr>\n",
              "      <th>a</th>\n",
              "      <td>0.0</td>\n",
              "      <td>NaN</td>\n",
              "      <td>NaN</td>\n",
              "      <td>NaN</td>\n",
              "      <td>NaN</td>\n",
              "    </tr>\n",
              "    <tr>\n",
              "      <th>b</th>\n",
              "      <td>1.0</td>\n",
              "      <td>NaN</td>\n",
              "      <td>NaN</td>\n",
              "      <td>NaN</td>\n",
              "      <td>2.0</td>\n",
              "    </tr>\n",
              "  </tbody>\n",
              "</table>\n",
              "</div>"
            ],
            "text/plain": [
              "   one  two  three   flag  one_tr\n",
              "a  1.0  1.0    1.0  False     1.0\n",
              "b  2.0  2.0    4.0  False     2.0\n",
              "c  3.0  3.0    9.0   True     NaN\n",
              "d  NaN  4.0    NaN   True     NaN\n",
              "a  0.0  NaN    NaN    NaN     NaN\n",
              "b  1.0  NaN    NaN    NaN     2.0"
            ]
          },
          "metadata": {
            "tags": []
          },
          "execution_count": 167
        }
      ]
    },
    {
      "cell_type": "markdown",
      "metadata": {
        "id": "euQ-XG97ESr4"
      },
      "source": [
        "# Полезные ссылки и доп материалы\n",
        "\n",
        "Освоить основы каждой библиотеки за 10-15 минут:\n",
        "#### numpy\n",
        "https://docs.scipy.org/doc/numpy/user/quickstart.html\n",
        "#### pandas\n",
        "https://pandas.pydata.org/pandas-docs/stable/getting_started/10min.html\n",
        "\n",
        "#### matplotlib\n",
        "\n",
        "https://matplotlib.org/3.1.1/tutorials/index.html"
      ]
    },
    {
      "cell_type": "markdown",
      "metadata": {
        "id": "DgjE2TBfFGyS"
      },
      "source": [
        "# ДЗ"
      ]
    },
    {
      "cell_type": "code",
      "metadata": {
        "id": "D-Lc19J4WL-3"
      },
      "source": [
        "# загрузим библиотеки\n",
        "import numpy as np\n",
        "import pandas as pd"
      ],
      "execution_count": null,
      "outputs": []
    },
    {
      "cell_type": "markdown",
      "metadata": {
        "id": "ZYcKnimkFRrD"
      },
      "source": [
        "## Задание 1\n",
        "\n",
        "Создайте массив из 100 элементов (от 1 до 100), переформатируйте в формат (10 * 10), сделайте слайсинг с шагом 2 по каждой оси."
      ]
    },
    {
      "cell_type": "code",
      "metadata": {
        "colab": {
          "base_uri": "https://localhost:8080/"
        },
        "id": "vGpPpZs2VVnw",
        "outputId": "ba82c49f-0986-4e9e-f9bb-c8312080a0fd"
      },
      "source": [
        "np.arange(1, 101).reshape((10, 10))[::2,::2]"
      ],
      "execution_count": null,
      "outputs": [
        {
          "output_type": "execute_result",
          "data": {
            "text/plain": [
              "array([[ 1,  3,  5,  7,  9],\n",
              "       [21, 23, 25, 27, 29],\n",
              "       [41, 43, 45, 47, 49],\n",
              "       [61, 63, 65, 67, 69],\n",
              "       [81, 83, 85, 87, 89]])"
            ]
          },
          "metadata": {
            "tags": []
          },
          "execution_count": 2
        }
      ]
    },
    {
      "cell_type": "markdown",
      "metadata": {
        "id": "SrI3heKeV7nP"
      },
      "source": [
        "## Задание 2\n",
        "\n",
        "Написать функцию, которая по заданной длине последовательности находит среднее арифметическое ее членов.\n",
        "\n",
        "Реализуйте задачу с и без помощи numpy, сравните время выполнения"
      ]
    },
    {
      "cell_type": "code",
      "metadata": {
        "colab": {
          "base_uri": "https://localhost:8080/"
        },
        "id": "7DwjjNb-4POp",
        "outputId": "639fa49b-05d0-4e9d-e821-85ab31ae641d"
      },
      "source": [
        "# решение с использованием numpy\n",
        "# для оценки времени исполнения блока\n",
        "%%time\n",
        "# зададим длину нашей последовательности\n",
        "dlina_posl = 100_000_000\n",
        "\n",
        "# ваш код тут\n",
        "def posl_mean_np(dlina_posl):\n",
        "  print(\"Среднее арифметическое последовательности\", np.arange(dlina_posl).mean())\n",
        "posl_mean_np(dlina_posl)"
      ],
      "execution_count": null,
      "outputs": [
        {
          "output_type": "stream",
          "text": [
            "Среднее арифметическое последовательности 49999999.5\n",
            "CPU times: user 300 ms, sys: 336 ms, total: 636 ms\n",
            "Wall time: 637 ms\n"
          ],
          "name": "stdout"
        }
      ]
    },
    {
      "cell_type": "code",
      "metadata": {
        "colab": {
          "base_uri": "https://localhost:8080/"
        },
        "id": "YeSH-9846ClL",
        "outputId": "a13b7661-18b0-4144-cad6-48d3dc4a516a"
      },
      "source": [
        "# решение без использования numpy\n",
        "# для оценки времени исполнения блока\n",
        "%%time\n",
        "\n",
        "# ваш код тут\n",
        "def posl_mean(dlina_posl):\n",
        "  posl = range(dlina_posl)\n",
        "  ret = sum(posl) / len(posl)\n",
        "  print(\"Среднее арифметическое последовательности\", ret)\n",
        "posl_mean(dlina_posl)"
      ],
      "execution_count": null,
      "outputs": [
        {
          "output_type": "stream",
          "text": [
            "Среднее арифметическое последовательности 49999999.5\n",
            "CPU times: user 1.7 s, sys: 2.56 ms, total: 1.7 s\n",
            "Wall time: 1.7 s\n"
          ],
          "name": "stdout"
        }
      ]
    },
    {
      "cell_type": "markdown",
      "metadata": {
        "id": "rN5yJLU4WF_6"
      },
      "source": [
        ""
      ]
    },
    {
      "cell_type": "markdown",
      "metadata": {
        "id": "aF_IhXzJFWzJ"
      },
      "source": [
        "## Задание 3 * (необязательно к выполнению)\n",
        "\n",
        "Задан Series объект s, найти индекс первого элемента отсортированного s, где значения больше 5"
      ]
    },
    {
      "cell_type": "code",
      "metadata": {
        "colab": {
          "base_uri": "https://localhost:8080/"
        },
        "id": "Xy4uoEta8WqR",
        "outputId": "73357939-e5b9-49fc-e468-7b5375aa2fb1"
      },
      "source": [
        "# задано изначально\n",
        "r = np.random.RandomState(1)\n",
        "s = pd.Series(r.uniform(0, 10, 100))\n",
        "\n",
        "s_sorted = s.sort_values()\n",
        "s_sorted[s_sorted > 5].index[0]"
      ],
      "execution_count": null,
      "outputs": [
        {
          "output_type": "execute_result",
          "data": {
            "text/plain": [
              "67"
            ]
          },
          "metadata": {
            "tags": []
          },
          "execution_count": 5
        }
      ]
    },
    {
      "cell_type": "markdown",
      "metadata": {
        "id": "lK7mPJPRWcs2"
      },
      "source": [
        "## Задание 4\n",
        "\n",
        "Предположим, что мы наблюдаем за некоторым признаком нашего датасета, но в данных есть пропуски. Ваша задача: реализовать алгоритм заполнения пропущенных значений последним известным с помощью средств python и pandas. (подсказка: вам может помочь функция np.isnan(), которая возвращает True, если число - nan. Для реализации с пандас стоит посмотреть на метод .fillna).\n",
        "\n",
        "Изначальный код с инициализацией такого датасета предоставлен."
      ]
    },
    {
      "cell_type": "code",
      "metadata": {
        "colab": {
          "base_uri": "https://localhost:8080/",
          "height": 282
        },
        "id": "-OuFXF72Bi1i",
        "outputId": "b4a83846-83bb-4cdd-8142-a3b42100f21a"
      },
      "source": [
        "# импортируем библиотеку для создания шума\n",
        "import random\n",
        "# библиотека для визуализации\n",
        "import matplotlib.pyplot as plt\n",
        "\n",
        "# создадим наши данные и добавим к каждой точке синусоиды случайный шум\n",
        "a = np.linspace(0, 25, 100)\n",
        "a = np.sin(a) + [random.gauss(0, 0.2) for i in range(len(a))]\n",
        "\n",
        "# создадим 10 случайных пропусков\n",
        "for i in range(10):\n",
        "    a[random.randint(0, len(a) - 1)] = None\n",
        "# создадим датафрейм\n",
        "df = pd.DataFrame({'target':a})\n",
        "\n",
        "# ваш код тут\n",
        "df.target.fillna(method='backfill', inplace=True)\n",
        "\n",
        "# отобразим\n",
        "plt.plot(df.target.values)"
      ],
      "execution_count": null,
      "outputs": [
        {
          "output_type": "execute_result",
          "data": {
            "text/plain": [
              "[<matplotlib.lines.Line2D at 0x7fb7bf7beac8>]"
            ]
          },
          "metadata": {
            "tags": []
          },
          "execution_count": 6
        },
        {
          "output_type": "display_data",
          "data": {
            "image/png": "[encoded data removed]",
            "text/plain": [
              "<Figure size 432x288 with 1 Axes>"
            ]
          },
          "metadata": {
            "tags": [],
            "needs_background": "light"
          }
        }
      ]
    },
    {
      "cell_type": "markdown",
      "metadata": {
        "id": "5gYj1TeyW9Aq"
      },
      "source": [
        "## Задание 5 * ( необязательно к выполнению)\n",
        "\n",
        "Имеется небольшой игрушечный датафрейм, в котором необходимо провести несколько типов фильтраций (ответы ищите в решениях) и отобразить результат:\n",
        "\n",
        "* всех, кто старше 40\n",
        "* всех, кто имеет доход выше среднего по датасету\n",
        "* всех, кто имеет доход выше среднего по датасету, но надежность ниже среднего по датасету\n",
        "\n",
        "создать новые столбцы:\n",
        "\n",
        "* важность клиента = доход * надежность\n",
        "* возможная долгосрочность клиента = важность клиента * (средний возраст по датасету - возраст клиента)\n",
        "\n",
        "`подсказка: двойные условия записываются так: (условие 1) & (условие 2)`\n",
        "\n",
        "\n",
        "** примечание: столбцы не имеют отношения к реальным формулам или моделям, они необходимы только для наглядности"
      ]
    },
    {
      "cell_type": "code",
      "metadata": {
        "colab": {
          "base_uri": "https://localhost:8080/"
        },
        "id": "buY16UMIDKAi",
        "outputId": "595cdf5f-aa47-4a05-8cd4-5436cc9f8753"
      },
      "source": [
        "# создадим тестовый датасет\n",
        "df = pd.DataFrame({\n",
        "    'имя': ['Петя', 'Вася', 'Аня', 'Света'],\n",
        "    'возраст': [45, 26, 41 , 21],\n",
        "    'доход': [100000, 80000, 150000, 60000],\n",
        "    'надежность клиента (0..1)': [0.65, 0.74, 0.87, 0.68],\n",
        "    'пол': ['муж', 'муж', 'жен', 'жен']},\n",
        "    index=[0, 1, 2, 3])\n",
        "\n",
        "# ваш код тут\n",
        "print(\"все, кто старше 40\")\n",
        "print(df[df['возраст'] > 40])\n",
        "print(\"\\nвсе, кто имеет доход выше среднего по датасету\")\n",
        "print(df[df['доход'] > df['доход'].mean()])\n",
        "print(\"\\nвсе, кто имеет доход выше среднего по датасету, но надежность ниже среднего по датасету\")\n",
        "print(df[\n",
        "         (df['доход'] > df['доход'].mean()) &\n",
        "         (df['надежность клиента (0..1)'] < df['надежность клиента (0..1)'].mean())\n",
        "         ])\n",
        "df['важность клиента'] = df['доход'] * df['надежность клиента (0..1)']\n",
        "print(\"\\nважность клиента\")\n",
        "print(df['важность клиента'])\n",
        "df['возможная долгосрочность клиента'] = df['важность клиента'] * (df['возраст'].mean() - df['возраст'])\n",
        "print(\"\\nвозможная долгосрочность клиента\")\n",
        "print(df['возможная долгосрочность клиента'])"
      ],
      "execution_count": null,
      "outputs": [
        {
          "output_type": "stream",
          "text": [
            "все, кто старше 40\n",
            "    имя  возраст   доход  надежность клиента (0..1)  пол\n",
            "0  Петя       45  100000                       0.65  муж\n",
            "2   Аня       41  150000                       0.87  жен\n",
            "\n",
            "все, кто имеет доход выше среднего по датасету\n",
            "    имя  возраст   доход  надежность клиента (0..1)  пол\n",
            "0  Петя       45  100000                       0.65  муж\n",
            "2   Аня       41  150000                       0.87  жен\n",
            "\n",
            "все, кто имеет доход выше среднего по датасету, но надежность ниже среднего по датасету\n",
            "    имя  возраст   доход  надежность клиента (0..1)  пол\n",
            "0  Петя       45  100000                       0.65  муж\n",
            "\n",
            "важность клиента\n",
            "0     65000.0\n",
            "1     59200.0\n",
            "2    130500.0\n",
            "3     40800.0\n",
            "Name: важность клиента, dtype: float64\n",
            "\n",
            "возможная долгосрочность клиента\n",
            "0    -763750.0\n",
            "1     429200.0\n",
            "2   -1011375.0\n",
            "3     499800.0\n",
            "Name: возможная долгосрочность клиента, dtype: float64\n"
          ],
          "name": "stdout"
        }
      ]
    }
  ]
}