{
 "cells": [
  {
   "cell_type": "markdown",
   "metadata": {
    "colab_type": "text",
    "id": "view-in-github"
   },
   "source": [
    "<a href=\"https://colab.research.google.com/github/mukaseevru/ds-school/blob/main/lesson%208/HW_8_lesson.ipynb\" target=\"_parent\"><img src=\"https://colab.research.google.com/assets/colab-badge.svg\" alt=\"Open In Colab\"/></a>"
   ]
  },
  {
   "cell_type": "markdown",
   "metadata": {
    "id": "EXNSbmw6XLxd"
   },
   "source": [
    "# Домашнее задание к 8 уроку\n",
    "\n",
    "**Дедлайн: 26.12.2020**"
   ]
  },
  {
   "cell_type": "markdown",
   "metadata": {
    "id": "W_0KSzEQYPKp"
   },
   "source": [
    "HW in colab: https://colab.research.google.com/drive/1RKW91O1ZpMuu63th7P_hj9qOsaaD3qP1?usp=sharing"
   ]
  },
  {
   "cell_type": "markdown",
   "metadata": {
    "id": "1kAn7WV4XOMZ"
   },
   "source": [
    "**ФОРМАТ ОТЧЕТНОСТИ:** pdf-файл с решенными задачами или же ноутбук с решенными задачи на языке Markdown."
   ]
  },
  {
   "cell_type": "markdown",
   "metadata": {
    "id": "PllPM_9rLzSh"
   },
   "source": [
    "# Часть 1. СЛАУ"
   ]
  },
  {
   "cell_type": "markdown",
   "metadata": {
    "id": "GSL00ab2HVDc"
   },
   "source": [
    "__1.__ Решить систему уравнений методом Гаусса:\n",
    "\n",
    "$$\\begin{cases}\n",
    "x_{1}+x_{2}-x_{3}-2x_{4}=0, \\\\\n",
    "2x_{1}+x_{2}-x_{3}+x_{4}=-2, \\\\\n",
    "x_{1}+x_{2}-3x_{3}+x_{4}=4.\n",
    "\\end{cases}$$\n",
    "\n",
    "__2.__ Проверить на совместность и выяснить, сколько решений будет иметь система линейных уравнений:\n",
    "\n",
    "   а) $\\begin{cases}\n",
    "3x_{1}-x_{2}+x_{3}=4, \\\\\n",
    "2x_{1}-5x_{2}-3x_{3}=-17, \\\\\n",
    "x_{1}+x_{2}-x_{3}=0;\n",
    "\\end{cases}$\n",
    "    \n",
    "   б) $\\begin{cases}\n",
    "2x_{1}-4x_{2}+6x_{3}=1, \\\\\n",
    "x_{1}-2x_{2}+3x_{3}=-2, \\\\\n",
    "3x_{1}-6x_{2}+9x_{3}=5;\n",
    "\\end{cases}$\n",
    "    \n",
    "   в) $\\begin{cases}\n",
    "x_{1}+2x_{2}+5x_{3}=4, \\\\\n",
    "3x_{1}+x_{2}-8x_{3}=-2. \n",
    "\\end{cases}$"
   ]
  },
  {
   "cell_type": "markdown",
   "metadata": {
    "id": "GABKcHcfL3sC"
   },
   "source": [
    "# Часть 2. Дифференцируемость функций"
   ]
  },
  {
   "cell_type": "markdown",
   "metadata": {
    "id": "d8AAGigdHVGZ"
   },
   "source": [
    "Прочитайте краткую статью-обзор про **функции активации** в нейронных сетях. Дальше в курсе мы еще с Вами об этом поговорим, а сейчас достаточно знать какие функции активации нейронов существуют и определять дифференцируемы они или нет.\n",
    "\n",
    "Прочитайте следющие статьи:\n",
    "- https://www.machinelearningmastery.ru/complete-guide-of-activation-functions-34076e95d044/\n",
    "- https://missinglink.ai/guides/neural-network-concepts/7-types-neural-network-activation-functions-right/\n",
    "\n",
    "и выполните следующие задачи:"
   ]
  },
  {
   "cell_type": "markdown",
   "metadata": {
    "id": "yuSNlofZXAL3"
   },
   "source": [
    "## Задания"
   ]
  },
  {
   "cell_type": "markdown",
   "metadata": {
    "id": "g17tNv9WLx0n"
   },
   "source": [
    "**1.** Для чего необходимо определять дифференцируемость/недефференцируемость функций активации в сетях?"
   ]
  },
  {
   "cell_type": "markdown",
   "metadata": {
    "id": "OxYiiJhGMErP"
   },
   "source": [
    "**2.** Даны 1-6. Вычислите следующие характеристики:\n",
    "\n",
    "- производную функции\n",
    "- область значений\n",
    "- монотонность (монотонная или нет)\n",
    "\n",
    "1. **Identity.** $f(x)=x$\n",
    "2. **Binary step/Единичная ступенька**. $f(x)=\\left\\{\\begin{array}{ll}0 & x<0 \\\\ 1 & x \\geqslant 0\\end{array}\\right.$\n",
    "3. **Hyperbolic tangent/Гиперболический тангенс**. $f(x)=\\operatorname{th}(x)=\\frac{\\left(e^{x}-e^{-x}\\right)}{\\left(e^{x}+e^{-x}\\right)}$\n",
    "4. **ReLU**. $f(x)=\\left\\{\\begin{array}{ll}0 & x<0 \\\\ x & x \\geqslant 0\\end{array}\\right.$\n",
    "5. **Softplus**. $f(x)=\\ln \\left(1+e^{x}\\right)$\n",
    "6. **Синусоида**. $f(x)=\\sin (x)$\n",
    "\n",
    "Если функция дифференцируема на интервале  (a,b) и принадлежит к одному из четырехтипов (т.е. является возрастающей, строго возрастающей, убывающей или строго убывающей), то такая функция называется **монотонной** на данном интервале. \n",
    "<img src=\"https://github.com/ddvika/Data-Science-School-2020/blob/main/lecture_8/imgs/graphs.png?raw=true\" height=400 />"
   ]
  },
  {
   "cell_type": "markdown",
   "metadata": {
    "id": "fKHN1URvMcdb"
   },
   "source": [
    "Пример:\n",
    "\n",
    " **0**. Дана функция **Softsign:** $f(x)=\\frac{x}{1+|x|}$\n",
    "\n",
    " 1. Производная функции:\n",
    " $f'(x)=(\\frac{x}{1+|x|})' $\n",
    "\n",
    "- Воспользуемся правилом нахождения производной от частного: \n",
    "\n",
    "\n",
    "$$\\frac{d}{d x}\\left(\\frac{u}{v}\\right)=\\frac{v \\frac{d u}{d x}-u \\frac{d v}{d x}}{v^{2}}$$\n",
    "Где $u = x$ и $ v = |x| + 1$.\n",
    "\n",
    "Следовательно, в нашем случае имеем:\n",
    "\n",
    "$\\frac{d}{d x}\\left(\\frac{x}{1+|x|}\\right)= \\frac{(1+|x|)\\left(\\frac{d}{d x}(x)\\right)-x\\left(\\frac{d}{d x}(1+|x|)\\right)}{(1+|x|)^{2}}= \\frac{1+|x|-x\\left(\\frac{d}{d x}(1+|x|)\\right)}{(1+|x|)^{2}}=\\frac{1+|x|-x\\left(\\frac{d}{d x}(|x|)+0\\right)}{(1+|x|)^{2}} = $\n",
    "\n",
    "- Запишем $\\frac{d}{d x}(|x|)$ след. образом  $\\frac{d}{d x}(|x|)=\\frac{d|u|}{d u} \\frac{d u}{d x}$, где $u=x$, $\\frac{d}{d u}(|u|)=\\frac{u}{|u|}$\n",
    "\n",
    "$= \\frac{1+|x|-\\frac{x\\left(\\frac{d}{d x}(x)\\right)}{|x|}}{(1+|x|)^{2}}= \\frac{1+|x|-\\frac{x^{2}\\left(\\frac{d}{d x}(x)\\right)}{|x|}}{(1+|x|)^{2}}= \\frac{1+|x|-1 \\mid \\frac{x^{2}}{|x|}}{(1+|x|)^{2}}= \\frac{1}{(1+|x|)^{2}}$\n",
    "\n",
    "$$f'(x) = \\frac{1}{(1+|x|)^{2}}$$\n",
    "\n",
    "**P.S.** Находить производную можно менее подробно!\n",
    "\n",
    "2. Область значений функции:\n",
    "\n",
    "Знаменатель функции не должен быть равен 0:\n",
    "\n",
    "$|x|+1 \\neq 0 \\rightarrow x \\in R$, то есть область значений - множество всех действительных чисел. \n",
    "\n",
    "Теперь найдем множество значений:\n",
    "\n",
    "Пусть $$\\frac{x}{1+|x|} = a$$\n",
    "Решая уравнение $ \\frac{x}{1+|x|}- a =0 $, получим $E = (-1,1)$\n",
    "\n",
    "\n",
    "\n",
    "$$E = (-1,1)$$\n",
    "\n",
    "3. Определим моннотонна ли функция\n",
    "\n",
    "- построим график функции"
   ]
  },
  {
   "cell_type": "code",
   "execution_count": 1,
   "metadata": {
    "colab": {
     "base_uri": "https://localhost:8080/",
     "height": 295
    },
    "id": "3gBae6jJUUJ3",
    "outputId": "0c1a93e4-bdca-4a28-a80d-bba55379acc9"
   },
   "outputs": [
    {
     "data": {
      "image/png": "[encoded data removed]",
      "text/plain": [
       "<Figure size 432x288 with 1 Axes>"
      ]
     },
     "metadata": {
      "needs_background": "light",
      "tags": []
     },
     "output_type": "display_data"
    }
   ],
   "source": [
    "import numpy as np\n",
    "import matplotlib.pyplot as plt\n",
    "\n",
    "def f(x):\n",
    "    return x/(1+abs(x))\n",
    "\n",
    "a = np.arange(-100, 100)\n",
    "plt.plot(a, f(a))\n",
    "plt.title('Softsign')\n",
    "plt.xlabel('x')\n",
    "plt.ylabel('f(x)')\n",
    "plt.show()"
   ]
  },
  {
   "cell_type": "markdown",
   "metadata": {
    "id": "lZz_LHD1U7u_"
   },
   "source": [
    "**Ответ: функция монотонна**"
   ]
  },
  {
   "cell_type": "markdown",
   "metadata": {
    "id": "o060JYePVAIU"
   },
   "source": [
    "# Ваше решение тут"
   ]
  },
  {
   "cell_type": "markdown",
   "metadata": {
    "id": "2rX5sIMBXtja"
   },
   "source": [
    "\n",
    "**P.S.** Находить производну можно менее подробно чем в примере! но нахождение каждого пункта решения и отрисовка графиков обязательна (С названием графика и подписью осей как в примере!)."
   ]
  },
  {
   "cell_type": "markdown",
   "metadata": {
    "id": "yp5pWgM-LVDr"
   },
   "source": [
    "# Часть 1. СЛАУ"
   ]
  },
  {
   "cell_type": "markdown",
   "metadata": {
    "id": "4LIqiFHALRtX"
   },
   "source": [
    "__1.__ Решить систему уравнений методом Гаусса:\n",
    "\n",
    "$$\\begin{cases}\n",
    "x_{1}+x_{2}-x_{3}-2x_{4}=0, \\\\\n",
    "2x_{1}+x_{2}-x_{3}+x_{4}=-2, \\\\\n",
    "x_{1}+x_{2}-3x_{3}+x_{4}=4.\n",
    "\\end{cases}$$"
   ]
  },
  {
   "cell_type": "markdown",
   "metadata": {
    "id": "vmIVnj9rLLFX"
   },
   "source": [
    "У нас недоопределенная система. Векторы коэффициентов линейно независимы. В трехмерном пространстве любая тройка векторов\n",
    "\n",
    "$$a_{1}=\\begin{pmatrix}\n",
    "1\\\\ \n",
    "2\\\\\n",
    "1\n",
    "\\end{pmatrix}, a_{2}=\n",
    "\\begin{pmatrix}\n",
    "1\\\\ \n",
    "1\\\\\n",
    "1\n",
    "\\end{pmatrix}, a_{3}=\n",
    "\\begin{pmatrix}\n",
    "-1\\\\ \n",
    "-1\\\\\n",
    "-3\n",
    "\\end{pmatrix}, a_{4}=\n",
    "\\begin{pmatrix}\n",
    "-2\\\\ \n",
    "1\\\\\n",
    "1\n",
    "\\end{pmatrix}$$\n",
    "\n",
    "может образовать базис, по которому получится единственным образом разложить любой вектор. Система имеет бесконечное количество решений."
   ]
  },
  {
   "cell_type": "markdown",
   "metadata": {
    "id": "gXESdImIeABW"
   },
   "source": [
    "__2.__ Проверить на совместность и выяснить, сколько решений будет иметь система линейных уравнений:\n",
    "\n",
    "   а) $\\begin{cases}\n",
    "3x_{1}-x_{2}+x_{3}=4, \\\\\n",
    "2x_{1}-5x_{2}-3x_{3}=-17, \\\\\n",
    "x_{1}+x_{2}-x_{3}=0;\n",
    "\\end{cases}$\n"
   ]
  },
  {
   "cell_type": "markdown",
   "metadata": {
    "id": "3UbadiFueHyl"
   },
   "source": [
    "Запишем расширенную матрицу системы:\n",
    "\n",
    "$$\\begin{pmatrix}\n",
    "\\left.\\begin{matrix}\n",
    "3 & -1 & 1 \\\\ \n",
    "2 & -5 & -3 \\\\ \n",
    "1 & 1 & -1\n",
    "\\end{matrix}\\right|\n",
    "\\begin{matrix}\n",
    "4\\\\ \n",
    "-17\\\\\n",
    "0\n",
    "\\end{matrix}\n",
    "\\end{pmatrix}$$\n"
   ]
  },
  {
   "cell_type": "markdown",
   "metadata": {
    "id": "Urv8qkJ2emQE"
   },
   "source": [
    "Путем элементарных преобразований постараемся привести матрицу к ступенчатому виду.\n",
    "\n",
    "Поменяем местами первую и третью строку:\n",
    "$$\\begin{pmatrix}\n",
    "\\left.\\begin{matrix}\n",
    "1 & 1 & -1 \\\\\n",
    "2 & -5 & -3 \\\\ \n",
    "3 & -1 & 1\n",
    "\\end{matrix}\\right|\n",
    "\\begin{matrix}\n",
    "0\\\\ \n",
    "-17\\\\\n",
    "4\n",
    "\\end{matrix}\n",
    "\\end{pmatrix}$$"
   ]
  },
  {
   "cell_type": "markdown",
   "metadata": {
    "id": "iwjTfLeWfQpk"
   },
   "source": [
    "Вычтем из второй строки первую, умноженную на 2 и из третий строки первую, умноженную на 3:\n",
    "$$\\begin{pmatrix}\n",
    "\\left.\\begin{matrix}\n",
    "1 & 1 & -1 \\\\\n",
    "0 & -7 & -1 \\\\\n",
    "0 & -4 & 4\n",
    "\\end{matrix}\\right|\n",
    "\\begin{matrix}\n",
    "0\\\\\n",
    "-17\\\\\n",
    "4\n",
    "\\end{matrix}\n",
    "\\end{pmatrix}$$"
   ]
  },
  {
   "cell_type": "markdown",
   "metadata": {
    "id": "kXPYe71SpqpZ"
   },
   "source": [
    "Разделим вторую строку на -7, а третью на 4:\n",
    "$$\\begin{pmatrix}\n",
    "\\left.\\begin{matrix}\n",
    "1 & 1 & -1 \\\\\n",
    "0 & 1 & \\frac{1}{7} \\\\\n",
    "0 & -1 & 1\n",
    "\\end{matrix}\\right|\n",
    "\\begin{matrix}\n",
    "0\\\\\n",
    "\\frac{17}{7}\\\\\n",
    "1\n",
    "\\end{matrix}\n",
    "\\end{pmatrix}$$\n"
   ]
  },
  {
   "cell_type": "markdown",
   "metadata": {
    "id": "Cd1lPbV9pc4K"
   },
   "source": [
    "Прибавим к 3 строки 2:\n",
    "$$\\begin{pmatrix}\n",
    "\\left.\\begin{matrix}\n",
    "1 & 1 & -1 \\\\\n",
    "0 & 1 & -\\frac{1}{7} \\\\\n",
    "0 & 0 & \\frac{8}{7}\n",
    "\\end{matrix}\\right|\n",
    "\\begin{matrix}\n",
    "0\\\\\n",
    "\\frac{17}{7}\\\\\n",
    "\\frac{24}{7}\n",
    "\\end{matrix}\n",
    "\\end{pmatrix}$$"
   ]
  },
  {
   "cell_type": "markdown",
   "metadata": {
    "id": "_0cClWDB0SVF"
   },
   "source": [
    "Поделим третью строку на $\\frac{8}{7}$:\n",
    "$$\\begin{pmatrix}\n",
    "\\left.\\begin{matrix}\n",
    "1 & 1 & -1 \\\\\n",
    "0 & 1 & \\frac{1}{7} \\\\\n",
    "0 & 0 & 1\n",
    "\\end{matrix}\\right|\n",
    "\\begin{matrix}\n",
    "0\\\\\n",
    "\\frac{17}{7}\\\\\n",
    "3\n",
    "\\end{matrix}\n",
    "\\end{pmatrix}$$"
   ]
  },
  {
   "cell_type": "markdown",
   "metadata": {
    "id": "n9ju61Y3qzUk"
   },
   "source": [
    "В итоге после преобразований мы получили матрицу треугольного вида, которая представляет следующую систему:\n",
    "\n",
    "$$\\begin{cases}\n",
    "x_{1}+x_{2}-x_{3}=0, \\\\\n",
    "~~~~~~~~~x_{2}+\\frac{1}{7}x_{3}=\\frac{17}{7}, \\\\\n",
    "~~~~~~~~~~~~~~~~~~x_{3}=3;\n",
    "\\end{cases}$$"
   ]
  },
  {
   "cell_type": "markdown",
   "metadata": {
    "id": "ymzcrPtA3ZPD"
   },
   "source": [
    "Подставим $x_{3}$ во второе уравнение:\n",
    "$$x_{2} + \\frac{1}{7}\\cdot 3 = \\frac{17}{7}\\Rightarrow x_{2}=2,$$\n",
    "\n",
    "а затем полученные $x_{2}$ и $x_{3}$ — в первое уравнение:\n",
    "$$x_{1} + 2 - 3 = 0\\Rightarrow x_{1}=1.$$"
   ]
  },
  {
   "cell_type": "markdown",
   "metadata": {
    "id": "43xzXN1HumIF"
   },
   "source": [
    "Если подставить полученные значения неизвестных в исходную систему, несложно убедиться, что все выражения обращаются в тождества:\n",
    "\n",
    "$$\\begin{cases}\n",
    "3\\cdot1 - 2 + 3 = 4,\\\\\n",
    "2\\cdot1 - 5\\cdot2 - 3\\cdot3 = -17,\\\\\n",
    "1 + 2 - 3 = 0;\n",
    "\\end{cases}$$"
   ]
  },
  {
   "cell_type": "markdown",
   "metadata": {
    "id": "WUVSa6lR6sRV"
   },
   "source": [
    "__Система совместна и имеет одно решение.__"
   ]
  },
  {
   "cell_type": "markdown",
   "metadata": {
    "id": "VawqGgApeC1g"
   },
   "source": [
    "б) $\\begin{cases}\n",
    "2x_{1}-4x_{2}+6x_{3}=1, \\\\\n",
    "x_{1}-2x_{2}+3x_{3}=-2, \\\\\n",
    "3x_{1}-6x_{2}+9x_{3}=5;\n",
    "\\end{cases}$\n"
   ]
  },
  {
   "cell_type": "markdown",
   "metadata": {
    "id": "x7IIJgSP6-7M"
   },
   "source": [
    "Запишем расширенную матрицу системы:\n",
    "\n",
    "$$\\begin{pmatrix}\n",
    "\\left.\\begin{matrix}\n",
    "2 & -4 & 6 \\\\ \n",
    "1 & -2 & 3 \\\\ \n",
    "3 & -6 & 9\n",
    "\\end{matrix}\\right|\n",
    "\\begin{matrix}\n",
    "1\\\\ \n",
    "-2\\\\\n",
    "5\n",
    "\\end{matrix}\n",
    "\\end{pmatrix}$$\n"
   ]
  },
  {
   "cell_type": "markdown",
   "metadata": {
    "id": "TQ0lflXPABg5"
   },
   "source": [
    "Векторы коэффициентов линейно зависимы, и вектор свободных членов не принадлежит двумерному подпространству, которое они образуют.\n",
    "\n",
    "Решим систему методом Гаусса. Поменяем местами первую и вторую строку:\n",
    "$$\\begin{pmatrix}\n",
    "\\left.\\begin{matrix}\n",
    "1 & -2 & 3 \\\\ \n",
    "2 & -4 & 6 \\\\\n",
    "3 & -6 & 9\n",
    "\\end{matrix}\\right|\n",
    "\\begin{matrix}\n",
    "-2 \\\\ \n",
    "1 \\\\\n",
    "5\n",
    "\\end{matrix}\n",
    "\\end{pmatrix}$$\n",
    "\n",
    "Вычтем из второй строки первую, умноженную на 2 и из третьей строки первую, умноженную на 3:\n",
    "\n",
    "$$\\begin{pmatrix}\n",
    "\\left.\\begin{matrix}\n",
    "1 & -2 & 3 \\\\ \n",
    "0 & 0 & 0 \\\\\n",
    "0 & 0 & 0\n",
    "\\end{matrix}\\right|\n",
    "\\begin{matrix}\n",
    "-2 \\\\ \n",
    "5 \\\\\n",
    "11\n",
    "\\end{matrix}\n",
    "\\end{pmatrix}$$\n",
    "\n",
    "__Действительно, такая система несовместна.__"
   ]
  },
  {
   "cell_type": "markdown",
   "metadata": {
    "id": "nZ8OCi0yeFre"
   },
   "source": [
    "в) $\\begin{cases}\n",
    "x_{1}+2x_{2}+5x_{3}=4, \\\\\n",
    "3x_{1}+x_{2}-8x_{3}=-2. \n",
    "\\end{cases}$"
   ]
  },
  {
   "cell_type": "markdown",
   "metadata": {
    "id": "XbhVUv4BFbe8"
   },
   "source": [
    "В двумерном пространстве любая пара векторов\n",
    "\n",
    "$$a_{1}=\\begin{pmatrix}\n",
    "1\\\\ \n",
    "3\n",
    "\\end{pmatrix}, a_{2}=\n",
    "\\begin{pmatrix}\n",
    "2\\\\ \n",
    "1\n",
    "\\end{pmatrix}, a_{3}=\n",
    "\\begin{pmatrix}\n",
    "5\\\\ \n",
    "-8\n",
    "\\end{pmatrix}$$\n",
    "\n",
    "может образовать базис, по которому получится единственным образом разложить любой вектор. Система имеет бесконечное количество решений."
   ]
  },
  {
   "cell_type": "markdown",
   "metadata": {
    "id": "OhHOAC7rLYrK"
   },
   "source": [
    "# Часть 2. Дифференцируемость функций"
   ]
  },
  {
   "cell_type": "markdown",
   "metadata": {
    "id": "pFZtGVROM6DW"
   },
   "source": [
    "**1.** Для чего необходимо определять дифференцируемость/недефференцируемость функций активации в сетях?"
   ]
  },
  {
   "cell_type": "markdown",
   "metadata": {
    "id": "2uWkKtsAFOqx"
   },
   "source": [
    "Ответ: Функция активации привязана к каждому нейрону в сети и регулирует выходной сигнал в зависимости от входных параметров. При небольшом изменении входных параметров нейрон должен либо активироваться, либо нет. Поэтому дифферецируемость функции активации важна, в том числе для метода обратного распространения ошибки, когда подбирается оптимальный вес для каждого нейрона, что приводит к наиболее точному прогнозу.\n"
   ]
  },
  {
   "cell_type": "markdown",
   "metadata": {
    "id": "MsIhFOqANBWq"
   },
   "source": [
    "**2.** Даны 1-6. Вычислите следующие характеристики:\n",
    "\n",
    "- производную функции\n",
    "- область значений\n",
    "- монотонность (монотонная или нет)\n",
    "\n",
    "1. **Identity.** $f(x)=x$\n",
    "2. **Binary step/Единичная ступенька**. $f(x)=\\left\\{\\begin{array}{ll}0 & x<0 \\\\ 1 & x \\geqslant 0\\end{array}\\right.$\n",
    "3. **Hyperbolic tangent/Гиперболический тангенс**. $f(x)=\\operatorname{th}(x)=\\frac{\\left(e^{x}-e^{-x}\\right)}{\\left(e^{x}+e^{-x}\\right)}$\n",
    "4. **ReLU**. $f(x)=\\left\\{\\begin{array}{ll}0 & x<0 \\\\ x & x \\geqslant 0\\end{array}\\right.$\n",
    "5. **Softplus**. $f(x)=\\ln \\left(1+e^{x}\\right)$\n",
    "6. **Синусоида**. $f(x)=\\sin (x)$\n",
    "\n",
    "Если функция дифференцируема на интервале  (a,b) и принадлежит к одному из четырехтипов (т.е. является возрастающей, строго возрастающей, убывающей или строго убывающей), то такая функция называется **монотонной** на данном интервале. \n",
    "<img src=\"https://github.com/ddvika/Data-Science-School-2020/blob/main/lecture_8/imgs/graphs.png?raw=true\" height=400 />"
   ]
  },
  {
   "cell_type": "markdown",
   "metadata": {
    "id": "nYY8sk6g0SE_"
   },
   "source": [
    "**1**. Дана функция **Identity:** $f(x)=x$\n",
    "\n",
    "1.1. Производная функции. Воспользуемся правилом нахождения производной: $$f'(x) = (x)' = 1\\cdot x^{1-1} = x^0 = 1$$\n",
    "1.2. Область определения и значений функции: $$x \\in R, E(f) = R$$\n",
    "\n",
    "1.3. Определим моннотонна ли функция. Построим график функции:"
   ]
  },
  {
   "cell_type": "code",
   "execution_count": 2,
   "metadata": {
    "colab": {
     "base_uri": "https://localhost:8080/",
     "height": 295
    },
    "id": "eiSSuwVxQpdi",
    "outputId": "2187c3d5-baec-4376-bf57-fbe18d3e8150"
   },
   "outputs": [
    {
     "data": {
      "image/png": "[encoded data removed]",
      "text/plain": [
       "<Figure size 432x288 with 1 Axes>"
      ]
     },
     "metadata": {
      "needs_background": "light",
      "tags": []
     },
     "output_type": "display_data"
    }
   ],
   "source": [
    "def f(x):\n",
    "    return x\n",
    "\n",
    "x = np.arange(-100, 100)\n",
    "plt.plot(x, f(x))\n",
    "plt.title('Identity')\n",
    "plt.xlabel('x')\n",
    "plt.ylabel('f(x)')\n",
    "plt.show()"
   ]
  },
  {
   "cell_type": "markdown",
   "metadata": {
    "id": "qd0AgFWu_FSE"
   },
   "source": [
    "**Ответ: функция монотонна**"
   ]
  },
  {
   "cell_type": "markdown",
   "metadata": {
    "id": "VFiWiGTK_hPW"
   },
   "source": [
    "**2**. Дана функция **Binary step/Единичная ступенька**. $f(x)=\\left\\{\\begin{array}{ll}0 & x<0 \\\\ 1 & x \\geqslant 0\\end{array}\\right.$\n",
    "\n",
    "2.1. Производная функции:\n",
    " $f'(x)=\\left\\{\\begin{array}{ll}+\\infty & x=0 \\\\ 0 & x \\neq 0\\end{array}\\right.$\n",
    "\n",
    "2.2. Область определения и значений функции: $$x \\in R, E(f) = \\{0, 1\\}$$\n",
    "\n",
    "2.3. Определим моннотонна ли функция. Построим график функции:"
   ]
  },
  {
   "cell_type": "code",
   "execution_count": 3,
   "metadata": {
    "colab": {
     "base_uri": "https://localhost:8080/",
     "height": 295
    },
    "id": "mXz3H86I0QPv",
    "outputId": "c3734078-544d-4929-c318-ac67af7b92e8"
   },
   "outputs": [
    {
     "data": {
      "image/png": "[encoded data removed]",
      "text/plain": [
       "<Figure size 432x288 with 1 Axes>"
      ]
     },
     "metadata": {
      "needs_background": "light",
      "tags": []
     },
     "output_type": "display_data"
    }
   ],
   "source": [
    "def f(x):\n",
    "  y = []\n",
    "  for i in x:\n",
    "    if i < 0:\n",
    "      y.append(0)\n",
    "    if i >= 0:\n",
    "      y.append(1)\n",
    "  return y\n",
    "\n",
    "x = np.arange(-100, 100)\n",
    "plt.plot(x, f(x))\n",
    "plt.title('Binary step/Единичная ступенька')\n",
    "plt.xlabel('x')\n",
    "plt.ylabel('f(x)')\n",
    "plt.show()"
   ]
  },
  {
   "cell_type": "markdown",
   "metadata": {
    "id": "XwMAkPcoUH0X"
   },
   "source": [
    "**Ответ: функция монотонна**"
   ]
  },
  {
   "cell_type": "markdown",
   "metadata": {
    "id": "aDl7KwAnVk0O"
   },
   "source": [
    "**3**. Дана функция **Hyperbolic tangent/Гиперболический тангенс**: $f(x)=\\operatorname{tanh}(x)=\\frac{\\left(e^{x}-e^{-x}\\right)}{\\left(e^{x}+e^{-x}\\right)}$\n",
    "\n",
    "3.1. Производная функции:\n",
    " $f'(x)=(\\operatorname{tanh}(x))' = (\\frac{cosh(x)}{sinh(x)})' = \\frac{(sinh(x))'cosh(x) - sinh(x)(cosh(x))'}{cosh^2(x)} = \\frac{cosh^2(x) - sinh^2(x)}{cosh^2(x)} = \\frac{1}{cosh^2(x)} = 1 - tanh^2(x)$\n",
    "\n",
    "3.2. Область определения и значений функции: $$x \\in R, E(f) = [-1, 1]$$\n",
    "\n",
    "3.3. Определим моннотонна ли функция. Построим график функции:"
   ]
  },
  {
   "cell_type": "code",
   "execution_count": 4,
   "metadata": {
    "colab": {
     "base_uri": "https://localhost:8080/",
     "height": 295
    },
    "id": "Wh46bsCsGzZg",
    "outputId": "faa6dd6c-3726-4332-d5a8-87bcbcd7b4ab"
   },
   "outputs": [
    {
     "data": {
      "image/png": "[encoded data removed]",
      "text/plain": [
       "<Figure size 432x288 with 1 Axes>"
      ]
     },
     "metadata": {
      "needs_background": "light",
      "tags": []
     },
     "output_type": "display_data"
    }
   ],
   "source": [
    "def f(x):\n",
    "  return np.tanh(x)\n",
    "\n",
    "x = np.arange(-10, 10, 0.1)\n",
    "plt.plot(x, f(x))\n",
    "plt.title('Hyperbolic tangent/Гиперболический тангенс')\n",
    "plt.xlabel('x')\n",
    "plt.ylabel('f(x)')\n",
    "plt.show()"
   ]
  },
  {
   "cell_type": "markdown",
   "metadata": {
    "id": "Lj7ARVPeg_iQ"
   },
   "source": [
    "**Ответ: функция монотонна**"
   ]
  },
  {
   "cell_type": "markdown",
   "metadata": {
    "id": "TUMAQ2d2iSms"
   },
   "source": [
    "**4**. Дана функция **ReLU**: $f(x)=\\left\\{\\begin{array}{ll}0 & x<0 \\\\ x & x \\geqslant 0\\end{array}\\right.$\n",
    "\n",
    "4.1. Производная функции:\n",
    " $f'(x)=\\left\\{\\begin{array}{ll}0 & x \\leqslant 0 \\\\ 1 & x > 0\\end{array}\\right.$\n",
    "\n",
    "4.2. Область определения и значений функции: $$x \\in R, E(f) = [0, +\\infty)$$\n",
    "\n",
    "4.3. Определим моннотонна ли функция. Построим график функции:"
   ]
  },
  {
   "cell_type": "code",
   "execution_count": 5,
   "metadata": {
    "colab": {
     "base_uri": "https://localhost:8080/",
     "height": 295
    },
    "id": "Bnvao1f6Wdpy",
    "outputId": "dea58f01-3a72-4528-c98a-7fd9f5fb8cab"
   },
   "outputs": [
    {
     "data": {
      "image/png": "[encoded data removed]",
      "text/plain": [
       "<Figure size 432x288 with 1 Axes>"
      ]
     },
     "metadata": {
      "needs_background": "light",
      "tags": []
     },
     "output_type": "display_data"
    }
   ],
   "source": [
    "def f(x):\n",
    "  return np.maximum(0, x)\n",
    "\n",
    "x = np.arange(-10, 10)\n",
    "plt.plot(x, f(x))\n",
    "plt.title('ReLU')\n",
    "plt.xlabel('x')\n",
    "plt.ylabel('f(x)')\n",
    "plt.show()"
   ]
  },
  {
   "cell_type": "markdown",
   "metadata": {
    "id": "tidu4KSvmL97"
   },
   "source": [
    "**Ответ: функция монотонна**"
   ]
  },
  {
   "cell_type": "markdown",
   "metadata": {
    "id": "bD5fskd-mMtY"
   },
   "source": [
    "**5**. Дана функция **Softplus**: $f(x)=\\ln \\left(1+e^{x}\\right)$\n",
    "\n",
    "5.1. Производная функции. Воспользуемся правилом нахождения производной: $$f'(x) = \\left(\\ln \\left(1+e^{x}\\right)\\right)' = \\left(\\ln \\left(1+e^{x}\\right)\\right)'\\left(1+e^{x}\\right)'= \\frac{e^x}{1+e^x}$$\n",
    "5.2. Область определения и значений функции: $$x \\in R, E(f) = (0, +\\infty)$$\n",
    "\n",
    "5.3. Определим моннотонна ли функция. Построим график функции:"
   ]
  },
  {
   "cell_type": "code",
   "execution_count": 6,
   "metadata": {
    "colab": {
     "base_uri": "https://localhost:8080/",
     "height": 295
    },
    "id": "Faj2TqlOdOS1",
    "outputId": "9d506130-eee9-4004-c6af-4a704cef8c1e"
   },
   "outputs": [
    {
     "data": {
      "image/png": "[encoded data removed]",
      "text/plain": [
       "<Figure size 432x288 with 1 Axes>"
      ]
     },
     "metadata": {
      "needs_background": "light",
      "tags": []
     },
     "output_type": "display_data"
    }
   ],
   "source": [
    "def f(x):\n",
    "  return np.log10(1+np.exp(x))\n",
    "\n",
    "x = np.arange(-10, 10)\n",
    "plt.plot(x, f(x))\n",
    "plt.title('Softplus')\n",
    "plt.xlabel('x')\n",
    "plt.ylabel('f(x)')\n",
    "plt.show()"
   ]
  },
  {
   "cell_type": "markdown",
   "metadata": {
    "id": "wlmo8jQupriu"
   },
   "source": [
    "**Ответ: функция монотонна**"
   ]
  },
  {
   "cell_type": "markdown",
   "metadata": {
    "id": "6qNuC06Lpywo"
   },
   "source": [
    "**6**. Дана функция **Синусоида**: $f(x)=\\sin (x)$\n",
    "\n",
    "6.1. Производная функции. Воспользуемся правилом нахождения производной: $$f'(x) = (sin(x))' = cos(x)$$\n",
    "6.2. Область определения и значений функции: $$x \\in R, E(f) = [-1, 1]$$\n",
    "\n",
    "6.3. Определим моннотонна ли функция. Построим график функции:"
   ]
  },
  {
   "cell_type": "code",
   "execution_count": 7,
   "metadata": {
    "colab": {
     "base_uri": "https://localhost:8080/",
     "height": 295
    },
    "id": "kuh0b1budaw8",
    "outputId": "884c17ce-3ecc-4bb2-8bc0-8591b85f5336"
   },
   "outputs": [
    {
     "data": {
      "image/png": "[encoded data removed]",
      "text/plain": [
       "<Figure size 432x288 with 1 Axes>"
      ]
     },
     "metadata": {
      "needs_background": "light",
      "tags": []
     },
     "output_type": "display_data"
    }
   ],
   "source": [
    "def f(x):\n",
    "  return np.sin(x)\n",
    "\n",
    "x = np.arange(-1000, 1000)*np.pi/180\n",
    "plt.plot(x, f(x))\n",
    "plt.title('Синусоида')\n",
    "plt.xlabel('x')\n",
    "plt.ylabel('f(x)')\n",
    "plt.show()"
   ]
  },
  {
   "cell_type": "markdown",
   "metadata": {
    "id": "o6Xtrl7EsI2j"
   },
   "source": [
    "**Ответ: функция монотонна**"
   ]
  }
 ],
 "metadata": {
  "colab": {
   "collapsed_sections": [],
   "include_colab_link": true,
   "name": "HW_8_lesson.ipynb",
   "provenance": []
  },
  "kernelspec": {
   "display_name": "Python 3",
   "language": "python",
   "name": "python3"
  },
  "language_info": {
   "codemirror_mode": {
    "name": "ipython",
    "version": 3
   },
   "file_extension": ".py",
   "mimetype": "text/x-python",
   "name": "python",
   "nbconvert_exporter": "python",
   "pygments_lexer": "ipython3",
   "version": "3.7.9"
  }
 },
 "nbformat": 4,
 "nbformat_minor": 1
}
