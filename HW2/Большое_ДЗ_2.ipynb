{
  "nbformat": 4,
  "nbformat_minor": 0,
  "metadata": {
    "colab": {
      "name": "Большое_ДЗ_2.ipynb",
      "provenance": [],
      "collapsed_sections": [],
      "include_colab_link": true
    },
    "kernelspec": {
      "display_name": "Python 3",
      "name": "python3"
    }
  },
  "cells": [
    {
      "cell_type": "markdown",
      "metadata": {
        "id": "view-in-github",
        "colab_type": "text"
      },
      "source": [
        "<a href=\"https://colab.research.google.com/github/mukaseevru/ds-school/blob/main/HW2/%D0%91%D0%BE%D0%BB%D1%8C%D1%88%D0%BE%D0%B5_%D0%94%D0%97_2.ipynb\" target=\"_parent\"><img src=\"https://colab.research.google.com/assets/colab-badge.svg\" alt=\"Open In Colab\"/></a>"
      ]
    },
    {
      "cell_type": "markdown",
      "metadata": {
        "id": "PtRJ8Lka-cuI"
      },
      "source": [
        "<h2 style=\"text-align: center;\"><b>Большое домашнее задание 2. Участие в соревнованиях на Kaggle. Работа с нерепрезентативными данными.\n",
        "</b></h2>\n",
        "\n",
        "ДЗ в колабе: https://colab.research.google.com/drive/18Hi97eESCrXYht-7SIoj_19pwcZhl17Y?usp=sharing\n",
        "\n",
        "В этом домашнем задании нам нужно применить в реальном соревновании накопленные знания по машинному обучению и анализу данных!\n",
        "\n",
        "- Нужно будет провести предобработку [данных с Kaggle](https://www.kaggle.com/sid321axn/thoraric-surgery). Затем нужно будет предсказать колонку DGN (диагноз). Это задача классификации. \n",
        "- Описание датасета (что значит признаки): https://archive.ics.uci.edu/ml/datasets/Thoracic+Surgery+Data \n",
        "- Не забудьте провести анализ данных перед тем, как применять ML-модели! Вам нужно сначала понять, с чем Вы имеете дело, поискать зависимости в данных, понять природу этих зависимостей, и только после этого уже подбирать алгоритмы. Данные с подвохом! Внимательно смотрите на распределения признаков в каждом из классов!\n",
        "- В качестве основы можно использовать наработки с занятий. Необходимо попробовать сделать аугментацию данных, т.к. данных очень мало, для обучения содержательных моделей их не хватит.\n",
        "- Попробуйте kNN, логистическую регрессию, SVM. Поэкспериментируйте с добавлением композитных признаков (например, полиномиальных), выбором ядра (для SVM). Подберите гиперпараметры по кросс-валидации (GridSearchCV или RandomSearchCV, второй вариант предпочтительнее).  \n",
        "- Достичь идеального качества Вам не удастся, да и гнаться за этим не стоит. Гораздо важнее провести вдумчивый анализ и показать, что Вы разобрались в теме.\n",
        "\n",
        "**Правила:**\n",
        "\n",
        "- **Дедлайн один:** 29 января 23:59. Решения, отправленные позже, проверяться не будут, кроме случаев наличия уважительной причины.\n",
        "\n",
        "\n",
        "\n",
        "Решения, размещенные на каких-либо интернет-ресурсах, не принимаются.\n",
        " При написании кода придерживайтесь `pep8` и используйте `type hints`.\n",
        "\n",
        "**После жесткого дедлайна задания не принимаются. Так как дальше будет работа только над проектом**"
      ]
    },
    {
      "cell_type": "markdown",
      "metadata": {
        "id": "9kkpI2NeTY7y"
      },
      "source": [
        "# **Информация о датасете**\n",
        "1. DGN: Diagnosis - specific combination of ICD-10 codes for primary and secondary as well multiple tumours if any (DGN3,DGN2,DGN4,DGN6,DGN5,DGN8,DGN1) \n",
        "2. PRE4: Forced vital capacity - FVC (numeric) \n",
        "3. PRE5: Volume that has been exhaled at the end of the first second of forced expiration - FEV1 (numeric) \n",
        "4. PRE6: Performance status - Zubrod scale (PRZ2,PRZ1,PRZ0) \n",
        "5. PRE7: Pain before surgery (T,F) \n",
        "6. PRE8: Haemoptysis before surgery (T,F) \n",
        "7. PRE9: Dyspnoea before surgery (T,F) \n",
        "8. PRE10: Cough before surgery (T,F) \n",
        "9. PRE11: Weakness before surgery (T,F) \n",
        "10. PRE14: T in clinical TNM - size of the original tumour, from OC11 (smallest) to OC14 (largest) (OC11,OC14,OC12,OC13) \n",
        "11. PRE17: Type 2 DM - diabetes mellitus (T,F) \n",
        "12. PRE19: MI up to 6 months (T,F) \n",
        "13. PRE25: PAD - peripheral arterial diseases (T,F) \n",
        "14. PRE30: Smoking (T,F) \n",
        "15. PRE32: Asthma (T,F) \n",
        "16. AGE: Age at surgery (numeric) \n",
        "17. Risk1Y: 1 year survival period - (T)rue value if died (T,F) \n",
        "\n",
        "**Class Distribution:** the class value (Risk1Y) is binary valued.\n",
        "\n",
        "Risk1Y Value: Number of Instances: \n",
        "- T 70 \n",
        "- N 400 \n",
        "\n",
        "**Summary Statistics:**\n",
        "Binary Attributes Distribution: \n",
        "1. PRE7 Value: Number of Instances: \n",
        "- T 31 \n",
        "- N 439 \n",
        "2. PRE8 Value: Number of Instances: \n",
        "- T 68 \n",
        "- N 402 \n",
        "3. PRE9 Value: Number of Instances: \n",
        "- T 31 \n",
        "- N 439 \n",
        "4. PRE10 Value: Number of Instances: \n",
        "- T 323 \n",
        "- N 147 \n",
        "5. PRE11 Value: Number of Instances: \n",
        "- T 78 \n",
        "- N 392 \n",
        "6. PRE17 Value: Number of Instances: \n",
        "- T 35 \n",
        "- N 435 \n",
        "7. PRE19 Value: Number of Instances: \n",
        "- T 2 \n",
        "- N 468 \n",
        "8. PRE25 Value: Number of Instances: \n",
        "- T 8 \n",
        "- N 462 \n",
        "9. PRE30 Value: Number of Instances: \n",
        "- T 386 \n",
        "- N 84 \n",
        "10. PRE32 Value: Number of Instances: \n",
        "- T 368 \n",
        "- N 2 \n",
        "\n",
        "**Nominal Attributes Distribution:**\n",
        "DGN Value: Number of Instances: \n",
        "1. DGN3 349\n",
        "2. DGN2 52\n",
        "3. DGN4 47\n",
        "4. DGN6 4\n",
        "5. DGN5 15\n",
        "6. DGN8 2\n",
        "7. DGN1 1\n",
        "\n",
        "PRE6 Value: Number of Instances: \n",
        "1. PRZ2 27 \n",
        "2. PRZ1 313 \n",
        "3. PRZ0 130 \n",
        "\n",
        "PRE14 Value: Number of Instances: \n",
        "1. OC11 177 \n",
        "2. OC14 17 \n",
        "3. OC12 257 \n",
        "4. OC13 19 \n",
        "\n",
        "**Numeric Attributes Statistics:**\n",
        "Min Max Mean SD \n",
        "1. PRE4: 1.4 6.3 3.3 0.9 \n",
        "2. PRE5: 0.96 86.3 4.6 11.8 \n",
        "3. AGE: 21 87 52.5 8.7"
      ]
    },
    {
      "cell_type": "markdown",
      "metadata": {
        "id": "UtRccfDE3jqK"
      },
      "source": [
        "# Загрузка данных"
      ]
    },
    {
      "cell_type": "code",
      "metadata": {
        "colab": {
          "base_uri": "https://localhost:8080/"
        },
        "id": "gfXnteaCG0Ag",
        "outputId": "49b78f1b-5bbc-499e-d3d7-ad44f29ef91d"
      },
      "source": [
        "import numpy as np\r\n",
        "import pandas as pd\r\n",
        "import seaborn as sns\r\n",
        "from sklearn.model_selection import train_test_split, GridSearchCV, RandomizedSearchCV\r\n",
        "from sklearn.ensemble import RandomForestClassifier\r\n",
        "from sklearn.neighbors import KNeighborsClassifier\r\n",
        "from sklearn.svm import SVC\r\n",
        "from sklearn.linear_model import LogisticRegression\r\n",
        "from sklearn.preprocessing import scale, LabelEncoder, PolynomialFeatures\r\n",
        "from imblearn.over_sampling import SMOTE, ADASYN\r\n",
        "from sklearn import metrics\r\n",
        "import matplotlib.pyplot as plt\r\n",
        "%matplotlib inline"
      ],
      "execution_count": 1,
      "outputs": [
        {
          "output_type": "stream",
          "text": [
            "/usr/local/lib/python3.6/dist-packages/sklearn/externals/six.py:31: FutureWarning: The module is deprecated in version 0.21 and will be removed in version 0.23 since we've dropped support for Python 2.7. Please rely on the official version of six (https://pypi.org/project/six/).\n",
            "  \"(https://pypi.org/project/six/).\", FutureWarning)\n",
            "/usr/local/lib/python3.6/dist-packages/sklearn/utils/deprecation.py:144: FutureWarning: The sklearn.neighbors.base module is  deprecated in version 0.22 and will be removed in version 0.24. The corresponding classes / functions should instead be imported from sklearn.neighbors. Anything that cannot be imported from sklearn.neighbors is now part of the private API.\n",
            "  warnings.warn(message, FutureWarning)\n"
          ],
          "name": "stderr"
        }
      ]
    },
    {
      "cell_type": "markdown",
      "metadata": {
        "id": "KH9gelhY3rfd"
      },
      "source": [
        "# Определение используемых функций"
      ]
    },
    {
      "cell_type": "code",
      "metadata": {
        "id": "KrTOAYZxt1XO"
      },
      "source": [
        "# Функция определения выбросов\r\n",
        "def get_outliners(column):\r\n",
        "    median = df[column].median()\r\n",
        "    quan25 = df[column].quantile(0.25)\r\n",
        "    quan75 = df[column].quantile(0.75)\r\n",
        "    IQR = quan75 - quan25\r\n",
        "    left = quan25 - 1.5*IQR,\r\n",
        "    right = quan75 + 1.5*IQR\r\n",
        "    print(f\"Границы выбросов для столбца '{column}': [{left}, {right}]\")"
      ],
      "execution_count": 2,
      "outputs": []
    },
    {
      "cell_type": "markdown",
      "metadata": {
        "id": "688j-yMY3vAB"
      },
      "source": [
        "# Загрузка и предобработка данных"
      ]
    },
    {
      "cell_type": "code",
      "metadata": {
        "colab": {
          "base_uri": "https://localhost:8080/"
        },
        "id": "r70pgprSPAIA",
        "outputId": "1b8d4ae6-4c1f-472a-a17b-d2914a5a6f69"
      },
      "source": [
        "df = pd.read_csv('https://raw.githubusercontent.com/mukaseevru/ds-school/main/HW2/data/ThoraricSurgery.csv')\r\n",
        "df.info()"
      ],
      "execution_count": 3,
      "outputs": [
        {
          "output_type": "stream",
          "text": [
            "<class 'pandas.core.frame.DataFrame'>\n",
            "RangeIndex: 470 entries, 0 to 469\n",
            "Data columns (total 18 columns):\n",
            " #   Column   Non-Null Count  Dtype  \n",
            "---  ------   --------------  -----  \n",
            " 0   id       470 non-null    int64  \n",
            " 1   DGN      470 non-null    object \n",
            " 2   PRE4     470 non-null    float64\n",
            " 3   PRE5     470 non-null    float64\n",
            " 4   PRE6     470 non-null    object \n",
            " 5   PRE7     470 non-null    object \n",
            " 6   PRE8     470 non-null    object \n",
            " 7   PRE9     470 non-null    object \n",
            " 8   PRE10    470 non-null    object \n",
            " 9   PRE11    470 non-null    object \n",
            " 10  PRE14    470 non-null    object \n",
            " 11  PRE17    470 non-null    object \n",
            " 12  PRE19    470 non-null    object \n",
            " 13  PRE25    470 non-null    object \n",
            " 14  PRE30    470 non-null    object \n",
            " 15  PRE32    470 non-null    object \n",
            " 16  AGE      470 non-null    int64  \n",
            " 17  Risk1Yr  470 non-null    object \n",
            "dtypes: float64(2), int64(2), object(14)\n",
            "memory usage: 66.2+ KB\n"
          ],
          "name": "stdout"
        }
      ]
    },
    {
      "cell_type": "code",
      "metadata": {
        "colab": {
          "base_uri": "https://localhost:8080/",
          "height": 204
        },
        "id": "gYP-5EshP5PJ",
        "outputId": "c550c3e2-e646-4e99-b740-8509ba4ff363"
      },
      "source": [
        "df.head()"
      ],
      "execution_count": 4,
      "outputs": [
        {
          "output_type": "execute_result",
          "data": {
            "text/html": [
              "<div>\n",
              "<style scoped>\n",
              "    .dataframe tbody tr th:only-of-type {\n",
              "        vertical-align: middle;\n",
              "    }\n",
              "\n",
              "    .dataframe tbody tr th {\n",
              "        vertical-align: top;\n",
              "    }\n",
              "\n",
              "    .dataframe thead th {\n",
              "        text-align: right;\n",
              "    }\n",
              "</style>\n",
              "<table border=\"1\" class=\"dataframe\">\n",
              "  <thead>\n",
              "    <tr style=\"text-align: right;\">\n",
              "      <th></th>\n",
              "      <th>id</th>\n",
              "      <th>DGN</th>\n",
              "      <th>PRE4</th>\n",
              "      <th>PRE5</th>\n",
              "      <th>PRE6</th>\n",
              "      <th>PRE7</th>\n",
              "      <th>PRE8</th>\n",
              "      <th>PRE9</th>\n",
              "      <th>PRE10</th>\n",
              "      <th>PRE11</th>\n",
              "      <th>PRE14</th>\n",
              "      <th>PRE17</th>\n",
              "      <th>PRE19</th>\n",
              "      <th>PRE25</th>\n",
              "      <th>PRE30</th>\n",
              "      <th>PRE32</th>\n",
              "      <th>AGE</th>\n",
              "      <th>Risk1Yr</th>\n",
              "    </tr>\n",
              "  </thead>\n",
              "  <tbody>\n",
              "    <tr>\n",
              "      <th>0</th>\n",
              "      <td>1</td>\n",
              "      <td>DGN2</td>\n",
              "      <td>2.88</td>\n",
              "      <td>2.16</td>\n",
              "      <td>PRZ1</td>\n",
              "      <td>F</td>\n",
              "      <td>F</td>\n",
              "      <td>F</td>\n",
              "      <td>T</td>\n",
              "      <td>T</td>\n",
              "      <td>OC14</td>\n",
              "      <td>F</td>\n",
              "      <td>F</td>\n",
              "      <td>F</td>\n",
              "      <td>T</td>\n",
              "      <td>F</td>\n",
              "      <td>60</td>\n",
              "      <td>F</td>\n",
              "    </tr>\n",
              "    <tr>\n",
              "      <th>1</th>\n",
              "      <td>2</td>\n",
              "      <td>DGN3</td>\n",
              "      <td>3.40</td>\n",
              "      <td>1.88</td>\n",
              "      <td>PRZ0</td>\n",
              "      <td>F</td>\n",
              "      <td>F</td>\n",
              "      <td>F</td>\n",
              "      <td>F</td>\n",
              "      <td>F</td>\n",
              "      <td>OC12</td>\n",
              "      <td>F</td>\n",
              "      <td>F</td>\n",
              "      <td>F</td>\n",
              "      <td>T</td>\n",
              "      <td>F</td>\n",
              "      <td>51</td>\n",
              "      <td>F</td>\n",
              "    </tr>\n",
              "    <tr>\n",
              "      <th>2</th>\n",
              "      <td>3</td>\n",
              "      <td>DGN3</td>\n",
              "      <td>2.76</td>\n",
              "      <td>2.08</td>\n",
              "      <td>PRZ1</td>\n",
              "      <td>F</td>\n",
              "      <td>F</td>\n",
              "      <td>F</td>\n",
              "      <td>T</td>\n",
              "      <td>F</td>\n",
              "      <td>OC11</td>\n",
              "      <td>F</td>\n",
              "      <td>F</td>\n",
              "      <td>F</td>\n",
              "      <td>T</td>\n",
              "      <td>F</td>\n",
              "      <td>59</td>\n",
              "      <td>F</td>\n",
              "    </tr>\n",
              "    <tr>\n",
              "      <th>3</th>\n",
              "      <td>4</td>\n",
              "      <td>DGN3</td>\n",
              "      <td>3.68</td>\n",
              "      <td>3.04</td>\n",
              "      <td>PRZ0</td>\n",
              "      <td>F</td>\n",
              "      <td>F</td>\n",
              "      <td>F</td>\n",
              "      <td>F</td>\n",
              "      <td>F</td>\n",
              "      <td>OC11</td>\n",
              "      <td>F</td>\n",
              "      <td>F</td>\n",
              "      <td>F</td>\n",
              "      <td>F</td>\n",
              "      <td>F</td>\n",
              "      <td>54</td>\n",
              "      <td>F</td>\n",
              "    </tr>\n",
              "    <tr>\n",
              "      <th>4</th>\n",
              "      <td>5</td>\n",
              "      <td>DGN3</td>\n",
              "      <td>2.44</td>\n",
              "      <td>0.96</td>\n",
              "      <td>PRZ2</td>\n",
              "      <td>F</td>\n",
              "      <td>T</td>\n",
              "      <td>F</td>\n",
              "      <td>T</td>\n",
              "      <td>T</td>\n",
              "      <td>OC11</td>\n",
              "      <td>F</td>\n",
              "      <td>F</td>\n",
              "      <td>F</td>\n",
              "      <td>T</td>\n",
              "      <td>F</td>\n",
              "      <td>73</td>\n",
              "      <td>T</td>\n",
              "    </tr>\n",
              "  </tbody>\n",
              "</table>\n",
              "</div>"
            ],
            "text/plain": [
              "   id   DGN  PRE4  PRE5  PRE6 PRE7  ... PRE19 PRE25 PRE30 PRE32 AGE Risk1Yr\n",
              "0   1  DGN2  2.88  2.16  PRZ1    F  ...     F     F     T     F  60       F\n",
              "1   2  DGN3  3.40  1.88  PRZ0    F  ...     F     F     T     F  51       F\n",
              "2   3  DGN3  2.76  2.08  PRZ1    F  ...     F     F     T     F  59       F\n",
              "3   4  DGN3  3.68  3.04  PRZ0    F  ...     F     F     F     F  54       F\n",
              "4   5  DGN3  2.44  0.96  PRZ2    F  ...     F     F     T     F  73       T\n",
              "\n",
              "[5 rows x 18 columns]"
            ]
          },
          "metadata": {
            "tags": []
          },
          "execution_count": 4
        }
      ]
    },
    {
      "cell_type": "markdown",
      "metadata": {
        "id": "StMObRj1305E"
      },
      "source": [
        "Удаляем столбец 'id', т.к. он не несет смысловой нагрузки"
      ]
    },
    {
      "cell_type": "code",
      "metadata": {
        "id": "YfOx0WrJ9pZk"
      },
      "source": [
        "df = df.drop('id', axis=1)"
      ],
      "execution_count": 5,
      "outputs": []
    },
    {
      "cell_type": "markdown",
      "metadata": {
        "id": "pYBbgI8H3_gx"
      },
      "source": [
        "В датасете всего 3 числовых признака"
      ]
    },
    {
      "cell_type": "code",
      "metadata": {
        "colab": {
          "base_uri": "https://localhost:8080/",
          "height": 297
        },
        "id": "vndP7TGRQAfM",
        "outputId": "04efbe5f-9d7f-4138-fcff-54a5d2dbd2eb"
      },
      "source": [
        "df.describe()"
      ],
      "execution_count": 6,
      "outputs": [
        {
          "output_type": "execute_result",
          "data": {
            "text/html": [
              "<div>\n",
              "<style scoped>\n",
              "    .dataframe tbody tr th:only-of-type {\n",
              "        vertical-align: middle;\n",
              "    }\n",
              "\n",
              "    .dataframe tbody tr th {\n",
              "        vertical-align: top;\n",
              "    }\n",
              "\n",
              "    .dataframe thead th {\n",
              "        text-align: right;\n",
              "    }\n",
              "</style>\n",
              "<table border=\"1\" class=\"dataframe\">\n",
              "  <thead>\n",
              "    <tr style=\"text-align: right;\">\n",
              "      <th></th>\n",
              "      <th>PRE4</th>\n",
              "      <th>PRE5</th>\n",
              "      <th>AGE</th>\n",
              "    </tr>\n",
              "  </thead>\n",
              "  <tbody>\n",
              "    <tr>\n",
              "      <th>count</th>\n",
              "      <td>470.000000</td>\n",
              "      <td>470.000000</td>\n",
              "      <td>470.000000</td>\n",
              "    </tr>\n",
              "    <tr>\n",
              "      <th>mean</th>\n",
              "      <td>3.281638</td>\n",
              "      <td>4.568702</td>\n",
              "      <td>62.534043</td>\n",
              "    </tr>\n",
              "    <tr>\n",
              "      <th>std</th>\n",
              "      <td>0.871395</td>\n",
              "      <td>11.767857</td>\n",
              "      <td>8.706902</td>\n",
              "    </tr>\n",
              "    <tr>\n",
              "      <th>min</th>\n",
              "      <td>1.440000</td>\n",
              "      <td>0.960000</td>\n",
              "      <td>21.000000</td>\n",
              "    </tr>\n",
              "    <tr>\n",
              "      <th>25%</th>\n",
              "      <td>2.600000</td>\n",
              "      <td>1.960000</td>\n",
              "      <td>57.000000</td>\n",
              "    </tr>\n",
              "    <tr>\n",
              "      <th>50%</th>\n",
              "      <td>3.160000</td>\n",
              "      <td>2.400000</td>\n",
              "      <td>62.000000</td>\n",
              "    </tr>\n",
              "    <tr>\n",
              "      <th>75%</th>\n",
              "      <td>3.807500</td>\n",
              "      <td>3.080000</td>\n",
              "      <td>69.000000</td>\n",
              "    </tr>\n",
              "    <tr>\n",
              "      <th>max</th>\n",
              "      <td>6.300000</td>\n",
              "      <td>86.300000</td>\n",
              "      <td>87.000000</td>\n",
              "    </tr>\n",
              "  </tbody>\n",
              "</table>\n",
              "</div>"
            ],
            "text/plain": [
              "             PRE4        PRE5         AGE\n",
              "count  470.000000  470.000000  470.000000\n",
              "mean     3.281638    4.568702   62.534043\n",
              "std      0.871395   11.767857    8.706902\n",
              "min      1.440000    0.960000   21.000000\n",
              "25%      2.600000    1.960000   57.000000\n",
              "50%      3.160000    2.400000   62.000000\n",
              "75%      3.807500    3.080000   69.000000\n",
              "max      6.300000   86.300000   87.000000"
            ]
          },
          "metadata": {
            "tags": []
          },
          "execution_count": 6
        }
      ]
    },
    {
      "cell_type": "markdown",
      "metadata": {
        "id": "rTYuscbx4UW7"
      },
      "source": [
        "Целевая переменная - категориальная. Классы не сбалансированы"
      ]
    },
    {
      "cell_type": "code",
      "metadata": {
        "colab": {
          "base_uri": "https://localhost:8080/"
        },
        "id": "T8XBUG2-5d8A",
        "outputId": "d79b3bd2-b159-4cc5-d79e-c2fe55f314a9"
      },
      "source": [
        "df['DGN'].value_counts()"
      ],
      "execution_count": 7,
      "outputs": [
        {
          "output_type": "execute_result",
          "data": {
            "text/plain": [
              "DGN3    349\n",
              "DGN2     52\n",
              "DGN4     47\n",
              "DGN5     15\n",
              "DGN6      4\n",
              "DGN8      2\n",
              "DGN1      1\n",
              "Name: DGN, dtype: int64"
            ]
          },
          "metadata": {
            "tags": []
          },
          "execution_count": 7
        }
      ]
    },
    {
      "cell_type": "markdown",
      "metadata": {
        "id": "5sNsA-dK4gs4"
      },
      "source": [
        "Преобразовываем наименования классов в категориальных признаках в тип 'int'"
      ]
    },
    {
      "cell_type": "code",
      "metadata": {
        "colab": {
          "base_uri": "https://localhost:8080/"
        },
        "id": "MyPj8zyf4zsx",
        "outputId": "e3f42114-2e8e-492b-c11d-0763d4db3099"
      },
      "source": [
        "df['DGN'] = df['DGN'].str.replace('DGN','').astype('int')\n",
        "df['DGN'].unique()"
      ],
      "execution_count": 8,
      "outputs": [
        {
          "output_type": "execute_result",
          "data": {
            "text/plain": [
              "array([2, 3, 4, 8, 5, 6, 1])"
            ]
          },
          "metadata": {
            "tags": []
          },
          "execution_count": 8
        }
      ]
    },
    {
      "cell_type": "code",
      "metadata": {
        "colab": {
          "base_uri": "https://localhost:8080/"
        },
        "id": "Uakl2LMf7FYJ",
        "outputId": "137deb55-2e23-4ecb-d65f-66e75b02bc5f"
      },
      "source": [
        "df['PRE6'].value_counts()"
      ],
      "execution_count": 9,
      "outputs": [
        {
          "output_type": "execute_result",
          "data": {
            "text/plain": [
              "PRZ1    313\n",
              "PRZ0    130\n",
              "PRZ2     27\n",
              "Name: PRE6, dtype: int64"
            ]
          },
          "metadata": {
            "tags": []
          },
          "execution_count": 9
        }
      ]
    },
    {
      "cell_type": "code",
      "metadata": {
        "colab": {
          "base_uri": "https://localhost:8080/"
        },
        "id": "1WgOHrkr7INC",
        "outputId": "d365bc67-b863-4e81-f82c-adbd7d75d84d"
      },
      "source": [
        "df['PRE6'] = df['PRE6'].str.replace('PRZ','').astype('int')\n",
        "df['PRE6'].unique()"
      ],
      "execution_count": 10,
      "outputs": [
        {
          "output_type": "execute_result",
          "data": {
            "text/plain": [
              "array([1, 0, 2])"
            ]
          },
          "metadata": {
            "tags": []
          },
          "execution_count": 10
        }
      ]
    },
    {
      "cell_type": "code",
      "metadata": {
        "colab": {
          "base_uri": "https://localhost:8080/"
        },
        "id": "qNTvRFjj7Rt2",
        "outputId": "0a795f8e-f3d7-4871-9eab-8d5366f349b5"
      },
      "source": [
        "df['PRE14'].value_counts()"
      ],
      "execution_count": 11,
      "outputs": [
        {
          "output_type": "execute_result",
          "data": {
            "text/plain": [
              "OC12    257\n",
              "OC11    177\n",
              "OC13     19\n",
              "OC14     17\n",
              "Name: PRE14, dtype: int64"
            ]
          },
          "metadata": {
            "tags": []
          },
          "execution_count": 11
        }
      ]
    },
    {
      "cell_type": "code",
      "metadata": {
        "colab": {
          "base_uri": "https://localhost:8080/"
        },
        "id": "DZlTS2et7bf4",
        "outputId": "3c877189-3dc9-4856-f9bf-708cee7c58a3"
      },
      "source": [
        "df['PRE14'] = df['PRE14'].str.replace('OC1','').astype('int')\n",
        "df['PRE14'].unique()"
      ],
      "execution_count": 12,
      "outputs": [
        {
          "output_type": "execute_result",
          "data": {
            "text/plain": [
              "array([4, 2, 1, 3])"
            ]
          },
          "metadata": {
            "tags": []
          },
          "execution_count": 12
        }
      ]
    },
    {
      "cell_type": "markdown",
      "metadata": {
        "id": "bgLb9huW49A8"
      },
      "source": [
        "Категориальные признаки со значениями T/F певодим в 'int' 1/0"
      ]
    },
    {
      "cell_type": "code",
      "metadata": {
        "colab": {
          "base_uri": "https://localhost:8080/",
          "height": 204
        },
        "id": "RP15DH2GrHwK",
        "outputId": "9b316c4e-9451-4a71-d02f-3a781c70a192"
      },
      "source": [
        "object_columns = df.select_dtypes(include='object').columns.values\n",
        "df[object_columns] = df[object_columns].replace('F','0').replace('T','1').astype('int')\n",
        "df.head()"
      ],
      "execution_count": 13,
      "outputs": [
        {
          "output_type": "execute_result",
          "data": {
            "text/html": [
              "<div>\n",
              "<style scoped>\n",
              "    .dataframe tbody tr th:only-of-type {\n",
              "        vertical-align: middle;\n",
              "    }\n",
              "\n",
              "    .dataframe tbody tr th {\n",
              "        vertical-align: top;\n",
              "    }\n",
              "\n",
              "    .dataframe thead th {\n",
              "        text-align: right;\n",
              "    }\n",
              "</style>\n",
              "<table border=\"1\" class=\"dataframe\">\n",
              "  <thead>\n",
              "    <tr style=\"text-align: right;\">\n",
              "      <th></th>\n",
              "      <th>DGN</th>\n",
              "      <th>PRE4</th>\n",
              "      <th>PRE5</th>\n",
              "      <th>PRE6</th>\n",
              "      <th>PRE7</th>\n",
              "      <th>PRE8</th>\n",
              "      <th>PRE9</th>\n",
              "      <th>PRE10</th>\n",
              "      <th>PRE11</th>\n",
              "      <th>PRE14</th>\n",
              "      <th>PRE17</th>\n",
              "      <th>PRE19</th>\n",
              "      <th>PRE25</th>\n",
              "      <th>PRE30</th>\n",
              "      <th>PRE32</th>\n",
              "      <th>AGE</th>\n",
              "      <th>Risk1Yr</th>\n",
              "    </tr>\n",
              "  </thead>\n",
              "  <tbody>\n",
              "    <tr>\n",
              "      <th>0</th>\n",
              "      <td>2</td>\n",
              "      <td>2.88</td>\n",
              "      <td>2.16</td>\n",
              "      <td>1</td>\n",
              "      <td>0</td>\n",
              "      <td>0</td>\n",
              "      <td>0</td>\n",
              "      <td>1</td>\n",
              "      <td>1</td>\n",
              "      <td>4</td>\n",
              "      <td>0</td>\n",
              "      <td>0</td>\n",
              "      <td>0</td>\n",
              "      <td>1</td>\n",
              "      <td>0</td>\n",
              "      <td>60</td>\n",
              "      <td>0</td>\n",
              "    </tr>\n",
              "    <tr>\n",
              "      <th>1</th>\n",
              "      <td>3</td>\n",
              "      <td>3.40</td>\n",
              "      <td>1.88</td>\n",
              "      <td>0</td>\n",
              "      <td>0</td>\n",
              "      <td>0</td>\n",
              "      <td>0</td>\n",
              "      <td>0</td>\n",
              "      <td>0</td>\n",
              "      <td>2</td>\n",
              "      <td>0</td>\n",
              "      <td>0</td>\n",
              "      <td>0</td>\n",
              "      <td>1</td>\n",
              "      <td>0</td>\n",
              "      <td>51</td>\n",
              "      <td>0</td>\n",
              "    </tr>\n",
              "    <tr>\n",
              "      <th>2</th>\n",
              "      <td>3</td>\n",
              "      <td>2.76</td>\n",
              "      <td>2.08</td>\n",
              "      <td>1</td>\n",
              "      <td>0</td>\n",
              "      <td>0</td>\n",
              "      <td>0</td>\n",
              "      <td>1</td>\n",
              "      <td>0</td>\n",
              "      <td>1</td>\n",
              "      <td>0</td>\n",
              "      <td>0</td>\n",
              "      <td>0</td>\n",
              "      <td>1</td>\n",
              "      <td>0</td>\n",
              "      <td>59</td>\n",
              "      <td>0</td>\n",
              "    </tr>\n",
              "    <tr>\n",
              "      <th>3</th>\n",
              "      <td>3</td>\n",
              "      <td>3.68</td>\n",
              "      <td>3.04</td>\n",
              "      <td>0</td>\n",
              "      <td>0</td>\n",
              "      <td>0</td>\n",
              "      <td>0</td>\n",
              "      <td>0</td>\n",
              "      <td>0</td>\n",
              "      <td>1</td>\n",
              "      <td>0</td>\n",
              "      <td>0</td>\n",
              "      <td>0</td>\n",
              "      <td>0</td>\n",
              "      <td>0</td>\n",
              "      <td>54</td>\n",
              "      <td>0</td>\n",
              "    </tr>\n",
              "    <tr>\n",
              "      <th>4</th>\n",
              "      <td>3</td>\n",
              "      <td>2.44</td>\n",
              "      <td>0.96</td>\n",
              "      <td>2</td>\n",
              "      <td>0</td>\n",
              "      <td>1</td>\n",
              "      <td>0</td>\n",
              "      <td>1</td>\n",
              "      <td>1</td>\n",
              "      <td>1</td>\n",
              "      <td>0</td>\n",
              "      <td>0</td>\n",
              "      <td>0</td>\n",
              "      <td>1</td>\n",
              "      <td>0</td>\n",
              "      <td>73</td>\n",
              "      <td>1</td>\n",
              "    </tr>\n",
              "  </tbody>\n",
              "</table>\n",
              "</div>"
            ],
            "text/plain": [
              "   DGN  PRE4  PRE5  PRE6  PRE7  PRE8  ...  PRE19  PRE25  PRE30  PRE32  AGE  Risk1Yr\n",
              "0    2  2.88  2.16     1     0     0  ...      0      0      1      0   60        0\n",
              "1    3  3.40  1.88     0     0     0  ...      0      0      1      0   51        0\n",
              "2    3  2.76  2.08     1     0     0  ...      0      0      1      0   59        0\n",
              "3    3  3.68  3.04     0     0     0  ...      0      0      0      0   54        0\n",
              "4    3  2.44  0.96     2     0     1  ...      0      0      1      0   73        1\n",
              "\n",
              "[5 rows x 17 columns]"
            ]
          },
          "metadata": {
            "tags": []
          },
          "execution_count": 13
        }
      ]
    },
    {
      "cell_type": "code",
      "metadata": {
        "colab": {
          "base_uri": "https://localhost:8080/"
        },
        "id": "yUVT5T1X8IHe",
        "outputId": "976e7720-61a5-4be0-9572-48cc631d3a44"
      },
      "source": [
        "df.info()"
      ],
      "execution_count": 14,
      "outputs": [
        {
          "output_type": "stream",
          "text": [
            "<class 'pandas.core.frame.DataFrame'>\n",
            "RangeIndex: 470 entries, 0 to 469\n",
            "Data columns (total 17 columns):\n",
            " #   Column   Non-Null Count  Dtype  \n",
            "---  ------   --------------  -----  \n",
            " 0   DGN      470 non-null    int64  \n",
            " 1   PRE4     470 non-null    float64\n",
            " 2   PRE5     470 non-null    float64\n",
            " 3   PRE6     470 non-null    int64  \n",
            " 4   PRE7     470 non-null    int64  \n",
            " 5   PRE8     470 non-null    int64  \n",
            " 6   PRE9     470 non-null    int64  \n",
            " 7   PRE10    470 non-null    int64  \n",
            " 8   PRE11    470 non-null    int64  \n",
            " 9   PRE14    470 non-null    int64  \n",
            " 10  PRE17    470 non-null    int64  \n",
            " 11  PRE19    470 non-null    int64  \n",
            " 12  PRE25    470 non-null    int64  \n",
            " 13  PRE30    470 non-null    int64  \n",
            " 14  PRE32    470 non-null    int64  \n",
            " 15  AGE      470 non-null    int64  \n",
            " 16  Risk1Yr  470 non-null    int64  \n",
            "dtypes: float64(2), int64(15)\n",
            "memory usage: 62.5 KB\n"
          ],
          "name": "stdout"
        }
      ]
    },
    {
      "cell_type": "markdown",
      "metadata": {
        "id": "Az8uT-JZ5NLT"
      },
      "source": [
        "Посмотрим на распределение классов в признаках и целевой переменной"
      ]
    },
    {
      "cell_type": "code",
      "metadata": {
        "colab": {
          "base_uri": "https://localhost:8080/",
          "height": 312
        },
        "id": "-q24TmVOlhjh",
        "outputId": "99d15d30-7fbe-45e1-ea6f-989c3d0314b7"
      },
      "source": [
        "ax = sns.countplot(x='DGN', data=df)\r\n",
        "ax.set_title('DGN')\r\n",
        "ax.set_ylabel('count')\r\n",
        "ax.set_xlabel('classes')"
      ],
      "execution_count": 15,
      "outputs": [
        {
          "output_type": "execute_result",
          "data": {
            "text/plain": [
              "Text(0.5, 0, 'classes')"
            ]
          },
          "metadata": {
            "tags": []
          },
          "execution_count": 15
        },
        {
          "output_type": "display_data",
          "data": {
            "image/png": "[encoded data removed]",
            "text/plain": [
              "<Figure size 432x288 with 1 Axes>"
            ]
          },
          "metadata": {
            "tags": [],
            "needs_background": "light"
          }
        }
      ]
    },
    {
      "cell_type": "code",
      "metadata": {
        "colab": {
          "base_uri": "https://localhost:8080/",
          "height": 730
        },
        "id": "-cGiHjj8mS59",
        "outputId": "be5fc871-c36e-4c2b-ad78-779f199386a5"
      },
      "source": [
        "fig, ax = plt.subplots(3,4, figsize=(12,12))\r\n",
        "sns.countplot(x='PRE6', data=df, ax=ax[0][0])\r\n",
        "ax[0][0].set_title('PRE6')\r\n",
        "ax[0][0].set_xlabel('class')\r\n",
        "\r\n",
        "sns.countplot(x='PRE7', data=df, ax=ax[0][1])\r\n",
        "ax[0][1].set_title('PRE7')\r\n",
        "ax[0][1].set_xlabel('class')\r\n",
        "\r\n",
        "sns.countplot(x='PRE8', data=df, ax=ax[0][2])\r\n",
        "ax[0][2].set_title('PRE8')\r\n",
        "ax[0][2].set_xlabel('class')\r\n",
        "\r\n",
        "sns.countplot(x='PRE9', data=df, ax=ax[0][3])\r\n",
        "ax[0][3].set_title('PRE9')\r\n",
        "ax[0][3].set_xlabel('class')\r\n",
        "\r\n",
        "sns.countplot(x='PRE10', data=df, ax=ax[1][0])\r\n",
        "ax[1][0].set_title('PRE10')\r\n",
        "ax[1][0].set_xlabel('class')\r\n",
        "\r\n",
        "sns.countplot(x='PRE11', data=df, ax=ax[1][1])\r\n",
        "ax[1][1].set_title('PRE11')\r\n",
        "ax[1][1].set_xlabel('class')\r\n",
        "\r\n",
        "sns.countplot(x='PRE14', data=df, ax=ax[1][2])\r\n",
        "ax[1][2].set_title('PRE14')\r\n",
        "ax[1][2].set_xlabel('class')\r\n",
        "\r\n",
        "sns.countplot(x='PRE17', data=df, ax=ax[1][3])\r\n",
        "ax[1][3].set_title('PRE17')\r\n",
        "ax[1][3].set_xlabel('class')\r\n",
        "\r\n",
        "sns.countplot(x='PRE19', data=df, ax=ax[2][0])\r\n",
        "ax[2][0].set_title('PRE19')\r\n",
        "ax[2][0].set_xlabel('class')\r\n",
        "\r\n",
        "sns.countplot(x='PRE25', data=df, ax=ax[2][1])\r\n",
        "ax[2][1].set_title('PRE25')\r\n",
        "ax[2][1].set_xlabel('class')\r\n",
        "\r\n",
        "sns.countplot(x='PRE30', data=df, ax=ax[2][2])\r\n",
        "ax[2][2].set_title('PRE30')\r\n",
        "ax[2][2].set_xlabel('class')\r\n",
        "\r\n",
        "sns.countplot(x='PRE32', data=df, ax=ax[2][3])\r\n",
        "ax[2][3].set_title('PRE32')\r\n",
        "ax[2][3].set_xlabel('class')\r\n",
        "\r\n",
        "plt.subplots_adjust(wspace=0.5, hspace=0.5)\r\n",
        "fig.show()"
      ],
      "execution_count": 16,
      "outputs": [
        {
          "output_type": "display_data",
          "data": {
            "image/png": "[encoded data removed]",
            "text/plain": [
              "<Figure size 864x864 with 12 Axes>"
            ]
          },
          "metadata": {
            "tags": [],
            "needs_background": "light"
          }
        }
      ]
    },
    {
      "cell_type": "code",
      "metadata": {
        "colab": {
          "base_uri": "https://localhost:8080/",
          "height": 366
        },
        "id": "5uwZHOjV9jY1",
        "outputId": "b586aa1b-58a7-4250-c85e-e30c716839e5"
      },
      "source": [
        "df[['PRE4', 'PRE5', 'AGE', 'Risk1Yr']].hist()"
      ],
      "execution_count": 17,
      "outputs": [
        {
          "output_type": "execute_result",
          "data": {
            "text/plain": [
              "array([[<matplotlib.axes._subplots.AxesSubplot object at 0x7f0c104864a8>,\n",
              "        <matplotlib.axes._subplots.AxesSubplot object at 0x7f0c0fc67ef0>],\n",
              "       [<matplotlib.axes._subplots.AxesSubplot object at 0x7f0c0fc1e198>,\n",
              "        <matplotlib.axes._subplots.AxesSubplot object at 0x7f0c0fbcf400>]],\n",
              "      dtype=object)"
            ]
          },
          "metadata": {
            "tags": []
          },
          "execution_count": 17
        },
        {
          "output_type": "display_data",
          "data": {
            "image/png": "[encoded data removed]",
            "text/plain": [
              "<Figure size 432x288 with 4 Axes>"
            ]
          },
          "metadata": {
            "tags": [],
            "needs_background": "light"
          }
        }
      ]
    },
    {
      "cell_type": "code",
      "metadata": {
        "colab": {
          "base_uri": "https://localhost:8080/",
          "height": 317
        },
        "id": "tslLnsQSuhhg",
        "outputId": "0b6a951e-cc99-43a9-d5ab-d34c8fac54cc"
      },
      "source": [
        "df.describe()"
      ],
      "execution_count": 18,
      "outputs": [
        {
          "output_type": "execute_result",
          "data": {
            "text/html": [
              "<div>\n",
              "<style scoped>\n",
              "    .dataframe tbody tr th:only-of-type {\n",
              "        vertical-align: middle;\n",
              "    }\n",
              "\n",
              "    .dataframe tbody tr th {\n",
              "        vertical-align: top;\n",
              "    }\n",
              "\n",
              "    .dataframe thead th {\n",
              "        text-align: right;\n",
              "    }\n",
              "</style>\n",
              "<table border=\"1\" class=\"dataframe\">\n",
              "  <thead>\n",
              "    <tr style=\"text-align: right;\">\n",
              "      <th></th>\n",
              "      <th>DGN</th>\n",
              "      <th>PRE4</th>\n",
              "      <th>PRE5</th>\n",
              "      <th>PRE6</th>\n",
              "      <th>PRE7</th>\n",
              "      <th>PRE8</th>\n",
              "      <th>PRE9</th>\n",
              "      <th>PRE10</th>\n",
              "      <th>PRE11</th>\n",
              "      <th>PRE14</th>\n",
              "      <th>PRE17</th>\n",
              "      <th>PRE19</th>\n",
              "      <th>PRE25</th>\n",
              "      <th>PRE30</th>\n",
              "      <th>PRE32</th>\n",
              "      <th>AGE</th>\n",
              "      <th>Risk1Yr</th>\n",
              "    </tr>\n",
              "  </thead>\n",
              "  <tbody>\n",
              "    <tr>\n",
              "      <th>count</th>\n",
              "      <td>470.000000</td>\n",
              "      <td>470.000000</td>\n",
              "      <td>470.000000</td>\n",
              "      <td>470.000000</td>\n",
              "      <td>470.000000</td>\n",
              "      <td>470.000000</td>\n",
              "      <td>470.000000</td>\n",
              "      <td>470.000000</td>\n",
              "      <td>470.000000</td>\n",
              "      <td>470.000000</td>\n",
              "      <td>470.000000</td>\n",
              "      <td>470.000000</td>\n",
              "      <td>470.000000</td>\n",
              "      <td>470.000000</td>\n",
              "      <td>470.000000</td>\n",
              "      <td>470.000000</td>\n",
              "      <td>470.000000</td>\n",
              "    </tr>\n",
              "    <tr>\n",
              "      <th>mean</th>\n",
              "      <td>3.095745</td>\n",
              "      <td>3.281638</td>\n",
              "      <td>4.568702</td>\n",
              "      <td>0.780851</td>\n",
              "      <td>0.065957</td>\n",
              "      <td>0.144681</td>\n",
              "      <td>0.065957</td>\n",
              "      <td>0.687234</td>\n",
              "      <td>0.165957</td>\n",
              "      <td>1.736170</td>\n",
              "      <td>0.074468</td>\n",
              "      <td>0.004255</td>\n",
              "      <td>0.017021</td>\n",
              "      <td>0.821277</td>\n",
              "      <td>0.004255</td>\n",
              "      <td>62.534043</td>\n",
              "      <td>0.148936</td>\n",
              "    </tr>\n",
              "    <tr>\n",
              "      <th>std</th>\n",
              "      <td>0.722309</td>\n",
              "      <td>0.871395</td>\n",
              "      <td>11.767857</td>\n",
              "      <td>0.535375</td>\n",
              "      <td>0.248472</td>\n",
              "      <td>0.352154</td>\n",
              "      <td>0.248472</td>\n",
              "      <td>0.464114</td>\n",
              "      <td>0.372439</td>\n",
              "      <td>0.702243</td>\n",
              "      <td>0.262811</td>\n",
              "      <td>0.065163</td>\n",
              "      <td>0.129488</td>\n",
              "      <td>0.383529</td>\n",
              "      <td>0.065163</td>\n",
              "      <td>8.706902</td>\n",
              "      <td>0.356405</td>\n",
              "    </tr>\n",
              "    <tr>\n",
              "      <th>min</th>\n",
              "      <td>1.000000</td>\n",
              "      <td>1.440000</td>\n",
              "      <td>0.960000</td>\n",
              "      <td>0.000000</td>\n",
              "      <td>0.000000</td>\n",
              "      <td>0.000000</td>\n",
              "      <td>0.000000</td>\n",
              "      <td>0.000000</td>\n",
              "      <td>0.000000</td>\n",
              "      <td>1.000000</td>\n",
              "      <td>0.000000</td>\n",
              "      <td>0.000000</td>\n",
              "      <td>0.000000</td>\n",
              "      <td>0.000000</td>\n",
              "      <td>0.000000</td>\n",
              "      <td>21.000000</td>\n",
              "      <td>0.000000</td>\n",
              "    </tr>\n",
              "    <tr>\n",
              "      <th>25%</th>\n",
              "      <td>3.000000</td>\n",
              "      <td>2.600000</td>\n",
              "      <td>1.960000</td>\n",
              "      <td>0.000000</td>\n",
              "      <td>0.000000</td>\n",
              "      <td>0.000000</td>\n",
              "      <td>0.000000</td>\n",
              "      <td>0.000000</td>\n",
              "      <td>0.000000</td>\n",
              "      <td>1.000000</td>\n",
              "      <td>0.000000</td>\n",
              "      <td>0.000000</td>\n",
              "      <td>0.000000</td>\n",
              "      <td>1.000000</td>\n",
              "      <td>0.000000</td>\n",
              "      <td>57.000000</td>\n",
              "      <td>0.000000</td>\n",
              "    </tr>\n",
              "    <tr>\n",
              "      <th>50%</th>\n",
              "      <td>3.000000</td>\n",
              "      <td>3.160000</td>\n",
              "      <td>2.400000</td>\n",
              "      <td>1.000000</td>\n",
              "      <td>0.000000</td>\n",
              "      <td>0.000000</td>\n",
              "      <td>0.000000</td>\n",
              "      <td>1.000000</td>\n",
              "      <td>0.000000</td>\n",
              "      <td>2.000000</td>\n",
              "      <td>0.000000</td>\n",
              "      <td>0.000000</td>\n",
              "      <td>0.000000</td>\n",
              "      <td>1.000000</td>\n",
              "      <td>0.000000</td>\n",
              "      <td>62.000000</td>\n",
              "      <td>0.000000</td>\n",
              "    </tr>\n",
              "    <tr>\n",
              "      <th>75%</th>\n",
              "      <td>3.000000</td>\n",
              "      <td>3.807500</td>\n",
              "      <td>3.080000</td>\n",
              "      <td>1.000000</td>\n",
              "      <td>0.000000</td>\n",
              "      <td>0.000000</td>\n",
              "      <td>0.000000</td>\n",
              "      <td>1.000000</td>\n",
              "      <td>0.000000</td>\n",
              "      <td>2.000000</td>\n",
              "      <td>0.000000</td>\n",
              "      <td>0.000000</td>\n",
              "      <td>0.000000</td>\n",
              "      <td>1.000000</td>\n",
              "      <td>0.000000</td>\n",
              "      <td>69.000000</td>\n",
              "      <td>0.000000</td>\n",
              "    </tr>\n",
              "    <tr>\n",
              "      <th>max</th>\n",
              "      <td>8.000000</td>\n",
              "      <td>6.300000</td>\n",
              "      <td>86.300000</td>\n",
              "      <td>2.000000</td>\n",
              "      <td>1.000000</td>\n",
              "      <td>1.000000</td>\n",
              "      <td>1.000000</td>\n",
              "      <td>1.000000</td>\n",
              "      <td>1.000000</td>\n",
              "      <td>4.000000</td>\n",
              "      <td>1.000000</td>\n",
              "      <td>1.000000</td>\n",
              "      <td>1.000000</td>\n",
              "      <td>1.000000</td>\n",
              "      <td>1.000000</td>\n",
              "      <td>87.000000</td>\n",
              "      <td>1.000000</td>\n",
              "    </tr>\n",
              "  </tbody>\n",
              "</table>\n",
              "</div>"
            ],
            "text/plain": [
              "              DGN        PRE4        PRE5  ...       PRE32         AGE     Risk1Yr\n",
              "count  470.000000  470.000000  470.000000  ...  470.000000  470.000000  470.000000\n",
              "mean     3.095745    3.281638    4.568702  ...    0.004255   62.534043    0.148936\n",
              "std      0.722309    0.871395   11.767857  ...    0.065163    8.706902    0.356405\n",
              "min      1.000000    1.440000    0.960000  ...    0.000000   21.000000    0.000000\n",
              "25%      3.000000    2.600000    1.960000  ...    0.000000   57.000000    0.000000\n",
              "50%      3.000000    3.160000    2.400000  ...    0.000000   62.000000    0.000000\n",
              "75%      3.000000    3.807500    3.080000  ...    0.000000   69.000000    0.000000\n",
              "max      8.000000    6.300000   86.300000  ...    1.000000   87.000000    1.000000\n",
              "\n",
              "[8 rows x 17 columns]"
            ]
          },
          "metadata": {
            "tags": []
          },
          "execution_count": 18
        }
      ]
    },
    {
      "cell_type": "markdown",
      "metadata": {
        "id": "xCwG5XVO5gCQ"
      },
      "source": [
        "Определим выбросы в числовых признаках"
      ]
    },
    {
      "cell_type": "code",
      "metadata": {
        "colab": {
          "base_uri": "https://localhost:8080/"
        },
        "id": "LEPUfYl_t98v",
        "outputId": "963ced7f-7969-4ee6-df68-4bd7b97e18ca"
      },
      "source": [
        "get_outliners('PRE4')"
      ],
      "execution_count": 19,
      "outputs": [
        {
          "output_type": "stream",
          "text": [
            "Границы выбросов для столбца 'PRE4': [(0.7887500000000001,), 5.61875]\n"
          ],
          "name": "stdout"
        }
      ]
    },
    {
      "cell_type": "code",
      "metadata": {
        "colab": {
          "base_uri": "https://localhost:8080/",
          "height": 111
        },
        "id": "Hu-viakhuSQY",
        "outputId": "e560ea04-cd71-4b21-d56f-d6332776d6ea"
      },
      "source": [
        "df[(df['PRE4'] < 0.7887500000000001) | (df['PRE4'] > 5.61875)]"
      ],
      "execution_count": 20,
      "outputs": [
        {
          "output_type": "execute_result",
          "data": {
            "text/html": [
              "<div>\n",
              "<style scoped>\n",
              "    .dataframe tbody tr th:only-of-type {\n",
              "        vertical-align: middle;\n",
              "    }\n",
              "\n",
              "    .dataframe tbody tr th {\n",
              "        vertical-align: top;\n",
              "    }\n",
              "\n",
              "    .dataframe thead th {\n",
              "        text-align: right;\n",
              "    }\n",
              "</style>\n",
              "<table border=\"1\" class=\"dataframe\">\n",
              "  <thead>\n",
              "    <tr style=\"text-align: right;\">\n",
              "      <th></th>\n",
              "      <th>DGN</th>\n",
              "      <th>PRE4</th>\n",
              "      <th>PRE5</th>\n",
              "      <th>PRE6</th>\n",
              "      <th>PRE7</th>\n",
              "      <th>PRE8</th>\n",
              "      <th>PRE9</th>\n",
              "      <th>PRE10</th>\n",
              "      <th>PRE11</th>\n",
              "      <th>PRE14</th>\n",
              "      <th>PRE17</th>\n",
              "      <th>PRE19</th>\n",
              "      <th>PRE25</th>\n",
              "      <th>PRE30</th>\n",
              "      <th>PRE32</th>\n",
              "      <th>AGE</th>\n",
              "      <th>Risk1Yr</th>\n",
              "    </tr>\n",
              "  </thead>\n",
              "  <tbody>\n",
              "    <tr>\n",
              "      <th>73</th>\n",
              "      <td>4</td>\n",
              "      <td>6.30</td>\n",
              "      <td>5.48</td>\n",
              "      <td>0</td>\n",
              "      <td>0</td>\n",
              "      <td>0</td>\n",
              "      <td>0</td>\n",
              "      <td>0</td>\n",
              "      <td>0</td>\n",
              "      <td>1</td>\n",
              "      <td>0</td>\n",
              "      <td>0</td>\n",
              "      <td>0</td>\n",
              "      <td>0</td>\n",
              "      <td>0</td>\n",
              "      <td>45</td>\n",
              "      <td>0</td>\n",
              "    </tr>\n",
              "    <tr>\n",
              "      <th>93</th>\n",
              "      <td>3</td>\n",
              "      <td>6.08</td>\n",
              "      <td>4.92</td>\n",
              "      <td>0</td>\n",
              "      <td>0</td>\n",
              "      <td>0</td>\n",
              "      <td>0</td>\n",
              "      <td>0</td>\n",
              "      <td>0</td>\n",
              "      <td>1</td>\n",
              "      <td>0</td>\n",
              "      <td>0</td>\n",
              "      <td>0</td>\n",
              "      <td>1</td>\n",
              "      <td>0</td>\n",
              "      <td>50</td>\n",
              "      <td>0</td>\n",
              "    </tr>\n",
              "  </tbody>\n",
              "</table>\n",
              "</div>"
            ],
            "text/plain": [
              "    DGN  PRE4  PRE5  PRE6  PRE7  PRE8  ...  PRE19  PRE25  PRE30  PRE32  AGE  Risk1Yr\n",
              "73    4  6.30  5.48     0     0     0  ...      0      0      0      0   45        0\n",
              "93    3  6.08  4.92     0     0     0  ...      0      0      1      0   50        0\n",
              "\n",
              "[2 rows x 17 columns]"
            ]
          },
          "metadata": {
            "tags": []
          },
          "execution_count": 20
        }
      ]
    },
    {
      "cell_type": "code",
      "metadata": {
        "colab": {
          "base_uri": "https://localhost:8080/"
        },
        "id": "mVEViBrDuJR4",
        "outputId": "1fc942d4-6a23-418e-e6d2-adf9012907df"
      },
      "source": [
        "get_outliners('PRE5')"
      ],
      "execution_count": 21,
      "outputs": [
        {
          "output_type": "stream",
          "text": [
            "Границы выбросов для столбца 'PRE5': [(0.2799999999999998,), 4.76]\n"
          ],
          "name": "stdout"
        }
      ]
    },
    {
      "cell_type": "code",
      "metadata": {
        "colab": {
          "base_uri": "https://localhost:8080/",
          "height": 607
        },
        "id": "4eoMCpfPvYU_",
        "outputId": "130a3584-a5ed-49fd-9bc5-43bb90a9f7b6"
      },
      "source": [
        "df[(df['PRE5'] < 0.2799999999999998) | (df['PRE5'] > 4.76)]"
      ],
      "execution_count": 22,
      "outputs": [
        {
          "output_type": "execute_result",
          "data": {
            "text/html": [
              "<div>\n",
              "<style scoped>\n",
              "    .dataframe tbody tr th:only-of-type {\n",
              "        vertical-align: middle;\n",
              "    }\n",
              "\n",
              "    .dataframe tbody tr th {\n",
              "        vertical-align: top;\n",
              "    }\n",
              "\n",
              "    .dataframe thead th {\n",
              "        text-align: right;\n",
              "    }\n",
              "</style>\n",
              "<table border=\"1\" class=\"dataframe\">\n",
              "  <thead>\n",
              "    <tr style=\"text-align: right;\">\n",
              "      <th></th>\n",
              "      <th>DGN</th>\n",
              "      <th>PRE4</th>\n",
              "      <th>PRE5</th>\n",
              "      <th>PRE6</th>\n",
              "      <th>PRE7</th>\n",
              "      <th>PRE8</th>\n",
              "      <th>PRE9</th>\n",
              "      <th>PRE10</th>\n",
              "      <th>PRE11</th>\n",
              "      <th>PRE14</th>\n",
              "      <th>PRE17</th>\n",
              "      <th>PRE19</th>\n",
              "      <th>PRE25</th>\n",
              "      <th>PRE30</th>\n",
              "      <th>PRE32</th>\n",
              "      <th>AGE</th>\n",
              "      <th>Risk1Yr</th>\n",
              "    </tr>\n",
              "  </thead>\n",
              "  <tbody>\n",
              "    <tr>\n",
              "      <th>25</th>\n",
              "      <td>5</td>\n",
              "      <td>4.56</td>\n",
              "      <td>72.80</td>\n",
              "      <td>0</td>\n",
              "      <td>1</td>\n",
              "      <td>1</td>\n",
              "      <td>0</td>\n",
              "      <td>1</td>\n",
              "      <td>0</td>\n",
              "      <td>2</td>\n",
              "      <td>0</td>\n",
              "      <td>0</td>\n",
              "      <td>0</td>\n",
              "      <td>1</td>\n",
              "      <td>0</td>\n",
              "      <td>57</td>\n",
              "      <td>0</td>\n",
              "    </tr>\n",
              "    <tr>\n",
              "      <th>73</th>\n",
              "      <td>4</td>\n",
              "      <td>6.30</td>\n",
              "      <td>5.48</td>\n",
              "      <td>0</td>\n",
              "      <td>0</td>\n",
              "      <td>0</td>\n",
              "      <td>0</td>\n",
              "      <td>0</td>\n",
              "      <td>0</td>\n",
              "      <td>1</td>\n",
              "      <td>0</td>\n",
              "      <td>0</td>\n",
              "      <td>0</td>\n",
              "      <td>0</td>\n",
              "      <td>0</td>\n",
              "      <td>45</td>\n",
              "      <td>0</td>\n",
              "    </tr>\n",
              "    <tr>\n",
              "      <th>89</th>\n",
              "      <td>3</td>\n",
              "      <td>2.83</td>\n",
              "      <td>66.40</td>\n",
              "      <td>1</td>\n",
              "      <td>1</td>\n",
              "      <td>1</td>\n",
              "      <td>1</td>\n",
              "      <td>1</td>\n",
              "      <td>0</td>\n",
              "      <td>2</td>\n",
              "      <td>0</td>\n",
              "      <td>0</td>\n",
              "      <td>0</td>\n",
              "      <td>1</td>\n",
              "      <td>0</td>\n",
              "      <td>75</td>\n",
              "      <td>0</td>\n",
              "    </tr>\n",
              "    <tr>\n",
              "      <th>93</th>\n",
              "      <td>3</td>\n",
              "      <td>6.08</td>\n",
              "      <td>4.92</td>\n",
              "      <td>0</td>\n",
              "      <td>0</td>\n",
              "      <td>0</td>\n",
              "      <td>0</td>\n",
              "      <td>0</td>\n",
              "      <td>0</td>\n",
              "      <td>1</td>\n",
              "      <td>0</td>\n",
              "      <td>0</td>\n",
              "      <td>0</td>\n",
              "      <td>1</td>\n",
              "      <td>0</td>\n",
              "      <td>50</td>\n",
              "      <td>0</td>\n",
              "    </tr>\n",
              "    <tr>\n",
              "      <th>98</th>\n",
              "      <td>3</td>\n",
              "      <td>2.63</td>\n",
              "      <td>67.30</td>\n",
              "      <td>1</td>\n",
              "      <td>0</td>\n",
              "      <td>0</td>\n",
              "      <td>1</td>\n",
              "      <td>1</td>\n",
              "      <td>0</td>\n",
              "      <td>1</td>\n",
              "      <td>0</td>\n",
              "      <td>0</td>\n",
              "      <td>0</td>\n",
              "      <td>1</td>\n",
              "      <td>0</td>\n",
              "      <td>54</td>\n",
              "      <td>0</td>\n",
              "    </tr>\n",
              "    <tr>\n",
              "      <th>112</th>\n",
              "      <td>3</td>\n",
              "      <td>3.68</td>\n",
              "      <td>64.10</td>\n",
              "      <td>0</td>\n",
              "      <td>0</td>\n",
              "      <td>0</td>\n",
              "      <td>0</td>\n",
              "      <td>0</td>\n",
              "      <td>0</td>\n",
              "      <td>2</td>\n",
              "      <td>0</td>\n",
              "      <td>0</td>\n",
              "      <td>0</td>\n",
              "      <td>1</td>\n",
              "      <td>0</td>\n",
              "      <td>60</td>\n",
              "      <td>0</td>\n",
              "    </tr>\n",
              "    <tr>\n",
              "      <th>132</th>\n",
              "      <td>2</td>\n",
              "      <td>2.50</td>\n",
              "      <td>71.10</td>\n",
              "      <td>0</td>\n",
              "      <td>0</td>\n",
              "      <td>0</td>\n",
              "      <td>1</td>\n",
              "      <td>0</td>\n",
              "      <td>0</td>\n",
              "      <td>3</td>\n",
              "      <td>0</td>\n",
              "      <td>0</td>\n",
              "      <td>0</td>\n",
              "      <td>1</td>\n",
              "      <td>0</td>\n",
              "      <td>64</td>\n",
              "      <td>1</td>\n",
              "    </tr>\n",
              "    <tr>\n",
              "      <th>215</th>\n",
              "      <td>2</td>\n",
              "      <td>2.66</td>\n",
              "      <td>8.56</td>\n",
              "      <td>1</td>\n",
              "      <td>0</td>\n",
              "      <td>1</td>\n",
              "      <td>0</td>\n",
              "      <td>1</td>\n",
              "      <td>0</td>\n",
              "      <td>2</td>\n",
              "      <td>0</td>\n",
              "      <td>0</td>\n",
              "      <td>0</td>\n",
              "      <td>1</td>\n",
              "      <td>0</td>\n",
              "      <td>61</td>\n",
              "      <td>0</td>\n",
              "    </tr>\n",
              "    <tr>\n",
              "      <th>255</th>\n",
              "      <td>3</td>\n",
              "      <td>3.72</td>\n",
              "      <td>78.30</td>\n",
              "      <td>0</td>\n",
              "      <td>1</td>\n",
              "      <td>0</td>\n",
              "      <td>0</td>\n",
              "      <td>1</td>\n",
              "      <td>0</td>\n",
              "      <td>2</td>\n",
              "      <td>0</td>\n",
              "      <td>0</td>\n",
              "      <td>0</td>\n",
              "      <td>1</td>\n",
              "      <td>0</td>\n",
              "      <td>44</td>\n",
              "      <td>0</td>\n",
              "    </tr>\n",
              "    <tr>\n",
              "      <th>319</th>\n",
              "      <td>3</td>\n",
              "      <td>2.10</td>\n",
              "      <td>69.10</td>\n",
              "      <td>0</td>\n",
              "      <td>0</td>\n",
              "      <td>0</td>\n",
              "      <td>0</td>\n",
              "      <td>0</td>\n",
              "      <td>0</td>\n",
              "      <td>1</td>\n",
              "      <td>0</td>\n",
              "      <td>0</td>\n",
              "      <td>0</td>\n",
              "      <td>1</td>\n",
              "      <td>0</td>\n",
              "      <td>62</td>\n",
              "      <td>0</td>\n",
              "    </tr>\n",
              "    <tr>\n",
              "      <th>324</th>\n",
              "      <td>4</td>\n",
              "      <td>5.16</td>\n",
              "      <td>4.96</td>\n",
              "      <td>1</td>\n",
              "      <td>0</td>\n",
              "      <td>0</td>\n",
              "      <td>0</td>\n",
              "      <td>0</td>\n",
              "      <td>0</td>\n",
              "      <td>1</td>\n",
              "      <td>0</td>\n",
              "      <td>0</td>\n",
              "      <td>0</td>\n",
              "      <td>1</td>\n",
              "      <td>0</td>\n",
              "      <td>54</td>\n",
              "      <td>0</td>\n",
              "    </tr>\n",
              "    <tr>\n",
              "      <th>325</th>\n",
              "      <td>4</td>\n",
              "      <td>5.03</td>\n",
              "      <td>79.30</td>\n",
              "      <td>1</td>\n",
              "      <td>0</td>\n",
              "      <td>0</td>\n",
              "      <td>1</td>\n",
              "      <td>0</td>\n",
              "      <td>0</td>\n",
              "      <td>1</td>\n",
              "      <td>0</td>\n",
              "      <td>0</td>\n",
              "      <td>0</td>\n",
              "      <td>0</td>\n",
              "      <td>0</td>\n",
              "      <td>38</td>\n",
              "      <td>0</td>\n",
              "    </tr>\n",
              "    <tr>\n",
              "      <th>330</th>\n",
              "      <td>2</td>\n",
              "      <td>2.94</td>\n",
              "      <td>76.00</td>\n",
              "      <td>1</td>\n",
              "      <td>0</td>\n",
              "      <td>1</td>\n",
              "      <td>1</td>\n",
              "      <td>1</td>\n",
              "      <td>0</td>\n",
              "      <td>2</td>\n",
              "      <td>0</td>\n",
              "      <td>0</td>\n",
              "      <td>0</td>\n",
              "      <td>0</td>\n",
              "      <td>0</td>\n",
              "      <td>61</td>\n",
              "      <td>0</td>\n",
              "    </tr>\n",
              "    <tr>\n",
              "      <th>349</th>\n",
              "      <td>4</td>\n",
              "      <td>1.82</td>\n",
              "      <td>86.30</td>\n",
              "      <td>0</td>\n",
              "      <td>0</td>\n",
              "      <td>0</td>\n",
              "      <td>0</td>\n",
              "      <td>0</td>\n",
              "      <td>0</td>\n",
              "      <td>2</td>\n",
              "      <td>0</td>\n",
              "      <td>0</td>\n",
              "      <td>0</td>\n",
              "      <td>0</td>\n",
              "      <td>0</td>\n",
              "      <td>67</td>\n",
              "      <td>0</td>\n",
              "    </tr>\n",
              "    <tr>\n",
              "      <th>352</th>\n",
              "      <td>3</td>\n",
              "      <td>2.94</td>\n",
              "      <td>73.30</td>\n",
              "      <td>1</td>\n",
              "      <td>0</td>\n",
              "      <td>1</td>\n",
              "      <td>1</td>\n",
              "      <td>0</td>\n",
              "      <td>0</td>\n",
              "      <td>2</td>\n",
              "      <td>0</td>\n",
              "      <td>0</td>\n",
              "      <td>0</td>\n",
              "      <td>0</td>\n",
              "      <td>0</td>\n",
              "      <td>60</td>\n",
              "      <td>0</td>\n",
              "    </tr>\n",
              "    <tr>\n",
              "      <th>353</th>\n",
              "      <td>3</td>\n",
              "      <td>3.24</td>\n",
              "      <td>52.30</td>\n",
              "      <td>0</td>\n",
              "      <td>0</td>\n",
              "      <td>0</td>\n",
              "      <td>0</td>\n",
              "      <td>0</td>\n",
              "      <td>0</td>\n",
              "      <td>2</td>\n",
              "      <td>1</td>\n",
              "      <td>0</td>\n",
              "      <td>0</td>\n",
              "      <td>1</td>\n",
              "      <td>0</td>\n",
              "      <td>55</td>\n",
              "      <td>0</td>\n",
              "    </tr>\n",
              "    <tr>\n",
              "      <th>438</th>\n",
              "      <td>5</td>\n",
              "      <td>3.67</td>\n",
              "      <td>76.80</td>\n",
              "      <td>0</td>\n",
              "      <td>1</td>\n",
              "      <td>1</td>\n",
              "      <td>0</td>\n",
              "      <td>1</td>\n",
              "      <td>0</td>\n",
              "      <td>2</td>\n",
              "      <td>0</td>\n",
              "      <td>0</td>\n",
              "      <td>0</td>\n",
              "      <td>0</td>\n",
              "      <td>0</td>\n",
              "      <td>61</td>\n",
              "      <td>0</td>\n",
              "    </tr>\n",
              "    <tr>\n",
              "      <th>444</th>\n",
              "      <td>3</td>\n",
              "      <td>2.56</td>\n",
              "      <td>60.90</td>\n",
              "      <td>0</td>\n",
              "      <td>0</td>\n",
              "      <td>0</td>\n",
              "      <td>0</td>\n",
              "      <td>0</td>\n",
              "      <td>0</td>\n",
              "      <td>1</td>\n",
              "      <td>0</td>\n",
              "      <td>0</td>\n",
              "      <td>0</td>\n",
              "      <td>1</td>\n",
              "      <td>0</td>\n",
              "      <td>50</td>\n",
              "      <td>0</td>\n",
              "    </tr>\n",
              "  </tbody>\n",
              "</table>\n",
              "</div>"
            ],
            "text/plain": [
              "     DGN  PRE4   PRE5  PRE6  PRE7  ...  PRE25  PRE30  PRE32  AGE  Risk1Yr\n",
              "25     5  4.56  72.80     0     1  ...      0      1      0   57        0\n",
              "73     4  6.30   5.48     0     0  ...      0      0      0   45        0\n",
              "89     3  2.83  66.40     1     1  ...      0      1      0   75        0\n",
              "93     3  6.08   4.92     0     0  ...      0      1      0   50        0\n",
              "98     3  2.63  67.30     1     0  ...      0      1      0   54        0\n",
              "112    3  3.68  64.10     0     0  ...      0      1      0   60        0\n",
              "132    2  2.50  71.10     0     0  ...      0      1      0   64        1\n",
              "215    2  2.66   8.56     1     0  ...      0      1      0   61        0\n",
              "255    3  3.72  78.30     0     1  ...      0      1      0   44        0\n",
              "319    3  2.10  69.10     0     0  ...      0      1      0   62        0\n",
              "324    4  5.16   4.96     1     0  ...      0      1      0   54        0\n",
              "325    4  5.03  79.30     1     0  ...      0      0      0   38        0\n",
              "330    2  2.94  76.00     1     0  ...      0      0      0   61        0\n",
              "349    4  1.82  86.30     0     0  ...      0      0      0   67        0\n",
              "352    3  2.94  73.30     1     0  ...      0      0      0   60        0\n",
              "353    3  3.24  52.30     0     0  ...      0      1      0   55        0\n",
              "438    5  3.67  76.80     0     1  ...      0      0      0   61        0\n",
              "444    3  2.56  60.90     0     0  ...      0      1      0   50        0\n",
              "\n",
              "[18 rows x 17 columns]"
            ]
          },
          "metadata": {
            "tags": []
          },
          "execution_count": 22
        }
      ]
    },
    {
      "cell_type": "markdown",
      "metadata": {
        "id": "hGVjpoqRxi21"
      },
      "source": [
        "Складывается ощущение, что есть ошибка в данных и надо поделить на 10, когда показатель больше 10"
      ]
    },
    {
      "cell_type": "code",
      "metadata": {
        "colab": {
          "base_uri": "https://localhost:8080/",
          "height": 49
        },
        "id": "0M_RhKDDxt8s",
        "outputId": "f019512c-2fd5-4c4e-aaec-c3bb99f91656"
      },
      "source": [
        "df.loc[df['PRE5'] > 10, 'PRE5'] = df.loc[df['PRE5'] > 10, 'PRE5'].apply(lambda x: x/10)\r\n",
        "df.loc[df['PRE5'] > 10]"
      ],
      "execution_count": 23,
      "outputs": [
        {
          "output_type": "execute_result",
          "data": {
            "text/html": [
              "<div>\n",
              "<style scoped>\n",
              "    .dataframe tbody tr th:only-of-type {\n",
              "        vertical-align: middle;\n",
              "    }\n",
              "\n",
              "    .dataframe tbody tr th {\n",
              "        vertical-align: top;\n",
              "    }\n",
              "\n",
              "    .dataframe thead th {\n",
              "        text-align: right;\n",
              "    }\n",
              "</style>\n",
              "<table border=\"1\" class=\"dataframe\">\n",
              "  <thead>\n",
              "    <tr style=\"text-align: right;\">\n",
              "      <th></th>\n",
              "      <th>DGN</th>\n",
              "      <th>PRE4</th>\n",
              "      <th>PRE5</th>\n",
              "      <th>PRE6</th>\n",
              "      <th>PRE7</th>\n",
              "      <th>PRE8</th>\n",
              "      <th>PRE9</th>\n",
              "      <th>PRE10</th>\n",
              "      <th>PRE11</th>\n",
              "      <th>PRE14</th>\n",
              "      <th>PRE17</th>\n",
              "      <th>PRE19</th>\n",
              "      <th>PRE25</th>\n",
              "      <th>PRE30</th>\n",
              "      <th>PRE32</th>\n",
              "      <th>AGE</th>\n",
              "      <th>Risk1Yr</th>\n",
              "    </tr>\n",
              "  </thead>\n",
              "  <tbody>\n",
              "  </tbody>\n",
              "</table>\n",
              "</div>"
            ],
            "text/plain": [
              "Empty DataFrame\n",
              "Columns: [DGN, PRE4, PRE5, PRE6, PRE7, PRE8, PRE9, PRE10, PRE11, PRE14, PRE17, PRE19, PRE25, PRE30, PRE32, AGE, Risk1Yr]\n",
              "Index: []"
            ]
          },
          "metadata": {
            "tags": []
          },
          "execution_count": 23
        }
      ]
    },
    {
      "cell_type": "code",
      "metadata": {
        "colab": {
          "base_uri": "https://localhost:8080/"
        },
        "id": "kq8XXwhSysNu",
        "outputId": "51c337b0-a286-4b41-c737-65bf3463005c"
      },
      "source": [
        "get_outliners('PRE5')"
      ],
      "execution_count": 24,
      "outputs": [
        {
          "output_type": "stream",
          "text": [
            "Границы выбросов для столбца 'PRE5': [(0.2799999999999998,), 4.76]\n"
          ],
          "name": "stdout"
        }
      ]
    },
    {
      "cell_type": "code",
      "metadata": {
        "colab": {
          "base_uri": "https://localhost:8080/",
          "height": 607
        },
        "id": "9niiMb0Uyzku",
        "outputId": "0cbc96fc-1b37-40c3-e170-6ce021c63471"
      },
      "source": [
        "df[(df['PRE5'] < 0.2799999999999998) | (df['PRE5'] > 4.76)]"
      ],
      "execution_count": 25,
      "outputs": [
        {
          "output_type": "execute_result",
          "data": {
            "text/html": [
              "<div>\n",
              "<style scoped>\n",
              "    .dataframe tbody tr th:only-of-type {\n",
              "        vertical-align: middle;\n",
              "    }\n",
              "\n",
              "    .dataframe tbody tr th {\n",
              "        vertical-align: top;\n",
              "    }\n",
              "\n",
              "    .dataframe thead th {\n",
              "        text-align: right;\n",
              "    }\n",
              "</style>\n",
              "<table border=\"1\" class=\"dataframe\">\n",
              "  <thead>\n",
              "    <tr style=\"text-align: right;\">\n",
              "      <th></th>\n",
              "      <th>DGN</th>\n",
              "      <th>PRE4</th>\n",
              "      <th>PRE5</th>\n",
              "      <th>PRE6</th>\n",
              "      <th>PRE7</th>\n",
              "      <th>PRE8</th>\n",
              "      <th>PRE9</th>\n",
              "      <th>PRE10</th>\n",
              "      <th>PRE11</th>\n",
              "      <th>PRE14</th>\n",
              "      <th>PRE17</th>\n",
              "      <th>PRE19</th>\n",
              "      <th>PRE25</th>\n",
              "      <th>PRE30</th>\n",
              "      <th>PRE32</th>\n",
              "      <th>AGE</th>\n",
              "      <th>Risk1Yr</th>\n",
              "    </tr>\n",
              "  </thead>\n",
              "  <tbody>\n",
              "    <tr>\n",
              "      <th>25</th>\n",
              "      <td>5</td>\n",
              "      <td>4.56</td>\n",
              "      <td>7.28</td>\n",
              "      <td>0</td>\n",
              "      <td>1</td>\n",
              "      <td>1</td>\n",
              "      <td>0</td>\n",
              "      <td>1</td>\n",
              "      <td>0</td>\n",
              "      <td>2</td>\n",
              "      <td>0</td>\n",
              "      <td>0</td>\n",
              "      <td>0</td>\n",
              "      <td>1</td>\n",
              "      <td>0</td>\n",
              "      <td>57</td>\n",
              "      <td>0</td>\n",
              "    </tr>\n",
              "    <tr>\n",
              "      <th>73</th>\n",
              "      <td>4</td>\n",
              "      <td>6.30</td>\n",
              "      <td>5.48</td>\n",
              "      <td>0</td>\n",
              "      <td>0</td>\n",
              "      <td>0</td>\n",
              "      <td>0</td>\n",
              "      <td>0</td>\n",
              "      <td>0</td>\n",
              "      <td>1</td>\n",
              "      <td>0</td>\n",
              "      <td>0</td>\n",
              "      <td>0</td>\n",
              "      <td>0</td>\n",
              "      <td>0</td>\n",
              "      <td>45</td>\n",
              "      <td>0</td>\n",
              "    </tr>\n",
              "    <tr>\n",
              "      <th>89</th>\n",
              "      <td>3</td>\n",
              "      <td>2.83</td>\n",
              "      <td>6.64</td>\n",
              "      <td>1</td>\n",
              "      <td>1</td>\n",
              "      <td>1</td>\n",
              "      <td>1</td>\n",
              "      <td>1</td>\n",
              "      <td>0</td>\n",
              "      <td>2</td>\n",
              "      <td>0</td>\n",
              "      <td>0</td>\n",
              "      <td>0</td>\n",
              "      <td>1</td>\n",
              "      <td>0</td>\n",
              "      <td>75</td>\n",
              "      <td>0</td>\n",
              "    </tr>\n",
              "    <tr>\n",
              "      <th>93</th>\n",
              "      <td>3</td>\n",
              "      <td>6.08</td>\n",
              "      <td>4.92</td>\n",
              "      <td>0</td>\n",
              "      <td>0</td>\n",
              "      <td>0</td>\n",
              "      <td>0</td>\n",
              "      <td>0</td>\n",
              "      <td>0</td>\n",
              "      <td>1</td>\n",
              "      <td>0</td>\n",
              "      <td>0</td>\n",
              "      <td>0</td>\n",
              "      <td>1</td>\n",
              "      <td>0</td>\n",
              "      <td>50</td>\n",
              "      <td>0</td>\n",
              "    </tr>\n",
              "    <tr>\n",
              "      <th>98</th>\n",
              "      <td>3</td>\n",
              "      <td>2.63</td>\n",
              "      <td>6.73</td>\n",
              "      <td>1</td>\n",
              "      <td>0</td>\n",
              "      <td>0</td>\n",
              "      <td>1</td>\n",
              "      <td>1</td>\n",
              "      <td>0</td>\n",
              "      <td>1</td>\n",
              "      <td>0</td>\n",
              "      <td>0</td>\n",
              "      <td>0</td>\n",
              "      <td>1</td>\n",
              "      <td>0</td>\n",
              "      <td>54</td>\n",
              "      <td>0</td>\n",
              "    </tr>\n",
              "    <tr>\n",
              "      <th>112</th>\n",
              "      <td>3</td>\n",
              "      <td>3.68</td>\n",
              "      <td>6.41</td>\n",
              "      <td>0</td>\n",
              "      <td>0</td>\n",
              "      <td>0</td>\n",
              "      <td>0</td>\n",
              "      <td>0</td>\n",
              "      <td>0</td>\n",
              "      <td>2</td>\n",
              "      <td>0</td>\n",
              "      <td>0</td>\n",
              "      <td>0</td>\n",
              "      <td>1</td>\n",
              "      <td>0</td>\n",
              "      <td>60</td>\n",
              "      <td>0</td>\n",
              "    </tr>\n",
              "    <tr>\n",
              "      <th>132</th>\n",
              "      <td>2</td>\n",
              "      <td>2.50</td>\n",
              "      <td>7.11</td>\n",
              "      <td>0</td>\n",
              "      <td>0</td>\n",
              "      <td>0</td>\n",
              "      <td>1</td>\n",
              "      <td>0</td>\n",
              "      <td>0</td>\n",
              "      <td>3</td>\n",
              "      <td>0</td>\n",
              "      <td>0</td>\n",
              "      <td>0</td>\n",
              "      <td>1</td>\n",
              "      <td>0</td>\n",
              "      <td>64</td>\n",
              "      <td>1</td>\n",
              "    </tr>\n",
              "    <tr>\n",
              "      <th>215</th>\n",
              "      <td>2</td>\n",
              "      <td>2.66</td>\n",
              "      <td>8.56</td>\n",
              "      <td>1</td>\n",
              "      <td>0</td>\n",
              "      <td>1</td>\n",
              "      <td>0</td>\n",
              "      <td>1</td>\n",
              "      <td>0</td>\n",
              "      <td>2</td>\n",
              "      <td>0</td>\n",
              "      <td>0</td>\n",
              "      <td>0</td>\n",
              "      <td>1</td>\n",
              "      <td>0</td>\n",
              "      <td>61</td>\n",
              "      <td>0</td>\n",
              "    </tr>\n",
              "    <tr>\n",
              "      <th>255</th>\n",
              "      <td>3</td>\n",
              "      <td>3.72</td>\n",
              "      <td>7.83</td>\n",
              "      <td>0</td>\n",
              "      <td>1</td>\n",
              "      <td>0</td>\n",
              "      <td>0</td>\n",
              "      <td>1</td>\n",
              "      <td>0</td>\n",
              "      <td>2</td>\n",
              "      <td>0</td>\n",
              "      <td>0</td>\n",
              "      <td>0</td>\n",
              "      <td>1</td>\n",
              "      <td>0</td>\n",
              "      <td>44</td>\n",
              "      <td>0</td>\n",
              "    </tr>\n",
              "    <tr>\n",
              "      <th>319</th>\n",
              "      <td>3</td>\n",
              "      <td>2.10</td>\n",
              "      <td>6.91</td>\n",
              "      <td>0</td>\n",
              "      <td>0</td>\n",
              "      <td>0</td>\n",
              "      <td>0</td>\n",
              "      <td>0</td>\n",
              "      <td>0</td>\n",
              "      <td>1</td>\n",
              "      <td>0</td>\n",
              "      <td>0</td>\n",
              "      <td>0</td>\n",
              "      <td>1</td>\n",
              "      <td>0</td>\n",
              "      <td>62</td>\n",
              "      <td>0</td>\n",
              "    </tr>\n",
              "    <tr>\n",
              "      <th>324</th>\n",
              "      <td>4</td>\n",
              "      <td>5.16</td>\n",
              "      <td>4.96</td>\n",
              "      <td>1</td>\n",
              "      <td>0</td>\n",
              "      <td>0</td>\n",
              "      <td>0</td>\n",
              "      <td>0</td>\n",
              "      <td>0</td>\n",
              "      <td>1</td>\n",
              "      <td>0</td>\n",
              "      <td>0</td>\n",
              "      <td>0</td>\n",
              "      <td>1</td>\n",
              "      <td>0</td>\n",
              "      <td>54</td>\n",
              "      <td>0</td>\n",
              "    </tr>\n",
              "    <tr>\n",
              "      <th>325</th>\n",
              "      <td>4</td>\n",
              "      <td>5.03</td>\n",
              "      <td>7.93</td>\n",
              "      <td>1</td>\n",
              "      <td>0</td>\n",
              "      <td>0</td>\n",
              "      <td>1</td>\n",
              "      <td>0</td>\n",
              "      <td>0</td>\n",
              "      <td>1</td>\n",
              "      <td>0</td>\n",
              "      <td>0</td>\n",
              "      <td>0</td>\n",
              "      <td>0</td>\n",
              "      <td>0</td>\n",
              "      <td>38</td>\n",
              "      <td>0</td>\n",
              "    </tr>\n",
              "    <tr>\n",
              "      <th>330</th>\n",
              "      <td>2</td>\n",
              "      <td>2.94</td>\n",
              "      <td>7.60</td>\n",
              "      <td>1</td>\n",
              "      <td>0</td>\n",
              "      <td>1</td>\n",
              "      <td>1</td>\n",
              "      <td>1</td>\n",
              "      <td>0</td>\n",
              "      <td>2</td>\n",
              "      <td>0</td>\n",
              "      <td>0</td>\n",
              "      <td>0</td>\n",
              "      <td>0</td>\n",
              "      <td>0</td>\n",
              "      <td>61</td>\n",
              "      <td>0</td>\n",
              "    </tr>\n",
              "    <tr>\n",
              "      <th>349</th>\n",
              "      <td>4</td>\n",
              "      <td>1.82</td>\n",
              "      <td>8.63</td>\n",
              "      <td>0</td>\n",
              "      <td>0</td>\n",
              "      <td>0</td>\n",
              "      <td>0</td>\n",
              "      <td>0</td>\n",
              "      <td>0</td>\n",
              "      <td>2</td>\n",
              "      <td>0</td>\n",
              "      <td>0</td>\n",
              "      <td>0</td>\n",
              "      <td>0</td>\n",
              "      <td>0</td>\n",
              "      <td>67</td>\n",
              "      <td>0</td>\n",
              "    </tr>\n",
              "    <tr>\n",
              "      <th>352</th>\n",
              "      <td>3</td>\n",
              "      <td>2.94</td>\n",
              "      <td>7.33</td>\n",
              "      <td>1</td>\n",
              "      <td>0</td>\n",
              "      <td>1</td>\n",
              "      <td>1</td>\n",
              "      <td>0</td>\n",
              "      <td>0</td>\n",
              "      <td>2</td>\n",
              "      <td>0</td>\n",
              "      <td>0</td>\n",
              "      <td>0</td>\n",
              "      <td>0</td>\n",
              "      <td>0</td>\n",
              "      <td>60</td>\n",
              "      <td>0</td>\n",
              "    </tr>\n",
              "    <tr>\n",
              "      <th>353</th>\n",
              "      <td>3</td>\n",
              "      <td>3.24</td>\n",
              "      <td>5.23</td>\n",
              "      <td>0</td>\n",
              "      <td>0</td>\n",
              "      <td>0</td>\n",
              "      <td>0</td>\n",
              "      <td>0</td>\n",
              "      <td>0</td>\n",
              "      <td>2</td>\n",
              "      <td>1</td>\n",
              "      <td>0</td>\n",
              "      <td>0</td>\n",
              "      <td>1</td>\n",
              "      <td>0</td>\n",
              "      <td>55</td>\n",
              "      <td>0</td>\n",
              "    </tr>\n",
              "    <tr>\n",
              "      <th>438</th>\n",
              "      <td>5</td>\n",
              "      <td>3.67</td>\n",
              "      <td>7.68</td>\n",
              "      <td>0</td>\n",
              "      <td>1</td>\n",
              "      <td>1</td>\n",
              "      <td>0</td>\n",
              "      <td>1</td>\n",
              "      <td>0</td>\n",
              "      <td>2</td>\n",
              "      <td>0</td>\n",
              "      <td>0</td>\n",
              "      <td>0</td>\n",
              "      <td>0</td>\n",
              "      <td>0</td>\n",
              "      <td>61</td>\n",
              "      <td>0</td>\n",
              "    </tr>\n",
              "    <tr>\n",
              "      <th>444</th>\n",
              "      <td>3</td>\n",
              "      <td>2.56</td>\n",
              "      <td>6.09</td>\n",
              "      <td>0</td>\n",
              "      <td>0</td>\n",
              "      <td>0</td>\n",
              "      <td>0</td>\n",
              "      <td>0</td>\n",
              "      <td>0</td>\n",
              "      <td>1</td>\n",
              "      <td>0</td>\n",
              "      <td>0</td>\n",
              "      <td>0</td>\n",
              "      <td>1</td>\n",
              "      <td>0</td>\n",
              "      <td>50</td>\n",
              "      <td>0</td>\n",
              "    </tr>\n",
              "  </tbody>\n",
              "</table>\n",
              "</div>"
            ],
            "text/plain": [
              "     DGN  PRE4  PRE5  PRE6  PRE7  ...  PRE25  PRE30  PRE32  AGE  Risk1Yr\n",
              "25     5  4.56  7.28     0     1  ...      0      1      0   57        0\n",
              "73     4  6.30  5.48     0     0  ...      0      0      0   45        0\n",
              "89     3  2.83  6.64     1     1  ...      0      1      0   75        0\n",
              "93     3  6.08  4.92     0     0  ...      0      1      0   50        0\n",
              "98     3  2.63  6.73     1     0  ...      0      1      0   54        0\n",
              "112    3  3.68  6.41     0     0  ...      0      1      0   60        0\n",
              "132    2  2.50  7.11     0     0  ...      0      1      0   64        1\n",
              "215    2  2.66  8.56     1     0  ...      0      1      0   61        0\n",
              "255    3  3.72  7.83     0     1  ...      0      1      0   44        0\n",
              "319    3  2.10  6.91     0     0  ...      0      1      0   62        0\n",
              "324    4  5.16  4.96     1     0  ...      0      1      0   54        0\n",
              "325    4  5.03  7.93     1     0  ...      0      0      0   38        0\n",
              "330    2  2.94  7.60     1     0  ...      0      0      0   61        0\n",
              "349    4  1.82  8.63     0     0  ...      0      0      0   67        0\n",
              "352    3  2.94  7.33     1     0  ...      0      0      0   60        0\n",
              "353    3  3.24  5.23     0     0  ...      0      1      0   55        0\n",
              "438    5  3.67  7.68     0     1  ...      0      0      0   61        0\n",
              "444    3  2.56  6.09     0     0  ...      0      1      0   50        0\n",
              "\n",
              "[18 rows x 17 columns]"
            ]
          },
          "metadata": {
            "tags": []
          },
          "execution_count": 25
        }
      ]
    },
    {
      "cell_type": "code",
      "metadata": {
        "colab": {
          "base_uri": "https://localhost:8080/"
        },
        "id": "GqUX22UyuM-A",
        "outputId": "2c659708-b50a-46c7-c9ab-bb62279ccca9"
      },
      "source": [
        "get_outliners('AGE')"
      ],
      "execution_count": 26,
      "outputs": [
        {
          "output_type": "stream",
          "text": [
            "Границы выбросов для столбца 'AGE': [(39.0,), 87.0]\n"
          ],
          "name": "stdout"
        }
      ]
    },
    {
      "cell_type": "code",
      "metadata": {
        "colab": {
          "base_uri": "https://localhost:8080/",
          "height": 142
        },
        "id": "jLHmPzgrzJMl",
        "outputId": "5f058e7f-b9f5-4793-ee68-5a9657b6de28"
      },
      "source": [
        "df[(df['AGE'] < 39) | (df['AGE'] > 87)]"
      ],
      "execution_count": 27,
      "outputs": [
        {
          "output_type": "execute_result",
          "data": {
            "text/html": [
              "<div>\n",
              "<style scoped>\n",
              "    .dataframe tbody tr th:only-of-type {\n",
              "        vertical-align: middle;\n",
              "    }\n",
              "\n",
              "    .dataframe tbody tr th {\n",
              "        vertical-align: top;\n",
              "    }\n",
              "\n",
              "    .dataframe thead th {\n",
              "        text-align: right;\n",
              "    }\n",
              "</style>\n",
              "<table border=\"1\" class=\"dataframe\">\n",
              "  <thead>\n",
              "    <tr style=\"text-align: right;\">\n",
              "      <th></th>\n",
              "      <th>DGN</th>\n",
              "      <th>PRE4</th>\n",
              "      <th>PRE5</th>\n",
              "      <th>PRE6</th>\n",
              "      <th>PRE7</th>\n",
              "      <th>PRE8</th>\n",
              "      <th>PRE9</th>\n",
              "      <th>PRE10</th>\n",
              "      <th>PRE11</th>\n",
              "      <th>PRE14</th>\n",
              "      <th>PRE17</th>\n",
              "      <th>PRE19</th>\n",
              "      <th>PRE25</th>\n",
              "      <th>PRE30</th>\n",
              "      <th>PRE32</th>\n",
              "      <th>AGE</th>\n",
              "      <th>Risk1Yr</th>\n",
              "    </tr>\n",
              "  </thead>\n",
              "  <tbody>\n",
              "    <tr>\n",
              "      <th>56</th>\n",
              "      <td>3</td>\n",
              "      <td>3.72</td>\n",
              "      <td>2.88</td>\n",
              "      <td>1</td>\n",
              "      <td>0</td>\n",
              "      <td>0</td>\n",
              "      <td>1</td>\n",
              "      <td>1</td>\n",
              "      <td>0</td>\n",
              "      <td>1</td>\n",
              "      <td>0</td>\n",
              "      <td>0</td>\n",
              "      <td>0</td>\n",
              "      <td>0</td>\n",
              "      <td>0</td>\n",
              "      <td>37</td>\n",
              "      <td>0</td>\n",
              "    </tr>\n",
              "    <tr>\n",
              "      <th>325</th>\n",
              "      <td>4</td>\n",
              "      <td>5.03</td>\n",
              "      <td>7.93</td>\n",
              "      <td>1</td>\n",
              "      <td>0</td>\n",
              "      <td>0</td>\n",
              "      <td>1</td>\n",
              "      <td>0</td>\n",
              "      <td>0</td>\n",
              "      <td>1</td>\n",
              "      <td>0</td>\n",
              "      <td>0</td>\n",
              "      <td>0</td>\n",
              "      <td>0</td>\n",
              "      <td>0</td>\n",
              "      <td>38</td>\n",
              "      <td>0</td>\n",
              "    </tr>\n",
              "    <tr>\n",
              "      <th>396</th>\n",
              "      <td>3</td>\n",
              "      <td>2.76</td>\n",
              "      <td>2.08</td>\n",
              "      <td>0</td>\n",
              "      <td>0</td>\n",
              "      <td>0</td>\n",
              "      <td>0</td>\n",
              "      <td>0</td>\n",
              "      <td>0</td>\n",
              "      <td>2</td>\n",
              "      <td>0</td>\n",
              "      <td>0</td>\n",
              "      <td>0</td>\n",
              "      <td>0</td>\n",
              "      <td>0</td>\n",
              "      <td>21</td>\n",
              "      <td>0</td>\n",
              "    </tr>\n",
              "  </tbody>\n",
              "</table>\n",
              "</div>"
            ],
            "text/plain": [
              "     DGN  PRE4  PRE5  PRE6  PRE7  ...  PRE25  PRE30  PRE32  AGE  Risk1Yr\n",
              "56     3  3.72  2.88     1     0  ...      0      0      0   37        0\n",
              "325    4  5.03  7.93     1     0  ...      0      0      0   38        0\n",
              "396    3  2.76  2.08     0     0  ...      0      0      0   21        0\n",
              "\n",
              "[3 rows x 17 columns]"
            ]
          },
          "metadata": {
            "tags": []
          },
          "execution_count": 27
        }
      ]
    },
    {
      "cell_type": "markdown",
      "metadata": {
        "id": "GvifuZwx6SFZ"
      },
      "source": [
        "Уберем только одно значения, когда возраст 21, т.к. это существенный выброс"
      ]
    },
    {
      "cell_type": "code",
      "metadata": {
        "id": "P94O461-zuY2"
      },
      "source": [
        "df.drop((df[df['AGE'] == 21]).index, inplace=True)"
      ],
      "execution_count": 28,
      "outputs": []
    },
    {
      "cell_type": "code",
      "metadata": {
        "colab": {
          "base_uri": "https://localhost:8080/",
          "height": 596
        },
        "id": "X9NmrTaL-FUX",
        "outputId": "0137d730-ce45-4759-851b-a6a21cfd8f68"
      },
      "source": [
        "df.corr()"
      ],
      "execution_count": 29,
      "outputs": [
        {
          "output_type": "execute_result",
          "data": {
            "text/html": [
              "<div>\n",
              "<style scoped>\n",
              "    .dataframe tbody tr th:only-of-type {\n",
              "        vertical-align: middle;\n",
              "    }\n",
              "\n",
              "    .dataframe tbody tr th {\n",
              "        vertical-align: top;\n",
              "    }\n",
              "\n",
              "    .dataframe thead th {\n",
              "        text-align: right;\n",
              "    }\n",
              "</style>\n",
              "<table border=\"1\" class=\"dataframe\">\n",
              "  <thead>\n",
              "    <tr style=\"text-align: right;\">\n",
              "      <th></th>\n",
              "      <th>DGN</th>\n",
              "      <th>PRE4</th>\n",
              "      <th>PRE5</th>\n",
              "      <th>PRE6</th>\n",
              "      <th>PRE7</th>\n",
              "      <th>PRE8</th>\n",
              "      <th>PRE9</th>\n",
              "      <th>PRE10</th>\n",
              "      <th>PRE11</th>\n",
              "      <th>PRE14</th>\n",
              "      <th>PRE17</th>\n",
              "      <th>PRE19</th>\n",
              "      <th>PRE25</th>\n",
              "      <th>PRE30</th>\n",
              "      <th>PRE32</th>\n",
              "      <th>AGE</th>\n",
              "      <th>Risk1Yr</th>\n",
              "    </tr>\n",
              "  </thead>\n",
              "  <tbody>\n",
              "    <tr>\n",
              "      <th>DGN</th>\n",
              "      <td>1.000000</td>\n",
              "      <td>0.121142</td>\n",
              "      <td>0.088754</td>\n",
              "      <td>-0.056443</td>\n",
              "      <td>0.047830</td>\n",
              "      <td>-0.063087</td>\n",
              "      <td>-0.047222</td>\n",
              "      <td>-0.076450</td>\n",
              "      <td>-0.019693</td>\n",
              "      <td>-0.134967</td>\n",
              "      <td>0.029676</td>\n",
              "      <td>-0.008693</td>\n",
              "      <td>-0.017499</td>\n",
              "      <td>-0.108568</td>\n",
              "      <td>-0.008693</td>\n",
              "      <td>0.076812</td>\n",
              "      <td>0.060339</td>\n",
              "    </tr>\n",
              "    <tr>\n",
              "      <th>PRE4</th>\n",
              "      <td>0.121142</td>\n",
              "      <td>1.000000</td>\n",
              "      <td>0.562729</td>\n",
              "      <td>-0.093207</td>\n",
              "      <td>0.019455</td>\n",
              "      <td>-0.096407</td>\n",
              "      <td>0.055515</td>\n",
              "      <td>-0.054813</td>\n",
              "      <td>-0.100872</td>\n",
              "      <td>0.034587</td>\n",
              "      <td>-0.115562</td>\n",
              "      <td>-0.009222</td>\n",
              "      <td>-0.035767</td>\n",
              "      <td>-0.014827</td>\n",
              "      <td>-0.060686</td>\n",
              "      <td>-0.303872</td>\n",
              "      <td>-0.046935</td>\n",
              "    </tr>\n",
              "    <tr>\n",
              "      <th>PRE5</th>\n",
              "      <td>0.088754</td>\n",
              "      <td>0.562729</td>\n",
              "      <td>1.000000</td>\n",
              "      <td>-0.179949</td>\n",
              "      <td>0.119367</td>\n",
              "      <td>0.003882</td>\n",
              "      <td>0.193976</td>\n",
              "      <td>-0.144067</td>\n",
              "      <td>-0.144943</td>\n",
              "      <td>0.024633</td>\n",
              "      <td>-0.091630</td>\n",
              "      <td>-0.031633</td>\n",
              "      <td>-0.039501</td>\n",
              "      <td>-0.105328</td>\n",
              "      <td>-0.061729</td>\n",
              "      <td>-0.276177</td>\n",
              "      <td>-0.079953</td>\n",
              "    </tr>\n",
              "    <tr>\n",
              "      <th>PRE6</th>\n",
              "      <td>-0.056443</td>\n",
              "      <td>-0.093207</td>\n",
              "      <td>-0.179949</td>\n",
              "      <td>1.000000</td>\n",
              "      <td>0.092252</td>\n",
              "      <td>0.122316</td>\n",
              "      <td>0.092252</td>\n",
              "      <td>0.683185</td>\n",
              "      <td>0.417692</td>\n",
              "      <td>0.091143</td>\n",
              "      <td>0.024485</td>\n",
              "      <td>0.026645</td>\n",
              "      <td>0.022808</td>\n",
              "      <td>0.166812</td>\n",
              "      <td>-0.034612</td>\n",
              "      <td>0.205167</td>\n",
              "      <td>0.092124</td>\n",
              "    </tr>\n",
              "    <tr>\n",
              "      <th>PRE7</th>\n",
              "      <td>0.047830</td>\n",
              "      <td>0.019455</td>\n",
              "      <td>0.119367</td>\n",
              "      <td>0.092252</td>\n",
              "      <td>1.000000</td>\n",
              "      <td>0.256058</td>\n",
              "      <td>0.067388</td>\n",
              "      <td>-0.025015</td>\n",
              "      <td>-0.072729</td>\n",
              "      <td>0.100178</td>\n",
              "      <td>0.022421</td>\n",
              "      <td>-0.017410</td>\n",
              "      <td>-0.035046</td>\n",
              "      <td>-0.079014</td>\n",
              "      <td>-0.017410</td>\n",
              "      <td>0.043148</td>\n",
              "      <td>0.057153</td>\n",
              "    </tr>\n",
              "    <tr>\n",
              "      <th>PRE8</th>\n",
              "      <td>-0.063087</td>\n",
              "      <td>-0.096407</td>\n",
              "      <td>0.003882</td>\n",
              "      <td>0.122316</td>\n",
              "      <td>0.256058</td>\n",
              "      <td>1.000000</td>\n",
              "      <td>0.134187</td>\n",
              "      <td>0.080676</td>\n",
              "      <td>0.060025</td>\n",
              "      <td>0.060190</td>\n",
              "      <td>-0.001720</td>\n",
              "      <td>-0.026949</td>\n",
              "      <td>0.086057</td>\n",
              "      <td>-0.047062</td>\n",
              "      <td>-0.026949</td>\n",
              "      <td>0.084615</td>\n",
              "      <td>0.065442</td>\n",
              "    </tr>\n",
              "    <tr>\n",
              "      <th>PRE9</th>\n",
              "      <td>-0.047222</td>\n",
              "      <td>0.055515</td>\n",
              "      <td>0.193976</td>\n",
              "      <td>0.092252</td>\n",
              "      <td>0.067388</td>\n",
              "      <td>0.134187</td>\n",
              "      <td>1.000000</td>\n",
              "      <td>0.049122</td>\n",
              "      <td>-0.072729</td>\n",
              "      <td>0.075733</td>\n",
              "      <td>-0.042893</td>\n",
              "      <td>-0.017410</td>\n",
              "      <td>0.097507</td>\n",
              "      <td>-0.079014</td>\n",
              "      <td>-0.017410</td>\n",
              "      <td>-0.018493</td>\n",
              "      <td>0.105320</td>\n",
              "    </tr>\n",
              "    <tr>\n",
              "      <th>PRE10</th>\n",
              "      <td>-0.076450</td>\n",
              "      <td>-0.054813</td>\n",
              "      <td>-0.144067</td>\n",
              "      <td>0.683185</td>\n",
              "      <td>-0.025015</td>\n",
              "      <td>0.080676</td>\n",
              "      <td>0.049122</td>\n",
              "      <td>1.000000</td>\n",
              "      <td>0.201350</td>\n",
              "      <td>0.146901</td>\n",
              "      <td>0.015693</td>\n",
              "      <td>0.043998</td>\n",
              "      <td>0.017440</td>\n",
              "      <td>0.195011</td>\n",
              "      <td>-0.026670</td>\n",
              "      <td>0.138214</td>\n",
              "      <td>0.087760</td>\n",
              "    </tr>\n",
              "    <tr>\n",
              "      <th>PRE11</th>\n",
              "      <td>-0.019693</td>\n",
              "      <td>-0.100872</td>\n",
              "      <td>-0.144943</td>\n",
              "      <td>0.417692</td>\n",
              "      <td>-0.072729</td>\n",
              "      <td>0.060025</td>\n",
              "      <td>-0.072729</td>\n",
              "      <td>0.201350</td>\n",
              "      <td>1.000000</td>\n",
              "      <td>-0.035699</td>\n",
              "      <td>0.069273</td>\n",
              "      <td>0.058646</td>\n",
              "      <td>0.029607</td>\n",
              "      <td>0.117088</td>\n",
              "      <td>-0.029229</td>\n",
              "      <td>0.208639</td>\n",
              "      <td>0.086104</td>\n",
              "    </tr>\n",
              "    <tr>\n",
              "      <th>PRE14</th>\n",
              "      <td>-0.134967</td>\n",
              "      <td>0.034587</td>\n",
              "      <td>0.024633</td>\n",
              "      <td>0.091143</td>\n",
              "      <td>0.100178</td>\n",
              "      <td>0.060190</td>\n",
              "      <td>0.075733</td>\n",
              "      <td>0.146901</td>\n",
              "      <td>-0.035699</td>\n",
              "      <td>1.000000</td>\n",
              "      <td>0.037599</td>\n",
              "      <td>-0.021960</td>\n",
              "      <td>-0.020752</td>\n",
              "      <td>0.040226</td>\n",
              "      <td>-0.021960</td>\n",
              "      <td>0.020454</td>\n",
              "      <td>0.174765</td>\n",
              "    </tr>\n",
              "    <tr>\n",
              "      <th>PRE17</th>\n",
              "      <td>0.029676</td>\n",
              "      <td>-0.115562</td>\n",
              "      <td>-0.091630</td>\n",
              "      <td>0.024485</td>\n",
              "      <td>0.022421</td>\n",
              "      <td>-0.001720</td>\n",
              "      <td>-0.042893</td>\n",
              "      <td>0.015693</td>\n",
              "      <td>0.069273</td>\n",
              "      <td>0.037599</td>\n",
              "      <td>1.000000</td>\n",
              "      <td>-0.018584</td>\n",
              "      <td>0.025252</td>\n",
              "      <td>-0.038395</td>\n",
              "      <td>-0.018584</td>\n",
              "      <td>0.084274</td>\n",
              "      <td>0.108751</td>\n",
              "    </tr>\n",
              "    <tr>\n",
              "      <th>PRE19</th>\n",
              "      <td>-0.008693</td>\n",
              "      <td>-0.009222</td>\n",
              "      <td>-0.031633</td>\n",
              "      <td>0.026645</td>\n",
              "      <td>-0.017410</td>\n",
              "      <td>-0.026949</td>\n",
              "      <td>-0.017410</td>\n",
              "      <td>0.043998</td>\n",
              "      <td>0.058646</td>\n",
              "      <td>-0.021960</td>\n",
              "      <td>-0.018584</td>\n",
              "      <td>1.000000</td>\n",
              "      <td>-0.008621</td>\n",
              "      <td>0.030346</td>\n",
              "      <td>-0.004283</td>\n",
              "      <td>-0.031768</td>\n",
              "      <td>-0.027411</td>\n",
              "    </tr>\n",
              "    <tr>\n",
              "      <th>PRE25</th>\n",
              "      <td>-0.017499</td>\n",
              "      <td>-0.035767</td>\n",
              "      <td>-0.039501</td>\n",
              "      <td>0.022808</td>\n",
              "      <td>-0.035046</td>\n",
              "      <td>0.086057</td>\n",
              "      <td>0.097507</td>\n",
              "      <td>0.017440</td>\n",
              "      <td>0.029607</td>\n",
              "      <td>-0.020752</td>\n",
              "      <td>0.025252</td>\n",
              "      <td>-0.008621</td>\n",
              "      <td>1.000000</td>\n",
              "      <td>0.061086</td>\n",
              "      <td>-0.008621</td>\n",
              "      <td>0.058205</td>\n",
              "      <td>0.037244</td>\n",
              "    </tr>\n",
              "    <tr>\n",
              "      <th>PRE30</th>\n",
              "      <td>-0.108568</td>\n",
              "      <td>-0.014827</td>\n",
              "      <td>-0.105328</td>\n",
              "      <td>0.166812</td>\n",
              "      <td>-0.079014</td>\n",
              "      <td>-0.047062</td>\n",
              "      <td>-0.079014</td>\n",
              "      <td>0.195011</td>\n",
              "      <td>0.117088</td>\n",
              "      <td>0.040226</td>\n",
              "      <td>-0.038395</td>\n",
              "      <td>0.030346</td>\n",
              "      <td>0.061086</td>\n",
              "      <td>1.000000</td>\n",
              "      <td>-0.055391</td>\n",
              "      <td>0.048468</td>\n",
              "      <td>0.084477</td>\n",
              "    </tr>\n",
              "    <tr>\n",
              "      <th>PRE32</th>\n",
              "      <td>-0.008693</td>\n",
              "      <td>-0.060686</td>\n",
              "      <td>-0.061729</td>\n",
              "      <td>-0.034612</td>\n",
              "      <td>-0.017410</td>\n",
              "      <td>-0.026949</td>\n",
              "      <td>-0.017410</td>\n",
              "      <td>-0.026670</td>\n",
              "      <td>-0.029229</td>\n",
              "      <td>-0.021960</td>\n",
              "      <td>-0.018584</td>\n",
              "      <td>-0.004283</td>\n",
              "      <td>-0.008621</td>\n",
              "      <td>-0.055391</td>\n",
              "      <td>1.000000</td>\n",
              "      <td>-0.020209</td>\n",
              "      <td>-0.027411</td>\n",
              "    </tr>\n",
              "    <tr>\n",
              "      <th>AGE</th>\n",
              "      <td>0.076812</td>\n",
              "      <td>-0.303872</td>\n",
              "      <td>-0.276177</td>\n",
              "      <td>0.205167</td>\n",
              "      <td>0.043148</td>\n",
              "      <td>0.084615</td>\n",
              "      <td>-0.018493</td>\n",
              "      <td>0.138214</td>\n",
              "      <td>0.208639</td>\n",
              "      <td>0.020454</td>\n",
              "      <td>0.084274</td>\n",
              "      <td>-0.031768</td>\n",
              "      <td>0.058205</td>\n",
              "      <td>0.048468</td>\n",
              "      <td>-0.020209</td>\n",
              "      <td>1.000000</td>\n",
              "      <td>0.035523</td>\n",
              "    </tr>\n",
              "    <tr>\n",
              "      <th>Risk1Yr</th>\n",
              "      <td>0.060339</td>\n",
              "      <td>-0.046935</td>\n",
              "      <td>-0.079953</td>\n",
              "      <td>0.092124</td>\n",
              "      <td>0.057153</td>\n",
              "      <td>0.065442</td>\n",
              "      <td>0.105320</td>\n",
              "      <td>0.087760</td>\n",
              "      <td>0.086104</td>\n",
              "      <td>0.174765</td>\n",
              "      <td>0.108751</td>\n",
              "      <td>-0.027411</td>\n",
              "      <td>0.037244</td>\n",
              "      <td>0.084477</td>\n",
              "      <td>-0.027411</td>\n",
              "      <td>0.035523</td>\n",
              "      <td>1.000000</td>\n",
              "    </tr>\n",
              "  </tbody>\n",
              "</table>\n",
              "</div>"
            ],
            "text/plain": [
              "              DGN      PRE4      PRE5  ...     PRE32       AGE   Risk1Yr\n",
              "DGN      1.000000  0.121142  0.088754  ... -0.008693  0.076812  0.060339\n",
              "PRE4     0.121142  1.000000  0.562729  ... -0.060686 -0.303872 -0.046935\n",
              "PRE5     0.088754  0.562729  1.000000  ... -0.061729 -0.276177 -0.079953\n",
              "PRE6    -0.056443 -0.093207 -0.179949  ... -0.034612  0.205167  0.092124\n",
              "PRE7     0.047830  0.019455  0.119367  ... -0.017410  0.043148  0.057153\n",
              "PRE8    -0.063087 -0.096407  0.003882  ... -0.026949  0.084615  0.065442\n",
              "PRE9    -0.047222  0.055515  0.193976  ... -0.017410 -0.018493  0.105320\n",
              "PRE10   -0.076450 -0.054813 -0.144067  ... -0.026670  0.138214  0.087760\n",
              "PRE11   -0.019693 -0.100872 -0.144943  ... -0.029229  0.208639  0.086104\n",
              "PRE14   -0.134967  0.034587  0.024633  ... -0.021960  0.020454  0.174765\n",
              "PRE17    0.029676 -0.115562 -0.091630  ... -0.018584  0.084274  0.108751\n",
              "PRE19   -0.008693 -0.009222 -0.031633  ... -0.004283 -0.031768 -0.027411\n",
              "PRE25   -0.017499 -0.035767 -0.039501  ... -0.008621  0.058205  0.037244\n",
              "PRE30   -0.108568 -0.014827 -0.105328  ... -0.055391  0.048468  0.084477\n",
              "PRE32   -0.008693 -0.060686 -0.061729  ...  1.000000 -0.020209 -0.027411\n",
              "AGE      0.076812 -0.303872 -0.276177  ... -0.020209  1.000000  0.035523\n",
              "Risk1Yr  0.060339 -0.046935 -0.079953  ... -0.027411  0.035523  1.000000\n",
              "\n",
              "[17 rows x 17 columns]"
            ]
          },
          "metadata": {
            "tags": []
          },
          "execution_count": 29
        }
      ]
    },
    {
      "cell_type": "code",
      "metadata": {
        "colab": {
          "base_uri": "https://localhost:8080/",
          "height": 578
        },
        "id": "Df0qmSPc-iRo",
        "outputId": "cbe7cada-d173-4fe1-ca63-dfe135b817a0"
      },
      "source": [
        "plt.subplots(figsize=(10,10))\n",
        "sns.heatmap(df.corr(), square=True)\n",
        "plt.show()"
      ],
      "execution_count": 30,
      "outputs": [
        {
          "output_type": "display_data",
          "data": {
            "image/png": "[encoded data removed]",
            "text/plain": [
              "<Figure size 720x720 with 2 Axes>"
            ]
          },
          "metadata": {
            "tags": [],
            "needs_background": "light"
          }
        }
      ]
    },
    {
      "cell_type": "code",
      "metadata": {
        "id": "g-9n-glBASNh"
      },
      "source": [
        "X = df.drop('DGN', axis=1)\r\n",
        "y = df['DGN']"
      ],
      "execution_count": 31,
      "outputs": []
    },
    {
      "cell_type": "code",
      "metadata": {
        "colab": {
          "base_uri": "https://localhost:8080/"
        },
        "id": "RAQS2yr82MuC",
        "outputId": "132331b1-0666-46e6-ab01-7e6294e6b97f"
      },
      "source": [
        "X.shape, y.shape"
      ],
      "execution_count": 32,
      "outputs": [
        {
          "output_type": "execute_result",
          "data": {
            "text/plain": [
              "((469, 16), (469,))"
            ]
          },
          "metadata": {
            "tags": []
          },
          "execution_count": 32
        }
      ]
    },
    {
      "cell_type": "markdown",
      "metadata": {
        "id": "XcqqKiSn6j7y"
      },
      "source": [
        "Добавим полиномиальные признаки в датасет"
      ]
    },
    {
      "cell_type": "code",
      "metadata": {
        "colab": {
          "base_uri": "https://localhost:8080/"
        },
        "id": "Sz3VSRJZWJYE",
        "outputId": "7b412da6-5864-4dc3-b48d-42e31f611b74"
      },
      "source": [
        "poly = PolynomialFeatures(2)\r\n",
        "X_poly = poly.fit_transform(X)\r\n",
        "X_poly.shape"
      ],
      "execution_count": 33,
      "outputs": [
        {
          "output_type": "execute_result",
          "data": {
            "text/plain": [
              "(469, 153)"
            ]
          },
          "metadata": {
            "tags": []
          },
          "execution_count": 33
        }
      ]
    },
    {
      "cell_type": "code",
      "metadata": {
        "id": "evoceaAhALVm"
      },
      "source": [
        "X_train, X_test, y_train, y_test = train_test_split(X_poly, y, test_size=0.2, random_state=21)"
      ],
      "execution_count": 34,
      "outputs": []
    },
    {
      "cell_type": "markdown",
      "metadata": {
        "id": "d4A20Pxk6vOP"
      },
      "source": [
        "# Модели"
      ]
    },
    {
      "cell_type": "markdown",
      "metadata": {
        "id": "bTdqesRR6rjW"
      },
      "source": [
        "## Логистическая регрессия"
      ]
    },
    {
      "cell_type": "code",
      "metadata": {
        "colab": {
          "base_uri": "https://localhost:8080/"
        },
        "id": "ZmmxU_xz_TzB",
        "outputId": "40982aab-a8bc-4b66-fa76-290bb6dcf453"
      },
      "source": [
        "clf_lr = LogisticRegression(class_weight = 'balanced', max_iter=10000, random_state=21)\n",
        "clf_lr.fit(X_train, y_train)"
      ],
      "execution_count": 35,
      "outputs": [
        {
          "output_type": "stream",
          "text": [
            "/usr/local/lib/python3.6/dist-packages/sklearn/linear_model/_logistic.py:940: ConvergenceWarning: lbfgs failed to converge (status=1):\n",
            "STOP: TOTAL NO. of ITERATIONS REACHED LIMIT.\n",
            "\n",
            "Increase the number of iterations (max_iter) or scale the data as shown in:\n",
            "    https://scikit-learn.org/stable/modules/preprocessing.html\n",
            "Please also refer to the documentation for alternative solver options:\n",
            "    https://scikit-learn.org/stable/modules/linear_model.html#logistic-regression\n",
            "  extra_warning_msg=_LOGISTIC_SOLVER_CONVERGENCE_MSG)\n"
          ],
          "name": "stderr"
        },
        {
          "output_type": "execute_result",
          "data": {
            "text/plain": [
              "LogisticRegression(C=1.0, class_weight='balanced', dual=False,\n",
              "                   fit_intercept=True, intercept_scaling=1, l1_ratio=None,\n",
              "                   max_iter=10000, multi_class='auto', n_jobs=None,\n",
              "                   penalty='l2', random_state=21, solver='lbfgs', tol=0.0001,\n",
              "                   verbose=0, warm_start=False)"
            ]
          },
          "metadata": {
            "tags": []
          },
          "execution_count": 35
        }
      ]
    },
    {
      "cell_type": "code",
      "metadata": {
        "colab": {
          "base_uri": "https://localhost:8080/"
        },
        "id": "amVBXzhfAtJq",
        "outputId": "33f42e72-7230-4f71-c899-7aafd3a06653"
      },
      "source": [
        "y_pred = clf_lr.predict(X_test)\n",
        "print(metrics.classification_report(y_test, y_pred))"
      ],
      "execution_count": 36,
      "outputs": [
        {
          "output_type": "stream",
          "text": [
            "              precision    recall  f1-score   support\n",
            "\n",
            "           1       0.00      0.00      0.00         0\n",
            "           2       0.14      0.36      0.20        11\n",
            "           3       0.81      0.36      0.50        72\n",
            "           4       0.06      0.12      0.08         8\n",
            "           5       0.09      0.33      0.14         3\n",
            "           6       0.00      0.00      0.00         0\n",
            "\n",
            "    accuracy                           0.34        94\n",
            "   macro avg       0.18      0.20      0.15        94\n",
            "weighted avg       0.65      0.34      0.42        94\n",
            "\n"
          ],
          "name": "stdout"
        },
        {
          "output_type": "stream",
          "text": [
            "/usr/local/lib/python3.6/dist-packages/sklearn/metrics/_classification.py:1272: UndefinedMetricWarning: Recall and F-score are ill-defined and being set to 0.0 in labels with no true samples. Use `zero_division` parameter to control this behavior.\n",
            "  _warn_prf(average, modifier, msg_start, len(result))\n"
          ],
          "name": "stderr"
        }
      ]
    },
    {
      "cell_type": "markdown",
      "metadata": {
        "id": "xhEvCm6860w7"
      },
      "source": [
        "Плохое качество модели. Попробуем доработать данные"
      ]
    },
    {
      "cell_type": "code",
      "metadata": {
        "colab": {
          "base_uri": "https://localhost:8080/"
        },
        "id": "47vVFR5pBJio",
        "outputId": "1eaab6e8-36a1-4979-d3da-a1057169ae3e"
      },
      "source": [
        "df.DGN.value_counts()"
      ],
      "execution_count": 37,
      "outputs": [
        {
          "output_type": "execute_result",
          "data": {
            "text/plain": [
              "3    348\n",
              "2     52\n",
              "4     47\n",
              "5     15\n",
              "6      4\n",
              "8      2\n",
              "1      1\n",
              "Name: DGN, dtype: int64"
            ]
          },
          "metadata": {
            "tags": []
          },
          "execution_count": 37
        }
      ]
    },
    {
      "cell_type": "markdown",
      "metadata": {
        "id": "jfsxy9TAHKu3"
      },
      "source": [
        "Объединим дигнозы с малым количеством значений в один класс"
      ]
    },
    {
      "cell_type": "code",
      "metadata": {
        "id": "1cvvluid4DN4"
      },
      "source": [
        "df.loc[df['DGN'].isin([1, 5, 6, 8]), 'DGN'] = 0"
      ],
      "execution_count": 38,
      "outputs": []
    },
    {
      "cell_type": "code",
      "metadata": {
        "id": "Doh5rdPlG7d8"
      },
      "source": [
        "X = df.drop('DGN', axis=1)\r\n",
        "y = df['DGN']"
      ],
      "execution_count": 39,
      "outputs": []
    },
    {
      "cell_type": "code",
      "metadata": {
        "colab": {
          "base_uri": "https://localhost:8080/"
        },
        "id": "PCdnArf2AvS7",
        "outputId": "68f7a1f2-8b09-4b5a-c0f8-6506510ec795"
      },
      "source": [
        "poly = PolynomialFeatures(2)\r\n",
        "X_poly = poly.fit_transform(X)\r\n",
        "X_poly.shape"
      ],
      "execution_count": 40,
      "outputs": [
        {
          "output_type": "execute_result",
          "data": {
            "text/plain": [
              "(469, 153)"
            ]
          },
          "metadata": {
            "tags": []
          },
          "execution_count": 40
        }
      ]
    },
    {
      "cell_type": "code",
      "metadata": {
        "id": "GwNws59sHUe3"
      },
      "source": [
        "X_train, X_test, y_train, y_test = train_test_split(X_poly, y, test_size=0.2, stratify=y, random_state=21)"
      ],
      "execution_count": 41,
      "outputs": []
    },
    {
      "cell_type": "markdown",
      "metadata": {
        "id": "_gUB98dE7DSj"
      },
      "source": [
        "Сделаем аугментацию данных"
      ]
    },
    {
      "cell_type": "code",
      "metadata": {
        "colab": {
          "base_uri": "https://localhost:8080/"
        },
        "id": "R2MEUSJlJTGU",
        "outputId": "481fe0cf-1982-4d72-c370-0e34d432a7d5"
      },
      "source": [
        "augm = ADASYN()\r\n",
        "X_train_augm, y_train_augm = augm.fit_resample(np.array(X_train), np.array(y_train))"
      ],
      "execution_count": 42,
      "outputs": [
        {
          "output_type": "stream",
          "text": [
            "/usr/local/lib/python3.6/dist-packages/sklearn/utils/deprecation.py:87: FutureWarning: Function safe_indexing is deprecated; safe_indexing is deprecated in version 0.22 and will be removed in version 0.24.\n",
            "  warnings.warn(msg, category=FutureWarning)\n",
            "/usr/local/lib/python3.6/dist-packages/sklearn/utils/deprecation.py:87: FutureWarning: Function safe_indexing is deprecated; safe_indexing is deprecated in version 0.22 and will be removed in version 0.24.\n",
            "  warnings.warn(msg, category=FutureWarning)\n",
            "/usr/local/lib/python3.6/dist-packages/sklearn/utils/deprecation.py:87: FutureWarning: Function safe_indexing is deprecated; safe_indexing is deprecated in version 0.22 and will be removed in version 0.24.\n",
            "  warnings.warn(msg, category=FutureWarning)\n"
          ],
          "name": "stderr"
        }
      ]
    },
    {
      "cell_type": "code",
      "metadata": {
        "colab": {
          "base_uri": "https://localhost:8080/"
        },
        "id": "UiqUtZlbKbIN",
        "outputId": "c5acb98e-7a58-41da-f791-0233fb75e049"
      },
      "source": [
        "X_train_augm.shape, y_train_augm.shape"
      ],
      "execution_count": 43,
      "outputs": [
        {
          "output_type": "execute_result",
          "data": {
            "text/plain": [
              "((1113, 153), (1113,))"
            ]
          },
          "metadata": {
            "tags": []
          },
          "execution_count": 43
        }
      ]
    },
    {
      "cell_type": "markdown",
      "metadata": {
        "id": "n2luSs6U7R_P"
      },
      "source": [
        "Теперь классы сбалансированы"
      ]
    },
    {
      "cell_type": "code",
      "metadata": {
        "colab": {
          "base_uri": "https://localhost:8080/",
          "height": 366
        },
        "id": "R3ja3BUXKj0c",
        "outputId": "80eec8eb-ec02-4e91-b2e6-03c1fab55301"
      },
      "source": [
        "ax = sns.countplot(y_train_augm)\r\n",
        "ax.set_title('y_train_augm')\r\n",
        "ax.set_ylabel('count')\r\n",
        "ax.set_xlabel('classes')"
      ],
      "execution_count": 44,
      "outputs": [
        {
          "output_type": "stream",
          "text": [
            "/usr/local/lib/python3.6/dist-packages/seaborn/_decorators.py:43: FutureWarning: Pass the following variable as a keyword arg: x. From version 0.12, the only valid positional argument will be `data`, and passing other arguments without an explicit keyword will result in an error or misinterpretation.\n",
            "  FutureWarning\n"
          ],
          "name": "stderr"
        },
        {
          "output_type": "execute_result",
          "data": {
            "text/plain": [
              "Text(0.5, 0, 'classes')"
            ]
          },
          "metadata": {
            "tags": []
          },
          "execution_count": 44
        },
        {
          "output_type": "display_data",
          "data": {
            "image/png": "[encoded data removed]",
            "text/plain": [
              "<Figure size 432x288 with 1 Axes>"
            ]
          },
          "metadata": {
            "tags": [],
            "needs_background": "light"
          }
        }
      ]
    },
    {
      "cell_type": "code",
      "metadata": {
        "colab": {
          "base_uri": "https://localhost:8080/"
        },
        "id": "ZhsK7C6pHW2J",
        "outputId": "3e7b344f-ba13-4db0-f21d-1b6879293921"
      },
      "source": [
        "clf_lr = LogisticRegression(max_iter=10000, random_state=21)\r\n",
        "clf_lr.fit(X_train_augm, y_train_augm)"
      ],
      "execution_count": 45,
      "outputs": [
        {
          "output_type": "stream",
          "text": [
            "/usr/local/lib/python3.6/dist-packages/sklearn/linear_model/_logistic.py:940: ConvergenceWarning: lbfgs failed to converge (status=1):\n",
            "STOP: TOTAL NO. of ITERATIONS REACHED LIMIT.\n",
            "\n",
            "Increase the number of iterations (max_iter) or scale the data as shown in:\n",
            "    https://scikit-learn.org/stable/modules/preprocessing.html\n",
            "Please also refer to the documentation for alternative solver options:\n",
            "    https://scikit-learn.org/stable/modules/linear_model.html#logistic-regression\n",
            "  extra_warning_msg=_LOGISTIC_SOLVER_CONVERGENCE_MSG)\n"
          ],
          "name": "stderr"
        },
        {
          "output_type": "execute_result",
          "data": {
            "text/plain": [
              "LogisticRegression(C=1.0, class_weight=None, dual=False, fit_intercept=True,\n",
              "                   intercept_scaling=1, l1_ratio=None, max_iter=10000,\n",
              "                   multi_class='auto', n_jobs=None, penalty='l2',\n",
              "                   random_state=21, solver='lbfgs', tol=0.0001, verbose=0,\n",
              "                   warm_start=False)"
            ]
          },
          "metadata": {
            "tags": []
          },
          "execution_count": 45
        }
      ]
    },
    {
      "cell_type": "code",
      "metadata": {
        "colab": {
          "base_uri": "https://localhost:8080/"
        },
        "id": "CtgtlzIuHYvg",
        "outputId": "4eddf303-0562-414d-f336-db03cbd2446e"
      },
      "source": [
        "y_pred = clf_lr.predict(X_test)\r\n",
        "print(metrics.classification_report(y_test, y_pred))"
      ],
      "execution_count": 46,
      "outputs": [
        {
          "output_type": "stream",
          "text": [
            "              precision    recall  f1-score   support\n",
            "\n",
            "           0       0.10      0.25      0.14         4\n",
            "           2       0.12      0.27      0.16        11\n",
            "           3       0.79      0.47      0.59        70\n",
            "           4       0.19      0.33      0.24         9\n",
            "\n",
            "    accuracy                           0.43        94\n",
            "   macro avg       0.30      0.33      0.28        94\n",
            "weighted avg       0.62      0.43      0.49        94\n",
            "\n"
          ],
          "name": "stdout"
        }
      ]
    },
    {
      "cell_type": "markdown",
      "metadata": {
        "id": "27789mAD7WJ-"
      },
      "source": [
        "Модель работает гораздо лучше"
      ]
    },
    {
      "cell_type": "markdown",
      "metadata": {
        "id": "e2JPSf7c7Zdj"
      },
      "source": [
        "## knn"
      ]
    },
    {
      "cell_type": "code",
      "metadata": {
        "colab": {
          "base_uri": "https://localhost:8080/"
        },
        "id": "bXQ33CZDIYhR",
        "outputId": "27aa2afd-5278-4926-aeb7-6cd5cebf1390"
      },
      "source": [
        "clf_knn = KNeighborsClassifier()\r\n",
        "clf_knn.fit(X_train_augm, y_train_augm)"
      ],
      "execution_count": 47,
      "outputs": [
        {
          "output_type": "execute_result",
          "data": {
            "text/plain": [
              "KNeighborsClassifier(algorithm='auto', leaf_size=30, metric='minkowski',\n",
              "                     metric_params=None, n_jobs=None, n_neighbors=5, p=2,\n",
              "                     weights='uniform')"
            ]
          },
          "metadata": {
            "tags": []
          },
          "execution_count": 47
        }
      ]
    },
    {
      "cell_type": "code",
      "metadata": {
        "colab": {
          "base_uri": "https://localhost:8080/"
        },
        "id": "EzRYvUYIwbq9",
        "outputId": "1a877fb1-b37c-4ae0-8f1c-52038368070c"
      },
      "source": [
        "y_pred = clf_knn.predict(X_test)\r\n",
        "print(metrics.classification_report(y_test, y_pred))"
      ],
      "execution_count": 48,
      "outputs": [
        {
          "output_type": "stream",
          "text": [
            "              precision    recall  f1-score   support\n",
            "\n",
            "           0       0.00      0.00      0.00         4\n",
            "           2       0.11      0.18      0.13        11\n",
            "           3       0.72      0.41      0.53        70\n",
            "           4       0.04      0.11      0.06         9\n",
            "\n",
            "    accuracy                           0.34        94\n",
            "   macro avg       0.22      0.18      0.18        94\n",
            "weighted avg       0.56      0.34      0.41        94\n",
            "\n"
          ],
          "name": "stdout"
        }
      ]
    },
    {
      "cell_type": "markdown",
      "metadata": {
        "id": "Kgjl-p-r7hr9"
      },
      "source": [
        "## Random Forest"
      ]
    },
    {
      "cell_type": "code",
      "metadata": {
        "colab": {
          "base_uri": "https://localhost:8080/"
        },
        "id": "Bg7wgBLpwkYT",
        "outputId": "d7b27278-bc26-45cf-ecd6-06a8e31fe6a8"
      },
      "source": [
        "clf_rfc = RandomForestClassifier(random_state=21)\r\n",
        "clf_rfc.fit(X_train_augm, y_train_augm)"
      ],
      "execution_count": 49,
      "outputs": [
        {
          "output_type": "execute_result",
          "data": {
            "text/plain": [
              "RandomForestClassifier(bootstrap=True, ccp_alpha=0.0, class_weight=None,\n",
              "                       criterion='gini', max_depth=None, max_features='auto',\n",
              "                       max_leaf_nodes=None, max_samples=None,\n",
              "                       min_impurity_decrease=0.0, min_impurity_split=None,\n",
              "                       min_samples_leaf=1, min_samples_split=2,\n",
              "                       min_weight_fraction_leaf=0.0, n_estimators=100,\n",
              "                       n_jobs=None, oob_score=False, random_state=21, verbose=0,\n",
              "                       warm_start=False)"
            ]
          },
          "metadata": {
            "tags": []
          },
          "execution_count": 49
        }
      ]
    },
    {
      "cell_type": "code",
      "metadata": {
        "colab": {
          "base_uri": "https://localhost:8080/"
        },
        "id": "4GULMIEZxG_r",
        "outputId": "2d31424d-2e83-4d16-a37d-551c42aada80"
      },
      "source": [
        "y_pred = clf_rfc.predict(X_test)\r\n",
        "print(metrics.classification_report(y_test, y_pred))"
      ],
      "execution_count": 50,
      "outputs": [
        {
          "output_type": "stream",
          "text": [
            "              precision    recall  f1-score   support\n",
            "\n",
            "           0       0.00      0.00      0.00         4\n",
            "           2       0.12      0.09      0.11        11\n",
            "           3       0.76      0.86      0.81        70\n",
            "           4       0.17      0.11      0.13         9\n",
            "\n",
            "    accuracy                           0.66        94\n",
            "   macro avg       0.26      0.26      0.26        94\n",
            "weighted avg       0.60      0.66      0.62        94\n",
            "\n"
          ],
          "name": "stdout"
        }
      ]
    },
    {
      "cell_type": "markdown",
      "metadata": {
        "id": "1tkvt89r7mZ_"
      },
      "source": [
        "## SVC"
      ]
    },
    {
      "cell_type": "code",
      "metadata": {
        "colab": {
          "base_uri": "https://localhost:8080/"
        },
        "id": "vZQNSqGkxJpT",
        "outputId": "fbd3c8fc-b909-461a-e0cc-28e3d5005903"
      },
      "source": [
        "svc_lin = SVC(kernel='linear', probability=True)\r\n",
        "svc_lin.fit(X_train_augm, y_train_augm)"
      ],
      "execution_count": 51,
      "outputs": [
        {
          "output_type": "execute_result",
          "data": {
            "text/plain": [
              "SVC(C=1.0, break_ties=False, cache_size=200, class_weight=None, coef0=0.0,\n",
              "    decision_function_shape='ovr', degree=3, gamma='scale', kernel='linear',\n",
              "    max_iter=-1, probability=True, random_state=None, shrinking=True, tol=0.001,\n",
              "    verbose=False)"
            ]
          },
          "metadata": {
            "tags": []
          },
          "execution_count": 51
        }
      ]
    },
    {
      "cell_type": "code",
      "metadata": {
        "colab": {
          "base_uri": "https://localhost:8080/"
        },
        "id": "34KTPhmzxjtT",
        "outputId": "a10b5138-6ecc-4f0a-e3fc-81a6ca6295a6"
      },
      "source": [
        "y_pred = svc_lin.predict(X_test)\r\n",
        "print(metrics.classification_report(y_test, y_pred))"
      ],
      "execution_count": 52,
      "outputs": [
        {
          "output_type": "stream",
          "text": [
            "              precision    recall  f1-score   support\n",
            "\n",
            "           0       0.09      0.25      0.13         4\n",
            "           2       0.09      0.18      0.12        11\n",
            "           3       0.81      0.50      0.62        70\n",
            "           4       0.17      0.33      0.22         9\n",
            "\n",
            "    accuracy                           0.44        94\n",
            "   macro avg       0.29      0.32      0.27        94\n",
            "weighted avg       0.64      0.44      0.50        94\n",
            "\n"
          ],
          "name": "stdout"
        }
      ]
    },
    {
      "cell_type": "code",
      "metadata": {
        "colab": {
          "base_uri": "https://localhost:8080/"
        },
        "id": "RYsPXZQTxmeb",
        "outputId": "3cdc9716-9ef1-4e88-bd05-22c911826878"
      },
      "source": [
        "svc_rbf = SVC(kernel='rbf', probability=True, gamma=10)\r\n",
        "svc_rbf.fit(X_train_augm, y_train_augm)"
      ],
      "execution_count": 53,
      "outputs": [
        {
          "output_type": "execute_result",
          "data": {
            "text/plain": [
              "SVC(C=1.0, break_ties=False, cache_size=200, class_weight=None, coef0=0.0,\n",
              "    decision_function_shape='ovr', degree=3, gamma=10, kernel='rbf',\n",
              "    max_iter=-1, probability=True, random_state=None, shrinking=True, tol=0.001,\n",
              "    verbose=False)"
            ]
          },
          "metadata": {
            "tags": []
          },
          "execution_count": 53
        }
      ]
    },
    {
      "cell_type": "code",
      "metadata": {
        "colab": {
          "base_uri": "https://localhost:8080/"
        },
        "id": "0S4QkN5sxvMM",
        "outputId": "896cc887-ad29-48cd-f183-ab4fe9565300"
      },
      "source": [
        "y_pred = svc_rbf.predict(X_test)\r\n",
        "print(metrics.classification_report(y_test, y_pred))"
      ],
      "execution_count": 54,
      "outputs": [
        {
          "output_type": "stream",
          "text": [
            "              precision    recall  f1-score   support\n",
            "\n",
            "           0       0.04      1.00      0.08         4\n",
            "           2       0.00      0.00      0.00        11\n",
            "           3       0.00      0.00      0.00        70\n",
            "           4       0.00      0.00      0.00         9\n",
            "\n",
            "    accuracy                           0.04        94\n",
            "   macro avg       0.01      0.25      0.02        94\n",
            "weighted avg       0.00      0.04      0.00        94\n",
            "\n"
          ],
          "name": "stdout"
        },
        {
          "output_type": "stream",
          "text": [
            "/usr/local/lib/python3.6/dist-packages/sklearn/metrics/_classification.py:1272: UndefinedMetricWarning: Precision and F-score are ill-defined and being set to 0.0 in labels with no predicted samples. Use `zero_division` parameter to control this behavior.\n",
            "  _warn_prf(average, modifier, msg_start, len(result))\n"
          ],
          "name": "stderr"
        }
      ]
    },
    {
      "cell_type": "code",
      "metadata": {
        "colab": {
          "base_uri": "https://localhost:8080/"
        },
        "id": "8sHzDzdAx3nT",
        "outputId": "77661263-9d97-4d3a-d52c-c63f1f8a9d9d"
      },
      "source": [
        "svc_poly = SVC(kernel='poly', probability=True)\r\n",
        "svc_poly.fit(X_train_augm, y_train_augm)"
      ],
      "execution_count": 55,
      "outputs": [
        {
          "output_type": "execute_result",
          "data": {
            "text/plain": [
              "SVC(C=1.0, break_ties=False, cache_size=200, class_weight=None, coef0=0.0,\n",
              "    decision_function_shape='ovr', degree=3, gamma='scale', kernel='poly',\n",
              "    max_iter=-1, probability=True, random_state=None, shrinking=True, tol=0.001,\n",
              "    verbose=False)"
            ]
          },
          "metadata": {
            "tags": []
          },
          "execution_count": 55
        }
      ]
    },
    {
      "cell_type": "code",
      "metadata": {
        "colab": {
          "base_uri": "https://localhost:8080/"
        },
        "id": "EnBCx3JJyEQi",
        "outputId": "a893e9ff-f917-4d5e-f528-3da10bbecd52"
      },
      "source": [
        "y_pred = svc_poly.predict(X_test)\r\n",
        "print(metrics.classification_report(y_test, y_pred))"
      ],
      "execution_count": 56,
      "outputs": [
        {
          "output_type": "stream",
          "text": [
            "              precision    recall  f1-score   support\n",
            "\n",
            "           0       0.01      0.25      0.03         4\n",
            "           2       0.00      0.00      0.00        11\n",
            "           3       0.00      0.00      0.00        70\n",
            "           4       0.04      0.11      0.06         9\n",
            "\n",
            "    accuracy                           0.02        94\n",
            "   macro avg       0.01      0.09      0.02        94\n",
            "weighted avg       0.00      0.02      0.01        94\n",
            "\n"
          ],
          "name": "stdout"
        },
        {
          "output_type": "stream",
          "text": [
            "/usr/local/lib/python3.6/dist-packages/sklearn/metrics/_classification.py:1272: UndefinedMetricWarning: Precision and F-score are ill-defined and being set to 0.0 in labels with no predicted samples. Use `zero_division` parameter to control this behavior.\n",
            "  _warn_prf(average, modifier, msg_start, len(result))\n"
          ],
          "name": "stderr"
        }
      ]
    },
    {
      "cell_type": "markdown",
      "metadata": {
        "id": "BR4AYkOw7zA5"
      },
      "source": [
        "## RandomizedSearchCV"
      ]
    },
    {
      "cell_type": "markdown",
      "metadata": {
        "id": "UjymlPa_74pk"
      },
      "source": [
        "Попробуем повысить качество модели Random Forest, т.к. она показала лучший результат"
      ]
    },
    {
      "cell_type": "code",
      "metadata": {
        "colab": {
          "base_uri": "https://localhost:8080/"
        },
        "id": "ITx_0wBUyJ86",
        "outputId": "c3090393-4fe6-48a9-ebec-3fc388d0c6be"
      },
      "source": [
        "params = {'n_estimators': np.array(np.linspace(100, 1000, 10), dtype='int'),\r\n",
        "          'max_features': ['log2', 'sqrt'],\r\n",
        "          'max_depth': np.array(np.linspace(1, 20, 20), dtype='int'),\r\n",
        "          'min_samples_split': np.array(np.linspace(1, 50, 25), dtype='int'),\r\n",
        "          'min_samples_leaf': np.array(np.linspace(1, 50, 25), dtype='int'),\r\n",
        "          'bootstrap': [True, False]}\r\n",
        "rs_rfc = RandomizedSearchCV(clf_rfc,\r\n",
        "                            params,\r\n",
        "                            n_iter=1000,\r\n",
        "                            cv=5,\r\n",
        "                            verbose=1,\r\n",
        "                            n_jobs=-1,\r\n",
        "                            random_state=21)\r\n",
        "rs_rfc.fit(X_train_augm, y_train_augm)\r\n",
        "rs_rfc.best_params_"
      ],
      "execution_count": 57,
      "outputs": [
        {
          "output_type": "stream",
          "text": [
            "Fitting 5 folds for each of 1000 candidates, totalling 5000 fits\n"
          ],
          "name": "stdout"
        },
        {
          "output_type": "stream",
          "text": [
            "[Parallel(n_jobs=-1)]: Using backend LokyBackend with 2 concurrent workers.\n",
            "[Parallel(n_jobs=-1)]: Done  46 tasks      | elapsed:   38.5s\n",
            "[Parallel(n_jobs=-1)]: Done 196 tasks      | elapsed:  2.9min\n",
            "[Parallel(n_jobs=-1)]: Done 446 tasks      | elapsed:  6.5min\n",
            "[Parallel(n_jobs=-1)]: Done 796 tasks      | elapsed: 11.3min\n",
            "[Parallel(n_jobs=-1)]: Done 1246 tasks      | elapsed: 18.3min\n",
            "[Parallel(n_jobs=-1)]: Done 1796 tasks      | elapsed: 26.2min\n",
            "[Parallel(n_jobs=-1)]: Done 2446 tasks      | elapsed: 35.1min\n",
            "[Parallel(n_jobs=-1)]: Done 3196 tasks      | elapsed: 46.5min\n",
            "[Parallel(n_jobs=-1)]: Done 4046 tasks      | elapsed: 60.0min\n",
            "[Parallel(n_jobs=-1)]: Done 4996 tasks      | elapsed: 73.8min\n",
            "[Parallel(n_jobs=-1)]: Done 5000 out of 5000 | elapsed: 73.8min finished\n"
          ],
          "name": "stderr"
        },
        {
          "output_type": "execute_result",
          "data": {
            "text/plain": [
              "{'bootstrap': False,\n",
              " 'max_depth': 15,\n",
              " 'max_features': 'log2',\n",
              " 'min_samples_leaf': 1,\n",
              " 'min_samples_split': 5,\n",
              " 'n_estimators': 400}"
            ]
          },
          "metadata": {
            "tags": []
          },
          "execution_count": 57
        }
      ]
    },
    {
      "cell_type": "markdown",
      "metadata": {
        "id": "db_dV7kH8H_N"
      },
      "source": [
        "Для GridSearchCV будем использовать диапазоны, которые рядом с лучшими параметрами из RandomizedSearchCV"
      ]
    },
    {
      "cell_type": "code",
      "metadata": {
        "colab": {
          "base_uri": "https://localhost:8080/"
        },
        "id": "onpLSkZv4AVR",
        "outputId": "511f8d15-ed96-4df2-8000-92b3dbf102ba"
      },
      "source": [
        "params = {'n_estimators': np.array(np.linspace(350, 450, 10), dtype='int'),\r\n",
        "          'max_features': ['log2'],\r\n",
        "          'max_depth': np.array(np.linspace(14, 16, 3), dtype='int'),\r\n",
        "          'min_samples_split': np.array(np.linspace(3, 7, 5), dtype='int'),\r\n",
        "          'min_samples_leaf': np.array(np.linspace(1, 3, 3), dtype='int'),\r\n",
        "          'bootstrap': [False]}\r\n",
        "gs_rfc = GridSearchCV(clf_rfc,\r\n",
        "                      params,\r\n",
        "                      cv=5,\r\n",
        "                      verbose=1,\r\n",
        "                      n_jobs=-1)\r\n",
        "gs_rfc.fit(X_train_augm, y_train_augm)"
      ],
      "execution_count": 58,
      "outputs": [
        {
          "output_type": "stream",
          "text": [
            "Fitting 5 folds for each of 450 candidates, totalling 2250 fits\n"
          ],
          "name": "stdout"
        },
        {
          "output_type": "stream",
          "text": [
            "[Parallel(n_jobs=-1)]: Using backend LokyBackend with 2 concurrent workers.\n",
            "[Parallel(n_jobs=-1)]: Done  46 tasks      | elapsed:   39.1s\n",
            "[Parallel(n_jobs=-1)]: Done 196 tasks      | elapsed:  2.8min\n",
            "[Parallel(n_jobs=-1)]: Done 446 tasks      | elapsed:  6.2min\n",
            "[Parallel(n_jobs=-1)]: Done 796 tasks      | elapsed: 10.9min\n",
            "[Parallel(n_jobs=-1)]: Done 1246 tasks      | elapsed: 17.2min\n",
            "[Parallel(n_jobs=-1)]: Done 1796 tasks      | elapsed: 24.7min\n",
            "[Parallel(n_jobs=-1)]: Done 2250 out of 2250 | elapsed: 30.8min finished\n"
          ],
          "name": "stderr"
        },
        {
          "output_type": "execute_result",
          "data": {
            "text/plain": [
              "GridSearchCV(cv=5, error_score=nan,\n",
              "             estimator=RandomForestClassifier(bootstrap=True, ccp_alpha=0.0,\n",
              "                                              class_weight=None,\n",
              "                                              criterion='gini', max_depth=None,\n",
              "                                              max_features='auto',\n",
              "                                              max_leaf_nodes=None,\n",
              "                                              max_samples=None,\n",
              "                                              min_impurity_decrease=0.0,\n",
              "                                              min_impurity_split=None,\n",
              "                                              min_samples_leaf=1,\n",
              "                                              min_samples_split=2,\n",
              "                                              min_weight_fraction_leaf=0.0,\n",
              "                                              n_estimators=100, n_jobs=None,...\n",
              "                                              verbose=0, warm_start=False),\n",
              "             iid='deprecated', n_jobs=-1,\n",
              "             param_grid={'bootstrap': [False], 'max_depth': array([14, 15, 16]),\n",
              "                         'max_features': ['log2'],\n",
              "                         'min_samples_leaf': array([1, 2, 3]),\n",
              "                         'min_samples_split': array([3, 4, 5, 6, 7]),\n",
              "                         'n_estimators': array([350, 361, 372, 383, 394, 405, 416, 427, 438, 450])},\n",
              "             pre_dispatch='2*n_jobs', refit=True, return_train_score=False,\n",
              "             scoring=None, verbose=1)"
            ]
          },
          "metadata": {
            "tags": []
          },
          "execution_count": 58
        }
      ]
    },
    {
      "cell_type": "code",
      "metadata": {
        "colab": {
          "base_uri": "https://localhost:8080/"
        },
        "id": "suvsQQMxPfuQ",
        "outputId": "a166e47c-1e74-4f04-852c-417e3773c209"
      },
      "source": [
        "gs_rfc.best_params_, gs_rfc.best_score_"
      ],
      "execution_count": 59,
      "outputs": [
        {
          "output_type": "execute_result",
          "data": {
            "text/plain": [
              "({'bootstrap': False,\n",
              "  'max_depth': 16,\n",
              "  'max_features': 'log2',\n",
              "  'min_samples_leaf': 1,\n",
              "  'min_samples_split': 4,\n",
              "  'n_estimators': 350},\n",
              " 0.8383913061043105)"
            ]
          },
          "metadata": {
            "tags": []
          },
          "execution_count": 59
        }
      ]
    },
    {
      "cell_type": "code",
      "metadata": {
        "id": "9jFlty-mP5JN"
      },
      "source": [
        "final_model = RandomForestClassifier(n_estimators=gs_rfc.best_params_['n_estimators'],\r\n",
        "                                     max_features=gs_rfc.best_params_['max_features'],\r\n",
        "                                     max_depth=gs_rfc.best_params_['max_depth'],\r\n",
        "                                     min_samples_split=gs_rfc.best_params_['min_samples_split'],\r\n",
        "                                     min_samples_leaf=gs_rfc.best_params_['min_samples_leaf'],\r\n",
        "                                     bootstrap=gs_rfc.best_params_['bootstrap'],\r\n",
        "                                     random_state=21)\r\n",
        "final_model = final_model.fit(X_train_augm, y_train_augm)"
      ],
      "execution_count": 60,
      "outputs": []
    },
    {
      "cell_type": "code",
      "metadata": {
        "colab": {
          "base_uri": "https://localhost:8080/"
        },
        "id": "o3CT4hm84XDJ",
        "outputId": "412bf4d4-6cc2-4cb4-fb61-8c7f021bbe44"
      },
      "source": [
        "y_pred = final_model.predict(X_test)\r\n",
        "print(metrics.classification_report(y_test, y_pred))"
      ],
      "execution_count": 61,
      "outputs": [
        {
          "output_type": "stream",
          "text": [
            "              precision    recall  f1-score   support\n",
            "\n",
            "           0       0.00      0.00      0.00         4\n",
            "           2       0.14      0.09      0.11        11\n",
            "           3       0.76      0.84      0.80        70\n",
            "           4       0.12      0.11      0.12         9\n",
            "\n",
            "    accuracy                           0.65        94\n",
            "   macro avg       0.26      0.26      0.26        94\n",
            "weighted avg       0.59      0.65      0.62        94\n",
            "\n"
          ],
          "name": "stdout"
        }
      ]
    },
    {
      "cell_type": "markdown",
      "metadata": {
        "id": "Eqi0fYOb8XAm"
      },
      "source": [
        "Лучше других сработала модель Random Forest с подобранными параметрами. Но не все классы целевой переменной удается предсказывать, что связано с малым объемом и качеством данных."
      ]
    }
  ]
}