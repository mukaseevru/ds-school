{
  "nbformat": 4,
  "nbformat_minor": 0,
  "metadata": {
    "colab": {
      "name": "Part_1_HW_Write_our_own_library.ipynb",
      "provenance": [],
      "collapsed_sections": [],
      "include_colab_link": true
    },
    "kernelspec": {
      "name": "python3",
      "display_name": "Python 3"
    }
  },
  "cells": [
    {
      "cell_type": "markdown",
      "metadata": {
        "id": "view-in-github",
        "colab_type": "text"
      },
      "source": [
        "<a href=\"https://colab.research.google.com/github/mukaseevru/ds-school/blob/main/hw_intermediate/Part_1_HW_Write_our_own_library.ipynb\" target=\"_parent\"><img src=\"https://colab.research.google.com/assets/colab-badge.svg\" alt=\"Open In Colab\"/></a>"
      ]
    },
    {
      "cell_type": "markdown",
      "metadata": {
        "id": "-PkQ9hSoulSP"
      },
      "source": [
        "## Домашнее задание. Часть 1.\n",
        "\n",
        "- напишем свою собственную библиотеку\n",
        "\n",
        "Вего за эту часть ДЗ можно набрать максимум **11.5 баллов**. Разбиение баллов по каждой из задач представлено непосредственно перед текстом каждой задачи.\n",
        "\n",
        "**Дедлайн - пятница, 11.12.2020 в 23:59.**\n",
        "\n",
        "Дедлайн жесткий, сдача после дедлайна - 0 баллов за ДЗ."
      ]
    },
    {
      "cell_type": "markdown",
      "metadata": {
        "id": "raMUrDs_OUUp"
      },
      "source": [
        "Ссылка на ноутбук в колабе: https://colab.research.google.com/drive/1LgWtESFmiNW1WlVFCHKyNl_BxAWxoL3Z?usp=sharing"
      ]
    },
    {
      "cell_type": "markdown",
      "metadata": {
        "id": "DlJPKMxvBZDq"
      },
      "source": [
        "Допустим мы хотим написать фнкцию, которая складывает 2 числа и сохранить ее в отдельный .py файл. Пример:"
      ]
    },
    {
      "cell_type": "code",
      "metadata": {
        "colab": {
          "base_uri": "https://localhost:8080/"
        },
        "id": "YWxx_tJFBWXc",
        "outputId": "44ded129-8f45-481b-c396-5ad09a80d9e9"
      },
      "source": [
        "%%writefile lib.py\n",
        "def summ(a1, b1):\n",
        "    return a1+b1"
      ],
      "execution_count": 1,
      "outputs": [
        {
          "output_type": "stream",
          "text": [
            "Overwriting lib.py\n"
          ],
          "name": "stdout"
        }
      ]
    },
    {
      "cell_type": "code",
      "metadata": {
        "id": "GpwqwV2XBWe0"
      },
      "source": [
        "from lib import summ"
      ],
      "execution_count": 2,
      "outputs": []
    },
    {
      "cell_type": "code",
      "metadata": {
        "colab": {
          "base_uri": "https://localhost:8080/"
        },
        "id": "PdSwrEkYud_1",
        "outputId": "95dd85c5-7a4c-43dd-8ade-b2606dee6649"
      },
      "source": [
        "summ(2,6)"
      ],
      "execution_count": 3,
      "outputs": [
        {
          "output_type": "execute_result",
          "data": {
            "text/plain": [
              "8"
            ]
          },
          "metadata": {
            "tags": []
          },
          "execution_count": 3
        }
      ]
    },
    {
      "cell_type": "markdown",
      "metadata": {
        "id": "lzVEq6dcB_B6"
      },
      "source": [
        "Попробуем запустить через \"терминал\""
      ]
    },
    {
      "cell_type": "code",
      "metadata": {
        "id": "GnvjY52dB9F0"
      },
      "source": [
        "!python3 lib.py"
      ],
      "execution_count": 4,
      "outputs": []
    },
    {
      "cell_type": "markdown",
      "metadata": {
        "id": "12k4C-iDCGD5"
      },
      "source": [
        "Ничего не происходит. А теперь добавим `if __name__ == \"__main__\"` в наш код и пересохраним файл lib.py"
      ]
    },
    {
      "cell_type": "code",
      "metadata": {
        "colab": {
          "base_uri": "https://localhost:8080/"
        },
        "id": "EXxDy4EoujyT",
        "outputId": "7cfaf47a-b861-4fca-f9f7-48ea859340b8"
      },
      "source": [
        "%%writefile lib.py\n",
        "import sys\n",
        "\n",
        "a1 = float( sys.argv[1] ) # Считываем аргументы прямо из терминала\n",
        "b1 = float( sys.argv[2] ) # Считываем аргументы прямо из терминала\n",
        "\n",
        "def summ(a1, b1):\n",
        "    return a1+b1\n",
        "\n",
        "if __name__ == \"__main__\":\n",
        "    print(summ(a1, b1))\n"
      ],
      "execution_count": 5,
      "outputs": [
        {
          "output_type": "stream",
          "text": [
            "Overwriting lib.py\n"
          ],
          "name": "stdout"
        }
      ]
    },
    {
      "cell_type": "code",
      "metadata": {
        "colab": {
          "base_uri": "https://localhost:8080/"
        },
        "id": "9kg9IKcWuj1F",
        "outputId": "f84aacdc-01f4-46f3-fece-1f5d5e8174db"
      },
      "source": [
        "!python3 lib.py 2 4"
      ],
      "execution_count": 6,
      "outputs": [
        {
          "output_type": "stream",
          "text": [
            "6.0\n"
          ],
          "name": "stdout"
        }
      ]
    },
    {
      "cell_type": "markdown",
      "metadata": {
        "id": "MEQd0OJnD4ut"
      },
      "source": [
        "# **Задание 1**\n",
        "\n",
        "Реализуйте следующие функции и сохраните их в библиотеку **my_math_lib.py** (пока без использования конструкции `if __name__ == \"__main__\"`)"
      ]
    },
    {
      "cell_type": "markdown",
      "metadata": {
        "id": "-irvYNmrD9FA"
      },
      "source": [
        "**1 point** \n",
        "1. **def deg_to_rad()**. Напишите программу на Python для преобразования градусов в радианы.  *(Note: Радиан - это стандартная единица измерения угла, используемая во многих областях математики. Измерение угла в радианах численно равно длине соответствующей дуги единичного круга; один радиан чуть меньше 57,3 градуса)* **1 point**\n",
        "\n",
        "**1 point** \n",
        "2. **def rad_to_def()**. Напишите программу Python для преобразования радианов в градусы.\n",
        "\n",
        "**1.5 point** \n",
        "3. **def discriminant()**. Напишите программу на Python для вычисления значения дискриминанта (вспоминаем квадратные уравнения). Входные данные три числа: x, y, z (учтите что корни могут быть комлЕксными!)\n",
        "\n",
        "**1.5 point** \n",
        "4. **def power_base_sum()**. Напишите программу на Python, чтобы вычислить сумму всех цифр основания в указанной степени.\n",
        "\n",
        "Пример: power_base_sum(2, 100)\n",
        "\n",
        "Выход: 115\n",
        "\n",
        "\n",
        "\n",
        "**2 point** \n",
        "5. **def magic_square()**. Напишите программу на Python для вычисления [магического квадрата](https://ru.wikipedia.org/wiki/Магический_квадрат)\n",
        "\n",
        "Note:\n",
        "\n",
        "Магический, или волшебный квадрат — это квадратная таблица , заполненная числами таким образом, что сумма чисел в каждой строке, каждом столбце и на обеих диагоналях одинакова. Сумма чисел в каждой строке, столбце и на диагоналях, называется магической константой, M.\n",
        "\n",
        "**1 point** \n",
        "6. **def mult_list()**. Напишите функцию Python для умножения всех чисел в массиве list(), (размер листа на входе произвольный)\n",
        "\n",
        "**1 point** \n",
        "7. **def create_list()**. Напишите функцию Python для создания и вывода списка (при помощи print()), в котором значения представляют собой квадрат чисел от 1 до 30 (оба включительно)."
      ]
    },
    {
      "cell_type": "code",
      "metadata": {
        "id": "cxjYPNRAIBqe",
        "colab": {
          "base_uri": "https://localhost:8080/"
        },
        "outputId": "e97c71a9-d770-4ba4-8d2c-d901d49d7c53"
      },
      "source": [
        "%%writefile my_math_lib.py\n",
        "import math\n",
        "import numpy as np\n",
        "\n",
        "# def deg_to_rad(). Напишите программу на Python для преобразования градусов в радианы. (Note: Радиан - это стандартная единица измерения угла, используемая во многих областях математики. Измерение угла в радианах численно равно длине соответствующей дуги единичного круга; один радиан чуть меньше 57,3 градуса) 1 point\n",
        "def deg_to_rad(degrees):\n",
        "  return math.radians(degrees)\n",
        "\n",
        "# def rad_to_def(). Напишите программу Python для преобразования радианов в градусы.\n",
        "def rad_to_def(radians):\n",
        "  return math.degrees(radians)\n",
        "\n",
        "# def discriminant(). Напишите программу на Python для вычисления значения дискриминанта (вспоминаем квадратные уравнения). Входные данные три числа: x, y, z (учтите что корни могут быть комлЕксными!)\n",
        "def discriminant(x, y, z):\n",
        "  return y**2 - 4*x*z\n",
        "\n",
        "# def power_base_sum(). Напишите программу на Python, чтобы вычислить сумму всех цифр основания в указанной степени.\n",
        "def power_base_sum(base, power):\n",
        "  return sum([int(i) for i in str(pow(base, power))])\n",
        "\n",
        "# def magic_square(). Напишите программу на Python для вычисления магического квадрата\n",
        "def magic_square(n):\n",
        "  if n < 1 or n%2 == 0:\n",
        "    print(\"This function only for 2n-1, n>0\")\n",
        "    return None\n",
        "  J = [range(1, n+1)] * n\n",
        "  I = np.transpose(J)\n",
        "  A = [[(I[i][j] + J[i][j] + (n-3)/2) % n for i in range(n)] for j in range(n)]\n",
        "  B = [[(I[i][j] + 2*J[i][j] - 2) % n for j in range(n)] for i in range(n)]\n",
        "  return [[n*A[i][j] + B[i][j] + 1 for j in range(n)] for i in range(n)]\n",
        "\n",
        "# def mult_list(). Напишите функцию Python для умножения всех чисел в массиве list(), (размер листа на входе произвольный)\n",
        "def mult_list(my_list):\n",
        "  return np.prod(np.array(my_list))\n",
        "\n",
        "# def create_list(). Напишите функцию Python для создания и вывода списка (при помощи print()), в котором значения представляют собой квадрат чисел от 1 до 30 (оба включительно).\n",
        "def create_list():\n",
        "  print([x*x for x in range(1, 31)])\n",
        "  return None"
      ],
      "execution_count": 7,
      "outputs": [
        {
          "output_type": "stream",
          "text": [
            "Overwriting my_math_lib.py\n"
          ],
          "name": "stdout"
        }
      ]
    },
    {
      "cell_type": "markdown",
      "metadata": {
        "id": "cSdLK3ZSID3B"
      },
      "source": [
        "# **Задание 2**\n",
        "Импортируйте все методы из модуля my_math_lib.\n",
        "\n",
        " **0.25 point** \n",
        " - при помощи функции **def discriminant()** посчитайте дискриминант следующего уравнения: \n",
        " $x^{2}+3 x+4=0$\n",
        "\n",
        "**0.25 point** \n",
        " - постройте магический квадрат размера 5х5"
      ]
    },
    {
      "cell_type": "code",
      "metadata": {
        "id": "k1Jhjs6FD8Sy"
      },
      "source": [
        "# Импортируйте все методы из модуля my_math_lib.\n",
        "from my_math_lib import *"
      ],
      "execution_count": 8,
      "outputs": []
    },
    {
      "cell_type": "code",
      "metadata": {
        "id": "zjQVS7m8uj4J",
        "colab": {
          "base_uri": "https://localhost:8080/"
        },
        "outputId": "55e43455-4e4b-452f-c889-2028545e4bde"
      },
      "source": [
        "# при помощи функции def discriminant() посчитайте дискриминант следующего уравнения:  𝑥2+3𝑥+4=0\n",
        "discriminant(1, 3, 4)"
      ],
      "execution_count": 9,
      "outputs": [
        {
          "output_type": "execute_result",
          "data": {
            "text/plain": [
              "-7"
            ]
          },
          "metadata": {
            "tags": []
          },
          "execution_count": 9
        }
      ]
    },
    {
      "cell_type": "code",
      "metadata": {
        "colab": {
          "base_uri": "https://localhost:8080/"
        },
        "id": "4tK0-X2K_ka0",
        "outputId": "aa72d6c2-f03c-4282-fc92-e98ff3bce332"
      },
      "source": [
        "# постройте магический квадрат размера 5х5\n",
        "magic_square(5)"
      ],
      "execution_count": 10,
      "outputs": [
        {
          "output_type": "execute_result",
          "data": {
            "text/plain": [
              "[[17.0, 24.0, 1.0, 8.0, 15.0],\n",
              " [23.0, 5.0, 7.0, 14.0, 16.0],\n",
              " [4.0, 6.0, 13.0, 20.0, 22.0],\n",
              " [10.0, 12.0, 19.0, 21.0, 3.0],\n",
              " [11.0, 18.0, 25.0, 2.0, 9.0]]"
            ]
          },
          "metadata": {
            "tags": []
          },
          "execution_count": 10
        }
      ]
    },
    {
      "cell_type": "markdown",
      "metadata": {
        "id": "1xqoQlZkId3s"
      },
      "source": [
        "# **Задание 3**\n",
        "\n",
        "**2 point**\n",
        "* Добавьте в вашу библиотеку конструкцию `if __name__ == \"__main__\"`, которая должна принимать одну из вышеперечисленных функций. \n",
        "* Важно! аргументы, подаваемые в функцию, должны подаваться напряму через терминал (как в примере)! Используйте для этого библиотеку `sys`"
      ]
    },
    {
      "cell_type": "code",
      "metadata": {
        "id": "CPMx4V4DJIVx",
        "colab": {
          "base_uri": "https://localhost:8080/"
        },
        "outputId": "fc14cbe0-4621-4f3c-f8e5-c04a4ecf55a1"
      },
      "source": [
        "%%writefile my_math_lib.py\n",
        "import math\n",
        "import numpy as np\n",
        "import sys\n",
        "\n",
        " # Считываем аргументы из терминала\n",
        "n = int( sys.argv[1] )\n",
        "\n",
        "# def deg_to_rad(). Напишите программу на Python для преобразования градусов в радианы. (Note: Радиан - это стандартная единица измерения угла, используемая во многих областях математики. Измерение угла в радианах численно равно длине соответствующей дуги единичного круга; один радиан чуть меньше 57,3 градуса) 1 point\n",
        "def deg_to_rad(degrees):\n",
        "  return math.radians(degrees)\n",
        "\n",
        "# def rad_to_def(). Напишите программу Python для преобразования радианов в градусы.\n",
        "def rad_to_def(radians):\n",
        "  return math.degrees(radians)\n",
        "\n",
        "# def discriminant(). Напишите программу на Python для вычисления значения дискриминанта (вспоминаем квадратные уравнения). Входные данные три числа: x, y, z (учтите что корни могут быть комлЕксными!)\n",
        "def discriminant(x, y, z):\n",
        "  return y**2 - 4*x*z\n",
        "\n",
        "# def power_base_sum(). Напишите программу на Python, чтобы вычислить сумму всех цифр основания в указанной степени.\n",
        "def power_base_sum(base, power):\n",
        "  return sum([int(i) for i in str(pow(base, power))])\n",
        "\n",
        "# def magic_square(). Напишите программу на Python для вычисления магического квадрата\n",
        "def magic_square(n):\n",
        "  if n < 1 or n%2 == 0:\n",
        "    print(\"This function only for 2n-1, n>0\")\n",
        "    return None\n",
        "  J = [range(1, n+1)] * n\n",
        "  I = np.transpose(J)\n",
        "  A = [[(I[i][j] + J[i][j] + (n-3)/2) % n for i in range(n)] for j in range(n)]\n",
        "  B = [[(I[i][j] + 2*J[i][j] - 2) % n for j in range(n)] for i in range(n)]\n",
        "  return [[n*A[i][j] + B[i][j] + 1 for j in range(n)] for i in range(n)]\n",
        "\n",
        "# def mult_list(). Напишите функцию Python для умножения всех чисел в массиве list(), (размер листа на входе произвольный)\n",
        "def mult_list(my_list):\n",
        "  return np.prod(np.array(my_list))\n",
        "\n",
        "# def create_list(). Напишите функцию Python для создания и вывода списка (при помощи print()), в котором значения представляют собой квадрат чисел от 1 до 30 (оба включительно).\n",
        "def create_list():\n",
        "  print([x*x for x in range(1, 31)])\n",
        "  return None\n",
        "\n",
        "if __name__ == \"__main__\":\n",
        "    print(magic_square(n))"
      ],
      "execution_count": 11,
      "outputs": [
        {
          "output_type": "stream",
          "text": [
            "Overwriting my_math_lib.py\n"
          ],
          "name": "stdout"
        }
      ]
    },
    {
      "cell_type": "code",
      "metadata": {
        "id": "RAeJ3p1BJX05",
        "colab": {
          "base_uri": "https://localhost:8080/"
        },
        "outputId": "ba434f2c-eef5-4ec4-a986-12e431327e5c"
      },
      "source": [
        "# Пример вызова функции\n",
        "!python3 my_math_lib.py 5"
      ],
      "execution_count": 12,
      "outputs": [
        {
          "output_type": "stream",
          "text": [
            "[[17.0, 24.0, 1.0, 8.0, 15.0], [23.0, 5.0, 7.0, 14.0, 16.0], [4.0, 6.0, 13.0, 20.0, 22.0], [10.0, 12.0, 19.0, 21.0, 3.0], [11.0, 18.0, 25.0, 2.0, 9.0]]\n"
          ],
          "name": "stdout"
        }
      ]
    }
  ]
}