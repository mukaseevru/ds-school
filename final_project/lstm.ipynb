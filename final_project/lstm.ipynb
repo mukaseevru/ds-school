{
  "nbformat": 4,
  "nbformat_minor": 0,
  "metadata": {
    "colab": {
      "name": "lstm.ipynb",
      "provenance": [],
      "collapsed_sections": [],
      "toc_visible": true,
      "include_colab_link": true
    },
    "kernelspec": {
      "name": "python3",
      "display_name": "Python 3"
    }
  },
  "cells": [
    {
      "cell_type": "markdown",
      "metadata": {
        "id": "view-in-github",
        "colab_type": "text"
      },
      "source": [
        "<a href=\"https://colab.research.google.com/github/mukaseevru/ds-school/blob/main/final_project/lstm.ipynb\" target=\"_parent\"><img src=\"https://colab.research.google.com/assets/colab-badge.svg\" alt=\"Open In Colab\"/></a>"
      ]
    },
    {
      "cell_type": "markdown",
      "metadata": {
        "id": "a0NjYpNy9Thy"
      },
      "source": [
        "# 1. LSTM для задачи Регрессии"
      ]
    },
    {
      "cell_type": "code",
      "metadata": {
        "id": "qBplPVqG7HFz"
      },
      "source": [
        "import numpy as np\n",
        "import pandas as pd\n",
        "import matplotlib.pyplot as plt\n",
        "import math\n",
        "from keras.models import Sequential\n",
        "from keras.layers import Dense\n",
        "from keras.layers import LSTM\n",
        "from sklearn.preprocessing import MinMaxScaler\n",
        "from sklearn.metrics import mean_squared_error\n",
        "np.random.seed(21)"
      ],
      "execution_count": 1,
      "outputs": []
    },
    {
      "cell_type": "code",
      "metadata": {
        "colab": {
          "base_uri": "https://localhost:8080/"
        },
        "id": "zc0g1rDXltJ9",
        "outputId": "b608eafd-3883-4601-c8f5-5fa51d435d2b"
      },
      "source": [
        "from google.colab import drive\r\n",
        "drive.mount('/content/drive')"
      ],
      "execution_count": 2,
      "outputs": [
        {
          "output_type": "stream",
          "text": [
            "Drive already mounted at /content/drive; to attempt to forcibly remount, call drive.mount(\"/content/drive\", force_remount=True).\n"
          ],
          "name": "stdout"
        }
      ]
    },
    {
      "cell_type": "code",
      "metadata": {
        "colab": {
          "base_uri": "https://localhost:8080/",
          "height": 37
        },
        "id": "rnY--oZOlzTI",
        "outputId": "b7a23b88-f336-4e5e-9413-676b7d8192fc"
      },
      "source": [
        "import os\r\n",
        "os.getcwd()"
      ],
      "execution_count": 3,
      "outputs": [
        {
          "output_type": "execute_result",
          "data": {
            "application/vnd.google.colaboratory.intrinsic+json": {
              "type": "string"
            },
            "text/plain": [
              "'/content'"
            ]
          },
          "metadata": {
            "tags": []
          },
          "execution_count": 3
        }
      ]
    },
    {
      "cell_type": "code",
      "metadata": {
        "colab": {
          "base_uri": "https://localhost:8080/"
        },
        "id": "EzPCiisll2qt",
        "outputId": "16b70088-b7d3-4d3c-b763-432f5325a10f"
      },
      "source": [
        "views = pd.read_csv('drive/MyDrive/Colab Notebooks/sber/news/data/views.csv')\r\n",
        "views.info()"
      ],
      "execution_count": 4,
      "outputs": [
        {
          "output_type": "stream",
          "text": [
            "<class 'pandas.core.frame.DataFrame'>\n",
            "RangeIndex: 121 entries, 0 to 120\n",
            "Data columns (total 10 columns):\n",
            " #   Column    Non-Null Count  Dtype\n",
            "---  ------    --------------  -----\n",
            " 0   10941428  121 non-null    int64\n",
            " 1   10941427  121 non-null    int64\n",
            " 2   10941426  121 non-null    int64\n",
            " 3   10941425  121 non-null    int64\n",
            " 4   10941422  121 non-null    int64\n",
            " 5   10941421  121 non-null    int64\n",
            " 6   10941419  121 non-null    int64\n",
            " 7   10941417  121 non-null    int64\n",
            " 8   10941416  121 non-null    int64\n",
            " 9   10941415  121 non-null    int64\n",
            "dtypes: int64(10)\n",
            "memory usage: 9.6 KB\n"
          ],
          "name": "stdout"
        }
      ]
    },
    {
      "cell_type": "code",
      "metadata": {
        "colab": {
          "base_uri": "https://localhost:8080/",
          "height": 269
        },
        "id": "9FFVrMdQmy7j",
        "outputId": "7b2c32f7-7eb1-4e89-b248-cf77299e8f32"
      },
      "source": [
        "plt.plot(views)\r\n",
        "plt.show()"
      ],
      "execution_count": 5,
      "outputs": [
        {
          "output_type": "display_data",
          "data": {
            "image/png": "[encoded data removed]",
            "text/plain": [
              "<Figure size 432x288 with 1 Axes>"
            ]
          },
          "metadata": {
            "tags": [],
            "needs_background": "light"
          }
        }
      ]
    },
    {
      "cell_type": "code",
      "metadata": {
        "id": "SGYgyxJr7LA4",
        "colab": {
          "base_uri": "https://localhost:8080/"
        },
        "outputId": "fe412a35-d96a-473f-c7eb-1ca0636c10b6"
      },
      "source": [
        "dataset = views[views.columns[0]].values.reshape(-1, 1)\n",
        "dataset = dataset.astype('float32')\n",
        "dataset"
      ],
      "execution_count": 6,
      "outputs": [
        {
          "output_type": "execute_result",
          "data": {
            "text/plain": [
              "array([[  0.],\n",
              "       [  0.],\n",
              "       [  0.],\n",
              "       [  0.],\n",
              "       [ 37.],\n",
              "       [ 37.],\n",
              "       [ 37.],\n",
              "       [ 37.],\n",
              "       [ 37.],\n",
              "       [ 37.],\n",
              "       [ 37.],\n",
              "       [ 37.],\n",
              "       [ 37.],\n",
              "       [ 37.],\n",
              "       [143.],\n",
              "       [143.],\n",
              "       [143.],\n",
              "       [143.],\n",
              "       [143.],\n",
              "       [143.],\n",
              "       [143.],\n",
              "       [143.],\n",
              "       [143.],\n",
              "       [143.],\n",
              "       [226.],\n",
              "       [226.],\n",
              "       [226.],\n",
              "       [226.],\n",
              "       [226.],\n",
              "       [226.],\n",
              "       [226.],\n",
              "       [226.],\n",
              "       [226.],\n",
              "       [226.],\n",
              "       [279.],\n",
              "       [279.],\n",
              "       [279.],\n",
              "       [279.],\n",
              "       [279.],\n",
              "       [279.],\n",
              "       [279.],\n",
              "       [279.],\n",
              "       [279.],\n",
              "       [279.],\n",
              "       [350.],\n",
              "       [350.],\n",
              "       [350.],\n",
              "       [350.],\n",
              "       [350.],\n",
              "       [350.],\n",
              "       [350.],\n",
              "       [350.],\n",
              "       [350.],\n",
              "       [350.],\n",
              "       [387.],\n",
              "       [387.],\n",
              "       [387.],\n",
              "       [387.],\n",
              "       [387.],\n",
              "       [387.],\n",
              "       [387.],\n",
              "       [387.],\n",
              "       [387.],\n",
              "       [433.],\n",
              "       [433.],\n",
              "       [433.],\n",
              "       [433.],\n",
              "       [433.],\n",
              "       [433.],\n",
              "       [433.],\n",
              "       [433.],\n",
              "       [433.],\n",
              "       [433.],\n",
              "       [486.],\n",
              "       [486.],\n",
              "       [486.],\n",
              "       [486.],\n",
              "       [486.],\n",
              "       [486.],\n",
              "       [486.],\n",
              "       [533.],\n",
              "       [533.],\n",
              "       [533.],\n",
              "       [533.],\n",
              "       [533.],\n",
              "       [533.],\n",
              "       [533.],\n",
              "       [533.],\n",
              "       [533.],\n",
              "       [533.],\n",
              "       [533.],\n",
              "       [533.],\n",
              "       [553.],\n",
              "       [553.],\n",
              "       [553.],\n",
              "       [553.],\n",
              "       [553.],\n",
              "       [553.],\n",
              "       [553.],\n",
              "       [553.],\n",
              "       [553.],\n",
              "       [598.],\n",
              "       [598.],\n",
              "       [598.],\n",
              "       [598.],\n",
              "       [598.],\n",
              "       [598.],\n",
              "       [598.],\n",
              "       [598.],\n",
              "       [598.],\n",
              "       [598.],\n",
              "       [624.],\n",
              "       [624.],\n",
              "       [624.],\n",
              "       [624.],\n",
              "       [624.],\n",
              "       [624.],\n",
              "       [624.],\n",
              "       [624.],\n",
              "       [624.],\n",
              "       [652.]], dtype=float32)"
            ]
          },
          "metadata": {
            "tags": []
          },
          "execution_count": 6
        }
      ]
    },
    {
      "cell_type": "code",
      "metadata": {
        "id": "FnopqaQK7UJa"
      },
      "source": [
        "# normalize the dataset\n",
        "scaler = MinMaxScaler(feature_range=(0, 1))\n",
        "dataset = scaler.fit_transform(dataset)"
      ],
      "execution_count": 7,
      "outputs": []
    },
    {
      "cell_type": "code",
      "metadata": {
        "colab": {
          "base_uri": "https://localhost:8080/"
        },
        "id": "86stK2so7WCK",
        "outputId": "275bb9dc-ff10-40a8-9368-463ba2b0cbbe"
      },
      "source": [
        "# split into train and test sets\n",
        "train_size = int(len(dataset) * 0.7)\n",
        "test_size = len(dataset) - train_size\n",
        "train, test = dataset[0:train_size,:], dataset[train_size:len(dataset),:]\n",
        "print(len(train), len(test))"
      ],
      "execution_count": 8,
      "outputs": [
        {
          "output_type": "stream",
          "text": [
            "84 37\n"
          ],
          "name": "stdout"
        }
      ]
    },
    {
      "cell_type": "code",
      "metadata": {
        "id": "jgyQbD-Q7Xqd"
      },
      "source": [
        "# convert an array of values into a dataset matrix\n",
        "def create_dataset(dataset, look_back=1):\n",
        "\tdataX, dataY = [], []\n",
        "\tfor i in range(len(dataset)-look_back-1):\n",
        "\t\ta = dataset[i:(i+look_back), 0]\n",
        "\t\tdataX.append(a)\n",
        "\t\tdataY.append(dataset[i + look_back, 0])\n",
        "\treturn np.array(dataX), np.array(dataY)"
      ],
      "execution_count": 9,
      "outputs": []
    },
    {
      "cell_type": "code",
      "metadata": {
        "id": "5smIn2QL7ZmY"
      },
      "source": [
        "# reshape into X=t and Y=t+1\n",
        "look_back = 1\n",
        "trainX, trainY = create_dataset(train, look_back)\n",
        "testX, testY = create_dataset(test, look_back)"
      ],
      "execution_count": 10,
      "outputs": []
    },
    {
      "cell_type": "code",
      "metadata": {
        "colab": {
          "base_uri": "https://localhost:8080/"
        },
        "id": "85VMGsfg7bp0",
        "outputId": "5d18b2c7-06d8-445f-9a66-6879d1d999e2"
      },
      "source": [
        "print('Train X: \\n')\n",
        "print(trainX[:7])\n",
        "print('Train Y: \\n')\n",
        "print(trainY[:7])"
      ],
      "execution_count": 11,
      "outputs": [
        {
          "output_type": "stream",
          "text": [
            "Train X: \n",
            "\n",
            "[[0.        ]\n",
            " [0.        ]\n",
            " [0.        ]\n",
            " [0.        ]\n",
            " [0.05674846]\n",
            " [0.05674846]\n",
            " [0.05674846]]\n",
            "Train Y: \n",
            "\n",
            "[0.         0.         0.         0.05674846 0.05674846 0.05674846\n",
            " 0.05674846]\n"
          ],
          "name": "stdout"
        }
      ]
    },
    {
      "cell_type": "code",
      "metadata": {
        "colab": {
          "base_uri": "https://localhost:8080/"
        },
        "id": "1DsYVTEO9pDg",
        "outputId": "4ae0761d-bece-4f79-b022-ca9176b97ae3"
      },
      "source": [
        "print(trainX.shape, trainY.shape)"
      ],
      "execution_count": 12,
      "outputs": [
        {
          "output_type": "stream",
          "text": [
            "(82, 1) (82,)\n"
          ],
          "name": "stdout"
        }
      ]
    },
    {
      "cell_type": "code",
      "metadata": {
        "colab": {
          "base_uri": "https://localhost:8080/"
        },
        "id": "pmFHX4Dk9x0T",
        "outputId": "a48b63c8-96f0-4210-df99-bad3956e8101"
      },
      "source": [
        "print(testX.shape, testY.shape)"
      ],
      "execution_count": 13,
      "outputs": [
        {
          "output_type": "stream",
          "text": [
            "(35, 1) (35,)\n"
          ],
          "name": "stdout"
        }
      ]
    },
    {
      "cell_type": "code",
      "metadata": {
        "id": "ThDDIT197cqm"
      },
      "source": [
        "# reshape input to be [samples, time steps, features]\n",
        "trainX = np.reshape(trainX, (trainX.shape[0], 1, trainX.shape[1]))\n",
        "testX = np.reshape(testX, (testX.shape[0], 1, testX.shape[1]))"
      ],
      "execution_count": 14,
      "outputs": []
    },
    {
      "cell_type": "code",
      "metadata": {
        "colab": {
          "base_uri": "https://localhost:8080/"
        },
        "id": "NDPM8vXM7uoV",
        "outputId": "0b10effc-cde4-4079-ae9a-33a644efb38b"
      },
      "source": [
        "# create and fit the LSTM network\n",
        "model = Sequential()\n",
        "model.add(LSTM(4, input_shape=(1, look_back)))\n",
        "model.add(Dense(1))\n",
        "model.compile(loss='mean_squared_error',\n",
        "              optimizer='adam')\n",
        "model.fit(trainX, trainY, epochs=100, batch_size=1, verbose=2)"
      ],
      "execution_count": 15,
      "outputs": [
        {
          "output_type": "stream",
          "text": [
            "Epoch 1/100\n",
            "82/82 - 2s - loss: 0.2317\n",
            "Epoch 2/100\n",
            "82/82 - 0s - loss: 0.1556\n",
            "Epoch 3/100\n",
            "82/82 - 0s - loss: 0.1020\n",
            "Epoch 4/100\n",
            "82/82 - 0s - loss: 0.0663\n",
            "Epoch 5/100\n",
            "82/82 - 0s - loss: 0.0487\n",
            "Epoch 6/100\n",
            "82/82 - 0s - loss: 0.0418\n",
            "Epoch 7/100\n",
            "82/82 - 0s - loss: 0.0378\n",
            "Epoch 8/100\n",
            "82/82 - 0s - loss: 0.0344\n",
            "Epoch 9/100\n",
            "82/82 - 0s - loss: 0.0315\n",
            "Epoch 10/100\n",
            "82/82 - 0s - loss: 0.0289\n",
            "Epoch 11/100\n",
            "82/82 - 0s - loss: 0.0260\n",
            "Epoch 12/100\n",
            "82/82 - 0s - loss: 0.0228\n",
            "Epoch 13/100\n",
            "82/82 - 0s - loss: 0.0196\n",
            "Epoch 14/100\n",
            "82/82 - 0s - loss: 0.0161\n",
            "Epoch 15/100\n",
            "82/82 - 0s - loss: 0.0128\n",
            "Epoch 16/100\n",
            "82/82 - 0s - loss: 0.0095\n",
            "Epoch 17/100\n",
            "82/82 - 0s - loss: 0.0068\n",
            "Epoch 18/100\n",
            "82/82 - 0s - loss: 0.0047\n",
            "Epoch 19/100\n",
            "82/82 - 0s - loss: 0.0031\n",
            "Epoch 20/100\n",
            "82/82 - 0s - loss: 0.0022\n",
            "Epoch 21/100\n",
            "82/82 - 0s - loss: 0.0016\n",
            "Epoch 22/100\n",
            "82/82 - 0s - loss: 0.0013\n",
            "Epoch 23/100\n",
            "82/82 - 0s - loss: 0.0011\n",
            "Epoch 24/100\n",
            "82/82 - 0s - loss: 0.0010\n",
            "Epoch 25/100\n",
            "82/82 - 0s - loss: 9.9762e-04\n",
            "Epoch 26/100\n",
            "82/82 - 0s - loss: 9.9540e-04\n",
            "Epoch 27/100\n",
            "82/82 - 0s - loss: 9.8535e-04\n",
            "Epoch 28/100\n",
            "82/82 - 0s - loss: 9.7953e-04\n",
            "Epoch 29/100\n",
            "82/82 - 0s - loss: 9.9157e-04\n",
            "Epoch 30/100\n",
            "82/82 - 0s - loss: 9.8544e-04\n",
            "Epoch 31/100\n",
            "82/82 - 0s - loss: 9.8037e-04\n",
            "Epoch 32/100\n",
            "82/82 - 0s - loss: 9.9981e-04\n",
            "Epoch 33/100\n",
            "82/82 - 0s - loss: 9.8027e-04\n",
            "Epoch 34/100\n",
            "82/82 - 0s - loss: 9.7999e-04\n",
            "Epoch 35/100\n",
            "82/82 - 0s - loss: 0.0010\n",
            "Epoch 36/100\n",
            "82/82 - 0s - loss: 0.0010\n",
            "Epoch 37/100\n",
            "82/82 - 0s - loss: 9.9585e-04\n",
            "Epoch 38/100\n",
            "82/82 - 0s - loss: 0.0010\n",
            "Epoch 39/100\n",
            "82/82 - 0s - loss: 9.8436e-04\n",
            "Epoch 40/100\n",
            "82/82 - 0s - loss: 9.8942e-04\n",
            "Epoch 41/100\n",
            "82/82 - 0s - loss: 9.9175e-04\n",
            "Epoch 42/100\n",
            "82/82 - 0s - loss: 9.7871e-04\n",
            "Epoch 43/100\n",
            "82/82 - 0s - loss: 9.8628e-04\n",
            "Epoch 44/100\n",
            "82/82 - 0s - loss: 0.0010\n",
            "Epoch 45/100\n",
            "82/82 - 0s - loss: 9.9086e-04\n",
            "Epoch 46/100\n",
            "82/82 - 0s - loss: 9.9933e-04\n",
            "Epoch 47/100\n",
            "82/82 - 0s - loss: 9.6322e-04\n",
            "Epoch 48/100\n",
            "82/82 - 0s - loss: 9.8230e-04\n",
            "Epoch 49/100\n",
            "82/82 - 0s - loss: 9.8988e-04\n",
            "Epoch 50/100\n",
            "82/82 - 0s - loss: 9.7851e-04\n",
            "Epoch 51/100\n",
            "82/82 - 0s - loss: 9.7430e-04\n",
            "Epoch 52/100\n",
            "82/82 - 0s - loss: 0.0010\n",
            "Epoch 53/100\n",
            "82/82 - 0s - loss: 9.8963e-04\n",
            "Epoch 54/100\n",
            "82/82 - 0s - loss: 9.7347e-04\n",
            "Epoch 55/100\n",
            "82/82 - 0s - loss: 0.0010\n",
            "Epoch 56/100\n",
            "82/82 - 0s - loss: 9.5035e-04\n",
            "Epoch 57/100\n",
            "82/82 - 0s - loss: 0.0010\n",
            "Epoch 58/100\n",
            "82/82 - 0s - loss: 9.6851e-04\n",
            "Epoch 59/100\n",
            "82/82 - 0s - loss: 0.0010\n",
            "Epoch 60/100\n",
            "82/82 - 0s - loss: 9.7462e-04\n",
            "Epoch 61/100\n",
            "82/82 - 0s - loss: 9.9961e-04\n",
            "Epoch 62/100\n",
            "82/82 - 0s - loss: 0.0010\n",
            "Epoch 63/100\n",
            "82/82 - 0s - loss: 9.7508e-04\n",
            "Epoch 64/100\n",
            "82/82 - 0s - loss: 0.0010\n",
            "Epoch 65/100\n",
            "82/82 - 0s - loss: 9.9763e-04\n",
            "Epoch 66/100\n",
            "82/82 - 0s - loss: 9.9492e-04\n",
            "Epoch 67/100\n",
            "82/82 - 0s - loss: 9.8430e-04\n",
            "Epoch 68/100\n",
            "82/82 - 0s - loss: 9.7950e-04\n",
            "Epoch 69/100\n",
            "82/82 - 0s - loss: 9.7946e-04\n",
            "Epoch 70/100\n",
            "82/82 - 0s - loss: 0.0010\n",
            "Epoch 71/100\n",
            "82/82 - 0s - loss: 9.7962e-04\n",
            "Epoch 72/100\n",
            "82/82 - 0s - loss: 9.9627e-04\n",
            "Epoch 73/100\n",
            "82/82 - 0s - loss: 9.9379e-04\n",
            "Epoch 74/100\n",
            "82/82 - 0s - loss: 0.0010\n",
            "Epoch 75/100\n",
            "82/82 - 0s - loss: 9.9869e-04\n",
            "Epoch 76/100\n",
            "82/82 - 0s - loss: 9.8677e-04\n",
            "Epoch 77/100\n",
            "82/82 - 0s - loss: 9.9673e-04\n",
            "Epoch 78/100\n",
            "82/82 - 0s - loss: 9.9136e-04\n",
            "Epoch 79/100\n",
            "82/82 - 0s - loss: 9.6374e-04\n",
            "Epoch 80/100\n",
            "82/82 - 0s - loss: 0.0010\n",
            "Epoch 81/100\n",
            "82/82 - 0s - loss: 9.8931e-04\n",
            "Epoch 82/100\n",
            "82/82 - 0s - loss: 0.0010\n",
            "Epoch 83/100\n",
            "82/82 - 0s - loss: 0.0010\n",
            "Epoch 84/100\n",
            "82/82 - 0s - loss: 9.8738e-04\n",
            "Epoch 85/100\n",
            "82/82 - 0s - loss: 0.0010\n",
            "Epoch 86/100\n",
            "82/82 - 0s - loss: 9.7617e-04\n",
            "Epoch 87/100\n",
            "82/82 - 0s - loss: 0.0010\n",
            "Epoch 88/100\n",
            "82/82 - 0s - loss: 0.0010\n",
            "Epoch 89/100\n",
            "82/82 - 0s - loss: 0.0010\n",
            "Epoch 90/100\n",
            "82/82 - 0s - loss: 0.0010\n",
            "Epoch 91/100\n",
            "82/82 - 0s - loss: 0.0010\n",
            "Epoch 92/100\n",
            "82/82 - 0s - loss: 0.0010\n",
            "Epoch 93/100\n",
            "82/82 - 0s - loss: 0.0010\n",
            "Epoch 94/100\n",
            "82/82 - 0s - loss: 0.0010\n",
            "Epoch 95/100\n",
            "82/82 - 0s - loss: 0.0010\n",
            "Epoch 96/100\n",
            "82/82 - 0s - loss: 9.9143e-04\n",
            "Epoch 97/100\n",
            "82/82 - 0s - loss: 9.8581e-04\n",
            "Epoch 98/100\n",
            "82/82 - 0s - loss: 9.9708e-04\n",
            "Epoch 99/100\n",
            "82/82 - 0s - loss: 0.0010\n",
            "Epoch 100/100\n",
            "82/82 - 0s - loss: 9.7287e-04\n"
          ],
          "name": "stdout"
        },
        {
          "output_type": "execute_result",
          "data": {
            "text/plain": [
              "<tensorflow.python.keras.callbacks.History at 0x7f06fd554550>"
            ]
          },
          "metadata": {
            "tags": []
          },
          "execution_count": 15
        }
      ]
    },
    {
      "cell_type": "code",
      "metadata": {
        "colab": {
          "base_uri": "https://localhost:8080/"
        },
        "id": "5ENRfci17yqY",
        "outputId": "aba4b424-2b67-4097-f677-fff0c8c179f2"
      },
      "source": [
        "# make predictions\n",
        "trainPredict = model.predict(trainX)\n",
        "testPredict = model.predict(testX)\n",
        "# invert predictions\n",
        "trainPredict = scaler.inverse_transform(trainPredict)\n",
        "trainY = scaler.inverse_transform([trainY])\n",
        "testPredict = scaler.inverse_transform(testPredict)\n",
        "testY = scaler.inverse_transform([testY])\n",
        "# calculate root mean squared error\n",
        "trainScore = math.sqrt(mean_squared_error(trainY[0], trainPredict[:,0]))\n",
        "print('Train Score: %.2f RMSE' % (trainScore))\n",
        "testScore = math.sqrt(mean_squared_error(testY[0], testPredict[:,0]))\n",
        "print('Test Score: %.2f RMSE' % (testScore))"
      ],
      "execution_count": 16,
      "outputs": [
        {
          "output_type": "stream",
          "text": [
            "Train Score: 20.05 RMSE\n",
            "Test Score: 18.90 RMSE\n"
          ],
          "name": "stdout"
        }
      ]
    },
    {
      "cell_type": "code",
      "metadata": {
        "id": "dwJLVp5g7wJZ"
      },
      "source": [
        "# shift train predictions for plotting\n",
        "trainPredictPlot = np.empty_like(dataset)\n",
        "trainPredictPlot[:, :] = np.nan\n",
        "trainPredictPlot[look_back:len(trainPredict)+look_back, :] = trainPredict\n",
        "# shift test predictions for plotting\n",
        "testPredictPlot = np.empty_like(dataset)\n",
        "testPredictPlot[:, :] = np.nan\n",
        "testPredictPlot[len(trainPredict)+(look_back*2)+1:len(dataset)-1, :] = testPredict"
      ],
      "execution_count": 17,
      "outputs": []
    },
    {
      "cell_type": "code",
      "metadata": {
        "colab": {
          "base_uri": "https://localhost:8080/",
          "height": 320
        },
        "id": "qLkyDGAN7485",
        "outputId": "d7cb25c3-b590-43ae-aa5e-f84a92a1bad6"
      },
      "source": [
        "# plot baseline and predictions\n",
        "plt.figure(figsize = (10,5))\n",
        "plt.plot(scaler.inverse_transform(dataset), label = 'Full original data')\n",
        "plt.plot(trainPredictPlot, label = 'Train')\n",
        "plt.plot(testPredictPlot, label = 'Test')\n",
        "plt.legend()\n",
        "plt.show()"
      ],
      "execution_count": 18,
      "outputs": [
        {
          "output_type": "display_data",
          "data": {
            "image/png": "[encoded data removed]",
            "text/plain": [
              "<Figure size 720x360 with 1 Axes>"
            ]
          },
          "metadata": {
            "tags": [],
            "needs_background": "light"
          }
        }
      ]
    },
    {
      "cell_type": "markdown",
      "metadata": {
        "id": "kxHWOXYO9Xp0"
      },
      "source": [
        "# 2. LSTM для Регрессии с использованием оконного метода"
      ]
    },
    {
      "cell_type": "code",
      "metadata": {
        "id": "dja9Cfje45Zh"
      },
      "source": [
        "# convert an array of values into a dataset matrix\r\n",
        "def create_dataset(dataset, look_back=1):\r\n",
        "\tdataX, dataY = [], []\r\n",
        "\tfor i in range(len(dataset)-look_back-1):\r\n",
        "\t\ta = dataset[i:(i+look_back), 0]\r\n",
        "\t\tdataX.append(a)\r\n",
        "\t\tdataY.append(dataset[i + look_back, 0])\r\n",
        "\treturn np.array(dataX), np.array(dataY)"
      ],
      "execution_count": 19,
      "outputs": []
    },
    {
      "cell_type": "code",
      "metadata": {
        "id": "vs_nexun70tq"
      },
      "source": [
        "dataset = views[views.columns[0]].values.reshape(-1, 1)\n",
        "dataset = dataset.astype('float32')\n",
        "# normalize the dataset\n",
        "scaler = MinMaxScaler(feature_range=(0, 1))\n",
        "dataset = scaler.fit_transform(dataset)\n",
        "# split into train and test sets\n",
        "train_size = int(len(dataset) * 0.7)\n",
        "test_size = len(dataset) - train_size\n",
        "train, test = dataset[0:train_size,:], dataset[train_size:len(dataset),:]\n",
        "# reshape into X=t and Y=t+1\n",
        "look_back = 3\n",
        "trainX, trainY = create_dataset(train, look_back)\n",
        "testX, testY = create_dataset(test, look_back)\n",
        "# reshape input to be [samples, time steps, features]\n",
        "trainX = np.reshape(trainX, (trainX.shape[0], 1, trainX.shape[1]))\n",
        "testX = np.reshape(testX, (testX.shape[0], 1, testX.shape[1]))"
      ],
      "execution_count": 20,
      "outputs": []
    },
    {
      "cell_type": "code",
      "metadata": {
        "colab": {
          "base_uri": "https://localhost:8080/"
        },
        "id": "xuxwhNDu9DWU",
        "outputId": "ae5bc584-f07c-4179-ed36-b6b548e64214"
      },
      "source": [
        "print('Train X: \\n')\n",
        "print(trainX[:])\n",
        "print('Train Y: \\n')\n",
        "print(trainY[:])"
      ],
      "execution_count": 21,
      "outputs": [
        {
          "output_type": "stream",
          "text": [
            "Train X: \n",
            "\n",
            "[[[0.         0.         0.        ]]\n",
            "\n",
            " [[0.         0.         0.        ]]\n",
            "\n",
            " [[0.         0.         0.05674846]]\n",
            "\n",
            " [[0.         0.05674846 0.05674846]]\n",
            "\n",
            " [[0.05674846 0.05674846 0.05674846]]\n",
            "\n",
            " [[0.05674846 0.05674846 0.05674846]]\n",
            "\n",
            " [[0.05674846 0.05674846 0.05674846]]\n",
            "\n",
            " [[0.05674846 0.05674846 0.05674846]]\n",
            "\n",
            " [[0.05674846 0.05674846 0.05674846]]\n",
            "\n",
            " [[0.05674846 0.05674846 0.05674846]]\n",
            "\n",
            " [[0.05674846 0.05674846 0.05674846]]\n",
            "\n",
            " [[0.05674846 0.05674846 0.05674846]]\n",
            "\n",
            " [[0.05674846 0.05674846 0.21932516]]\n",
            "\n",
            " [[0.05674846 0.21932516 0.21932516]]\n",
            "\n",
            " [[0.21932516 0.21932516 0.21932516]]\n",
            "\n",
            " [[0.21932516 0.21932516 0.21932516]]\n",
            "\n",
            " [[0.21932516 0.21932516 0.21932516]]\n",
            "\n",
            " [[0.21932516 0.21932516 0.21932516]]\n",
            "\n",
            " [[0.21932516 0.21932516 0.21932516]]\n",
            "\n",
            " [[0.21932516 0.21932516 0.21932516]]\n",
            "\n",
            " [[0.21932516 0.21932516 0.21932516]]\n",
            "\n",
            " [[0.21932516 0.21932516 0.21932516]]\n",
            "\n",
            " [[0.21932516 0.21932516 0.34662575]]\n",
            "\n",
            " [[0.21932516 0.34662575 0.34662575]]\n",
            "\n",
            " [[0.34662575 0.34662575 0.34662575]]\n",
            "\n",
            " [[0.34662575 0.34662575 0.34662575]]\n",
            "\n",
            " [[0.34662575 0.34662575 0.34662575]]\n",
            "\n",
            " [[0.34662575 0.34662575 0.34662575]]\n",
            "\n",
            " [[0.34662575 0.34662575 0.34662575]]\n",
            "\n",
            " [[0.34662575 0.34662575 0.34662575]]\n",
            "\n",
            " [[0.34662575 0.34662575 0.34662575]]\n",
            "\n",
            " [[0.34662575 0.34662575 0.34662575]]\n",
            "\n",
            " [[0.34662575 0.34662575 0.4279141 ]]\n",
            "\n",
            " [[0.34662575 0.4279141  0.4279141 ]]\n",
            "\n",
            " [[0.4279141  0.4279141  0.4279141 ]]\n",
            "\n",
            " [[0.4279141  0.4279141  0.4279141 ]]\n",
            "\n",
            " [[0.4279141  0.4279141  0.4279141 ]]\n",
            "\n",
            " [[0.4279141  0.4279141  0.4279141 ]]\n",
            "\n",
            " [[0.4279141  0.4279141  0.4279141 ]]\n",
            "\n",
            " [[0.4279141  0.4279141  0.4279141 ]]\n",
            "\n",
            " [[0.4279141  0.4279141  0.4279141 ]]\n",
            "\n",
            " [[0.4279141  0.4279141  0.4279141 ]]\n",
            "\n",
            " [[0.4279141  0.4279141  0.5368098 ]]\n",
            "\n",
            " [[0.4279141  0.5368098  0.5368098 ]]\n",
            "\n",
            " [[0.5368098  0.5368098  0.5368098 ]]\n",
            "\n",
            " [[0.5368098  0.5368098  0.5368098 ]]\n",
            "\n",
            " [[0.5368098  0.5368098  0.5368098 ]]\n",
            "\n",
            " [[0.5368098  0.5368098  0.5368098 ]]\n",
            "\n",
            " [[0.5368098  0.5368098  0.5368098 ]]\n",
            "\n",
            " [[0.5368098  0.5368098  0.5368098 ]]\n",
            "\n",
            " [[0.5368098  0.5368098  0.5368098 ]]\n",
            "\n",
            " [[0.5368098  0.5368098  0.5368098 ]]\n",
            "\n",
            " [[0.5368098  0.5368098  0.59355825]]\n",
            "\n",
            " [[0.5368098  0.59355825 0.59355825]]\n",
            "\n",
            " [[0.59355825 0.59355825 0.59355825]]\n",
            "\n",
            " [[0.59355825 0.59355825 0.59355825]]\n",
            "\n",
            " [[0.59355825 0.59355825 0.59355825]]\n",
            "\n",
            " [[0.59355825 0.59355825 0.59355825]]\n",
            "\n",
            " [[0.59355825 0.59355825 0.59355825]]\n",
            "\n",
            " [[0.59355825 0.59355825 0.59355825]]\n",
            "\n",
            " [[0.59355825 0.59355825 0.59355825]]\n",
            "\n",
            " [[0.59355825 0.59355825 0.6641104 ]]\n",
            "\n",
            " [[0.59355825 0.6641104  0.6641104 ]]\n",
            "\n",
            " [[0.6641104  0.6641104  0.6641104 ]]\n",
            "\n",
            " [[0.6641104  0.6641104  0.6641104 ]]\n",
            "\n",
            " [[0.6641104  0.6641104  0.6641104 ]]\n",
            "\n",
            " [[0.6641104  0.6641104  0.6641104 ]]\n",
            "\n",
            " [[0.6641104  0.6641104  0.6641104 ]]\n",
            "\n",
            " [[0.6641104  0.6641104  0.6641104 ]]\n",
            "\n",
            " [[0.6641104  0.6641104  0.6641104 ]]\n",
            "\n",
            " [[0.6641104  0.6641104  0.6641104 ]]\n",
            "\n",
            " [[0.6641104  0.6641104  0.74539876]]\n",
            "\n",
            " [[0.6641104  0.74539876 0.74539876]]\n",
            "\n",
            " [[0.74539876 0.74539876 0.74539876]]\n",
            "\n",
            " [[0.74539876 0.74539876 0.74539876]]\n",
            "\n",
            " [[0.74539876 0.74539876 0.74539876]]\n",
            "\n",
            " [[0.74539876 0.74539876 0.74539876]]\n",
            "\n",
            " [[0.74539876 0.74539876 0.74539876]]\n",
            "\n",
            " [[0.74539876 0.74539876 0.8174846 ]]\n",
            "\n",
            " [[0.74539876 0.8174846  0.8174846 ]]]\n",
            "Train Y: \n",
            "\n",
            "[0.         0.05674846 0.05674846 0.05674846 0.05674846 0.05674846\n",
            " 0.05674846 0.05674846 0.05674846 0.05674846 0.05674846 0.21932516\n",
            " 0.21932516 0.21932516 0.21932516 0.21932516 0.21932516 0.21932516\n",
            " 0.21932516 0.21932516 0.21932516 0.34662575 0.34662575 0.34662575\n",
            " 0.34662575 0.34662575 0.34662575 0.34662575 0.34662575 0.34662575\n",
            " 0.34662575 0.4279141  0.4279141  0.4279141  0.4279141  0.4279141\n",
            " 0.4279141  0.4279141  0.4279141  0.4279141  0.4279141  0.5368098\n",
            " 0.5368098  0.5368098  0.5368098  0.5368098  0.5368098  0.5368098\n",
            " 0.5368098  0.5368098  0.5368098  0.59355825 0.59355825 0.59355825\n",
            " 0.59355825 0.59355825 0.59355825 0.59355825 0.59355825 0.59355825\n",
            " 0.6641104  0.6641104  0.6641104  0.6641104  0.6641104  0.6641104\n",
            " 0.6641104  0.6641104  0.6641104  0.6641104  0.74539876 0.74539876\n",
            " 0.74539876 0.74539876 0.74539876 0.74539876 0.74539876 0.8174846\n",
            " 0.8174846  0.8174846 ]\n"
          ],
          "name": "stdout"
        }
      ]
    },
    {
      "cell_type": "code",
      "metadata": {
        "colab": {
          "base_uri": "https://localhost:8080/"
        },
        "id": "1AZJPapB_DIX",
        "outputId": "2c4c492b-280c-43cb-ad3f-099ffd8291db"
      },
      "source": [
        "print('Test X: \\n')\r\n",
        "print(testX[:])\r\n",
        "print('Test Y: \\n')\r\n",
        "print(testY[:])"
      ],
      "execution_count": 22,
      "outputs": [
        {
          "output_type": "stream",
          "text": [
            "Test X: \n",
            "\n",
            "[[[0.8174846 0.8174846 0.8174846]]\n",
            "\n",
            " [[0.8174846 0.8174846 0.8174846]]\n",
            "\n",
            " [[0.8174846 0.8174846 0.8174846]]\n",
            "\n",
            " [[0.8174846 0.8174846 0.8174846]]\n",
            "\n",
            " [[0.8174846 0.8174846 0.8174846]]\n",
            "\n",
            " [[0.8174846 0.8174846 0.8174846]]\n",
            "\n",
            " [[0.8174846 0.8174846 0.8481595]]\n",
            "\n",
            " [[0.8174846 0.8481595 0.8481595]]\n",
            "\n",
            " [[0.8481595 0.8481595 0.8481595]]\n",
            "\n",
            " [[0.8481595 0.8481595 0.8481595]]\n",
            "\n",
            " [[0.8481595 0.8481595 0.8481595]]\n",
            "\n",
            " [[0.8481595 0.8481595 0.8481595]]\n",
            "\n",
            " [[0.8481595 0.8481595 0.8481595]]\n",
            "\n",
            " [[0.8481595 0.8481595 0.8481595]]\n",
            "\n",
            " [[0.8481595 0.8481595 0.8481595]]\n",
            "\n",
            " [[0.8481595 0.8481595 0.9171779]]\n",
            "\n",
            " [[0.8481595 0.9171779 0.9171779]]\n",
            "\n",
            " [[0.9171779 0.9171779 0.9171779]]\n",
            "\n",
            " [[0.9171779 0.9171779 0.9171779]]\n",
            "\n",
            " [[0.9171779 0.9171779 0.9171779]]\n",
            "\n",
            " [[0.9171779 0.9171779 0.9171779]]\n",
            "\n",
            " [[0.9171779 0.9171779 0.9171779]]\n",
            "\n",
            " [[0.9171779 0.9171779 0.9171779]]\n",
            "\n",
            " [[0.9171779 0.9171779 0.9171779]]\n",
            "\n",
            " [[0.9171779 0.9171779 0.9171779]]\n",
            "\n",
            " [[0.9171779 0.9171779 0.9570552]]\n",
            "\n",
            " [[0.9171779 0.9570552 0.9570552]]\n",
            "\n",
            " [[0.9570552 0.9570552 0.9570552]]\n",
            "\n",
            " [[0.9570552 0.9570552 0.9570552]]\n",
            "\n",
            " [[0.9570552 0.9570552 0.9570552]]\n",
            "\n",
            " [[0.9570552 0.9570552 0.9570552]]\n",
            "\n",
            " [[0.9570552 0.9570552 0.9570552]]\n",
            "\n",
            " [[0.9570552 0.9570552 0.9570552]]]\n",
            "Test Y: \n",
            "\n",
            "[0.8174846 0.8174846 0.8174846 0.8174846 0.8174846 0.8481595 0.8481595\n",
            " 0.8481595 0.8481595 0.8481595 0.8481595 0.8481595 0.8481595 0.8481595\n",
            " 0.9171779 0.9171779 0.9171779 0.9171779 0.9171779 0.9171779 0.9171779\n",
            " 0.9171779 0.9171779 0.9171779 0.9570552 0.9570552 0.9570552 0.9570552\n",
            " 0.9570552 0.9570552 0.9570552 0.9570552 0.9570552]\n"
          ],
          "name": "stdout"
        }
      ]
    },
    {
      "cell_type": "code",
      "metadata": {
        "colab": {
          "base_uri": "https://localhost:8080/"
        },
        "id": "zyakCaD49fmm",
        "outputId": "87f8d2a9-80c5-455e-9a9f-b686cd8d22f9"
      },
      "source": [
        "print(trainX.shape, trainY.shape)"
      ],
      "execution_count": 23,
      "outputs": [
        {
          "output_type": "stream",
          "text": [
            "(80, 1, 3) (80,)\n"
          ],
          "name": "stdout"
        }
      ]
    },
    {
      "cell_type": "code",
      "metadata": {
        "colab": {
          "base_uri": "https://localhost:8080/"
        },
        "id": "lFYersm19uQe",
        "outputId": "76c38ddd-781c-405b-a4b0-9998548336f9"
      },
      "source": [
        "print(testX.shape, testY.shape)"
      ],
      "execution_count": 24,
      "outputs": [
        {
          "output_type": "stream",
          "text": [
            "(33, 1, 3) (33,)\n"
          ],
          "name": "stdout"
        }
      ]
    },
    {
      "cell_type": "code",
      "metadata": {
        "colab": {
          "base_uri": "https://localhost:8080/",
          "height": 1000
        },
        "id": "PiESIw_w8bI3",
        "outputId": "77d30004-2a8b-4429-87f8-9f938e9d45df"
      },
      "source": [
        "# create and fit the LSTM network\n",
        "model = Sequential()\n",
        "model.add(LSTM(4, input_shape=(1, look_back)))\n",
        "model.add(Dense(1))\n",
        "model.compile(loss='mean_squared_error', optimizer='adam')\n",
        "model.fit(trainX, trainY, epochs=100, batch_size=1, verbose=2)\n",
        "# make predictions\n",
        "trainPredict = model.predict(trainX)\n",
        "testPredict = model.predict(testX)\n",
        "# invert predictions\n",
        "trainPredict = scaler.inverse_transform(trainPredict)\n",
        "trainY = scaler.inverse_transform([trainY])\n",
        "testPredict = scaler.inverse_transform(testPredict)\n",
        "testY = scaler.inverse_transform([testY])\n",
        "# calculate root mean squared error\n",
        "trainScore = math.sqrt(mean_squared_error(trainY[0], trainPredict[:,0]))\n",
        "print('Train Score: %.2f RMSE' % (trainScore))\n",
        "testScore = math.sqrt(mean_squared_error(testY[0], testPredict[:,0]))\n",
        "print('Test Score: %.2f RMSE' % (testScore))\n",
        "# shift train predictions for plotting\n",
        "trainPredictPlot = np.empty_like(dataset)\n",
        "trainPredictPlot[:, :] = np.nan\n",
        "trainPredictPlot[look_back:len(trainPredict)+look_back, :] = trainPredict\n",
        "# shift test predictions for plotting\n",
        "testPredictPlot = np.empty_like(dataset)\n",
        "testPredictPlot[:, :] = np.nan\n",
        "testPredictPlot[len(trainPredict)+(look_back*2)+1:len(dataset)-1, :] = testPredict\n",
        "# plot baseline and predictions\n",
        "plt.plot(scaler.inverse_transform(dataset))\n",
        "plt.plot(trainPredictPlot)\n",
        "plt.plot(testPredictPlot)\n",
        "plt.show()"
      ],
      "execution_count": 25,
      "outputs": [
        {
          "output_type": "stream",
          "text": [
            "Epoch 1/100\n",
            "80/80 - 2s - loss: 0.2925\n",
            "Epoch 2/100\n",
            "80/80 - 0s - loss: 0.1852\n",
            "Epoch 3/100\n",
            "80/80 - 0s - loss: 0.1111\n",
            "Epoch 4/100\n",
            "80/80 - 0s - loss: 0.0624\n",
            "Epoch 5/100\n",
            "80/80 - 0s - loss: 0.0393\n",
            "Epoch 6/100\n",
            "80/80 - 0s - loss: 0.0312\n",
            "Epoch 7/100\n",
            "80/80 - 0s - loss: 0.0261\n",
            "Epoch 8/100\n",
            "80/80 - 0s - loss: 0.0224\n",
            "Epoch 9/100\n",
            "80/80 - 0s - loss: 0.0188\n",
            "Epoch 10/100\n",
            "80/80 - 0s - loss: 0.0157\n",
            "Epoch 11/100\n",
            "80/80 - 0s - loss: 0.0129\n",
            "Epoch 12/100\n",
            "80/80 - 0s - loss: 0.0104\n",
            "Epoch 13/100\n",
            "80/80 - 0s - loss: 0.0083\n",
            "Epoch 14/100\n",
            "80/80 - 0s - loss: 0.0066\n",
            "Epoch 15/100\n",
            "80/80 - 0s - loss: 0.0052\n",
            "Epoch 16/100\n",
            "80/80 - 0s - loss: 0.0041\n",
            "Epoch 17/100\n",
            "80/80 - 0s - loss: 0.0032\n",
            "Epoch 18/100\n",
            "80/80 - 0s - loss: 0.0026\n",
            "Epoch 19/100\n",
            "80/80 - 0s - loss: 0.0021\n",
            "Epoch 20/100\n",
            "80/80 - 0s - loss: 0.0018\n",
            "Epoch 21/100\n",
            "80/80 - 0s - loss: 0.0016\n",
            "Epoch 22/100\n",
            "80/80 - 0s - loss: 0.0015\n",
            "Epoch 23/100\n",
            "80/80 - 0s - loss: 0.0014\n",
            "Epoch 24/100\n",
            "80/80 - 0s - loss: 0.0014\n",
            "Epoch 25/100\n",
            "80/80 - 0s - loss: 0.0014\n",
            "Epoch 26/100\n",
            "80/80 - 0s - loss: 0.0013\n",
            "Epoch 27/100\n",
            "80/80 - 0s - loss: 0.0013\n",
            "Epoch 28/100\n",
            "80/80 - 0s - loss: 0.0013\n",
            "Epoch 29/100\n",
            "80/80 - 0s - loss: 0.0013\n",
            "Epoch 30/100\n",
            "80/80 - 0s - loss: 0.0013\n",
            "Epoch 31/100\n",
            "80/80 - 0s - loss: 0.0013\n",
            "Epoch 32/100\n",
            "80/80 - 0s - loss: 0.0013\n",
            "Epoch 33/100\n",
            "80/80 - 0s - loss: 0.0013\n",
            "Epoch 34/100\n",
            "80/80 - 0s - loss: 0.0013\n",
            "Epoch 35/100\n",
            "80/80 - 0s - loss: 0.0013\n",
            "Epoch 36/100\n",
            "80/80 - 0s - loss: 0.0014\n",
            "Epoch 37/100\n",
            "80/80 - 0s - loss: 0.0013\n",
            "Epoch 38/100\n",
            "80/80 - 0s - loss: 0.0013\n",
            "Epoch 39/100\n",
            "80/80 - 0s - loss: 0.0013\n",
            "Epoch 40/100\n",
            "80/80 - 0s - loss: 0.0013\n",
            "Epoch 41/100\n",
            "80/80 - 0s - loss: 0.0013\n",
            "Epoch 42/100\n",
            "80/80 - 0s - loss: 0.0013\n",
            "Epoch 43/100\n",
            "80/80 - 0s - loss: 0.0013\n",
            "Epoch 44/100\n",
            "80/80 - 0s - loss: 0.0013\n",
            "Epoch 45/100\n",
            "80/80 - 0s - loss: 0.0013\n",
            "Epoch 46/100\n",
            "80/80 - 0s - loss: 0.0013\n",
            "Epoch 47/100\n",
            "80/80 - 0s - loss: 0.0013\n",
            "Epoch 48/100\n",
            "80/80 - 0s - loss: 0.0013\n",
            "Epoch 49/100\n",
            "80/80 - 0s - loss: 0.0013\n",
            "Epoch 50/100\n",
            "80/80 - 0s - loss: 0.0013\n",
            "Epoch 51/100\n",
            "80/80 - 0s - loss: 0.0013\n",
            "Epoch 52/100\n",
            "80/80 - 0s - loss: 0.0013\n",
            "Epoch 53/100\n",
            "80/80 - 0s - loss: 0.0013\n",
            "Epoch 54/100\n",
            "80/80 - 0s - loss: 0.0013\n",
            "Epoch 55/100\n",
            "80/80 - 0s - loss: 0.0013\n",
            "Epoch 56/100\n",
            "80/80 - 0s - loss: 0.0013\n",
            "Epoch 57/100\n",
            "80/80 - 0s - loss: 0.0013\n",
            "Epoch 58/100\n",
            "80/80 - 0s - loss: 0.0013\n",
            "Epoch 59/100\n",
            "80/80 - 0s - loss: 0.0013\n",
            "Epoch 60/100\n",
            "80/80 - 0s - loss: 0.0013\n",
            "Epoch 61/100\n",
            "80/80 - 0s - loss: 0.0013\n",
            "Epoch 62/100\n",
            "80/80 - 0s - loss: 0.0013\n",
            "Epoch 63/100\n",
            "80/80 - 0s - loss: 0.0013\n",
            "Epoch 64/100\n",
            "80/80 - 0s - loss: 0.0012\n",
            "Epoch 65/100\n",
            "80/80 - 0s - loss: 0.0013\n",
            "Epoch 66/100\n",
            "80/80 - 0s - loss: 0.0013\n",
            "Epoch 67/100\n",
            "80/80 - 0s - loss: 0.0012\n",
            "Epoch 68/100\n",
            "80/80 - 0s - loss: 0.0013\n",
            "Epoch 69/100\n",
            "80/80 - 0s - loss: 0.0013\n",
            "Epoch 70/100\n",
            "80/80 - 0s - loss: 0.0013\n",
            "Epoch 71/100\n",
            "80/80 - 0s - loss: 0.0013\n",
            "Epoch 72/100\n",
            "80/80 - 0s - loss: 0.0012\n",
            "Epoch 73/100\n",
            "80/80 - 0s - loss: 0.0012\n",
            "Epoch 74/100\n",
            "80/80 - 0s - loss: 0.0013\n",
            "Epoch 75/100\n",
            "80/80 - 0s - loss: 0.0013\n",
            "Epoch 76/100\n",
            "80/80 - 0s - loss: 0.0012\n",
            "Epoch 77/100\n",
            "80/80 - 0s - loss: 0.0013\n",
            "Epoch 78/100\n",
            "80/80 - 0s - loss: 0.0013\n",
            "Epoch 79/100\n",
            "80/80 - 0s - loss: 0.0014\n",
            "Epoch 80/100\n",
            "80/80 - 0s - loss: 0.0012\n",
            "Epoch 81/100\n",
            "80/80 - 0s - loss: 0.0012\n",
            "Epoch 82/100\n",
            "80/80 - 0s - loss: 0.0012\n",
            "Epoch 83/100\n",
            "80/80 - 0s - loss: 0.0013\n",
            "Epoch 84/100\n",
            "80/80 - 0s - loss: 0.0012\n",
            "Epoch 85/100\n",
            "80/80 - 0s - loss: 0.0013\n",
            "Epoch 86/100\n",
            "80/80 - 0s - loss: 0.0012\n",
            "Epoch 87/100\n",
            "80/80 - 0s - loss: 0.0012\n",
            "Epoch 88/100\n",
            "80/80 - 0s - loss: 0.0012\n",
            "Epoch 89/100\n",
            "80/80 - 0s - loss: 0.0012\n",
            "Epoch 90/100\n",
            "80/80 - 0s - loss: 0.0012\n",
            "Epoch 91/100\n",
            "80/80 - 0s - loss: 0.0012\n",
            "Epoch 92/100\n",
            "80/80 - 0s - loss: 0.0012\n",
            "Epoch 93/100\n",
            "80/80 - 0s - loss: 0.0012\n",
            "Epoch 94/100\n",
            "80/80 - 0s - loss: 0.0013\n",
            "Epoch 95/100\n",
            "80/80 - 0s - loss: 0.0012\n",
            "Epoch 96/100\n",
            "80/80 - 0s - loss: 0.0012\n",
            "Epoch 97/100\n",
            "80/80 - 0s - loss: 0.0012\n",
            "Epoch 98/100\n",
            "80/80 - 0s - loss: 0.0013\n",
            "Epoch 99/100\n",
            "80/80 - 0s - loss: 0.0012\n",
            "Epoch 100/100\n",
            "80/80 - 0s - loss: 0.0012\n",
            "Train Score: 23.61 RMSE\n",
            "Test Score: 31.05 RMSE\n"
          ],
          "name": "stdout"
        },
        {
          "output_type": "display_data",
          "data": {
            "image/png": "[encoded data removed]",
            "text/plain": [
              "<Figure size 432x288 with 1 Axes>"
            ]
          },
          "metadata": {
            "tags": [],
            "needs_background": "light"
          }
        }
      ]
    },
    {
      "cell_type": "markdown",
      "metadata": {
        "id": "m4uGJ7CL-BkQ"
      },
      "source": [
        "# 3. LSTM для регрессии с  Time Steps"
      ]
    },
    {
      "cell_type": "code",
      "metadata": {
        "id": "HwKlmkmn-Dw_"
      },
      "source": [
        "dataset = views[views.columns[0]].values.reshape(-1, 1)\n",
        "dataset = dataset.astype('float32')\n",
        "# normalize the dataset\n",
        "scaler = MinMaxScaler(feature_range=(0, 1))\n",
        "dataset = scaler.fit_transform(dataset)\n",
        "# split into train and test sets\n",
        "train_size = int(len(dataset) * 0.67)\n",
        "test_size = len(dataset) - train_size\n",
        "train, test = dataset[0:train_size,:], dataset[train_size:len(dataset),:]\n",
        "# reshape into X=t and Y=t+1\n",
        "look_back = 3\n",
        "trainX, trainY = create_dataset(train, look_back)\n",
        "testX, testY = create_dataset(test, look_back)\n",
        "# reshape input to be [samples, time steps, features]\n",
        "trainX = np.reshape(trainX, (trainX.shape[0], trainX.shape[1], 1))\n",
        "testX = np.reshape(testX, (testX.shape[0], testX.shape[1], 1))"
      ],
      "execution_count": 27,
      "outputs": []
    },
    {
      "cell_type": "code",
      "metadata": {
        "colab": {
          "base_uri": "https://localhost:8080/"
        },
        "id": "z0T9cIIY-N8n",
        "outputId": "8ee7fd1f-7715-4c5c-a183-9c75dc84c297"
      },
      "source": [
        "print('Train X: \\n')\n",
        "print(trainX[:7])\n",
        "print('Train Y: \\n')\n",
        "print(trainY[:7])"
      ],
      "execution_count": 28,
      "outputs": [
        {
          "output_type": "stream",
          "text": [
            "Train X: \n",
            "\n",
            "[[[0.        ]\n",
            "  [0.        ]\n",
            "  [0.        ]]\n",
            "\n",
            " [[0.        ]\n",
            "  [0.        ]\n",
            "  [0.        ]]\n",
            "\n",
            " [[0.        ]\n",
            "  [0.        ]\n",
            "  [0.05674846]]\n",
            "\n",
            " [[0.        ]\n",
            "  [0.05674846]\n",
            "  [0.05674846]]\n",
            "\n",
            " [[0.05674846]\n",
            "  [0.05674846]\n",
            "  [0.05674846]]\n",
            "\n",
            " [[0.05674846]\n",
            "  [0.05674846]\n",
            "  [0.05674846]]\n",
            "\n",
            " [[0.05674846]\n",
            "  [0.05674846]\n",
            "  [0.05674846]]]\n",
            "Train Y: \n",
            "\n",
            "[0.         0.05674846 0.05674846 0.05674846 0.05674846 0.05674846\n",
            " 0.05674846]\n"
          ],
          "name": "stdout"
        }
      ]
    },
    {
      "cell_type": "code",
      "metadata": {
        "colab": {
          "base_uri": "https://localhost:8080/"
        },
        "id": "82CyN93y-N8o",
        "outputId": "3e2ae919-c53c-4d30-efb5-923cf9cc7ecf"
      },
      "source": [
        "print(trainX.shape, trainY.shape)"
      ],
      "execution_count": 29,
      "outputs": [
        {
          "output_type": "stream",
          "text": [
            "(77, 3, 1) (77,)\n"
          ],
          "name": "stdout"
        }
      ]
    },
    {
      "cell_type": "code",
      "metadata": {
        "colab": {
          "base_uri": "https://localhost:8080/"
        },
        "id": "N8ZACDRR-N8p",
        "outputId": "6036efe7-e218-4a52-fb82-8cdabdd6915c"
      },
      "source": [
        "print(testX.shape, testY.shape)"
      ],
      "execution_count": 30,
      "outputs": [
        {
          "output_type": "stream",
          "text": [
            "(36, 3, 1) (36,)\n"
          ],
          "name": "stdout"
        }
      ]
    },
    {
      "cell_type": "code",
      "metadata": {
        "colab": {
          "base_uri": "https://localhost:8080/"
        },
        "id": "NgyBTd6m-Oy3",
        "outputId": "f8c6a0cd-b0b1-471c-f044-856769e56952"
      },
      "source": [
        "# create and fit the LSTM network\n",
        "model = Sequential()\n",
        "model.add(LSTM(4, input_shape=(look_back, 1)))\n",
        "model.add(Dense(1))\n",
        "model.compile(loss='mean_squared_error', optimizer='adam')\n",
        "model.fit(trainX, trainY, epochs=100, batch_size=1, verbose=2)\n",
        "# make predictions\n",
        "trainPredict = model.predict(trainX)\n",
        "testPredict = model.predict(testX)\n",
        "# invert predictions\n",
        "trainPredict = scaler.inverse_transform(trainPredict)\n",
        "trainY = scaler.inverse_transform([trainY])\n",
        "testPredict = scaler.inverse_transform(testPredict)\n",
        "testY = scaler.inverse_transform([testY])\n",
        "# calculate root mean squared error\n",
        "trainScore = math.sqrt(mean_squared_error(trainY[0], trainPredict[:,0]))\n",
        "print('Train Score: %.2f RMSE' % (trainScore))\n",
        "testScore = math.sqrt(mean_squared_error(testY[0], testPredict[:,0]))\n",
        "print('Test Score: %.2f RMSE' % (testScore))\n",
        "# shift train predictions for plotting\n",
        "trainPredictPlot = np.empty_like(dataset)\n",
        "trainPredictPlot[:, :] = np.nan\n",
        "trainPredictPlot[look_back:len(trainPredict)+look_back, :] = trainPredict\n",
        "# shift test predictions for plotting\n",
        "testPredictPlot = np.empty_like(dataset)\n",
        "testPredictPlot[:, :] = np.nan\n",
        "testPredictPlot[len(trainPredict)+(look_back*2)+1:len(dataset)-1, :] = testPredict"
      ],
      "execution_count": 31,
      "outputs": [
        {
          "output_type": "stream",
          "text": [
            "Epoch 1/100\n",
            "77/77 - 2s - loss: 0.3365\n",
            "Epoch 2/100\n",
            "77/77 - 0s - loss: 0.1803\n",
            "Epoch 3/100\n",
            "77/77 - 0s - loss: 0.1002\n",
            "Epoch 4/100\n",
            "77/77 - 0s - loss: 0.0631\n",
            "Epoch 5/100\n",
            "77/77 - 0s - loss: 0.0475\n",
            "Epoch 6/100\n",
            "77/77 - 0s - loss: 0.0406\n",
            "Epoch 7/100\n",
            "77/77 - 0s - loss: 0.0357\n",
            "Epoch 8/100\n",
            "77/77 - 0s - loss: 0.0316\n",
            "Epoch 9/100\n",
            "77/77 - 0s - loss: 0.0275\n",
            "Epoch 10/100\n",
            "77/77 - 0s - loss: 0.0237\n",
            "Epoch 11/100\n",
            "77/77 - 0s - loss: 0.0200\n",
            "Epoch 12/100\n",
            "77/77 - 0s - loss: 0.0165\n",
            "Epoch 13/100\n",
            "77/77 - 0s - loss: 0.0135\n",
            "Epoch 14/100\n",
            "77/77 - 0s - loss: 0.0106\n",
            "Epoch 15/100\n",
            "77/77 - 0s - loss: 0.0082\n",
            "Epoch 16/100\n",
            "77/77 - 0s - loss: 0.0063\n",
            "Epoch 17/100\n",
            "77/77 - 0s - loss: 0.0047\n",
            "Epoch 18/100\n",
            "77/77 - 0s - loss: 0.0036\n",
            "Epoch 19/100\n",
            "77/77 - 0s - loss: 0.0028\n",
            "Epoch 20/100\n",
            "77/77 - 0s - loss: 0.0022\n",
            "Epoch 21/100\n",
            "77/77 - 0s - loss: 0.0020\n",
            "Epoch 22/100\n",
            "77/77 - 0s - loss: 0.0018\n",
            "Epoch 23/100\n",
            "77/77 - 0s - loss: 0.0017\n",
            "Epoch 24/100\n",
            "77/77 - 0s - loss: 0.0016\n",
            "Epoch 25/100\n",
            "77/77 - 0s - loss: 0.0016\n",
            "Epoch 26/100\n",
            "77/77 - 0s - loss: 0.0016\n",
            "Epoch 27/100\n",
            "77/77 - 0s - loss: 0.0016\n",
            "Epoch 28/100\n",
            "77/77 - 0s - loss: 0.0016\n",
            "Epoch 29/100\n",
            "77/77 - 0s - loss: 0.0015\n",
            "Epoch 30/100\n",
            "77/77 - 0s - loss: 0.0016\n",
            "Epoch 31/100\n",
            "77/77 - 0s - loss: 0.0016\n",
            "Epoch 32/100\n",
            "77/77 - 0s - loss: 0.0015\n",
            "Epoch 33/100\n",
            "77/77 - 0s - loss: 0.0015\n",
            "Epoch 34/100\n",
            "77/77 - 0s - loss: 0.0016\n",
            "Epoch 35/100\n",
            "77/77 - 0s - loss: 0.0016\n",
            "Epoch 36/100\n",
            "77/77 - 0s - loss: 0.0015\n",
            "Epoch 37/100\n",
            "77/77 - 0s - loss: 0.0015\n",
            "Epoch 38/100\n",
            "77/77 - 0s - loss: 0.0015\n",
            "Epoch 39/100\n",
            "77/77 - 0s - loss: 0.0015\n",
            "Epoch 40/100\n",
            "77/77 - 0s - loss: 0.0015\n",
            "Epoch 41/100\n",
            "77/77 - 0s - loss: 0.0015\n",
            "Epoch 42/100\n",
            "77/77 - 0s - loss: 0.0016\n",
            "Epoch 43/100\n",
            "77/77 - 0s - loss: 0.0015\n",
            "Epoch 44/100\n",
            "77/77 - 0s - loss: 0.0016\n",
            "Epoch 45/100\n",
            "77/77 - 0s - loss: 0.0015\n",
            "Epoch 46/100\n",
            "77/77 - 0s - loss: 0.0015\n",
            "Epoch 47/100\n",
            "77/77 - 0s - loss: 0.0015\n",
            "Epoch 48/100\n",
            "77/77 - 0s - loss: 0.0015\n",
            "Epoch 49/100\n",
            "77/77 - 0s - loss: 0.0015\n",
            "Epoch 50/100\n",
            "77/77 - 0s - loss: 0.0015\n",
            "Epoch 51/100\n",
            "77/77 - 0s - loss: 0.0015\n",
            "Epoch 52/100\n",
            "77/77 - 0s - loss: 0.0015\n",
            "Epoch 53/100\n",
            "77/77 - 0s - loss: 0.0016\n",
            "Epoch 54/100\n",
            "77/77 - 0s - loss: 0.0015\n",
            "Epoch 55/100\n",
            "77/77 - 0s - loss: 0.0015\n",
            "Epoch 56/100\n",
            "77/77 - 0s - loss: 0.0014\n",
            "Epoch 57/100\n",
            "77/77 - 0s - loss: 0.0015\n",
            "Epoch 58/100\n",
            "77/77 - 0s - loss: 0.0014\n",
            "Epoch 59/100\n",
            "77/77 - 0s - loss: 0.0015\n",
            "Epoch 60/100\n",
            "77/77 - 0s - loss: 0.0015\n",
            "Epoch 61/100\n",
            "77/77 - 0s - loss: 0.0015\n",
            "Epoch 62/100\n",
            "77/77 - 0s - loss: 0.0015\n",
            "Epoch 63/100\n",
            "77/77 - 0s - loss: 0.0014\n",
            "Epoch 64/100\n",
            "77/77 - 0s - loss: 0.0014\n",
            "Epoch 65/100\n",
            "77/77 - 0s - loss: 0.0015\n",
            "Epoch 66/100\n",
            "77/77 - 0s - loss: 0.0015\n",
            "Epoch 67/100\n",
            "77/77 - 0s - loss: 0.0015\n",
            "Epoch 68/100\n",
            "77/77 - 0s - loss: 0.0015\n",
            "Epoch 69/100\n",
            "77/77 - 0s - loss: 0.0014\n",
            "Epoch 70/100\n",
            "77/77 - 0s - loss: 0.0015\n",
            "Epoch 71/100\n",
            "77/77 - 0s - loss: 0.0014\n",
            "Epoch 72/100\n",
            "77/77 - 0s - loss: 0.0014\n",
            "Epoch 73/100\n",
            "77/77 - 0s - loss: 0.0014\n",
            "Epoch 74/100\n",
            "77/77 - 0s - loss: 0.0015\n",
            "Epoch 75/100\n",
            "77/77 - 0s - loss: 0.0014\n",
            "Epoch 76/100\n",
            "77/77 - 0s - loss: 0.0014\n",
            "Epoch 77/100\n",
            "77/77 - 0s - loss: 0.0014\n",
            "Epoch 78/100\n",
            "77/77 - 0s - loss: 0.0014\n",
            "Epoch 79/100\n",
            "77/77 - 0s - loss: 0.0014\n",
            "Epoch 80/100\n",
            "77/77 - 0s - loss: 0.0014\n",
            "Epoch 81/100\n",
            "77/77 - 0s - loss: 0.0014\n",
            "Epoch 82/100\n",
            "77/77 - 0s - loss: 0.0014\n",
            "Epoch 83/100\n",
            "77/77 - 0s - loss: 0.0014\n",
            "Epoch 84/100\n",
            "77/77 - 0s - loss: 0.0014\n",
            "Epoch 85/100\n",
            "77/77 - 0s - loss: 0.0014\n",
            "Epoch 86/100\n",
            "77/77 - 0s - loss: 0.0014\n",
            "Epoch 87/100\n",
            "77/77 - 0s - loss: 0.0014\n",
            "Epoch 88/100\n",
            "77/77 - 0s - loss: 0.0014\n",
            "Epoch 89/100\n",
            "77/77 - 0s - loss: 0.0014\n",
            "Epoch 90/100\n",
            "77/77 - 0s - loss: 0.0014\n",
            "Epoch 91/100\n",
            "77/77 - 0s - loss: 0.0014\n",
            "Epoch 92/100\n",
            "77/77 - 0s - loss: 0.0014\n",
            "Epoch 93/100\n",
            "77/77 - 0s - loss: 0.0014\n",
            "Epoch 94/100\n",
            "77/77 - 0s - loss: 0.0014\n",
            "Epoch 95/100\n",
            "77/77 - 0s - loss: 0.0015\n",
            "Epoch 96/100\n",
            "77/77 - 0s - loss: 0.0014\n",
            "Epoch 97/100\n",
            "77/77 - 0s - loss: 0.0014\n",
            "Epoch 98/100\n",
            "77/77 - 0s - loss: 0.0013\n",
            "Epoch 99/100\n",
            "77/77 - 0s - loss: 0.0014\n",
            "Epoch 100/100\n",
            "77/77 - 0s - loss: 0.0013\n",
            "Train Score: 24.02 RMSE\n",
            "Test Score: 56.85 RMSE\n"
          ],
          "name": "stdout"
        }
      ]
    },
    {
      "cell_type": "code",
      "metadata": {
        "colab": {
          "base_uri": "https://localhost:8080/",
          "height": 320
        },
        "id": "cOyZMJoz-bGO",
        "outputId": "cbb1a8b2-2466-429a-9746-2e4a34894ba0"
      },
      "source": [
        "# plot baseline and predictions\n",
        "plt.figure(figsize = (10,5))\n",
        "plt.plot(scaler.inverse_transform(dataset), label = 'Full original data')\n",
        "plt.plot(trainPredictPlot, label = 'Train')\n",
        "plt.plot(testPredictPlot, label = 'Test')\n",
        "plt.legend()\n",
        "plt.show()"
      ],
      "execution_count": 32,
      "outputs": [
        {
          "output_type": "display_data",
          "data": {
            "image/png": "[encoded data removed]",
            "text/plain": [
              "<Figure size 720x360 with 1 Axes>"
            ]
          },
          "metadata": {
            "tags": [],
            "needs_background": "light"
          }
        }
      ]
    },
    {
      "cell_type": "code",
      "metadata": {
        "id": "pvrJiEyyEI2l"
      },
      "source": [
        ""
      ],
      "execution_count": 32,
      "outputs": []
    }
  ]
}