{
  "nbformat": 4,
  "nbformat_minor": 0,
  "metadata": {
    "colab": {
      "name": "lstm.ipynb",
      "provenance": [],
      "collapsed_sections": [],
      "toc_visible": true,
      "include_colab_link": true
    },
    "kernelspec": {
      "name": "python3",
      "display_name": "Python 3"
    }
  },
  "cells": [
    {
      "cell_type": "markdown",
      "metadata": {
        "id": "view-in-github",
        "colab_type": "text"
      },
      "source": [
        "<a href=\"https://colab.research.google.com/github/mukaseevru/ds-school/blob/main/final_project/lstm.ipynb\" target=\"_parent\"><img src=\"https://colab.research.google.com/assets/colab-badge.svg\" alt=\"Open In Colab\"/></a>"
      ]
    },
    {
      "cell_type": "markdown",
      "metadata": {
        "id": "a0NjYpNy9Thy"
      },
      "source": [
        "# 1. LSTM для задачи Регрессии"
      ]
    },
    {
      "cell_type": "code",
      "metadata": {
        "id": "qBplPVqG7HFz"
      },
      "source": [
        "import numpy as np\n",
        "import pandas as pd\n",
        "import matplotlib.pyplot as plt\n",
        "import math\n",
        "from keras.models import Sequential\n",
        "from keras.layers import Dense\n",
        "from keras.layers import LSTM\n",
        "from sklearn.preprocessing import MinMaxScaler\n",
        "from sklearn.metrics import mean_squared_error\n",
        "np.random.seed(21)"
      ],
      "execution_count": 1,
      "outputs": []
    },
    {
      "cell_type": "code",
      "metadata": {
        "colab": {
          "base_uri": "https://localhost:8080/"
        },
        "id": "zc0g1rDXltJ9",
        "outputId": "572fb32d-8755-4458-cf22-4dc3de38e686"
      },
      "source": [
        "from google.colab import drive\r\n",
        "drive.mount('/content/drive')"
      ],
      "execution_count": 2,
      "outputs": [
        {
          "output_type": "stream",
          "text": [
            "Drive already mounted at /content/drive; to attempt to forcibly remount, call drive.mount(\"/content/drive\", force_remount=True).\n"
          ],
          "name": "stdout"
        }
      ]
    },
    {
      "cell_type": "code",
      "metadata": {
        "colab": {
          "base_uri": "https://localhost:8080/",
          "height": 37
        },
        "id": "rnY--oZOlzTI",
        "outputId": "553c4035-6ce1-494d-dcd8-b0c32dfd9275"
      },
      "source": [
        "import os\r\n",
        "os.getcwd()"
      ],
      "execution_count": 3,
      "outputs": [
        {
          "output_type": "execute_result",
          "data": {
            "application/vnd.google.colaboratory.intrinsic+json": {
              "type": "string"
            },
            "text/plain": [
              "'/content'"
            ]
          },
          "metadata": {
            "tags": []
          },
          "execution_count": 3
        }
      ]
    },
    {
      "cell_type": "code",
      "metadata": {
        "colab": {
          "base_uri": "https://localhost:8080/"
        },
        "id": "EzPCiisll2qt",
        "outputId": "4152f9f3-cc87-4921-f92a-207728a2c75d"
      },
      "source": [
        "# Файл можно скачать здесь: https://drive.google.com/file/d/1cufAlNfUty79rTqoumz0eaYad0ZZI-5z/view?usp=sharing\r\n",
        "views = pd.read_csv('drive/MyDrive/Colab Notebooks/sber/news/data/views.csv')\r\n",
        "views.info()"
      ],
      "execution_count": 4,
      "outputs": [
        {
          "output_type": "stream",
          "text": [
            "<class 'pandas.core.frame.DataFrame'>\n",
            "RangeIndex: 121 entries, 0 to 120\n",
            "Data columns (total 10 columns):\n",
            " #   Column    Non-Null Count  Dtype\n",
            "---  ------    --------------  -----\n",
            " 0   10941428  121 non-null    int64\n",
            " 1   10941427  121 non-null    int64\n",
            " 2   10941426  121 non-null    int64\n",
            " 3   10941425  121 non-null    int64\n",
            " 4   10941422  121 non-null    int64\n",
            " 5   10941421  121 non-null    int64\n",
            " 6   10941419  121 non-null    int64\n",
            " 7   10941417  121 non-null    int64\n",
            " 8   10941416  121 non-null    int64\n",
            " 9   10941415  121 non-null    int64\n",
            "dtypes: int64(10)\n",
            "memory usage: 9.6 KB\n"
          ],
          "name": "stdout"
        }
      ]
    },
    {
      "cell_type": "code",
      "metadata": {
        "colab": {
          "base_uri": "https://localhost:8080/",
          "height": 269
        },
        "id": "9FFVrMdQmy7j",
        "outputId": "3ac73869-63e0-4c8b-ecb7-5caed46c4bd3"
      },
      "source": [
        "plt.plot(views)\r\n",
        "plt.show()"
      ],
      "execution_count": 5,
      "outputs": [
        {
          "output_type": "display_data",
          "data": {
            "image/png": "[encoded data removed]",
            "text/plain": [
              "<Figure size 432x288 with 1 Axes>"
            ]
          },
          "metadata": {
            "tags": [],
            "needs_background": "light"
          }
        }
      ]
    },
    {
      "cell_type": "code",
      "metadata": {
        "id": "SGYgyxJr7LA4",
        "colab": {
          "base_uri": "https://localhost:8080/"
        },
        "outputId": "1d0ca050-baef-44c8-97cb-f83f34dce79f"
      },
      "source": [
        "dataset = views[views.columns[0]].values.reshape(-1, 1)\n",
        "dataset = dataset.astype('float32')\n",
        "dataset"
      ],
      "execution_count": 6,
      "outputs": [
        {
          "output_type": "execute_result",
          "data": {
            "text/plain": [
              "array([[  0.],\n",
              "       [  0.],\n",
              "       [  0.],\n",
              "       [  0.],\n",
              "       [ 37.],\n",
              "       [ 37.],\n",
              "       [ 37.],\n",
              "       [ 37.],\n",
              "       [ 37.],\n",
              "       [ 37.],\n",
              "       [ 37.],\n",
              "       [ 37.],\n",
              "       [ 37.],\n",
              "       [ 37.],\n",
              "       [143.],\n",
              "       [143.],\n",
              "       [143.],\n",
              "       [143.],\n",
              "       [143.],\n",
              "       [143.],\n",
              "       [143.],\n",
              "       [143.],\n",
              "       [143.],\n",
              "       [143.],\n",
              "       [226.],\n",
              "       [226.],\n",
              "       [226.],\n",
              "       [226.],\n",
              "       [226.],\n",
              "       [226.],\n",
              "       [226.],\n",
              "       [226.],\n",
              "       [226.],\n",
              "       [226.],\n",
              "       [279.],\n",
              "       [279.],\n",
              "       [279.],\n",
              "       [279.],\n",
              "       [279.],\n",
              "       [279.],\n",
              "       [279.],\n",
              "       [279.],\n",
              "       [279.],\n",
              "       [279.],\n",
              "       [350.],\n",
              "       [350.],\n",
              "       [350.],\n",
              "       [350.],\n",
              "       [350.],\n",
              "       [350.],\n",
              "       [350.],\n",
              "       [350.],\n",
              "       [350.],\n",
              "       [350.],\n",
              "       [387.],\n",
              "       [387.],\n",
              "       [387.],\n",
              "       [387.],\n",
              "       [387.],\n",
              "       [387.],\n",
              "       [387.],\n",
              "       [387.],\n",
              "       [387.],\n",
              "       [433.],\n",
              "       [433.],\n",
              "       [433.],\n",
              "       [433.],\n",
              "       [433.],\n",
              "       [433.],\n",
              "       [433.],\n",
              "       [433.],\n",
              "       [433.],\n",
              "       [433.],\n",
              "       [486.],\n",
              "       [486.],\n",
              "       [486.],\n",
              "       [486.],\n",
              "       [486.],\n",
              "       [486.],\n",
              "       [486.],\n",
              "       [533.],\n",
              "       [533.],\n",
              "       [533.],\n",
              "       [533.],\n",
              "       [533.],\n",
              "       [533.],\n",
              "       [533.],\n",
              "       [533.],\n",
              "       [533.],\n",
              "       [533.],\n",
              "       [533.],\n",
              "       [533.],\n",
              "       [553.],\n",
              "       [553.],\n",
              "       [553.],\n",
              "       [553.],\n",
              "       [553.],\n",
              "       [553.],\n",
              "       [553.],\n",
              "       [553.],\n",
              "       [553.],\n",
              "       [598.],\n",
              "       [598.],\n",
              "       [598.],\n",
              "       [598.],\n",
              "       [598.],\n",
              "       [598.],\n",
              "       [598.],\n",
              "       [598.],\n",
              "       [598.],\n",
              "       [598.],\n",
              "       [624.],\n",
              "       [624.],\n",
              "       [624.],\n",
              "       [624.],\n",
              "       [624.],\n",
              "       [624.],\n",
              "       [624.],\n",
              "       [624.],\n",
              "       [624.],\n",
              "       [652.]], dtype=float32)"
            ]
          },
          "metadata": {
            "tags": []
          },
          "execution_count": 6
        }
      ]
    },
    {
      "cell_type": "code",
      "metadata": {
        "id": "FnopqaQK7UJa"
      },
      "source": [
        "# normalize the dataset\n",
        "scaler = MinMaxScaler(feature_range=(0, 1))\n",
        "dataset = scaler.fit_transform(dataset)"
      ],
      "execution_count": 7,
      "outputs": []
    },
    {
      "cell_type": "code",
      "metadata": {
        "colab": {
          "base_uri": "https://localhost:8080/"
        },
        "id": "86stK2so7WCK",
        "outputId": "acf9a941-e19d-4c1a-fbe4-58192da5e764"
      },
      "source": [
        "# split into train and test sets\n",
        "train_size = int(len(dataset) * 0.7)\n",
        "test_size = len(dataset) - train_size\n",
        "train, test = dataset[0:train_size, :], dataset[train_size:len(dataset), :]\n",
        "print(len(train), len(test))"
      ],
      "execution_count": 8,
      "outputs": [
        {
          "output_type": "stream",
          "text": [
            "84 37\n"
          ],
          "name": "stdout"
        }
      ]
    },
    {
      "cell_type": "code",
      "metadata": {
        "id": "jgyQbD-Q7Xqd"
      },
      "source": [
        "# convert an array of values into a dataset matrix\n",
        "def create_dataset(dataset, look_back=1):\n",
        "    dataX, dataY = [], []\n",
        "    for i in range(len(dataset)-look_back-1):\n",
        "        a = dataset[i:(i+look_back), 0]\n",
        "        dataX.append(a)\n",
        "        dataY.append(dataset[i + look_back, 0])\n",
        "    return np.array(dataX), np.array(dataY)"
      ],
      "execution_count": 9,
      "outputs": []
    },
    {
      "cell_type": "code",
      "metadata": {
        "id": "5smIn2QL7ZmY"
      },
      "source": [
        "# reshape into X=t and Y=t+1\n",
        "look_back = 1\n",
        "trainX, trainY = create_dataset(train, look_back)\n",
        "testX, testY = create_dataset(test, look_back)"
      ],
      "execution_count": 10,
      "outputs": []
    },
    {
      "cell_type": "code",
      "metadata": {
        "colab": {
          "base_uri": "https://localhost:8080/"
        },
        "id": "85VMGsfg7bp0",
        "outputId": "be66300f-d2cf-45b8-97a3-5fde7419dbd9"
      },
      "source": [
        "print('Train X: \\n')\n",
        "print(trainX[:7])\n",
        "print('Train Y: \\n')\n",
        "print(trainY[:7])"
      ],
      "execution_count": 11,
      "outputs": [
        {
          "output_type": "stream",
          "text": [
            "Train X: \n",
            "\n",
            "[[0.        ]\n",
            " [0.        ]\n",
            " [0.        ]\n",
            " [0.        ]\n",
            " [0.05674846]\n",
            " [0.05674846]\n",
            " [0.05674846]]\n",
            "Train Y: \n",
            "\n",
            "[0.         0.         0.         0.05674846 0.05674846 0.05674846\n",
            " 0.05674846]\n"
          ],
          "name": "stdout"
        }
      ]
    },
    {
      "cell_type": "code",
      "metadata": {
        "colab": {
          "base_uri": "https://localhost:8080/"
        },
        "id": "1DsYVTEO9pDg",
        "outputId": "094f193e-204b-4068-9f2e-5b3d4c89a62b"
      },
      "source": [
        "print(trainX.shape, trainY.shape)"
      ],
      "execution_count": 12,
      "outputs": [
        {
          "output_type": "stream",
          "text": [
            "(82, 1) (82,)\n"
          ],
          "name": "stdout"
        }
      ]
    },
    {
      "cell_type": "code",
      "metadata": {
        "colab": {
          "base_uri": "https://localhost:8080/"
        },
        "id": "pmFHX4Dk9x0T",
        "outputId": "079e8510-0d3e-4451-be96-1c044a7236bc"
      },
      "source": [
        "print(testX.shape, testY.shape)"
      ],
      "execution_count": 13,
      "outputs": [
        {
          "output_type": "stream",
          "text": [
            "(35, 1) (35,)\n"
          ],
          "name": "stdout"
        }
      ]
    },
    {
      "cell_type": "code",
      "metadata": {
        "id": "ThDDIT197cqm"
      },
      "source": [
        "# reshape input to be [samples, time steps, features]\n",
        "trainX = np.reshape(trainX, (trainX.shape[0], 1, trainX.shape[1]))\n",
        "testX = np.reshape(testX, (testX.shape[0], 1, testX.shape[1]))"
      ],
      "execution_count": 14,
      "outputs": []
    },
    {
      "cell_type": "code",
      "metadata": {
        "colab": {
          "base_uri": "https://localhost:8080/"
        },
        "id": "NDPM8vXM7uoV",
        "outputId": "fa272f28-9e17-4e9f-a37a-52a6c9204ef9"
      },
      "source": [
        "# create and fit the LSTM network\n",
        "model = Sequential()\n",
        "model.add(LSTM(4, input_shape=(1, look_back)))\n",
        "model.add(Dense(1))\n",
        "model.compile(loss='mean_squared_error',\n",
        "              optimizer='adam')\n",
        "model.fit(trainX, trainY, epochs=100, batch_size=1, verbose=2)"
      ],
      "execution_count": 15,
      "outputs": [
        {
          "output_type": "stream",
          "text": [
            "Epoch 1/100\n",
            "82/82 - 1s - loss: 0.2301\n",
            "Epoch 2/100\n",
            "82/82 - 0s - loss: 0.1277\n",
            "Epoch 3/100\n",
            "82/82 - 0s - loss: 0.0725\n",
            "Epoch 4/100\n",
            "82/82 - 0s - loss: 0.0487\n",
            "Epoch 5/100\n",
            "82/82 - 0s - loss: 0.0401\n",
            "Epoch 6/100\n",
            "82/82 - 0s - loss: 0.0363\n",
            "Epoch 7/100\n",
            "82/82 - 0s - loss: 0.0332\n",
            "Epoch 8/100\n",
            "82/82 - 0s - loss: 0.0304\n",
            "Epoch 9/100\n",
            "82/82 - 0s - loss: 0.0271\n",
            "Epoch 10/100\n",
            "82/82 - 0s - loss: 0.0245\n",
            "Epoch 11/100\n",
            "82/82 - 0s - loss: 0.0219\n",
            "Epoch 12/100\n",
            "82/82 - 0s - loss: 0.0191\n",
            "Epoch 13/100\n",
            "82/82 - 0s - loss: 0.0167\n",
            "Epoch 14/100\n",
            "82/82 - 0s - loss: 0.0145\n",
            "Epoch 15/100\n",
            "82/82 - 0s - loss: 0.0124\n",
            "Epoch 16/100\n",
            "82/82 - 0s - loss: 0.0106\n",
            "Epoch 17/100\n",
            "82/82 - 0s - loss: 0.0088\n",
            "Epoch 18/100\n",
            "82/82 - 0s - loss: 0.0073\n",
            "Epoch 19/100\n",
            "82/82 - 0s - loss: 0.0061\n",
            "Epoch 20/100\n",
            "82/82 - 0s - loss: 0.0049\n",
            "Epoch 21/100\n",
            "82/82 - 0s - loss: 0.0040\n",
            "Epoch 22/100\n",
            "82/82 - 0s - loss: 0.0032\n",
            "Epoch 23/100\n",
            "82/82 - 0s - loss: 0.0027\n",
            "Epoch 24/100\n",
            "82/82 - 0s - loss: 0.0022\n",
            "Epoch 25/100\n",
            "82/82 - 0s - loss: 0.0019\n",
            "Epoch 26/100\n",
            "82/82 - 0s - loss: 0.0016\n",
            "Epoch 27/100\n",
            "82/82 - 0s - loss: 0.0014\n",
            "Epoch 28/100\n",
            "82/82 - 0s - loss: 0.0013\n",
            "Epoch 29/100\n",
            "82/82 - 0s - loss: 0.0012\n",
            "Epoch 30/100\n",
            "82/82 - 0s - loss: 0.0012\n",
            "Epoch 31/100\n",
            "82/82 - 0s - loss: 0.0011\n",
            "Epoch 32/100\n",
            "82/82 - 0s - loss: 0.0011\n",
            "Epoch 33/100\n",
            "82/82 - 0s - loss: 0.0011\n",
            "Epoch 34/100\n",
            "82/82 - 0s - loss: 0.0011\n",
            "Epoch 35/100\n",
            "82/82 - 0s - loss: 0.0011\n",
            "Epoch 36/100\n",
            "82/82 - 0s - loss: 0.0011\n",
            "Epoch 37/100\n",
            "82/82 - 0s - loss: 0.0011\n",
            "Epoch 38/100\n",
            "82/82 - 0s - loss: 0.0011\n",
            "Epoch 39/100\n",
            "82/82 - 0s - loss: 0.0011\n",
            "Epoch 40/100\n",
            "82/82 - 0s - loss: 0.0011\n",
            "Epoch 41/100\n",
            "82/82 - 0s - loss: 0.0011\n",
            "Epoch 42/100\n",
            "82/82 - 0s - loss: 0.0011\n",
            "Epoch 43/100\n",
            "82/82 - 0s - loss: 0.0012\n",
            "Epoch 44/100\n",
            "82/82 - 0s - loss: 0.0012\n",
            "Epoch 45/100\n",
            "82/82 - 0s - loss: 0.0011\n",
            "Epoch 46/100\n",
            "82/82 - 0s - loss: 0.0011\n",
            "Epoch 47/100\n",
            "82/82 - 0s - loss: 0.0011\n",
            "Epoch 48/100\n",
            "82/82 - 0s - loss: 0.0011\n",
            "Epoch 49/100\n",
            "82/82 - 0s - loss: 0.0011\n",
            "Epoch 50/100\n",
            "82/82 - 0s - loss: 0.0011\n",
            "Epoch 51/100\n",
            "82/82 - 0s - loss: 0.0011\n",
            "Epoch 52/100\n",
            "82/82 - 0s - loss: 0.0011\n",
            "Epoch 53/100\n",
            "82/82 - 0s - loss: 0.0011\n",
            "Epoch 54/100\n",
            "82/82 - 0s - loss: 0.0011\n",
            "Epoch 55/100\n",
            "82/82 - 0s - loss: 0.0011\n",
            "Epoch 56/100\n",
            "82/82 - 0s - loss: 0.0011\n",
            "Epoch 57/100\n",
            "82/82 - 0s - loss: 0.0011\n",
            "Epoch 58/100\n",
            "82/82 - 0s - loss: 0.0011\n",
            "Epoch 59/100\n",
            "82/82 - 0s - loss: 0.0011\n",
            "Epoch 60/100\n",
            "82/82 - 0s - loss: 0.0011\n",
            "Epoch 61/100\n",
            "82/82 - 0s - loss: 0.0011\n",
            "Epoch 62/100\n",
            "82/82 - 0s - loss: 0.0011\n",
            "Epoch 63/100\n",
            "82/82 - 0s - loss: 0.0011\n",
            "Epoch 64/100\n",
            "82/82 - 0s - loss: 9.9772e-04\n",
            "Epoch 65/100\n",
            "82/82 - 0s - loss: 0.0011\n",
            "Epoch 66/100\n",
            "82/82 - 0s - loss: 0.0011\n",
            "Epoch 67/100\n",
            "82/82 - 0s - loss: 0.0011\n",
            "Epoch 68/100\n",
            "82/82 - 0s - loss: 0.0010\n",
            "Epoch 69/100\n",
            "82/82 - 0s - loss: 0.0011\n",
            "Epoch 70/100\n",
            "82/82 - 0s - loss: 0.0010\n",
            "Epoch 71/100\n",
            "82/82 - 0s - loss: 0.0011\n",
            "Epoch 72/100\n",
            "82/82 - 0s - loss: 0.0011\n",
            "Epoch 73/100\n",
            "82/82 - 0s - loss: 0.0010\n",
            "Epoch 74/100\n",
            "82/82 - 0s - loss: 0.0011\n",
            "Epoch 75/100\n",
            "82/82 - 0s - loss: 0.0010\n",
            "Epoch 76/100\n",
            "82/82 - 0s - loss: 0.0010\n",
            "Epoch 77/100\n",
            "82/82 - 0s - loss: 0.0011\n",
            "Epoch 78/100\n",
            "82/82 - 0s - loss: 0.0010\n",
            "Epoch 79/100\n",
            "82/82 - 0s - loss: 0.0010\n",
            "Epoch 80/100\n",
            "82/82 - 0s - loss: 0.0010\n",
            "Epoch 81/100\n",
            "82/82 - 0s - loss: 0.0011\n",
            "Epoch 82/100\n",
            "82/82 - 0s - loss: 0.0011\n",
            "Epoch 83/100\n",
            "82/82 - 0s - loss: 0.0011\n",
            "Epoch 84/100\n",
            "82/82 - 0s - loss: 0.0011\n",
            "Epoch 85/100\n",
            "82/82 - 0s - loss: 9.8701e-04\n",
            "Epoch 86/100\n",
            "82/82 - 0s - loss: 0.0011\n",
            "Epoch 87/100\n",
            "82/82 - 0s - loss: 9.9042e-04\n",
            "Epoch 88/100\n",
            "82/82 - 0s - loss: 0.0010\n",
            "Epoch 89/100\n",
            "82/82 - 0s - loss: 0.0010\n",
            "Epoch 90/100\n",
            "82/82 - 0s - loss: 0.0010\n",
            "Epoch 91/100\n",
            "82/82 - 0s - loss: 0.0011\n",
            "Epoch 92/100\n",
            "82/82 - 0s - loss: 9.9675e-04\n",
            "Epoch 93/100\n",
            "82/82 - 0s - loss: 0.0010\n",
            "Epoch 94/100\n",
            "82/82 - 0s - loss: 9.9921e-04\n",
            "Epoch 95/100\n",
            "82/82 - 0s - loss: 0.0010\n",
            "Epoch 96/100\n",
            "82/82 - 0s - loss: 0.0010\n",
            "Epoch 97/100\n",
            "82/82 - 0s - loss: 0.0010\n",
            "Epoch 98/100\n",
            "82/82 - 0s - loss: 0.0010\n",
            "Epoch 99/100\n",
            "82/82 - 0s - loss: 0.0010\n",
            "Epoch 100/100\n",
            "82/82 - 0s - loss: 9.8803e-04\n"
          ],
          "name": "stdout"
        },
        {
          "output_type": "execute_result",
          "data": {
            "text/plain": [
              "<tensorflow.python.keras.callbacks.History at 0x7f7338e00550>"
            ]
          },
          "metadata": {
            "tags": []
          },
          "execution_count": 15
        }
      ]
    },
    {
      "cell_type": "code",
      "metadata": {
        "colab": {
          "base_uri": "https://localhost:8080/"
        },
        "id": "5ENRfci17yqY",
        "outputId": "09ff4483-4a4f-4205-8fb0-2402d623df5d"
      },
      "source": [
        "# make predictions\n",
        "trainPredict = model.predict(trainX)\n",
        "testPredict = model.predict(testX)\n",
        "# invert predictions\n",
        "trainPredict = scaler.inverse_transform(trainPredict)\n",
        "trainY = scaler.inverse_transform([trainY])\n",
        "testPredict = scaler.inverse_transform(testPredict)\n",
        "testY = scaler.inverse_transform([testY])\n",
        "# calculate root mean squared error\n",
        "trainScore = math.sqrt(mean_squared_error(trainY[0], trainPredict[:, 0]))\n",
        "print('Train Score: %.2f RMSE' % (trainScore))\n",
        "testScore = math.sqrt(mean_squared_error(testY[0], testPredict[:, 0]))\n",
        "print('Test Score: %.2f RMSE' % (testScore))"
      ],
      "execution_count": 16,
      "outputs": [
        {
          "output_type": "stream",
          "text": [
            "Train Score: 20.63 RMSE\n",
            "Test Score: 13.36 RMSE\n"
          ],
          "name": "stdout"
        }
      ]
    },
    {
      "cell_type": "code",
      "metadata": {
        "id": "dwJLVp5g7wJZ"
      },
      "source": [
        "# shift train predictions for plotting\n",
        "trainPredictPlot = np.empty_like(dataset)\n",
        "trainPredictPlot[:, :] = np.nan\n",
        "trainPredictPlot[look_back:len(trainPredict)+look_back, :] = trainPredict\n",
        "# shift test predictions for plotting\n",
        "testPredictPlot = np.empty_like(dataset)\n",
        "testPredictPlot[:, :] = np.nan\n",
        "testPredictPlot[len(trainPredict)+(look_back*2) +\n",
        "                1:len(dataset)-1, :] = testPredict"
      ],
      "execution_count": 17,
      "outputs": []
    },
    {
      "cell_type": "code",
      "metadata": {
        "colab": {
          "base_uri": "https://localhost:8080/",
          "height": 320
        },
        "id": "qLkyDGAN7485",
        "outputId": "2816fdee-10e1-4223-921b-41ac0e18a730"
      },
      "source": [
        "# plot baseline and predictions\n",
        "plt.figure(figsize=(10, 5))\n",
        "plt.plot(scaler.inverse_transform(dataset), label='Full original data')\n",
        "plt.plot(trainPredictPlot, label='Train')\n",
        "plt.plot(testPredictPlot, label='Test')\n",
        "plt.legend()\n",
        "plt.show()"
      ],
      "execution_count": 18,
      "outputs": [
        {
          "output_type": "display_data",
          "data": {
            "image/png": "[encoded data removed]",
            "text/plain": [
              "<Figure size 720x360 with 1 Axes>"
            ]
          },
          "metadata": {
            "tags": [],
            "needs_background": "light"
          }
        }
      ]
    },
    {
      "cell_type": "markdown",
      "metadata": {
        "id": "kxHWOXYO9Xp0"
      },
      "source": [
        "# 2. LSTM для Регрессии с использованием оконного метода"
      ]
    },
    {
      "cell_type": "code",
      "metadata": {
        "id": "dja9Cfje45Zh"
      },
      "source": [
        "# convert an array of values into a dataset matrix\r\n",
        "def create_dataset(dataset, look_back=1):\r\n",
        "    dataX, dataY = [], []\r\n",
        "    for i in range(len(dataset)-look_back-1):\r\n",
        "        a = dataset[i:(i+look_back), 0]\r\n",
        "        dataX.append(a)\r\n",
        "        dataY.append(dataset[i + look_back, 0])\r\n",
        "    return np.array(dataX), np.array(dataY)"
      ],
      "execution_count": 19,
      "outputs": []
    },
    {
      "cell_type": "code",
      "metadata": {
        "id": "vs_nexun70tq"
      },
      "source": [
        "dataset = views[views.columns[0]].values.reshape(-1, 1)\n",
        "dataset = dataset.astype('float32')\n",
        "# normalize the dataset\n",
        "scaler = MinMaxScaler(feature_range=(0, 1))\n",
        "dataset = scaler.fit_transform(dataset)\n",
        "# split into train and test sets\n",
        "train_size = int(len(dataset) * 0.7)\n",
        "test_size = len(dataset) - train_size\n",
        "train, test = dataset[0:train_size, :], dataset[train_size:len(dataset), :]\n",
        "# reshape into X=t and Y=t+1\n",
        "look_back = 3\n",
        "trainX, trainY = create_dataset(train, look_back)\n",
        "testX, testY = create_dataset(test, look_back)\n",
        "# reshape input to be [samples, time steps, features]\n",
        "trainX = np.reshape(trainX, (trainX.shape[0], 1, trainX.shape[1]))\n",
        "testX = np.reshape(testX, (testX.shape[0], 1, testX.shape[1]))"
      ],
      "execution_count": 20,
      "outputs": []
    },
    {
      "cell_type": "code",
      "metadata": {
        "colab": {
          "base_uri": "https://localhost:8080/"
        },
        "id": "xuxwhNDu9DWU",
        "outputId": "ccdce003-d2d2-41e1-f6b3-6ca6ea28fbf2"
      },
      "source": [
        "print('Train X: \\n')\n",
        "print(trainX[:])\n",
        "print('Train Y: \\n')\n",
        "print(trainY[:])"
      ],
      "execution_count": 21,
      "outputs": [
        {
          "output_type": "stream",
          "text": [
            "Train X: \n",
            "\n",
            "[[[0.         0.         0.        ]]\n",
            "\n",
            " [[0.         0.         0.        ]]\n",
            "\n",
            " [[0.         0.         0.05674846]]\n",
            "\n",
            " [[0.         0.05674846 0.05674846]]\n",
            "\n",
            " [[0.05674846 0.05674846 0.05674846]]\n",
            "\n",
            " [[0.05674846 0.05674846 0.05674846]]\n",
            "\n",
            " [[0.05674846 0.05674846 0.05674846]]\n",
            "\n",
            " [[0.05674846 0.05674846 0.05674846]]\n",
            "\n",
            " [[0.05674846 0.05674846 0.05674846]]\n",
            "\n",
            " [[0.05674846 0.05674846 0.05674846]]\n",
            "\n",
            " [[0.05674846 0.05674846 0.05674846]]\n",
            "\n",
            " [[0.05674846 0.05674846 0.05674846]]\n",
            "\n",
            " [[0.05674846 0.05674846 0.21932516]]\n",
            "\n",
            " [[0.05674846 0.21932516 0.21932516]]\n",
            "\n",
            " [[0.21932516 0.21932516 0.21932516]]\n",
            "\n",
            " [[0.21932516 0.21932516 0.21932516]]\n",
            "\n",
            " [[0.21932516 0.21932516 0.21932516]]\n",
            "\n",
            " [[0.21932516 0.21932516 0.21932516]]\n",
            "\n",
            " [[0.21932516 0.21932516 0.21932516]]\n",
            "\n",
            " [[0.21932516 0.21932516 0.21932516]]\n",
            "\n",
            " [[0.21932516 0.21932516 0.21932516]]\n",
            "\n",
            " [[0.21932516 0.21932516 0.21932516]]\n",
            "\n",
            " [[0.21932516 0.21932516 0.34662575]]\n",
            "\n",
            " [[0.21932516 0.34662575 0.34662575]]\n",
            "\n",
            " [[0.34662575 0.34662575 0.34662575]]\n",
            "\n",
            " [[0.34662575 0.34662575 0.34662575]]\n",
            "\n",
            " [[0.34662575 0.34662575 0.34662575]]\n",
            "\n",
            " [[0.34662575 0.34662575 0.34662575]]\n",
            "\n",
            " [[0.34662575 0.34662575 0.34662575]]\n",
            "\n",
            " [[0.34662575 0.34662575 0.34662575]]\n",
            "\n",
            " [[0.34662575 0.34662575 0.34662575]]\n",
            "\n",
            " [[0.34662575 0.34662575 0.34662575]]\n",
            "\n",
            " [[0.34662575 0.34662575 0.4279141 ]]\n",
            "\n",
            " [[0.34662575 0.4279141  0.4279141 ]]\n",
            "\n",
            " [[0.4279141  0.4279141  0.4279141 ]]\n",
            "\n",
            " [[0.4279141  0.4279141  0.4279141 ]]\n",
            "\n",
            " [[0.4279141  0.4279141  0.4279141 ]]\n",
            "\n",
            " [[0.4279141  0.4279141  0.4279141 ]]\n",
            "\n",
            " [[0.4279141  0.4279141  0.4279141 ]]\n",
            "\n",
            " [[0.4279141  0.4279141  0.4279141 ]]\n",
            "\n",
            " [[0.4279141  0.4279141  0.4279141 ]]\n",
            "\n",
            " [[0.4279141  0.4279141  0.4279141 ]]\n",
            "\n",
            " [[0.4279141  0.4279141  0.5368098 ]]\n",
            "\n",
            " [[0.4279141  0.5368098  0.5368098 ]]\n",
            "\n",
            " [[0.5368098  0.5368098  0.5368098 ]]\n",
            "\n",
            " [[0.5368098  0.5368098  0.5368098 ]]\n",
            "\n",
            " [[0.5368098  0.5368098  0.5368098 ]]\n",
            "\n",
            " [[0.5368098  0.5368098  0.5368098 ]]\n",
            "\n",
            " [[0.5368098  0.5368098  0.5368098 ]]\n",
            "\n",
            " [[0.5368098  0.5368098  0.5368098 ]]\n",
            "\n",
            " [[0.5368098  0.5368098  0.5368098 ]]\n",
            "\n",
            " [[0.5368098  0.5368098  0.5368098 ]]\n",
            "\n",
            " [[0.5368098  0.5368098  0.59355825]]\n",
            "\n",
            " [[0.5368098  0.59355825 0.59355825]]\n",
            "\n",
            " [[0.59355825 0.59355825 0.59355825]]\n",
            "\n",
            " [[0.59355825 0.59355825 0.59355825]]\n",
            "\n",
            " [[0.59355825 0.59355825 0.59355825]]\n",
            "\n",
            " [[0.59355825 0.59355825 0.59355825]]\n",
            "\n",
            " [[0.59355825 0.59355825 0.59355825]]\n",
            "\n",
            " [[0.59355825 0.59355825 0.59355825]]\n",
            "\n",
            " [[0.59355825 0.59355825 0.59355825]]\n",
            "\n",
            " [[0.59355825 0.59355825 0.6641104 ]]\n",
            "\n",
            " [[0.59355825 0.6641104  0.6641104 ]]\n",
            "\n",
            " [[0.6641104  0.6641104  0.6641104 ]]\n",
            "\n",
            " [[0.6641104  0.6641104  0.6641104 ]]\n",
            "\n",
            " [[0.6641104  0.6641104  0.6641104 ]]\n",
            "\n",
            " [[0.6641104  0.6641104  0.6641104 ]]\n",
            "\n",
            " [[0.6641104  0.6641104  0.6641104 ]]\n",
            "\n",
            " [[0.6641104  0.6641104  0.6641104 ]]\n",
            "\n",
            " [[0.6641104  0.6641104  0.6641104 ]]\n",
            "\n",
            " [[0.6641104  0.6641104  0.6641104 ]]\n",
            "\n",
            " [[0.6641104  0.6641104  0.74539876]]\n",
            "\n",
            " [[0.6641104  0.74539876 0.74539876]]\n",
            "\n",
            " [[0.74539876 0.74539876 0.74539876]]\n",
            "\n",
            " [[0.74539876 0.74539876 0.74539876]]\n",
            "\n",
            " [[0.74539876 0.74539876 0.74539876]]\n",
            "\n",
            " [[0.74539876 0.74539876 0.74539876]]\n",
            "\n",
            " [[0.74539876 0.74539876 0.74539876]]\n",
            "\n",
            " [[0.74539876 0.74539876 0.8174846 ]]\n",
            "\n",
            " [[0.74539876 0.8174846  0.8174846 ]]]\n",
            "Train Y: \n",
            "\n",
            "[0.         0.05674846 0.05674846 0.05674846 0.05674846 0.05674846\n",
            " 0.05674846 0.05674846 0.05674846 0.05674846 0.05674846 0.21932516\n",
            " 0.21932516 0.21932516 0.21932516 0.21932516 0.21932516 0.21932516\n",
            " 0.21932516 0.21932516 0.21932516 0.34662575 0.34662575 0.34662575\n",
            " 0.34662575 0.34662575 0.34662575 0.34662575 0.34662575 0.34662575\n",
            " 0.34662575 0.4279141  0.4279141  0.4279141  0.4279141  0.4279141\n",
            " 0.4279141  0.4279141  0.4279141  0.4279141  0.4279141  0.5368098\n",
            " 0.5368098  0.5368098  0.5368098  0.5368098  0.5368098  0.5368098\n",
            " 0.5368098  0.5368098  0.5368098  0.59355825 0.59355825 0.59355825\n",
            " 0.59355825 0.59355825 0.59355825 0.59355825 0.59355825 0.59355825\n",
            " 0.6641104  0.6641104  0.6641104  0.6641104  0.6641104  0.6641104\n",
            " 0.6641104  0.6641104  0.6641104  0.6641104  0.74539876 0.74539876\n",
            " 0.74539876 0.74539876 0.74539876 0.74539876 0.74539876 0.8174846\n",
            " 0.8174846  0.8174846 ]\n"
          ],
          "name": "stdout"
        }
      ]
    },
    {
      "cell_type": "code",
      "metadata": {
        "colab": {
          "base_uri": "https://localhost:8080/"
        },
        "id": "1AZJPapB_DIX",
        "outputId": "e65fac91-8ffe-403c-dbff-2bc0bb419ddd"
      },
      "source": [
        "print('Test X: \\n')\r\n",
        "print(testX[:])\r\n",
        "print('Test Y: \\n')\r\n",
        "print(testY[:])"
      ],
      "execution_count": 22,
      "outputs": [
        {
          "output_type": "stream",
          "text": [
            "Test X: \n",
            "\n",
            "[[[0.8174846 0.8174846 0.8174846]]\n",
            "\n",
            " [[0.8174846 0.8174846 0.8174846]]\n",
            "\n",
            " [[0.8174846 0.8174846 0.8174846]]\n",
            "\n",
            " [[0.8174846 0.8174846 0.8174846]]\n",
            "\n",
            " [[0.8174846 0.8174846 0.8174846]]\n",
            "\n",
            " [[0.8174846 0.8174846 0.8174846]]\n",
            "\n",
            " [[0.8174846 0.8174846 0.8481595]]\n",
            "\n",
            " [[0.8174846 0.8481595 0.8481595]]\n",
            "\n",
            " [[0.8481595 0.8481595 0.8481595]]\n",
            "\n",
            " [[0.8481595 0.8481595 0.8481595]]\n",
            "\n",
            " [[0.8481595 0.8481595 0.8481595]]\n",
            "\n",
            " [[0.8481595 0.8481595 0.8481595]]\n",
            "\n",
            " [[0.8481595 0.8481595 0.8481595]]\n",
            "\n",
            " [[0.8481595 0.8481595 0.8481595]]\n",
            "\n",
            " [[0.8481595 0.8481595 0.8481595]]\n",
            "\n",
            " [[0.8481595 0.8481595 0.9171779]]\n",
            "\n",
            " [[0.8481595 0.9171779 0.9171779]]\n",
            "\n",
            " [[0.9171779 0.9171779 0.9171779]]\n",
            "\n",
            " [[0.9171779 0.9171779 0.9171779]]\n",
            "\n",
            " [[0.9171779 0.9171779 0.9171779]]\n",
            "\n",
            " [[0.9171779 0.9171779 0.9171779]]\n",
            "\n",
            " [[0.9171779 0.9171779 0.9171779]]\n",
            "\n",
            " [[0.9171779 0.9171779 0.9171779]]\n",
            "\n",
            " [[0.9171779 0.9171779 0.9171779]]\n",
            "\n",
            " [[0.9171779 0.9171779 0.9171779]]\n",
            "\n",
            " [[0.9171779 0.9171779 0.9570552]]\n",
            "\n",
            " [[0.9171779 0.9570552 0.9570552]]\n",
            "\n",
            " [[0.9570552 0.9570552 0.9570552]]\n",
            "\n",
            " [[0.9570552 0.9570552 0.9570552]]\n",
            "\n",
            " [[0.9570552 0.9570552 0.9570552]]\n",
            "\n",
            " [[0.9570552 0.9570552 0.9570552]]\n",
            "\n",
            " [[0.9570552 0.9570552 0.9570552]]\n",
            "\n",
            " [[0.9570552 0.9570552 0.9570552]]]\n",
            "Test Y: \n",
            "\n",
            "[0.8174846 0.8174846 0.8174846 0.8174846 0.8174846 0.8481595 0.8481595\n",
            " 0.8481595 0.8481595 0.8481595 0.8481595 0.8481595 0.8481595 0.8481595\n",
            " 0.9171779 0.9171779 0.9171779 0.9171779 0.9171779 0.9171779 0.9171779\n",
            " 0.9171779 0.9171779 0.9171779 0.9570552 0.9570552 0.9570552 0.9570552\n",
            " 0.9570552 0.9570552 0.9570552 0.9570552 0.9570552]\n"
          ],
          "name": "stdout"
        }
      ]
    },
    {
      "cell_type": "code",
      "metadata": {
        "colab": {
          "base_uri": "https://localhost:8080/"
        },
        "id": "zyakCaD49fmm",
        "outputId": "68ab7787-77b1-44a2-a0b5-b650bf19bd5a"
      },
      "source": [
        "print(trainX.shape, trainY.shape)"
      ],
      "execution_count": 23,
      "outputs": [
        {
          "output_type": "stream",
          "text": [
            "(80, 1, 3) (80,)\n"
          ],
          "name": "stdout"
        }
      ]
    },
    {
      "cell_type": "code",
      "metadata": {
        "colab": {
          "base_uri": "https://localhost:8080/"
        },
        "id": "lFYersm19uQe",
        "outputId": "17c694ef-e75d-418c-b1ae-79924f4b9a66"
      },
      "source": [
        "print(testX.shape, testY.shape)"
      ],
      "execution_count": 24,
      "outputs": [
        {
          "output_type": "stream",
          "text": [
            "(33, 1, 3) (33,)\n"
          ],
          "name": "stdout"
        }
      ]
    },
    {
      "cell_type": "code",
      "metadata": {
        "colab": {
          "base_uri": "https://localhost:8080/",
          "height": 1000
        },
        "id": "PiESIw_w8bI3",
        "outputId": "53c0e9c6-dc29-404d-be71-2e9b2eb0f667"
      },
      "source": [
        "# create and fit the LSTM network\n",
        "model = Sequential()\n",
        "model.add(LSTM(4, input_shape=(1, look_back)))\n",
        "model.add(Dense(1))\n",
        "model.compile(loss='mean_squared_error', optimizer='adam')\n",
        "model.fit(trainX, trainY, epochs=100, batch_size=1, verbose=2)\n",
        "# make predictions\n",
        "trainPredict = model.predict(trainX)\n",
        "testPredict = model.predict(testX)\n",
        "# invert predictions\n",
        "trainPredict = scaler.inverse_transform(trainPredict)\n",
        "trainY = scaler.inverse_transform([trainY])\n",
        "testPredict = scaler.inverse_transform(testPredict)\n",
        "testY = scaler.inverse_transform([testY])\n",
        "# calculate root mean squared error\n",
        "trainScore = math.sqrt(mean_squared_error(trainY[0], trainPredict[:, 0]))\n",
        "print('Train Score: %.2f RMSE' % (trainScore))\n",
        "testScore = math.sqrt(mean_squared_error(testY[0], testPredict[:, 0]))\n",
        "print('Test Score: %.2f RMSE' % (testScore))\n",
        "# shift train predictions for plotting\n",
        "trainPredictPlot = np.empty_like(dataset)\n",
        "trainPredictPlot[:, :] = np.nan\n",
        "trainPredictPlot[look_back:len(trainPredict)+look_back, :] = trainPredict\n",
        "# shift test predictions for plotting\n",
        "testPredictPlot = np.empty_like(dataset)\n",
        "testPredictPlot[:, :] = np.nan\n",
        "testPredictPlot[len(trainPredict)+(look_back*2) +\n",
        "                1:len(dataset)-1, :] = testPredict\n",
        "# plot baseline and predictions\n",
        "plt.plot(scaler.inverse_transform(dataset))\n",
        "plt.plot(trainPredictPlot)\n",
        "plt.plot(testPredictPlot)\n",
        "plt.show()"
      ],
      "execution_count": 25,
      "outputs": [
        {
          "output_type": "stream",
          "text": [
            "Epoch 1/100\n",
            "80/80 - 2s - loss: 0.1091\n",
            "Epoch 2/100\n",
            "80/80 - 0s - loss: 0.0343\n",
            "Epoch 3/100\n",
            "80/80 - 0s - loss: 0.0126\n",
            "Epoch 4/100\n",
            "80/80 - 0s - loss: 0.0089\n",
            "Epoch 5/100\n",
            "80/80 - 0s - loss: 0.0071\n",
            "Epoch 6/100\n",
            "80/80 - 0s - loss: 0.0056\n",
            "Epoch 7/100\n",
            "80/80 - 0s - loss: 0.0043\n",
            "Epoch 8/100\n",
            "80/80 - 0s - loss: 0.0033\n",
            "Epoch 9/100\n",
            "80/80 - 0s - loss: 0.0025\n",
            "Epoch 10/100\n",
            "80/80 - 0s - loss: 0.0021\n",
            "Epoch 11/100\n",
            "80/80 - 0s - loss: 0.0017\n",
            "Epoch 12/100\n",
            "80/80 - 0s - loss: 0.0015\n",
            "Epoch 13/100\n",
            "80/80 - 0s - loss: 0.0013\n",
            "Epoch 14/100\n",
            "80/80 - 0s - loss: 0.0013\n",
            "Epoch 15/100\n",
            "80/80 - 0s - loss: 0.0012\n",
            "Epoch 16/100\n",
            "80/80 - 0s - loss: 0.0012\n",
            "Epoch 17/100\n",
            "80/80 - 0s - loss: 0.0012\n",
            "Epoch 18/100\n",
            "80/80 - 0s - loss: 0.0012\n",
            "Epoch 19/100\n",
            "80/80 - 0s - loss: 0.0012\n",
            "Epoch 20/100\n",
            "80/80 - 0s - loss: 0.0013\n",
            "Epoch 21/100\n",
            "80/80 - 0s - loss: 0.0012\n",
            "Epoch 22/100\n",
            "80/80 - 0s - loss: 0.0012\n",
            "Epoch 23/100\n",
            "80/80 - 0s - loss: 0.0012\n",
            "Epoch 24/100\n",
            "80/80 - 0s - loss: 0.0012\n",
            "Epoch 25/100\n",
            "80/80 - 0s - loss: 0.0012\n",
            "Epoch 26/100\n",
            "80/80 - 0s - loss: 0.0012\n",
            "Epoch 27/100\n",
            "80/80 - 0s - loss: 0.0012\n",
            "Epoch 28/100\n",
            "80/80 - 0s - loss: 0.0012\n",
            "Epoch 29/100\n",
            "80/80 - 0s - loss: 0.0011\n",
            "Epoch 30/100\n",
            "80/80 - 0s - loss: 0.0012\n",
            "Epoch 31/100\n",
            "80/80 - 0s - loss: 0.0012\n",
            "Epoch 32/100\n",
            "80/80 - 0s - loss: 0.0012\n",
            "Epoch 33/100\n",
            "80/80 - 0s - loss: 0.0012\n",
            "Epoch 34/100\n",
            "80/80 - 0s - loss: 0.0012\n",
            "Epoch 35/100\n",
            "80/80 - 0s - loss: 0.0013\n",
            "Epoch 36/100\n",
            "80/80 - 0s - loss: 0.0012\n",
            "Epoch 37/100\n",
            "80/80 - 0s - loss: 0.0012\n",
            "Epoch 38/100\n",
            "80/80 - 0s - loss: 0.0012\n",
            "Epoch 39/100\n",
            "80/80 - 0s - loss: 0.0012\n",
            "Epoch 40/100\n",
            "80/80 - 0s - loss: 0.0012\n",
            "Epoch 41/100\n",
            "80/80 - 0s - loss: 0.0012\n",
            "Epoch 42/100\n",
            "80/80 - 0s - loss: 0.0012\n",
            "Epoch 43/100\n",
            "80/80 - 0s - loss: 0.0013\n",
            "Epoch 44/100\n",
            "80/80 - 0s - loss: 0.0012\n",
            "Epoch 45/100\n",
            "80/80 - 0s - loss: 0.0012\n",
            "Epoch 46/100\n",
            "80/80 - 0s - loss: 0.0011\n",
            "Epoch 47/100\n",
            "80/80 - 0s - loss: 0.0012\n",
            "Epoch 48/100\n",
            "80/80 - 0s - loss: 0.0012\n",
            "Epoch 49/100\n",
            "80/80 - 0s - loss: 0.0012\n",
            "Epoch 50/100\n",
            "80/80 - 0s - loss: 0.0012\n",
            "Epoch 51/100\n",
            "80/80 - 0s - loss: 0.0012\n",
            "Epoch 52/100\n",
            "80/80 - 0s - loss: 0.0012\n",
            "Epoch 53/100\n",
            "80/80 - 0s - loss: 0.0012\n",
            "Epoch 54/100\n",
            "80/80 - 0s - loss: 0.0012\n",
            "Epoch 55/100\n",
            "80/80 - 0s - loss: 0.0011\n",
            "Epoch 56/100\n",
            "80/80 - 0s - loss: 0.0012\n",
            "Epoch 57/100\n",
            "80/80 - 0s - loss: 0.0011\n",
            "Epoch 58/100\n",
            "80/80 - 0s - loss: 0.0011\n",
            "Epoch 59/100\n",
            "80/80 - 0s - loss: 0.0011\n",
            "Epoch 60/100\n",
            "80/80 - 0s - loss: 0.0011\n",
            "Epoch 61/100\n",
            "80/80 - 0s - loss: 0.0012\n",
            "Epoch 62/100\n",
            "80/80 - 0s - loss: 0.0011\n",
            "Epoch 63/100\n",
            "80/80 - 0s - loss: 0.0011\n",
            "Epoch 64/100\n",
            "80/80 - 0s - loss: 0.0012\n",
            "Epoch 65/100\n",
            "80/80 - 0s - loss: 0.0011\n",
            "Epoch 66/100\n",
            "80/80 - 0s - loss: 0.0011\n",
            "Epoch 67/100\n",
            "80/80 - 0s - loss: 0.0011\n",
            "Epoch 68/100\n",
            "80/80 - 0s - loss: 0.0011\n",
            "Epoch 69/100\n",
            "80/80 - 0s - loss: 0.0012\n",
            "Epoch 70/100\n",
            "80/80 - 0s - loss: 0.0011\n",
            "Epoch 71/100\n",
            "80/80 - 0s - loss: 0.0011\n",
            "Epoch 72/100\n",
            "80/80 - 0s - loss: 0.0011\n",
            "Epoch 73/100\n",
            "80/80 - 0s - loss: 0.0012\n",
            "Epoch 74/100\n",
            "80/80 - 0s - loss: 0.0011\n",
            "Epoch 75/100\n",
            "80/80 - 0s - loss: 0.0011\n",
            "Epoch 76/100\n",
            "80/80 - 0s - loss: 0.0011\n",
            "Epoch 77/100\n",
            "80/80 - 0s - loss: 0.0011\n",
            "Epoch 78/100\n",
            "80/80 - 0s - loss: 0.0011\n",
            "Epoch 79/100\n",
            "80/80 - 0s - loss: 0.0011\n",
            "Epoch 80/100\n",
            "80/80 - 0s - loss: 0.0011\n",
            "Epoch 81/100\n",
            "80/80 - 0s - loss: 0.0011\n",
            "Epoch 82/100\n",
            "80/80 - 0s - loss: 0.0011\n",
            "Epoch 83/100\n",
            "80/80 - 0s - loss: 0.0011\n",
            "Epoch 84/100\n",
            "80/80 - 0s - loss: 0.0011\n",
            "Epoch 85/100\n",
            "80/80 - 0s - loss: 0.0011\n",
            "Epoch 86/100\n",
            "80/80 - 0s - loss: 0.0011\n",
            "Epoch 87/100\n",
            "80/80 - 0s - loss: 0.0011\n",
            "Epoch 88/100\n",
            "80/80 - 0s - loss: 0.0011\n",
            "Epoch 89/100\n",
            "80/80 - 0s - loss: 0.0011\n",
            "Epoch 90/100\n",
            "80/80 - 0s - loss: 0.0011\n",
            "Epoch 91/100\n",
            "80/80 - 0s - loss: 0.0012\n",
            "Epoch 92/100\n",
            "80/80 - 0s - loss: 0.0011\n",
            "Epoch 93/100\n",
            "80/80 - 0s - loss: 0.0010\n",
            "Epoch 94/100\n",
            "80/80 - 0s - loss: 0.0011\n",
            "Epoch 95/100\n",
            "80/80 - 0s - loss: 0.0011\n",
            "Epoch 96/100\n",
            "80/80 - 0s - loss: 0.0011\n",
            "Epoch 97/100\n",
            "80/80 - 0s - loss: 0.0011\n",
            "Epoch 98/100\n",
            "80/80 - 0s - loss: 0.0011\n",
            "Epoch 99/100\n",
            "80/80 - 0s - loss: 0.0011\n",
            "Epoch 100/100\n",
            "80/80 - 0s - loss: 0.0011\n",
            "Train Score: 20.64 RMSE\n",
            "Test Score: 12.70 RMSE\n"
          ],
          "name": "stdout"
        },
        {
          "output_type": "display_data",
          "data": {
            "image/png": "[encoded data removed]",
            "text/plain": [
              "<Figure size 432x288 with 1 Axes>"
            ]
          },
          "metadata": {
            "tags": [],
            "needs_background": "light"
          }
        }
      ]
    },
    {
      "cell_type": "markdown",
      "metadata": {
        "id": "m4uGJ7CL-BkQ"
      },
      "source": [
        "# 3. LSTM для регрессии с  Time Steps"
      ]
    },
    {
      "cell_type": "code",
      "metadata": {
        "id": "HwKlmkmn-Dw_"
      },
      "source": [
        "dataset = views[views.columns[0]].values.reshape(-1, 1)\n",
        "dataset = dataset.astype('float32')\n",
        "# normalize the dataset\n",
        "scaler = MinMaxScaler(feature_range=(0, 1))\n",
        "dataset = scaler.fit_transform(dataset)\n",
        "# split into train and test sets\n",
        "train_size = int(len(dataset) * 0.67)\n",
        "test_size = len(dataset) - train_size\n",
        "train, test = dataset[0:train_size, :], dataset[train_size:len(dataset), :]\n",
        "# reshape into X=t and Y=t+1\n",
        "look_back = 3\n",
        "trainX, trainY = create_dataset(train, look_back)\n",
        "testX, testY = create_dataset(test, look_back)\n",
        "# reshape input to be [samples, time steps, features]\n",
        "trainX = np.reshape(trainX, (trainX.shape[0], trainX.shape[1], 1))\n",
        "testX = np.reshape(testX, (testX.shape[0], testX.shape[1], 1))"
      ],
      "execution_count": 26,
      "outputs": []
    },
    {
      "cell_type": "code",
      "metadata": {
        "colab": {
          "base_uri": "https://localhost:8080/"
        },
        "id": "z0T9cIIY-N8n",
        "outputId": "d2c64abb-8ac0-401a-d09f-3aab3b2a741e"
      },
      "source": [
        "print('Train X: \\n')\n",
        "print(trainX[:7])\n",
        "print('Train Y: \\n')\n",
        "print(trainY[:7])"
      ],
      "execution_count": 27,
      "outputs": [
        {
          "output_type": "stream",
          "text": [
            "Train X: \n",
            "\n",
            "[[[0.        ]\n",
            "  [0.        ]\n",
            "  [0.        ]]\n",
            "\n",
            " [[0.        ]\n",
            "  [0.        ]\n",
            "  [0.        ]]\n",
            "\n",
            " [[0.        ]\n",
            "  [0.        ]\n",
            "  [0.05674846]]\n",
            "\n",
            " [[0.        ]\n",
            "  [0.05674846]\n",
            "  [0.05674846]]\n",
            "\n",
            " [[0.05674846]\n",
            "  [0.05674846]\n",
            "  [0.05674846]]\n",
            "\n",
            " [[0.05674846]\n",
            "  [0.05674846]\n",
            "  [0.05674846]]\n",
            "\n",
            " [[0.05674846]\n",
            "  [0.05674846]\n",
            "  [0.05674846]]]\n",
            "Train Y: \n",
            "\n",
            "[0.         0.05674846 0.05674846 0.05674846 0.05674846 0.05674846\n",
            " 0.05674846]\n"
          ],
          "name": "stdout"
        }
      ]
    },
    {
      "cell_type": "code",
      "metadata": {
        "colab": {
          "base_uri": "https://localhost:8080/"
        },
        "id": "82CyN93y-N8o",
        "outputId": "bbd3bb10-871b-4623-e568-4895e339fcee"
      },
      "source": [
        "print(trainX.shape, trainY.shape)"
      ],
      "execution_count": 28,
      "outputs": [
        {
          "output_type": "stream",
          "text": [
            "(77, 3, 1) (77,)\n"
          ],
          "name": "stdout"
        }
      ]
    },
    {
      "cell_type": "code",
      "metadata": {
        "colab": {
          "base_uri": "https://localhost:8080/"
        },
        "id": "N8ZACDRR-N8p",
        "outputId": "b47e2751-f5c1-4cee-9b3e-6e0f9fa8ac0a"
      },
      "source": [
        "print(testX.shape, testY.shape)"
      ],
      "execution_count": 29,
      "outputs": [
        {
          "output_type": "stream",
          "text": [
            "(36, 3, 1) (36,)\n"
          ],
          "name": "stdout"
        }
      ]
    },
    {
      "cell_type": "code",
      "metadata": {
        "colab": {
          "base_uri": "https://localhost:8080/"
        },
        "id": "NgyBTd6m-Oy3",
        "outputId": "98ec3845-5bf7-4b96-a5b2-3de956b6953a"
      },
      "source": [
        "# create and fit the LSTM network\n",
        "model = Sequential()\n",
        "model.add(LSTM(4, input_shape=(look_back, 1)))\n",
        "model.add(Dense(1))\n",
        "model.compile(loss='mean_squared_error', optimizer='adam')\n",
        "model.fit(trainX, trainY, epochs=100, batch_size=1, verbose=2)\n",
        "# make predictions\n",
        "trainPredict = model.predict(trainX)\n",
        "testPredict = model.predict(testX)\n",
        "# invert predictions\n",
        "trainPredict = scaler.inverse_transform(trainPredict)\n",
        "trainY = scaler.inverse_transform([trainY])\n",
        "testPredict = scaler.inverse_transform(testPredict)\n",
        "testY = scaler.inverse_transform([testY])\n",
        "# calculate root mean squared error\n",
        "trainScore = math.sqrt(mean_squared_error(trainY[0], trainPredict[:, 0]))\n",
        "print('Train Score: %.2f RMSE' % (trainScore))\n",
        "testScore = math.sqrt(mean_squared_error(testY[0], testPredict[:, 0]))\n",
        "print('Test Score: %.2f RMSE' % (testScore))\n",
        "# shift train predictions for plotting\n",
        "trainPredictPlot = np.empty_like(dataset)\n",
        "trainPredictPlot[:, :] = np.nan\n",
        "trainPredictPlot[look_back:len(trainPredict)+look_back, :] = trainPredict\n",
        "# shift test predictions for plotting\n",
        "testPredictPlot = np.empty_like(dataset)\n",
        "testPredictPlot[:, :] = np.nan\n",
        "testPredictPlot[len(trainPredict)+(look_back*2) +\n",
        "                1:len(dataset)-1, :] = testPredict"
      ],
      "execution_count": 30,
      "outputs": [
        {
          "output_type": "stream",
          "text": [
            "Epoch 1/100\n",
            "77/77 - 1s - loss: 0.2229\n",
            "Epoch 2/100\n",
            "77/77 - 0s - loss: 0.1218\n",
            "Epoch 3/100\n",
            "77/77 - 0s - loss: 0.0575\n",
            "Epoch 4/100\n",
            "77/77 - 0s - loss: 0.0367\n",
            "Epoch 5/100\n",
            "77/77 - 0s - loss: 0.0309\n",
            "Epoch 6/100\n",
            "77/77 - 0s - loss: 0.0266\n",
            "Epoch 7/100\n",
            "77/77 - 0s - loss: 0.0226\n",
            "Epoch 8/100\n",
            "77/77 - 0s - loss: 0.0190\n",
            "Epoch 9/100\n",
            "77/77 - 0s - loss: 0.0156\n",
            "Epoch 10/100\n",
            "77/77 - 0s - loss: 0.0124\n",
            "Epoch 11/100\n",
            "77/77 - 0s - loss: 0.0097\n",
            "Epoch 12/100\n",
            "77/77 - 0s - loss: 0.0073\n",
            "Epoch 13/100\n",
            "77/77 - 0s - loss: 0.0054\n",
            "Epoch 14/100\n",
            "77/77 - 0s - loss: 0.0040\n",
            "Epoch 15/100\n",
            "77/77 - 0s - loss: 0.0030\n",
            "Epoch 16/100\n",
            "77/77 - 0s - loss: 0.0023\n",
            "Epoch 17/100\n",
            "77/77 - 0s - loss: 0.0018\n",
            "Epoch 18/100\n",
            "77/77 - 0s - loss: 0.0017\n",
            "Epoch 19/100\n",
            "77/77 - 0s - loss: 0.0015\n",
            "Epoch 20/100\n",
            "77/77 - 0s - loss: 0.0014\n",
            "Epoch 21/100\n",
            "77/77 - 0s - loss: 0.0014\n",
            "Epoch 22/100\n",
            "77/77 - 0s - loss: 0.0014\n",
            "Epoch 23/100\n",
            "77/77 - 0s - loss: 0.0014\n",
            "Epoch 24/100\n",
            "77/77 - 0s - loss: 0.0014\n",
            "Epoch 25/100\n",
            "77/77 - 0s - loss: 0.0014\n",
            "Epoch 26/100\n",
            "77/77 - 0s - loss: 0.0014\n",
            "Epoch 27/100\n",
            "77/77 - 0s - loss: 0.0014\n",
            "Epoch 28/100\n",
            "77/77 - 0s - loss: 0.0014\n",
            "Epoch 29/100\n",
            "77/77 - 0s - loss: 0.0014\n",
            "Epoch 30/100\n",
            "77/77 - 0s - loss: 0.0014\n",
            "Epoch 31/100\n",
            "77/77 - 0s - loss: 0.0014\n",
            "Epoch 32/100\n",
            "77/77 - 0s - loss: 0.0014\n",
            "Epoch 33/100\n",
            "77/77 - 0s - loss: 0.0014\n",
            "Epoch 34/100\n",
            "77/77 - 0s - loss: 0.0015\n",
            "Epoch 35/100\n",
            "77/77 - 0s - loss: 0.0014\n",
            "Epoch 36/100\n",
            "77/77 - 0s - loss: 0.0014\n",
            "Epoch 37/100\n",
            "77/77 - 0s - loss: 0.0015\n",
            "Epoch 38/100\n",
            "77/77 - 0s - loss: 0.0014\n",
            "Epoch 39/100\n",
            "77/77 - 0s - loss: 0.0014\n",
            "Epoch 40/100\n",
            "77/77 - 0s - loss: 0.0014\n",
            "Epoch 41/100\n",
            "77/77 - 0s - loss: 0.0014\n",
            "Epoch 42/100\n",
            "77/77 - 0s - loss: 0.0013\n",
            "Epoch 43/100\n",
            "77/77 - 0s - loss: 0.0013\n",
            "Epoch 44/100\n",
            "77/77 - 0s - loss: 0.0015\n",
            "Epoch 45/100\n",
            "77/77 - 0s - loss: 0.0014\n",
            "Epoch 46/100\n",
            "77/77 - 0s - loss: 0.0014\n",
            "Epoch 47/100\n",
            "77/77 - 0s - loss: 0.0014\n",
            "Epoch 48/100\n",
            "77/77 - 0s - loss: 0.0013\n",
            "Epoch 49/100\n",
            "77/77 - 0s - loss: 0.0014\n",
            "Epoch 50/100\n",
            "77/77 - 0s - loss: 0.0014\n",
            "Epoch 51/100\n",
            "77/77 - 0s - loss: 0.0014\n",
            "Epoch 52/100\n",
            "77/77 - 0s - loss: 0.0014\n",
            "Epoch 53/100\n",
            "77/77 - 0s - loss: 0.0014\n",
            "Epoch 54/100\n",
            "77/77 - 0s - loss: 0.0014\n",
            "Epoch 55/100\n",
            "77/77 - 0s - loss: 0.0013\n",
            "Epoch 56/100\n",
            "77/77 - 0s - loss: 0.0013\n",
            "Epoch 57/100\n",
            "77/77 - 0s - loss: 0.0013\n",
            "Epoch 58/100\n",
            "77/77 - 0s - loss: 0.0013\n",
            "Epoch 59/100\n",
            "77/77 - 0s - loss: 0.0014\n",
            "Epoch 60/100\n",
            "77/77 - 0s - loss: 0.0013\n",
            "Epoch 61/100\n",
            "77/77 - 0s - loss: 0.0014\n",
            "Epoch 62/100\n",
            "77/77 - 0s - loss: 0.0014\n",
            "Epoch 63/100\n",
            "77/77 - 0s - loss: 0.0014\n",
            "Epoch 64/100\n",
            "77/77 - 0s - loss: 0.0014\n",
            "Epoch 65/100\n",
            "77/77 - 0s - loss: 0.0014\n",
            "Epoch 66/100\n",
            "77/77 - 0s - loss: 0.0014\n",
            "Epoch 67/100\n",
            "77/77 - 0s - loss: 0.0014\n",
            "Epoch 68/100\n",
            "77/77 - 0s - loss: 0.0014\n",
            "Epoch 69/100\n",
            "77/77 - 0s - loss: 0.0013\n",
            "Epoch 70/100\n",
            "77/77 - 0s - loss: 0.0013\n",
            "Epoch 71/100\n",
            "77/77 - 0s - loss: 0.0013\n",
            "Epoch 72/100\n",
            "77/77 - 0s - loss: 0.0013\n",
            "Epoch 73/100\n",
            "77/77 - 0s - loss: 0.0014\n",
            "Epoch 74/100\n",
            "77/77 - 0s - loss: 0.0013\n",
            "Epoch 75/100\n",
            "77/77 - 0s - loss: 0.0013\n",
            "Epoch 76/100\n",
            "77/77 - 0s - loss: 0.0014\n",
            "Epoch 77/100\n",
            "77/77 - 0s - loss: 0.0014\n",
            "Epoch 78/100\n",
            "77/77 - 0s - loss: 0.0013\n",
            "Epoch 79/100\n",
            "77/77 - 0s - loss: 0.0014\n",
            "Epoch 80/100\n",
            "77/77 - 0s - loss: 0.0013\n",
            "Epoch 81/100\n",
            "77/77 - 0s - loss: 0.0014\n",
            "Epoch 82/100\n",
            "77/77 - 0s - loss: 0.0014\n",
            "Epoch 83/100\n",
            "77/77 - 0s - loss: 0.0013\n",
            "Epoch 84/100\n",
            "77/77 - 0s - loss: 0.0013\n",
            "Epoch 85/100\n",
            "77/77 - 0s - loss: 0.0013\n",
            "Epoch 86/100\n",
            "77/77 - 0s - loss: 0.0013\n",
            "Epoch 87/100\n",
            "77/77 - 0s - loss: 0.0014\n",
            "Epoch 88/100\n",
            "77/77 - 0s - loss: 0.0013\n",
            "Epoch 89/100\n",
            "77/77 - 0s - loss: 0.0013\n",
            "Epoch 90/100\n",
            "77/77 - 0s - loss: 0.0014\n",
            "Epoch 91/100\n",
            "77/77 - 0s - loss: 0.0013\n",
            "Epoch 92/100\n",
            "77/77 - 0s - loss: 0.0013\n",
            "Epoch 93/100\n",
            "77/77 - 0s - loss: 0.0013\n",
            "Epoch 94/100\n",
            "77/77 - 0s - loss: 0.0014\n",
            "Epoch 95/100\n",
            "77/77 - 0s - loss: 0.0014\n",
            "Epoch 96/100\n",
            "77/77 - 0s - loss: 0.0013\n",
            "Epoch 97/100\n",
            "77/77 - 0s - loss: 0.0013\n",
            "Epoch 98/100\n",
            "77/77 - 0s - loss: 0.0013\n",
            "Epoch 99/100\n",
            "77/77 - 0s - loss: 0.0013\n",
            "Epoch 100/100\n",
            "77/77 - 0s - loss: 0.0013\n",
            "Train Score: 22.81 RMSE\n",
            "Test Score: 30.92 RMSE\n"
          ],
          "name": "stdout"
        }
      ]
    },
    {
      "cell_type": "code",
      "metadata": {
        "colab": {
          "base_uri": "https://localhost:8080/",
          "height": 320
        },
        "id": "cOyZMJoz-bGO",
        "outputId": "263d2bee-ef9f-4477-ca12-ad805d82207d"
      },
      "source": [
        "# plot baseline and predictions\n",
        "plt.figure(figsize=(10, 5))\n",
        "plt.plot(scaler.inverse_transform(dataset), label='Full original data')\n",
        "plt.plot(trainPredictPlot, label='Train')\n",
        "plt.plot(testPredictPlot, label='Test')\n",
        "plt.legend()\n",
        "plt.show()"
      ],
      "execution_count": 31,
      "outputs": [
        {
          "output_type": "display_data",
          "data": {
            "image/png": "[encoded data removed]",
            "text/plain": [
              "<Figure size 720x360 with 1 Axes>"
            ]
          },
          "metadata": {
            "tags": [],
            "needs_background": "light"
          }
        }
      ]
    }
  ]
}