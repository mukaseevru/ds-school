{
  "nbformat": 4,
  "nbformat_minor": 0,
  "metadata": {
    "colab": {
      "name": "word_analysis.ipynb",
      "provenance": [],
      "collapsed_sections": [],
      "toc_visible": true,
      "authorship_tag": "ABX9TyOS9nES/yn9AOVPKZYg5A2j",
      "include_colab_link": true
    },
    "kernelspec": {
      "display_name": "Python 3",
      "name": "python3"
    }
  },
  "cells": [
    {
      "cell_type": "markdown",
      "metadata": {
        "id": "view-in-github",
        "colab_type": "text"
      },
      "source": [
        "<a href=\"https://colab.research.google.com/github/mukaseevru/ds-school/blob/main/final_project/word_analysis.ipynb\" target=\"_parent\"><img src=\"https://colab.research.google.com/assets/colab-badge.svg\" alt=\"Open In Colab\"/></a>"
      ]
    },
    {
      "cell_type": "markdown",
      "metadata": {
        "id": "b0qJWbPH-5FT"
      },
      "source": [
        "# Подключение библиотек"
      ]
    },
    {
      "cell_type": "code",
      "metadata": {
        "colab": {
          "base_uri": "https://localhost:8080/"
        },
        "id": "XHTG8RRRY-Y-",
        "outputId": "fe9e4afc-349b-4abe-d882-b4e05ae8e61b"
      },
      "source": [
        "import numpy as np\r\n",
        "import pandas as pd\r\n",
        "import nltk\r\n",
        "nltk.download('punkt')\r\n",
        "nltk.download('stopwords')\r\n",
        "import string"
      ],
      "execution_count": null,
      "outputs": [
        {
          "output_type": "stream",
          "text": [
            "[nltk_data] Downloading package punkt to /root/nltk_data...\n",
            "[nltk_data]   Package punkt is already up-to-date!\n",
            "[nltk_data] Downloading package stopwords to /root/nltk_data...\n",
            "[nltk_data]   Package stopwords is already up-to-date!\n"
          ],
          "name": "stdout"
        }
      ]
    },
    {
      "cell_type": "markdown",
      "metadata": {
        "id": "RgFlG51xckoh"
      },
      "source": [
        "# Настройки"
      ]
    },
    {
      "cell_type": "code",
      "metadata": {
        "id": "XW5EbGDBfQx_"
      },
      "source": [
        "# Знаки пунктуации\r\n",
        "stoppunct = string.punctuation + '—' + '«' + '»'\r\n",
        "# stoppunct"
      ],
      "execution_count": null,
      "outputs": []
    },
    {
      "cell_type": "code",
      "metadata": {
        "id": "dlO5nEB_yUje"
      },
      "source": [
        "stopwords = nltk.corpus.stopwords.words('russian')\r\n",
        "add_stopwords = (['эта', 'этим', 'этими', 'этих', 'этому', 'ко', 'который', 'которого',\r\n",
        "                  'которому', 'которым', 'котором', 'которая', 'которой',\r\n",
        "                  'которую', 'такого', 'такому', 'таким', 'таком', 'такая',\r\n",
        "                  'такую', 'которые', 'которых', 'которым', 'которыми', 'такие',\r\n",
        "                  'таких', 'таким', 'такими', 'всем', 'всеми', 'самого',\r\n",
        "                  'самому', 'самим', 'самом', 'сама', 'самой', 'саму', 'сами',\r\n",
        "                  'самих', 'самим', 'самими', 'кого', 'кому', 'кем', 'ком',\r\n",
        "                  'тому', 'та', 'той', 'ту', 'собой', 'моего', 'моему', 'моим',\r\n",
        "                  'моем', 'моей', 'мою', 'оба', 'обе', 'с'])\r\n",
        "stopwords.extend(add_stopwords)\r\n",
        "stopwords.extend(stoppunct)\r\n",
        "stopwords.append('')\r\n",
        "# stopwords"
      ],
      "execution_count": null,
      "outputs": []
    },
    {
      "cell_type": "code",
      "metadata": {
        "id": "2b7b9uQPpWIS"
      },
      "source": [
        "debug = True"
      ],
      "execution_count": null,
      "outputs": []
    },
    {
      "cell_type": "markdown",
      "metadata": {
        "id": "Ka-s_DbppDQA"
      },
      "source": [
        "# Функции"
      ]
    },
    {
      "cell_type": "code",
      "metadata": {
        "id": "v0JP9ME5gm9B"
      },
      "source": [
        "def is_number(s):\r\n",
        "    '''\r\n",
        "    Проверка на число. Возвращает True, если в полученной строке число\r\n",
        "    '''\r\n",
        "    try:\r\n",
        "        float(s)\r\n",
        "        return True\r\n",
        "    except ValueError:\r\n",
        "        return False"
      ],
      "execution_count": null,
      "outputs": []
    },
    {
      "cell_type": "code",
      "metadata": {
        "id": "wKmZb851aEMw"
      },
      "source": [
        "def short_words(text, stoppunct=stoppunct, stopwords=stopwords):\r\n",
        "    '''\r\n",
        "    Создание списка коротких слов\r\n",
        "    '''\r\n",
        "    if pd.isnull(text):\r\n",
        "        return np.nan\r\n",
        "    tokenizer = nltk.WordPunctTokenizer()\r\n",
        "    words = [word.lower().strip(stoppunct) for word in tokenizer.tokenize(text)\r\n",
        "             if word.lower().strip(stoppunct) not in stopwords]\r\n",
        "    # удалить цифры\r\n",
        "    words = [word for word in words if not (is_number(word))]\r\n",
        "    short_words = []\r\n",
        "    stemmer = nltk.stem.SnowballStemmer('russian')\r\n",
        "    for word in words:\r\n",
        "        short_words.append(stemmer.stem(word))\r\n",
        "    return short_words"
      ],
      "execution_count": null,
      "outputs": []
    },
    {
      "cell_type": "code",
      "metadata": {
        "id": "bJep5ahHpFMp"
      },
      "source": [
        "def count_words(words, stoppunct=stoppunct, stopwords=stopwords):\r\n",
        "    '''\r\n",
        "    Создание словаря с количеством слов\r\n",
        "    '''\r\n",
        "    if type(words) == np.float:\r\n",
        "        return np.nan\r\n",
        "    words_dict = {}\r\n",
        "    for word in words:\r\n",
        "        if word not in words_dict:\r\n",
        "            words_dict[word] = 1\r\n",
        "        else:\r\n",
        "            words_dict[word] += 1\r\n",
        "    return words_dict"
      ],
      "execution_count": null,
      "outputs": []
    },
    {
      "cell_type": "code",
      "metadata": {
        "id": "NU3VnPHlCLTE"
      },
      "source": [
        "def list_merge(lstlst, no_duplication=False):\r\n",
        "    '''\r\n",
        "    Объединение списков\r\n",
        "    no_duplication - убирает дубликаты в одной статье. Для подсчета количества статей\r\n",
        "    '''\r\n",
        "    if type(lstlst) == np.float:\r\n",
        "        return np.nan\r\n",
        "    all = []\r\n",
        "    for lst in lstlst:\r\n",
        "        if type(lst) == np.float:\r\n",
        "            continue\r\n",
        "        if no_duplication:\r\n",
        "            all.extend(set(lst))\r\n",
        "        else:\r\n",
        "            all.extend(lst)\r\n",
        "    return all"
      ],
      "execution_count": null,
      "outputs": []
    },
    {
      "cell_type": "code",
      "metadata": {
        "id": "86ZdP0LpIhIv"
      },
      "source": [
        "union_dict = {}\r\n",
        "\r\n",
        "\r\n",
        "def sum_dicts(d1, d2=union_dict):\r\n",
        "    '''\r\n",
        "    Сложение словарей\r\n",
        "    '''\r\n",
        "    k = set(list(d1.keys()) + list(d2.keys()))\r\n",
        "    d = {}\r\n",
        "    for i in k:\r\n",
        "        v1 = d1.get(i)\r\n",
        "        v2 = d2.get(i)\r\n",
        "        if v1 == None:\r\n",
        "            v = v2\r\n",
        "        elif v2 == None:\r\n",
        "            v = v1\r\n",
        "        else:\r\n",
        "            v = v1 + v2\r\n",
        "        d[i] = v\r\n",
        "    d2.update(d)\r\n",
        "    # return d2"
      ],
      "execution_count": null,
      "outputs": []
    },
    {
      "cell_type": "code",
      "metadata": {
        "colab": {
          "base_uri": "https://localhost:8080/"
        },
        "id": "pmdSpWhScqun",
        "outputId": "8b7d5449-54ff-464d-dabe-4c74a495e666"
      },
      "source": [
        "from google.colab import drive\r\n",
        "drive.mount('/content/drive')"
      ],
      "execution_count": null,
      "outputs": [
        {
          "output_type": "stream",
          "text": [
            "Drive already mounted at /content/drive; to attempt to forcibly remount, call drive.mount(\"/content/drive\", force_remount=True).\n"
          ],
          "name": "stdout"
        }
      ]
    },
    {
      "cell_type": "code",
      "metadata": {
        "colab": {
          "base_uri": "https://localhost:8080/",
          "height": 37
        },
        "id": "EpX_g-C_csxV",
        "outputId": "1ca6c4aa-6c79-4a06-bd1c-53644fa1993d"
      },
      "source": [
        "import os\r\n",
        "os.getcwd()"
      ],
      "execution_count": null,
      "outputs": [
        {
          "output_type": "execute_result",
          "data": {
            "application/vnd.google.colaboratory.intrinsic+json": {
              "type": "string"
            },
            "text/plain": [
              "'/content'"
            ]
          },
          "metadata": {
            "tags": []
          },
          "execution_count": 11
        }
      ]
    },
    {
      "cell_type": "code",
      "metadata": {
        "colab": {
          "base_uri": "https://localhost:8080/"
        },
        "id": "KtPsdkqFcyJl",
        "outputId": "9dcacff3-0762-42c4-ef92-182432ee297d"
      },
      "source": [
        "df = pd.read_csv('drive/MyDrive/Colab Notebooks/sber/news/data/banki.csv',\r\n",
        "                 dtype={'id': np.str,\r\n",
        "                        'title': np.str,\r\n",
        "                        'text': np.str,\r\n",
        "                        'url': np.str,\r\n",
        "                        'time': np.str,\r\n",
        "                        'views': np.int64,\r\n",
        "                        'comments': np.int64,\r\n",
        "                        'source': np.str\r\n",
        "                        })\r\n",
        "df.time = pd.to_datetime(df.time, format='%Y-%m-%d %H:%M:%S')\r\n",
        "df.info()"
      ],
      "execution_count": null,
      "outputs": [
        {
          "output_type": "stream",
          "text": [
            "<class 'pandas.core.frame.DataFrame'>\n",
            "RangeIndex: 113171 entries, 0 to 113170\n",
            "Data columns (total 8 columns):\n",
            " #   Column    Non-Null Count   Dtype         \n",
            "---  ------    --------------   -----         \n",
            " 0   id        113171 non-null  object        \n",
            " 1   title     113171 non-null  object        \n",
            " 2   text      113093 non-null  object        \n",
            " 3   url       113171 non-null  object        \n",
            " 4   time      113171 non-null  datetime64[ns]\n",
            " 5   views     113171 non-null  int64         \n",
            " 6   comments  113171 non-null  int64         \n",
            " 7   source    113132 non-null  object        \n",
            "dtypes: datetime64[ns](1), int64(2), object(5)\n",
            "memory usage: 6.9+ MB\n"
          ],
          "name": "stdout"
        }
      ]
    },
    {
      "cell_type": "code",
      "metadata": {
        "colab": {
          "base_uri": "https://localhost:8080/",
          "height": 374
        },
        "id": "JdhcSOpOfJng",
        "outputId": "99c08609-b98b-46f4-cb76-61c6027022cc"
      },
      "source": [
        "df.head()"
      ],
      "execution_count": null,
      "outputs": [
        {
          "output_type": "execute_result",
          "data": {
            "text/html": [
              "<div>\n",
              "<style scoped>\n",
              "    .dataframe tbody tr th:only-of-type {\n",
              "        vertical-align: middle;\n",
              "    }\n",
              "\n",
              "    .dataframe tbody tr th {\n",
              "        vertical-align: top;\n",
              "    }\n",
              "\n",
              "    .dataframe thead th {\n",
              "        text-align: right;\n",
              "    }\n",
              "</style>\n",
              "<table border=\"1\" class=\"dataframe\">\n",
              "  <thead>\n",
              "    <tr style=\"text-align: right;\">\n",
              "      <th></th>\n",
              "      <th>id</th>\n",
              "      <th>title</th>\n",
              "      <th>text</th>\n",
              "      <th>url</th>\n",
              "      <th>time</th>\n",
              "      <th>views</th>\n",
              "      <th>comments</th>\n",
              "      <th>source</th>\n",
              "    </tr>\n",
              "  </thead>\n",
              "  <tbody>\n",
              "    <tr>\n",
              "      <th>0</th>\n",
              "      <td>10940845</td>\n",
              "      <td>Эксперты рассказали, каким образом мошенникам ...</td>\n",
              "      <td>На сегодняшний день телекоммуникационные систе...</td>\n",
              "      <td>https://www.banki.ru/news/lenta/?id=10940845</td>\n",
              "      <td>2021-02-02 09:09:00</td>\n",
              "      <td>4012</td>\n",
              "      <td>0</td>\n",
              "      <td>Известия</td>\n",
              "    </tr>\n",
              "    <tr>\n",
              "      <th>1</th>\n",
              "      <td>10940844</td>\n",
              "      <td>Почти половина работников в России заявили о п...</td>\n",
              "      <td>События 2020 года пагубно сказались на мотивац...</td>\n",
              "      <td>https://www.banki.ru/news/lenta/?id=10940844</td>\n",
              "      <td>2021-02-02 08:58:00</td>\n",
              "      <td>2295</td>\n",
              "      <td>3</td>\n",
              "      <td>РБК</td>\n",
              "    </tr>\n",
              "    <tr>\n",
              "      <th>2</th>\n",
              "      <td>10940817</td>\n",
              "      <td>Банк « Уралсиб» сообщил о кадровых перестановках</td>\n",
              "      <td>Станислав Тывес, заместитель председателя прав...</td>\n",
              "      <td>https://www.banki.ru/news/lenta/?id=10940817</td>\n",
              "      <td>2021-02-02 08:54:00</td>\n",
              "      <td>3210</td>\n",
              "      <td>0</td>\n",
              "      <td>Партнёрский материал</td>\n",
              "    </tr>\n",
              "    <tr>\n",
              "      <th>3</th>\n",
              "      <td>10940847</td>\n",
              "      <td>Опрос: москвичи не хотят возвращаться в офисы</td>\n",
              "      <td>Более половины московских сотрудников, перевед...</td>\n",
              "      <td>https://www.banki.ru/news/lenta/?id=10940847</td>\n",
              "      <td>2021-02-02 08:49:00</td>\n",
              "      <td>2224</td>\n",
              "      <td>4</td>\n",
              "      <td>Banki.ru</td>\n",
              "    </tr>\n",
              "    <tr>\n",
              "      <th>4</th>\n",
              "      <td>10940843</td>\n",
              "      <td>В России число преступлений с банковскими карт...</td>\n",
              "      <td>В России в 2020 году количество преступлений с...</td>\n",
              "      <td>https://www.banki.ru/news/lenta/?id=10940843</td>\n",
              "      <td>2021-02-02 08:48:00</td>\n",
              "      <td>2387</td>\n",
              "      <td>2</td>\n",
              "      <td>Известия</td>\n",
              "    </tr>\n",
              "  </tbody>\n",
              "</table>\n",
              "</div>"
            ],
            "text/plain": [
              "         id  ...                source\n",
              "0  10940845  ...              Известия\n",
              "1  10940844  ...                   РБК\n",
              "2  10940817  ...  Партнёрский материал\n",
              "3  10940847  ...              Banki.ru\n",
              "4  10940843  ...              Известия\n",
              "\n",
              "[5 rows x 8 columns]"
            ]
          },
          "metadata": {
            "tags": []
          },
          "execution_count": 13
        }
      ]
    },
    {
      "cell_type": "markdown",
      "metadata": {
        "id": "nYSUE8ZTvEqe"
      },
      "source": [
        "Создадим столбцы:\n",
        "1. Будут содержать список слов, из которых состоят заголовки и текст.\n",
        "2. Будут содержать список словарей со словами и количеством вхождений этих слов в заголовках и текстах."
      ]
    },
    {
      "cell_type": "code",
      "metadata": {
        "id": "nb9BuAyJ07Pt"
      },
      "source": [
        "df['title_words'] = df.title.apply(\r\n",
        "    lambda title: short_words(title, stoppunct, stopwords))\r\n",
        "df['text_words'] = df.text.apply(\r\n",
        "    lambda text: short_words(text, stoppunct, stopwords))\r\n",
        "df['count_title_words'] = df.title_words.apply(\r\n",
        "    lambda words: count_words(words, stoppunct, stopwords))\r\n",
        "df['count_text_words'] = df.text_words.apply(\r\n",
        "    lambda words: count_words(words, stoppunct, stopwords))"
      ],
      "execution_count": null,
      "outputs": []
    },
    {
      "cell_type": "code",
      "metadata": {
        "colab": {
          "base_uri": "https://localhost:8080/",
          "height": 581
        },
        "id": "j4ymkTYz1VB0",
        "outputId": "c699ae99-4ece-4810-83c3-d77c9455c90e"
      },
      "source": [
        "df.head()"
      ],
      "execution_count": null,
      "outputs": [
        {
          "output_type": "execute_result",
          "data": {
            "text/html": [
              "<div>\n",
              "<style scoped>\n",
              "    .dataframe tbody tr th:only-of-type {\n",
              "        vertical-align: middle;\n",
              "    }\n",
              "\n",
              "    .dataframe tbody tr th {\n",
              "        vertical-align: top;\n",
              "    }\n",
              "\n",
              "    .dataframe thead th {\n",
              "        text-align: right;\n",
              "    }\n",
              "</style>\n",
              "<table border=\"1\" class=\"dataframe\">\n",
              "  <thead>\n",
              "    <tr style=\"text-align: right;\">\n",
              "      <th></th>\n",
              "      <th>id</th>\n",
              "      <th>title</th>\n",
              "      <th>text</th>\n",
              "      <th>url</th>\n",
              "      <th>time</th>\n",
              "      <th>views</th>\n",
              "      <th>comments</th>\n",
              "      <th>source</th>\n",
              "      <th>title_words</th>\n",
              "      <th>text_words</th>\n",
              "      <th>count_title_words</th>\n",
              "      <th>count_text_words</th>\n",
              "    </tr>\n",
              "  </thead>\n",
              "  <tbody>\n",
              "    <tr>\n",
              "      <th>0</th>\n",
              "      <td>10940845</td>\n",
              "      <td>Эксперты рассказали, каким образом мошенникам ...</td>\n",
              "      <td>На сегодняшний день телекоммуникационные систе...</td>\n",
              "      <td>https://www.banki.ru/news/lenta/?id=10940845</td>\n",
              "      <td>2021-02-02 09:09:00</td>\n",
              "      <td>4012</td>\n",
              "      <td>0</td>\n",
              "      <td>Известия</td>\n",
              "      <td>[эксперт, рассказа, как, образ, мошенник, уда,...</td>\n",
              "      <td>[сегодняшн, ден, телекоммуникацион, систем, по...</td>\n",
              "      <td>{'эксперт': 1, 'рассказа': 1, 'как': 1, 'образ...</td>\n",
              "      <td>{'сегодняшн': 1, 'ден': 1, 'телекоммуникацион'...</td>\n",
              "    </tr>\n",
              "    <tr>\n",
              "      <th>1</th>\n",
              "      <td>10940844</td>\n",
              "      <td>Почти половина работников в России заявили о п...</td>\n",
              "      <td>События 2020 года пагубно сказались на мотивац...</td>\n",
              "      <td>https://www.banki.ru/news/lenta/?id=10940844</td>\n",
              "      <td>2021-02-02 08:58:00</td>\n",
              "      <td>2295</td>\n",
              "      <td>3</td>\n",
              "      <td>РБК</td>\n",
              "      <td>[половин, работник, росс, заяв, паден, мотивац]</td>\n",
              "      <td>[событ, год, пагубн, сказа, мотивац, сотрудник...</td>\n",
              "      <td>{'половин': 1, 'работник': 1, 'росс': 1, 'заяв...</td>\n",
              "      <td>{'событ': 1, 'год': 3, 'пагубн': 1, 'сказа': 4...</td>\n",
              "    </tr>\n",
              "    <tr>\n",
              "      <th>2</th>\n",
              "      <td>10940817</td>\n",
              "      <td>Банк « Уралсиб» сообщил о кадровых перестановках</td>\n",
              "      <td>Станислав Тывес, заместитель председателя прав...</td>\n",
              "      <td>https://www.banki.ru/news/lenta/?id=10940817</td>\n",
              "      <td>2021-02-02 08:54:00</td>\n",
              "      <td>3210</td>\n",
              "      <td>0</td>\n",
              "      <td>Партнёрский материал</td>\n",
              "      <td>[банк, уралсиб, сообщ, кадров, перестановк]</td>\n",
              "      <td>[станисла, тывес, заместител, председател, пра...</td>\n",
              "      <td>{'банк': 1, 'уралсиб': 1, 'сообщ': 1, 'кадров'...</td>\n",
              "      <td>{'станисла': 3, 'тывес': 1, 'заместител': 2, '...</td>\n",
              "    </tr>\n",
              "    <tr>\n",
              "      <th>3</th>\n",
              "      <td>10940847</td>\n",
              "      <td>Опрос: москвичи не хотят возвращаться в офисы</td>\n",
              "      <td>Более половины московских сотрудников, перевед...</td>\n",
              "      <td>https://www.banki.ru/news/lenta/?id=10940847</td>\n",
              "      <td>2021-02-02 08:49:00</td>\n",
              "      <td>2224</td>\n",
              "      <td>4</td>\n",
              "      <td>Banki.ru</td>\n",
              "      <td>[опрос, москвич, хот, возвраща, офис]</td>\n",
              "      <td>[половин, московск, сотрудник, переведен, дист...</td>\n",
              "      <td>{'опрос': 1, 'москвич': 1, 'хот': 1, 'возвраща...</td>\n",
              "      <td>{'половин': 1, 'московск': 1, 'сотрудник': 3, ...</td>\n",
              "    </tr>\n",
              "    <tr>\n",
              "      <th>4</th>\n",
              "      <td>10940843</td>\n",
              "      <td>В России число преступлений с банковскими карт...</td>\n",
              "      <td>В России в 2020 году количество преступлений с...</td>\n",
              "      <td>https://www.banki.ru/news/lenta/?id=10940843</td>\n",
              "      <td>2021-02-02 08:48:00</td>\n",
              "      <td>2387</td>\n",
              "      <td>2</td>\n",
              "      <td>Известия</td>\n",
              "      <td>[росс, числ, преступлен, банковск, карт, вырос...</td>\n",
              "      <td>[росс, год, количеств, преступлен, использован...</td>\n",
              "      <td>{'росс': 1, 'числ': 1, 'преступлен': 1, 'банко...</td>\n",
              "      <td>{'росс': 1, 'год': 8, 'количеств': 4, 'преступ...</td>\n",
              "    </tr>\n",
              "  </tbody>\n",
              "</table>\n",
              "</div>"
            ],
            "text/plain": [
              "         id  ...                                   count_text_words\n",
              "0  10940845  ...  {'сегодняшн': 1, 'ден': 1, 'телекоммуникацион'...\n",
              "1  10940844  ...  {'событ': 1, 'год': 3, 'пагубн': 1, 'сказа': 4...\n",
              "2  10940817  ...  {'станисла': 3, 'тывес': 1, 'заместител': 2, '...\n",
              "3  10940847  ...  {'половин': 1, 'московск': 1, 'сотрудник': 3, ...\n",
              "4  10940843  ...  {'росс': 1, 'год': 8, 'количеств': 4, 'преступ...\n",
              "\n",
              "[5 rows x 12 columns]"
            ]
          },
          "metadata": {
            "tags": []
          },
          "execution_count": 15
        }
      ]
    },
    {
      "cell_type": "code",
      "metadata": {
        "colab": {
          "base_uri": "https://localhost:8080/"
        },
        "id": "hxay78OvcAKH",
        "outputId": "be1f838c-827f-44af-cac7-dc42edb69171"
      },
      "source": [
        "df.info()"
      ],
      "execution_count": null,
      "outputs": [
        {
          "output_type": "stream",
          "text": [
            "<class 'pandas.core.frame.DataFrame'>\n",
            "RangeIndex: 113171 entries, 0 to 113170\n",
            "Data columns (total 12 columns):\n",
            " #   Column             Non-Null Count   Dtype         \n",
            "---  ------             --------------   -----         \n",
            " 0   id                 113171 non-null  object        \n",
            " 1   title              113171 non-null  object        \n",
            " 2   text               113093 non-null  object        \n",
            " 3   url                113171 non-null  object        \n",
            " 4   time               113171 non-null  datetime64[ns]\n",
            " 5   views              113171 non-null  int64         \n",
            " 6   comments           113171 non-null  int64         \n",
            " 7   source             113132 non-null  object        \n",
            " 8   title_words        113171 non-null  object        \n",
            " 9   text_words         113093 non-null  object        \n",
            " 10  count_title_words  113171 non-null  object        \n",
            " 11  count_text_words   113093 non-null  object        \n",
            "dtypes: datetime64[ns](1), int64(2), object(9)\n",
            "memory usage: 10.4+ MB\n"
          ],
          "name": "stdout"
        }
      ]
    },
    {
      "cell_type": "code",
      "metadata": {
        "id": "xk75dQaPuvNF"
      },
      "source": [
        "df.to_csv(\n",
        "    'drive/MyDrive/Colab Notebooks/sber/news/data/news_withwords.csv', index=False)"
      ],
      "execution_count": null,
      "outputs": []
    },
    {
      "cell_type": "markdown",
      "metadata": {
        "id": "TDRwHHcBevdj"
      },
      "source": [
        "# Аналитика по дням"
      ]
    },
    {
      "cell_type": "markdown",
      "metadata": {
        "id": "nRa_dABN5Ifx"
      },
      "source": [
        "## Titles"
      ]
    },
    {
      "cell_type": "markdown",
      "metadata": {
        "id": "zWWRRpO4vocE"
      },
      "source": [
        "Сделаем аналитику по заголовкам"
      ]
    },
    {
      "cell_type": "code",
      "metadata": {
        "id": "xEUMJSn6TZkf",
        "colab": {
          "base_uri": "https://localhost:8080/",
          "height": 1000
        },
        "outputId": "8c9c3770-fd2a-463b-a874-f07c20216dc0"
      },
      "source": [
        "# Слова\r\n",
        "titles = {}\r\n",
        "for i in range(1, df.time.dt.dayofyear.max()+1):\r\n",
        "    titles[i] = pd.Series(count_words(list_merge(df[(df.time.dt.dayofyear == i) &\r\n",
        "                                                    (df.time.dt.isocalendar().year == 2020)].title_words)))\r\n",
        "titles_daily = pd.concat(titles, axis=1)\r\n",
        "columns = titles_daily.columns\r\n",
        "titles_daily['sum_yearly'] = titles_daily[columns].sum(axis=1)\r\n",
        "titles_daily['mean_yearly'] = titles_daily[columns].mean(axis=1)\r\n",
        "titles_daily['median_yearly'] = titles_daily[columns].median(axis=1)\r\n",
        "titles_daily[['sum_yearly', 'mean_yearly', 'median_yearly']].head(10)\r\n",
        "\r\n",
        "# Новости\r\n",
        "titles = {}\r\n",
        "for i in range(1, df.time.dt.dayofyear.max()+1):\r\n",
        "    titles[i] = pd.Series(count_words(list_merge(df[(df.time.dt.dayofyear == i) &\r\n",
        "                                                    (df.time.dt.isocalendar().year == 2020)].title_words, no_duplication=True)))\r\n",
        "titles_daily_n = pd.concat(titles, axis=1)\r\n",
        "columns = titles_daily_n.columns\r\n",
        "titles_daily_n['sum_yearly'] = titles_daily_n[columns].sum(axis=1)\r\n",
        "titles_daily_n['mean_yearly'] = titles_daily_n[columns].mean(axis=1)\r\n",
        "titles_daily_n['median_yearly'] = titles_daily_n[columns].median(axis=1)\r\n",
        "titles_daily_n[['sum_yearly', 'mean_yearly', 'median_yearly']].head(10)"
      ],
      "execution_count": null,
      "outputs": [
        {
          "output_type": "stream",
          "text": [
            "/usr/local/lib/python3.6/dist-packages/ipykernel_launcher.py:4: DeprecationWarning: The default dtype for empty Series will be 'object' instead of 'float64' in a future version. Specify a dtype explicitly to silence this warning.\n",
            "  after removing the cwd from sys.path.\n",
            "/usr/local/lib/python3.6/dist-packages/ipykernel_launcher.py:4: DeprecationWarning: The default dtype for empty Series will be 'object' instead of 'float64' in a future version. Specify a dtype explicitly to silence this warning.\n",
            "  after removing the cwd from sys.path.\n",
            "/usr/local/lib/python3.6/dist-packages/ipykernel_launcher.py:4: DeprecationWarning: The default dtype for empty Series will be 'object' instead of 'float64' in a future version. Specify a dtype explicitly to silence this warning.\n",
            "  after removing the cwd from sys.path.\n",
            "/usr/local/lib/python3.6/dist-packages/ipykernel_launcher.py:4: DeprecationWarning: The default dtype for empty Series will be 'object' instead of 'float64' in a future version. Specify a dtype explicitly to silence this warning.\n",
            "  after removing the cwd from sys.path.\n",
            "/usr/local/lib/python3.6/dist-packages/ipykernel_launcher.py:4: DeprecationWarning: The default dtype for empty Series will be 'object' instead of 'float64' in a future version. Specify a dtype explicitly to silence this warning.\n",
            "  after removing the cwd from sys.path.\n",
            "/usr/local/lib/python3.6/dist-packages/ipykernel_launcher.py:4: DeprecationWarning: The default dtype for empty Series will be 'object' instead of 'float64' in a future version. Specify a dtype explicitly to silence this warning.\n",
            "  after removing the cwd from sys.path.\n",
            "/usr/local/lib/python3.6/dist-packages/ipykernel_launcher.py:4: DeprecationWarning: The default dtype for empty Series will be 'object' instead of 'float64' in a future version. Specify a dtype explicitly to silence this warning.\n",
            "  after removing the cwd from sys.path.\n",
            "/usr/local/lib/python3.6/dist-packages/ipykernel_launcher.py:4: DeprecationWarning: The default dtype for empty Series will be 'object' instead of 'float64' in a future version. Specify a dtype explicitly to silence this warning.\n",
            "  after removing the cwd from sys.path.\n",
            "/usr/local/lib/python3.6/dist-packages/ipykernel_launcher.py:4: DeprecationWarning: The default dtype for empty Series will be 'object' instead of 'float64' in a future version. Specify a dtype explicitly to silence this warning.\n",
            "  after removing the cwd from sys.path.\n",
            "/usr/local/lib/python3.6/dist-packages/ipykernel_launcher.py:4: DeprecationWarning: The default dtype for empty Series will be 'object' instead of 'float64' in a future version. Specify a dtype explicitly to silence this warning.\n",
            "  after removing the cwd from sys.path.\n",
            "/usr/local/lib/python3.6/dist-packages/ipykernel_launcher.py:4: DeprecationWarning: The default dtype for empty Series will be 'object' instead of 'float64' in a future version. Specify a dtype explicitly to silence this warning.\n",
            "  after removing the cwd from sys.path.\n",
            "/usr/local/lib/python3.6/dist-packages/ipykernel_launcher.py:4: DeprecationWarning: The default dtype for empty Series will be 'object' instead of 'float64' in a future version. Specify a dtype explicitly to silence this warning.\n",
            "  after removing the cwd from sys.path.\n",
            "/usr/local/lib/python3.6/dist-packages/ipykernel_launcher.py:4: DeprecationWarning: The default dtype for empty Series will be 'object' instead of 'float64' in a future version. Specify a dtype explicitly to silence this warning.\n",
            "  after removing the cwd from sys.path.\n",
            "/usr/local/lib/python3.6/dist-packages/ipykernel_launcher.py:4: DeprecationWarning: The default dtype for empty Series will be 'object' instead of 'float64' in a future version. Specify a dtype explicitly to silence this warning.\n",
            "  after removing the cwd from sys.path.\n",
            "/usr/local/lib/python3.6/dist-packages/ipykernel_launcher.py:4: DeprecationWarning: The default dtype for empty Series will be 'object' instead of 'float64' in a future version. Specify a dtype explicitly to silence this warning.\n",
            "  after removing the cwd from sys.path.\n",
            "/usr/local/lib/python3.6/dist-packages/ipykernel_launcher.py:15: DeprecationWarning: The default dtype for empty Series will be 'object' instead of 'float64' in a future version. Specify a dtype explicitly to silence this warning.\n",
            "  from ipykernel import kernelapp as app\n",
            "/usr/local/lib/python3.6/dist-packages/ipykernel_launcher.py:15: DeprecationWarning: The default dtype for empty Series will be 'object' instead of 'float64' in a future version. Specify a dtype explicitly to silence this warning.\n",
            "  from ipykernel import kernelapp as app\n",
            "/usr/local/lib/python3.6/dist-packages/ipykernel_launcher.py:15: DeprecationWarning: The default dtype for empty Series will be 'object' instead of 'float64' in a future version. Specify a dtype explicitly to silence this warning.\n",
            "  from ipykernel import kernelapp as app\n",
            "/usr/local/lib/python3.6/dist-packages/ipykernel_launcher.py:15: DeprecationWarning: The default dtype for empty Series will be 'object' instead of 'float64' in a future version. Specify a dtype explicitly to silence this warning.\n",
            "  from ipykernel import kernelapp as app\n",
            "/usr/local/lib/python3.6/dist-packages/ipykernel_launcher.py:15: DeprecationWarning: The default dtype for empty Series will be 'object' instead of 'float64' in a future version. Specify a dtype explicitly to silence this warning.\n",
            "  from ipykernel import kernelapp as app\n",
            "/usr/local/lib/python3.6/dist-packages/ipykernel_launcher.py:15: DeprecationWarning: The default dtype for empty Series will be 'object' instead of 'float64' in a future version. Specify a dtype explicitly to silence this warning.\n",
            "  from ipykernel import kernelapp as app\n",
            "/usr/local/lib/python3.6/dist-packages/ipykernel_launcher.py:15: DeprecationWarning: The default dtype for empty Series will be 'object' instead of 'float64' in a future version. Specify a dtype explicitly to silence this warning.\n",
            "  from ipykernel import kernelapp as app\n",
            "/usr/local/lib/python3.6/dist-packages/ipykernel_launcher.py:15: DeprecationWarning: The default dtype for empty Series will be 'object' instead of 'float64' in a future version. Specify a dtype explicitly to silence this warning.\n",
            "  from ipykernel import kernelapp as app\n",
            "/usr/local/lib/python3.6/dist-packages/ipykernel_launcher.py:15: DeprecationWarning: The default dtype for empty Series will be 'object' instead of 'float64' in a future version. Specify a dtype explicitly to silence this warning.\n",
            "  from ipykernel import kernelapp as app\n",
            "/usr/local/lib/python3.6/dist-packages/ipykernel_launcher.py:15: DeprecationWarning: The default dtype for empty Series will be 'object' instead of 'float64' in a future version. Specify a dtype explicitly to silence this warning.\n",
            "  from ipykernel import kernelapp as app\n",
            "/usr/local/lib/python3.6/dist-packages/ipykernel_launcher.py:15: DeprecationWarning: The default dtype for empty Series will be 'object' instead of 'float64' in a future version. Specify a dtype explicitly to silence this warning.\n",
            "  from ipykernel import kernelapp as app\n",
            "/usr/local/lib/python3.6/dist-packages/ipykernel_launcher.py:15: DeprecationWarning: The default dtype for empty Series will be 'object' instead of 'float64' in a future version. Specify a dtype explicitly to silence this warning.\n",
            "  from ipykernel import kernelapp as app\n",
            "/usr/local/lib/python3.6/dist-packages/ipykernel_launcher.py:15: DeprecationWarning: The default dtype for empty Series will be 'object' instead of 'float64' in a future version. Specify a dtype explicitly to silence this warning.\n",
            "  from ipykernel import kernelapp as app\n",
            "/usr/local/lib/python3.6/dist-packages/ipykernel_launcher.py:15: DeprecationWarning: The default dtype for empty Series will be 'object' instead of 'float64' in a future version. Specify a dtype explicitly to silence this warning.\n",
            "  from ipykernel import kernelapp as app\n",
            "/usr/local/lib/python3.6/dist-packages/ipykernel_launcher.py:15: DeprecationWarning: The default dtype for empty Series will be 'object' instead of 'float64' in a future version. Specify a dtype explicitly to silence this warning.\n",
            "  from ipykernel import kernelapp as app\n"
          ],
          "name": "stderr"
        },
        {
          "output_type": "execute_result",
          "data": {
            "text/html": [
              "<div>\n",
              "<style scoped>\n",
              "    .dataframe tbody tr th:only-of-type {\n",
              "        vertical-align: middle;\n",
              "    }\n",
              "\n",
              "    .dataframe tbody tr th {\n",
              "        vertical-align: top;\n",
              "    }\n",
              "\n",
              "    .dataframe thead th {\n",
              "        text-align: right;\n",
              "    }\n",
              "</style>\n",
              "<table border=\"1\" class=\"dataframe\">\n",
              "  <thead>\n",
              "    <tr style=\"text-align: right;\">\n",
              "      <th></th>\n",
              "      <th>sum_yearly</th>\n",
              "      <th>mean_yearly</th>\n",
              "      <th>median_yearly</th>\n",
              "    </tr>\n",
              "  </thead>\n",
              "  <tbody>\n",
              "    <tr>\n",
              "      <th>исследован</th>\n",
              "      <td>212.0</td>\n",
              "      <td>1.394737</td>\n",
              "      <td>1.0</td>\n",
              "    </tr>\n",
              "    <tr>\n",
              "      <th>закредитова</th>\n",
              "      <td>3.0</td>\n",
              "      <td>1.000000</td>\n",
              "      <td>1.0</td>\n",
              "    </tr>\n",
              "    <tr>\n",
              "      <th>лет</th>\n",
              "      <td>171.0</td>\n",
              "      <td>1.346457</td>\n",
              "      <td>1.0</td>\n",
              "    </tr>\n",
              "    <tr>\n",
              "      <th>заемщик</th>\n",
              "      <td>100.0</td>\n",
              "      <td>1.204819</td>\n",
              "      <td>1.0</td>\n",
              "    </tr>\n",
              "    <tr>\n",
              "      <th>россиян</th>\n",
              "      <td>249.0</td>\n",
              "      <td>1.596154</td>\n",
              "      <td>1.0</td>\n",
              "    </tr>\n",
              "    <tr>\n",
              "      <th>явля</th>\n",
              "      <td>8.0</td>\n",
              "      <td>1.000000</td>\n",
              "      <td>1.0</td>\n",
              "    </tr>\n",
              "    <tr>\n",
              "      <th>сам</th>\n",
              "      <td>92.0</td>\n",
              "      <td>1.260274</td>\n",
              "      <td>1.0</td>\n",
              "    </tr>\n",
              "    <tr>\n",
              "      <th>валютн</th>\n",
              "      <td>358.0</td>\n",
              "      <td>1.529915</td>\n",
              "      <td>1.0</td>\n",
              "    </tr>\n",
              "    <tr>\n",
              "      <th>основн</th>\n",
              "      <td>302.0</td>\n",
              "      <td>1.342222</td>\n",
              "      <td>1.0</td>\n",
              "    </tr>\n",
              "    <tr>\n",
              "      <th>заверш</th>\n",
              "      <td>321.0</td>\n",
              "      <td>1.793296</td>\n",
              "      <td>2.0</td>\n",
              "    </tr>\n",
              "  </tbody>\n",
              "</table>\n",
              "</div>"
            ],
            "text/plain": [
              "             sum_yearly  mean_yearly  median_yearly\n",
              "исследован        212.0     1.394737            1.0\n",
              "закредитова         3.0     1.000000            1.0\n",
              "лет               171.0     1.346457            1.0\n",
              "заемщик           100.0     1.204819            1.0\n",
              "россиян           249.0     1.596154            1.0\n",
              "явля                8.0     1.000000            1.0\n",
              "сам                92.0     1.260274            1.0\n",
              "валютн            358.0     1.529915            1.0\n",
              "основн            302.0     1.342222            1.0\n",
              "заверш            321.0     1.793296            2.0"
            ]
          },
          "metadata": {
            "tags": []
          },
          "execution_count": 18
        }
      ]
    },
    {
      "cell_type": "code",
      "metadata": {
        "id": "mq_jjhQ2is0c"
      },
      "source": [
        "titles_daily.sort_index(inplace=True)\r\n",
        "titles_daily_n.sort_index(inplace=True)"
      ],
      "execution_count": null,
      "outputs": []
    },
    {
      "cell_type": "code",
      "metadata": {
        "id": "2gRxN8WzedCn"
      },
      "source": [
        "titles_daily.to_csv(\r\n",
        "    'drive/MyDrive/Colab Notebooks/sber/news/data/titles_daily.csv')\r\n",
        "titles_daily_n.to_csv(\r\n",
        "    'drive/MyDrive/Colab Notebooks/sber/news/data/titles_daily_n.csv')"
      ],
      "execution_count": null,
      "outputs": []
    },
    {
      "cell_type": "markdown",
      "metadata": {
        "id": "dxdTcV5T5MnJ"
      },
      "source": [
        "## Texts"
      ]
    },
    {
      "cell_type": "markdown",
      "metadata": {
        "id": "VmqBLe1Nvu0B"
      },
      "source": [
        "Сделаем аналитику по текстам"
      ]
    },
    {
      "cell_type": "code",
      "metadata": {
        "id": "IfE4qyKLe1wN",
        "colab": {
          "base_uri": "https://localhost:8080/",
          "height": 1000
        },
        "outputId": "4795fbec-285b-4384-f724-1c9a1422976d"
      },
      "source": [
        "# Слова\r\n",
        "texts = {}\r\n",
        "for i in range(1, df.time.dt.dayofyear.max()+1):\r\n",
        "    texts[i] = pd.Series(count_words(list_merge(df[(df.time.dt.dayofyear == i) &\r\n",
        "                                                   (df.time.dt.isocalendar().year == 2020)].text_words)))\r\n",
        "texts_daily = pd.concat(texts, axis=1)\r\n",
        "columns = texts_daily.columns\r\n",
        "texts_daily['sum'] = texts_daily[columns].sum(axis=1)\r\n",
        "texts_daily['mean'] = texts_daily[columns].mean(axis=1)\r\n",
        "texts_daily['median'] = texts_daily[columns].median(axis=1)\r\n",
        "texts_daily[['sum', 'mean', 'median']].head(10)\r\n",
        "\r\n",
        "# Новости\r\n",
        "texts = {}\r\n",
        "for i in range(1, df.time.dt.dayofyear.max()+1):\r\n",
        "    texts[i] = pd.Series(count_words(list_merge(df[(df.time.dt.dayofyear == i) &\r\n",
        "                                                   (df.time.dt.isocalendar().year == 2020)].text_words, no_duplication=True)))\r\n",
        "texts_daily_n = pd.concat(texts, axis=1)\r\n",
        "columns = texts_daily_n.columns\r\n",
        "texts_daily_n['sum'] = texts_daily_n[columns].sum(axis=1)\r\n",
        "texts_daily_n['mean'] = texts_daily_n[columns].mean(axis=1)\r\n",
        "texts_daily_n['median'] = texts_daily_n[columns].median(axis=1)\r\n",
        "texts_daily_n[['sum', 'mean', 'median']].head(10)"
      ],
      "execution_count": null,
      "outputs": [
        {
          "output_type": "stream",
          "text": [
            "/usr/local/lib/python3.6/dist-packages/ipykernel_launcher.py:4: DeprecationWarning: The default dtype for empty Series will be 'object' instead of 'float64' in a future version. Specify a dtype explicitly to silence this warning.\n",
            "  after removing the cwd from sys.path.\n",
            "/usr/local/lib/python3.6/dist-packages/ipykernel_launcher.py:4: DeprecationWarning: The default dtype for empty Series will be 'object' instead of 'float64' in a future version. Specify a dtype explicitly to silence this warning.\n",
            "  after removing the cwd from sys.path.\n",
            "/usr/local/lib/python3.6/dist-packages/ipykernel_launcher.py:4: DeprecationWarning: The default dtype for empty Series will be 'object' instead of 'float64' in a future version. Specify a dtype explicitly to silence this warning.\n",
            "  after removing the cwd from sys.path.\n",
            "/usr/local/lib/python3.6/dist-packages/ipykernel_launcher.py:4: DeprecationWarning: The default dtype for empty Series will be 'object' instead of 'float64' in a future version. Specify a dtype explicitly to silence this warning.\n",
            "  after removing the cwd from sys.path.\n",
            "/usr/local/lib/python3.6/dist-packages/ipykernel_launcher.py:4: DeprecationWarning: The default dtype for empty Series will be 'object' instead of 'float64' in a future version. Specify a dtype explicitly to silence this warning.\n",
            "  after removing the cwd from sys.path.\n",
            "/usr/local/lib/python3.6/dist-packages/ipykernel_launcher.py:4: DeprecationWarning: The default dtype for empty Series will be 'object' instead of 'float64' in a future version. Specify a dtype explicitly to silence this warning.\n",
            "  after removing the cwd from sys.path.\n",
            "/usr/local/lib/python3.6/dist-packages/ipykernel_launcher.py:4: DeprecationWarning: The default dtype for empty Series will be 'object' instead of 'float64' in a future version. Specify a dtype explicitly to silence this warning.\n",
            "  after removing the cwd from sys.path.\n",
            "/usr/local/lib/python3.6/dist-packages/ipykernel_launcher.py:4: DeprecationWarning: The default dtype for empty Series will be 'object' instead of 'float64' in a future version. Specify a dtype explicitly to silence this warning.\n",
            "  after removing the cwd from sys.path.\n",
            "/usr/local/lib/python3.6/dist-packages/ipykernel_launcher.py:4: DeprecationWarning: The default dtype for empty Series will be 'object' instead of 'float64' in a future version. Specify a dtype explicitly to silence this warning.\n",
            "  after removing the cwd from sys.path.\n",
            "/usr/local/lib/python3.6/dist-packages/ipykernel_launcher.py:4: DeprecationWarning: The default dtype for empty Series will be 'object' instead of 'float64' in a future version. Specify a dtype explicitly to silence this warning.\n",
            "  after removing the cwd from sys.path.\n",
            "/usr/local/lib/python3.6/dist-packages/ipykernel_launcher.py:4: DeprecationWarning: The default dtype for empty Series will be 'object' instead of 'float64' in a future version. Specify a dtype explicitly to silence this warning.\n",
            "  after removing the cwd from sys.path.\n",
            "/usr/local/lib/python3.6/dist-packages/ipykernel_launcher.py:4: DeprecationWarning: The default dtype for empty Series will be 'object' instead of 'float64' in a future version. Specify a dtype explicitly to silence this warning.\n",
            "  after removing the cwd from sys.path.\n",
            "/usr/local/lib/python3.6/dist-packages/ipykernel_launcher.py:4: DeprecationWarning: The default dtype for empty Series will be 'object' instead of 'float64' in a future version. Specify a dtype explicitly to silence this warning.\n",
            "  after removing the cwd from sys.path.\n",
            "/usr/local/lib/python3.6/dist-packages/ipykernel_launcher.py:4: DeprecationWarning: The default dtype for empty Series will be 'object' instead of 'float64' in a future version. Specify a dtype explicitly to silence this warning.\n",
            "  after removing the cwd from sys.path.\n",
            "/usr/local/lib/python3.6/dist-packages/ipykernel_launcher.py:4: DeprecationWarning: The default dtype for empty Series will be 'object' instead of 'float64' in a future version. Specify a dtype explicitly to silence this warning.\n",
            "  after removing the cwd from sys.path.\n",
            "/usr/local/lib/python3.6/dist-packages/ipykernel_launcher.py:15: DeprecationWarning: The default dtype for empty Series will be 'object' instead of 'float64' in a future version. Specify a dtype explicitly to silence this warning.\n",
            "  from ipykernel import kernelapp as app\n",
            "/usr/local/lib/python3.6/dist-packages/ipykernel_launcher.py:15: DeprecationWarning: The default dtype for empty Series will be 'object' instead of 'float64' in a future version. Specify a dtype explicitly to silence this warning.\n",
            "  from ipykernel import kernelapp as app\n",
            "/usr/local/lib/python3.6/dist-packages/ipykernel_launcher.py:15: DeprecationWarning: The default dtype for empty Series will be 'object' instead of 'float64' in a future version. Specify a dtype explicitly to silence this warning.\n",
            "  from ipykernel import kernelapp as app\n",
            "/usr/local/lib/python3.6/dist-packages/ipykernel_launcher.py:15: DeprecationWarning: The default dtype for empty Series will be 'object' instead of 'float64' in a future version. Specify a dtype explicitly to silence this warning.\n",
            "  from ipykernel import kernelapp as app\n",
            "/usr/local/lib/python3.6/dist-packages/ipykernel_launcher.py:15: DeprecationWarning: The default dtype for empty Series will be 'object' instead of 'float64' in a future version. Specify a dtype explicitly to silence this warning.\n",
            "  from ipykernel import kernelapp as app\n",
            "/usr/local/lib/python3.6/dist-packages/ipykernel_launcher.py:15: DeprecationWarning: The default dtype for empty Series will be 'object' instead of 'float64' in a future version. Specify a dtype explicitly to silence this warning.\n",
            "  from ipykernel import kernelapp as app\n",
            "/usr/local/lib/python3.6/dist-packages/ipykernel_launcher.py:15: DeprecationWarning: The default dtype for empty Series will be 'object' instead of 'float64' in a future version. Specify a dtype explicitly to silence this warning.\n",
            "  from ipykernel import kernelapp as app\n",
            "/usr/local/lib/python3.6/dist-packages/ipykernel_launcher.py:15: DeprecationWarning: The default dtype for empty Series will be 'object' instead of 'float64' in a future version. Specify a dtype explicitly to silence this warning.\n",
            "  from ipykernel import kernelapp as app\n",
            "/usr/local/lib/python3.6/dist-packages/ipykernel_launcher.py:15: DeprecationWarning: The default dtype for empty Series will be 'object' instead of 'float64' in a future version. Specify a dtype explicitly to silence this warning.\n",
            "  from ipykernel import kernelapp as app\n",
            "/usr/local/lib/python3.6/dist-packages/ipykernel_launcher.py:15: DeprecationWarning: The default dtype for empty Series will be 'object' instead of 'float64' in a future version. Specify a dtype explicitly to silence this warning.\n",
            "  from ipykernel import kernelapp as app\n",
            "/usr/local/lib/python3.6/dist-packages/ipykernel_launcher.py:15: DeprecationWarning: The default dtype for empty Series will be 'object' instead of 'float64' in a future version. Specify a dtype explicitly to silence this warning.\n",
            "  from ipykernel import kernelapp as app\n",
            "/usr/local/lib/python3.6/dist-packages/ipykernel_launcher.py:15: DeprecationWarning: The default dtype for empty Series will be 'object' instead of 'float64' in a future version. Specify a dtype explicitly to silence this warning.\n",
            "  from ipykernel import kernelapp as app\n",
            "/usr/local/lib/python3.6/dist-packages/ipykernel_launcher.py:15: DeprecationWarning: The default dtype for empty Series will be 'object' instead of 'float64' in a future version. Specify a dtype explicitly to silence this warning.\n",
            "  from ipykernel import kernelapp as app\n",
            "/usr/local/lib/python3.6/dist-packages/ipykernel_launcher.py:15: DeprecationWarning: The default dtype for empty Series will be 'object' instead of 'float64' in a future version. Specify a dtype explicitly to silence this warning.\n",
            "  from ipykernel import kernelapp as app\n",
            "/usr/local/lib/python3.6/dist-packages/ipykernel_launcher.py:15: DeprecationWarning: The default dtype for empty Series will be 'object' instead of 'float64' in a future version. Specify a dtype explicitly to silence this warning.\n",
            "  from ipykernel import kernelapp as app\n"
          ],
          "name": "stderr"
        },
        {
          "output_type": "execute_result",
          "data": {
            "text/html": [
              "<div>\n",
              "<style scoped>\n",
              "    .dataframe tbody tr th:only-of-type {\n",
              "        vertical-align: middle;\n",
              "    }\n",
              "\n",
              "    .dataframe tbody tr th {\n",
              "        vertical-align: top;\n",
              "    }\n",
              "\n",
              "    .dataframe thead th {\n",
              "        text-align: right;\n",
              "    }\n",
              "</style>\n",
              "<table border=\"1\" class=\"dataframe\">\n",
              "  <thead>\n",
              "    <tr style=\"text-align: right;\">\n",
              "      <th></th>\n",
              "      <th>sum</th>\n",
              "      <th>mean</th>\n",
              "      <th>median</th>\n",
              "    </tr>\n",
              "  </thead>\n",
              "  <tbody>\n",
              "    <tr>\n",
              "      <th>динамик</th>\n",
              "      <td>1717.0</td>\n",
              "      <td>5.433544</td>\n",
              "      <td>6.0</td>\n",
              "    </tr>\n",
              "    <tr>\n",
              "      <th>поколен</th>\n",
              "      <td>110.0</td>\n",
              "      <td>1.222222</td>\n",
              "      <td>1.0</td>\n",
              "    </tr>\n",
              "    <tr>\n",
              "      <th>конец</th>\n",
              "      <td>402.0</td>\n",
              "      <td>1.942029</td>\n",
              "      <td>2.0</td>\n",
              "    </tr>\n",
              "    <tr>\n",
              "      <th>числ</th>\n",
              "      <td>3742.0</td>\n",
              "      <td>11.237237</td>\n",
              "      <td>12.0</td>\n",
              "    </tr>\n",
              "    <tr>\n",
              "      <th>конц</th>\n",
              "      <td>2543.0</td>\n",
              "      <td>7.729483</td>\n",
              "      <td>8.0</td>\n",
              "    </tr>\n",
              "    <tr>\n",
              "      <th>росс</th>\n",
              "      <td>7714.0</td>\n",
              "      <td>22.555556</td>\n",
              "      <td>26.0</td>\n",
              "    </tr>\n",
              "    <tr>\n",
              "      <th>вырос</th>\n",
              "      <td>981.0</td>\n",
              "      <td>3.606618</td>\n",
              "      <td>3.0</td>\n",
              "    </tr>\n",
              "    <tr>\n",
              "      <th>дисциплинирова</th>\n",
              "      <td>10.0</td>\n",
              "      <td>1.000000</td>\n",
              "      <td>1.0</td>\n",
              "    </tr>\n",
              "    <tr>\n",
              "      <th>прайм</th>\n",
              "      <td>60.0</td>\n",
              "      <td>1.111111</td>\n",
              "      <td>1.0</td>\n",
              "    </tr>\n",
              "    <tr>\n",
              "      <th>средств</th>\n",
              "      <td>3971.0</td>\n",
              "      <td>11.713864</td>\n",
              "      <td>13.0</td>\n",
              "    </tr>\n",
              "  </tbody>\n",
              "</table>\n",
              "</div>"
            ],
            "text/plain": [
              "                   sum       mean  median\n",
              "динамик         1717.0   5.433544     6.0\n",
              "поколен          110.0   1.222222     1.0\n",
              "конец            402.0   1.942029     2.0\n",
              "числ            3742.0  11.237237    12.0\n",
              "конц            2543.0   7.729483     8.0\n",
              "росс            7714.0  22.555556    26.0\n",
              "вырос            981.0   3.606618     3.0\n",
              "дисциплинирова    10.0   1.000000     1.0\n",
              "прайм             60.0   1.111111     1.0\n",
              "средств         3971.0  11.713864    13.0"
            ]
          },
          "metadata": {
            "tags": []
          },
          "execution_count": 21
        }
      ]
    },
    {
      "cell_type": "code",
      "metadata": {
        "id": "4A8Rn2aJl9iR"
      },
      "source": [
        "texts_daily.sort_index(inplace=True)\r\n",
        "texts_daily_n.sort_index(inplace=True)"
      ],
      "execution_count": null,
      "outputs": []
    },
    {
      "cell_type": "code",
      "metadata": {
        "id": "2QHOyOzXhn_I"
      },
      "source": [
        "texts_daily.to_csv(\r\n",
        "    'drive/MyDrive/Colab Notebooks/sber/news/data/texts_daily.csv')\r\n",
        "texts_daily_n.to_csv(\r\n",
        "    'drive/MyDrive/Colab Notebooks/sber/news/data/texts_daily_n.csv')"
      ],
      "execution_count": null,
      "outputs": []
    },
    {
      "cell_type": "markdown",
      "metadata": {
        "id": "k2AEU_cz5ULR"
      },
      "source": [
        "# Аналитика по неделям"
      ]
    },
    {
      "cell_type": "markdown",
      "metadata": {
        "id": "yw-EqEsr5nGn"
      },
      "source": [
        "## Titles"
      ]
    },
    {
      "cell_type": "markdown",
      "metadata": {
        "id": "TRhn2-Pc6sHu"
      },
      "source": [
        "### Fullweek"
      ]
    },
    {
      "cell_type": "markdown",
      "metadata": {
        "id": "H4wxgELWvzbt"
      },
      "source": [
        "Аналитика по заголовкам. Объединяем по полным неделям."
      ]
    },
    {
      "cell_type": "code",
      "metadata": {
        "id": "eOtpmT325hzZ",
        "colab": {
          "base_uri": "https://localhost:8080/",
          "height": 359
        },
        "outputId": "d37f0fb3-bd05-4f66-ef72-a743c30186eb"
      },
      "source": [
        "# Слова\r\n",
        "titles = {}\r\n",
        "for i in range(1, df.time.dt.isocalendar().week.max()+1):\r\n",
        "    titles[i] = pd.Series(count_words(list_merge(df[(df.time.dt.isocalendar().week == i) &\r\n",
        "                                                    (df.time.dt.isocalendar().year == 2020)].title_words)))\r\n",
        "titles_weekly = pd.concat(titles, axis=1)\r\n",
        "columns = titles_weekly.columns\r\n",
        "titles_weekly['sum_weekly'] = titles_weekly[columns].sum(axis=1)\r\n",
        "titles_weekly['mean_weekly'] = titles_weekly[columns].mean(axis=1)\r\n",
        "titles_weekly['median_weekly'] = titles_weekly[columns].median(axis=1)\r\n",
        "titles_weekly[['sum_weekly', 'mean_weekly', 'median_weekly']].head(10)\r\n",
        "\r\n",
        "# Новости\r\n",
        "titles = {}\r\n",
        "for i in range(1, df.time.dt.isocalendar().week.max()+1):\r\n",
        "    titles[i] = pd.Series(count_words(list_merge(df[(df.time.dt.isocalendar().week == i) &\r\n",
        "                                                    (df.time.dt.isocalendar().year == 2020)].title_words, no_duplication=True)))\r\n",
        "titles_weekly_n = pd.concat(titles, axis=1)\r\n",
        "columns = titles_weekly_n.columns\r\n",
        "titles_weekly_n['sum_weekly'] = titles_weekly_n[columns].sum(axis=1)\r\n",
        "titles_weekly_n['mean_weekly'] = titles_weekly_n[columns].mean(axis=1)\r\n",
        "titles_weekly_n['median_weekly'] = titles_weekly_n[columns].median(axis=1)\r\n",
        "titles_weekly_n[['sum_weekly', 'mean_weekly', 'median_weekly']].head(10)"
      ],
      "execution_count": null,
      "outputs": [
        {
          "output_type": "execute_result",
          "data": {
            "text/html": [
              "<div>\n",
              "<style scoped>\n",
              "    .dataframe tbody tr th:only-of-type {\n",
              "        vertical-align: middle;\n",
              "    }\n",
              "\n",
              "    .dataframe tbody tr th {\n",
              "        vertical-align: top;\n",
              "    }\n",
              "\n",
              "    .dataframe thead th {\n",
              "        text-align: right;\n",
              "    }\n",
              "</style>\n",
              "<table border=\"1\" class=\"dataframe\">\n",
              "  <thead>\n",
              "    <tr style=\"text-align: right;\">\n",
              "      <th></th>\n",
              "      <th>sum_weekly</th>\n",
              "      <th>mean_weekly</th>\n",
              "      <th>median_weekly</th>\n",
              "    </tr>\n",
              "  </thead>\n",
              "  <tbody>\n",
              "    <tr>\n",
              "      <th>повышен</th>\n",
              "      <td>145.0</td>\n",
              "      <td>2.959184</td>\n",
              "      <td>2.0</td>\n",
              "    </tr>\n",
              "    <tr>\n",
              "      <th>банк</th>\n",
              "      <td>3071.0</td>\n",
              "      <td>57.943396</td>\n",
              "      <td>57.0</td>\n",
              "    </tr>\n",
              "    <tr>\n",
              "      <th>стандарт</th>\n",
              "      <td>69.0</td>\n",
              "      <td>1.971429</td>\n",
              "      <td>2.0</td>\n",
              "    </tr>\n",
              "    <tr>\n",
              "      <th>русск</th>\n",
              "      <td>59.0</td>\n",
              "      <td>1.735294</td>\n",
              "      <td>1.5</td>\n",
              "    </tr>\n",
              "    <tr>\n",
              "      <th>предлож</th>\n",
              "      <td>464.0</td>\n",
              "      <td>8.754717</td>\n",
              "      <td>8.0</td>\n",
              "    </tr>\n",
              "    <tr>\n",
              "      <th>карт</th>\n",
              "      <td>488.0</td>\n",
              "      <td>9.207547</td>\n",
              "      <td>9.0</td>\n",
              "    </tr>\n",
              "    <tr>\n",
              "      <th>нов</th>\n",
              "      <td>682.0</td>\n",
              "      <td>12.867925</td>\n",
              "      <td>13.0</td>\n",
              "    </tr>\n",
              "    <tr>\n",
              "      <th>категор</th>\n",
              "      <td>23.0</td>\n",
              "      <td>1.277778</td>\n",
              "      <td>1.0</td>\n",
              "    </tr>\n",
              "    <tr>\n",
              "      <th>держател</th>\n",
              "      <td>40.0</td>\n",
              "      <td>1.428571</td>\n",
              "      <td>1.0</td>\n",
              "    </tr>\n",
              "    <tr>\n",
              "      <th>кешбэк</th>\n",
              "      <td>85.0</td>\n",
              "      <td>2.073171</td>\n",
              "      <td>1.0</td>\n",
              "    </tr>\n",
              "  </tbody>\n",
              "</table>\n",
              "</div>"
            ],
            "text/plain": [
              "          sum_weekly  mean_weekly  median_weekly\n",
              "повышен        145.0     2.959184            2.0\n",
              "банк          3071.0    57.943396           57.0\n",
              "стандарт        69.0     1.971429            2.0\n",
              "русск           59.0     1.735294            1.5\n",
              "предлож        464.0     8.754717            8.0\n",
              "карт           488.0     9.207547            9.0\n",
              "нов            682.0    12.867925           13.0\n",
              "категор         23.0     1.277778            1.0\n",
              "держател        40.0     1.428571            1.0\n",
              "кешбэк          85.0     2.073171            1.0"
            ]
          },
          "metadata": {
            "tags": []
          },
          "execution_count": 24
        }
      ]
    },
    {
      "cell_type": "markdown",
      "metadata": {
        "id": "z3M1PkVh7Dx_"
      },
      "source": [
        "### Workdays"
      ]
    },
    {
      "cell_type": "markdown",
      "metadata": {
        "id": "_stHuPSOv9tc"
      },
      "source": [
        " Аналитика по заголовкам. Объединяем по рабочим дням недели."
      ]
    },
    {
      "cell_type": "code",
      "metadata": {
        "id": "59bHN8vj7GmK",
        "colab": {
          "base_uri": "https://localhost:8080/",
          "height": 359
        },
        "outputId": "9f65cb06-145b-4e12-e3ac-2752313ad573"
      },
      "source": [
        "# Слова\r\n",
        "titles = {}\r\n",
        "for i in range(1, df.time.dt.isocalendar().week.max()+1):\r\n",
        "    titles[i] = pd.Series(count_words(list_merge(df[(df.time.dt.isocalendar().week == i) &\r\n",
        "                                                    (df.time.dt.isocalendar().day >= 1) &\r\n",
        "                                                    (df.time.dt.isocalendar().day <= 5) &\r\n",
        "                                                    (df.time.dt.isocalendar().year == 2020)].title_words)))\r\n",
        "titles_weekly_workdays = pd.concat(titles, axis=1)\r\n",
        "columns = titles_weekly_workdays.columns\r\n",
        "titles_weekly_workdays['sum_weekly_workdays'] = titles_weekly_workdays[columns].sum(\r\n",
        "    axis=1)\r\n",
        "titles_weekly_workdays['mean_weekly_workdays'] = titles_weekly_workdays[columns].mean(\r\n",
        "    axis=1)\r\n",
        "titles_weekly_workdays['median_weekly_workdays'] = titles_weekly_workdays[columns].median(\r\n",
        "    axis=1)\r\n",
        "titles_weekly_workdays[['sum_weekly_workdays',\r\n",
        "                        'mean_weekly_workdays', 'median_weekly_workdays']].head(10)\r\n",
        "\r\n",
        "# Новости\r\n",
        "titles = {}\r\n",
        "for i in range(1, df.time.dt.isocalendar().week.max()+1):\r\n",
        "    titles[i] = pd.Series(count_words(list_merge(df[(df.time.dt.isocalendar().week == i) &\r\n",
        "                                                    (df.time.dt.isocalendar().day >= 1) &\r\n",
        "                                                    (df.time.dt.isocalendar().day <= 5) &\r\n",
        "                                                    (df.time.dt.isocalendar().year == 2020)].title_words, no_duplication=True)))\r\n",
        "titles_weekly_workdays_n = pd.concat(titles, axis=1)\r\n",
        "columns = titles_weekly_workdays_n.columns\r\n",
        "titles_weekly_workdays_n['sum_weekly_workdays'] = titles_weekly_workdays_n[columns].sum(\r\n",
        "    axis=1)\r\n",
        "titles_weekly_workdays_n['mean_weekly_workdays'] = titles_weekly_workdays_n[columns].mean(\r\n",
        "    axis=1)\r\n",
        "titles_weekly_workdays_n['median_weekly_workdays'] = titles_weekly_workdays_n[columns].median(\r\n",
        "    axis=1)\r\n",
        "titles_weekly_workdays_n[['sum_weekly_workdays',\r\n",
        "                          'mean_weekly_workdays', 'median_weekly_workdays']].head(10)"
      ],
      "execution_count": null,
      "outputs": [
        {
          "output_type": "execute_result",
          "data": {
            "text/html": [
              "<div>\n",
              "<style scoped>\n",
              "    .dataframe tbody tr th:only-of-type {\n",
              "        vertical-align: middle;\n",
              "    }\n",
              "\n",
              "    .dataframe tbody tr th {\n",
              "        vertical-align: top;\n",
              "    }\n",
              "\n",
              "    .dataframe thead th {\n",
              "        text-align: right;\n",
              "    }\n",
              "</style>\n",
              "<table border=\"1\" class=\"dataframe\">\n",
              "  <thead>\n",
              "    <tr style=\"text-align: right;\">\n",
              "      <th></th>\n",
              "      <th>sum_weekly_workdays</th>\n",
              "      <th>mean_weekly_workdays</th>\n",
              "      <th>median_weekly_workdays</th>\n",
              "    </tr>\n",
              "  </thead>\n",
              "  <tbody>\n",
              "    <tr>\n",
              "      <th>повышен</th>\n",
              "      <td>138.0</td>\n",
              "      <td>2.816327</td>\n",
              "      <td>2.0</td>\n",
              "    </tr>\n",
              "    <tr>\n",
              "      <th>банк</th>\n",
              "      <td>2814.0</td>\n",
              "      <td>53.094340</td>\n",
              "      <td>52.0</td>\n",
              "    </tr>\n",
              "    <tr>\n",
              "      <th>стандарт</th>\n",
              "      <td>61.0</td>\n",
              "      <td>1.848485</td>\n",
              "      <td>2.0</td>\n",
              "    </tr>\n",
              "    <tr>\n",
              "      <th>русск</th>\n",
              "      <td>52.0</td>\n",
              "      <td>1.625000</td>\n",
              "      <td>1.0</td>\n",
              "    </tr>\n",
              "    <tr>\n",
              "      <th>предлож</th>\n",
              "      <td>453.0</td>\n",
              "      <td>8.547170</td>\n",
              "      <td>8.0</td>\n",
              "    </tr>\n",
              "    <tr>\n",
              "      <th>карт</th>\n",
              "      <td>386.0</td>\n",
              "      <td>7.283019</td>\n",
              "      <td>7.0</td>\n",
              "    </tr>\n",
              "    <tr>\n",
              "      <th>нов</th>\n",
              "      <td>623.0</td>\n",
              "      <td>11.754717</td>\n",
              "      <td>12.0</td>\n",
              "    </tr>\n",
              "    <tr>\n",
              "      <th>категор</th>\n",
              "      <td>20.0</td>\n",
              "      <td>1.250000</td>\n",
              "      <td>1.0</td>\n",
              "    </tr>\n",
              "    <tr>\n",
              "      <th>держател</th>\n",
              "      <td>31.0</td>\n",
              "      <td>1.240000</td>\n",
              "      <td>1.0</td>\n",
              "    </tr>\n",
              "    <tr>\n",
              "      <th>кешбэк</th>\n",
              "      <td>70.0</td>\n",
              "      <td>1.944444</td>\n",
              "      <td>1.5</td>\n",
              "    </tr>\n",
              "  </tbody>\n",
              "</table>\n",
              "</div>"
            ],
            "text/plain": [
              "          sum_weekly_workdays  mean_weekly_workdays  median_weekly_workdays\n",
              "повышен                 138.0              2.816327                     2.0\n",
              "банк                   2814.0             53.094340                    52.0\n",
              "стандарт                 61.0              1.848485                     2.0\n",
              "русск                    52.0              1.625000                     1.0\n",
              "предлож                 453.0              8.547170                     8.0\n",
              "карт                    386.0              7.283019                     7.0\n",
              "нов                     623.0             11.754717                    12.0\n",
              "категор                  20.0              1.250000                     1.0\n",
              "держател                 31.0              1.240000                     1.0\n",
              "кешбэк                   70.0              1.944444                     1.5"
            ]
          },
          "metadata": {
            "tags": []
          },
          "execution_count": 25
        }
      ]
    },
    {
      "cell_type": "markdown",
      "metadata": {
        "id": "v7TRPO3U8l0z"
      },
      "source": [
        "### Weekend"
      ]
    },
    {
      "cell_type": "markdown",
      "metadata": {
        "id": "bvM6S6ZEwCOK"
      },
      "source": [
        "Аналитика по заголовкам. Объединяем по выходным дням недели."
      ]
    },
    {
      "cell_type": "code",
      "metadata": {
        "id": "9lKGGu3L764z",
        "colab": {
          "base_uri": "https://localhost:8080/",
          "height": 515
        },
        "outputId": "629c29b5-ef53-4046-b164-854ca1346e5a"
      },
      "source": [
        "# Слова\r\n",
        "titles = {}\r\n",
        "for i in range(1, df.time.dt.isocalendar().week.max()+1):\r\n",
        "    titles[i] = pd.Series(count_words(list_merge(df[(df.time.dt.isocalendar().week == i) &\r\n",
        "                                                    (df.time.dt.isocalendar().day >= 6) &\r\n",
        "                                                    (df.time.dt.isocalendar().day <= 7) &\r\n",
        "                                                    (df.time.dt.isocalendar().year == 2020)].title_words)))\r\n",
        "titles_weekly_weekend = pd.concat(titles, axis=1)\r\n",
        "columns = titles_weekly_weekend.columns\r\n",
        "titles_weekly_weekend['sum_weekly_weekend'] = titles_weekly_weekend[columns].sum(\r\n",
        "    axis=1)\r\n",
        "titles_weekly_weekend['mean_weekly_weekend'] = titles_weekly_weekend[columns].mean(\r\n",
        "    axis=1)\r\n",
        "titles_weekly_weekend['median_weekly_weekend'] = titles_weekly_weekend[columns].median(\r\n",
        "    axis=1)\r\n",
        "titles_weekly_weekend[['sum_weekly_weekend',\r\n",
        "                       'mean_weekly_weekend', 'median_weekly_weekend']].head(10)\r\n",
        "\r\n",
        "# Новости\r\n",
        "titles = {}\r\n",
        "for i in range(1, df.time.dt.isocalendar().week.max()+1):\r\n",
        "    titles[i] = pd.Series(count_words(list_merge(df[(df.time.dt.isocalendar().week == i) &\r\n",
        "                                                    (df.time.dt.isocalendar().day >= 6) &\r\n",
        "                                                    (df.time.dt.isocalendar().day <= 7) &\r\n",
        "                                                    (df.time.dt.isocalendar().year == 2020)].title_words, no_duplication=True)))\r\n",
        "titles_weekly_weekend_n = pd.concat(titles, axis=1)\r\n",
        "columns = titles_weekly_weekend_n.columns\r\n",
        "titles_weekly_weekend_n['sum_weekly_weekend'] = titles_weekly_weekend_n[columns].sum(\r\n",
        "    axis=1)\r\n",
        "titles_weekly_weekend_n['mean_weekly_weekend'] = titles_weekly_weekend_n[columns].mean(\r\n",
        "    axis=1)\r\n",
        "titles_weekly_weekend_n['median_weekly_weekend'] = titles_weekly_weekend_n[columns].median(\r\n",
        "    axis=1)\r\n",
        "titles_weekly_weekend_n[['sum_weekly_weekend',\r\n",
        "                         'mean_weekly_weekend', 'median_weekly_weekend']].head(10)"
      ],
      "execution_count": null,
      "outputs": [
        {
          "output_type": "stream",
          "text": [
            "/usr/local/lib/python3.6/dist-packages/ipykernel_launcher.py:4: DeprecationWarning: The default dtype for empty Series will be 'object' instead of 'float64' in a future version. Specify a dtype explicitly to silence this warning.\n",
            "  after removing the cwd from sys.path.\n",
            "/usr/local/lib/python3.6/dist-packages/ipykernel_launcher.py:4: DeprecationWarning: The default dtype for empty Series will be 'object' instead of 'float64' in a future version. Specify a dtype explicitly to silence this warning.\n",
            "  after removing the cwd from sys.path.\n",
            "/usr/local/lib/python3.6/dist-packages/ipykernel_launcher.py:15: DeprecationWarning: The default dtype for empty Series will be 'object' instead of 'float64' in a future version. Specify a dtype explicitly to silence this warning.\n",
            "  from ipykernel import kernelapp as app\n",
            "/usr/local/lib/python3.6/dist-packages/ipykernel_launcher.py:15: DeprecationWarning: The default dtype for empty Series will be 'object' instead of 'float64' in a future version. Specify a dtype explicitly to silence this warning.\n",
            "  from ipykernel import kernelapp as app\n"
          ],
          "name": "stderr"
        },
        {
          "output_type": "execute_result",
          "data": {
            "text/html": [
              "<div>\n",
              "<style scoped>\n",
              "    .dataframe tbody tr th:only-of-type {\n",
              "        vertical-align: middle;\n",
              "    }\n",
              "\n",
              "    .dataframe tbody tr th {\n",
              "        vertical-align: top;\n",
              "    }\n",
              "\n",
              "    .dataframe thead th {\n",
              "        text-align: right;\n",
              "    }\n",
              "</style>\n",
              "<table border=\"1\" class=\"dataframe\">\n",
              "  <thead>\n",
              "    <tr style=\"text-align: right;\">\n",
              "      <th></th>\n",
              "      <th>sum_weekly_weekend</th>\n",
              "      <th>mean_weekly_weekend</th>\n",
              "      <th>median_weekly_weekend</th>\n",
              "    </tr>\n",
              "  </thead>\n",
              "  <tbody>\n",
              "    <tr>\n",
              "      <th>миров</th>\n",
              "      <td>46.0</td>\n",
              "      <td>1.179487</td>\n",
              "      <td>1.0</td>\n",
              "    </tr>\n",
              "    <tr>\n",
              "      <th>торг</th>\n",
              "      <td>36.0</td>\n",
              "      <td>1.000000</td>\n",
              "      <td>1.0</td>\n",
              "    </tr>\n",
              "    <tr>\n",
              "      <th>нефт</th>\n",
              "      <td>53.0</td>\n",
              "      <td>1.358974</td>\n",
              "      <td>1.0</td>\n",
              "    </tr>\n",
              "    <tr>\n",
              "      <th>сниз</th>\n",
              "      <td>36.0</td>\n",
              "      <td>1.333333</td>\n",
              "      <td>1.0</td>\n",
              "    </tr>\n",
              "    <tr>\n",
              "      <th>пятниц</th>\n",
              "      <td>38.0</td>\n",
              "      <td>1.000000</td>\n",
              "      <td>1.0</td>\n",
              "    </tr>\n",
              "    <tr>\n",
              "      <th>итог</th>\n",
              "      <td>36.0</td>\n",
              "      <td>1.028571</td>\n",
              "      <td>1.0</td>\n",
              "    </tr>\n",
              "    <tr>\n",
              "      <th>цен</th>\n",
              "      <td>51.0</td>\n",
              "      <td>1.275000</td>\n",
              "      <td>1.0</td>\n",
              "    </tr>\n",
              "    <tr>\n",
              "      <th>расплат</th>\n",
              "      <td>2.0</td>\n",
              "      <td>1.000000</td>\n",
              "      <td>1.0</td>\n",
              "    </tr>\n",
              "    <tr>\n",
              "      <th>как</th>\n",
              "      <td>3.0</td>\n",
              "      <td>1.000000</td>\n",
              "      <td>1.0</td>\n",
              "    </tr>\n",
              "    <tr>\n",
              "      <th>долг</th>\n",
              "      <td>11.0</td>\n",
              "      <td>1.222222</td>\n",
              "      <td>1.0</td>\n",
              "    </tr>\n",
              "  </tbody>\n",
              "</table>\n",
              "</div>"
            ],
            "text/plain": [
              "         sum_weekly_weekend  mean_weekly_weekend  median_weekly_weekend\n",
              "миров                  46.0             1.179487                    1.0\n",
              "торг                   36.0             1.000000                    1.0\n",
              "нефт                   53.0             1.358974                    1.0\n",
              "сниз                   36.0             1.333333                    1.0\n",
              "пятниц                 38.0             1.000000                    1.0\n",
              "итог                   36.0             1.028571                    1.0\n",
              "цен                    51.0             1.275000                    1.0\n",
              "расплат                 2.0             1.000000                    1.0\n",
              "как                     3.0             1.000000                    1.0\n",
              "долг                   11.0             1.222222                    1.0"
            ]
          },
          "metadata": {
            "tags": []
          },
          "execution_count": 26
        }
      ]
    },
    {
      "cell_type": "code",
      "metadata": {
        "id": "tzvftJ6eAx_F"
      },
      "source": [
        "titles_words = pd.concat([titles_daily, titles_weekly,\r\n",
        "                          titles_weekly_weekend, titles_weekly_workdays], axis=1).fillna(0)\r\n",
        "titles_words_n = pd.concat([titles_daily_n, titles_weekly_n,\r\n",
        "                            titles_weekly_weekend_n, titles_weekly_workdays_n], axis=1).fillna(0)"
      ],
      "execution_count": null,
      "outputs": []
    },
    {
      "cell_type": "code",
      "metadata": {
        "id": "_RomVrotAzV7"
      },
      "source": [
        "titles_words.to_csv(\r\n",
        "    'drive/MyDrive/Colab Notebooks/sber/news/data/titles_words.csv')\r\n",
        "titles_words_n.to_csv(\r\n",
        "    'drive/MyDrive/Colab Notebooks/sber/news/data/titles_words_n.csv')"
      ],
      "execution_count": null,
      "outputs": []
    },
    {
      "cell_type": "markdown",
      "metadata": {
        "id": "282Tawyt8r8u"
      },
      "source": [
        "## Texts"
      ]
    },
    {
      "cell_type": "markdown",
      "metadata": {
        "id": "RG-dMV8R8ww8"
      },
      "source": [
        "### Fullweek"
      ]
    },
    {
      "cell_type": "markdown",
      "metadata": {
        "id": "2nobUkoIwLkM"
      },
      "source": [
        "Аналитика по текстам. Объединяем по полным неделям."
      ]
    },
    {
      "cell_type": "code",
      "metadata": {
        "id": "HjVs1E4k892j",
        "colab": {
          "base_uri": "https://localhost:8080/",
          "height": 359
        },
        "outputId": "37a42d03-b186-4325-f58a-39581f3bb261"
      },
      "source": [
        "# Слова\r\n",
        "texts = {}\r\n",
        "for i in range(1, df.time.dt.isocalendar().week.max()+1):\r\n",
        "    texts[i] = pd.Series(count_words(list_merge(df[(df.time.dt.isocalendar().week == i) &\r\n",
        "                                                   (df.time.dt.isocalendar().year == 2020)].text_words)))\r\n",
        "texts_weekly = pd.concat(texts, axis=1)\r\n",
        "columns = texts_weekly.columns\r\n",
        "texts_weekly['sum_weekly'] = texts_weekly[columns].sum(axis=1)\r\n",
        "texts_weekly['mean_weekly'] = texts_weekly[columns].mean(axis=1)\r\n",
        "texts_weekly['median_weekly'] = texts_weekly[columns].median(axis=1)\r\n",
        "texts_weekly[['sum_weekly', 'mean_weekly', 'median_weekly']].head(10)\r\n",
        "\r\n",
        "# Новости\r\n",
        "texts = {}\r\n",
        "for i in range(1, df.time.dt.isocalendar().week.max()+1):\r\n",
        "    texts[i] = pd.Series(count_words(list_merge(df[(df.time.dt.isocalendar().week == i) &\r\n",
        "                                                   (df.time.dt.isocalendar().year == 2020)].text_words, no_duplication=True)))\r\n",
        "texts_weekly_n = pd.concat(texts, axis=1)\r\n",
        "columns = texts_weekly_n.columns\r\n",
        "texts_weekly_n['sum_weekly'] = texts_weekly_n[columns].sum(axis=1)\r\n",
        "texts_weekly_n['mean_weekly'] = texts_weekly_n[columns].mean(axis=1)\r\n",
        "texts_weekly_n['median_weekly'] = texts_weekly_n[columns].median(axis=1)\r\n",
        "texts_weekly_n[['sum_weekly', 'mean_weekly', 'median_weekly']].head(10)"
      ],
      "execution_count": null,
      "outputs": [
        {
          "output_type": "execute_result",
          "data": {
            "text/html": [
              "<div>\n",
              "<style scoped>\n",
              "    .dataframe tbody tr th:only-of-type {\n",
              "        vertical-align: middle;\n",
              "    }\n",
              "\n",
              "    .dataframe tbody tr th {\n",
              "        vertical-align: top;\n",
              "    }\n",
              "\n",
              "    .dataframe thead th {\n",
              "        text-align: right;\n",
              "    }\n",
              "</style>\n",
              "<table border=\"1\" class=\"dataframe\">\n",
              "  <thead>\n",
              "    <tr style=\"text-align: right;\">\n",
              "      <th></th>\n",
              "      <th>sum_weekly</th>\n",
              "      <th>mean_weekly</th>\n",
              "      <th>median_weekly</th>\n",
              "    </tr>\n",
              "  </thead>\n",
              "  <tbody>\n",
              "    <tr>\n",
              "      <th>бонус</th>\n",
              "      <td>215.0</td>\n",
              "      <td>4.056604</td>\n",
              "      <td>4.0</td>\n",
              "    </tr>\n",
              "    <tr>\n",
              "      <th>повышен</th>\n",
              "      <td>1776.0</td>\n",
              "      <td>33.509434</td>\n",
              "      <td>33.0</td>\n",
              "    </tr>\n",
              "    <tr>\n",
              "      <th>зачисля</th>\n",
              "      <td>66.0</td>\n",
              "      <td>1.783784</td>\n",
              "      <td>1.0</td>\n",
              "    </tr>\n",
              "    <tr>\n",
              "      <th>cashback</th>\n",
              "      <td>18.0</td>\n",
              "      <td>1.500000</td>\n",
              "      <td>1.0</td>\n",
              "    </tr>\n",
              "    <tr>\n",
              "      <th>карт</th>\n",
              "      <td>1761.0</td>\n",
              "      <td>33.226415</td>\n",
              "      <td>33.0</td>\n",
              "    </tr>\n",
              "    <tr>\n",
              "      <th>каф</th>\n",
              "      <td>131.0</td>\n",
              "      <td>2.787234</td>\n",
              "      <td>2.0</td>\n",
              "    </tr>\n",
              "    <tr>\n",
              "      <th>фастфуд</th>\n",
              "      <td>28.0</td>\n",
              "      <td>1.272727</td>\n",
              "      <td>1.0</td>\n",
              "    </tr>\n",
              "    <tr>\n",
              "      <th>программ</th>\n",
              "      <td>2231.0</td>\n",
              "      <td>42.094340</td>\n",
              "      <td>43.0</td>\n",
              "    </tr>\n",
              "    <tr>\n",
              "      <th>откр</th>\n",
              "      <td>666.0</td>\n",
              "      <td>12.566038</td>\n",
              "      <td>12.0</td>\n",
              "    </tr>\n",
              "    <tr>\n",
              "      <th>традицион</th>\n",
              "      <td>358.0</td>\n",
              "      <td>6.754717</td>\n",
              "      <td>6.0</td>\n",
              "    </tr>\n",
              "  </tbody>\n",
              "</table>\n",
              "</div>"
            ],
            "text/plain": [
              "           sum_weekly  mean_weekly  median_weekly\n",
              "бонус           215.0     4.056604            4.0\n",
              "повышен        1776.0    33.509434           33.0\n",
              "зачисля          66.0     1.783784            1.0\n",
              "cashback         18.0     1.500000            1.0\n",
              "карт           1761.0    33.226415           33.0\n",
              "каф             131.0     2.787234            2.0\n",
              "фастфуд          28.0     1.272727            1.0\n",
              "программ       2231.0    42.094340           43.0\n",
              "откр            666.0    12.566038           12.0\n",
              "традицион       358.0     6.754717            6.0"
            ]
          },
          "metadata": {
            "tags": []
          },
          "execution_count": 29
        }
      ]
    },
    {
      "cell_type": "markdown",
      "metadata": {
        "id": "KdZosl9B9yOj"
      },
      "source": [
        "### Workdays"
      ]
    },
    {
      "cell_type": "markdown",
      "metadata": {
        "id": "deeVBqdpwRTH"
      },
      "source": [
        " Аналитика по текстам. Объединяем по рабочим дням недели."
      ]
    },
    {
      "cell_type": "code",
      "metadata": {
        "id": "ftbKcr_A93Re",
        "colab": {
          "base_uri": "https://localhost:8080/",
          "height": 359
        },
        "outputId": "ce09c6f9-f515-4c25-976e-50580ec8e921"
      },
      "source": [
        "# Слова\r\n",
        "texts = {}\r\n",
        "for i in range(1, df.time.dt.isocalendar().week.max()+1):\r\n",
        "    texts[i] = pd.Series(count_words(list_merge(df[(df.time.dt.isocalendar().week == i) &\r\n",
        "                                                   (df.time.dt.isocalendar().day >= 1) &\r\n",
        "                                                   (df.time.dt.isocalendar().day <= 5) &\r\n",
        "                                                   (df.time.dt.isocalendar().year == 2020)].text_words)))\r\n",
        "texts_weekly_workdays = pd.concat(texts, axis=1)\r\n",
        "columns = texts_weekly_workdays.columns\r\n",
        "texts_weekly_workdays['sum_weekly_workdays'] = texts_weekly_workdays[columns].sum(\r\n",
        "    axis=1)\r\n",
        "texts_weekly_workdays['mean_weekly_workdays'] = texts_weekly_workdays[columns].mean(\r\n",
        "    axis=1)\r\n",
        "texts_weekly_workdays['median_weekly_workdays'] = texts_weekly_workdays[columns].median(\r\n",
        "    axis=1)\r\n",
        "texts_weekly_workdays[['sum_weekly_workdays',\r\n",
        "                       'mean_weekly_workdays', 'median_weekly_workdays']].head(10)\r\n",
        "\r\n",
        "# Новости\r\n",
        "texts = {}\r\n",
        "for i in range(1, df.time.dt.isocalendar().week.max()+1):\r\n",
        "    texts[i] = pd.Series(count_words(list_merge(df[(df.time.dt.isocalendar().week == i) &\r\n",
        "                                                   (df.time.dt.isocalendar().day >= 1) &\r\n",
        "                                                   (df.time.dt.isocalendar().day <= 5) &\r\n",
        "                                                   (df.time.dt.isocalendar().year == 2020)].text_words, no_duplication=True)))\r\n",
        "texts_weekly_workdays_n = pd.concat(texts, axis=1)\r\n",
        "columns = texts_weekly_workdays_n.columns\r\n",
        "texts_weekly_workdays_n['sum_weekly_workdays'] = texts_weekly_workdays_n[columns].sum(\r\n",
        "    axis=1)\r\n",
        "texts_weekly_workdays_n['mean_weekly_workdays'] = texts_weekly_workdays_n[columns].mean(\r\n",
        "    axis=1)\r\n",
        "texts_weekly_workdays_n['median_weekly_workdays'] = texts_weekly_workdays_n[columns].median(\r\n",
        "    axis=1)\r\n",
        "texts_weekly_workdays_n[['sum_weekly_workdays',\r\n",
        "                         'mean_weekly_workdays', 'median_weekly_workdays']].head(10)"
      ],
      "execution_count": null,
      "outputs": [
        {
          "output_type": "execute_result",
          "data": {
            "text/html": [
              "<div>\n",
              "<style scoped>\n",
              "    .dataframe tbody tr th:only-of-type {\n",
              "        vertical-align: middle;\n",
              "    }\n",
              "\n",
              "    .dataframe tbody tr th {\n",
              "        vertical-align: top;\n",
              "    }\n",
              "\n",
              "    .dataframe thead th {\n",
              "        text-align: right;\n",
              "    }\n",
              "</style>\n",
              "<table border=\"1\" class=\"dataframe\">\n",
              "  <thead>\n",
              "    <tr style=\"text-align: right;\">\n",
              "      <th></th>\n",
              "      <th>sum_weekly_workdays</th>\n",
              "      <th>mean_weekly_workdays</th>\n",
              "      <th>median_weekly_workdays</th>\n",
              "    </tr>\n",
              "  </thead>\n",
              "  <tbody>\n",
              "    <tr>\n",
              "      <th>бонус</th>\n",
              "      <td>171.0</td>\n",
              "      <td>3.288462</td>\n",
              "      <td>3.0</td>\n",
              "    </tr>\n",
              "    <tr>\n",
              "      <th>повышен</th>\n",
              "      <td>1656.0</td>\n",
              "      <td>31.245283</td>\n",
              "      <td>31.0</td>\n",
              "    </tr>\n",
              "    <tr>\n",
              "      <th>зачисля</th>\n",
              "      <td>57.0</td>\n",
              "      <td>1.676471</td>\n",
              "      <td>1.0</td>\n",
              "    </tr>\n",
              "    <tr>\n",
              "      <th>cashback</th>\n",
              "      <td>8.0</td>\n",
              "      <td>1.142857</td>\n",
              "      <td>1.0</td>\n",
              "    </tr>\n",
              "    <tr>\n",
              "      <th>карт</th>\n",
              "      <td>1466.0</td>\n",
              "      <td>27.660377</td>\n",
              "      <td>27.0</td>\n",
              "    </tr>\n",
              "    <tr>\n",
              "      <th>каф</th>\n",
              "      <td>107.0</td>\n",
              "      <td>2.326087</td>\n",
              "      <td>2.0</td>\n",
              "    </tr>\n",
              "    <tr>\n",
              "      <th>фастфуд</th>\n",
              "      <td>17.0</td>\n",
              "      <td>1.062500</td>\n",
              "      <td>1.0</td>\n",
              "    </tr>\n",
              "    <tr>\n",
              "      <th>программ</th>\n",
              "      <td>2004.0</td>\n",
              "      <td>37.811321</td>\n",
              "      <td>38.0</td>\n",
              "    </tr>\n",
              "    <tr>\n",
              "      <th>откр</th>\n",
              "      <td>580.0</td>\n",
              "      <td>10.943396</td>\n",
              "      <td>11.0</td>\n",
              "    </tr>\n",
              "    <tr>\n",
              "      <th>традицион</th>\n",
              "      <td>330.0</td>\n",
              "      <td>6.226415</td>\n",
              "      <td>6.0</td>\n",
              "    </tr>\n",
              "  </tbody>\n",
              "</table>\n",
              "</div>"
            ],
            "text/plain": [
              "           sum_weekly_workdays  mean_weekly_workdays  median_weekly_workdays\n",
              "бонус                    171.0              3.288462                     3.0\n",
              "повышен                 1656.0             31.245283                    31.0\n",
              "зачисля                   57.0              1.676471                     1.0\n",
              "cashback                   8.0              1.142857                     1.0\n",
              "карт                    1466.0             27.660377                    27.0\n",
              "каф                      107.0              2.326087                     2.0\n",
              "фастфуд                   17.0              1.062500                     1.0\n",
              "программ                2004.0             37.811321                    38.0\n",
              "откр                     580.0             10.943396                    11.0\n",
              "традицион                330.0              6.226415                     6.0"
            ]
          },
          "metadata": {
            "tags": []
          },
          "execution_count": 30
        }
      ]
    },
    {
      "cell_type": "markdown",
      "metadata": {
        "id": "W7TTKgVe-TSy"
      },
      "source": [
        "### Weekend"
      ]
    },
    {
      "cell_type": "markdown",
      "metadata": {
        "id": "j6yrTaxfwXDI"
      },
      "source": [
        "Аналитика по текстам. Объединяем по выходным дням недели."
      ]
    },
    {
      "cell_type": "code",
      "metadata": {
        "id": "AZ1QdUa2-aSS",
        "colab": {
          "base_uri": "https://localhost:8080/",
          "height": 515
        },
        "outputId": "dc69732c-fbc6-4fc5-b230-0dbfd6b5cfde"
      },
      "source": [
        "# Слова\r\n",
        "texts = {}\r\n",
        "for i in range(1, df.time.dt.isocalendar().week.max()+1):\r\n",
        "    texts[i] = pd.Series(count_words(list_merge(df[(df.time.dt.isocalendar().week == i) &\r\n",
        "                                                   (df.time.dt.isocalendar().day >= 6) &\r\n",
        "                                                   (df.time.dt.isocalendar().day <= 7) &\r\n",
        "                                                   (df.time.dt.isocalendar().year == 2020)].text_words)))\r\n",
        "texts_weekly_weekend = pd.concat(texts, axis=1)\r\n",
        "columns = texts_weekly_weekend.columns\r\n",
        "texts_weekly_weekend['sum_weekly_weekend'] = texts_weekly_weekend[columns].sum(\r\n",
        "    axis=1)\r\n",
        "texts_weekly_weekend['mean_weekly_weekend'] = texts_weekly_weekend[columns].mean(\r\n",
        "    axis=1)\r\n",
        "texts_weekly_weekend['median_weekly_weekend'] = texts_weekly_weekend[columns].median(\r\n",
        "    axis=1)\r\n",
        "texts_weekly_weekend[['sum_weekly_weekend',\r\n",
        "                      'mean_weekly_weekend', 'median_weekly_weekend']].head(10)\r\n",
        "\r\n",
        "# Новости\r\n",
        "texts = {}\r\n",
        "for i in range(1, df.time.dt.isocalendar().week.max()+1):\r\n",
        "    texts[i] = pd.Series(count_words(list_merge(df[(df.time.dt.isocalendar().week == i) &\r\n",
        "                                                   (df.time.dt.isocalendar().day >= 6) &\r\n",
        "                                                   (df.time.dt.isocalendar().day <= 7) &\r\n",
        "                                                   (df.time.dt.isocalendar().year == 2020)].text_words, no_duplication=True)))\r\n",
        "texts_weekly_weekend_n = pd.concat(texts, axis=1)\r\n",
        "columns = texts_weekly_weekend_n.columns\r\n",
        "texts_weekly_weekend_n['sum_weekly_weekend'] = texts_weekly_weekend_n[columns].sum(\r\n",
        "    axis=1)\r\n",
        "texts_weekly_weekend_n['mean_weekly_weekend'] = texts_weekly_weekend_n[columns].mean(\r\n",
        "    axis=1)\r\n",
        "texts_weekly_weekend_n['median_weekly_weekend'] = texts_weekly_weekend_n[columns].median(\r\n",
        "    axis=1)\r\n",
        "texts_weekly_weekend_n[['sum_weekly_weekend',\r\n",
        "                        'mean_weekly_weekend', 'median_weekly_weekend']].head(10)"
      ],
      "execution_count": null,
      "outputs": [
        {
          "output_type": "stream",
          "text": [
            "/usr/local/lib/python3.6/dist-packages/ipykernel_launcher.py:4: DeprecationWarning: The default dtype for empty Series will be 'object' instead of 'float64' in a future version. Specify a dtype explicitly to silence this warning.\n",
            "  after removing the cwd from sys.path.\n",
            "/usr/local/lib/python3.6/dist-packages/ipykernel_launcher.py:4: DeprecationWarning: The default dtype for empty Series will be 'object' instead of 'float64' in a future version. Specify a dtype explicitly to silence this warning.\n",
            "  after removing the cwd from sys.path.\n",
            "/usr/local/lib/python3.6/dist-packages/ipykernel_launcher.py:15: DeprecationWarning: The default dtype for empty Series will be 'object' instead of 'float64' in a future version. Specify a dtype explicitly to silence this warning.\n",
            "  from ipykernel import kernelapp as app\n",
            "/usr/local/lib/python3.6/dist-packages/ipykernel_launcher.py:15: DeprecationWarning: The default dtype for empty Series will be 'object' instead of 'float64' in a future version. Specify a dtype explicitly to silence this warning.\n",
            "  from ipykernel import kernelapp as app\n"
          ],
          "name": "stderr"
        },
        {
          "output_type": "execute_result",
          "data": {
            "text/html": [
              "<div>\n",
              "<style scoped>\n",
              "    .dataframe tbody tr th:only-of-type {\n",
              "        vertical-align: middle;\n",
              "    }\n",
              "\n",
              "    .dataframe tbody tr th {\n",
              "        vertical-align: top;\n",
              "    }\n",
              "\n",
              "    .dataframe thead th {\n",
              "        text-align: right;\n",
              "    }\n",
              "</style>\n",
              "<table border=\"1\" class=\"dataframe\">\n",
              "  <thead>\n",
              "    <tr style=\"text-align: right;\">\n",
              "      <th></th>\n",
              "      <th>sum_weekly_weekend</th>\n",
              "      <th>mean_weekly_weekend</th>\n",
              "      <th>median_weekly_weekend</th>\n",
              "    </tr>\n",
              "  </thead>\n",
              "  <tbody>\n",
              "    <tr>\n",
              "      <th>динамик</th>\n",
              "      <td>81.0</td>\n",
              "      <td>1.928571</td>\n",
              "      <td>2.0</td>\n",
              "    </tr>\n",
              "    <tr>\n",
              "      <th>техасск</th>\n",
              "      <td>39.0</td>\n",
              "      <td>1.000000</td>\n",
              "      <td>1.0</td>\n",
              "    </tr>\n",
              "    <tr>\n",
              "      <th>европ</th>\n",
              "      <td>52.0</td>\n",
              "      <td>1.333333</td>\n",
              "      <td>1.0</td>\n",
              "    </tr>\n",
              "    <tr>\n",
              "      <th>сделок</th>\n",
              "      <td>52.0</td>\n",
              "      <td>1.238095</td>\n",
              "      <td>1.0</td>\n",
              "    </tr>\n",
              "    <tr>\n",
              "      <th>нефт</th>\n",
              "      <td>96.0</td>\n",
              "      <td>2.133333</td>\n",
              "      <td>2.0</td>\n",
              "    </tr>\n",
              "    <tr>\n",
              "      <th>февральск</th>\n",
              "      <td>7.0</td>\n",
              "      <td>1.000000</td>\n",
              "      <td>1.0</td>\n",
              "    </tr>\n",
              "    <tr>\n",
              "      <th>уменьш</th>\n",
              "      <td>62.0</td>\n",
              "      <td>1.722222</td>\n",
              "      <td>1.0</td>\n",
              "    </tr>\n",
              "    <tr>\n",
              "      <th>состав</th>\n",
              "      <td>247.0</td>\n",
              "      <td>4.940000</td>\n",
              "      <td>5.0</td>\n",
              "    </tr>\n",
              "    <tr>\n",
              "      <th>межконтинентальн</th>\n",
              "      <td>38.0</td>\n",
              "      <td>1.000000</td>\n",
              "      <td>1.0</td>\n",
              "    </tr>\n",
              "    <tr>\n",
              "      <th>доллар</th>\n",
              "      <td>172.0</td>\n",
              "      <td>3.440000</td>\n",
              "      <td>3.0</td>\n",
              "    </tr>\n",
              "  </tbody>\n",
              "</table>\n",
              "</div>"
            ],
            "text/plain": [
              "                  sum_weekly_weekend  ...  median_weekly_weekend\n",
              "динамик                         81.0  ...                    2.0\n",
              "техасск                         39.0  ...                    1.0\n",
              "европ                           52.0  ...                    1.0\n",
              "сделок                          52.0  ...                    1.0\n",
              "нефт                            96.0  ...                    2.0\n",
              "февральск                        7.0  ...                    1.0\n",
              "уменьш                          62.0  ...                    1.0\n",
              "состав                         247.0  ...                    5.0\n",
              "межконтинентальн                38.0  ...                    1.0\n",
              "доллар                         172.0  ...                    3.0\n",
              "\n",
              "[10 rows x 3 columns]"
            ]
          },
          "metadata": {
            "tags": []
          },
          "execution_count": 31
        }
      ]
    },
    {
      "cell_type": "code",
      "metadata": {
        "id": "Meg0rtg4_SHV"
      },
      "source": [
        "texts_words = pd.concat([texts_daily, texts_weekly,\r\n",
        "                         texts_weekly_weekend, texts_weekly_workdays], axis=1).fillna(0)\r\n",
        "texts_words_n = pd.concat([texts_daily_n, texts_weekly_n,\r\n",
        "                           texts_weekly_weekend_n, texts_weekly_workdays_n], axis=1).fillna(0)"
      ],
      "execution_count": null,
      "outputs": []
    },
    {
      "cell_type": "code",
      "metadata": {
        "colab": {
          "base_uri": "https://localhost:8080/"
        },
        "id": "vYxDeJW87U9u",
        "outputId": "551aeca9-3e83-4a2c-dc77-3896f0fe3157"
      },
      "source": [
        "import gc\n",
        "gc.collect()"
      ],
      "execution_count": null,
      "outputs": [
        {
          "output_type": "execute_result",
          "data": {
            "text/plain": [
              "12"
            ]
          },
          "metadata": {
            "tags": []
          },
          "execution_count": 33
        }
      ]
    },
    {
      "cell_type": "markdown",
      "metadata": {
        "id": "SrfKn4v5wiCN"
      },
      "source": [
        "Сохраним аналитику в отдельные файлы."
      ]
    },
    {
      "cell_type": "code",
      "metadata": {
        "id": "ayaLN_FrBDg1"
      },
      "source": [
        "texts_words.to_csv(\r\n",
        "    'drive/MyDrive/Colab Notebooks/sber/news/data/texts_words.csv')\r\n",
        "texts_words_n.to_csv(\r\n",
        "    'drive/MyDrive/Colab Notebooks/sber/news/data/texts_words_n.csv')"
      ],
      "execution_count": null,
      "outputs": []
    },
    {
      "cell_type": "markdown",
      "metadata": {
        "id": "JXs15TlBDSR1"
      },
      "source": [
        "# Визуализация"
      ]
    },
    {
      "cell_type": "code",
      "metadata": {
        "id": "d__iQBBNDRtI"
      },
      "source": [
        "import matplotlib.pyplot as plt\r\n",
        "import seaborn as sns"
      ],
      "execution_count": null,
      "outputs": []
    },
    {
      "cell_type": "code",
      "metadata": {
        "id": "q9enRvvyD3UO",
        "colab": {
          "base_uri": "https://localhost:8080/",
          "height": 279
        },
        "outputId": "d193eaf3-7e0b-4e7b-a085-22c8c35d1ea3"
      },
      "source": [
        "ax = sns.countplot(x=df.time.sort_values().dt.strftime('%Y'), data=df)\n",
        "ax.set_title('Количество новостей по годам')\n",
        "ax.set_ylabel('Количество новостей')\n",
        "ax.set_xlabel('Годы')"
      ],
      "execution_count": null,
      "outputs": [
        {
          "output_type": "display_data",
          "data": {
            "image/png": "[encoded data removed]",
            "text/plain": [
              "<Figure size 432x288 with 1 Axes>"
            ]
          },
          "metadata": {
            "tags": [],
            "needs_background": "light"
          }
        }
      ]
    },
    {
      "cell_type": "code",
      "metadata": {
        "id": "tm9-xehiDqr_",
        "colab": {
          "base_uri": "https://localhost:8080/",
          "height": 279
        },
        "outputId": "96fdd972-f64e-418a-aedd-903e37fc5b6b"
      },
      "source": [
        "ax = sns.countplot(x=df.time.sort_values().dt.strftime('%b'), data=df)\n",
        "ax.set_title('Количество новостей по месяцам')\n",
        "ax.set_ylabel('Количество новостей')\n",
        "ax.set_xlabel('Месяцы')"
      ],
      "execution_count": null,
      "outputs": [
        {
          "output_type": "display_data",
          "data": {
            "image/png": "[encoded data removed]",
            "text/plain": [
              "<Figure size 432x288 with 1 Axes>"
            ]
          },
          "metadata": {
            "tags": [],
            "needs_background": "light"
          }
        }
      ]
    },
    {
      "cell_type": "code",
      "metadata": {
        "id": "61ezFX5gDt6v",
        "colab": {
          "base_uri": "https://localhost:8080/",
          "height": 279
        },
        "outputId": "42141005-359c-42c8-9641-6893e733c48b"
      },
      "source": [
        "ax = sns.countplot(x=df.time.sort_values().dt.strftime('%H'), data=df)\n",
        "ax.set_title('Количество новостей по часам')\n",
        "ax.set_ylabel('Количество новостей')\n",
        "ax.set_xlabel('Часы')"
      ],
      "execution_count": null,
      "outputs": [
        {
          "output_type": "display_data",
          "data": {
            "image/png": "[encoded data removed]",
            "text/plain": [
              "<Figure size 432x288 with 1 Axes>"
            ]
          },
          "metadata": {
            "tags": [],
            "needs_background": "light"
          }
        }
      ]
    },
    {
      "cell_type": "code",
      "metadata": {
        "id": "b6jyy71RDxW-",
        "colab": {
          "base_uri": "https://localhost:8080/",
          "height": 426
        },
        "outputId": "5aa0710c-cdf6-454a-b2ef-faa14443dba0"
      },
      "source": [
        "ax = sns.countplot(x=df.time.sort_values().dt.strftime('%A'), data=df)\r\n",
        "ax.set_xticklabels(ax.get_xticklabels(),rotation=30)\r\n",
        "ax.set_title('Количество новостей по дням недели')\r\n",
        "ax.set_ylabel('Количество новостей')\r\n",
        "ax.set_xlabel('Дни недели')"
      ],
      "execution_count": null,
      "outputs": [
        {
          "output_type": "execute_result",
          "data": {
            "text/plain": [
              "[Text(0, 0, 'Thursday'),\n",
              " Text(0, 0, 'Tuesday'),\n",
              " Text(0, 0, 'Wednesday'),\n",
              " Text(0, 0, 'Friday'),\n",
              " Text(0, 0, 'Monday'),\n",
              " Text(0, 0, 'Saturday'),\n",
              " Text(0, 0, 'Sunday')]"
            ]
          },
          "metadata": {
            "tags": []
          },
          "execution_count": 39
        },
        {
          "output_type": "display_data",
          "data": {
            "image/png": "[encoded data removed]",
            "text/plain": [
              "<Figure size 432x288 with 1 Axes>"
            ]
          },
          "metadata": {
            "tags": [],
            "needs_background": "light"
          }
        }
      ]
    },
    {
      "cell_type": "code",
      "metadata": {
        "id": "XxQ3EFxyDxww",
        "colab": {
          "base_uri": "https://localhost:8080/",
          "height": 484
        },
        "outputId": "5a8bd3f3-fcb1-4767-ab08-c2ba3cdd8364"
      },
      "source": [
        "# Топ-10 ресурсов\r\n",
        "ax = sns.countplot(\r\n",
        "    x=df[df.source.isin(df.source.value_counts()[:10].index)].source, data=df)\r\n",
        "ax.set_xticklabels(ax.get_xticklabels(), rotation=30)\r\n",
        "ax.set_title('Количество новостей по используемым ресурсам')\r\n",
        "ax.set_ylabel('Количество новостей')\r\n",
        "ax.set_xlabel('Ресурсы')"
      ],
      "execution_count": null,
      "outputs": [
        {
          "output_type": "execute_result",
          "data": {
            "text/plain": [
              "[Text(0, 0, 'Известия'),\n",
              " Text(0, 0, 'РБК'),\n",
              " Text(0, 0, 'Banki.ru'),\n",
              " Text(0, 0, 'ТАСС'),\n",
              " Text(0, 0, 'РАПСИ'),\n",
              " Text(0, 0, 'Прайм'),\n",
              " Text(0, 0, 'РИА Новости'),\n",
              " Text(0, 0, 'Коммерсант'),\n",
              " Text(0, 0, 'Ведомости'),\n",
              " Text(0, 0, 'RNS')]"
            ]
          },
          "metadata": {
            "tags": []
          },
          "execution_count": 40
        },
        {
          "output_type": "display_data",
          "data": {
            "image/png": "[encoded data removed]",
            "text/plain": [
              "<Figure size 432x288 with 1 Axes>"
            ]
          },
          "metadata": {
            "tags": [],
            "needs_background": "light"
          }
        }
      ]
    },
    {
      "cell_type": "markdown",
      "metadata": {
        "id": "wj9NGs-X2BEH"
      },
      "source": [
        "# LSA"
      ]
    },
    {
      "cell_type": "code",
      "metadata": {
        "colab": {
          "base_uri": "https://localhost:8080/"
        },
        "id": "O14U945IPbwD",
        "outputId": "41bed759-a497-4386-89dc-79c4498ab3c7"
      },
      "source": [
        "import os.path\n",
        "from gensim import corpora\n",
        "from gensim.models import LsiModel\n",
        "from nltk.tokenize import RegexpTokenizer\n",
        "from nltk.stem.porter import PorterStemmer\n",
        "from gensim.models.coherencemodel import CoherenceModel\n",
        "import matplotlib.pyplot as plt\n",
        "\n",
        "\n",
        "def load_data(path, file_name):\n",
        "    '''\n",
        "    Функция загрузки данных\n",
        "    '''\n",
        "    documents_list = []\n",
        "    titles = []\n",
        "    with open(os.path.join(path, file_name), \"r\") as fin:\n",
        "        for line in fin.readlines():\n",
        "            text = line.strip()\n",
        "            documents_list.append(text)\n",
        "    print(\"Total Number of Documents:\", len(documents_list))\n",
        "    titles.append(text[0:min(len(text), 100)])\n",
        "    return documents_list, titles\n",
        "\n",
        "\n",
        "def preprocess_data(doc_set):\n",
        "    '''\n",
        "    Функция предобработки текста\n",
        "    '''\n",
        "    # initialize regex tokenizer\n",
        "    tokenizer = RegexpTokenizer(r'\\w+')\n",
        "    # create English stop words list\n",
        "    # en_stop = set(stopwords.words('english'))\n",
        "    en_stop = set(stopwords)\n",
        "    # Create p_stemmer of class PorterStemmer\n",
        "    p_stemmer = PorterStemmer()\n",
        "    # list for tokenized documents in loop\n",
        "    texts = []\n",
        "    # loop through document list\n",
        "    for i in doc_set:\n",
        "        # clean and tokenize document string\n",
        "        raw = i.lower()\n",
        "        tokens = tokenizer.tokenize(raw)\n",
        "        # remove stop words from tokens\n",
        "        stopped_tokens = [i for i in tokens if not i in en_stop]\n",
        "        # stem tokens\n",
        "        stemmed_tokens = [p_stemmer.stem(i) for i in stopped_tokens]\n",
        "        # add tokens to list\n",
        "        texts.append(stemmed_tokens)\n",
        "    return texts\n",
        "\n",
        "\n",
        "def prepare_corpus(doc_clean):\n",
        "    '''\n",
        "    Функция создания корпуса текста\n",
        "    '''\n",
        "    # Creating the term dictionary of our courpus, where every unique term is assigned an index. dictionary = corpora.Dictionary(doc_clean)\n",
        "    dictionary = corpora.Dictionary(doc_clean)\n",
        "    # Converting list of documents (corpus) into Document Term Matrix using dictionary prepared above.\n",
        "    doc_term_matrix = [dictionary.doc2bow(doc) for doc in doc_clean]\n",
        "    # generate LDA model\n",
        "    return dictionary, doc_term_matrix\n",
        "\n",
        "\n",
        "def create_gensim_lsa_model(doc_clean, number_of_topics, words):\n",
        "    '''\n",
        "    Создание LSA модели\n",
        "    '''\n",
        "    dictionary, doc_term_matrix = prepare_corpus(doc_clean)\n",
        "    # generate LSA model\n",
        "    lsamodel = LsiModel(\n",
        "        doc_term_matrix, num_topics=number_of_topics, id2word=dictionary)  # train model\n",
        "    print(lsamodel.print_topics(num_topics=number_of_topics, num_words=words))\n",
        "    return lsamodel\n",
        "\n",
        "\n",
        "def compute_coherence_values(dictionary, doc_term_matrix, doc_clean, stop, start=2, step=3):\n",
        "    '''\n",
        "    Вычисление значения coherence_values\n",
        "    '''\n",
        "    coherence_values = []\n",
        "    model_list = []\n",
        "    for num_topics in range(start, stop, step):\n",
        "        # generate LSA model\n",
        "        model = LsiModel(doc_term_matrix, num_topics=number_of_topics,\n",
        "                         id2word=dictionary)  # train model\n",
        "        model_list.append(model)\n",
        "        coherencemodel = CoherenceModel(\n",
        "            model=model, texts=doc_clean, dictionary=dictionary, coherence='c_v')\n",
        "        coherence_values.append(coherencemodel.get_coherence())\n",
        "    return model_list, coherence_values\n",
        "\n",
        "\n",
        "def plot_graph(doc_clean, start, stop, step):\n",
        "    '''\n",
        "    Функция построения графика\n",
        "    '''\n",
        "    dictionary, doc_term_matrix = prepare_corpus(doc_clean)\n",
        "    model_list, coherence_values = compute_coherence_values(dictionary, doc_term_matrix, doc_clean,\n",
        "                                                            stop, start, step)\n",
        "    # Show graph\n",
        "    x = range(start, stop, step)\n",
        "    plt.plot(x, coherence_values)\n",
        "    plt.title('График coherence score')\n",
        "    plt.xlabel('Количество новостей')\n",
        "    plt.ylabel('Coherence score')\n",
        "    plt.legend(('coherence_values'), loc='best')\n",
        "    plt.show()\n",
        "\n",
        "\n",
        "number_of_topics = 10\n",
        "words = 5\n",
        "clean_text = preprocess_data(df.title.to_list())\n",
        "model = create_gensim_lsa_model(clean_text, number_of_topics, words)"
      ],
      "execution_count": null,
      "outputs": [
        {
          "output_type": "stream",
          "text": [
            "[(0, '0.691*\"банк\" + 0.401*\"ставки\" + 0.261*\"рублей\" + 0.252*\"вкладам\" + 0.209*\"млрд\"'), (1, '0.469*\"рублей\" + 0.367*\"млрд\" + -0.312*\"банк\" + 0.304*\"доллара\" + 0.295*\"курс\"'), (2, '-0.423*\"доллара\" + 0.401*\"рублей\" + -0.400*\"курс\" + 0.357*\"млрд\" + -0.289*\"евро\"'), (3, '0.500*\"цб\" + 0.413*\"торги\" + 0.386*\"рф\" + 0.271*\"фондовые\" + 0.238*\"россии\"'), (4, '-0.533*\"банк\" + 0.513*\"ставки\" + 0.412*\"цб\" + 0.356*\"вкладам\" + 0.175*\"рублях\"'), (5, '0.669*\"цб\" + -0.370*\"торги\" + -0.256*\"рф\" + -0.239*\"фондовые\" + -0.183*\"ставки\"'), (6, '0.417*\"евро\" + 0.315*\"итогам\" + 0.294*\"торгов\" + -0.258*\"30\" + -0.255*\"11\"'), (7, '0.782*\"россии\" + 0.233*\"году\" + 0.170*\"1\" + -0.160*\"цб\" + -0.148*\"рублей\"'), (8, '-0.357*\"евро\" + 0.356*\"нефть\" + 0.337*\"цены\" + 0.325*\"торгов\" + 0.317*\"мировые\"'), (9, '-0.743*\"банка\" + 0.267*\"рф\" + -0.239*\"россии\" + 0.237*\"млрд\" + -0.206*\"млн\"')]\n"
          ],
          "name": "stdout"
        }
      ]
    },
    {
      "cell_type": "code",
      "metadata": {
        "colab": {
          "base_uri": "https://localhost:8080/",
          "height": 279
        },
        "id": "SjYvlTEPQEOr",
        "outputId": "82bfd18b-d1ab-4444-f500-bb6c6f4e133c"
      },
      "source": [
        "start, stop, step = 2, 12, 1\n",
        "plot_graph(clean_text, start, stop, step)"
      ],
      "execution_count": null,
      "outputs": [
        {
          "output_type": "display_data",
          "data": {
            "image/png": "[encoded data removed]",
            "text/plain": [
              "<Figure size 432x288 with 1 Axes>"
            ]
          },
          "metadata": {
            "tags": [],
            "needs_background": "light"
          }
        }
      ]
    }
  ]
}