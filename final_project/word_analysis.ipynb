{
  "nbformat": 4,
  "nbformat_minor": 0,
  "metadata": {
    "colab": {
      "name": "word_analysis.ipynb",
      "provenance": [],
      "collapsed_sections": [],
      "toc_visible": true,
      "authorship_tag": "ABX9TyMZrLcGHiyA4FDyCPJRXzT0",
      "include_colab_link": true
    },
    "kernelspec": {
      "display_name": "Python 3",
      "name": "python3"
    }
  },
  "cells": [
    {
      "cell_type": "markdown",
      "metadata": {
        "id": "view-in-github",
        "colab_type": "text"
      },
      "source": [
        "<a href=\"https://colab.research.google.com/github/mukaseevru/ds-school/blob/main/final_project/word_analysis.ipynb\" target=\"_parent\"><img src=\"https://colab.research.google.com/assets/colab-badge.svg\" alt=\"Open In Colab\"/></a>"
      ]
    },
    {
      "cell_type": "markdown",
      "metadata": {
        "id": "b0qJWbPH-5FT"
      },
      "source": [
        "# Подключение библиотек"
      ]
    },
    {
      "cell_type": "code",
      "metadata": {
        "colab": {
          "base_uri": "https://localhost:8080/"
        },
        "id": "XHTG8RRRY-Y-",
        "outputId": "ec07b75c-b84d-4343-d0ca-efba589dde0b"
      },
      "source": [
        "import numpy as np\r\n",
        "import pandas as pd\r\n",
        "import nltk\r\n",
        "nltk.download('punkt')\r\n",
        "nltk.download('stopwords')\r\n",
        "import matplotlib.pyplot as plt\r\n",
        "import seaborn as sns\r\n",
        "import string\r\n",
        "import umap\r\n",
        "from sklearn.decomposition import TruncatedSVD\r\n",
        "from sklearn.feature_extraction.text import TfidfVectorizer\r\n",
        "pd.set_option(\"display.max_colwidth\", 200)"
      ],
      "execution_count": 1,
      "outputs": [
        {
          "output_type": "stream",
          "text": [
            "[nltk_data] Downloading package punkt to /root/nltk_data...\n",
            "[nltk_data]   Package punkt is already up-to-date!\n",
            "[nltk_data] Downloading package stopwords to /root/nltk_data...\n",
            "[nltk_data]   Package stopwords is already up-to-date!\n"
          ],
          "name": "stdout"
        }
      ]
    },
    {
      "cell_type": "markdown",
      "metadata": {
        "id": "RgFlG51xckoh"
      },
      "source": [
        "# Настройки"
      ]
    },
    {
      "cell_type": "code",
      "metadata": {
        "id": "XW5EbGDBfQx_"
      },
      "source": [
        "# Знаки пунктуации\r\n",
        "stoppunct = string.punctuation + '—' + '«' + '»'\r\n",
        "# stoppunct"
      ],
      "execution_count": 2,
      "outputs": []
    },
    {
      "cell_type": "code",
      "metadata": {
        "id": "dlO5nEB_yUje",
        "colab": {
          "base_uri": "https://localhost:8080/"
        },
        "outputId": "2044455a-bb44-4d7e-af59-41d6ec7317fa"
      },
      "source": [
        "stopwords = nltk.corpus.stopwords.words('russian')\r\n",
        "add_stopwords = (['эта', 'этим', 'этими', 'этих', 'этому', 'ко', 'который', 'которого',\r\n",
        "                  'которому', 'которым', 'котором', 'которая', 'которой',\r\n",
        "                  'которую', 'такого', 'такому', 'таким', 'таком', 'такая',\r\n",
        "                  'такую', 'которые', 'которых', 'которым', 'которыми', 'такие',\r\n",
        "                  'таких', 'таким', 'такими', 'всем', 'всеми', 'самого',\r\n",
        "                  'самому', 'самим', 'самом', 'сама', 'самой', 'саму', 'сами',\r\n",
        "                  'самих', 'самим', 'самими', 'кого', 'кому', 'кем', 'ком',\r\n",
        "                  'тому', 'та', 'той', 'ту', 'собой', 'моего', 'моему', 'моим',\r\n",
        "                  'моем', 'моей', 'мою', 'оба', 'обе', 'с'])\r\n",
        "stopwords.extend(add_stopwords)\r\n",
        "stopwords.extend(stoppunct)\r\n",
        "stopwords.append('')\r\n",
        "stopwords"
      ],
      "execution_count": 3,
      "outputs": [
        {
          "output_type": "execute_result",
          "data": {
            "text/plain": [
              "['и',\n",
              " 'в',\n",
              " 'во',\n",
              " 'не',\n",
              " 'что',\n",
              " 'он',\n",
              " 'на',\n",
              " 'я',\n",
              " 'с',\n",
              " 'со',\n",
              " 'как',\n",
              " 'а',\n",
              " 'то',\n",
              " 'все',\n",
              " 'она',\n",
              " 'так',\n",
              " 'его',\n",
              " 'но',\n",
              " 'да',\n",
              " 'ты',\n",
              " 'к',\n",
              " 'у',\n",
              " 'же',\n",
              " 'вы',\n",
              " 'за',\n",
              " 'бы',\n",
              " 'по',\n",
              " 'только',\n",
              " 'ее',\n",
              " 'мне',\n",
              " 'было',\n",
              " 'вот',\n",
              " 'от',\n",
              " 'меня',\n",
              " 'еще',\n",
              " 'нет',\n",
              " 'о',\n",
              " 'из',\n",
              " 'ему',\n",
              " 'теперь',\n",
              " 'когда',\n",
              " 'даже',\n",
              " 'ну',\n",
              " 'вдруг',\n",
              " 'ли',\n",
              " 'если',\n",
              " 'уже',\n",
              " 'или',\n",
              " 'ни',\n",
              " 'быть',\n",
              " 'был',\n",
              " 'него',\n",
              " 'до',\n",
              " 'вас',\n",
              " 'нибудь',\n",
              " 'опять',\n",
              " 'уж',\n",
              " 'вам',\n",
              " 'ведь',\n",
              " 'там',\n",
              " 'потом',\n",
              " 'себя',\n",
              " 'ничего',\n",
              " 'ей',\n",
              " 'может',\n",
              " 'они',\n",
              " 'тут',\n",
              " 'где',\n",
              " 'есть',\n",
              " 'надо',\n",
              " 'ней',\n",
              " 'для',\n",
              " 'мы',\n",
              " 'тебя',\n",
              " 'их',\n",
              " 'чем',\n",
              " 'была',\n",
              " 'сам',\n",
              " 'чтоб',\n",
              " 'без',\n",
              " 'будто',\n",
              " 'чего',\n",
              " 'раз',\n",
              " 'тоже',\n",
              " 'себе',\n",
              " 'под',\n",
              " 'будет',\n",
              " 'ж',\n",
              " 'тогда',\n",
              " 'кто',\n",
              " 'этот',\n",
              " 'того',\n",
              " 'потому',\n",
              " 'этого',\n",
              " 'какой',\n",
              " 'совсем',\n",
              " 'ним',\n",
              " 'здесь',\n",
              " 'этом',\n",
              " 'один',\n",
              " 'почти',\n",
              " 'мой',\n",
              " 'тем',\n",
              " 'чтобы',\n",
              " 'нее',\n",
              " 'сейчас',\n",
              " 'были',\n",
              " 'куда',\n",
              " 'зачем',\n",
              " 'всех',\n",
              " 'никогда',\n",
              " 'можно',\n",
              " 'при',\n",
              " 'наконец',\n",
              " 'два',\n",
              " 'об',\n",
              " 'другой',\n",
              " 'хоть',\n",
              " 'после',\n",
              " 'над',\n",
              " 'больше',\n",
              " 'тот',\n",
              " 'через',\n",
              " 'эти',\n",
              " 'нас',\n",
              " 'про',\n",
              " 'всего',\n",
              " 'них',\n",
              " 'какая',\n",
              " 'много',\n",
              " 'разве',\n",
              " 'три',\n",
              " 'эту',\n",
              " 'моя',\n",
              " 'впрочем',\n",
              " 'хорошо',\n",
              " 'свою',\n",
              " 'этой',\n",
              " 'перед',\n",
              " 'иногда',\n",
              " 'лучше',\n",
              " 'чуть',\n",
              " 'том',\n",
              " 'нельзя',\n",
              " 'такой',\n",
              " 'им',\n",
              " 'более',\n",
              " 'всегда',\n",
              " 'конечно',\n",
              " 'всю',\n",
              " 'между',\n",
              " 'эта',\n",
              " 'этим',\n",
              " 'этими',\n",
              " 'этих',\n",
              " 'этому',\n",
              " 'ко',\n",
              " 'который',\n",
              " 'которого',\n",
              " 'которому',\n",
              " 'которым',\n",
              " 'котором',\n",
              " 'которая',\n",
              " 'которой',\n",
              " 'которую',\n",
              " 'такого',\n",
              " 'такому',\n",
              " 'таким',\n",
              " 'таком',\n",
              " 'такая',\n",
              " 'такую',\n",
              " 'которые',\n",
              " 'которых',\n",
              " 'которым',\n",
              " 'которыми',\n",
              " 'такие',\n",
              " 'таких',\n",
              " 'таким',\n",
              " 'такими',\n",
              " 'всем',\n",
              " 'всеми',\n",
              " 'самого',\n",
              " 'самому',\n",
              " 'самим',\n",
              " 'самом',\n",
              " 'сама',\n",
              " 'самой',\n",
              " 'саму',\n",
              " 'сами',\n",
              " 'самих',\n",
              " 'самим',\n",
              " 'самими',\n",
              " 'кого',\n",
              " 'кому',\n",
              " 'кем',\n",
              " 'ком',\n",
              " 'тому',\n",
              " 'та',\n",
              " 'той',\n",
              " 'ту',\n",
              " 'собой',\n",
              " 'моего',\n",
              " 'моему',\n",
              " 'моим',\n",
              " 'моем',\n",
              " 'моей',\n",
              " 'мою',\n",
              " 'оба',\n",
              " 'обе',\n",
              " 'с',\n",
              " '!',\n",
              " '\"',\n",
              " '#',\n",
              " '$',\n",
              " '%',\n",
              " '&',\n",
              " \"'\",\n",
              " '(',\n",
              " ')',\n",
              " '*',\n",
              " '+',\n",
              " ',',\n",
              " '-',\n",
              " '.',\n",
              " '/',\n",
              " ':',\n",
              " ';',\n",
              " '<',\n",
              " '=',\n",
              " '>',\n",
              " '?',\n",
              " '@',\n",
              " '[',\n",
              " '\\\\',\n",
              " ']',\n",
              " '^',\n",
              " '_',\n",
              " '`',\n",
              " '{',\n",
              " '|',\n",
              " '}',\n",
              " '~',\n",
              " '—',\n",
              " '«',\n",
              " '»',\n",
              " '']"
            ]
          },
          "metadata": {
            "tags": []
          },
          "execution_count": 3
        }
      ]
    },
    {
      "cell_type": "code",
      "metadata": {
        "id": "2b7b9uQPpWIS"
      },
      "source": [
        "debug = True"
      ],
      "execution_count": 4,
      "outputs": []
    },
    {
      "cell_type": "markdown",
      "metadata": {
        "id": "Ka-s_DbppDQA"
      },
      "source": [
        "# Функции"
      ]
    },
    {
      "cell_type": "code",
      "metadata": {
        "id": "v0JP9ME5gm9B"
      },
      "source": [
        "def is_number(s):\r\n",
        "    '''\r\n",
        "    Проверка на число. Возвращает True, если в полученной строке число\r\n",
        "    '''\r\n",
        "    try:\r\n",
        "        float(s)\r\n",
        "        return True\r\n",
        "    except ValueError:\r\n",
        "        return False"
      ],
      "execution_count": 5,
      "outputs": []
    },
    {
      "cell_type": "code",
      "metadata": {
        "id": "wKmZb851aEMw"
      },
      "source": [
        "def short_words(text, stoppunct=stoppunct, stopwords=stopwords):\r\n",
        "    '''\r\n",
        "    Создание списка коротких слов\r\n",
        "    '''\r\n",
        "    if pd.isnull(text):\r\n",
        "        return np.nan\r\n",
        "    tokenizer = nltk.WordPunctTokenizer()\r\n",
        "    words = [word.lower().strip(stoppunct) for word in tokenizer.tokenize(text)\r\n",
        "             if word.lower().strip(stoppunct) not in stopwords]\r\n",
        "    # удалить цифры\r\n",
        "    words = [word for word in words if not (is_number(word))]\r\n",
        "    short_words = []\r\n",
        "    stemmer = nltk.stem.SnowballStemmer('russian')\r\n",
        "    for word in words:\r\n",
        "        short_words.append(stemmer.stem(word))\r\n",
        "    return short_words"
      ],
      "execution_count": 6,
      "outputs": []
    },
    {
      "cell_type": "code",
      "metadata": {
        "id": "bJep5ahHpFMp"
      },
      "source": [
        "def count_words(words, stoppunct=stoppunct, stopwords=stopwords):\r\n",
        "    '''\r\n",
        "    Создание словаря с количеством слов\r\n",
        "    '''\r\n",
        "    if type(words) == np.float:\r\n",
        "        return np.nan\r\n",
        "    words_dict = {}\r\n",
        "    for word in words:\r\n",
        "        if word not in words_dict:\r\n",
        "            words_dict[word] = 1\r\n",
        "        else:\r\n",
        "            words_dict[word] += 1\r\n",
        "    return words_dict"
      ],
      "execution_count": 7,
      "outputs": []
    },
    {
      "cell_type": "code",
      "metadata": {
        "id": "NU3VnPHlCLTE"
      },
      "source": [
        "def list_merge(lstlst, no_duplication=False):\r\n",
        "    '''\r\n",
        "    Объединение списков\r\n",
        "    no_duplication - убирает дубликаты в одной статье. Для подсчета количества статей\r\n",
        "    '''\r\n",
        "    if type(lstlst) == np.float:\r\n",
        "        return np.nan\r\n",
        "    all = []\r\n",
        "    for lst in lstlst:\r\n",
        "        if type(lst) == np.float:\r\n",
        "            continue\r\n",
        "        if no_duplication:\r\n",
        "            all.extend(set(lst))\r\n",
        "        else:\r\n",
        "            all.extend(lst)\r\n",
        "    return all"
      ],
      "execution_count": 8,
      "outputs": []
    },
    {
      "cell_type": "code",
      "metadata": {
        "id": "86ZdP0LpIhIv"
      },
      "source": [
        "union_dict = {}\r\n",
        "\r\n",
        "\r\n",
        "def sum_dicts(d1, d2=union_dict):\r\n",
        "    '''\r\n",
        "    Сложение словарей\r\n",
        "    '''\r\n",
        "    k = set(list(d1.keys()) + list(d2.keys()))\r\n",
        "    d = {}\r\n",
        "    for i in k:\r\n",
        "        v1 = d1.get(i)\r\n",
        "        v2 = d2.get(i)\r\n",
        "        if v1 == None:\r\n",
        "            v = v2\r\n",
        "        elif v2 == None:\r\n",
        "            v = v1\r\n",
        "        else:\r\n",
        "            v = v1 + v2\r\n",
        "        d[i] = v\r\n",
        "    d2.update(d)\r\n",
        "    # return d2"
      ],
      "execution_count": 9,
      "outputs": []
    },
    {
      "cell_type": "code",
      "metadata": {
        "colab": {
          "base_uri": "https://localhost:8080/"
        },
        "id": "pmdSpWhScqun",
        "outputId": "0f3c8f1d-e70d-422e-c8fd-2bd94f747fa8"
      },
      "source": [
        "from google.colab import drive\r\n",
        "drive.mount('/content/drive')"
      ],
      "execution_count": 10,
      "outputs": [
        {
          "output_type": "stream",
          "text": [
            "Drive already mounted at /content/drive; to attempt to forcibly remount, call drive.mount(\"/content/drive\", force_remount=True).\n"
          ],
          "name": "stdout"
        }
      ]
    },
    {
      "cell_type": "code",
      "metadata": {
        "colab": {
          "base_uri": "https://localhost:8080/",
          "height": 37
        },
        "id": "EpX_g-C_csxV",
        "outputId": "559dfea4-9729-4f50-b995-3a666f104947"
      },
      "source": [
        "import os\r\n",
        "os.getcwd()"
      ],
      "execution_count": 11,
      "outputs": [
        {
          "output_type": "execute_result",
          "data": {
            "application/vnd.google.colaboratory.intrinsic+json": {
              "type": "string"
            },
            "text/plain": [
              "'/content'"
            ]
          },
          "metadata": {
            "tags": []
          },
          "execution_count": 11
        }
      ]
    },
    {
      "cell_type": "code",
      "metadata": {
        "colab": {
          "base_uri": "https://localhost:8080/"
        },
        "id": "KtPsdkqFcyJl",
        "outputId": "271ddf88-6990-48c6-8264-dbd6d73e5ba0"
      },
      "source": [
        "df = pd.read_csv('drive/MyDrive/Colab Notebooks/sber/news/data/banki.csv',\r\n",
        "                 dtype={'id': np.str,\r\n",
        "                        'title': np.str,\r\n",
        "                        'text': np.str,\r\n",
        "                        'url': np.str,\r\n",
        "                        'time': np.str,\r\n",
        "                        'views': np.int64,\r\n",
        "                        'comments': np.int64,\r\n",
        "                        'source': np.str\r\n",
        "                        })\r\n",
        "df.time = pd.to_datetime(df.time, format='%Y-%m-%d %H:%M:%S')\r\n",
        "df.info()"
      ],
      "execution_count": 12,
      "outputs": [
        {
          "output_type": "stream",
          "text": [
            "<class 'pandas.core.frame.DataFrame'>\n",
            "RangeIndex: 113250 entries, 0 to 113249\n",
            "Data columns (total 8 columns):\n",
            " #   Column    Non-Null Count   Dtype         \n",
            "---  ------    --------------   -----         \n",
            " 0   id        113250 non-null  object        \n",
            " 1   title     113250 non-null  object        \n",
            " 2   text      113172 non-null  object        \n",
            " 3   url       113250 non-null  object        \n",
            " 4   time      113250 non-null  datetime64[ns]\n",
            " 5   views     113250 non-null  int64         \n",
            " 6   comments  113250 non-null  int64         \n",
            " 7   source    113211 non-null  object        \n",
            "dtypes: datetime64[ns](1), int64(2), object(5)\n",
            "memory usage: 6.9+ MB\n"
          ],
          "name": "stdout"
        }
      ]
    },
    {
      "cell_type": "code",
      "metadata": {
        "colab": {
          "base_uri": "https://localhost:8080/",
          "height": 731
        },
        "id": "JdhcSOpOfJng",
        "outputId": "37903494-5b4f-4ab9-9bc9-82104eb9eb24"
      },
      "source": [
        "df.head()"
      ],
      "execution_count": 13,
      "outputs": [
        {
          "output_type": "execute_result",
          "data": {
            "text/html": [
              "<div>\n",
              "<style scoped>\n",
              "    .dataframe tbody tr th:only-of-type {\n",
              "        vertical-align: middle;\n",
              "    }\n",
              "\n",
              "    .dataframe tbody tr th {\n",
              "        vertical-align: top;\n",
              "    }\n",
              "\n",
              "    .dataframe thead th {\n",
              "        text-align: right;\n",
              "    }\n",
              "</style>\n",
              "<table border=\"1\" class=\"dataframe\">\n",
              "  <thead>\n",
              "    <tr style=\"text-align: right;\">\n",
              "      <th></th>\n",
              "      <th>id</th>\n",
              "      <th>title</th>\n",
              "      <th>text</th>\n",
              "      <th>url</th>\n",
              "      <th>time</th>\n",
              "      <th>views</th>\n",
              "      <th>comments</th>\n",
              "      <th>source</th>\n",
              "    </tr>\n",
              "  </thead>\n",
              "  <tbody>\n",
              "    <tr>\n",
              "      <th>0</th>\n",
              "      <td>10940845</td>\n",
              "      <td>Эксперты рассказали, каким образом мошенникам удается звонить с номеров госорганов и банков</td>\n",
              "      <td>На сегодняшний день телекоммуникационные системы позволяют проводить подмену номеров, что дает злоумышленникам, обладающим определенными навыками и техническими средствами, возможность звонить яко...</td>\n",
              "      <td>https://www.banki.ru/news/lenta/?id=10940845</td>\n",
              "      <td>2021-02-02 09:09:00</td>\n",
              "      <td>4268</td>\n",
              "      <td>0</td>\n",
              "      <td>Известия</td>\n",
              "    </tr>\n",
              "    <tr>\n",
              "      <th>1</th>\n",
              "      <td>10940844</td>\n",
              "      <td>Почти половина работников в России заявили о падении мотивации</td>\n",
              "      <td>События 2020 года пагубно сказались на мотивации 49,4% сотрудников российских компаний, пишет РБК. Это выяснила в ходе опроса компания «Мегаплан». Почти 30% сотрудников и руководителей МСБ ответил...</td>\n",
              "      <td>https://www.banki.ru/news/lenta/?id=10940844</td>\n",
              "      <td>2021-02-02 08:58:00</td>\n",
              "      <td>2301</td>\n",
              "      <td>3</td>\n",
              "      <td>РБК</td>\n",
              "    </tr>\n",
              "    <tr>\n",
              "      <th>2</th>\n",
              "      <td>10940817</td>\n",
              "      <td>Банк « Уралсиб» сообщил о кадровых перестановках</td>\n",
              "      <td>Станислав Тывес, заместитель председателя правления ПАО «Банк Уралсиб», возглавит блок розничного бизнеса банка. Станислав пришел в банк в 2018 году на должность заместителя председателя правления...</td>\n",
              "      <td>https://www.banki.ru/news/lenta/?id=10940817</td>\n",
              "      <td>2021-02-02 08:54:00</td>\n",
              "      <td>3239</td>\n",
              "      <td>0</td>\n",
              "      <td>Партнёрский материал</td>\n",
              "    </tr>\n",
              "    <tr>\n",
              "      <th>3</th>\n",
              "      <td>10940847</td>\n",
              "      <td>Опрос: москвичи не хотят возвращаться в офисы</td>\n",
              "      <td>Более половины московских сотрудников, переведенных на дистанционную работу из-за пандемии коронавируса, хотели бы остаться на «удаленке» навсегда. Таковы результаты опроса сервиса SuperJob.По сос...</td>\n",
              "      <td>https://www.banki.ru/news/lenta/?id=10940847</td>\n",
              "      <td>2021-02-02 08:49:00</td>\n",
              "      <td>2234</td>\n",
              "      <td>4</td>\n",
              "      <td>Banki.ru</td>\n",
              "    </tr>\n",
              "    <tr>\n",
              "      <th>4</th>\n",
              "      <td>10940843</td>\n",
              "      <td>В России число преступлений с банковскими картами выросло в 5,5 раза</td>\n",
              "      <td>В России в 2020 году количество преступлений с использованием банковских карт достигло 190,2 тыс., что в пять с половиной раз больше показателей предыдущего года, пишут «Известия». Об этом сообщае...</td>\n",
              "      <td>https://www.banki.ru/news/lenta/?id=10940843</td>\n",
              "      <td>2021-02-02 08:48:00</td>\n",
              "      <td>2631</td>\n",
              "      <td>2</td>\n",
              "      <td>Известия</td>\n",
              "    </tr>\n",
              "  </tbody>\n",
              "</table>\n",
              "</div>"
            ],
            "text/plain": [
              "         id  ...                source\n",
              "0  10940845  ...              Известия\n",
              "1  10940844  ...                   РБК\n",
              "2  10940817  ...  Партнёрский материал\n",
              "3  10940847  ...              Banki.ru\n",
              "4  10940843  ...              Известия\n",
              "\n",
              "[5 rows x 8 columns]"
            ]
          },
          "metadata": {
            "tags": []
          },
          "execution_count": 13
        }
      ]
    },
    {
      "cell_type": "markdown",
      "metadata": {
        "id": "nYSUE8ZTvEqe"
      },
      "source": [
        "Создадим столбцы:\n",
        "1. Будут содержать список слов, из которых состоят заголовки и текст.\n",
        "2. Будут содержать список словарей со словами и количеством вхождений этих слов в заголовках и текстах."
      ]
    },
    {
      "cell_type": "code",
      "metadata": {
        "id": "nb9BuAyJ07Pt"
      },
      "source": [
        "df['title_words'] = df.title.apply(\r\n",
        "    lambda title: short_words(title, stoppunct, stopwords))\r\n",
        "df['text_words'] = df.text.apply(\r\n",
        "    lambda text: short_words(text, stoppunct, stopwords))\r\n",
        "df['count_title_words'] = df.title_words.apply(\r\n",
        "    lambda words: count_words(words, stoppunct, stopwords))\r\n",
        "df['count_text_words'] = df.text_words.apply(\r\n",
        "    lambda words: count_words(words, stoppunct, stopwords))"
      ],
      "execution_count": 14,
      "outputs": []
    },
    {
      "cell_type": "code",
      "metadata": {
        "colab": {
          "base_uri": "https://localhost:8080/",
          "height": 1000
        },
        "id": "j4ymkTYz1VB0",
        "outputId": "06cef8e8-9be4-4e09-f2be-4d9259ff184a"
      },
      "source": [
        "df.head()"
      ],
      "execution_count": 15,
      "outputs": [
        {
          "output_type": "execute_result",
          "data": {
            "text/html": [
              "<div>\n",
              "<style scoped>\n",
              "    .dataframe tbody tr th:only-of-type {\n",
              "        vertical-align: middle;\n",
              "    }\n",
              "\n",
              "    .dataframe tbody tr th {\n",
              "        vertical-align: top;\n",
              "    }\n",
              "\n",
              "    .dataframe thead th {\n",
              "        text-align: right;\n",
              "    }\n",
              "</style>\n",
              "<table border=\"1\" class=\"dataframe\">\n",
              "  <thead>\n",
              "    <tr style=\"text-align: right;\">\n",
              "      <th></th>\n",
              "      <th>id</th>\n",
              "      <th>title</th>\n",
              "      <th>text</th>\n",
              "      <th>url</th>\n",
              "      <th>time</th>\n",
              "      <th>views</th>\n",
              "      <th>comments</th>\n",
              "      <th>source</th>\n",
              "      <th>title_words</th>\n",
              "      <th>text_words</th>\n",
              "      <th>count_title_words</th>\n",
              "      <th>count_text_words</th>\n",
              "    </tr>\n",
              "  </thead>\n",
              "  <tbody>\n",
              "    <tr>\n",
              "      <th>0</th>\n",
              "      <td>10940845</td>\n",
              "      <td>Эксперты рассказали, каким образом мошенникам удается звонить с номеров госорганов и банков</td>\n",
              "      <td>На сегодняшний день телекоммуникационные системы позволяют проводить подмену номеров, что дает злоумышленникам, обладающим определенными навыками и техническими средствами, возможность звонить яко...</td>\n",
              "      <td>https://www.banki.ru/news/lenta/?id=10940845</td>\n",
              "      <td>2021-02-02 09:09:00</td>\n",
              "      <td>4268</td>\n",
              "      <td>0</td>\n",
              "      <td>Известия</td>\n",
              "      <td>[эксперт, рассказа, как, образ, мошенник, уда, звон, номер, госорган, банк]</td>\n",
              "      <td>[сегодняшн, ден, телекоммуникацион, систем, позволя, провод, подмен, номер, дает, злоумышленник, облада, определен, навык, техническ, средств, возможн, звон, якоб, номер, госорган, банк, пишут, из...</td>\n",
              "      <td>{'эксперт': 1, 'рассказа': 1, 'как': 1, 'образ': 1, 'мошенник': 1, 'уда': 1, 'звон': 1, 'номер': 1, 'госорган': 1, 'банк': 1}</td>\n",
              "      <td>{'сегодняшн': 1, 'ден': 1, 'телекоммуникацион': 1, 'систем': 2, 'позволя': 3, 'провод': 2, 'подмен': 2, 'номер': 11, 'дает': 1, 'злоумышленник': 2, 'облада': 1, 'определен': 1, 'навык': 2, 'технич...</td>\n",
              "    </tr>\n",
              "    <tr>\n",
              "      <th>1</th>\n",
              "      <td>10940844</td>\n",
              "      <td>Почти половина работников в России заявили о падении мотивации</td>\n",
              "      <td>События 2020 года пагубно сказались на мотивации 49,4% сотрудников российских компаний, пишет РБК. Это выяснила в ходе опроса компания «Мегаплан». Почти 30% сотрудников и руководителей МСБ ответил...</td>\n",
              "      <td>https://www.banki.ru/news/lenta/?id=10940844</td>\n",
              "      <td>2021-02-02 08:58:00</td>\n",
              "      <td>2301</td>\n",
              "      <td>3</td>\n",
              "      <td>РБК</td>\n",
              "      <td>[половин, работник, росс, заяв, паден, мотивац]</td>\n",
              "      <td>[событ, год, пагубн, сказа, мотивац, сотрудник, российск, компан, пишет, рбк, эт, выясн, ход, опрос, компан, мегапла, сотрудник, руководител, мсб, ответ, прошедш, год, никак, сказа, трудоспособн, ...</td>\n",
              "      <td>{'половин': 1, 'работник': 1, 'росс': 1, 'заяв': 1, 'паден': 1, 'мотивац': 1}</td>\n",
              "      <td>{'событ': 1, 'год': 3, 'пагубн': 1, 'сказа': 4, 'мотивац': 2, 'сотрудник': 5, 'российск': 1, 'компан': 5, 'пишет': 1, 'рбк': 1, 'эт': 2, 'выясн': 1, 'ход': 1, 'опрос': 1, 'мегапла': 2, 'руководите...</td>\n",
              "    </tr>\n",
              "    <tr>\n",
              "      <th>2</th>\n",
              "      <td>10940817</td>\n",
              "      <td>Банк « Уралсиб» сообщил о кадровых перестановках</td>\n",
              "      <td>Станислав Тывес, заместитель председателя правления ПАО «Банк Уралсиб», возглавит блок розничного бизнеса банка. Станислав пришел в банк в 2018 году на должность заместителя председателя правления...</td>\n",
              "      <td>https://www.banki.ru/news/lenta/?id=10940817</td>\n",
              "      <td>2021-02-02 08:54:00</td>\n",
              "      <td>3239</td>\n",
              "      <td>0</td>\n",
              "      <td>Партнёрский материал</td>\n",
              "      <td>[банк, уралсиб, сообщ, кадров, перестановк]</td>\n",
              "      <td>[станисла, тывес, заместител, председател, правлен, па, банк, уралсиб, возглав, блок, розничн, бизнес, банк, станисла, пришел, банк, год, должност, заместител, председател, правлен, руководител, с...</td>\n",
              "      <td>{'банк': 1, 'уралсиб': 1, 'сообщ': 1, 'кадров': 1, 'перестановк': 1}</td>\n",
              "      <td>{'станисла': 3, 'тывес': 1, 'заместител': 2, 'председател': 2, 'правлен': 2, 'па': 1, 'банк': 6, 'уралсиб': 1, 'возглав': 2, 'блок': 2, 'розничн': 4, 'бизнес': 6, 'пришел': 1, 'год': 7, 'должност'...</td>\n",
              "    </tr>\n",
              "    <tr>\n",
              "      <th>3</th>\n",
              "      <td>10940847</td>\n",
              "      <td>Опрос: москвичи не хотят возвращаться в офисы</td>\n",
              "      <td>Более половины московских сотрудников, переведенных на дистанционную работу из-за пандемии коронавируса, хотели бы остаться на «удаленке» навсегда. Таковы результаты опроса сервиса SuperJob.По сос...</td>\n",
              "      <td>https://www.banki.ru/news/lenta/?id=10940847</td>\n",
              "      <td>2021-02-02 08:49:00</td>\n",
              "      <td>2234</td>\n",
              "      <td>4</td>\n",
              "      <td>Banki.ru</td>\n",
              "      <td>[опрос, москвич, хот, возвраща, офис]</td>\n",
              "      <td>[половин, московск, сотрудник, переведен, дистанцион, работ, пандем, коронавирус, хотел, оста, удаленк, навсегд, таков, результат, опрос, сервис, superjob, состоян, конец, январ, кажд, трет, столи...</td>\n",
              "      <td>{'опрос': 1, 'москвич': 1, 'хот': 1, 'возвраща': 1, 'офис': 1}</td>\n",
              "      <td>{'половин': 1, 'московск': 1, 'сотрудник': 3, 'переведен': 2, 'дистанцион': 5, 'работ': 3, 'пандем': 2, 'коронавирус': 1, 'хотел': 1, 'оста': 2, 'удаленк': 5, 'навсегд': 2, 'таков': 1, 'результат'...</td>\n",
              "    </tr>\n",
              "    <tr>\n",
              "      <th>4</th>\n",
              "      <td>10940843</td>\n",
              "      <td>В России число преступлений с банковскими картами выросло в 5,5 раза</td>\n",
              "      <td>В России в 2020 году количество преступлений с использованием банковских карт достигло 190,2 тыс., что в пять с половиной раз больше показателей предыдущего года, пишут «Известия». Об этом сообщае...</td>\n",
              "      <td>https://www.banki.ru/news/lenta/?id=10940843</td>\n",
              "      <td>2021-02-02 08:48:00</td>\n",
              "      <td>2631</td>\n",
              "      <td>2</td>\n",
              "      <td>Известия</td>\n",
              "      <td>[росс, числ, преступлен, банковск, карт, выросл, раз]</td>\n",
              "      <td>[росс, год, количеств, преступлен, использован, банковск, карт, достигл, тыс, пят, половин, показател, предыдущ, год, пишут, извест, сообща, дан, мвд, цел, год, количеств, преступлен, област, инфо...</td>\n",
              "      <td>{'росс': 1, 'числ': 1, 'преступлен': 1, 'банковск': 1, 'карт': 1, 'выросл': 1, 'раз': 1}</td>\n",
              "      <td>{'росс': 1, 'год': 8, 'количеств': 4, 'преступлен': 8, 'использован': 2, 'банковск': 2, 'карт': 2, 'достигл': 2, 'тыс': 5, 'пят': 1, 'половин': 1, 'показател': 1, 'предыдущ': 2, 'пишут': 1, 'извес...</td>\n",
              "    </tr>\n",
              "  </tbody>\n",
              "</table>\n",
              "</div>"
            ],
            "text/plain": [
              "         id  ...                                                                                                                                                                                         count_text_words\n",
              "0  10940845  ...  {'сегодняшн': 1, 'ден': 1, 'телекоммуникацион': 1, 'систем': 2, 'позволя': 3, 'провод': 2, 'подмен': 2, 'номер': 11, 'дает': 1, 'злоумышленник': 2, 'облада': 1, 'определен': 1, 'навык': 2, 'технич...\n",
              "1  10940844  ...  {'событ': 1, 'год': 3, 'пагубн': 1, 'сказа': 4, 'мотивац': 2, 'сотрудник': 5, 'российск': 1, 'компан': 5, 'пишет': 1, 'рбк': 1, 'эт': 2, 'выясн': 1, 'ход': 1, 'опрос': 1, 'мегапла': 2, 'руководите...\n",
              "2  10940817  ...  {'станисла': 3, 'тывес': 1, 'заместител': 2, 'председател': 2, 'правлен': 2, 'па': 1, 'банк': 6, 'уралсиб': 1, 'возглав': 2, 'блок': 2, 'розничн': 4, 'бизнес': 6, 'пришел': 1, 'год': 7, 'должност'...\n",
              "3  10940847  ...  {'половин': 1, 'московск': 1, 'сотрудник': 3, 'переведен': 2, 'дистанцион': 5, 'работ': 3, 'пандем': 2, 'коронавирус': 1, 'хотел': 1, 'оста': 2, 'удаленк': 5, 'навсегд': 2, 'таков': 1, 'результат'...\n",
              "4  10940843  ...  {'росс': 1, 'год': 8, 'количеств': 4, 'преступлен': 8, 'использован': 2, 'банковск': 2, 'карт': 2, 'достигл': 2, 'тыс': 5, 'пят': 1, 'половин': 1, 'показател': 1, 'предыдущ': 2, 'пишут': 1, 'извес...\n",
              "\n",
              "[5 rows x 12 columns]"
            ]
          },
          "metadata": {
            "tags": []
          },
          "execution_count": 15
        }
      ]
    },
    {
      "cell_type": "code",
      "metadata": {
        "colab": {
          "base_uri": "https://localhost:8080/"
        },
        "id": "hxay78OvcAKH",
        "outputId": "36b20bdf-bc3a-4526-ee3a-63b6990bd718"
      },
      "source": [
        "df.info()"
      ],
      "execution_count": 16,
      "outputs": [
        {
          "output_type": "stream",
          "text": [
            "<class 'pandas.core.frame.DataFrame'>\n",
            "RangeIndex: 113250 entries, 0 to 113249\n",
            "Data columns (total 12 columns):\n",
            " #   Column             Non-Null Count   Dtype         \n",
            "---  ------             --------------   -----         \n",
            " 0   id                 113250 non-null  object        \n",
            " 1   title              113250 non-null  object        \n",
            " 2   text               113172 non-null  object        \n",
            " 3   url                113250 non-null  object        \n",
            " 4   time               113250 non-null  datetime64[ns]\n",
            " 5   views              113250 non-null  int64         \n",
            " 6   comments           113250 non-null  int64         \n",
            " 7   source             113211 non-null  object        \n",
            " 8   title_words        113250 non-null  object        \n",
            " 9   text_words         113172 non-null  object        \n",
            " 10  count_title_words  113250 non-null  object        \n",
            " 11  count_text_words   113172 non-null  object        \n",
            "dtypes: datetime64[ns](1), int64(2), object(9)\n",
            "memory usage: 10.4+ MB\n"
          ],
          "name": "stdout"
        }
      ]
    },
    {
      "cell_type": "code",
      "metadata": {
        "id": "xk75dQaPuvNF"
      },
      "source": [
        "df.to_csv(\n",
        "    'drive/MyDrive/Colab Notebooks/sber/news/data/news_withwords.csv', index=False)"
      ],
      "execution_count": 17,
      "outputs": []
    },
    {
      "cell_type": "markdown",
      "metadata": {
        "id": "TDRwHHcBevdj"
      },
      "source": [
        "# Аналитика по дням"
      ]
    },
    {
      "cell_type": "markdown",
      "metadata": {
        "id": "nRa_dABN5Ifx"
      },
      "source": [
        "## Titles"
      ]
    },
    {
      "cell_type": "markdown",
      "metadata": {
        "id": "zWWRRpO4vocE"
      },
      "source": [
        "Сделаем аналитику по заголовкам"
      ]
    },
    {
      "cell_type": "code",
      "metadata": {
        "id": "xEUMJSn6TZkf",
        "colab": {
          "base_uri": "https://localhost:8080/",
          "height": 1000
        },
        "outputId": "f5d31af4-76f5-41d6-c8c3-99e2aadf96ef"
      },
      "source": [
        "# Слова\r\n",
        "titles = {}\r\n",
        "for i in range(1, df.time.dt.dayofyear.max()+1):\r\n",
        "    titles[i] = pd.Series(count_words(list_merge(df[(df.time.dt.dayofyear == i) &\r\n",
        "                                                    (df.time.dt.isocalendar().year == 2020)].title_words)))\r\n",
        "titles_daily = pd.concat(titles, axis=1)\r\n",
        "columns = titles_daily.columns\r\n",
        "titles_daily['sum_yearly'] = titles_daily[columns].sum(axis=1)\r\n",
        "titles_daily['mean_yearly'] = titles_daily[columns].mean(axis=1)\r\n",
        "titles_daily['median_yearly'] = titles_daily[columns].median(axis=1)\r\n",
        "titles_daily[['sum_yearly', 'mean_yearly', 'median_yearly']].head(10)\r\n",
        "\r\n",
        "# Новости\r\n",
        "titles = {}\r\n",
        "for i in range(1, df.time.dt.dayofyear.max()+1):\r\n",
        "    titles[i] = pd.Series(count_words(list_merge(df[(df.time.dt.dayofyear == i) &\r\n",
        "                                                    (df.time.dt.isocalendar().year == 2020)].title_words, no_duplication=True)))\r\n",
        "titles_daily_n = pd.concat(titles, axis=1)\r\n",
        "columns = titles_daily_n.columns\r\n",
        "titles_daily_n['sum_yearly'] = titles_daily_n[columns].sum(axis=1)\r\n",
        "titles_daily_n['mean_yearly'] = titles_daily_n[columns].mean(axis=1)\r\n",
        "titles_daily_n['median_yearly'] = titles_daily_n[columns].median(axis=1)\r\n",
        "titles_daily_n[['sum_yearly', 'mean_yearly', 'median_yearly']].head(10)"
      ],
      "execution_count": 18,
      "outputs": [
        {
          "output_type": "stream",
          "text": [
            "/usr/local/lib/python3.6/dist-packages/ipykernel_launcher.py:5: DeprecationWarning: The default dtype for empty Series will be 'object' instead of 'float64' in a future version. Specify a dtype explicitly to silence this warning.\n",
            "  \"\"\"\n",
            "/usr/local/lib/python3.6/dist-packages/ipykernel_launcher.py:5: DeprecationWarning: The default dtype for empty Series will be 'object' instead of 'float64' in a future version. Specify a dtype explicitly to silence this warning.\n",
            "  \"\"\"\n",
            "/usr/local/lib/python3.6/dist-packages/ipykernel_launcher.py:5: DeprecationWarning: The default dtype for empty Series will be 'object' instead of 'float64' in a future version. Specify a dtype explicitly to silence this warning.\n",
            "  \"\"\"\n",
            "/usr/local/lib/python3.6/dist-packages/ipykernel_launcher.py:5: DeprecationWarning: The default dtype for empty Series will be 'object' instead of 'float64' in a future version. Specify a dtype explicitly to silence this warning.\n",
            "  \"\"\"\n",
            "/usr/local/lib/python3.6/dist-packages/ipykernel_launcher.py:5: DeprecationWarning: The default dtype for empty Series will be 'object' instead of 'float64' in a future version. Specify a dtype explicitly to silence this warning.\n",
            "  \"\"\"\n",
            "/usr/local/lib/python3.6/dist-packages/ipykernel_launcher.py:5: DeprecationWarning: The default dtype for empty Series will be 'object' instead of 'float64' in a future version. Specify a dtype explicitly to silence this warning.\n",
            "  \"\"\"\n",
            "/usr/local/lib/python3.6/dist-packages/ipykernel_launcher.py:5: DeprecationWarning: The default dtype for empty Series will be 'object' instead of 'float64' in a future version. Specify a dtype explicitly to silence this warning.\n",
            "  \"\"\"\n",
            "/usr/local/lib/python3.6/dist-packages/ipykernel_launcher.py:5: DeprecationWarning: The default dtype for empty Series will be 'object' instead of 'float64' in a future version. Specify a dtype explicitly to silence this warning.\n",
            "  \"\"\"\n",
            "/usr/local/lib/python3.6/dist-packages/ipykernel_launcher.py:5: DeprecationWarning: The default dtype for empty Series will be 'object' instead of 'float64' in a future version. Specify a dtype explicitly to silence this warning.\n",
            "  \"\"\"\n",
            "/usr/local/lib/python3.6/dist-packages/ipykernel_launcher.py:5: DeprecationWarning: The default dtype for empty Series will be 'object' instead of 'float64' in a future version. Specify a dtype explicitly to silence this warning.\n",
            "  \"\"\"\n",
            "/usr/local/lib/python3.6/dist-packages/ipykernel_launcher.py:5: DeprecationWarning: The default dtype for empty Series will be 'object' instead of 'float64' in a future version. Specify a dtype explicitly to silence this warning.\n",
            "  \"\"\"\n",
            "/usr/local/lib/python3.6/dist-packages/ipykernel_launcher.py:5: DeprecationWarning: The default dtype for empty Series will be 'object' instead of 'float64' in a future version. Specify a dtype explicitly to silence this warning.\n",
            "  \"\"\"\n",
            "/usr/local/lib/python3.6/dist-packages/ipykernel_launcher.py:5: DeprecationWarning: The default dtype for empty Series will be 'object' instead of 'float64' in a future version. Specify a dtype explicitly to silence this warning.\n",
            "  \"\"\"\n",
            "/usr/local/lib/python3.6/dist-packages/ipykernel_launcher.py:5: DeprecationWarning: The default dtype for empty Series will be 'object' instead of 'float64' in a future version. Specify a dtype explicitly to silence this warning.\n",
            "  \"\"\"\n",
            "/usr/local/lib/python3.6/dist-packages/ipykernel_launcher.py:5: DeprecationWarning: The default dtype for empty Series will be 'object' instead of 'float64' in a future version. Specify a dtype explicitly to silence this warning.\n",
            "  \"\"\"\n",
            "/usr/local/lib/python3.6/dist-packages/ipykernel_launcher.py:17: DeprecationWarning: The default dtype for empty Series will be 'object' instead of 'float64' in a future version. Specify a dtype explicitly to silence this warning.\n",
            "/usr/local/lib/python3.6/dist-packages/ipykernel_launcher.py:17: DeprecationWarning: The default dtype for empty Series will be 'object' instead of 'float64' in a future version. Specify a dtype explicitly to silence this warning.\n",
            "/usr/local/lib/python3.6/dist-packages/ipykernel_launcher.py:17: DeprecationWarning: The default dtype for empty Series will be 'object' instead of 'float64' in a future version. Specify a dtype explicitly to silence this warning.\n",
            "/usr/local/lib/python3.6/dist-packages/ipykernel_launcher.py:17: DeprecationWarning: The default dtype for empty Series will be 'object' instead of 'float64' in a future version. Specify a dtype explicitly to silence this warning.\n",
            "/usr/local/lib/python3.6/dist-packages/ipykernel_launcher.py:17: DeprecationWarning: The default dtype for empty Series will be 'object' instead of 'float64' in a future version. Specify a dtype explicitly to silence this warning.\n",
            "/usr/local/lib/python3.6/dist-packages/ipykernel_launcher.py:17: DeprecationWarning: The default dtype for empty Series will be 'object' instead of 'float64' in a future version. Specify a dtype explicitly to silence this warning.\n",
            "/usr/local/lib/python3.6/dist-packages/ipykernel_launcher.py:17: DeprecationWarning: The default dtype for empty Series will be 'object' instead of 'float64' in a future version. Specify a dtype explicitly to silence this warning.\n",
            "/usr/local/lib/python3.6/dist-packages/ipykernel_launcher.py:17: DeprecationWarning: The default dtype for empty Series will be 'object' instead of 'float64' in a future version. Specify a dtype explicitly to silence this warning.\n",
            "/usr/local/lib/python3.6/dist-packages/ipykernel_launcher.py:17: DeprecationWarning: The default dtype for empty Series will be 'object' instead of 'float64' in a future version. Specify a dtype explicitly to silence this warning.\n",
            "/usr/local/lib/python3.6/dist-packages/ipykernel_launcher.py:17: DeprecationWarning: The default dtype for empty Series will be 'object' instead of 'float64' in a future version. Specify a dtype explicitly to silence this warning.\n",
            "/usr/local/lib/python3.6/dist-packages/ipykernel_launcher.py:17: DeprecationWarning: The default dtype for empty Series will be 'object' instead of 'float64' in a future version. Specify a dtype explicitly to silence this warning.\n",
            "/usr/local/lib/python3.6/dist-packages/ipykernel_launcher.py:17: DeprecationWarning: The default dtype for empty Series will be 'object' instead of 'float64' in a future version. Specify a dtype explicitly to silence this warning.\n",
            "/usr/local/lib/python3.6/dist-packages/ipykernel_launcher.py:17: DeprecationWarning: The default dtype for empty Series will be 'object' instead of 'float64' in a future version. Specify a dtype explicitly to silence this warning.\n",
            "/usr/local/lib/python3.6/dist-packages/ipykernel_launcher.py:17: DeprecationWarning: The default dtype for empty Series will be 'object' instead of 'float64' in a future version. Specify a dtype explicitly to silence this warning.\n",
            "/usr/local/lib/python3.6/dist-packages/ipykernel_launcher.py:17: DeprecationWarning: The default dtype for empty Series will be 'object' instead of 'float64' in a future version. Specify a dtype explicitly to silence this warning.\n"
          ],
          "name": "stderr"
        },
        {
          "output_type": "execute_result",
          "data": {
            "text/html": [
              "<div>\n",
              "<style scoped>\n",
              "    .dataframe tbody tr th:only-of-type {\n",
              "        vertical-align: middle;\n",
              "    }\n",
              "\n",
              "    .dataframe tbody tr th {\n",
              "        vertical-align: top;\n",
              "    }\n",
              "\n",
              "    .dataframe thead th {\n",
              "        text-align: right;\n",
              "    }\n",
              "</style>\n",
              "<table border=\"1\" class=\"dataframe\">\n",
              "  <thead>\n",
              "    <tr style=\"text-align: right;\">\n",
              "      <th></th>\n",
              "      <th>sum_yearly</th>\n",
              "      <th>mean_yearly</th>\n",
              "      <th>median_yearly</th>\n",
              "    </tr>\n",
              "  </thead>\n",
              "  <tbody>\n",
              "    <tr>\n",
              "      <th>исследован</th>\n",
              "      <td>212.0</td>\n",
              "      <td>1.394737</td>\n",
              "      <td>1.0</td>\n",
              "    </tr>\n",
              "    <tr>\n",
              "      <th>закредитова</th>\n",
              "      <td>3.0</td>\n",
              "      <td>1.000000</td>\n",
              "      <td>1.0</td>\n",
              "    </tr>\n",
              "    <tr>\n",
              "      <th>явля</th>\n",
              "      <td>8.0</td>\n",
              "      <td>1.000000</td>\n",
              "      <td>1.0</td>\n",
              "    </tr>\n",
              "    <tr>\n",
              "      <th>лет</th>\n",
              "      <td>171.0</td>\n",
              "      <td>1.346457</td>\n",
              "      <td>1.0</td>\n",
              "    </tr>\n",
              "    <tr>\n",
              "      <th>россиян</th>\n",
              "      <td>249.0</td>\n",
              "      <td>1.596154</td>\n",
              "      <td>1.0</td>\n",
              "    </tr>\n",
              "    <tr>\n",
              "      <th>сам</th>\n",
              "      <td>92.0</td>\n",
              "      <td>1.260274</td>\n",
              "      <td>1.0</td>\n",
              "    </tr>\n",
              "    <tr>\n",
              "      <th>заемщик</th>\n",
              "      <td>100.0</td>\n",
              "      <td>1.204819</td>\n",
              "      <td>1.0</td>\n",
              "    </tr>\n",
              "    <tr>\n",
              "      <th>валютн</th>\n",
              "      <td>359.0</td>\n",
              "      <td>1.534188</td>\n",
              "      <td>1.0</td>\n",
              "    </tr>\n",
              "    <tr>\n",
              "      <th>заверш</th>\n",
              "      <td>321.0</td>\n",
              "      <td>1.793296</td>\n",
              "      <td>2.0</td>\n",
              "    </tr>\n",
              "    <tr>\n",
              "      <th>укреплен</th>\n",
              "      <td>64.0</td>\n",
              "      <td>1.084746</td>\n",
              "      <td>1.0</td>\n",
              "    </tr>\n",
              "  </tbody>\n",
              "</table>\n",
              "</div>"
            ],
            "text/plain": [
              "             sum_yearly  mean_yearly  median_yearly\n",
              "исследован        212.0     1.394737            1.0\n",
              "закредитова         3.0     1.000000            1.0\n",
              "явля                8.0     1.000000            1.0\n",
              "лет               171.0     1.346457            1.0\n",
              "россиян           249.0     1.596154            1.0\n",
              "сам                92.0     1.260274            1.0\n",
              "заемщик           100.0     1.204819            1.0\n",
              "валютн            359.0     1.534188            1.0\n",
              "заверш            321.0     1.793296            2.0\n",
              "укреплен           64.0     1.084746            1.0"
            ]
          },
          "metadata": {
            "tags": []
          },
          "execution_count": 18
        }
      ]
    },
    {
      "cell_type": "code",
      "metadata": {
        "id": "mq_jjhQ2is0c"
      },
      "source": [
        "titles_daily.sort_index(inplace=True)\r\n",
        "titles_daily_n.sort_index(inplace=True)"
      ],
      "execution_count": 19,
      "outputs": []
    },
    {
      "cell_type": "code",
      "metadata": {
        "id": "2gRxN8WzedCn"
      },
      "source": [
        "titles_daily.to_csv(\r\n",
        "    'drive/MyDrive/Colab Notebooks/sber/news/data/titles_daily.csv')\r\n",
        "titles_daily_n.to_csv(\r\n",
        "    'drive/MyDrive/Colab Notebooks/sber/news/data/titles_daily_n.csv')"
      ],
      "execution_count": 20,
      "outputs": []
    },
    {
      "cell_type": "markdown",
      "metadata": {
        "id": "dxdTcV5T5MnJ"
      },
      "source": [
        "## Texts"
      ]
    },
    {
      "cell_type": "markdown",
      "metadata": {
        "id": "VmqBLe1Nvu0B"
      },
      "source": [
        "Сделаем аналитику по текстам"
      ]
    },
    {
      "cell_type": "code",
      "metadata": {
        "id": "IfE4qyKLe1wN",
        "colab": {
          "base_uri": "https://localhost:8080/",
          "height": 1000
        },
        "outputId": "1844a310-a216-4ed2-85af-e8edbc149454"
      },
      "source": [
        "# Слова\r\n",
        "texts = {}\r\n",
        "for i in range(1, df.time.dt.dayofyear.max()+1):\r\n",
        "    texts[i] = pd.Series(count_words(list_merge(df[(df.time.dt.dayofyear == i) &\r\n",
        "                                                   (df.time.dt.isocalendar().year == 2020)].text_words)))\r\n",
        "texts_daily = pd.concat(texts, axis=1)\r\n",
        "columns = texts_daily.columns\r\n",
        "texts_daily['sum'] = texts_daily[columns].sum(axis=1)\r\n",
        "texts_daily['mean'] = texts_daily[columns].mean(axis=1)\r\n",
        "texts_daily['median'] = texts_daily[columns].median(axis=1)\r\n",
        "texts_daily[['sum', 'mean', 'median']].head(10)\r\n",
        "\r\n",
        "# Новости\r\n",
        "texts = {}\r\n",
        "for i in range(1, df.time.dt.dayofyear.max()+1):\r\n",
        "    texts[i] = pd.Series(count_words(list_merge(df[(df.time.dt.dayofyear == i) &\r\n",
        "                                                   (df.time.dt.isocalendar().year == 2020)].text_words, no_duplication=True)))\r\n",
        "texts_daily_n = pd.concat(texts, axis=1)\r\n",
        "columns = texts_daily_n.columns\r\n",
        "texts_daily_n['sum'] = texts_daily_n[columns].sum(axis=1)\r\n",
        "texts_daily_n['mean'] = texts_daily_n[columns].mean(axis=1)\r\n",
        "texts_daily_n['median'] = texts_daily_n[columns].median(axis=1)\r\n",
        "texts_daily_n[['sum', 'mean', 'median']].head(10)"
      ],
      "execution_count": 21,
      "outputs": [
        {
          "output_type": "stream",
          "text": [
            "/usr/local/lib/python3.6/dist-packages/ipykernel_launcher.py:5: DeprecationWarning: The default dtype for empty Series will be 'object' instead of 'float64' in a future version. Specify a dtype explicitly to silence this warning.\n",
            "  \"\"\"\n",
            "/usr/local/lib/python3.6/dist-packages/ipykernel_launcher.py:5: DeprecationWarning: The default dtype for empty Series will be 'object' instead of 'float64' in a future version. Specify a dtype explicitly to silence this warning.\n",
            "  \"\"\"\n",
            "/usr/local/lib/python3.6/dist-packages/ipykernel_launcher.py:5: DeprecationWarning: The default dtype for empty Series will be 'object' instead of 'float64' in a future version. Specify a dtype explicitly to silence this warning.\n",
            "  \"\"\"\n",
            "/usr/local/lib/python3.6/dist-packages/ipykernel_launcher.py:5: DeprecationWarning: The default dtype for empty Series will be 'object' instead of 'float64' in a future version. Specify a dtype explicitly to silence this warning.\n",
            "  \"\"\"\n",
            "/usr/local/lib/python3.6/dist-packages/ipykernel_launcher.py:5: DeprecationWarning: The default dtype for empty Series will be 'object' instead of 'float64' in a future version. Specify a dtype explicitly to silence this warning.\n",
            "  \"\"\"\n",
            "/usr/local/lib/python3.6/dist-packages/ipykernel_launcher.py:5: DeprecationWarning: The default dtype for empty Series will be 'object' instead of 'float64' in a future version. Specify a dtype explicitly to silence this warning.\n",
            "  \"\"\"\n",
            "/usr/local/lib/python3.6/dist-packages/ipykernel_launcher.py:5: DeprecationWarning: The default dtype for empty Series will be 'object' instead of 'float64' in a future version. Specify a dtype explicitly to silence this warning.\n",
            "  \"\"\"\n",
            "/usr/local/lib/python3.6/dist-packages/ipykernel_launcher.py:5: DeprecationWarning: The default dtype for empty Series will be 'object' instead of 'float64' in a future version. Specify a dtype explicitly to silence this warning.\n",
            "  \"\"\"\n",
            "/usr/local/lib/python3.6/dist-packages/ipykernel_launcher.py:5: DeprecationWarning: The default dtype for empty Series will be 'object' instead of 'float64' in a future version. Specify a dtype explicitly to silence this warning.\n",
            "  \"\"\"\n",
            "/usr/local/lib/python3.6/dist-packages/ipykernel_launcher.py:5: DeprecationWarning: The default dtype for empty Series will be 'object' instead of 'float64' in a future version. Specify a dtype explicitly to silence this warning.\n",
            "  \"\"\"\n",
            "/usr/local/lib/python3.6/dist-packages/ipykernel_launcher.py:5: DeprecationWarning: The default dtype for empty Series will be 'object' instead of 'float64' in a future version. Specify a dtype explicitly to silence this warning.\n",
            "  \"\"\"\n",
            "/usr/local/lib/python3.6/dist-packages/ipykernel_launcher.py:5: DeprecationWarning: The default dtype for empty Series will be 'object' instead of 'float64' in a future version. Specify a dtype explicitly to silence this warning.\n",
            "  \"\"\"\n",
            "/usr/local/lib/python3.6/dist-packages/ipykernel_launcher.py:5: DeprecationWarning: The default dtype for empty Series will be 'object' instead of 'float64' in a future version. Specify a dtype explicitly to silence this warning.\n",
            "  \"\"\"\n",
            "/usr/local/lib/python3.6/dist-packages/ipykernel_launcher.py:5: DeprecationWarning: The default dtype for empty Series will be 'object' instead of 'float64' in a future version. Specify a dtype explicitly to silence this warning.\n",
            "  \"\"\"\n",
            "/usr/local/lib/python3.6/dist-packages/ipykernel_launcher.py:5: DeprecationWarning: The default dtype for empty Series will be 'object' instead of 'float64' in a future version. Specify a dtype explicitly to silence this warning.\n",
            "  \"\"\"\n",
            "/usr/local/lib/python3.6/dist-packages/ipykernel_launcher.py:17: DeprecationWarning: The default dtype for empty Series will be 'object' instead of 'float64' in a future version. Specify a dtype explicitly to silence this warning.\n",
            "/usr/local/lib/python3.6/dist-packages/ipykernel_launcher.py:17: DeprecationWarning: The default dtype for empty Series will be 'object' instead of 'float64' in a future version. Specify a dtype explicitly to silence this warning.\n",
            "/usr/local/lib/python3.6/dist-packages/ipykernel_launcher.py:17: DeprecationWarning: The default dtype for empty Series will be 'object' instead of 'float64' in a future version. Specify a dtype explicitly to silence this warning.\n",
            "/usr/local/lib/python3.6/dist-packages/ipykernel_launcher.py:17: DeprecationWarning: The default dtype for empty Series will be 'object' instead of 'float64' in a future version. Specify a dtype explicitly to silence this warning.\n",
            "/usr/local/lib/python3.6/dist-packages/ipykernel_launcher.py:17: DeprecationWarning: The default dtype for empty Series will be 'object' instead of 'float64' in a future version. Specify a dtype explicitly to silence this warning.\n",
            "/usr/local/lib/python3.6/dist-packages/ipykernel_launcher.py:17: DeprecationWarning: The default dtype for empty Series will be 'object' instead of 'float64' in a future version. Specify a dtype explicitly to silence this warning.\n",
            "/usr/local/lib/python3.6/dist-packages/ipykernel_launcher.py:17: DeprecationWarning: The default dtype for empty Series will be 'object' instead of 'float64' in a future version. Specify a dtype explicitly to silence this warning.\n",
            "/usr/local/lib/python3.6/dist-packages/ipykernel_launcher.py:17: DeprecationWarning: The default dtype for empty Series will be 'object' instead of 'float64' in a future version. Specify a dtype explicitly to silence this warning.\n",
            "/usr/local/lib/python3.6/dist-packages/ipykernel_launcher.py:17: DeprecationWarning: The default dtype for empty Series will be 'object' instead of 'float64' in a future version. Specify a dtype explicitly to silence this warning.\n",
            "/usr/local/lib/python3.6/dist-packages/ipykernel_launcher.py:17: DeprecationWarning: The default dtype for empty Series will be 'object' instead of 'float64' in a future version. Specify a dtype explicitly to silence this warning.\n",
            "/usr/local/lib/python3.6/dist-packages/ipykernel_launcher.py:17: DeprecationWarning: The default dtype for empty Series will be 'object' instead of 'float64' in a future version. Specify a dtype explicitly to silence this warning.\n",
            "/usr/local/lib/python3.6/dist-packages/ipykernel_launcher.py:17: DeprecationWarning: The default dtype for empty Series will be 'object' instead of 'float64' in a future version. Specify a dtype explicitly to silence this warning.\n",
            "/usr/local/lib/python3.6/dist-packages/ipykernel_launcher.py:17: DeprecationWarning: The default dtype for empty Series will be 'object' instead of 'float64' in a future version. Specify a dtype explicitly to silence this warning.\n",
            "/usr/local/lib/python3.6/dist-packages/ipykernel_launcher.py:17: DeprecationWarning: The default dtype for empty Series will be 'object' instead of 'float64' in a future version. Specify a dtype explicitly to silence this warning.\n",
            "/usr/local/lib/python3.6/dist-packages/ipykernel_launcher.py:17: DeprecationWarning: The default dtype for empty Series will be 'object' instead of 'float64' in a future version. Specify a dtype explicitly to silence this warning.\n"
          ],
          "name": "stderr"
        },
        {
          "output_type": "execute_result",
          "data": {
            "text/html": [
              "<div>\n",
              "<style scoped>\n",
              "    .dataframe tbody tr th:only-of-type {\n",
              "        vertical-align: middle;\n",
              "    }\n",
              "\n",
              "    .dataframe tbody tr th {\n",
              "        vertical-align: top;\n",
              "    }\n",
              "\n",
              "    .dataframe thead th {\n",
              "        text-align: right;\n",
              "    }\n",
              "</style>\n",
              "<table border=\"1\" class=\"dataframe\">\n",
              "  <thead>\n",
              "    <tr style=\"text-align: right;\">\n",
              "      <th></th>\n",
              "      <th>sum</th>\n",
              "      <th>mean</th>\n",
              "      <th>median</th>\n",
              "    </tr>\n",
              "  </thead>\n",
              "  <tbody>\n",
              "    <tr>\n",
              "      <th>год</th>\n",
              "      <td>10409.0</td>\n",
              "      <td>29.997118</td>\n",
              "      <td>36.0</td>\n",
              "    </tr>\n",
              "    <tr>\n",
              "      <th>возрастн</th>\n",
              "      <td>62.0</td>\n",
              "      <td>1.148148</td>\n",
              "      <td>1.0</td>\n",
              "    </tr>\n",
              "    <tr>\n",
              "      <th>абсолютн</th>\n",
              "      <td>324.0</td>\n",
              "      <td>1.732620</td>\n",
              "      <td>1.0</td>\n",
              "    </tr>\n",
              "    <tr>\n",
              "      <th>заемщик</th>\n",
              "      <td>1146.0</td>\n",
              "      <td>3.720779</td>\n",
              "      <td>3.0</td>\n",
              "    </tr>\n",
              "    <tr>\n",
              "      <th>нараст</th>\n",
              "      <td>133.0</td>\n",
              "      <td>1.316832</td>\n",
              "      <td>1.0</td>\n",
              "    </tr>\n",
              "    <tr>\n",
              "      <th>обраща</th>\n",
              "      <td>521.0</td>\n",
              "      <td>2.207627</td>\n",
              "      <td>2.0</td>\n",
              "    </tr>\n",
              "    <tr>\n",
              "      <th>повышен</th>\n",
              "      <td>1776.0</td>\n",
              "      <td>5.550000</td>\n",
              "      <td>5.0</td>\n",
              "    </tr>\n",
              "    <tr>\n",
              "      <th>нужн</th>\n",
              "      <td>1456.0</td>\n",
              "      <td>4.507740</td>\n",
              "      <td>4.0</td>\n",
              "    </tr>\n",
              "    <tr>\n",
              "      <th>ипотек</th>\n",
              "      <td>997.0</td>\n",
              "      <td>3.426117</td>\n",
              "      <td>3.0</td>\n",
              "    </tr>\n",
              "    <tr>\n",
              "      <th>связа</th>\n",
              "      <td>1979.0</td>\n",
              "      <td>6.552980</td>\n",
              "      <td>6.0</td>\n",
              "    </tr>\n",
              "  </tbody>\n",
              "</table>\n",
              "</div>"
            ],
            "text/plain": [
              "              sum       mean  median\n",
              "год       10409.0  29.997118    36.0\n",
              "возрастн     62.0   1.148148     1.0\n",
              "абсолютн    324.0   1.732620     1.0\n",
              "заемщик    1146.0   3.720779     3.0\n",
              "нараст      133.0   1.316832     1.0\n",
              "обраща      521.0   2.207627     2.0\n",
              "повышен    1776.0   5.550000     5.0\n",
              "нужн       1456.0   4.507740     4.0\n",
              "ипотек      997.0   3.426117     3.0\n",
              "связа      1979.0   6.552980     6.0"
            ]
          },
          "metadata": {
            "tags": []
          },
          "execution_count": 21
        }
      ]
    },
    {
      "cell_type": "code",
      "metadata": {
        "id": "4A8Rn2aJl9iR"
      },
      "source": [
        "texts_daily.sort_index(inplace=True)\r\n",
        "texts_daily_n.sort_index(inplace=True)"
      ],
      "execution_count": 22,
      "outputs": []
    },
    {
      "cell_type": "code",
      "metadata": {
        "id": "2QHOyOzXhn_I"
      },
      "source": [
        "texts_daily.to_csv(\r\n",
        "    'drive/MyDrive/Colab Notebooks/sber/news/data/texts_daily.csv')\r\n",
        "texts_daily_n.to_csv(\r\n",
        "    'drive/MyDrive/Colab Notebooks/sber/news/data/texts_daily_n.csv')"
      ],
      "execution_count": 23,
      "outputs": []
    },
    {
      "cell_type": "markdown",
      "metadata": {
        "id": "k2AEU_cz5ULR"
      },
      "source": [
        "# Аналитика по неделям"
      ]
    },
    {
      "cell_type": "markdown",
      "metadata": {
        "id": "yw-EqEsr5nGn"
      },
      "source": [
        "## Titles"
      ]
    },
    {
      "cell_type": "markdown",
      "metadata": {
        "id": "TRhn2-Pc6sHu"
      },
      "source": [
        "### Fullweek"
      ]
    },
    {
      "cell_type": "markdown",
      "metadata": {
        "id": "H4wxgELWvzbt"
      },
      "source": [
        "Аналитика по заголовкам. Объединяем по полным неделям."
      ]
    },
    {
      "cell_type": "code",
      "metadata": {
        "id": "eOtpmT325hzZ",
        "colab": {
          "base_uri": "https://localhost:8080/",
          "height": 359
        },
        "outputId": "f30eeb44-b0c5-4bd2-d814-96ea94d532dd"
      },
      "source": [
        "# Слова\r\n",
        "titles = {}\r\n",
        "for i in range(1, df.time.dt.isocalendar().week.max()+1):\r\n",
        "    titles[i] = pd.Series(count_words(list_merge(df[(df.time.dt.isocalendar().week == i) &\r\n",
        "                                                    (df.time.dt.isocalendar().year == 2020)].title_words)))\r\n",
        "titles_weekly = pd.concat(titles, axis=1)\r\n",
        "columns = titles_weekly.columns\r\n",
        "titles_weekly['sum_weekly'] = titles_weekly[columns].sum(axis=1)\r\n",
        "titles_weekly['mean_weekly'] = titles_weekly[columns].mean(axis=1)\r\n",
        "titles_weekly['median_weekly'] = titles_weekly[columns].median(axis=1)\r\n",
        "titles_weekly[['sum_weekly', 'mean_weekly', 'median_weekly']].head(10)\r\n",
        "\r\n",
        "# Новости\r\n",
        "titles = {}\r\n",
        "for i in range(1, df.time.dt.isocalendar().week.max()+1):\r\n",
        "    titles[i] = pd.Series(count_words(list_merge(df[(df.time.dt.isocalendar().week == i) &\r\n",
        "                                                    (df.time.dt.isocalendar().year == 2020)].title_words, no_duplication=True)))\r\n",
        "titles_weekly_n = pd.concat(titles, axis=1)\r\n",
        "columns = titles_weekly_n.columns\r\n",
        "titles_weekly_n['sum_weekly'] = titles_weekly_n[columns].sum(axis=1)\r\n",
        "titles_weekly_n['mean_weekly'] = titles_weekly_n[columns].mean(axis=1)\r\n",
        "titles_weekly_n['median_weekly'] = titles_weekly_n[columns].median(axis=1)\r\n",
        "titles_weekly_n[['sum_weekly', 'mean_weekly', 'median_weekly']].head(10)"
      ],
      "execution_count": 24,
      "outputs": [
        {
          "output_type": "execute_result",
          "data": {
            "text/html": [
              "<div>\n",
              "<style scoped>\n",
              "    .dataframe tbody tr th:only-of-type {\n",
              "        vertical-align: middle;\n",
              "    }\n",
              "\n",
              "    .dataframe tbody tr th {\n",
              "        vertical-align: top;\n",
              "    }\n",
              "\n",
              "    .dataframe thead th {\n",
              "        text-align: right;\n",
              "    }\n",
              "</style>\n",
              "<table border=\"1\" class=\"dataframe\">\n",
              "  <thead>\n",
              "    <tr style=\"text-align: right;\">\n",
              "      <th></th>\n",
              "      <th>sum_weekly</th>\n",
              "      <th>mean_weekly</th>\n",
              "      <th>median_weekly</th>\n",
              "    </tr>\n",
              "  </thead>\n",
              "  <tbody>\n",
              "    <tr>\n",
              "      <th>стандарт</th>\n",
              "      <td>69.0</td>\n",
              "      <td>1.971429</td>\n",
              "      <td>2.0</td>\n",
              "    </tr>\n",
              "    <tr>\n",
              "      <th>держател</th>\n",
              "      <td>40.0</td>\n",
              "      <td>1.428571</td>\n",
              "      <td>1.0</td>\n",
              "    </tr>\n",
              "    <tr>\n",
              "      <th>кешбэк</th>\n",
              "      <td>85.0</td>\n",
              "      <td>2.073171</td>\n",
              "      <td>1.0</td>\n",
              "    </tr>\n",
              "    <tr>\n",
              "      <th>предлож</th>\n",
              "      <td>464.0</td>\n",
              "      <td>8.754717</td>\n",
              "      <td>8.0</td>\n",
              "    </tr>\n",
              "    <tr>\n",
              "      <th>повышен</th>\n",
              "      <td>145.0</td>\n",
              "      <td>2.959184</td>\n",
              "      <td>2.0</td>\n",
              "    </tr>\n",
              "    <tr>\n",
              "      <th>русск</th>\n",
              "      <td>59.0</td>\n",
              "      <td>1.735294</td>\n",
              "      <td>1.5</td>\n",
              "    </tr>\n",
              "    <tr>\n",
              "      <th>карт</th>\n",
              "      <td>488.0</td>\n",
              "      <td>9.207547</td>\n",
              "      <td>9.0</td>\n",
              "    </tr>\n",
              "    <tr>\n",
              "      <th>банк</th>\n",
              "      <td>3075.0</td>\n",
              "      <td>58.018868</td>\n",
              "      <td>58.0</td>\n",
              "    </tr>\n",
              "    <tr>\n",
              "      <th>нов</th>\n",
              "      <td>683.0</td>\n",
              "      <td>12.886792</td>\n",
              "      <td>13.0</td>\n",
              "    </tr>\n",
              "    <tr>\n",
              "      <th>категор</th>\n",
              "      <td>24.0</td>\n",
              "      <td>1.263158</td>\n",
              "      <td>1.0</td>\n",
              "    </tr>\n",
              "  </tbody>\n",
              "</table>\n",
              "</div>"
            ],
            "text/plain": [
              "          sum_weekly  mean_weekly  median_weekly\n",
              "стандарт        69.0     1.971429            2.0\n",
              "держател        40.0     1.428571            1.0\n",
              "кешбэк          85.0     2.073171            1.0\n",
              "предлож        464.0     8.754717            8.0\n",
              "повышен        145.0     2.959184            2.0\n",
              "русск           59.0     1.735294            1.5\n",
              "карт           488.0     9.207547            9.0\n",
              "банк          3075.0    58.018868           58.0\n",
              "нов            683.0    12.886792           13.0\n",
              "категор         24.0     1.263158            1.0"
            ]
          },
          "metadata": {
            "tags": []
          },
          "execution_count": 24
        }
      ]
    },
    {
      "cell_type": "markdown",
      "metadata": {
        "id": "z3M1PkVh7Dx_"
      },
      "source": [
        "### Workdays"
      ]
    },
    {
      "cell_type": "markdown",
      "metadata": {
        "id": "_stHuPSOv9tc"
      },
      "source": [
        " Аналитика по заголовкам. Объединяем по рабочим дням недели."
      ]
    },
    {
      "cell_type": "code",
      "metadata": {
        "id": "59bHN8vj7GmK",
        "colab": {
          "base_uri": "https://localhost:8080/",
          "height": 359
        },
        "outputId": "51e47d80-f1fd-4202-ee99-07c252fafeeb"
      },
      "source": [
        "# Слова\r\n",
        "titles = {}\r\n",
        "for i in range(1, df.time.dt.isocalendar().week.max()+1):\r\n",
        "    titles[i] = pd.Series(count_words(list_merge(df[(df.time.dt.isocalendar().week == i) &\r\n",
        "                                                    (df.time.dt.isocalendar().day >= 1) &\r\n",
        "                                                    (df.time.dt.isocalendar().day <= 5) &\r\n",
        "                                                    (df.time.dt.isocalendar().year == 2020)].title_words)))\r\n",
        "titles_weekly_workdays = pd.concat(titles, axis=1)\r\n",
        "columns = titles_weekly_workdays.columns\r\n",
        "titles_weekly_workdays['sum_weekly_workdays'] = titles_weekly_workdays[columns].sum(\r\n",
        "    axis=1)\r\n",
        "titles_weekly_workdays['mean_weekly_workdays'] = titles_weekly_workdays[columns].mean(\r\n",
        "    axis=1)\r\n",
        "titles_weekly_workdays['median_weekly_workdays'] = titles_weekly_workdays[columns].median(\r\n",
        "    axis=1)\r\n",
        "titles_weekly_workdays[['sum_weekly_workdays',\r\n",
        "                        'mean_weekly_workdays', 'median_weekly_workdays']].head(10)\r\n",
        "\r\n",
        "# Новости\r\n",
        "titles = {}\r\n",
        "for i in range(1, df.time.dt.isocalendar().week.max()+1):\r\n",
        "    titles[i] = pd.Series(count_words(list_merge(df[(df.time.dt.isocalendar().week == i) &\r\n",
        "                                                    (df.time.dt.isocalendar().day >= 1) &\r\n",
        "                                                    (df.time.dt.isocalendar().day <= 5) &\r\n",
        "                                                    (df.time.dt.isocalendar().year == 2020)].title_words, no_duplication=True)))\r\n",
        "titles_weekly_workdays_n = pd.concat(titles, axis=1)\r\n",
        "columns = titles_weekly_workdays_n.columns\r\n",
        "titles_weekly_workdays_n['sum_weekly_workdays'] = titles_weekly_workdays_n[columns].sum(\r\n",
        "    axis=1)\r\n",
        "titles_weekly_workdays_n['mean_weekly_workdays'] = titles_weekly_workdays_n[columns].mean(\r\n",
        "    axis=1)\r\n",
        "titles_weekly_workdays_n['median_weekly_workdays'] = titles_weekly_workdays_n[columns].median(\r\n",
        "    axis=1)\r\n",
        "titles_weekly_workdays_n[['sum_weekly_workdays',\r\n",
        "                          'mean_weekly_workdays', 'median_weekly_workdays']].head(10)"
      ],
      "execution_count": 25,
      "outputs": [
        {
          "output_type": "execute_result",
          "data": {
            "text/html": [
              "<div>\n",
              "<style scoped>\n",
              "    .dataframe tbody tr th:only-of-type {\n",
              "        vertical-align: middle;\n",
              "    }\n",
              "\n",
              "    .dataframe tbody tr th {\n",
              "        vertical-align: top;\n",
              "    }\n",
              "\n",
              "    .dataframe thead th {\n",
              "        text-align: right;\n",
              "    }\n",
              "</style>\n",
              "<table border=\"1\" class=\"dataframe\">\n",
              "  <thead>\n",
              "    <tr style=\"text-align: right;\">\n",
              "      <th></th>\n",
              "      <th>sum_weekly_workdays</th>\n",
              "      <th>mean_weekly_workdays</th>\n",
              "      <th>median_weekly_workdays</th>\n",
              "    </tr>\n",
              "  </thead>\n",
              "  <tbody>\n",
              "    <tr>\n",
              "      <th>стандарт</th>\n",
              "      <td>61.0</td>\n",
              "      <td>1.848485</td>\n",
              "      <td>2.0</td>\n",
              "    </tr>\n",
              "    <tr>\n",
              "      <th>держател</th>\n",
              "      <td>31.0</td>\n",
              "      <td>1.240000</td>\n",
              "      <td>1.0</td>\n",
              "    </tr>\n",
              "    <tr>\n",
              "      <th>кешбэк</th>\n",
              "      <td>70.0</td>\n",
              "      <td>1.944444</td>\n",
              "      <td>1.5</td>\n",
              "    </tr>\n",
              "    <tr>\n",
              "      <th>предлож</th>\n",
              "      <td>453.0</td>\n",
              "      <td>8.547170</td>\n",
              "      <td>8.0</td>\n",
              "    </tr>\n",
              "    <tr>\n",
              "      <th>повышен</th>\n",
              "      <td>138.0</td>\n",
              "      <td>2.816327</td>\n",
              "      <td>2.0</td>\n",
              "    </tr>\n",
              "    <tr>\n",
              "      <th>русск</th>\n",
              "      <td>52.0</td>\n",
              "      <td>1.625000</td>\n",
              "      <td>1.0</td>\n",
              "    </tr>\n",
              "    <tr>\n",
              "      <th>карт</th>\n",
              "      <td>386.0</td>\n",
              "      <td>7.283019</td>\n",
              "      <td>7.0</td>\n",
              "    </tr>\n",
              "    <tr>\n",
              "      <th>банк</th>\n",
              "      <td>2817.0</td>\n",
              "      <td>53.150943</td>\n",
              "      <td>52.0</td>\n",
              "    </tr>\n",
              "    <tr>\n",
              "      <th>нов</th>\n",
              "      <td>624.0</td>\n",
              "      <td>11.773585</td>\n",
              "      <td>12.0</td>\n",
              "    </tr>\n",
              "    <tr>\n",
              "      <th>категор</th>\n",
              "      <td>21.0</td>\n",
              "      <td>1.235294</td>\n",
              "      <td>1.0</td>\n",
              "    </tr>\n",
              "  </tbody>\n",
              "</table>\n",
              "</div>"
            ],
            "text/plain": [
              "          sum_weekly_workdays  mean_weekly_workdays  median_weekly_workdays\n",
              "стандарт                 61.0              1.848485                     2.0\n",
              "держател                 31.0              1.240000                     1.0\n",
              "кешбэк                   70.0              1.944444                     1.5\n",
              "предлож                 453.0              8.547170                     8.0\n",
              "повышен                 138.0              2.816327                     2.0\n",
              "русск                    52.0              1.625000                     1.0\n",
              "карт                    386.0              7.283019                     7.0\n",
              "банк                   2817.0             53.150943                    52.0\n",
              "нов                     624.0             11.773585                    12.0\n",
              "категор                  21.0              1.235294                     1.0"
            ]
          },
          "metadata": {
            "tags": []
          },
          "execution_count": 25
        }
      ]
    },
    {
      "cell_type": "markdown",
      "metadata": {
        "id": "v7TRPO3U8l0z"
      },
      "source": [
        "### Weekend"
      ]
    },
    {
      "cell_type": "markdown",
      "metadata": {
        "id": "bvM6S6ZEwCOK"
      },
      "source": [
        "Аналитика по заголовкам. Объединяем по выходным дням недели."
      ]
    },
    {
      "cell_type": "code",
      "metadata": {
        "id": "9lKGGu3L764z",
        "colab": {
          "base_uri": "https://localhost:8080/",
          "height": 481
        },
        "outputId": "e5c7aadb-e0f1-44a1-87d5-20b6132e68f0"
      },
      "source": [
        "# Слова\r\n",
        "titles = {}\r\n",
        "for i in range(1, df.time.dt.isocalendar().week.max()+1):\r\n",
        "    titles[i] = pd.Series(count_words(list_merge(df[(df.time.dt.isocalendar().week == i) &\r\n",
        "                                                    (df.time.dt.isocalendar().day >= 6) &\r\n",
        "                                                    (df.time.dt.isocalendar().day <= 7) &\r\n",
        "                                                    (df.time.dt.isocalendar().year == 2020)].title_words)))\r\n",
        "titles_weekly_weekend = pd.concat(titles, axis=1)\r\n",
        "columns = titles_weekly_weekend.columns\r\n",
        "titles_weekly_weekend['sum_weekly_weekend'] = titles_weekly_weekend[columns].sum(\r\n",
        "    axis=1)\r\n",
        "titles_weekly_weekend['mean_weekly_weekend'] = titles_weekly_weekend[columns].mean(\r\n",
        "    axis=1)\r\n",
        "titles_weekly_weekend['median_weekly_weekend'] = titles_weekly_weekend[columns].median(\r\n",
        "    axis=1)\r\n",
        "titles_weekly_weekend[['sum_weekly_weekend',\r\n",
        "                       'mean_weekly_weekend', 'median_weekly_weekend']].head(10)\r\n",
        "\r\n",
        "# Новости\r\n",
        "titles = {}\r\n",
        "for i in range(1, df.time.dt.isocalendar().week.max()+1):\r\n",
        "    titles[i] = pd.Series(count_words(list_merge(df[(df.time.dt.isocalendar().week == i) &\r\n",
        "                                                    (df.time.dt.isocalendar().day >= 6) &\r\n",
        "                                                    (df.time.dt.isocalendar().day <= 7) &\r\n",
        "                                                    (df.time.dt.isocalendar().year == 2020)].title_words, no_duplication=True)))\r\n",
        "titles_weekly_weekend_n = pd.concat(titles, axis=1)\r\n",
        "columns = titles_weekly_weekend_n.columns\r\n",
        "titles_weekly_weekend_n['sum_weekly_weekend'] = titles_weekly_weekend_n[columns].sum(\r\n",
        "    axis=1)\r\n",
        "titles_weekly_weekend_n['mean_weekly_weekend'] = titles_weekly_weekend_n[columns].mean(\r\n",
        "    axis=1)\r\n",
        "titles_weekly_weekend_n['median_weekly_weekend'] = titles_weekly_weekend_n[columns].median(\r\n",
        "    axis=1)\r\n",
        "titles_weekly_weekend_n[['sum_weekly_weekend',\r\n",
        "                         'mean_weekly_weekend', 'median_weekly_weekend']].head(10)"
      ],
      "execution_count": 26,
      "outputs": [
        {
          "output_type": "stream",
          "text": [
            "/usr/local/lib/python3.6/dist-packages/ipykernel_launcher.py:7: DeprecationWarning: The default dtype for empty Series will be 'object' instead of 'float64' in a future version. Specify a dtype explicitly to silence this warning.\n",
            "  import sys\n",
            "/usr/local/lib/python3.6/dist-packages/ipykernel_launcher.py:7: DeprecationWarning: The default dtype for empty Series will be 'object' instead of 'float64' in a future version. Specify a dtype explicitly to silence this warning.\n",
            "  import sys\n",
            "/usr/local/lib/python3.6/dist-packages/ipykernel_launcher.py:25: DeprecationWarning: The default dtype for empty Series will be 'object' instead of 'float64' in a future version. Specify a dtype explicitly to silence this warning.\n",
            "/usr/local/lib/python3.6/dist-packages/ipykernel_launcher.py:25: DeprecationWarning: The default dtype for empty Series will be 'object' instead of 'float64' in a future version. Specify a dtype explicitly to silence this warning.\n"
          ],
          "name": "stderr"
        },
        {
          "output_type": "execute_result",
          "data": {
            "text/html": [
              "<div>\n",
              "<style scoped>\n",
              "    .dataframe tbody tr th:only-of-type {\n",
              "        vertical-align: middle;\n",
              "    }\n",
              "\n",
              "    .dataframe tbody tr th {\n",
              "        vertical-align: top;\n",
              "    }\n",
              "\n",
              "    .dataframe thead th {\n",
              "        text-align: right;\n",
              "    }\n",
              "</style>\n",
              "<table border=\"1\" class=\"dataframe\">\n",
              "  <thead>\n",
              "    <tr style=\"text-align: right;\">\n",
              "      <th></th>\n",
              "      <th>sum_weekly_weekend</th>\n",
              "      <th>mean_weekly_weekend</th>\n",
              "      <th>median_weekly_weekend</th>\n",
              "    </tr>\n",
              "  </thead>\n",
              "  <tbody>\n",
              "    <tr>\n",
              "      <th>сниз</th>\n",
              "      <td>36.0</td>\n",
              "      <td>1.333333</td>\n",
              "      <td>1.0</td>\n",
              "    </tr>\n",
              "    <tr>\n",
              "      <th>торг</th>\n",
              "      <td>36.0</td>\n",
              "      <td>1.000000</td>\n",
              "      <td>1.0</td>\n",
              "    </tr>\n",
              "    <tr>\n",
              "      <th>нефт</th>\n",
              "      <td>53.0</td>\n",
              "      <td>1.358974</td>\n",
              "      <td>1.0</td>\n",
              "    </tr>\n",
              "    <tr>\n",
              "      <th>цен</th>\n",
              "      <td>51.0</td>\n",
              "      <td>1.275000</td>\n",
              "      <td>1.0</td>\n",
              "    </tr>\n",
              "    <tr>\n",
              "      <th>пятниц</th>\n",
              "      <td>38.0</td>\n",
              "      <td>1.000000</td>\n",
              "      <td>1.0</td>\n",
              "    </tr>\n",
              "    <tr>\n",
              "      <th>итог</th>\n",
              "      <td>36.0</td>\n",
              "      <td>1.028571</td>\n",
              "      <td>1.0</td>\n",
              "    </tr>\n",
              "    <tr>\n",
              "      <th>миров</th>\n",
              "      <td>46.0</td>\n",
              "      <td>1.179487</td>\n",
              "      <td>1.0</td>\n",
              "    </tr>\n",
              "    <tr>\n",
              "      <th>инвестор</th>\n",
              "      <td>8.0</td>\n",
              "      <td>1.142857</td>\n",
              "      <td>1.0</td>\n",
              "    </tr>\n",
              "    <tr>\n",
              "      <th>дивиденд</th>\n",
              "      <td>3.0</td>\n",
              "      <td>1.000000</td>\n",
              "      <td>1.0</td>\n",
              "    </tr>\n",
              "    <tr>\n",
              "      <th>долг</th>\n",
              "      <td>11.0</td>\n",
              "      <td>1.222222</td>\n",
              "      <td>1.0</td>\n",
              "    </tr>\n",
              "  </tbody>\n",
              "</table>\n",
              "</div>"
            ],
            "text/plain": [
              "          sum_weekly_weekend  mean_weekly_weekend  median_weekly_weekend\n",
              "сниз                    36.0             1.333333                    1.0\n",
              "торг                    36.0             1.000000                    1.0\n",
              "нефт                    53.0             1.358974                    1.0\n",
              "цен                     51.0             1.275000                    1.0\n",
              "пятниц                  38.0             1.000000                    1.0\n",
              "итог                    36.0             1.028571                    1.0\n",
              "миров                   46.0             1.179487                    1.0\n",
              "инвестор                 8.0             1.142857                    1.0\n",
              "дивиденд                 3.0             1.000000                    1.0\n",
              "долг                    11.0             1.222222                    1.0"
            ]
          },
          "metadata": {
            "tags": []
          },
          "execution_count": 26
        }
      ]
    },
    {
      "cell_type": "code",
      "metadata": {
        "id": "tzvftJ6eAx_F"
      },
      "source": [
        "titles_words = pd.concat([titles_daily, titles_weekly,\r\n",
        "                          titles_weekly_weekend, titles_weekly_workdays], axis=1).fillna(0)\r\n",
        "titles_words_n = pd.concat([titles_daily_n, titles_weekly_n,\r\n",
        "                            titles_weekly_weekend_n, titles_weekly_workdays_n], axis=1).fillna(0)"
      ],
      "execution_count": 27,
      "outputs": []
    },
    {
      "cell_type": "code",
      "metadata": {
        "id": "_RomVrotAzV7"
      },
      "source": [
        "titles_words.to_csv(\r\n",
        "    'drive/MyDrive/Colab Notebooks/sber/news/data/titles_words.csv')\r\n",
        "titles_words_n.to_csv(\r\n",
        "    'drive/MyDrive/Colab Notebooks/sber/news/data/titles_words_n.csv')"
      ],
      "execution_count": 28,
      "outputs": []
    },
    {
      "cell_type": "markdown",
      "metadata": {
        "id": "282Tawyt8r8u"
      },
      "source": [
        "## Texts"
      ]
    },
    {
      "cell_type": "markdown",
      "metadata": {
        "id": "RG-dMV8R8ww8"
      },
      "source": [
        "### Fullweek"
      ]
    },
    {
      "cell_type": "markdown",
      "metadata": {
        "id": "2nobUkoIwLkM"
      },
      "source": [
        "Аналитика по текстам. Объединяем по полным неделям."
      ]
    },
    {
      "cell_type": "code",
      "metadata": {
        "id": "HjVs1E4k892j",
        "colab": {
          "base_uri": "https://localhost:8080/",
          "height": 359
        },
        "outputId": "888a4851-90ee-4c97-a019-15f97e7611bc"
      },
      "source": [
        "# Слова\r\n",
        "texts = {}\r\n",
        "for i in range(1, df.time.dt.isocalendar().week.max()+1):\r\n",
        "    texts[i] = pd.Series(count_words(list_merge(df[(df.time.dt.isocalendar().week == i) &\r\n",
        "                                                   (df.time.dt.isocalendar().year == 2020)].text_words)))\r\n",
        "texts_weekly = pd.concat(texts, axis=1)\r\n",
        "columns = texts_weekly.columns\r\n",
        "texts_weekly['sum_weekly'] = texts_weekly[columns].sum(axis=1)\r\n",
        "texts_weekly['mean_weekly'] = texts_weekly[columns].mean(axis=1)\r\n",
        "texts_weekly['median_weekly'] = texts_weekly[columns].median(axis=1)\r\n",
        "texts_weekly[['sum_weekly', 'mean_weekly', 'median_weekly']].head(10)\r\n",
        "\r\n",
        "# Новости\r\n",
        "texts = {}\r\n",
        "for i in range(1, df.time.dt.isocalendar().week.max()+1):\r\n",
        "    texts[i] = pd.Series(count_words(list_merge(df[(df.time.dt.isocalendar().week == i) &\r\n",
        "                                                   (df.time.dt.isocalendar().year == 2020)].text_words, no_duplication=True)))\r\n",
        "texts_weekly_n = pd.concat(texts, axis=1)\r\n",
        "columns = texts_weekly_n.columns\r\n",
        "texts_weekly_n['sum_weekly'] = texts_weekly_n[columns].sum(axis=1)\r\n",
        "texts_weekly_n['mean_weekly'] = texts_weekly_n[columns].mean(axis=1)\r\n",
        "texts_weekly_n['median_weekly'] = texts_weekly_n[columns].median(axis=1)\r\n",
        "texts_weekly_n[['sum_weekly', 'mean_weekly', 'median_weekly']].head(10)"
      ],
      "execution_count": 29,
      "outputs": [
        {
          "output_type": "execute_result",
          "data": {
            "text/html": [
              "<div>\n",
              "<style scoped>\n",
              "    .dataframe tbody tr th:only-of-type {\n",
              "        vertical-align: middle;\n",
              "    }\n",
              "\n",
              "    .dataframe tbody tr th {\n",
              "        vertical-align: top;\n",
              "    }\n",
              "\n",
              "    .dataframe thead th {\n",
              "        text-align: right;\n",
              "    }\n",
              "</style>\n",
              "<table border=\"1\" class=\"dataframe\">\n",
              "  <thead>\n",
              "    <tr style=\"text-align: right;\">\n",
              "      <th></th>\n",
              "      <th>sum_weekly</th>\n",
              "      <th>mean_weekly</th>\n",
              "      <th>median_weekly</th>\n",
              "    </tr>\n",
              "  </thead>\n",
              "  <tbody>\n",
              "    <tr>\n",
              "      <th>год</th>\n",
              "      <td>10409.0</td>\n",
              "      <td>196.396226</td>\n",
              "      <td>203.0</td>\n",
              "    </tr>\n",
              "    <tr>\n",
              "      <th>квартал</th>\n",
              "      <td>940.0</td>\n",
              "      <td>17.735849</td>\n",
              "      <td>16.0</td>\n",
              "    </tr>\n",
              "    <tr>\n",
              "      <th>подключен</th>\n",
              "      <td>347.0</td>\n",
              "      <td>6.547170</td>\n",
              "      <td>6.0</td>\n",
              "    </tr>\n",
              "    <tr>\n",
              "      <th>стандарт</th>\n",
              "      <td>415.0</td>\n",
              "      <td>7.830189</td>\n",
              "      <td>8.0</td>\n",
              "    </tr>\n",
              "    <tr>\n",
              "      <th>азс</th>\n",
              "      <td>74.0</td>\n",
              "      <td>2.055556</td>\n",
              "      <td>2.0</td>\n",
              "    </tr>\n",
              "    <tr>\n",
              "      <th>получен</th>\n",
              "      <td>1716.0</td>\n",
              "      <td>32.377358</td>\n",
              "      <td>32.0</td>\n",
              "    </tr>\n",
              "    <tr>\n",
              "      <th>rs</th>\n",
              "      <td>6.0</td>\n",
              "      <td>1.500000</td>\n",
              "      <td>1.5</td>\n",
              "    </tr>\n",
              "    <tr>\n",
              "      <th>рестора</th>\n",
              "      <td>148.0</td>\n",
              "      <td>3.083333</td>\n",
              "      <td>2.5</td>\n",
              "    </tr>\n",
              "    <tr>\n",
              "      <th>банк</th>\n",
              "      <td>8445.0</td>\n",
              "      <td>159.339623</td>\n",
              "      <td>162.0</td>\n",
              "    </tr>\n",
              "    <tr>\n",
              "      <th>участв</th>\n",
              "      <td>150.0</td>\n",
              "      <td>3.191489</td>\n",
              "      <td>3.0</td>\n",
              "    </tr>\n",
              "  </tbody>\n",
              "</table>\n",
              "</div>"
            ],
            "text/plain": [
              "           sum_weekly  mean_weekly  median_weekly\n",
              "год           10409.0   196.396226          203.0\n",
              "квартал         940.0    17.735849           16.0\n",
              "подключен       347.0     6.547170            6.0\n",
              "стандарт        415.0     7.830189            8.0\n",
              "азс              74.0     2.055556            2.0\n",
              "получен        1716.0    32.377358           32.0\n",
              "rs                6.0     1.500000            1.5\n",
              "рестора         148.0     3.083333            2.5\n",
              "банк           8445.0   159.339623          162.0\n",
              "участв          150.0     3.191489            3.0"
            ]
          },
          "metadata": {
            "tags": []
          },
          "execution_count": 29
        }
      ]
    },
    {
      "cell_type": "markdown",
      "metadata": {
        "id": "KdZosl9B9yOj"
      },
      "source": [
        "### Workdays"
      ]
    },
    {
      "cell_type": "markdown",
      "metadata": {
        "id": "deeVBqdpwRTH"
      },
      "source": [
        " Аналитика по текстам. Объединяем по рабочим дням недели."
      ]
    },
    {
      "cell_type": "code",
      "metadata": {
        "id": "ftbKcr_A93Re",
        "colab": {
          "base_uri": "https://localhost:8080/",
          "height": 359
        },
        "outputId": "c3844223-95bf-4b18-fd19-bcbe367731ff"
      },
      "source": [
        "# Слова\r\n",
        "texts = {}\r\n",
        "for i in range(1, df.time.dt.isocalendar().week.max()+1):\r\n",
        "    texts[i] = pd.Series(count_words(list_merge(df[(df.time.dt.isocalendar().week == i) &\r\n",
        "                                                   (df.time.dt.isocalendar().day >= 1) &\r\n",
        "                                                   (df.time.dt.isocalendar().day <= 5) &\r\n",
        "                                                   (df.time.dt.isocalendar().year == 2020)].text_words)))\r\n",
        "texts_weekly_workdays = pd.concat(texts, axis=1)\r\n",
        "columns = texts_weekly_workdays.columns\r\n",
        "texts_weekly_workdays['sum_weekly_workdays'] = texts_weekly_workdays[columns].sum(\r\n",
        "    axis=1)\r\n",
        "texts_weekly_workdays['mean_weekly_workdays'] = texts_weekly_workdays[columns].mean(\r\n",
        "    axis=1)\r\n",
        "texts_weekly_workdays['median_weekly_workdays'] = texts_weekly_workdays[columns].median(\r\n",
        "    axis=1)\r\n",
        "texts_weekly_workdays[['sum_weekly_workdays',\r\n",
        "                       'mean_weekly_workdays', 'median_weekly_workdays']].head(10)\r\n",
        "\r\n",
        "# Новости\r\n",
        "texts = {}\r\n",
        "for i in range(1, df.time.dt.isocalendar().week.max()+1):\r\n",
        "    texts[i] = pd.Series(count_words(list_merge(df[(df.time.dt.isocalendar().week == i) &\r\n",
        "                                                   (df.time.dt.isocalendar().day >= 1) &\r\n",
        "                                                   (df.time.dt.isocalendar().day <= 5) &\r\n",
        "                                                   (df.time.dt.isocalendar().year == 2020)].text_words, no_duplication=True)))\r\n",
        "texts_weekly_workdays_n = pd.concat(texts, axis=1)\r\n",
        "columns = texts_weekly_workdays_n.columns\r\n",
        "texts_weekly_workdays_n['sum_weekly_workdays'] = texts_weekly_workdays_n[columns].sum(\r\n",
        "    axis=1)\r\n",
        "texts_weekly_workdays_n['mean_weekly_workdays'] = texts_weekly_workdays_n[columns].mean(\r\n",
        "    axis=1)\r\n",
        "texts_weekly_workdays_n['median_weekly_workdays'] = texts_weekly_workdays_n[columns].median(\r\n",
        "    axis=1)\r\n",
        "texts_weekly_workdays_n[['sum_weekly_workdays',\r\n",
        "                         'mean_weekly_workdays', 'median_weekly_workdays']].head(10)"
      ],
      "execution_count": 30,
      "outputs": [
        {
          "output_type": "execute_result",
          "data": {
            "text/html": [
              "<div>\n",
              "<style scoped>\n",
              "    .dataframe tbody tr th:only-of-type {\n",
              "        vertical-align: middle;\n",
              "    }\n",
              "\n",
              "    .dataframe tbody tr th {\n",
              "        vertical-align: top;\n",
              "    }\n",
              "\n",
              "    .dataframe thead th {\n",
              "        text-align: right;\n",
              "    }\n",
              "</style>\n",
              "<table border=\"1\" class=\"dataframe\">\n",
              "  <thead>\n",
              "    <tr style=\"text-align: right;\">\n",
              "      <th></th>\n",
              "      <th>sum_weekly_workdays</th>\n",
              "      <th>mean_weekly_workdays</th>\n",
              "      <th>median_weekly_workdays</th>\n",
              "    </tr>\n",
              "  </thead>\n",
              "  <tbody>\n",
              "    <tr>\n",
              "      <th>год</th>\n",
              "      <td>9849.0</td>\n",
              "      <td>185.830189</td>\n",
              "      <td>192.0</td>\n",
              "    </tr>\n",
              "    <tr>\n",
              "      <th>квартал</th>\n",
              "      <td>903.0</td>\n",
              "      <td>17.037736</td>\n",
              "      <td>16.0</td>\n",
              "    </tr>\n",
              "    <tr>\n",
              "      <th>подключен</th>\n",
              "      <td>297.0</td>\n",
              "      <td>5.603774</td>\n",
              "      <td>6.0</td>\n",
              "    </tr>\n",
              "    <tr>\n",
              "      <th>стандарт</th>\n",
              "      <td>358.0</td>\n",
              "      <td>6.754717</td>\n",
              "      <td>7.0</td>\n",
              "    </tr>\n",
              "    <tr>\n",
              "      <th>азс</th>\n",
              "      <td>57.0</td>\n",
              "      <td>1.628571</td>\n",
              "      <td>1.0</td>\n",
              "    </tr>\n",
              "    <tr>\n",
              "      <th>получен</th>\n",
              "      <td>1588.0</td>\n",
              "      <td>29.962264</td>\n",
              "      <td>31.0</td>\n",
              "    </tr>\n",
              "    <tr>\n",
              "      <th>rs</th>\n",
              "      <td>5.0</td>\n",
              "      <td>1.250000</td>\n",
              "      <td>1.0</td>\n",
              "    </tr>\n",
              "    <tr>\n",
              "      <th>рестора</th>\n",
              "      <td>125.0</td>\n",
              "      <td>2.717391</td>\n",
              "      <td>2.0</td>\n",
              "    </tr>\n",
              "    <tr>\n",
              "      <th>банк</th>\n",
              "      <td>7779.0</td>\n",
              "      <td>146.773585</td>\n",
              "      <td>151.0</td>\n",
              "    </tr>\n",
              "    <tr>\n",
              "      <th>участв</th>\n",
              "      <td>139.0</td>\n",
              "      <td>3.021739</td>\n",
              "      <td>3.0</td>\n",
              "    </tr>\n",
              "  </tbody>\n",
              "</table>\n",
              "</div>"
            ],
            "text/plain": [
              "           sum_weekly_workdays  mean_weekly_workdays  median_weekly_workdays\n",
              "год                     9849.0            185.830189                   192.0\n",
              "квартал                  903.0             17.037736                    16.0\n",
              "подключен                297.0              5.603774                     6.0\n",
              "стандарт                 358.0              6.754717                     7.0\n",
              "азс                       57.0              1.628571                     1.0\n",
              "получен                 1588.0             29.962264                    31.0\n",
              "rs                         5.0              1.250000                     1.0\n",
              "рестора                  125.0              2.717391                     2.0\n",
              "банк                    7779.0            146.773585                   151.0\n",
              "участв                   139.0              3.021739                     3.0"
            ]
          },
          "metadata": {
            "tags": []
          },
          "execution_count": 30
        }
      ]
    },
    {
      "cell_type": "markdown",
      "metadata": {
        "id": "W7TTKgVe-TSy"
      },
      "source": [
        "### Weekend"
      ]
    },
    {
      "cell_type": "markdown",
      "metadata": {
        "id": "j6yrTaxfwXDI"
      },
      "source": [
        "Аналитика по текстам. Объединяем по выходным дням недели."
      ]
    },
    {
      "cell_type": "code",
      "metadata": {
        "id": "AZ1QdUa2-aSS",
        "colab": {
          "base_uri": "https://localhost:8080/",
          "height": 481
        },
        "outputId": "c963cac5-5a7e-49a7-eb2a-1c0975e9a979"
      },
      "source": [
        "# Слова\r\n",
        "texts = {}\r\n",
        "for i in range(1, df.time.dt.isocalendar().week.max()+1):\r\n",
        "    texts[i] = pd.Series(count_words(list_merge(df[(df.time.dt.isocalendar().week == i) &\r\n",
        "                                                   (df.time.dt.isocalendar().day >= 6) &\r\n",
        "                                                   (df.time.dt.isocalendar().day <= 7) &\r\n",
        "                                                   (df.time.dt.isocalendar().year == 2020)].text_words)))\r\n",
        "texts_weekly_weekend = pd.concat(texts, axis=1)\r\n",
        "columns = texts_weekly_weekend.columns\r\n",
        "texts_weekly_weekend['sum_weekly_weekend'] = texts_weekly_weekend[columns].sum(\r\n",
        "    axis=1)\r\n",
        "texts_weekly_weekend['mean_weekly_weekend'] = texts_weekly_weekend[columns].mean(\r\n",
        "    axis=1)\r\n",
        "texts_weekly_weekend['median_weekly_weekend'] = texts_weekly_weekend[columns].median(\r\n",
        "    axis=1)\r\n",
        "texts_weekly_weekend[['sum_weekly_weekend',\r\n",
        "                      'mean_weekly_weekend', 'median_weekly_weekend']].head(10)\r\n",
        "\r\n",
        "# Новости\r\n",
        "texts = {}\r\n",
        "for i in range(1, df.time.dt.isocalendar().week.max()+1):\r\n",
        "    texts[i] = pd.Series(count_words(list_merge(df[(df.time.dt.isocalendar().week == i) &\r\n",
        "                                                   (df.time.dt.isocalendar().day >= 6) &\r\n",
        "                                                   (df.time.dt.isocalendar().day <= 7) &\r\n",
        "                                                   (df.time.dt.isocalendar().year == 2020)].text_words, no_duplication=True)))\r\n",
        "texts_weekly_weekend_n = pd.concat(texts, axis=1)\r\n",
        "columns = texts_weekly_weekend_n.columns\r\n",
        "texts_weekly_weekend_n['sum_weekly_weekend'] = texts_weekly_weekend_n[columns].sum(\r\n",
        "    axis=1)\r\n",
        "texts_weekly_weekend_n['mean_weekly_weekend'] = texts_weekly_weekend_n[columns].mean(\r\n",
        "    axis=1)\r\n",
        "texts_weekly_weekend_n['median_weekly_weekend'] = texts_weekly_weekend_n[columns].median(\r\n",
        "    axis=1)\r\n",
        "texts_weekly_weekend_n[['sum_weekly_weekend',\r\n",
        "                        'mean_weekly_weekend', 'median_weekly_weekend']].head(10)"
      ],
      "execution_count": 31,
      "outputs": [
        {
          "output_type": "stream",
          "text": [
            "/usr/local/lib/python3.6/dist-packages/ipykernel_launcher.py:7: DeprecationWarning: The default dtype for empty Series will be 'object' instead of 'float64' in a future version. Specify a dtype explicitly to silence this warning.\n",
            "  import sys\n",
            "/usr/local/lib/python3.6/dist-packages/ipykernel_launcher.py:7: DeprecationWarning: The default dtype for empty Series will be 'object' instead of 'float64' in a future version. Specify a dtype explicitly to silence this warning.\n",
            "  import sys\n",
            "/usr/local/lib/python3.6/dist-packages/ipykernel_launcher.py:25: DeprecationWarning: The default dtype for empty Series will be 'object' instead of 'float64' in a future version. Specify a dtype explicitly to silence this warning.\n",
            "/usr/local/lib/python3.6/dist-packages/ipykernel_launcher.py:25: DeprecationWarning: The default dtype for empty Series will be 'object' instead of 'float64' in a future version. Specify a dtype explicitly to silence this warning.\n"
          ],
          "name": "stderr"
        },
        {
          "output_type": "execute_result",
          "data": {
            "text/html": [
              "<div>\n",
              "<style scoped>\n",
              "    .dataframe tbody tr th:only-of-type {\n",
              "        vertical-align: middle;\n",
              "    }\n",
              "\n",
              "    .dataframe tbody tr th {\n",
              "        vertical-align: top;\n",
              "    }\n",
              "\n",
              "    .dataframe thead th {\n",
              "        text-align: right;\n",
              "    }\n",
              "</style>\n",
              "<table border=\"1\" class=\"dataframe\">\n",
              "  <thead>\n",
              "    <tr style=\"text-align: right;\">\n",
              "      <th></th>\n",
              "      <th>sum_weekly_weekend</th>\n",
              "      <th>mean_weekly_weekend</th>\n",
              "      <th>median_weekly_weekend</th>\n",
              "    </tr>\n",
              "  </thead>\n",
              "  <tbody>\n",
              "    <tr>\n",
              "      <th>баррел</th>\n",
              "      <td>60.0</td>\n",
              "      <td>1.463415</td>\n",
              "      <td>1.0</td>\n",
              "    </tr>\n",
              "    <tr>\n",
              "      <th>европ</th>\n",
              "      <td>52.0</td>\n",
              "      <td>1.333333</td>\n",
              "      <td>1.0</td>\n",
              "    </tr>\n",
              "    <tr>\n",
              "      <th>бирж</th>\n",
              "      <td>60.0</td>\n",
              "      <td>1.500000</td>\n",
              "      <td>1.0</td>\n",
              "    </tr>\n",
              "    <tr>\n",
              "      <th>уменьш</th>\n",
              "      <td>62.0</td>\n",
              "      <td>1.722222</td>\n",
              "      <td>1.0</td>\n",
              "    </tr>\n",
              "    <tr>\n",
              "      <th>состав</th>\n",
              "      <td>247.0</td>\n",
              "      <td>4.940000</td>\n",
              "      <td>5.0</td>\n",
              "    </tr>\n",
              "    <tr>\n",
              "      <th>котировк</th>\n",
              "      <td>42.0</td>\n",
              "      <td>1.076923</td>\n",
              "      <td>1.0</td>\n",
              "    </tr>\n",
              "    <tr>\n",
              "      <th>февральск</th>\n",
              "      <td>7.0</td>\n",
              "      <td>1.000000</td>\n",
              "      <td>1.0</td>\n",
              "    </tr>\n",
              "    <tr>\n",
              "      <th>торг</th>\n",
              "      <td>53.0</td>\n",
              "      <td>1.358974</td>\n",
              "      <td>1.0</td>\n",
              "    </tr>\n",
              "    <tr>\n",
              "      <th>сделок</th>\n",
              "      <td>52.0</td>\n",
              "      <td>1.238095</td>\n",
              "      <td>1.0</td>\n",
              "    </tr>\n",
              "    <tr>\n",
              "      <th>стоимост</th>\n",
              "      <td>148.0</td>\n",
              "      <td>3.148936</td>\n",
              "      <td>3.0</td>\n",
              "    </tr>\n",
              "  </tbody>\n",
              "</table>\n",
              "</div>"
            ],
            "text/plain": [
              "           sum_weekly_weekend  mean_weekly_weekend  median_weekly_weekend\n",
              "баррел                   60.0             1.463415                    1.0\n",
              "европ                    52.0             1.333333                    1.0\n",
              "бирж                     60.0             1.500000                    1.0\n",
              "уменьш                   62.0             1.722222                    1.0\n",
              "состав                  247.0             4.940000                    5.0\n",
              "котировк                 42.0             1.076923                    1.0\n",
              "февральск                 7.0             1.000000                    1.0\n",
              "торг                     53.0             1.358974                    1.0\n",
              "сделок                   52.0             1.238095                    1.0\n",
              "стоимост                148.0             3.148936                    3.0"
            ]
          },
          "metadata": {
            "tags": []
          },
          "execution_count": 31
        }
      ]
    },
    {
      "cell_type": "code",
      "metadata": {
        "id": "Meg0rtg4_SHV"
      },
      "source": [
        "texts_words = pd.concat([texts_daily, texts_weekly,\r\n",
        "                         texts_weekly_weekend, texts_weekly_workdays], axis=1).fillna(0)\r\n",
        "texts_words_n = pd.concat([texts_daily_n, texts_weekly_n,\r\n",
        "                           texts_weekly_weekend_n, texts_weekly_workdays_n], axis=1).fillna(0)"
      ],
      "execution_count": 32,
      "outputs": []
    },
    {
      "cell_type": "code",
      "metadata": {
        "colab": {
          "base_uri": "https://localhost:8080/"
        },
        "id": "vYxDeJW87U9u",
        "outputId": "3a5d4996-7871-45bd-927e-9d3e1a8c02a9"
      },
      "source": [
        "import gc\n",
        "gc.collect()"
      ],
      "execution_count": 33,
      "outputs": [
        {
          "output_type": "execute_result",
          "data": {
            "text/plain": [
              "12"
            ]
          },
          "metadata": {
            "tags": []
          },
          "execution_count": 33
        }
      ]
    },
    {
      "cell_type": "markdown",
      "metadata": {
        "id": "SrfKn4v5wiCN"
      },
      "source": [
        "Сохраним аналитику в отдельные файлы."
      ]
    },
    {
      "cell_type": "code",
      "metadata": {
        "id": "ayaLN_FrBDg1"
      },
      "source": [
        "texts_words.to_csv(\r\n",
        "    'drive/MyDrive/Colab Notebooks/sber/news/data/texts_words.csv')\r\n",
        "texts_words_n.to_csv(\r\n",
        "    'drive/MyDrive/Colab Notebooks/sber/news/data/texts_words_n.csv')"
      ],
      "execution_count": 34,
      "outputs": []
    },
    {
      "cell_type": "markdown",
      "metadata": {
        "id": "JXs15TlBDSR1"
      },
      "source": [
        "# Визуализация"
      ]
    },
    {
      "cell_type": "code",
      "metadata": {
        "id": "d__iQBBNDRtI"
      },
      "source": [
        "import matplotlib.pyplot as plt\r\n",
        "import seaborn as sns"
      ],
      "execution_count": 35,
      "outputs": []
    },
    {
      "cell_type": "code",
      "metadata": {
        "id": "q9enRvvyD3UO",
        "colab": {
          "base_uri": "https://localhost:8080/",
          "height": 312
        },
        "outputId": "6caebb94-7d36-4814-8791-3c74ab61d17a"
      },
      "source": [
        "ax = sns.countplot(x=df.time.sort_values().dt.strftime('%Y'), data=df)\n",
        "ax.set_title('Количество новостей по годам')\n",
        "ax.set_ylabel('Количество новостей')\n",
        "ax.set_xlabel('Годы')"
      ],
      "execution_count": 36,
      "outputs": [
        {
          "output_type": "execute_result",
          "data": {
            "text/plain": [
              "Text(0.5, 0, 'Годы')"
            ]
          },
          "metadata": {
            "tags": []
          },
          "execution_count": 36
        },
        {
          "output_type": "display_data",
          "data": {
            "image/png": "[encoded data removed]",
            "text/plain": [
              "<Figure size 432x288 with 1 Axes>"
            ]
          },
          "metadata": {
            "tags": [],
            "needs_background": "light"
          }
        }
      ]
    },
    {
      "cell_type": "code",
      "metadata": {
        "id": "tm9-xehiDqr_",
        "colab": {
          "base_uri": "https://localhost:8080/",
          "height": 312
        },
        "outputId": "3344a6f3-fddb-4e40-be52-32d10890601d"
      },
      "source": [
        "ax = sns.countplot(x=df.time.sort_values().dt.strftime('%b'), data=df)\n",
        "ax.set_title('Количество новостей по месяцам')\n",
        "ax.set_ylabel('Количество новостей')\n",
        "ax.set_xlabel('Месяцы')"
      ],
      "execution_count": 37,
      "outputs": [
        {
          "output_type": "execute_result",
          "data": {
            "text/plain": [
              "Text(0.5, 0, 'Месяцы')"
            ]
          },
          "metadata": {
            "tags": []
          },
          "execution_count": 37
        },
        {
          "output_type": "display_data",
          "data": {
            "image/png": "[encoded data removed]",
            "text/plain": [
              "<Figure size 432x288 with 1 Axes>"
            ]
          },
          "metadata": {
            "tags": [],
            "needs_background": "light"
          }
        }
      ]
    },
    {
      "cell_type": "code",
      "metadata": {
        "id": "61ezFX5gDt6v",
        "colab": {
          "base_uri": "https://localhost:8080/",
          "height": 312
        },
        "outputId": "3928eb26-8d2e-4832-ca44-2072eba44c21"
      },
      "source": [
        "ax = sns.countplot(x=df.time.sort_values().dt.strftime('%H'), data=df)\n",
        "ax.set_title('Количество новостей по часам')\n",
        "ax.set_ylabel('Количество новостей')\n",
        "ax.set_xlabel('Часы')"
      ],
      "execution_count": 38,
      "outputs": [
        {
          "output_type": "execute_result",
          "data": {
            "text/plain": [
              "Text(0.5, 0, 'Часы')"
            ]
          },
          "metadata": {
            "tags": []
          },
          "execution_count": 38
        },
        {
          "output_type": "display_data",
          "data": {
            "image/png": "[encoded data removed]",
            "text/plain": [
              "<Figure size 432x288 with 1 Axes>"
            ]
          },
          "metadata": {
            "tags": [],
            "needs_background": "light"
          }
        }
      ]
    },
    {
      "cell_type": "code",
      "metadata": {
        "id": "b6jyy71RDxW-",
        "colab": {
          "base_uri": "https://localhost:8080/",
          "height": 340
        },
        "outputId": "569eb814-1ebc-45de-9ef0-21c811a14397"
      },
      "source": [
        "ax = sns.countplot(x=df.time.sort_values().dt.strftime('%A'), data=df)\r\n",
        "ax.set_xticklabels(ax.get_xticklabels(),rotation=30)\r\n",
        "ax.set_title('Количество новостей по дням недели')\r\n",
        "ax.set_ylabel('Количество новостей')\r\n",
        "ax.set_xlabel('Дни недели')"
      ],
      "execution_count": 39,
      "outputs": [
        {
          "output_type": "execute_result",
          "data": {
            "text/plain": [
              "Text(0.5, 0, 'Дни недели')"
            ]
          },
          "metadata": {
            "tags": []
          },
          "execution_count": 39
        },
        {
          "output_type": "display_data",
          "data": {
            "image/png": "[encoded data removed]",
            "text/plain": [
              "<Figure size 432x288 with 1 Axes>"
            ]
          },
          "metadata": {
            "tags": [],
            "needs_background": "light"
          }
        }
      ]
    },
    {
      "cell_type": "code",
      "metadata": {
        "id": "XxQ3EFxyDxww",
        "colab": {
          "base_uri": "https://localhost:8080/",
          "height": 344
        },
        "outputId": "77d62bbe-edad-431d-b276-49b9b75d6eea"
      },
      "source": [
        "# Топ-10 ресурсов\r\n",
        "ax = sns.countplot(\r\n",
        "    x=df[df.source.isin(df.source.value_counts()[:10].index)].source, data=df)\r\n",
        "ax.set_xticklabels(ax.get_xticklabels(), rotation=30)\r\n",
        "ax.set_title('Количество новостей по используемым ресурсам')\r\n",
        "ax.set_ylabel('Количество новостей')\r\n",
        "ax.set_xlabel('Ресурсы')"
      ],
      "execution_count": 40,
      "outputs": [
        {
          "output_type": "execute_result",
          "data": {
            "text/plain": [
              "Text(0.5, 0, 'Ресурсы')"
            ]
          },
          "metadata": {
            "tags": []
          },
          "execution_count": 40
        },
        {
          "output_type": "display_data",
          "data": {
            "image/png": "[encoded data removed]",
            "text/plain": [
              "<Figure size 432x288 with 1 Axes>"
            ]
          },
          "metadata": {
            "tags": [],
            "needs_background": "light"
          }
        }
      ]
    },
    {
      "cell_type": "markdown",
      "metadata": {
        "id": "wj9NGs-X2BEH"
      },
      "source": [
        "# LSA"
      ]
    },
    {
      "cell_type": "code",
      "metadata": {
        "colab": {
          "base_uri": "https://localhost:8080/"
        },
        "id": "O14U945IPbwD",
        "outputId": "b67382cd-1780-48fe-8e65-85652196d5a4"
      },
      "source": [
        "import os.path\n",
        "from gensim import corpora\n",
        "from gensim.models import LsiModel\n",
        "from nltk.tokenize import RegexpTokenizer\n",
        "from nltk.stem.porter import PorterStemmer\n",
        "from gensim.models.coherencemodel import CoherenceModel\n",
        "import matplotlib.pyplot as plt\n",
        "\n",
        "\n",
        "def load_data(path, file_name):\n",
        "    '''\n",
        "    Функция загрузки данных\n",
        "    '''\n",
        "    documents_list = []\n",
        "    titles = []\n",
        "    with open(os.path.join(path, file_name), \"r\") as fin:\n",
        "        for line in fin.readlines():\n",
        "            text = line.strip()\n",
        "            documents_list.append(text)\n",
        "    print(\"Total Number of Documents:\", len(documents_list))\n",
        "    titles.append(text[0:min(len(text), 100)])\n",
        "    return documents_list, titles\n",
        "\n",
        "\n",
        "def preprocess_data(doc_set):\n",
        "    '''\n",
        "    Функция предобработки текста\n",
        "    '''\n",
        "    # initialize regex tokenizer\n",
        "    tokenizer = RegexpTokenizer(r'\\w+')\n",
        "    # create English stop words list\n",
        "    # en_stop = set(stopwords.words('english'))\n",
        "    en_stop = set(stopwords)\n",
        "    # Create p_stemmer of class PorterStemmer\n",
        "    p_stemmer = PorterStemmer()\n",
        "    # list for tokenized documents in loop\n",
        "    texts = []\n",
        "    # loop through document list\n",
        "    for i in doc_set:\n",
        "        # clean and tokenize document string\n",
        "        raw = i.lower()\n",
        "        tokens = tokenizer.tokenize(raw)\n",
        "        # remove stop words from tokens\n",
        "        stopped_tokens = [i for i in tokens if not i in en_stop]\n",
        "        # stem tokens\n",
        "        stemmed_tokens = [p_stemmer.stem(i) for i in stopped_tokens]\n",
        "        # add tokens to list\n",
        "        texts.append(stemmed_tokens)\n",
        "    return texts\n",
        "\n",
        "\n",
        "def prepare_corpus(doc_clean):\n",
        "    '''\n",
        "    Функция создания корпуса текста\n",
        "    '''\n",
        "    # Creating the term dictionary of our courpus, where every unique term is assigned an index. dictionary = corpora.Dictionary(doc_clean)\n",
        "    dictionary = corpora.Dictionary(doc_clean)\n",
        "    # Converting list of documents (corpus) into Document Term Matrix using dictionary prepared above.\n",
        "    doc_term_matrix = [dictionary.doc2bow(doc) for doc in doc_clean]\n",
        "    # generate LDA model\n",
        "    return dictionary, doc_term_matrix\n",
        "\n",
        "\n",
        "def create_gensim_lsa_model(doc_clean, number_of_topics, words):\n",
        "    '''\n",
        "    Создание LSA модели\n",
        "    '''\n",
        "    dictionary, doc_term_matrix = prepare_corpus(doc_clean)\n",
        "    # generate LSA model\n",
        "    lsamodel = LsiModel(\n",
        "        doc_term_matrix, num_topics=number_of_topics, id2word=dictionary)  # train model\n",
        "    print(lsamodel.print_topics(num_topics=number_of_topics, num_words=words))\n",
        "    return lsamodel\n",
        "\n",
        "\n",
        "def compute_coherence_values(dictionary, doc_term_matrix, doc_clean, stop, start=2, step=3):\n",
        "    '''\n",
        "    Вычисление значения coherence_values\n",
        "    '''\n",
        "    coherence_values = []\n",
        "    model_list = []\n",
        "    for num_topics in range(start, stop, step):\n",
        "        # generate LSA model\n",
        "        model = LsiModel(doc_term_matrix, num_topics=number_of_topics,\n",
        "                         id2word=dictionary)  # train model\n",
        "        model_list.append(model)\n",
        "        coherencemodel = CoherenceModel(\n",
        "            model=model, texts=doc_clean, dictionary=dictionary, coherence='c_v')\n",
        "        coherence_values.append(coherencemodel.get_coherence())\n",
        "    return model_list, coherence_values\n",
        "\n",
        "\n",
        "def plot_graph(doc_clean, start, stop, step):\n",
        "    '''\n",
        "    Функция построения графика\n",
        "    '''\n",
        "    dictionary, doc_term_matrix = prepare_corpus(doc_clean)\n",
        "    model_list, coherence_values = compute_coherence_values(dictionary, doc_term_matrix, doc_clean,\n",
        "                                                            stop, start, step)\n",
        "    # Show graph\n",
        "    x = range(start, stop, step)\n",
        "    plt.plot(x, coherence_values)\n",
        "    plt.title('График coherence score')\n",
        "    plt.xlabel('Количество новостей')\n",
        "    plt.ylabel('Coherence score')\n",
        "    plt.legend(('coherence_values'), loc='best')\n",
        "    plt.show()\n",
        "\n",
        "\n",
        "number_of_topics = 10\n",
        "words = 5\n",
        "clean_text = preprocess_data(df.title.to_list())\n",
        "model = create_gensim_lsa_model(clean_text, number_of_topics, words)"
      ],
      "execution_count": 41,
      "outputs": [
        {
          "output_type": "stream",
          "text": [
            "[(0, '0.691*\"банк\" + 0.401*\"ставки\" + 0.261*\"рублей\" + 0.252*\"вкладам\" + 0.209*\"млрд\"'), (1, '0.469*\"рублей\" + 0.366*\"млрд\" + -0.312*\"банк\" + 0.304*\"доллара\" + 0.296*\"курс\"'), (2, '-0.423*\"доллара\" + 0.402*\"рублей\" + -0.400*\"курс\" + 0.358*\"млрд\" + -0.289*\"евро\"'), (3, '0.500*\"цб\" + 0.413*\"торги\" + 0.385*\"рф\" + 0.271*\"фондовые\" + 0.239*\"россии\"'), (4, '-0.533*\"банк\" + 0.513*\"ставки\" + 0.413*\"цб\" + 0.356*\"вкладам\" + 0.175*\"рублях\"'), (5, '0.669*\"цб\" + -0.370*\"торги\" + -0.255*\"рф\" + -0.239*\"фондовые\" + -0.183*\"ставки\"'), (6, '0.416*\"евро\" + 0.316*\"итогам\" + 0.295*\"торгов\" + -0.257*\"30\" + -0.255*\"11\"'), (7, '0.781*\"россии\" + 0.232*\"году\" + 0.170*\"1\" + -0.160*\"цб\" + -0.147*\"рублей\"'), (8, '-0.358*\"евро\" + 0.355*\"нефть\" + 0.335*\"цены\" + 0.323*\"торгов\" + 0.315*\"мировые\"'), (9, '-0.743*\"банка\" + 0.265*\"рф\" + -0.239*\"россии\" + 0.237*\"млрд\" + -0.205*\"млн\"')]\n"
          ],
          "name": "stdout"
        }
      ]
    },
    {
      "cell_type": "code",
      "metadata": {
        "colab": {
          "base_uri": "https://localhost:8080/",
          "height": 295
        },
        "id": "SjYvlTEPQEOr",
        "outputId": "b96fdec7-8c11-469c-e239-e54c43bc6971"
      },
      "source": [
        "start, stop, step = 2, 12, 1\n",
        "plot_graph(clean_text, start, stop, step)"
      ],
      "execution_count": 42,
      "outputs": [
        {
          "output_type": "display_data",
          "data": {
            "image/png": "[encoded data removed]",
            "text/plain": [
              "<Figure size 432x288 with 1 Axes>"
            ]
          },
          "metadata": {
            "tags": [],
            "needs_background": "light"
          }
        }
      ]
    },
    {
      "cell_type": "markdown",
      "metadata": {
        "id": "u0VAV8KNhidl"
      },
      "source": [
        "# SVD"
      ]
    },
    {
      "cell_type": "markdown",
      "metadata": {
        "id": "18HgWd4brQow"
      },
      "source": [
        "## Titles"
      ]
    },
    {
      "cell_type": "code",
      "metadata": {
        "id": "FlVD_cfyPifG"
      },
      "source": [
        "news_df = pd.DataFrame({'title': df.title.values,\n",
        "                        'text': df.text.values})\n",
        "\n",
        "news_df.dropna(inplace=True)\n",
        "\n",
        "# removing everything except alphabets`\n",
        "news_df['clean_title'] = news_df['title'].str.replace('[^а-яА-Я#]', ' ')\n",
        "news_df['clean_text'] = news_df['text'].str.replace('[^а-яА-Я#]', ' ')\n",
        "\n",
        "# removing short words\n",
        "news_df['clean_title'] = news_df['clean_title'].apply(lambda x: ' '.join([w for w in x.split() if len(w)>3]))\n",
        "news_df['clean_text'] = news_df['clean_text'].apply(lambda x: ' '.join([w for w in x.split() if len(w)>3]))\n",
        "\n",
        "# make all text lowercase\n",
        "news_df['clean_title'] = news_df['clean_title'].apply(lambda x: x.lower())\n",
        "news_df['clean_text'] = news_df['clean_text'].apply(lambda x: x.lower())"
      ],
      "execution_count": 62,
      "outputs": []
    },
    {
      "cell_type": "code",
      "metadata": {
        "id": "2p5l5En5Pz9W"
      },
      "source": [
        "# tokenization\n",
        "tokenized_title = news_df['clean_title'].apply(lambda x: x.split())\n",
        "tokenized_text = news_df['clean_text'].apply(lambda x: x.split())\n",
        "\n",
        "# remove stop-words\n",
        "tokenized_title = tokenized_title.apply(lambda x: [item for item in x if item not in stopwords])\n",
        "tokenized_text = tokenized_text.apply(lambda x: [item for item in x if item not in stopwords])\n",
        "\n",
        "# de-tokenization\n",
        "detokenized_title = []\n",
        "detokenized_text = []\n",
        "for i in news_df.index:\n",
        "    t = ' '.join(tokenized_title[i])\n",
        "    detokenized_title.append(t)\n",
        "for i in news_df.index:\n",
        "    t = ' '.join(tokenized_text[i])\n",
        "    detokenized_text.append(t)\n",
        "\n",
        "news_df['clean_title'] = detokenized_title\n",
        "news_df['clean_text'] = detokenized_text"
      ],
      "execution_count": 69,
      "outputs": []
    },
    {
      "cell_type": "code",
      "metadata": {
        "id": "ymSlTHShP2ZK",
        "outputId": "a0442c18-1175-42b4-d4fe-4e78c4a3314e",
        "colab": {
          "base_uri": "https://localhost:8080/"
        }
      },
      "source": [
        "vectorizer = TfidfVectorizer(stop_words=stopwords,\n",
        "                             max_features = 1000, # keep top 1000 terms\n",
        "                             max_df = 0.5,\n",
        "                             smooth_idf=True)\n",
        "X = vectorizer.fit_transform(news_df['clean_title'])\n",
        "X.shape # check shape of the document-term matrix"
      ],
      "execution_count": 70,
      "outputs": [
        {
          "output_type": "execute_result",
          "data": {
            "text/plain": [
              "(113172, 1000)"
            ]
          },
          "metadata": {
            "tags": []
          },
          "execution_count": 70
        }
      ]
    },
    {
      "cell_type": "code",
      "metadata": {
        "id": "3g80-7JFP4d8",
        "outputId": "92bbc1de-dc3e-4d75-b015-14c9728f9de6",
        "colab": {
          "base_uri": "https://localhost:8080/"
        }
      },
      "source": [
        "# SVD represent documents and terms in vectors \n",
        "svd_model = TruncatedSVD(n_components=20, algorithm='randomized', n_iter=100, random_state=21)\n",
        "\n",
        "svd_model.fit(X)\n",
        "\n",
        "len(svd_model.components_)"
      ],
      "execution_count": 71,
      "outputs": [
        {
          "output_type": "execute_result",
          "data": {
            "text/plain": [
              "20"
            ]
          },
          "metadata": {
            "tags": []
          },
          "execution_count": 71
        }
      ]
    },
    {
      "cell_type": "code",
      "metadata": {
        "id": "7-WJw-96P6jP",
        "outputId": "9d5142fe-26d8-422b-f976-6d38eb30473f",
        "colab": {
          "base_uri": "https://localhost:8080/"
        }
      },
      "source": [
        "terms = vectorizer.get_feature_names()\n",
        "\n",
        "for i, comp in enumerate(svd_model.components_):\n",
        "    terms_comp = zip(terms, comp)\n",
        "    sorted_terms = sorted(terms_comp, key= lambda x:x[1], reverse=True)[:7]\n",
        "    print('Topic '+str(i)+':')\n",
        "    for t in sorted_terms:\n",
        "        print(t[0], end='')\n",
        "        print(' ', end='')\n",
        "    print('')"
      ],
      "execution_count": 72,
      "outputs": [
        {
          "output_type": "stream",
          "text": [
            "Topic 0:\n",
            "ставки банк вкладам снизил рублях понизил уменьшил \n",
            "Topic 1:\n",
            "доллара курс евро рубля средневзвешенный официальный копеек \n",
            "Topic 2:\n",
            "рублей млрд банка долларов россии году минфин \n",
            "Topic 3:\n",
            "торги фондовые россии закрылись плюсе открылись минусе \n",
            "Topic 4:\n",
            "банк россии вклад предлагает ввел запустил новый \n",
            "Topic 5:\n",
            "россии вкладам году ставки рублях понизил против \n",
            "Topic 6:\n",
            "торгов нефть цены итогам мировые рубль повысились \n",
            "Topic 7:\n",
            "банка рейтинг подтвердило уровне глава эксперт банку \n",
            "Topic 8:\n",
            "рубля средневзвешенный курс нефть цены мировые торгов \n",
            "Topic 9:\n",
            "банки предлагает вклад году банков долларов года \n",
            "Topic 10:\n",
            "предлагает вклад вкладам россии ввел понизил рублях \n",
            "Topic 11:\n",
            "долларов млрд году рейтинг резервы международные неделю \n",
            "Topic 12:\n",
            "рейтинг подтвердило банку уровне сбербанк году эксперт \n",
            "Topic 13:\n",
            "сбербанк году снизил банков ипотеке банка года \n",
            "Topic 14:\n",
            "снизил ипотеке ставку ставки предлагает вклад россии \n",
            "Topic 15:\n",
            "году снизил минфин закрылись рост прогноз банков \n",
            "Topic 16:\n",
            "банков индексы рубль года торгов начале российские \n",
            "Topic 17:\n",
            "банков закрылись биржи года нефть цены мировые \n",
            "Topic 18:\n",
            "биржи закрылись рубль азиатские торгов начале преимущественно \n",
            "Topic 19:\n",
            "года минфин конца начала россиян концу глава \n"
          ],
          "name": "stdout"
        }
      ]
    },
    {
      "cell_type": "code",
      "metadata": {
        "id": "bRltDhnxP8cu"
      },
      "source": [
        "X_topics = svd_model.fit_transform(X)\n",
        "embedding = umap.UMAP(n_neighbors=150, min_dist=0.5, random_state=21).fit_transform(X_topics)"
      ],
      "execution_count": 73,
      "outputs": []
    },
    {
      "cell_type": "code",
      "metadata": {
        "id": "bTPjpyu5avT5",
        "outputId": "f4ac14c8-c915-4bb0-b1d1-579cb026e59e",
        "colab": {
          "base_uri": "https://localhost:8080/",
          "height": 336
        }
      },
      "source": [
        "plt.figure(figsize=(7,5))\n",
        "plt.scatter(embedding[:, 0], embedding[:, 1], \n",
        "c = df.views[news_df.index],\n",
        "s = 10, # size\n",
        "edgecolor='none'\n",
        ")\n",
        "plt.title('UMAP проекция заголовков')\n",
        "plt.show()"
      ],
      "execution_count": 75,
      "outputs": [
        {
          "output_type": "display_data",
          "data": {
            "image/png": "[encoded data removed]",
            "text/plain": [
              "<Figure size 504x360 with 1 Axes>"
            ]
          },
          "metadata": {
            "tags": [],
            "needs_background": "light"
          }
        }
      ]
    },
    {
      "cell_type": "code",
      "metadata": {
        "id": "d6ieDCODrkEF",
        "outputId": "fdba36b7-7765-4200-954b-eb9e086826b9",
        "colab": {
          "base_uri": "https://localhost:8080/"
        }
      },
      "source": [
        "vectorizer = TfidfVectorizer(stop_words=stopwords,\n",
        "                             max_features = 1000, # keep top 1000 terms\n",
        "                             max_df = 0.5,\n",
        "                             smooth_idf=True)\n",
        "X = vectorizer.fit_transform(news_df['clean_text'])\n",
        "X.shape # check shape of the document-term matrix"
      ],
      "execution_count": 76,
      "outputs": [
        {
          "output_type": "execute_result",
          "data": {
            "text/plain": [
              "(113172, 1000)"
            ]
          },
          "metadata": {
            "tags": []
          },
          "execution_count": 76
        }
      ]
    },
    {
      "cell_type": "code",
      "metadata": {
        "id": "O8sPCnGCrkWY",
        "outputId": "00cb3f15-d990-4286-cfb5-599d0b2fb0d9",
        "colab": {
          "base_uri": "https://localhost:8080/"
        }
      },
      "source": [
        "# SVD represent documents and terms in vectors \n",
        "svd_model = TruncatedSVD(n_components=20, algorithm='randomized', n_iter=100, random_state=21)\n",
        "\n",
        "svd_model.fit(X)\n",
        "\n",
        "len(svd_model.components_)"
      ],
      "execution_count": 77,
      "outputs": [
        {
          "output_type": "execute_result",
          "data": {
            "text/plain": [
              "20"
            ]
          },
          "metadata": {
            "tags": []
          },
          "execution_count": 77
        }
      ]
    },
    {
      "cell_type": "code",
      "metadata": {
        "id": "gzA_jF-1tARq",
        "outputId": "291710dc-507d-4a0d-af36-79c7bf50d9b4",
        "colab": {
          "base_uri": "https://localhost:8080/"
        }
      },
      "source": [
        "terms = vectorizer.get_feature_names()\n",
        "\n",
        "for i, comp in enumerate(svd_model.components_):\n",
        "    terms_comp = zip(terms, comp)\n",
        "    sorted_terms = sorted(terms_comp, key= lambda x:x[1], reverse=True)[:7]\n",
        "    print('Topic '+str(i)+':')\n",
        "    for t in sorted_terms:\n",
        "        print(t[0], end='')\n",
        "        print(' ', end='')\n",
        "    print('')"
      ],
      "execution_count": 78,
      "outputs": [
        {
          "output_type": "stream",
          "text": [
            "Topic 0:\n",
            "млрд рублей банка банк россии годовых банки \n",
            "Topic 1:\n",
            "рубля курс доллара официальный евро составил нефть \n",
            "Topic 2:\n",
            "годовых проценты выплачиваются дней евро ежемесячно срока \n",
            "Topic 3:\n",
            "индекс пункта фондовые торги отметке закрытия биржи \n",
            "Topic 4:\n",
            "млрд банка банк капитал портфель кредитный нетто \n",
            "Topic 5:\n",
            "нефть доллара баррель млрд цены котировки долларов \n",
            "Topic 6:\n",
            "млрд долларов рублей году трлн евро объем \n",
            "Topic 7:\n",
            "сбербанк сбербанка россии сказал акций глава заявил \n",
            "Topic 8:\n",
            "сбербанк рублей сбербанка официальный доллара россии кредит \n",
            "Topic 9:\n",
            "евро долларов сбербанк сбербанка компании карты долларах \n",
            "Topic 10:\n",
            "ставка кредита ставки евро рубль эксперт карты \n",
            "Topic 11:\n",
            "сбербанк сбербанка банка вкладов рейтинг россии капитала \n",
            "Topic 12:\n",
            "долларов карты официальный карт банк году млрд \n",
            "Topic 13:\n",
            "долларов официальный кредита ставка евро составляет кредит \n",
            "Topic 14:\n",
            "компании компания осаго акций компаний мосбиржи страхования \n",
            "Topic 15:\n",
            "официальный евро составляет компании году курс осаго \n",
            "Topic 16:\n",
            "индекс официальный мосбиржи пунктов составляет банка московской \n",
            "Topic 17:\n",
            "банков евро банки трлн организаций кредитных вкладов \n",
            "Topic 18:\n",
            "рейтинг средств агентство эксперт кредитоспособности договора вклада \n",
            "Topic 19:\n",
            "россии средств деятельности отношении совета уголовное дело \n"
          ],
          "name": "stdout"
        }
      ]
    },
    {
      "cell_type": "code",
      "metadata": {
        "id": "CEkTTkVJtIZn"
      },
      "source": [
        "X_topics = svd_model.fit_transform(X)\n",
        "embedding = umap.UMAP(n_neighbors=150, min_dist=0.5, random_state=21).fit_transform(X_topics)"
      ],
      "execution_count": 79,
      "outputs": []
    },
    {
      "cell_type": "code",
      "metadata": {
        "id": "DctfGM2OtLV1",
        "outputId": "f517d2cf-830a-43d6-f3c1-d35da062ff66",
        "colab": {
          "base_uri": "https://localhost:8080/",
          "height": 336
        }
      },
      "source": [
        "plt.figure(figsize=(7,5))\n",
        "plt.scatter(embedding[:, 0], embedding[:, 1], \n",
        "c = df.views[news_df.index],\n",
        "s = 10, # size\n",
        "edgecolor='none'\n",
        ")\n",
        "plt.title('UMAP проекция текстов')\n",
        "plt.show()"
      ],
      "execution_count": 80,
      "outputs": [
        {
          "output_type": "display_data",
          "data": {
            "image/png": "[encoded data removed]",
            "text/plain": [
              "<Figure size 504x360 with 1 Axes>"
            ]
          },
          "metadata": {
            "tags": [],
            "needs_background": "light"
          }
        }
      ]
    },
    {
      "cell_type": "code",
      "metadata": {
        "id": "oLaXntqixJ-B"
      },
      "source": [
        ""
      ],
      "execution_count": null,
      "outputs": []
    }
  ]
}