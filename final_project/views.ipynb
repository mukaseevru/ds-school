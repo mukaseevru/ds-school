{
  "nbformat": 4,
  "nbformat_minor": 0,
  "metadata": {
    "colab": {
      "name": "views.ipynb",
      "provenance": [],
      "collapsed_sections": [],
      "toc_visible": true,
      "include_colab_link": true
    },
    "kernelspec": {
      "display_name": "Python 3",
      "language": "python",
      "name": "python3"
    },
    "language_info": {
      "codemirror_mode": {
        "name": "ipython",
        "version": 3
      },
      "file_extension": ".py",
      "mimetype": "text/x-python",
      "name": "python",
      "nbconvert_exporter": "python",
      "pygments_lexer": "ipython3",
      "version": "3.7.9"
    }
  },
  "cells": [
    {
      "cell_type": "markdown",
      "metadata": {
        "id": "view-in-github",
        "colab_type": "text"
      },
      "source": [
        "<a href=\"https://colab.research.google.com/github/mukaseevru/ds-school/blob/main/final_project/views.ipynb\" target=\"_parent\"><img src=\"https://colab.research.google.com/assets/colab-badge.svg\" alt=\"Open In Colab\"/></a>"
      ]
    },
    {
      "cell_type": "markdown",
      "metadata": {
        "id": "7UDSw2EXnkJQ"
      },
      "source": [
        "# Подключение библиотек"
      ]
    },
    {
      "cell_type": "code",
      "metadata": {
        "id": "0ypU3Sp-YMut"
      },
      "source": [
        "# Загрузка необходимых модулей\n",
        "import numpy as np\n",
        "import pandas as pd\n",
        "import datetime as dt\n",
        "import requests\n",
        "from requests.adapters import HTTPAdapter\n",
        "from requests.packages.urllib3.util.retry import Retry\n",
        "from time import sleep\n",
        "from bs4 import BeautifulSoup"
      ],
      "execution_count": 1,
      "outputs": []
    },
    {
      "cell_type": "markdown",
      "metadata": {
        "id": "Y24yTAzyYMuo"
      },
      "source": [
        "# Настройки"
      ]
    },
    {
      "cell_type": "code",
      "metadata": {
        "id": "GpuEhqkrYMus"
      },
      "source": [
        "# Таймаут, если ошибка соединения\n",
        "timeout = 1\n",
        "# Debug mode\n",
        "debug = True\n",
        "# Настройки по сайтам\n",
        "sites = {}\n",
        "# banki.ru\n",
        "sites['banki'] = {}\n",
        "sites['banki']['on'] = True\n",
        "sites['banki']['count'] = 10\n",
        "sites['banki']['send'] = True"
      ],
      "execution_count": 2,
      "outputs": []
    },
    {
      "cell_type": "code",
      "metadata": {
        "colab": {
          "base_uri": "https://localhost:8080/"
        },
        "id": "b0Slx4hiyRBD",
        "outputId": "ba73617d-2902-4285-9b00-e4da6e152d87"
      },
      "source": [
        "sites"
      ],
      "execution_count": 3,
      "outputs": [
        {
          "output_type": "execute_result",
          "data": {
            "text/plain": [
              "{'banki': {'count': 10, 'on': True, 'send': True}}"
            ]
          },
          "metadata": {
            "tags": []
          },
          "execution_count": 3
        }
      ]
    },
    {
      "cell_type": "markdown",
      "metadata": {
        "id": "LoYi5upXnnjg"
      },
      "source": [
        "# Определение функций"
      ]
    },
    {
      "cell_type": "code",
      "metadata": {
        "id": "rKoqs3i3YMut"
      },
      "source": [
        "# Определение функции загрузки страницы\n",
        "def load_page(url):\n",
        "  count = 0\n",
        "  while True:\n",
        "    try:\n",
        "      with requests.Session() as session:\n",
        "        session.headers['Connection'] = 'keep-alive'\n",
        "        session.headers['Cache-Control'] = 'max-age=0'\n",
        "        session.headers['Upgrade-Insecure-Requests'] = '1'\n",
        "        session.headers['User-Agent'] = 'Mozilla/5.0 (Windows NT 6.1) AppleWebKit/537.36 (KHTML, like Gecko) Chrome/53.0.2785.116 Safari/537.36 OPR/40.0.2308.81'\n",
        "        session.headers['Accept'] = 'text/html,application/xhtml+xml,application/xml;q=0.9,image/webp,*/*;q=0.8'\n",
        "        session.headers['DNT'] = '1'\n",
        "        session.headers['Accept-Encoding'] = 'gzip, deflate, lzma, sdch'\n",
        "        session.headers['Accept-Language'] = 'ru-RU,ru;q=0.8,en-US;q=0.6,en;q=0.4'\n",
        "        retry = Retry(connect=3, backoff_factor=0.5)\n",
        "        adapter = HTTPAdapter(max_retries=retry)\n",
        "        session.mount('http://', adapter)\n",
        "        session.mount('https://', adapter)\n",
        "        session.proxies = {\n",
        "            # 'http': '185.198.189.21:8080',\n",
        "            # 'https': '185.198.189.21:8080'\n",
        "            }\n",
        "        response = session.get(url)\n",
        "      if response.status_code != 200:\n",
        "        # log.info(\"Ошибка, код ответа: %s\", response.status)\n",
        "        print('Ошибка, код ответа: %s', response.status_code)\n",
        "        sleep(timeout)\n",
        "        count += 1\n",
        "        if count > 5:\n",
        "          return (-1)\n",
        "        # Попробуем снова на следующей итерации цикла\n",
        "        continue\n",
        "      # Если дошли до сюда, значит ошибок не было\n",
        "      return response\n",
        "    except ConnectionError:\n",
        "      # Выводим свое сообщение плюс стек трассы\n",
        "      # log.exception(\"Ошибка ConnectionError\")\n",
        "      print('Ошибка ConnectionError')\n",
        "      sleep(timeout)\n",
        "\n",
        "# Определение функции очистки текста от спецсимволов\n",
        "def clean_text(text):\n",
        "  if pd.isnull(text):\n",
        "    return np.nan\n",
        "  text = text.replace('\\n',' ')\\\n",
        "  .replace('\\r',' ')\\\n",
        "  .replace('\\t',' ')\\\n",
        "  .replace('\\u200b',' ')\\\n",
        "  .replace('  ',' ')\\\n",
        "  .replace('✅',' ')\\\n",
        "  .replace('•',' ')\\\n",
        "  .replace('📰',' ')\\\n",
        "  .replace('🔸',' ')\\\n",
        "  .replace('🔹',' ')\\\n",
        "  .replace('🔸',' ')\\\n",
        "  .replace('🔸',' ')\\\n",
        "  .replace('💰',' ')\\\n",
        "  .replace('👍',' ')\\\n",
        "  .replace('📅',' ')\\\n",
        "  .replace('🍂',' ')\\\n",
        "  .replace('🔥',' ')\\\n",
        "  .replace('🎥',' ')\\\n",
        "  .replace('🎬',' ')\\\n",
        "  .replace('<',' ')\\\n",
        "  .replace('>',' ')\\\n",
        "  .strip()\n",
        "  while '  ' in text:\n",
        "    text = text.replace('  ', ' ')\n",
        "  return text"
      ],
      "execution_count": 4,
      "outputs": []
    },
    {
      "cell_type": "markdown",
      "metadata": {
        "id": "OEijMhDV2xMW"
      },
      "source": [
        "# banki.ru"
      ]
    },
    {
      "cell_type": "markdown",
      "metadata": {
        "id": "B85V-KTZnrB4"
      },
      "source": [
        "## Загрузка имеющихся данных"
      ]
    },
    {
      "cell_type": "code",
      "metadata": {
        "colab": {
          "base_uri": "https://localhost:8080/"
        },
        "id": "xLQQGBw-Yvp4",
        "outputId": "960ff32c-ad2d-49a7-f955-64dfc14c45ba"
      },
      "source": [
        "from google.colab import drive\n",
        "drive.mount('/content/drive')"
      ],
      "execution_count": 5,
      "outputs": [
        {
          "output_type": "stream",
          "text": [
            "Drive already mounted at /content/drive; to attempt to forcibly remount, call drive.mount(\"/content/drive\", force_remount=True).\n"
          ],
          "name": "stdout"
        }
      ]
    },
    {
      "cell_type": "code",
      "metadata": {
        "colab": {
          "base_uri": "https://localhost:8080/",
          "height": 37
        },
        "id": "bXUakrcYZcai",
        "outputId": "e6f7dc45-dd0e-4fa0-c976-6d693d55e396"
      },
      "source": [
        "import os\n",
        "os.getcwd()"
      ],
      "execution_count": 6,
      "outputs": [
        {
          "output_type": "execute_result",
          "data": {
            "application/vnd.google.colaboratory.intrinsic+json": {
              "type": "string"
            },
            "text/plain": [
              "'/content'"
            ]
          },
          "metadata": {
            "tags": []
          },
          "execution_count": 6
        }
      ]
    },
    {
      "cell_type": "code",
      "metadata": {
        "colab": {
          "base_uri": "https://localhost:8080/"
        },
        "id": "qRPiqa9Np8XC",
        "outputId": "3634724c-50b5-4afd-b62e-27f7f9555da2"
      },
      "source": [
        "df_views = pd.DataFrame(columns=[np.arange(sites['banki']['count'])])\n",
        "df_views.info()"
      ],
      "execution_count": 7,
      "outputs": [
        {
          "output_type": "stream",
          "text": [
            "<class 'pandas.core.frame.DataFrame'>\n",
            "Index: 0 entries\n",
            "Data columns (total 10 columns):\n",
            " #   Column  Non-Null Count  Dtype \n",
            "---  ------  --------------  ----- \n",
            " 0   (0,)    0 non-null      object\n",
            " 1   (1,)    0 non-null      object\n",
            " 2   (2,)    0 non-null      object\n",
            " 3   (3,)    0 non-null      object\n",
            " 4   (4,)    0 non-null      object\n",
            " 5   (5,)    0 non-null      object\n",
            " 6   (6,)    0 non-null      object\n",
            " 7   (7,)    0 non-null      object\n",
            " 8   (8,)    0 non-null      object\n",
            " 9   (9,)    0 non-null      object\n",
            "dtypes: object(10)\n",
            "memory usage: 0.0+ bytes\n"
          ],
          "name": "stdout"
        }
      ]
    },
    {
      "cell_type": "markdown",
      "metadata": {
        "id": "6tXc8PAYnwso"
      },
      "source": [
        "## Цикл парсинга"
      ]
    },
    {
      "cell_type": "code",
      "metadata": {
        "id": "oO38BspnYMuv",
        "scrolled": true
      },
      "source": [
        "if sites['banki']['on']:\n",
        "  url = 'https://www.banki.ru/news/lenta/page1'\n",
        "  response = load_page(url)\n",
        "  soup = BeautifulSoup(response.text, 'lxml')\n",
        "  articles = soup.find_all('ul', class_='text-list text-list--date text-list--date-inline')[0].find_all('li')\n",
        "  article_ids = []\n",
        "  article_views = []\n",
        "  for article in articles[:sites['banki']['count']]:\n",
        "    # Кол-во просмотров\n",
        "    views = 0\n",
        "    article_url = article.find('a', class_='text-list-link')\n",
        "    if article_url.get('href')[0] == 'h':\n",
        "        # print('Error url - {}'.format(article_url.get('href')))\n",
        "        continue\n",
        "    article_id = str(article_url.get('href').split('=')[1])\n",
        "    article_info = article.find_all('span', class_='news__info')\n",
        "    if len(article_info) > 1:\n",
        "      if article_info[1].text != '':\n",
        "        views = int(clean_text(article_info[1].text.split('\\n\\t')[1]))\n",
        "    else:\n",
        "      if article_info[0].text != '':\n",
        "        views = int(clean_text(article_info[0].text.split('\\n\\t')[1]))\n",
        "    article_ids.append(article_id)\n",
        "    article_views.append(views)\n",
        "  df_views.columns = article_ids\n",
        "  df_views = df_views.append(pd.DataFrame([article_views], columns=df_views.columns), ignore_index=True)"
      ],
      "execution_count": 8,
      "outputs": []
    },
    {
      "cell_type": "code",
      "metadata": {
        "colab": {
          "base_uri": "https://localhost:8080/"
        },
        "id": "BpG1ZWGRtoq1",
        "outputId": "1cccb529-25aa-4bdb-b481-f7623a0f9e2e"
      },
      "source": [
        "df_views.info()"
      ],
      "execution_count": 9,
      "outputs": [
        {
          "output_type": "stream",
          "text": [
            "<class 'pandas.core.frame.DataFrame'>\n",
            "RangeIndex: 1 entries, 0 to 0\n",
            "Data columns (total 10 columns):\n",
            " #   Column    Non-Null Count  Dtype \n",
            "---  ------    --------------  ----- \n",
            " 0   10941428  1 non-null      object\n",
            " 1   10941427  1 non-null      object\n",
            " 2   10941426  1 non-null      object\n",
            " 3   10941425  1 non-null      object\n",
            " 4   10941422  1 non-null      object\n",
            " 5   10941421  1 non-null      object\n",
            " 6   10941419  1 non-null      object\n",
            " 7   10941417  1 non-null      object\n",
            " 8   10941416  1 non-null      object\n",
            " 9   10941415  1 non-null      object\n",
            "dtypes: object(10)\n",
            "memory usage: 208.0+ bytes\n"
          ],
          "name": "stdout"
        }
      ]
    },
    {
      "cell_type": "code",
      "metadata": {
        "id": "EvoyU-aCweLg"
      },
      "source": [
        "if sites['banki']['on']:\n",
        "  for i in range(120):\n",
        "    url = 'https://www.banki.ru/news/lenta/page1'\n",
        "    response = load_page(url)\n",
        "    soup = BeautifulSoup(response.text, 'lxml')\n",
        "    articles = soup.find_all('ul', class_='text-list text-list--date text-list--date-inline')[0].find_all('li')\n",
        "    # article_ids = []\n",
        "    article_views = []\n",
        "    for article in articles:\n",
        "      # Кол-во просмотров\n",
        "      views = 0\n",
        "      article_url = article.find('a', class_='text-list-link')\n",
        "      if article_url.get('href')[0] == 'h':\n",
        "          # print('Error url - {}'.format(article_url.get('href')))\n",
        "          continue\n",
        "      article_id = str(article_url.get('href').split('=')[1])\n",
        "      if article_id not in df_views.columns:\n",
        "        continue\n",
        "      article_info = article.find_all('span', class_='news__info')\n",
        "      if len(article_info) > 1:\n",
        "        source = clean_text(article_info[0].text)\n",
        "        if article_info[1].text != '':\n",
        "          views = int(clean_text(article_info[1].text.split('\\n\\t')[1]))\n",
        "        if article_info[1].find('span', class_='link-with-icon__icon icon-font icon-bubble-16 icon-font--size_small'):\n",
        "          comments = int(clean_text(article_info[1].text.split('\\n\\t')[3]))\n",
        "      else:\n",
        "        if article_info[0].text != '':\n",
        "          views = int(clean_text(article_info[0].text.split('\\n\\t')[1]))\n",
        "        if article_info[0].find('span', class_='link-with-icon__icon icon-font icon-bubble-16 icon-font--size_small'):\n",
        "          comments = int(clean_text(article_info[0].text.split('\\n\\t')[3]))\n",
        "      article_views.append(views)\n",
        "    df_views = df_views.append(pd.DataFrame([article_views], columns=df_views.columns), ignore_index=True)\n",
        "    sleep(30)"
      ],
      "execution_count": 10,
      "outputs": []
    },
    {
      "cell_type": "code",
      "metadata": {
        "id": "A1CmnvYtYMuw",
        "scrolled": true,
        "colab": {
          "base_uri": "https://localhost:8080/"
        },
        "outputId": "4ec543db-d040-4442-9dbc-80ccbf174a42"
      },
      "source": [
        "df_views.info()"
      ],
      "execution_count": 11,
      "outputs": [
        {
          "output_type": "stream",
          "text": [
            "<class 'pandas.core.frame.DataFrame'>\n",
            "RangeIndex: 121 entries, 0 to 120\n",
            "Data columns (total 10 columns):\n",
            " #   Column    Non-Null Count  Dtype \n",
            "---  ------    --------------  ----- \n",
            " 0   10941428  121 non-null    object\n",
            " 1   10941427  121 non-null    object\n",
            " 2   10941426  121 non-null    object\n",
            " 3   10941425  121 non-null    object\n",
            " 4   10941422  121 non-null    object\n",
            " 5   10941421  121 non-null    object\n",
            " 6   10941419  121 non-null    object\n",
            " 7   10941417  121 non-null    object\n",
            " 8   10941416  121 non-null    object\n",
            " 9   10941415  121 non-null    object\n",
            "dtypes: object(10)\n",
            "memory usage: 9.6+ KB\n"
          ],
          "name": "stdout"
        }
      ]
    },
    {
      "cell_type": "code",
      "metadata": {
        "colab": {
          "base_uri": "https://localhost:8080/",
          "height": 204
        },
        "id": "wJ-F4xnQtQvZ",
        "outputId": "2a677eff-5dda-4152-c738-f0bb2b9ca37a"
      },
      "source": [
        "df_views.head()"
      ],
      "execution_count": 12,
      "outputs": [
        {
          "output_type": "execute_result",
          "data": {
            "text/html": [
              "<div>\n",
              "<style scoped>\n",
              "    .dataframe tbody tr th:only-of-type {\n",
              "        vertical-align: middle;\n",
              "    }\n",
              "\n",
              "    .dataframe tbody tr th {\n",
              "        vertical-align: top;\n",
              "    }\n",
              "\n",
              "    .dataframe thead th {\n",
              "        text-align: right;\n",
              "    }\n",
              "</style>\n",
              "<table border=\"1\" class=\"dataframe\">\n",
              "  <thead>\n",
              "    <tr style=\"text-align: right;\">\n",
              "      <th></th>\n",
              "      <th>10941428</th>\n",
              "      <th>10941427</th>\n",
              "      <th>10941426</th>\n",
              "      <th>10941425</th>\n",
              "      <th>10941422</th>\n",
              "      <th>10941421</th>\n",
              "      <th>10941419</th>\n",
              "      <th>10941417</th>\n",
              "      <th>10941416</th>\n",
              "      <th>10941415</th>\n",
              "    </tr>\n",
              "  </thead>\n",
              "  <tbody>\n",
              "    <tr>\n",
              "      <th>0</th>\n",
              "      <td>0</td>\n",
              "      <td>223</td>\n",
              "      <td>588</td>\n",
              "      <td>901</td>\n",
              "      <td>750</td>\n",
              "      <td>907</td>\n",
              "      <td>1169</td>\n",
              "      <td>1194</td>\n",
              "      <td>1331</td>\n",
              "      <td>748</td>\n",
              "    </tr>\n",
              "    <tr>\n",
              "      <th>1</th>\n",
              "      <td>0</td>\n",
              "      <td>223</td>\n",
              "      <td>588</td>\n",
              "      <td>901</td>\n",
              "      <td>750</td>\n",
              "      <td>907</td>\n",
              "      <td>1169</td>\n",
              "      <td>1194</td>\n",
              "      <td>1331</td>\n",
              "      <td>748</td>\n",
              "    </tr>\n",
              "    <tr>\n",
              "      <th>2</th>\n",
              "      <td>0</td>\n",
              "      <td>223</td>\n",
              "      <td>588</td>\n",
              "      <td>901</td>\n",
              "      <td>750</td>\n",
              "      <td>907</td>\n",
              "      <td>1169</td>\n",
              "      <td>1194</td>\n",
              "      <td>1331</td>\n",
              "      <td>748</td>\n",
              "    </tr>\n",
              "    <tr>\n",
              "      <th>3</th>\n",
              "      <td>0</td>\n",
              "      <td>223</td>\n",
              "      <td>588</td>\n",
              "      <td>901</td>\n",
              "      <td>750</td>\n",
              "      <td>907</td>\n",
              "      <td>1169</td>\n",
              "      <td>1194</td>\n",
              "      <td>1331</td>\n",
              "      <td>748</td>\n",
              "    </tr>\n",
              "    <tr>\n",
              "      <th>4</th>\n",
              "      <td>37</td>\n",
              "      <td>278</td>\n",
              "      <td>618</td>\n",
              "      <td>933</td>\n",
              "      <td>768</td>\n",
              "      <td>921</td>\n",
              "      <td>1182</td>\n",
              "      <td>1203</td>\n",
              "      <td>1345</td>\n",
              "      <td>757</td>\n",
              "    </tr>\n",
              "  </tbody>\n",
              "</table>\n",
              "</div>"
            ],
            "text/plain": [
              "  10941428 10941427 10941426 10941425  ... 10941419 10941417 10941416 10941415\n",
              "0        0      223      588      901  ...     1169     1194     1331      748\n",
              "1        0      223      588      901  ...     1169     1194     1331      748\n",
              "2        0      223      588      901  ...     1169     1194     1331      748\n",
              "3        0      223      588      901  ...     1169     1194     1331      748\n",
              "4       37      278      618      933  ...     1182     1203     1345      757\n",
              "\n",
              "[5 rows x 10 columns]"
            ]
          },
          "metadata": {
            "tags": []
          },
          "execution_count": 12
        }
      ]
    },
    {
      "cell_type": "code",
      "metadata": {
        "id": "UDnR9fw0zAzD"
      },
      "source": [
        "df_views.to_csv('drive/MyDrive/Colab Notebooks/sber/news/data/views.csv', index=False)"
      ],
      "execution_count": 13,
      "outputs": []
    }
  ]
}