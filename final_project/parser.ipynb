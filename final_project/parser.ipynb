{
  "nbformat": 4,
  "nbformat_minor": 0,
  "metadata": {
    "colab": {
      "name": "parser.ipynb",
      "provenance": [],
      "collapsed_sections": [],
      "toc_visible": true,
      "include_colab_link": true
    },
    "kernelspec": {
      "display_name": "Python 3",
      "language": "python",
      "name": "python3"
    },
    "language_info": {
      "codemirror_mode": {
        "name": "ipython",
        "version": 3
      },
      "file_extension": ".py",
      "mimetype": "text/x-python",
      "name": "python",
      "nbconvert_exporter": "python",
      "pygments_lexer": "ipython3",
      "version": "3.7.9"
    }
  },
  "cells": [
    {
      "cell_type": "markdown",
      "metadata": {
        "id": "view-in-github",
        "colab_type": "text"
      },
      "source": [
        "<a href=\"https://colab.research.google.com/github/mukaseevru/ds-school/blob/main/final_project/parser.ipynb\" target=\"_parent\"><img src=\"https://colab.research.google.com/assets/colab-badge.svg\" alt=\"Open In Colab\"/></a>"
      ]
    },
    {
      "cell_type": "markdown",
      "metadata": {
        "id": "7UDSw2EXnkJQ"
      },
      "source": [
        "# Подключение библиотек"
      ]
    },
    {
      "cell_type": "code",
      "metadata": {
        "id": "0ypU3Sp-YMut"
      },
      "source": [
        "# Загрузка необходимых модулей\n",
        "import numpy as np\n",
        "import pandas as pd\n",
        "import datetime as dt\n",
        "import requests\n",
        "import re\n",
        "from requests.adapters import HTTPAdapter\n",
        "from requests.packages.urllib3.util.retry import Retry\n",
        "from time import sleep\n",
        "from bs4 import BeautifulSoup"
      ],
      "execution_count": 1,
      "outputs": []
    },
    {
      "cell_type": "markdown",
      "metadata": {
        "id": "Y24yTAzyYMuo"
      },
      "source": [
        "# Настройки"
      ]
    },
    {
      "cell_type": "code",
      "metadata": {
        "id": "GpuEhqkrYMus"
      },
      "source": [
        "# Таймаут в секундах, если ошибка соединения\n",
        "timeout = 1\n",
        "# Debug mode\n",
        "debug = True\n",
        "# Настройки по сайтам\n",
        "sites = {}\n",
        "# Включить рассылку\n",
        "sites['send'] = True\n",
        "# banki.ru\n",
        "sites['banki'] = {}\n",
        "sites['banki']['on'] = True\n",
        "sites['banki']['first_page'] = 1\n",
        "sites['banki']['last_page'] = 50\n",
        "sites['banki']['send'] = True\n",
        "# vtb.ru\n",
        "sites['vtb'] = {}\n",
        "sites['vtb']['on'] = True\n",
        "sites['vtb']['first_page'] = 1\n",
        "sites['vtb']['last_page'] = 10\n",
        "sites['vtb']['send'] = True\n",
        "# alfabank.ru\n",
        "sites['alfa'] = {}\n",
        "sites['alfa']['on'] = True\n",
        "sites['alfa']['first_page'] = 2021\n",
        "sites['alfa']['last_page'] = 2022\n",
        "sites['alfa']['send'] = True"
      ],
      "execution_count": 2,
      "outputs": []
    },
    {
      "cell_type": "code",
      "metadata": {
        "colab": {
          "base_uri": "https://localhost:8080/"
        },
        "id": "b0Slx4hiyRBD",
        "outputId": "6b5261f0-4778-45ef-d85f-de3cbc0d501d"
      },
      "source": [
        "sites"
      ],
      "execution_count": 3,
      "outputs": [
        {
          "output_type": "execute_result",
          "data": {
            "text/plain": [
              "{'alfa': {'first_page': 2021, 'last_page': 2022, 'on': True, 'send': True},\n",
              " 'banki': {'first_page': 1, 'last_page': 50, 'on': True, 'send': True},\n",
              " 'send': True,\n",
              " 'vtb': {'first_page': 1, 'last_page': 10, 'on': True, 'send': True}}"
            ]
          },
          "metadata": {
            "tags": []
          },
          "execution_count": 3
        }
      ]
    },
    {
      "cell_type": "markdown",
      "metadata": {
        "id": "LoYi5upXnnjg"
      },
      "source": [
        "# Определение функций"
      ]
    },
    {
      "cell_type": "code",
      "metadata": {
        "id": "rKoqs3i3YMut"
      },
      "source": [
        "# Определение функции загрузки страницы\n",
        "def load_page(url):\n",
        "  '''\n",
        "  Загрузка веб страницы\n",
        "  '''\n",
        "  count = 0\n",
        "  while True:\n",
        "    try:\n",
        "      with requests.Session() as session:\n",
        "        session.headers['Connection'] = 'keep-alive'\n",
        "        session.headers['Cache-Control'] = 'max-age=0'\n",
        "        session.headers['Upgrade-Insecure-Requests'] = '1'\n",
        "        session.headers['User-Agent'] = 'Mozilla/5.0 (Windows NT 6.1) AppleWebKit/537.36 (KHTML, like Gecko) Chrome/53.0.2785.116 Safari/537.36 OPR/40.0.2308.81'\n",
        "        session.headers['Accept'] = 'text/html,application/xhtml+xml,application/xml;q=0.9,image/webp,*/*;q=0.8'\n",
        "        session.headers['DNT'] = '1'\n",
        "        session.headers['Accept-Encoding'] = 'gzip, deflate, lzma, sdch'\n",
        "        session.headers['Accept-Language'] = 'ru-RU,ru;q=0.8,en-US;q=0.6,en;q=0.4'\n",
        "        retry = Retry(connect=3, backoff_factor=0.5)\n",
        "        adapter = HTTPAdapter(max_retries=retry)\n",
        "        session.mount('http://', adapter)\n",
        "        session.mount('https://', adapter)\n",
        "        session.proxies = {\n",
        "            # 'http': '185.198.189.21:8080',\n",
        "            # 'https': '185.198.189.21:8080'\n",
        "            }\n",
        "        response = session.get(url)\n",
        "      if response.status_code != 200:\n",
        "        # log.info(\"Ошибка, код ответа: %s\", response.status)\n",
        "        print('Ошибка, код ответа: %s', response.status_code)\n",
        "        sleep(timeout)\n",
        "        count += 1\n",
        "        if count > 5:\n",
        "          return (-1)\n",
        "        # Попробуем снова на следующей итерации цикла\n",
        "        continue\n",
        "      # Если дошли до сюда, значит ошибок не было\n",
        "      return response\n",
        "    except ConnectionError:\n",
        "      # Выводим свое сообщение плюс стек трассы\n",
        "      # log.exception(\"Ошибка ConnectionError\")\n",
        "      print('Ошибка ConnectionError')\n",
        "      sleep(timeout)\n",
        "\n",
        "# Определение функции очистки текста от эмоджи\n",
        "def remove_emojis(text):\n",
        "  '''\n",
        "  Очистка текста от эмоджи\n",
        "  '''\n",
        "  emoj = re.compile(\"[\"\n",
        "      u\"\\U0001F600-\\U0001F64F\"  # emoticons\n",
        "      u\"\\U0001F300-\\U0001F5FF\"  # symbols & pictographs\n",
        "      u\"\\U0001F680-\\U0001F6FF\"  # transport & map symbols\n",
        "      u\"\\U0001F1E0-\\U0001F1FF\"  # flags (iOS)\n",
        "      u\"\\U00002500-\\U00002BEF\"  # chinese char\n",
        "      u\"\\U00002702-\\U000027B0\"\n",
        "      u\"\\U00002702-\\U000027B0\"\n",
        "      u\"\\U000024C2-\\U0001F251\"\n",
        "      u\"\\U0001f926-\\U0001f937\"\n",
        "      u\"\\U00010000-\\U0010ffff\"\n",
        "      u\"\\u2640-\\u2642\" \n",
        "      u\"\\u2600-\\u2B55\"\n",
        "      u\"\\u200d\"\n",
        "      u\"\\u23cf\"\n",
        "      u\"\\u23e9\"\n",
        "      u\"\\u231a\"\n",
        "      u\"\\ufe0f\"  # dingbats\n",
        "      u\"\\u3030\"\n",
        "                    \"]+\", re.UNICODE)\n",
        "  return re.sub(emoj, ' ', text)\n",
        "\n",
        "# Определение функции очистки текста от спецсимволов\n",
        "def clean_text(text):\n",
        "  '''\n",
        "  Очистка текста от спецсимволов\n",
        "  '''\n",
        "  if pd.isnull(text):\n",
        "    return np.nan\n",
        "  text = remove_emojis(text)\n",
        "  text = text.replace('\\n',' ')\\\n",
        "  .replace('\\r',' ')\\\n",
        "  .replace('\\t',' ')\\\n",
        "  .replace('\\u200b',' ')\\\n",
        "  .replace('•',' ')\\\n",
        "  .replace('<',' ')\\\n",
        "  .replace('>',' ')\\\n",
        "  .strip()\n",
        "  while '  ' in text:\n",
        "    text = text.replace('  ', ' ')\n",
        "  return text"
      ],
      "execution_count": 4,
      "outputs": []
    },
    {
      "cell_type": "markdown",
      "metadata": {
        "id": "OEijMhDV2xMW"
      },
      "source": [
        "# banki.ru"
      ]
    },
    {
      "cell_type": "markdown",
      "metadata": {
        "id": "B85V-KTZnrB4"
      },
      "source": [
        "## Загрузка имеющихся данных"
      ]
    },
    {
      "cell_type": "code",
      "metadata": {
        "colab": {
          "base_uri": "https://localhost:8080/"
        },
        "id": "xLQQGBw-Yvp4",
        "outputId": "c171598d-b03b-469b-a7ef-f74ddfb40a51"
      },
      "source": [
        "from google.colab import drive\n",
        "drive.mount('/content/drive')"
      ],
      "execution_count": 5,
      "outputs": [
        {
          "output_type": "stream",
          "text": [
            "Drive already mounted at /content/drive; to attempt to forcibly remount, call drive.mount(\"/content/drive\", force_remount=True).\n"
          ],
          "name": "stdout"
        }
      ]
    },
    {
      "cell_type": "code",
      "metadata": {
        "colab": {
          "base_uri": "https://localhost:8080/",
          "height": 37
        },
        "id": "bXUakrcYZcai",
        "outputId": "5f1f6ce6-901a-4fb8-af9b-b3dd59896a4a"
      },
      "source": [
        "import os\n",
        "os.getcwd()"
      ],
      "execution_count": 6,
      "outputs": [
        {
          "output_type": "execute_result",
          "data": {
            "application/vnd.google.colaboratory.intrinsic+json": {
              "type": "string"
            },
            "text/plain": [
              "'/content'"
            ]
          },
          "metadata": {
            "tags": []
          },
          "execution_count": 6
        }
      ]
    },
    {
      "cell_type": "markdown",
      "metadata": {
        "id": "eYBi1T0OQYPH"
      },
      "source": [
        "Чтобы каждый раз не выгружать все новости заново, загрузим уже скачанный ранее датасет"
      ]
    },
    {
      "cell_type": "code",
      "metadata": {
        "colab": {
          "base_uri": "https://localhost:8080/"
        },
        "id": "uTUCFtKmYMuu",
        "outputId": "44b30008-79c3-4f2f-cbfd-f4c46074e6ac"
      },
      "source": [
        "# скачать можно здесь: https://drive.google.com/file/d/1qRgl3SQ-DcFo7HK9WJgnQMq1npJDMOgN/view?usp=sharing\n",
        "banki = pd.read_csv('drive/MyDrive/Colab Notebooks/sber/news/data/banki.csv',\n",
        "                   dtype={'id': np.str,\n",
        "                          'title': np.str,\n",
        "                          'text': np.str,\n",
        "                          'url': np.str,\n",
        "                          'time': np.str,\n",
        "                          'views': np.int64,\n",
        "                          'comments': np.int64,\n",
        "                          'source': np.str\n",
        "                          })\n",
        "banki.time = pd.to_datetime(banki.time, format='%Y-%m-%d %H:%M:%S')\n",
        "banki.info()"
      ],
      "execution_count": 7,
      "outputs": [
        {
          "output_type": "stream",
          "text": [
            "<class 'pandas.core.frame.DataFrame'>\n",
            "RangeIndex: 113250 entries, 0 to 113249\n",
            "Data columns (total 8 columns):\n",
            " #   Column    Non-Null Count   Dtype         \n",
            "---  ------    --------------   -----         \n",
            " 0   id        113250 non-null  object        \n",
            " 1   title     113250 non-null  object        \n",
            " 2   text      113172 non-null  object        \n",
            " 3   url       113250 non-null  object        \n",
            " 4   time      113250 non-null  datetime64[ns]\n",
            " 5   views     113250 non-null  int64         \n",
            " 6   comments  113250 non-null  int64         \n",
            " 7   source    113211 non-null  object        \n",
            "dtypes: datetime64[ns](1), int64(2), object(5)\n",
            "memory usage: 6.9+ MB\n"
          ],
          "name": "stdout"
        }
      ]
    },
    {
      "cell_type": "code",
      "metadata": {
        "colab": {
          "base_uri": "https://localhost:8080/",
          "height": 374
        },
        "id": "0m8psoKhK76U",
        "outputId": "85becec8-a5fb-4703-9859-934edab06840"
      },
      "source": [
        "banki.tail()"
      ],
      "execution_count": 8,
      "outputs": [
        {
          "output_type": "execute_result",
          "data": {
            "text/html": [
              "<div>\n",
              "<style scoped>\n",
              "    .dataframe tbody tr th:only-of-type {\n",
              "        vertical-align: middle;\n",
              "    }\n",
              "\n",
              "    .dataframe tbody tr th {\n",
              "        vertical-align: top;\n",
              "    }\n",
              "\n",
              "    .dataframe thead th {\n",
              "        text-align: right;\n",
              "    }\n",
              "</style>\n",
              "<table border=\"1\" class=\"dataframe\">\n",
              "  <thead>\n",
              "    <tr style=\"text-align: right;\">\n",
              "      <th></th>\n",
              "      <th>id</th>\n",
              "      <th>title</th>\n",
              "      <th>text</th>\n",
              "      <th>url</th>\n",
              "      <th>time</th>\n",
              "      <th>views</th>\n",
              "      <th>comments</th>\n",
              "      <th>source</th>\n",
              "    </tr>\n",
              "  </thead>\n",
              "  <tbody>\n",
              "    <tr>\n",
              "      <th>113245</th>\n",
              "      <td>10938680</td>\n",
              "      <td>В Центробанке назвали долю сотрудников на «уда...</td>\n",
              "      <td>В дистанционном режиме работает примерно полов...</td>\n",
              "      <td>https://www.banki.ru/news/lenta/?id=10938680</td>\n",
              "      <td>2020-12-15 21:49:00</td>\n",
              "      <td>2666</td>\n",
              "      <td>0</td>\n",
              "      <td>Banki.ru</td>\n",
              "    </tr>\n",
              "    <tr>\n",
              "      <th>113246</th>\n",
              "      <td>10938679</td>\n",
              "      <td>АКРА присвоило Росэксимбанку рейтинг «AА(RU)»</td>\n",
              "      <td>Аналитическое кредитное рейтинговое агентство ...</td>\n",
              "      <td>https://www.banki.ru/news/lenta/?id=10938679</td>\n",
              "      <td>2020-12-15 21:42:00</td>\n",
              "      <td>2736</td>\n",
              "      <td>0</td>\n",
              "      <td>Banki.ru</td>\n",
              "    </tr>\n",
              "    <tr>\n",
              "      <th>113247</th>\n",
              "      <td>10938678</td>\n",
              "      <td>Тулин: постоянные регуляторные послабления — э...</td>\n",
              "      <td>Банковский сектор будет выходить из режима рег...</td>\n",
              "      <td>https://www.banki.ru/news/lenta/?id=10938678</td>\n",
              "      <td>2020-12-15 21:34:00</td>\n",
              "      <td>2279</td>\n",
              "      <td>1</td>\n",
              "      <td>Banki.ru</td>\n",
              "    </tr>\n",
              "    <tr>\n",
              "      <th>113248</th>\n",
              "      <td>10938677</td>\n",
              "      <td>Росстат назвал величину сокращения промпроизво...</td>\n",
              "      <td>Промышленное производство в России в ноябре со...</td>\n",
              "      <td>https://www.banki.ru/news/lenta/?id=10938677</td>\n",
              "      <td>2020-12-15 21:18:00</td>\n",
              "      <td>1801</td>\n",
              "      <td>0</td>\n",
              "      <td>Banki.ru</td>\n",
              "    </tr>\n",
              "    <tr>\n",
              "      <th>113249</th>\n",
              "      <td>10938676</td>\n",
              "      <td>Банки заключили с застройщиками кредитные дого...</td>\n",
              "      <td>Российские банки заключили с застройщиками кре...</td>\n",
              "      <td>https://www.banki.ru/news/lenta/?id=10938676</td>\n",
              "      <td>2020-12-15 20:45:00</td>\n",
              "      <td>1868</td>\n",
              "      <td>0</td>\n",
              "      <td>Banki.ru</td>\n",
              "    </tr>\n",
              "  </tbody>\n",
              "</table>\n",
              "</div>"
            ],
            "text/plain": [
              "              id  ...    source\n",
              "113245  10938680  ...  Banki.ru\n",
              "113246  10938679  ...  Banki.ru\n",
              "113247  10938678  ...  Banki.ru\n",
              "113248  10938677  ...  Banki.ru\n",
              "113249  10938676  ...  Banki.ru\n",
              "\n",
              "[5 rows x 8 columns]"
            ]
          },
          "metadata": {
            "tags": []
          },
          "execution_count": 8
        }
      ]
    },
    {
      "cell_type": "markdown",
      "metadata": {
        "id": "6tXc8PAYnwso"
      },
      "source": [
        "## Цикл парсинга"
      ]
    },
    {
      "cell_type": "markdown",
      "metadata": {
        "id": "YLVF_c1hQoVm"
      },
      "source": [
        "Создадим цикл, который будет заходить на сайт и скачивать информацию о новостях. Если новость новая, добавляем ее в датасет. Если новость уже есть в датасете, то обновим информацию о просмотрах"
      ]
    },
    {
      "cell_type": "code",
      "metadata": {
        "id": "oO38BspnYMuv",
        "scrolled": true,
        "colab": {
          "base_uri": "https://localhost:8080/"
        },
        "outputId": "4d83b675-2aa0-4ed7-d5d3-7eddb030a1dc"
      },
      "source": [
        "if sites['banki']['on']:\n",
        "  for page in range(sites['banki']['first_page'], sites['banki']['last_page']):\n",
        "    count_add_articles = 0\n",
        "    count_upd_views = 0\n",
        "    count_upd_comments = 0\n",
        "    count_upd_source = 0\n",
        "    url = 'https://www.banki.ru/news/lenta/page' + str(page)\n",
        "    response = load_page(url)\n",
        "    if response == -1:\n",
        "      continue\n",
        "    soup = BeautifulSoup(response.text, 'lxml')\n",
        "    articles = soup.find_all('ul', class_='text-list text-list--date text-list--date-inline')[0].find_all('li')\n",
        "    for article in articles:\n",
        "      # Кол-во просмотров\n",
        "      views = 0\n",
        "      # Кол-во комментариев\n",
        "      comments = 0\n",
        "      # Источник новости\n",
        "      source = ''\n",
        "      article_url = article.find('a', class_='text-list-link')\n",
        "      if article_url.get('href')[0] == 'h':\n",
        "          # print('Error url - {}'.format(article_url.get('href')))\n",
        "          continue\n",
        "      article_id = str(article_url.get('href').split('=')[1])\n",
        "      article_info = article.find_all('span', class_='news__info')\n",
        "      if len(article_info) > 1:\n",
        "        source = clean_text(article_info[0].text)\n",
        "        if article_info[1].text != '':\n",
        "          views = int(clean_text(article_info[1].text.split('\\n\\t')[1]))\n",
        "        if article_info[1].find('span', class_='link-with-icon__icon icon-font icon-bubble-16 icon-font--size_small'):\n",
        "          comments = int(clean_text(article_info[1].text.split('\\n\\t')[3]))\n",
        "      else:\n",
        "        if article_info[0].text != '':\n",
        "          views = int(clean_text(article_info[0].text.split('\\n\\t')[1]))\n",
        "        if article_info[0].find('span', class_='link-with-icon__icon icon-font icon-bubble-16 icon-font--size_small'):\n",
        "          comments = int(clean_text(article_info[0].text.split('\\n\\t')[3]))\n",
        "      if banki[banki['id'] == article_id].shape[0] == 0:\n",
        "        url = 'https://www.banki.ru' + article_url.get('href')\n",
        "        response = load_page(url)\n",
        "        if response == -1:\n",
        "          continue\n",
        "        soup = BeautifulSoup(response.text, 'lxml')\n",
        "        # Title\n",
        "        title = soup.find('h1', class_='header-h0')\n",
        "        # Text\n",
        "        text = soup.find('article', class_='article-text plain-text markup-inside lenta')\n",
        "        # Time\n",
        "        time = soup.find('time')\n",
        "        banki = banki.append({'id': str(article_id),\n",
        "                              'title': str(clean_text(title.text)),\n",
        "                              'text': str(clean_text(text.text)),\n",
        "                              'url': str(url),\n",
        "                              'time': pd.to_datetime(time.text, format='%d.%m.%Y %H:%M'),\n",
        "                              'views': int(views),\n",
        "                              'comments': int(comments),\n",
        "                              'source': str(source)}, ignore_index=True)\n",
        "        count_add_articles += 1\n",
        "      else:\n",
        "        if banki.loc[banki['id'] == article_id, 'views'].values[0] != views:\n",
        "          banki.loc[banki['id'] == article_id, 'views'] = views\n",
        "          count_upd_views += 1\n",
        "        if banki.loc[banki['id'] == article_id, 'comments'].values[0] != comments:\n",
        "          banki.loc[banki['id'] == article_id, 'comments'] = comments\n",
        "          count_upd_comments += 1\n",
        "        if banki.loc[banki['id'] == article_id, 'source'].values[0] != source:\n",
        "          banki.loc[banki['id'] == article_id, 'source'] = source\n",
        "          count_upd_source += 1\n",
        "    sites['banki']['first_page'] = page\n",
        "    if debug:\n",
        "      print('Page {}: ADD {}, UPD {} views, {} comments, {} source'.format(page, count_add_articles, count_upd_views, count_upd_comments, count_upd_source))"
      ],
      "execution_count": 9,
      "outputs": [
        {
          "output_type": "stream",
          "text": [
            "Page 1: ADD 0, UPD 9 views, 1 comments, 0 source\n",
            "Page 2: ADD 0, UPD 32 views, 0 comments, 0 source\n",
            "Page 3: ADD 0, UPD 43 views, 0 comments, 0 source\n",
            "Page 4: ADD 0, UPD 48 views, 0 comments, 0 source\n",
            "Page 5: ADD 0, UPD 2 views, 0 comments, 0 source\n",
            "Page 6: ADD 0, UPD 10 views, 0 comments, 0 source\n",
            "Page 7: ADD 0, UPD 15 views, 0 comments, 1 source\n",
            "Page 8: ADD 0, UPD 0 views, 0 comments, 0 source\n",
            "Page 9: ADD 0, UPD 0 views, 0 comments, 0 source\n",
            "Page 10: ADD 0, UPD 0 views, 0 comments, 0 source\n",
            "Page 11: ADD 0, UPD 0 views, 0 comments, 0 source\n",
            "Page 12: ADD 0, UPD 0 views, 0 comments, 0 source\n",
            "Page 13: ADD 0, UPD 0 views, 0 comments, 0 source\n",
            "Page 14: ADD 0, UPD 0 views, 0 comments, 0 source\n",
            "Page 15: ADD 0, UPD 0 views, 0 comments, 0 source\n",
            "Page 16: ADD 0, UPD 0 views, 0 comments, 0 source\n",
            "Page 17: ADD 0, UPD 0 views, 0 comments, 0 source\n",
            "Page 18: ADD 0, UPD 0 views, 0 comments, 0 source\n",
            "Page 19: ADD 0, UPD 0 views, 0 comments, 0 source\n",
            "Page 20: ADD 0, UPD 0 views, 0 comments, 0 source\n",
            "Page 21: ADD 0, UPD 0 views, 0 comments, 0 source\n",
            "Page 22: ADD 0, UPD 0 views, 0 comments, 0 source\n",
            "Page 23: ADD 0, UPD 0 views, 0 comments, 0 source\n",
            "Page 24: ADD 0, UPD 0 views, 0 comments, 0 source\n",
            "Page 25: ADD 0, UPD 0 views, 0 comments, 0 source\n",
            "Page 26: ADD 0, UPD 0 views, 0 comments, 0 source\n",
            "Page 27: ADD 0, UPD 0 views, 0 comments, 0 source\n",
            "Page 28: ADD 0, UPD 0 views, 0 comments, 0 source\n",
            "Page 29: ADD 0, UPD 0 views, 0 comments, 0 source\n",
            "Page 30: ADD 0, UPD 0 views, 0 comments, 0 source\n",
            "Page 31: ADD 0, UPD 0 views, 0 comments, 0 source\n",
            "Page 32: ADD 0, UPD 0 views, 0 comments, 0 source\n",
            "Page 33: ADD 0, UPD 0 views, 0 comments, 0 source\n",
            "Page 34: ADD 0, UPD 0 views, 0 comments, 0 source\n",
            "Page 35: ADD 0, UPD 0 views, 0 comments, 0 source\n",
            "Page 36: ADD 0, UPD 0 views, 0 comments, 0 source\n",
            "Page 37: ADD 0, UPD 0 views, 0 comments, 0 source\n",
            "Page 38: ADD 0, UPD 0 views, 0 comments, 0 source\n",
            "Page 39: ADD 0, UPD 0 views, 0 comments, 0 source\n",
            "Page 40: ADD 0, UPD 0 views, 0 comments, 0 source\n",
            "Page 41: ADD 0, UPD 0 views, 0 comments, 0 source\n",
            "Page 42: ADD 0, UPD 0 views, 0 comments, 0 source\n",
            "Page 43: ADD 0, UPD 0 views, 0 comments, 0 source\n",
            "Page 44: ADD 0, UPD 0 views, 0 comments, 0 source\n",
            "Page 45: ADD 0, UPD 0 views, 0 comments, 0 source\n",
            "Page 46: ADD 0, UPD 0 views, 0 comments, 0 source\n",
            "Page 47: ADD 0, UPD 0 views, 0 comments, 0 source\n",
            "Page 48: ADD 0, UPD 0 views, 0 comments, 0 source\n",
            "Page 49: ADD 0, UPD 0 views, 0 comments, 0 source\n"
          ],
          "name": "stdout"
        }
      ]
    },
    {
      "cell_type": "code",
      "metadata": {
        "id": "A1CmnvYtYMuw",
        "scrolled": true,
        "colab": {
          "base_uri": "https://localhost:8080/"
        },
        "outputId": "0f9cfe5c-8beb-4718-cf31-5977cb506ba1"
      },
      "source": [
        "banki.info()"
      ],
      "execution_count": 10,
      "outputs": [
        {
          "output_type": "stream",
          "text": [
            "<class 'pandas.core.frame.DataFrame'>\n",
            "RangeIndex: 113250 entries, 0 to 113249\n",
            "Data columns (total 8 columns):\n",
            " #   Column    Non-Null Count   Dtype         \n",
            "---  ------    --------------   -----         \n",
            " 0   id        113250 non-null  object        \n",
            " 1   title     113250 non-null  object        \n",
            " 2   text      113172 non-null  object        \n",
            " 3   url       113250 non-null  object        \n",
            " 4   time      113250 non-null  datetime64[ns]\n",
            " 5   views     113250 non-null  int64         \n",
            " 6   comments  113250 non-null  int64         \n",
            " 7   source    113212 non-null  object        \n",
            "dtypes: datetime64[ns](1), int64(2), object(5)\n",
            "memory usage: 6.9+ MB\n"
          ],
          "name": "stdout"
        }
      ]
    },
    {
      "cell_type": "markdown",
      "metadata": {
        "id": "AFJqL-uzYMux"
      },
      "source": [
        "## Обработка дубликатов"
      ]
    },
    {
      "cell_type": "markdown",
      "metadata": {
        "id": "q87zNxT9RDe_"
      },
      "source": [
        "В цикле есть проверка на повтор новостей, но сделаем дополнительную проверку на случай изменения id новости"
      ]
    },
    {
      "cell_type": "code",
      "metadata": {
        "id": "UZ9lIcXXYMux",
        "colab": {
          "base_uri": "https://localhost:8080/"
        },
        "outputId": "9135e2b4-ed55-447a-d546-b5cf665d7574"
      },
      "source": [
        "banki.id.nunique()"
      ],
      "execution_count": 11,
      "outputs": [
        {
          "output_type": "execute_result",
          "data": {
            "text/plain": [
              "113250"
            ]
          },
          "metadata": {
            "tags": []
          },
          "execution_count": 11
        }
      ]
    },
    {
      "cell_type": "code",
      "metadata": {
        "id": "gExPIXxTYMuy",
        "colab": {
          "base_uri": "https://localhost:8080/"
        },
        "outputId": "8f52fd73-394c-48ba-f6ac-47b5ef371c5a"
      },
      "source": [
        "banki.drop_duplicates(subset=['id'], inplace=True, keep='last')\n",
        "banki.shape"
      ],
      "execution_count": 12,
      "outputs": [
        {
          "output_type": "execute_result",
          "data": {
            "text/plain": [
              "(113250, 8)"
            ]
          },
          "metadata": {
            "tags": []
          },
          "execution_count": 12
        }
      ]
    },
    {
      "cell_type": "code",
      "metadata": {
        "id": "6ljrKvxdYMuy",
        "colab": {
          "base_uri": "https://localhost:8080/"
        },
        "outputId": "95949385-956f-41c5-96c9-cb23933ca264"
      },
      "source": [
        "banki[banki.duplicated()].shape"
      ],
      "execution_count": 13,
      "outputs": [
        {
          "output_type": "execute_result",
          "data": {
            "text/plain": [
              "(0, 8)"
            ]
          },
          "metadata": {
            "tags": []
          },
          "execution_count": 13
        }
      ]
    },
    {
      "cell_type": "markdown",
      "metadata": {
        "id": "gVXjpOA-YMuz"
      },
      "source": [
        "## Выгрузка в csv"
      ]
    },
    {
      "cell_type": "markdown",
      "metadata": {
        "id": "k0FqwhgMRS1-"
      },
      "source": [
        "Выгрузим весь датасет в файл, чтобы иметь возможность его загрузить в начале алгоритма и из других скриптов"
      ]
    },
    {
      "cell_type": "code",
      "metadata": {
        "id": "-kzKImsHYMu0"
      },
      "source": [
        "banki.to_csv('drive/MyDrive/Colab Notebooks/sber/news/data/banki.csv', index=False)"
      ],
      "execution_count": 14,
      "outputs": []
    },
    {
      "cell_type": "code",
      "metadata": {
        "id": "_C175H2QV-BS",
        "colab": {
          "base_uri": "https://localhost:8080/",
          "height": 374
        },
        "outputId": "534def2b-656e-4a26-f2f2-5eeeb86aef0a"
      },
      "source": [
        "banki.head()"
      ],
      "execution_count": 15,
      "outputs": [
        {
          "output_type": "execute_result",
          "data": {
            "text/html": [
              "<div>\n",
              "<style scoped>\n",
              "    .dataframe tbody tr th:only-of-type {\n",
              "        vertical-align: middle;\n",
              "    }\n",
              "\n",
              "    .dataframe tbody tr th {\n",
              "        vertical-align: top;\n",
              "    }\n",
              "\n",
              "    .dataframe thead th {\n",
              "        text-align: right;\n",
              "    }\n",
              "</style>\n",
              "<table border=\"1\" class=\"dataframe\">\n",
              "  <thead>\n",
              "    <tr style=\"text-align: right;\">\n",
              "      <th></th>\n",
              "      <th>id</th>\n",
              "      <th>title</th>\n",
              "      <th>text</th>\n",
              "      <th>url</th>\n",
              "      <th>time</th>\n",
              "      <th>views</th>\n",
              "      <th>comments</th>\n",
              "      <th>source</th>\n",
              "    </tr>\n",
              "  </thead>\n",
              "  <tbody>\n",
              "    <tr>\n",
              "      <th>0</th>\n",
              "      <td>10940845</td>\n",
              "      <td>Эксперты рассказали, каким образом мошенникам ...</td>\n",
              "      <td>На сегодняшний день телекоммуникационные систе...</td>\n",
              "      <td>https://www.banki.ru/news/lenta/?id=10940845</td>\n",
              "      <td>2021-02-02 09:09:00</td>\n",
              "      <td>4268</td>\n",
              "      <td>0</td>\n",
              "      <td>Известия</td>\n",
              "    </tr>\n",
              "    <tr>\n",
              "      <th>1</th>\n",
              "      <td>10940844</td>\n",
              "      <td>Почти половина работников в России заявили о п...</td>\n",
              "      <td>События 2020 года пагубно сказались на мотивац...</td>\n",
              "      <td>https://www.banki.ru/news/lenta/?id=10940844</td>\n",
              "      <td>2021-02-02 08:58:00</td>\n",
              "      <td>2301</td>\n",
              "      <td>3</td>\n",
              "      <td>РБК</td>\n",
              "    </tr>\n",
              "    <tr>\n",
              "      <th>2</th>\n",
              "      <td>10940817</td>\n",
              "      <td>Банк « Уралсиб» сообщил о кадровых перестановках</td>\n",
              "      <td>Станислав Тывес, заместитель председателя прав...</td>\n",
              "      <td>https://www.banki.ru/news/lenta/?id=10940817</td>\n",
              "      <td>2021-02-02 08:54:00</td>\n",
              "      <td>3239</td>\n",
              "      <td>0</td>\n",
              "      <td>Партнёрский материал</td>\n",
              "    </tr>\n",
              "    <tr>\n",
              "      <th>3</th>\n",
              "      <td>10940847</td>\n",
              "      <td>Опрос: москвичи не хотят возвращаться в офисы</td>\n",
              "      <td>Более половины московских сотрудников, перевед...</td>\n",
              "      <td>https://www.banki.ru/news/lenta/?id=10940847</td>\n",
              "      <td>2021-02-02 08:49:00</td>\n",
              "      <td>2234</td>\n",
              "      <td>4</td>\n",
              "      <td>Banki.ru</td>\n",
              "    </tr>\n",
              "    <tr>\n",
              "      <th>4</th>\n",
              "      <td>10940843</td>\n",
              "      <td>В России число преступлений с банковскими карт...</td>\n",
              "      <td>В России в 2020 году количество преступлений с...</td>\n",
              "      <td>https://www.banki.ru/news/lenta/?id=10940843</td>\n",
              "      <td>2021-02-02 08:48:00</td>\n",
              "      <td>2631</td>\n",
              "      <td>2</td>\n",
              "      <td>Известия</td>\n",
              "    </tr>\n",
              "  </tbody>\n",
              "</table>\n",
              "</div>"
            ],
            "text/plain": [
              "         id  ...                source\n",
              "0  10940845  ...              Известия\n",
              "1  10940844  ...                   РБК\n",
              "2  10940817  ...  Партнёрский материал\n",
              "3  10940847  ...              Banki.ru\n",
              "4  10940843  ...              Известия\n",
              "\n",
              "[5 rows x 8 columns]"
            ]
          },
          "metadata": {
            "tags": []
          },
          "execution_count": 15
        }
      ]
    },
    {
      "cell_type": "markdown",
      "metadata": {
        "id": "RjfbCIpUJ-7q"
      },
      "source": [
        "Самая просматриваемая статья"
      ]
    },
    {
      "cell_type": "code",
      "metadata": {
        "id": "1I3GNBl5ThEn",
        "colab": {
          "base_uri": "https://localhost:8080/",
          "height": 114
        },
        "outputId": "df6daac8-176c-4786-8a33-91554bae5913"
      },
      "source": [
        "banki[banki.views == banki.views.max()]"
      ],
      "execution_count": 16,
      "outputs": [
        {
          "output_type": "execute_result",
          "data": {
            "text/html": [
              "<div>\n",
              "<style scoped>\n",
              "    .dataframe tbody tr th:only-of-type {\n",
              "        vertical-align: middle;\n",
              "    }\n",
              "\n",
              "    .dataframe tbody tr th {\n",
              "        vertical-align: top;\n",
              "    }\n",
              "\n",
              "    .dataframe thead th {\n",
              "        text-align: right;\n",
              "    }\n",
              "</style>\n",
              "<table border=\"1\" class=\"dataframe\">\n",
              "  <thead>\n",
              "    <tr style=\"text-align: right;\">\n",
              "      <th></th>\n",
              "      <th>id</th>\n",
              "      <th>title</th>\n",
              "      <th>text</th>\n",
              "      <th>url</th>\n",
              "      <th>time</th>\n",
              "      <th>views</th>\n",
              "      <th>comments</th>\n",
              "      <th>source</th>\n",
              "    </tr>\n",
              "  </thead>\n",
              "  <tbody>\n",
              "    <tr>\n",
              "      <th>98142</th>\n",
              "      <td>8421613</td>\n",
              "      <td>Арестован банкир, подозреваемый в организации ...</td>\n",
              "      <td>Сотрудники правоохранительных органов задержал...</td>\n",
              "      <td>https://www.banki.ru/news/lenta/?id=8421613</td>\n",
              "      <td>2015-11-03 09:09:00</td>\n",
              "      <td>1674117</td>\n",
              "      <td>29</td>\n",
              "      <td>Коммерсант</td>\n",
              "    </tr>\n",
              "  </tbody>\n",
              "</table>\n",
              "</div>"
            ],
            "text/plain": [
              "            id  ...      source\n",
              "98142  8421613  ...  Коммерсант\n",
              "\n",
              "[1 rows x 8 columns]"
            ]
          },
          "metadata": {
            "tags": []
          },
          "execution_count": 16
        }
      ]
    },
    {
      "cell_type": "markdown",
      "metadata": {
        "id": "rh8yKJyql9p5"
      },
      "source": [
        "## Очистка (убрать комментарии)"
      ]
    },
    {
      "cell_type": "code",
      "metadata": {
        "id": "-4a6HJ9RqLFR"
      },
      "source": [
        "# banki['title'] = banki.title.apply(clean_text)\r\n",
        "# banki['text'] = banki.text.apply(clean_text)"
      ],
      "execution_count": 17,
      "outputs": []
    },
    {
      "cell_type": "markdown",
      "metadata": {
        "id": "crMzCXqU1G4C"
      },
      "source": [
        "# vtb.ru"
      ]
    },
    {
      "cell_type": "markdown",
      "metadata": {
        "id": "U7d0ofdbRre5"
      },
      "source": [
        "Повторим вышереализованный алгоритм для сайта ВТБ"
      ]
    },
    {
      "cell_type": "markdown",
      "metadata": {
        "id": "eVjFZj662-6A"
      },
      "source": [
        "## Загрузка имеющихся данных"
      ]
    },
    {
      "cell_type": "code",
      "metadata": {
        "id": "gBZrI-h10JsG",
        "colab": {
          "base_uri": "https://localhost:8080/"
        },
        "outputId": "9bf7d005-6ec6-45eb-f434-e74e83d8c628"
      },
      "source": [
        "# скачать можно здесь: https://drive.google.com/file/d/1pNykrWil_aDGVfpHcz1fXDN-4gglXdf3/view?usp=sharing\r\n",
        "vtb = pd.read_csv('drive/MyDrive/Colab Notebooks/sber/news/data/vtb.csv',\r\n",
        "                   dtype={'id': np.str,\r\n",
        "                          'title': np.str,\r\n",
        "                          'text': np.str,\r\n",
        "                          'url': np.str,\r\n",
        "                          'time': np.str,\r\n",
        "                          'views': np.int64,\r\n",
        "                          'comments': np.int64,\r\n",
        "                          'source': np.str\r\n",
        "                          })\r\n",
        "vtb.time = pd.to_datetime(vtb.time, format='%Y-%m-%d %H:%M:%S')\r\n",
        "vtb.info()"
      ],
      "execution_count": 18,
      "outputs": [
        {
          "output_type": "stream",
          "text": [
            "<class 'pandas.core.frame.DataFrame'>\n",
            "RangeIndex: 2891 entries, 0 to 2890\n",
            "Data columns (total 8 columns):\n",
            " #   Column    Non-Null Count  Dtype         \n",
            "---  ------    --------------  -----         \n",
            " 0   id        2891 non-null   object        \n",
            " 1   title     2889 non-null   object        \n",
            " 2   text      2889 non-null   object        \n",
            " 3   url       2891 non-null   object        \n",
            " 4   time      2891 non-null   datetime64[ns]\n",
            " 5   views     2891 non-null   int64         \n",
            " 6   comments  2891 non-null   int64         \n",
            " 7   source    2891 non-null   object        \n",
            "dtypes: datetime64[ns](1), int64(2), object(5)\n",
            "memory usage: 180.8+ KB\n"
          ],
          "name": "stdout"
        }
      ]
    },
    {
      "cell_type": "markdown",
      "metadata": {
        "id": "vpQhQDnZ3CKs"
      },
      "source": [
        "## Цикл парсинга"
      ]
    },
    {
      "cell_type": "markdown",
      "metadata": {
        "id": "_u-NQuDPRjb1"
      },
      "source": [
        "Создадим цикл для парсинга новостей с сайта ВТБ"
      ]
    },
    {
      "cell_type": "code",
      "metadata": {
        "id": "q42eYWvyj0q_",
        "colab": {
          "base_uri": "https://localhost:8080/"
        },
        "outputId": "bbf8af15-5aed-4f30-95cf-7ebcc6fcd7c5"
      },
      "source": [
        "if sites['vtb']['on']:\r\n",
        "  for page in range(sites['vtb']['first_page'], sites['vtb']['last_page']):\r\n",
        "    count_add_articles = 0\r\n",
        "    url = 'https://vtb.ru/o-banke/press-centr/novosti-i-press-relizy/?page=' + str(page)\r\n",
        "    response = load_page(url)\r\n",
        "    if response == -1:\r\n",
        "      continue\r\n",
        "    soup = BeautifulSoup(response.text, 'lxml')\r\n",
        "    articles = soup.find_all('div', class_='news-grid__content__item')\r\n",
        "    for article in articles:\r\n",
        "      # Кол-во просмотров\r\n",
        "      views = 0\r\n",
        "      # Кол-во комментариев\r\n",
        "      comments = 0\r\n",
        "      # Источник новости\r\n",
        "      source = 'vtb.ru'\r\n",
        "      article_url = article.find('a').get('href')\r\n",
        "      if article_url == '':\r\n",
        "        continue\r\n",
        "      article_id = str(article_url.split('/')[6])\r\n",
        "      if vtb[vtb['id'] == article_id].shape[0] == 0:\r\n",
        "        url = 'https://vtb.ru' + article_url\r\n",
        "        response = load_page(url)\r\n",
        "        if response == -1:\r\n",
        "          continue\r\n",
        "        soup = BeautifulSoup(response.text, 'lxml')\r\n",
        "        # Title\r\n",
        "        title = soup.find('section', class_='common-header').find('h1').text\r\n",
        "        # Text\r\n",
        "        text = soup.find('div', class_='news-item__main common-text').text\r\n",
        "        # Time\r\n",
        "        time = soup.find('div', class_='date-block').text.replace('дата','').replace('\\n','')\r\n",
        "        vtb = vtb.append({'id': str(article_id),\r\n",
        "                        'title': str(clean_text(title)),\r\n",
        "                        'text': str(clean_text(text)),\r\n",
        "                        'url': str(url),\r\n",
        "                        'time': pd.to_datetime(time, format='%d.%m.%Y'),\r\n",
        "                        'views': int(views),\r\n",
        "                        'comments': int(comments),\r\n",
        "                        'source': str(source)}, ignore_index=True)\r\n",
        "        count_add_articles += 1\r\n",
        "    sites['vtb']['first_page'] = page\r\n",
        "    if debug:\r\n",
        "      print('Page {}: ADD {}'.format(page, count_add_articles))"
      ],
      "execution_count": 19,
      "outputs": [
        {
          "output_type": "stream",
          "text": [
            "Page 1: ADD 7\n",
            "Page 2: ADD 8\n",
            "Page 3: ADD 3\n",
            "Page 4: ADD 0\n",
            "Page 5: ADD 0\n",
            "Page 6: ADD 0\n",
            "Page 7: ADD 0\n",
            "Page 8: ADD 0\n",
            "Page 9: ADD 0\n"
          ],
          "name": "stdout"
        }
      ]
    },
    {
      "cell_type": "code",
      "metadata": {
        "id": "j5eYPeXJ3NsK",
        "colab": {
          "base_uri": "https://localhost:8080/"
        },
        "outputId": "ff4850ec-c5cf-4d3e-dc75-b57e0badaa09"
      },
      "source": [
        "vtb.info()"
      ],
      "execution_count": 20,
      "outputs": [
        {
          "output_type": "stream",
          "text": [
            "<class 'pandas.core.frame.DataFrame'>\n",
            "RangeIndex: 2909 entries, 0 to 2908\n",
            "Data columns (total 8 columns):\n",
            " #   Column    Non-Null Count  Dtype         \n",
            "---  ------    --------------  -----         \n",
            " 0   id        2909 non-null   object        \n",
            " 1   title     2907 non-null   object        \n",
            " 2   text      2907 non-null   object        \n",
            " 3   url       2909 non-null   object        \n",
            " 4   time      2909 non-null   datetime64[ns]\n",
            " 5   views     2909 non-null   int64         \n",
            " 6   comments  2909 non-null   int64         \n",
            " 7   source    2909 non-null   object        \n",
            "dtypes: datetime64[ns](1), int64(2), object(5)\n",
            "memory usage: 181.9+ KB\n"
          ],
          "name": "stdout"
        }
      ]
    },
    {
      "cell_type": "markdown",
      "metadata": {
        "id": "CxhWszoh3Jlo"
      },
      "source": [
        "## Обработка дубликатов"
      ]
    },
    {
      "cell_type": "code",
      "metadata": {
        "id": "-86uIUKe073c",
        "colab": {
          "base_uri": "https://localhost:8080/"
        },
        "outputId": "0a2966e6-08da-49e5-c77b-8298fb40584f"
      },
      "source": [
        "vtb.id.nunique()"
      ],
      "execution_count": 21,
      "outputs": [
        {
          "output_type": "execute_result",
          "data": {
            "text/plain": [
              "2909"
            ]
          },
          "metadata": {
            "tags": []
          },
          "execution_count": 21
        }
      ]
    },
    {
      "cell_type": "code",
      "metadata": {
        "id": "lwmyLsGZ3T62",
        "colab": {
          "base_uri": "https://localhost:8080/"
        },
        "outputId": "95b354a9-e0c1-48cd-a347-c6195c9e48c7"
      },
      "source": [
        "vtb.drop_duplicates(subset=['id'], inplace=True, keep='last')\r\n",
        "vtb.shape"
      ],
      "execution_count": 22,
      "outputs": [
        {
          "output_type": "execute_result",
          "data": {
            "text/plain": [
              "(2909, 8)"
            ]
          },
          "metadata": {
            "tags": []
          },
          "execution_count": 22
        }
      ]
    },
    {
      "cell_type": "code",
      "metadata": {
        "id": "uW9wPMZm3eYN",
        "colab": {
          "base_uri": "https://localhost:8080/"
        },
        "outputId": "7c311e20-44e5-4833-cbee-dbc6715a9fb5"
      },
      "source": [
        "vtb[vtb.duplicated()].shape"
      ],
      "execution_count": 23,
      "outputs": [
        {
          "output_type": "execute_result",
          "data": {
            "text/plain": [
              "(0, 8)"
            ]
          },
          "metadata": {
            "tags": []
          },
          "execution_count": 23
        }
      ]
    },
    {
      "cell_type": "markdown",
      "metadata": {
        "id": "u_yUKvDi3jEG"
      },
      "source": [
        "## Выгрузка в csv"
      ]
    },
    {
      "cell_type": "code",
      "metadata": {
        "id": "3gnpQhrn0_zA"
      },
      "source": [
        "vtb.to_csv('drive/MyDrive/Colab Notebooks/sber/news/data/vtb.csv', index=False)"
      ],
      "execution_count": 24,
      "outputs": []
    },
    {
      "cell_type": "code",
      "metadata": {
        "id": "PG-t-dAQ2DeK",
        "colab": {
          "base_uri": "https://localhost:8080/",
          "height": 374
        },
        "outputId": "63f2778f-b6b7-4524-959e-ff309ec3e083"
      },
      "source": [
        "vtb.tail()"
      ],
      "execution_count": 25,
      "outputs": [
        {
          "output_type": "execute_result",
          "data": {
            "text/html": [
              "<div>\n",
              "<style scoped>\n",
              "    .dataframe tbody tr th:only-of-type {\n",
              "        vertical-align: middle;\n",
              "    }\n",
              "\n",
              "    .dataframe tbody tr th {\n",
              "        vertical-align: top;\n",
              "    }\n",
              "\n",
              "    .dataframe thead th {\n",
              "        text-align: right;\n",
              "    }\n",
              "</style>\n",
              "<table border=\"1\" class=\"dataframe\">\n",
              "  <thead>\n",
              "    <tr style=\"text-align: right;\">\n",
              "      <th></th>\n",
              "      <th>id</th>\n",
              "      <th>title</th>\n",
              "      <th>text</th>\n",
              "      <th>url</th>\n",
              "      <th>time</th>\n",
              "      <th>views</th>\n",
              "      <th>comments</th>\n",
              "      <th>source</th>\n",
              "    </tr>\n",
              "  </thead>\n",
              "  <tbody>\n",
              "    <tr>\n",
              "      <th>2904</th>\n",
              "      <td>2021-02-08-vtb-zapustil-chat-bot-v-telegram</td>\n",
              "      <td>ВТБ запустил чат-бот в Telegram</td>\n",
              "      <td>ВТБ представил клиентам новый чат-бот на платф...</td>\n",
              "      <td>https://vtb.ru/o-banke/press-centr/novosti-i-p...</td>\n",
              "      <td>2021-02-08</td>\n",
              "      <td>0</td>\n",
              "      <td>0</td>\n",
              "      <td>vtb.ru</td>\n",
              "    </tr>\n",
              "    <tr>\n",
              "      <th>2905</th>\n",
              "      <td>2021-02-05-vtb-preduprezhdaet-o-novom-vide-mos...</td>\n",
              "      <td>ВТБ предупреждает о новом виде мошенничества в...</td>\n",
              "      <td>В последнее время ВТБ фиксирует рост активност...</td>\n",
              "      <td>https://vtb.ru/o-banke/press-centr/novosti-i-p...</td>\n",
              "      <td>2021-02-05</td>\n",
              "      <td>0</td>\n",
              "      <td>0</td>\n",
              "      <td>vtb.ru</td>\n",
              "    </tr>\n",
              "    <tr>\n",
              "      <th>2906</th>\n",
              "      <td>2021-02-05-fond-obligatsiy-vtb-stal-liderom-po...</td>\n",
              "      <td>Фонд облигаций ВТБ стал лидером по доходности ...</td>\n",
              "      <td>ВТБ Фонд Казначейский в январе показал лучшую ...</td>\n",
              "      <td>https://vtb.ru/o-banke/press-centr/novosti-i-p...</td>\n",
              "      <td>2021-02-05</td>\n",
              "      <td>0</td>\n",
              "      <td>0</td>\n",
              "      <td>vtb.ru</td>\n",
              "    </tr>\n",
              "    <tr>\n",
              "      <th>2907</th>\n",
              "      <td>2021-02-05-vtb-v-yanvare-rossiyane-na-chetvert...</td>\n",
              "      <td>ВТБ: в январе россияне на четверть увеличили с...</td>\n",
              "      <td>Траты россиян на розничные товары и услуги в я...</td>\n",
              "      <td>https://vtb.ru/o-banke/press-centr/novosti-i-p...</td>\n",
              "      <td>2021-02-05</td>\n",
              "      <td>0</td>\n",
              "      <td>0</td>\n",
              "      <td>vtb.ru</td>\n",
              "    </tr>\n",
              "    <tr>\n",
              "      <th>2908</th>\n",
              "      <td>2021-02-01-vtb-nachinaet-prodazhi-subordinirov...</td>\n",
              "      <td>ВТБ начинает продажи субординированных облигац...</td>\n",
              "      <td>С 8 февраля 2021 года стартуют продажи бессроч...</td>\n",
              "      <td>https://vtb.ru/o-banke/press-centr/novosti-i-p...</td>\n",
              "      <td>2021-02-05</td>\n",
              "      <td>0</td>\n",
              "      <td>0</td>\n",
              "      <td>vtb.ru</td>\n",
              "    </tr>\n",
              "  </tbody>\n",
              "</table>\n",
              "</div>"
            ],
            "text/plain": [
              "                                                     id  ...  source\n",
              "2904        2021-02-08-vtb-zapustil-chat-bot-v-telegram  ...  vtb.ru\n",
              "2905  2021-02-05-vtb-preduprezhdaet-o-novom-vide-mos...  ...  vtb.ru\n",
              "2906  2021-02-05-fond-obligatsiy-vtb-stal-liderom-po...  ...  vtb.ru\n",
              "2907  2021-02-05-vtb-v-yanvare-rossiyane-na-chetvert...  ...  vtb.ru\n",
              "2908  2021-02-01-vtb-nachinaet-prodazhi-subordinirov...  ...  vtb.ru\n",
              "\n",
              "[5 rows x 8 columns]"
            ]
          },
          "metadata": {
            "tags": []
          },
          "execution_count": 25
        }
      ]
    },
    {
      "cell_type": "markdown",
      "metadata": {
        "id": "1YRLvOjx-8ap"
      },
      "source": [
        "## Очистка (убрать комментарии)"
      ]
    },
    {
      "cell_type": "code",
      "metadata": {
        "id": "EZfpKa5z-86r"
      },
      "source": [
        "# vtb['title'] = vtb.title.apply(clean_text)\n",
        "# vtb['text'] = vtb.text.apply(clean_text)"
      ],
      "execution_count": 26,
      "outputs": []
    },
    {
      "cell_type": "markdown",
      "metadata": {
        "id": "bF5kcQt89Kbf"
      },
      "source": [
        "# alfabank.ru"
      ]
    },
    {
      "cell_type": "markdown",
      "metadata": {
        "id": "JwtFM_NYR2Pz"
      },
      "source": [
        "Повторим вышереализованный алгоритм для сайта Альфабанка"
      ]
    },
    {
      "cell_type": "markdown",
      "metadata": {
        "id": "K_hSRoiV9UUt"
      },
      "source": [
        "## Загрузка имеющихся данных"
      ]
    },
    {
      "cell_type": "code",
      "metadata": {
        "id": "s-3Ju0qiFOTr",
        "colab": {
          "base_uri": "https://localhost:8080/"
        },
        "outputId": "09ddcca0-c7b7-4364-f74c-b11547e86167"
      },
      "source": [
        "# скачать можно здесь: https://drive.google.com/file/d/1k7mKvSyUvAbflRHuK8DlLwAykxCTVABG/view?usp=sharing\n",
        "alfa = pd.read_csv('drive/MyDrive/Colab Notebooks/sber/news/data/alfa.csv',\n",
        "                   dtype={'id': np.str,\n",
        "                          'title': np.str,\n",
        "                          'text': np.str,\n",
        "                          'url': np.str,\n",
        "                          'time': np.str,\n",
        "                          'views': np.int64,\n",
        "                          'comments': np.int64,\n",
        "                          'source': np.str\n",
        "                          })\n",
        "alfa.time = pd.to_datetime(alfa.time, format='%Y-%m-%d %H:%M:%S')\n",
        "alfa.info()"
      ],
      "execution_count": 27,
      "outputs": [
        {
          "output_type": "stream",
          "text": [
            "<class 'pandas.core.frame.DataFrame'>\n",
            "RangeIndex: 4054 entries, 0 to 4053\n",
            "Data columns (total 8 columns):\n",
            " #   Column    Non-Null Count  Dtype         \n",
            "---  ------    --------------  -----         \n",
            " 0   id        4054 non-null   object        \n",
            " 1   title     4054 non-null   object        \n",
            " 2   text      4032 non-null   object        \n",
            " 3   url       4054 non-null   object        \n",
            " 4   time      4054 non-null   datetime64[ns]\n",
            " 5   views     4054 non-null   int64         \n",
            " 6   comments  4054 non-null   int64         \n",
            " 7   source    4054 non-null   object        \n",
            "dtypes: datetime64[ns](1), int64(2), object(5)\n",
            "memory usage: 253.5+ KB\n"
          ],
          "name": "stdout"
        }
      ]
    },
    {
      "cell_type": "markdown",
      "metadata": {
        "id": "ZZUmEL0F9dF3"
      },
      "source": [
        "## Цикл парсинга"
      ]
    },
    {
      "cell_type": "code",
      "metadata": {
        "id": "fhie6cP19dZ6",
        "colab": {
          "base_uri": "https://localhost:8080/"
        },
        "outputId": "fa07e737-75c9-4aef-9ed5-cbe2c871ce00"
      },
      "source": [
        "if sites['alfa']['on']:\n",
        "  url_base = 'https://alfabank.ru'\n",
        "  for url_year in range(sites['alfa']['first_page'], sites['alfa']['last_page']):\n",
        "    count_add_articles = 0\n",
        "    for url_month in range(1, 13):\n",
        "      if url_month < 10:\n",
        "        url_month = '0' + str(url_month)\n",
        "      url = url_base + '/press/news/' + str(url_year) + '/' + str(url_month) + '/'\n",
        "      response = load_page(url)\n",
        "      if response == -1:\n",
        "        continue\n",
        "      soup = BeautifulSoup(response.content, 'lxml')\n",
        "      articles = soup.find_all('div', class_='news-item')\n",
        "      if len(articles) == 0:\n",
        "        continue\n",
        "      for article in articles:\n",
        "        # Кол-во просмотров\n",
        "        views = 0\n",
        "        # Кол-во комментариев\n",
        "        comments = 0\n",
        "        # Источник новости\n",
        "        source = 'alfabank.ru'\n",
        "        article_url = article.find('a').get('href')\n",
        "        article_id = str(article_url.split('/')[3]) + '_' + str(article_url.split('/')[4]) + '_' + str(article_url.split('/')[5]) + '_' + str(article_url.split('/')[6].split('.')[0])\n",
        "        if alfa[alfa['id'] == article_id].shape[0] == 0:\n",
        "          # Title\n",
        "          title = article.find('div', class_='title').text\n",
        "          # Time\n",
        "          time = article.find('div', class_='date').text\n",
        "          url = url_base + article_url\n",
        "          response = load_page(url)\n",
        "          if response == -1:\n",
        "            continue\n",
        "          soup = BeautifulSoup(response.content, 'lxml')\n",
        "          article_text = soup.find('div', class_='news-article').find_all('p')\n",
        "          # Text\n",
        "          text = ''\n",
        "          for text_string in article_text[1:]:\n",
        "            text += text_string.text\n",
        "          alfa = alfa.append({'id': str(article_id),\n",
        "                              'title': str(clean_text(title)),\n",
        "                              'text': str(clean_text(text)),\n",
        "                              'url': str(url),\n",
        "                              'time': pd.to_datetime(time, format='%d.%m.%Y'),\n",
        "                              'views': int(views),\n",
        "                              'comments': int(comments),\n",
        "                              'source': str(source)}, ignore_index=True)\n",
        "          count_add_articles += 1\n",
        "    sites['alfa']['first_page'] = url_year\n",
        "    if debug:\n",
        "      print('Year {}, ADD {}'.format(url_year, count_add_articles))"
      ],
      "execution_count": 28,
      "outputs": [
        {
          "output_type": "stream",
          "text": [
            "Year 2021, ADD 0\n"
          ],
          "name": "stdout"
        }
      ]
    },
    {
      "cell_type": "code",
      "metadata": {
        "id": "Yjkz92e2-Krt",
        "colab": {
          "base_uri": "https://localhost:8080/"
        },
        "outputId": "4f22bcac-1146-44c4-cc97-b8cf131d714a"
      },
      "source": [
        "alfa.info()"
      ],
      "execution_count": 29,
      "outputs": [
        {
          "output_type": "stream",
          "text": [
            "<class 'pandas.core.frame.DataFrame'>\n",
            "RangeIndex: 4054 entries, 0 to 4053\n",
            "Data columns (total 8 columns):\n",
            " #   Column    Non-Null Count  Dtype         \n",
            "---  ------    --------------  -----         \n",
            " 0   id        4054 non-null   object        \n",
            " 1   title     4054 non-null   object        \n",
            " 2   text      4032 non-null   object        \n",
            " 3   url       4054 non-null   object        \n",
            " 4   time      4054 non-null   datetime64[ns]\n",
            " 5   views     4054 non-null   int64         \n",
            " 6   comments  4054 non-null   int64         \n",
            " 7   source    4054 non-null   object        \n",
            "dtypes: datetime64[ns](1), int64(2), object(5)\n",
            "memory usage: 253.5+ KB\n"
          ],
          "name": "stdout"
        }
      ]
    },
    {
      "cell_type": "markdown",
      "metadata": {
        "id": "D_UEFLCt9mKN"
      },
      "source": [
        "## Обработка дубликатов"
      ]
    },
    {
      "cell_type": "code",
      "metadata": {
        "id": "aymyeWl99mg-",
        "colab": {
          "base_uri": "https://localhost:8080/"
        },
        "outputId": "863f9581-dae0-46da-f525-062ead276b3b"
      },
      "source": [
        "alfa.id.nunique()"
      ],
      "execution_count": 30,
      "outputs": [
        {
          "output_type": "execute_result",
          "data": {
            "text/plain": [
              "4054"
            ]
          },
          "metadata": {
            "tags": []
          },
          "execution_count": 30
        }
      ]
    },
    {
      "cell_type": "code",
      "metadata": {
        "id": "YPfvcrPW-gEb",
        "colab": {
          "base_uri": "https://localhost:8080/"
        },
        "outputId": "15645631-c6f1-4bf7-e181-afa61cd975c6"
      },
      "source": [
        "alfa.drop_duplicates(subset=['id'], inplace=True, keep='last')\n",
        "alfa.shape"
      ],
      "execution_count": 31,
      "outputs": [
        {
          "output_type": "execute_result",
          "data": {
            "text/plain": [
              "(4054, 8)"
            ]
          },
          "metadata": {
            "tags": []
          },
          "execution_count": 31
        }
      ]
    },
    {
      "cell_type": "code",
      "metadata": {
        "id": "gnNuUsy0-h-g",
        "colab": {
          "base_uri": "https://localhost:8080/"
        },
        "outputId": "94e9e5e5-6b54-4f74-812d-fd35c9a33bef"
      },
      "source": [
        "alfa[alfa.duplicated()].shape"
      ],
      "execution_count": 32,
      "outputs": [
        {
          "output_type": "execute_result",
          "data": {
            "text/plain": [
              "(0, 8)"
            ]
          },
          "metadata": {
            "tags": []
          },
          "execution_count": 32
        }
      ]
    },
    {
      "cell_type": "markdown",
      "metadata": {
        "id": "q5rdxJAo9pEM"
      },
      "source": [
        "## Выгрузка в csv"
      ]
    },
    {
      "cell_type": "code",
      "metadata": {
        "id": "gehM3ntj9pbG"
      },
      "source": [
        "alfa.to_csv('drive/MyDrive/Colab Notebooks/sber/news/data/alfa.csv', index=False)"
      ],
      "execution_count": 33,
      "outputs": []
    },
    {
      "cell_type": "code",
      "metadata": {
        "id": "U4pvkrGt-unz",
        "colab": {
          "base_uri": "https://localhost:8080/",
          "height": 493
        },
        "outputId": "b688f367-8540-43b5-8c1b-e28a3c3c6121"
      },
      "source": [
        "alfa.tail()"
      ],
      "execution_count": 34,
      "outputs": [
        {
          "output_type": "execute_result",
          "data": {
            "text/html": [
              "<div>\n",
              "<style scoped>\n",
              "    .dataframe tbody tr th:only-of-type {\n",
              "        vertical-align: middle;\n",
              "    }\n",
              "\n",
              "    .dataframe tbody tr th {\n",
              "        vertical-align: top;\n",
              "    }\n",
              "\n",
              "    .dataframe thead th {\n",
              "        text-align: right;\n",
              "    }\n",
              "</style>\n",
              "<table border=\"1\" class=\"dataframe\">\n",
              "  <thead>\n",
              "    <tr style=\"text-align: right;\">\n",
              "      <th></th>\n",
              "      <th>id</th>\n",
              "      <th>title</th>\n",
              "      <th>text</th>\n",
              "      <th>url</th>\n",
              "      <th>time</th>\n",
              "      <th>views</th>\n",
              "      <th>comments</th>\n",
              "      <th>source</th>\n",
              "    </tr>\n",
              "  </thead>\n",
              "  <tbody>\n",
              "    <tr>\n",
              "      <th>4049</th>\n",
              "      <td>2021_2_1_74267</td>\n",
              "      <td>Пополнение карт Альфа-Банка в салонах «Связной...</td>\n",
              "      <td>Вносить деньги на карты Альфа-Банка теперь мож...</td>\n",
              "      <td>https://alfabank.ru/press/news/2021/2/1/74267....</td>\n",
              "      <td>2021-02-01</td>\n",
              "      <td>0</td>\n",
              "      <td>0</td>\n",
              "      <td>alfabank.ru</td>\n",
              "    </tr>\n",
              "    <tr>\n",
              "      <th>4050</th>\n",
              "      <td>2021_2_3_74431</td>\n",
              "      <td>Альфа-Банк выдаст 1,1 млрд рублей на реконстру...</td>\n",
              "      <td>Альфа-Банк выдаст 1,1 млрд рублей на реконстру...</td>\n",
              "      <td>https://alfabank.ru/press/news/2021/2/3/74431....</td>\n",
              "      <td>2021-02-03</td>\n",
              "      <td>0</td>\n",
              "      <td>0</td>\n",
              "      <td>alfabank.ru</td>\n",
              "    </tr>\n",
              "    <tr>\n",
              "      <th>4051</th>\n",
              "      <td>2021_2_2_74380</td>\n",
              "      <td>Альфа-Групп провела чемпионат для дата-сайенти...</td>\n",
              "      <td>Альфа-Банк, X5 Retail Group, Билайн и АльфаСтр...</td>\n",
              "      <td>https://alfabank.ru/press/news/2021/2/2/74380....</td>\n",
              "      <td>2021-02-02</td>\n",
              "      <td>0</td>\n",
              "      <td>0</td>\n",
              "      <td>alfabank.ru</td>\n",
              "    </tr>\n",
              "    <tr>\n",
              "      <th>4052</th>\n",
              "      <td>2021_2_10_74857</td>\n",
              "      <td>А-Клуб стал лучшим в рейтинге private banking ...</td>\n",
              "      <td>Международный журнал Euromoney признал А-Клуб ...</td>\n",
              "      <td>https://alfabank.ru/press/news/2021/2/10/74857...</td>\n",
              "      <td>2021-02-10</td>\n",
              "      <td>0</td>\n",
              "      <td>0</td>\n",
              "      <td>alfabank.ru</td>\n",
              "    </tr>\n",
              "    <tr>\n",
              "      <th>4053</th>\n",
              "      <td>2021_2_12_74984</td>\n",
              "      <td>При поддержке Альфа-Банка завершен второй этап...</td>\n",
              "      <td>При поддержке Альфа-Банка в Кемеровской област...</td>\n",
              "      <td>https://alfabank.ru/press/news/2021/2/12/74984...</td>\n",
              "      <td>2021-02-12</td>\n",
              "      <td>0</td>\n",
              "      <td>0</td>\n",
              "      <td>alfabank.ru</td>\n",
              "    </tr>\n",
              "  </tbody>\n",
              "</table>\n",
              "</div>"
            ],
            "text/plain": [
              "                   id  ...       source\n",
              "4049   2021_2_1_74267  ...  alfabank.ru\n",
              "4050   2021_2_3_74431  ...  alfabank.ru\n",
              "4051   2021_2_2_74380  ...  alfabank.ru\n",
              "4052  2021_2_10_74857  ...  alfabank.ru\n",
              "4053  2021_2_12_74984  ...  alfabank.ru\n",
              "\n",
              "[5 rows x 8 columns]"
            ]
          },
          "metadata": {
            "tags": []
          },
          "execution_count": 34
        }
      ]
    },
    {
      "cell_type": "markdown",
      "metadata": {
        "id": "66P51lr7-0Xs"
      },
      "source": [
        "## Очистка (убрать комментарии)"
      ]
    },
    {
      "cell_type": "code",
      "metadata": {
        "id": "wFXksupA-0wW"
      },
      "source": [
        "# alfa['title'] = alfa.title.apply(clean_text)\n",
        "# alfa['text'] = alfa.text.apply(clean_text)"
      ],
      "execution_count": 35,
      "outputs": []
    },
    {
      "cell_type": "markdown",
      "metadata": {
        "id": "R1V1lJyQgXj6"
      },
      "source": [
        "# Выгрузка новостей для рассылки"
      ]
    },
    {
      "cell_type": "markdown",
      "metadata": {
        "id": "fY2fAfiZR6Y8"
      },
      "source": [
        "Реализуем простейший алгоритм подбора новостей для рассылки коллегам"
      ]
    },
    {
      "cell_type": "code",
      "metadata": {
        "id": "pf5cqGoNvvyH",
        "colab": {
          "base_uri": "https://localhost:8080/"
        },
        "outputId": "49001367-a7af-40da-8888-11e49956725f"
      },
      "source": [
        "banki.info()"
      ],
      "execution_count": 36,
      "outputs": [
        {
          "output_type": "stream",
          "text": [
            "<class 'pandas.core.frame.DataFrame'>\n",
            "Int64Index: 113250 entries, 0 to 113249\n",
            "Data columns (total 8 columns):\n",
            " #   Column    Non-Null Count   Dtype         \n",
            "---  ------    --------------   -----         \n",
            " 0   id        113250 non-null  object        \n",
            " 1   title     113250 non-null  object        \n",
            " 2   text      113172 non-null  object        \n",
            " 3   url       113250 non-null  object        \n",
            " 4   time      113250 non-null  datetime64[ns]\n",
            " 5   views     113250 non-null  int64         \n",
            " 6   comments  113250 non-null  int64         \n",
            " 7   source    113212 non-null  object        \n",
            "dtypes: datetime64[ns](1), int64(2), object(5)\n",
            "memory usage: 7.8+ MB\n"
          ],
          "name": "stdout"
        }
      ]
    },
    {
      "cell_type": "code",
      "metadata": {
        "id": "iDgZLoUZgWU9"
      },
      "source": [
        "# номер текущей недели\r\n",
        "number_of_week = dt.datetime.now().date().isocalendar()[1]"
      ],
      "execution_count": 37,
      "outputs": []
    },
    {
      "cell_type": "code",
      "metadata": {
        "id": "doQdQlTFosKU",
        "colab": {
          "base_uri": "https://localhost:8080/",
          "height": 374
        },
        "outputId": "f220d348-ab2f-4e85-ef95-dc12a912f6db"
      },
      "source": [
        "if sites['send']:\r\n",
        "  with pd.ExcelWriter('drive/MyDrive/Colab Notebooks/sber/news/data/send.xlsx') as writer:  \r\n",
        "    banki_send = pd.DataFrame(columns=banki.columns)\r\n",
        "    if sites['banki']['send']:\r\n",
        "      for i in range(1, 8):\r\n",
        "        banki_send = banki_send.append(banki[(banki.time.dt.isocalendar().year == 2021) &\\\r\n",
        "                                             (banki.time.dt.isocalendar().week == number_of_week) &\\\r\n",
        "                                             (banki.time.dt.isocalendar().day == i)].sort_values(by='views', ascending=False).head(3))\r\n",
        "      display(banki_send.head())\r\n",
        "      banki_send.to_excel(writer, sheet_name='banki')\r\n",
        "    elif sites['vtb']['send']:\r\n",
        "      vtb_send = vtb[(vtb.time.dt.isocalendar().year == 2021) & (vtb.time.dt.isocalendar().week == number_of_week)].sort_values(by='time', ascending=True)\r\n",
        "      display(vtb_send.head())\r\n",
        "      vtb_send.to_excel(writer, sheet_name='vtb')\r\n",
        "    elif sites['alfa']['send']:\r\n",
        "      alfa_send = alfa[(alfa.time.dt.isocalendar().year == 2021) & (alfa.time.dt.isocalendar().week == number_of_week)].sort_values(by='time', ascending=True)\r\n",
        "      display(alfa_send.head())\r\n",
        "      alfa_send.to_excel(writer, sheet_name='alfa')\r\n",
        "    else:\r\n",
        "      banki_send.to_excel(writer, sheet_name='clean')"
      ],
      "execution_count": 38,
      "outputs": [
        {
          "output_type": "display_data",
          "data": {
            "text/html": [
              "<div>\n",
              "<style scoped>\n",
              "    .dataframe tbody tr th:only-of-type {\n",
              "        vertical-align: middle;\n",
              "    }\n",
              "\n",
              "    .dataframe tbody tr th {\n",
              "        vertical-align: top;\n",
              "    }\n",
              "\n",
              "    .dataframe thead th {\n",
              "        text-align: right;\n",
              "    }\n",
              "</style>\n",
              "<table border=\"1\" class=\"dataframe\">\n",
              "  <thead>\n",
              "    <tr style=\"text-align: right;\">\n",
              "      <th></th>\n",
              "      <th>id</th>\n",
              "      <th>title</th>\n",
              "      <th>text</th>\n",
              "      <th>url</th>\n",
              "      <th>time</th>\n",
              "      <th>views</th>\n",
              "      <th>comments</th>\n",
              "      <th>source</th>\n",
              "    </tr>\n",
              "  </thead>\n",
              "  <tbody>\n",
              "    <tr>\n",
              "      <th>111000</th>\n",
              "      <td>10941147</td>\n",
              "      <td>Банк «Открытие» предлагает сниженную ставку по...</td>\n",
              "      <td>Банк «Открытие» обновил линейку кредитов налич...</td>\n",
              "      <td>https://www.banki.ru/news/lenta/?id=10941147</td>\n",
              "      <td>2021-02-08 10:44:00</td>\n",
              "      <td>16372</td>\n",
              "      <td>3</td>\n",
              "      <td>Banki.ru</td>\n",
              "    </tr>\n",
              "    <tr>\n",
              "      <th>111003</th>\n",
              "      <td>10941138</td>\n",
              "      <td>Газпромбанк проводит акцию по кредитам наличными</td>\n",
              "      <td>Газпромбанк проводит акцию и в течение недели ...</td>\n",
              "      <td>https://www.banki.ru/news/lenta/?id=10941138</td>\n",
              "      <td>2021-02-08 10:05:00</td>\n",
              "      <td>13024</td>\n",
              "      <td>0</td>\n",
              "      <td>Banki.ru</td>\n",
              "    </tr>\n",
              "    <tr>\n",
              "      <th>111005</th>\n",
              "      <td>10941139</td>\n",
              "      <td>8 февраля. О чем пишут газеты</td>\n",
              "      <td>Экономисты конгресса США указали на проблему п...</td>\n",
              "      <td>https://www.banki.ru/news/lenta/?id=10941139</td>\n",
              "      <td>2021-02-08 09:29:00</td>\n",
              "      <td>7174</td>\n",
              "      <td>0</td>\n",
              "      <td></td>\n",
              "    </tr>\n",
              "    <tr>\n",
              "      <th>112961</th>\n",
              "      <td>10941243</td>\n",
              "      <td>ЦБ оштрафовал банк «Открытие», «АльфаСтрахован...</td>\n",
              "      <td>ЦБ привлек банк «Открытие», «АльфаСтрахование»...</td>\n",
              "      <td>https://www.banki.ru/news/lenta/?id=10941243</td>\n",
              "      <td>2021-02-09 15:21:00</td>\n",
              "      <td>8699</td>\n",
              "      <td>0</td>\n",
              "      <td>Banki.ru</td>\n",
              "    </tr>\n",
              "    <tr>\n",
              "      <th>112972</th>\n",
              "      <td>10941230</td>\n",
              "      <td>СберБанк запустил рефинансирование ипотеки на ...</td>\n",
              "      <td>СберБанк запустил рефинансирование выданных др...</td>\n",
              "      <td>https://www.banki.ru/news/lenta/?id=10941230</td>\n",
              "      <td>2021-02-09 12:02:00</td>\n",
              "      <td>7792</td>\n",
              "      <td>1</td>\n",
              "      <td>Banki.ru</td>\n",
              "    </tr>\n",
              "  </tbody>\n",
              "</table>\n",
              "</div>"
            ],
            "text/plain": [
              "              id  ...    source\n",
              "111000  10941147  ...  Banki.ru\n",
              "111003  10941138  ...  Banki.ru\n",
              "111005  10941139  ...          \n",
              "112961  10941243  ...  Banki.ru\n",
              "112972  10941230  ...  Banki.ru\n",
              "\n",
              "[5 rows x 8 columns]"
            ]
          },
          "metadata": {
            "tags": []
          }
        }
      ]
    },
    {
      "cell_type": "markdown",
      "metadata": {
        "id": "lfuy_0J1lzpO"
      },
      "source": [
        "# Вывод"
      ]
    },
    {
      "cell_type": "markdown",
      "metadata": {
        "id": "YQv8uebxla96"
      },
      "source": [
        "Данный скрипт позволяет осуществлять парсинг 3 источников (банки, ВТБ, альфабанк), очищать данные и делать выборку новостей для рассылки"
      ]
    }
  ]
}