{
  "nbformat": 4,
  "nbformat_minor": 0,
  "metadata": {
    "colab": {
      "name": "parser.ipynb",
      "provenance": [],
      "collapsed_sections": [],
      "toc_visible": true,
      "include_colab_link": true
    },
    "kernelspec": {
      "display_name": "Python 3",
      "language": "python",
      "name": "python3"
    },
    "language_info": {
      "codemirror_mode": {
        "name": "ipython",
        "version": 3
      },
      "file_extension": ".py",
      "mimetype": "text/x-python",
      "name": "python",
      "nbconvert_exporter": "python",
      "pygments_lexer": "ipython3",
      "version": "3.7.9"
    }
  },
  "cells": [
    {
      "cell_type": "markdown",
      "metadata": {
        "id": "view-in-github",
        "colab_type": "text"
      },
      "source": [
        "<a href=\"https://colab.research.google.com/github/mukaseevru/ds-school/blob/main/final_project/parser.ipynb\" target=\"_parent\"><img src=\"https://colab.research.google.com/assets/colab-badge.svg\" alt=\"Open In Colab\"/></a>"
      ]
    },
    {
      "cell_type": "markdown",
      "metadata": {
        "id": "7UDSw2EXnkJQ"
      },
      "source": [
        "# Подключение библиотек"
      ]
    },
    {
      "cell_type": "code",
      "metadata": {
        "id": "0ypU3Sp-YMut"
      },
      "source": [
        "# Загрузка необходимых модулей\n",
        "import numpy as np\n",
        "import pandas as pd\n",
        "import datetime as dt\n",
        "import requests\n",
        "from requests.adapters import HTTPAdapter\n",
        "from requests.packages.urllib3.util.retry import Retry\n",
        "from time import sleep\n",
        "from bs4 import BeautifulSoup"
      ],
      "execution_count": 1,
      "outputs": []
    },
    {
      "cell_type": "markdown",
      "metadata": {
        "id": "Y24yTAzyYMuo"
      },
      "source": [
        "# Настройки"
      ]
    },
    {
      "cell_type": "code",
      "metadata": {
        "id": "GpuEhqkrYMus"
      },
      "source": [
        "# Таймаут, если ошибка соединения\n",
        "timeout = 1\n",
        "# Debug mode\n",
        "debug = True\n",
        "# Настройки по сайтам\n",
        "sites = {}\n",
        "# Включить рассылку\n",
        "sites['send'] = True\n",
        "# banki.ru\n",
        "sites['banki'] = {}\n",
        "sites['banki']['on'] = True\n",
        "sites['banki']['first_page'] = 1\n",
        "sites['banki']['last_page'] = 50\n",
        "sites['banki']['send'] = True\n",
        "# vtb.ru\n",
        "sites['vtb'] = {}\n",
        "sites['vtb']['on'] = False\n",
        "sites['vtb']['first_page'] = 1\n",
        "sites['vtb']['last_page'] = 364\n",
        "sites['vtb']['send'] = True\n",
        "# alfabank.ru\n",
        "sites['alfa'] = {}\n",
        "sites['alfa']['on'] = True\n",
        "sites['alfa']['first_page'] = 2021\n",
        "sites['alfa']['last_page'] = 2022\n",
        "sites['alfa']['send'] = True"
      ],
      "execution_count": 2,
      "outputs": []
    },
    {
      "cell_type": "code",
      "metadata": {
        "colab": {
          "base_uri": "https://localhost:8080/"
        },
        "id": "b0Slx4hiyRBD",
        "outputId": "5020c2c6-c038-44b2-d870-2e39e8be0382"
      },
      "source": [
        "sites"
      ],
      "execution_count": 3,
      "outputs": [
        {
          "output_type": "execute_result",
          "data": {
            "text/plain": [
              "{'alfa': {'first_page': 2021, 'last_page': 2022, 'on': True, 'send': True},\n",
              " 'banki': {'first_page': 1, 'last_page': 50, 'on': True, 'send': True},\n",
              " 'send': True,\n",
              " 'vtb': {'first_page': 1, 'last_page': 364, 'on': False, 'send': True}}"
            ]
          },
          "metadata": {
            "tags": []
          },
          "execution_count": 3
        }
      ]
    },
    {
      "cell_type": "markdown",
      "metadata": {
        "id": "LoYi5upXnnjg"
      },
      "source": [
        "# Определение функций"
      ]
    },
    {
      "cell_type": "code",
      "metadata": {
        "id": "rKoqs3i3YMut"
      },
      "source": [
        "# Определение функции загрузки страницы\n",
        "def load_page(url):\n",
        "  count = 0\n",
        "  while True:\n",
        "    try:\n",
        "      with requests.Session() as session:\n",
        "        session.headers['Connection'] = 'keep-alive'\n",
        "        session.headers['Cache-Control'] = 'max-age=0'\n",
        "        session.headers['Upgrade-Insecure-Requests'] = '1'\n",
        "        session.headers['User-Agent'] = 'Mozilla/5.0 (Windows NT 6.1) AppleWebKit/537.36 (KHTML, like Gecko) Chrome/53.0.2785.116 Safari/537.36 OPR/40.0.2308.81'\n",
        "        session.headers['Accept'] = 'text/html,application/xhtml+xml,application/xml;q=0.9,image/webp,*/*;q=0.8'\n",
        "        session.headers['DNT'] = '1'\n",
        "        session.headers['Accept-Encoding'] = 'gzip, deflate, lzma, sdch'\n",
        "        session.headers['Accept-Language'] = 'ru-RU,ru;q=0.8,en-US;q=0.6,en;q=0.4'\n",
        "        retry = Retry(connect=3, backoff_factor=0.5)\n",
        "        adapter = HTTPAdapter(max_retries=retry)\n",
        "        session.mount('http://', adapter)\n",
        "        session.mount('https://', adapter)\n",
        "        session.proxies = {\n",
        "            # 'http': '185.198.189.21:8080',\n",
        "            # 'https': '185.198.189.21:8080'\n",
        "            }\n",
        "        response = session.get(url)\n",
        "      if response.status_code != 200:\n",
        "        # log.info(\"Ошибка, код ответа: %s\", response.status)\n",
        "        print('Ошибка, код ответа: %s', response.status_code)\n",
        "        sleep(timeout)\n",
        "        count += 1\n",
        "        if count > 5:\n",
        "          return (-1)\n",
        "        # Попробуем снова на следующей итерации цикла\n",
        "        continue\n",
        "      # Если дошли до сюда, значит ошибок не было\n",
        "      return response\n",
        "    except ConnectionError:\n",
        "      # Выводим свое сообщение плюс стек трассы\n",
        "      # log.exception(\"Ошибка ConnectionError\")\n",
        "      print('Ошибка ConnectionError')\n",
        "      sleep(timeout)\n",
        "\n",
        "# Определение функции очистки текста от спецсимволов\n",
        "def clean_text(text):\n",
        "  if pd.isnull(text):\n",
        "    return np.nan\n",
        "  text = text.replace('\\n',' ')\\\n",
        "  .replace('\\r',' ')\\\n",
        "  .replace('\\t',' ')\\\n",
        "  .replace('\\u200b',' ')\\\n",
        "  .replace('  ',' ')\\\n",
        "  .replace('✅',' ')\\\n",
        "  .replace('•',' ')\\\n",
        "  .replace('📰',' ')\\\n",
        "  .replace('🔸',' ')\\\n",
        "  .replace('🔹',' ')\\\n",
        "  .replace('🔸',' ')\\\n",
        "  .replace('🔸',' ')\\\n",
        "  .replace('💰',' ')\\\n",
        "  .replace('👍',' ')\\\n",
        "  .replace('📅',' ')\\\n",
        "  .replace('🍂',' ')\\\n",
        "  .replace('🔥',' ')\\\n",
        "  .replace('🎥',' ')\\\n",
        "  .replace('🎬',' ')\\\n",
        "  .replace('<',' ')\\\n",
        "  .replace('>',' ')\\\n",
        "  .strip()\n",
        "  while '  ' in text:\n",
        "    text = text.replace('  ', ' ')\n",
        "  return text"
      ],
      "execution_count": 4,
      "outputs": []
    },
    {
      "cell_type": "markdown",
      "metadata": {
        "id": "OEijMhDV2xMW"
      },
      "source": [
        "# banki.ru"
      ]
    },
    {
      "cell_type": "markdown",
      "metadata": {
        "id": "B85V-KTZnrB4"
      },
      "source": [
        "## Загрузка имеющихся данных"
      ]
    },
    {
      "cell_type": "code",
      "metadata": {
        "colab": {
          "base_uri": "https://localhost:8080/"
        },
        "id": "xLQQGBw-Yvp4",
        "outputId": "9d3bc1b2-ef76-4212-edda-4b670f4b9feb"
      },
      "source": [
        "from google.colab import drive\n",
        "drive.mount('/content/drive')"
      ],
      "execution_count": 5,
      "outputs": [
        {
          "output_type": "stream",
          "text": [
            "Drive already mounted at /content/drive; to attempt to forcibly remount, call drive.mount(\"/content/drive\", force_remount=True).\n"
          ],
          "name": "stdout"
        }
      ]
    },
    {
      "cell_type": "code",
      "metadata": {
        "colab": {
          "base_uri": "https://localhost:8080/",
          "height": 37
        },
        "id": "bXUakrcYZcai",
        "outputId": "6a994c64-e734-4364-be65-8380dd275f1c"
      },
      "source": [
        "import os\n",
        "os.getcwd()"
      ],
      "execution_count": 6,
      "outputs": [
        {
          "output_type": "execute_result",
          "data": {
            "application/vnd.google.colaboratory.intrinsic+json": {
              "type": "string"
            },
            "text/plain": [
              "'/content'"
            ]
          },
          "metadata": {
            "tags": []
          },
          "execution_count": 6
        }
      ]
    },
    {
      "cell_type": "code",
      "metadata": {
        "colab": {
          "base_uri": "https://localhost:8080/"
        },
        "id": "uTUCFtKmYMuu",
        "outputId": "2bd97cd4-a748-4f24-a17d-b55a22d8b77b"
      },
      "source": [
        "banki = pd.read_csv('drive/MyDrive/Colab Notebooks/sber/news/data/banki.csv',\n",
        "                   dtype={'id': np.str,\n",
        "                          'title': np.str,\n",
        "                          'text': np.str,\n",
        "                          'url': np.str,\n",
        "                          'time': np.str,\n",
        "                          'views': np.int64,\n",
        "                          'comments': np.int64,\n",
        "                          'source': np.str\n",
        "                          })\n",
        "banki.time = pd.to_datetime(banki.time, format='%Y-%m-%d %H:%M:%S')\n",
        "banki.info()"
      ],
      "execution_count": 7,
      "outputs": [
        {
          "output_type": "stream",
          "text": [
            "<class 'pandas.core.frame.DataFrame'>\n",
            "RangeIndex: 113143 entries, 0 to 113142\n",
            "Data columns (total 8 columns):\n",
            " #   Column    Non-Null Count   Dtype         \n",
            "---  ------    --------------   -----         \n",
            " 0   id        113143 non-null  object        \n",
            " 1   title     113143 non-null  object        \n",
            " 2   text      113065 non-null  object        \n",
            " 3   url       113143 non-null  object        \n",
            " 4   time      113143 non-null  datetime64[ns]\n",
            " 5   views     113143 non-null  int64         \n",
            " 6   comments  113143 non-null  int64         \n",
            " 7   source    113104 non-null  object        \n",
            "dtypes: datetime64[ns](1), int64(2), object(5)\n",
            "memory usage: 6.9+ MB\n"
          ],
          "name": "stdout"
        }
      ]
    },
    {
      "cell_type": "code",
      "metadata": {
        "colab": {
          "base_uri": "https://localhost:8080/",
          "height": 374
        },
        "id": "0m8psoKhK76U",
        "outputId": "c962a73f-7d4b-460e-9aa7-0e694cfd73d4"
      },
      "source": [
        "banki.tail()"
      ],
      "execution_count": 8,
      "outputs": [
        {
          "output_type": "execute_result",
          "data": {
            "text/html": [
              "<div>\n",
              "<style scoped>\n",
              "    .dataframe tbody tr th:only-of-type {\n",
              "        vertical-align: middle;\n",
              "    }\n",
              "\n",
              "    .dataframe tbody tr th {\n",
              "        vertical-align: top;\n",
              "    }\n",
              "\n",
              "    .dataframe thead th {\n",
              "        text-align: right;\n",
              "    }\n",
              "</style>\n",
              "<table border=\"1\" class=\"dataframe\">\n",
              "  <thead>\n",
              "    <tr style=\"text-align: right;\">\n",
              "      <th></th>\n",
              "      <th>id</th>\n",
              "      <th>title</th>\n",
              "      <th>text</th>\n",
              "      <th>url</th>\n",
              "      <th>time</th>\n",
              "      <th>views</th>\n",
              "      <th>comments</th>\n",
              "      <th>source</th>\n",
              "    </tr>\n",
              "  </thead>\n",
              "  <tbody>\n",
              "    <tr>\n",
              "      <th>113138</th>\n",
              "      <td>10940322</td>\n",
              "      <td>Эксперты проанализировали кредитное поведение ...</td>\n",
              "      <td>Россияне в 2020 году стали более взвешенно оце...</td>\n",
              "      <td>https://www.banki.ru/news/lenta/?id=10940322</td>\n",
              "      <td>2021-01-23 16:46:00</td>\n",
              "      <td>9354</td>\n",
              "      <td>4</td>\n",
              "      <td>Banki.ru</td>\n",
              "    </tr>\n",
              "    <tr>\n",
              "      <th>113139</th>\n",
              "      <td>10940248</td>\n",
              "      <td>«Национальная Фабрика Ипотеки» снизила первона...</td>\n",
              "      <td>«Национальная Фабрика Ипотеки» (бренд «Ипотека...</td>\n",
              "      <td>https://www.banki.ru/news/lenta/?id=10940248</td>\n",
              "      <td>2021-01-23 15:33:00</td>\n",
              "      <td>4490</td>\n",
              "      <td>0</td>\n",
              "      <td>Banki.ru</td>\n",
              "    </tr>\n",
              "    <tr>\n",
              "      <th>113140</th>\n",
              "      <td>10939216</td>\n",
              "      <td>Московский Кредитный Банк предлагает ипотеку в...</td>\n",
              "      <td>Московский Кредитный Банк (МКБ) начал сотрудни...</td>\n",
              "      <td>https://www.banki.ru/news/lenta/?id=10939216</td>\n",
              "      <td>2020-12-27 18:41:00</td>\n",
              "      <td>8265</td>\n",
              "      <td>0</td>\n",
              "      <td>Banki.ru</td>\n",
              "    </tr>\n",
              "    <tr>\n",
              "      <th>113141</th>\n",
              "      <td>10939326</td>\n",
              "      <td>Песков: экономика России просела в пандемию ме...</td>\n",
              "      <td>Решения, которые принимались в России во время...</td>\n",
              "      <td>https://www.banki.ru/news/lenta/?id=10939326</td>\n",
              "      <td>2020-12-27 17:50:00</td>\n",
              "      <td>4474</td>\n",
              "      <td>4</td>\n",
              "      <td>Прайм</td>\n",
              "    </tr>\n",
              "    <tr>\n",
              "      <th>113142</th>\n",
              "      <td>10938841</td>\n",
              "      <td>Автоградбанк запустил детские карты</td>\n",
              "      <td>Автоградбанк приступил к выпуску детских карт,...</td>\n",
              "      <td>https://www.banki.ru/news/lenta/?id=10938841</td>\n",
              "      <td>2020-12-20 17:19:00</td>\n",
              "      <td>7102</td>\n",
              "      <td>0</td>\n",
              "      <td>Banki.ru</td>\n",
              "    </tr>\n",
              "  </tbody>\n",
              "</table>\n",
              "</div>"
            ],
            "text/plain": [
              "              id  ...    source\n",
              "113138  10940322  ...  Banki.ru\n",
              "113139  10940248  ...  Banki.ru\n",
              "113140  10939216  ...  Banki.ru\n",
              "113141  10939326  ...     Прайм\n",
              "113142  10938841  ...  Banki.ru\n",
              "\n",
              "[5 rows x 8 columns]"
            ]
          },
          "metadata": {
            "tags": []
          },
          "execution_count": 8
        }
      ]
    },
    {
      "cell_type": "markdown",
      "metadata": {
        "id": "6tXc8PAYnwso"
      },
      "source": [
        "## Цикл парсинга"
      ]
    },
    {
      "cell_type": "code",
      "metadata": {
        "id": "oO38BspnYMuv",
        "scrolled": true,
        "colab": {
          "base_uri": "https://localhost:8080/"
        },
        "outputId": "dbeb7b79-c608-4a89-b7a7-e510f9d77582"
      },
      "source": [
        "if sites['banki']['on']:\n",
        "  for page in range(sites['banki']['first_page'], sites['banki']['last_page']):\n",
        "    count_add_articles = 0\n",
        "    count_upd_views = 0\n",
        "    count_upd_comments = 0\n",
        "    count_upd_source = 0\n",
        "    url = 'https://www.banki.ru/news/lenta/page' + str(page)\n",
        "    response = load_page(url)\n",
        "    if response == -1:\n",
        "      continue\n",
        "    soup = BeautifulSoup(response.text, 'lxml')\n",
        "    articles = soup.find_all('ul', class_='text-list text-list--date text-list--date-inline')[0].find_all('li')\n",
        "    for article in articles:\n",
        "      # Кол-во просмотров\n",
        "      views = 0\n",
        "      # Кол-во комментариев\n",
        "      comments = 0\n",
        "      # Источник новости\n",
        "      source = ''\n",
        "      article_url = article.find('a', class_='text-list-link')\n",
        "      if article_url.get('href')[0] == 'h':\n",
        "          # print('Error url - {}'.format(article_url.get('href')))\n",
        "          continue\n",
        "      article_id = str(article_url.get('href').split('=')[1])\n",
        "      article_info = article.find_all('span', class_='news__info')\n",
        "      if len(article_info) > 1:\n",
        "        source = clean_text(article_info[0].text)\n",
        "        if article_info[1].text != '':\n",
        "          views = int(clean_text(article_info[1].text.split('\\n\\t')[1]))\n",
        "        if article_info[1].find('span', class_='link-with-icon__icon icon-font icon-bubble-16 icon-font--size_small'):\n",
        "          comments = int(clean_text(article_info[1].text.split('\\n\\t')[3]))\n",
        "      else:\n",
        "        if article_info[0].text != '':\n",
        "          views = int(clean_text(article_info[0].text.split('\\n\\t')[1]))\n",
        "        if article_info[0].find('span', class_='link-with-icon__icon icon-font icon-bubble-16 icon-font--size_small'):\n",
        "          comments = int(clean_text(article_info[0].text.split('\\n\\t')[3]))\n",
        "      if banki[banki['id'] == article_id].shape[0] == 0:\n",
        "        url = 'https://www.banki.ru' + article_url.get('href')\n",
        "        response = load_page(url)\n",
        "        if response == -1:\n",
        "          continue\n",
        "        soup = BeautifulSoup(response.text, 'lxml')\n",
        "        # Title\n",
        "        title = soup.find('h1', class_='header-h0')\n",
        "        # Text\n",
        "        text = soup.find('article', class_='article-text plain-text markup-inside lenta')\n",
        "        # Time\n",
        "        time = soup.find('time')\n",
        "        banki = banki.append({'id': str(article_id),\n",
        "                              'title': str(clean_text(title.text)),\n",
        "                              'text': str(clean_text(text.text)),\n",
        "                              'url': str(url),\n",
        "                              'time': pd.to_datetime(time.text, format='%d.%m.%Y %H:%M'),\n",
        "                              'views': int(views),\n",
        "                              'comments': int(comments),\n",
        "                              'source': str(source)}, ignore_index=True)\n",
        "        count_add_articles += 1\n",
        "      else:\n",
        "        if banki.loc[banki['id'] == article_id, 'views'].values[0] != views:\n",
        "          banki.loc[banki['id'] == article_id, 'views'] = views\n",
        "          count_upd_views += 1\n",
        "        if banki.loc[banki['id'] == article_id, 'comments'].values[0] != comments:\n",
        "          banki.loc[banki['id'] == article_id, 'comments'] = comments\n",
        "          count_upd_comments += 1\n",
        "        if banki.loc[banki['id'] == article_id, 'source'].values[0] != source:\n",
        "          banki.loc[banki['id'] == article_id, 'source'] = source\n",
        "          count_upd_source += 1\n",
        "    sites['banki']['first_page'] = page\n",
        "    if debug:\n",
        "      print('Page {}: ADD {}, UPD {} views, {} comments, {} source'.format(page, count_add_articles, count_upd_views, count_upd_comments, count_upd_source))"
      ],
      "execution_count": 9,
      "outputs": [
        {
          "output_type": "stream",
          "text": [
            "Page 1: ADD 12, UPD 33 views, 4 comments, 0 source\n",
            "Page 2: ADD 8, UPD 47 views, 2 comments, 0 source\n",
            "Page 3: ADD 0, UPD 4 views, 0 comments, 0 source\n",
            "Page 4: ADD 0, UPD 15 views, 0 comments, 0 source\n",
            "Page 5: ADD 0, UPD 26 views, 0 comments, 1 source\n",
            "Page 6: ADD 0, UPD 1 views, 0 comments, 0 source\n",
            "Page 7: ADD 0, UPD 3 views, 0 comments, 0 source\n",
            "Page 8: ADD 0, UPD 8 views, 0 comments, 0 source\n",
            "Page 9: ADD 0, UPD 19 views, 0 comments, 0 source\n",
            "Page 10: ADD 0, UPD 25 views, 0 comments, 0 source\n",
            "Page 11: ADD 0, UPD 36 views, 0 comments, 0 source\n",
            "Page 12: ADD 0, UPD 4 views, 0 comments, 0 source\n",
            "Page 13: ADD 0, UPD 12 views, 0 comments, 0 source\n",
            "Page 14: ADD 0, UPD 15 views, 0 comments, 0 source\n",
            "Page 15: ADD 0, UPD 25 views, 0 comments, 0 source\n",
            "Page 16: ADD 0, UPD 34 views, 0 comments, 0 source\n",
            "Page 17: ADD 0, UPD 36 views, 0 comments, 0 source\n",
            "Page 18: ADD 0, UPD 9 views, 0 comments, 0 source\n",
            "Page 19: ADD 0, UPD 17 views, 0 comments, 0 source\n",
            "Page 20: ADD 0, UPD 27 views, 0 comments, 0 source\n",
            "Page 21: ADD 0, UPD 33 views, 0 comments, 0 source\n",
            "Page 22: ADD 0, UPD 32 views, 0 comments, 0 source\n",
            "Page 23: ADD 0, UPD 29 views, 0 comments, 0 source\n",
            "Page 24: ADD 0, UPD 4 views, 0 comments, 0 source\n",
            "Page 25: ADD 0, UPD 18 views, 0 comments, 0 source\n",
            "Page 26: ADD 0, UPD 35 views, 0 comments, 0 source\n",
            "Page 27: ADD 0, UPD 34 views, 0 comments, 0 source\n",
            "Page 28: ADD 0, UPD 34 views, 0 comments, 0 source\n",
            "Page 29: ADD 0, UPD 14 views, 0 comments, 0 source\n",
            "Page 30: ADD 0, UPD 12 views, 0 comments, 0 source\n",
            "Page 31: ADD 8, UPD 5 views, 0 comments, 0 source\n",
            "Page 32: ADD 0, UPD 12 views, 0 comments, 0 source\n",
            "Page 33: ADD 0, UPD 11 views, 0 comments, 0 source\n",
            "Page 34: ADD 0, UPD 12 views, 0 comments, 0 source\n",
            "Page 35: ADD 0, UPD 0 views, 0 comments, 0 source\n",
            "Page 36: ADD 0, UPD 12 views, 0 comments, 0 source\n",
            "Page 37: ADD 0, UPD 0 views, 0 comments, 0 source\n",
            "Page 38: ADD 0, UPD 0 views, 0 comments, 0 source\n",
            "Page 39: ADD 0, UPD 11 views, 0 comments, 0 source\n",
            "Page 40: ADD 0, UPD 12 views, 0 comments, 0 source\n",
            "Page 41: ADD 0, UPD 0 views, 0 comments, 0 source\n",
            "Page 42: ADD 0, UPD 0 views, 0 comments, 0 source\n",
            "Page 43: ADD 0, UPD 12 views, 0 comments, 0 source\n",
            "Page 44: ADD 0, UPD 12 views, 0 comments, 0 source\n",
            "Page 45: ADD 0, UPD 12 views, 0 comments, 0 source\n",
            "Page 46: ADD 0, UPD 0 views, 0 comments, 0 source\n",
            "Page 47: ADD 0, UPD 0 views, 0 comments, 0 source\n",
            "Page 48: ADD 0, UPD 12 views, 0 comments, 0 source\n",
            "Page 49: ADD 0, UPD 7 views, 0 comments, 0 source\n"
          ],
          "name": "stdout"
        }
      ]
    },
    {
      "cell_type": "code",
      "metadata": {
        "id": "A1CmnvYtYMuw",
        "scrolled": true,
        "colab": {
          "base_uri": "https://localhost:8080/"
        },
        "outputId": "ea37f23e-8997-4f3e-bc96-342d0ffd4bbb"
      },
      "source": [
        "banki.info()"
      ],
      "execution_count": 10,
      "outputs": [
        {
          "output_type": "stream",
          "text": [
            "<class 'pandas.core.frame.DataFrame'>\n",
            "RangeIndex: 113171 entries, 0 to 113170\n",
            "Data columns (total 8 columns):\n",
            " #   Column    Non-Null Count   Dtype         \n",
            "---  ------    --------------   -----         \n",
            " 0   id        113171 non-null  object        \n",
            " 1   title     113171 non-null  object        \n",
            " 2   text      113093 non-null  object        \n",
            " 3   url       113171 non-null  object        \n",
            " 4   time      113171 non-null  datetime64[ns]\n",
            " 5   views     113171 non-null  int64         \n",
            " 6   comments  113171 non-null  int64         \n",
            " 7   source    113133 non-null  object        \n",
            "dtypes: datetime64[ns](1), int64(2), object(5)\n",
            "memory usage: 6.9+ MB\n"
          ],
          "name": "stdout"
        }
      ]
    },
    {
      "cell_type": "markdown",
      "metadata": {
        "id": "AFJqL-uzYMux"
      },
      "source": [
        "## Обработка дубликатов"
      ]
    },
    {
      "cell_type": "code",
      "metadata": {
        "id": "UZ9lIcXXYMux",
        "colab": {
          "base_uri": "https://localhost:8080/"
        },
        "outputId": "c4873682-4006-4cb0-9d8d-9e569ab8d9aa"
      },
      "source": [
        "banki.id.nunique()"
      ],
      "execution_count": 11,
      "outputs": [
        {
          "output_type": "execute_result",
          "data": {
            "text/plain": [
              "113171"
            ]
          },
          "metadata": {
            "tags": []
          },
          "execution_count": 11
        }
      ]
    },
    {
      "cell_type": "code",
      "metadata": {
        "id": "gExPIXxTYMuy",
        "colab": {
          "base_uri": "https://localhost:8080/"
        },
        "outputId": "ff1dc61e-0263-4b1b-e6cb-4dee9adbdc10"
      },
      "source": [
        "banki.drop_duplicates(subset=['id'], inplace=True, keep='last')\n",
        "banki.shape"
      ],
      "execution_count": 12,
      "outputs": [
        {
          "output_type": "execute_result",
          "data": {
            "text/plain": [
              "(113171, 8)"
            ]
          },
          "metadata": {
            "tags": []
          },
          "execution_count": 12
        }
      ]
    },
    {
      "cell_type": "code",
      "metadata": {
        "id": "6ljrKvxdYMuy",
        "colab": {
          "base_uri": "https://localhost:8080/"
        },
        "outputId": "c92074bb-fd04-4e45-8acf-aec65625013c"
      },
      "source": [
        "banki[banki.duplicated()].shape"
      ],
      "execution_count": 13,
      "outputs": [
        {
          "output_type": "execute_result",
          "data": {
            "text/plain": [
              "(0, 8)"
            ]
          },
          "metadata": {
            "tags": []
          },
          "execution_count": 13
        }
      ]
    },
    {
      "cell_type": "markdown",
      "metadata": {
        "id": "gVXjpOA-YMuz"
      },
      "source": [
        "## Выгрузка в csv"
      ]
    },
    {
      "cell_type": "code",
      "metadata": {
        "id": "-kzKImsHYMu0"
      },
      "source": [
        "banki.to_csv('drive/MyDrive/Colab Notebooks/sber/news/data/banki.csv', index=False)"
      ],
      "execution_count": null,
      "outputs": []
    },
    {
      "cell_type": "code",
      "metadata": {
        "id": "_C175H2QV-BS"
      },
      "source": [
        "banki.head()"
      ],
      "execution_count": null,
      "outputs": []
    },
    {
      "cell_type": "markdown",
      "metadata": {
        "id": "RjfbCIpUJ-7q"
      },
      "source": [
        "Самая просматриваемая статья"
      ]
    },
    {
      "cell_type": "code",
      "metadata": {
        "id": "1I3GNBl5ThEn"
      },
      "source": [
        "banki[banki.views == banki.views.max()]"
      ],
      "execution_count": null,
      "outputs": []
    },
    {
      "cell_type": "markdown",
      "metadata": {
        "id": "rh8yKJyql9p5"
      },
      "source": [
        "## Очистка (убрать комментарии)"
      ]
    },
    {
      "cell_type": "code",
      "metadata": {
        "id": "-4a6HJ9RqLFR"
      },
      "source": [
        "# banki['title'] = banki.title.apply(clean_text)\r\n",
        "# banki['text'] = banki.text.apply(clean_text)"
      ],
      "execution_count": null,
      "outputs": []
    },
    {
      "cell_type": "markdown",
      "metadata": {
        "id": "crMzCXqU1G4C"
      },
      "source": [
        "# vtb.ru"
      ]
    },
    {
      "cell_type": "markdown",
      "metadata": {
        "id": "eVjFZj662-6A"
      },
      "source": [
        "## Загрузка имеющихся данных"
      ]
    },
    {
      "cell_type": "code",
      "metadata": {
        "id": "gBZrI-h10JsG",
        "colab": {
          "base_uri": "https://localhost:8080/"
        },
        "outputId": "928bf349-f753-4002-d2bf-8494f7b85c3f"
      },
      "source": [
        "vtb = pd.read_csv('drive/MyDrive/Colab Notebooks/sber/news/data/vtb.csv',\r\n",
        "                   dtype={'id': np.str,\r\n",
        "                          'title': np.str,\r\n",
        "                          'text': np.str,\r\n",
        "                          'url': np.str,\r\n",
        "                          'time': np.str,\r\n",
        "                          'views': np.int64,\r\n",
        "                          'comments': np.int64,\r\n",
        "                          'source': np.str\r\n",
        "                          })\r\n",
        "vtb.time = pd.to_datetime(vtb.time, format='%Y-%m-%d %H:%M:%S')\r\n",
        "vtb.info()"
      ],
      "execution_count": 18,
      "outputs": [
        {
          "output_type": "stream",
          "text": [
            "<class 'pandas.core.frame.DataFrame'>\n",
            "RangeIndex: 2891 entries, 0 to 2890\n",
            "Data columns (total 8 columns):\n",
            " #   Column    Non-Null Count  Dtype         \n",
            "---  ------    --------------  -----         \n",
            " 0   id        2891 non-null   object        \n",
            " 1   title     2889 non-null   object        \n",
            " 2   text      2889 non-null   object        \n",
            " 3   url       2891 non-null   object        \n",
            " 4   time      2891 non-null   datetime64[ns]\n",
            " 5   views     2891 non-null   int64         \n",
            " 6   comments  2891 non-null   int64         \n",
            " 7   source    2891 non-null   object        \n",
            "dtypes: datetime64[ns](1), int64(2), object(5)\n",
            "memory usage: 180.8+ KB\n"
          ],
          "name": "stdout"
        }
      ]
    },
    {
      "cell_type": "markdown",
      "metadata": {
        "id": "vpQhQDnZ3CKs"
      },
      "source": [
        "## Цикл парсинга"
      ]
    },
    {
      "cell_type": "code",
      "metadata": {
        "id": "q42eYWvyj0q_"
      },
      "source": [
        "if sites['vtb']['on']:\r\n",
        "  for page in range(sites['vtb']['first_page'], sites['vtb']['last_page']):\r\n",
        "    count_add_articles = 0\r\n",
        "    url = 'https://vtb.ru/o-banke/press-centr/novosti-i-press-relizy/?page=' + str(page)\r\n",
        "    response = load_page(url)\r\n",
        "    if response == -1:\r\n",
        "      continue\r\n",
        "    soup = BeautifulSoup(response.text, 'lxml')\r\n",
        "    articles = soup.find_all('div', class_='news-grid__content__item')\r\n",
        "    for article in articles:\r\n",
        "      # Кол-во просмотров\r\n",
        "      views = 0\r\n",
        "      # Кол-во комментариев\r\n",
        "      comments = 0\r\n",
        "      # Источник новости\r\n",
        "      source = 'vtb.ru'\r\n",
        "      article_url = article.find('a').get('href')\r\n",
        "      if article_url == '':\r\n",
        "        continue\r\n",
        "      article_id = str(article_url.split('/')[6])\r\n",
        "      if vtb[vtb['id'] == article_id].shape[0] == 0:\r\n",
        "        url = 'https://vtb.ru' + article_url\r\n",
        "        response = load_page(url)\r\n",
        "        if response == -1:\r\n",
        "          continue\r\n",
        "        soup = BeautifulSoup(response.text, 'lxml')\r\n",
        "        # Title\r\n",
        "        title = soup.find('section', class_='common-header').find('h1').text\r\n",
        "        # Text\r\n",
        "        text = soup.find('div', class_='news-item__main common-text').text\r\n",
        "        # Time\r\n",
        "        time = soup.find('div', class_='date-block').text.replace('дата','').replace('\\n','')\r\n",
        "        vtb = vtb.append({'id': str(article_id),\r\n",
        "                        'title': str(clean_text(title)),\r\n",
        "                        'text': str(clean_text(text)),\r\n",
        "                        'url': str(url),\r\n",
        "                        'time': pd.to_datetime(time, format='%d.%m.%Y'),\r\n",
        "                        'views': int(views),\r\n",
        "                        'comments': int(comments),\r\n",
        "                        'source': str(source)}, ignore_index=True)\r\n",
        "        count_add_articles += 1\r\n",
        "    sites['vtb']['first_page'] = page\r\n",
        "    if debug:\r\n",
        "      print('Page {}: ADD {}'.format(page, count_add_articles))"
      ],
      "execution_count": 19,
      "outputs": []
    },
    {
      "cell_type": "code",
      "metadata": {
        "id": "j5eYPeXJ3NsK",
        "colab": {
          "base_uri": "https://localhost:8080/"
        },
        "outputId": "33117510-28fc-463f-cd02-54518f0f33e3"
      },
      "source": [
        "vtb.info()"
      ],
      "execution_count": 20,
      "outputs": [
        {
          "output_type": "stream",
          "text": [
            "<class 'pandas.core.frame.DataFrame'>\n",
            "RangeIndex: 2891 entries, 0 to 2890\n",
            "Data columns (total 8 columns):\n",
            " #   Column    Non-Null Count  Dtype         \n",
            "---  ------    --------------  -----         \n",
            " 0   id        2891 non-null   object        \n",
            " 1   title     2889 non-null   object        \n",
            " 2   text      2889 non-null   object        \n",
            " 3   url       2891 non-null   object        \n",
            " 4   time      2891 non-null   datetime64[ns]\n",
            " 5   views     2891 non-null   int64         \n",
            " 6   comments  2891 non-null   int64         \n",
            " 7   source    2891 non-null   object        \n",
            "dtypes: datetime64[ns](1), int64(2), object(5)\n",
            "memory usage: 180.8+ KB\n"
          ],
          "name": "stdout"
        }
      ]
    },
    {
      "cell_type": "markdown",
      "metadata": {
        "id": "CxhWszoh3Jlo"
      },
      "source": [
        "## Обработка дубликатов"
      ]
    },
    {
      "cell_type": "code",
      "metadata": {
        "id": "-86uIUKe073c",
        "colab": {
          "base_uri": "https://localhost:8080/"
        },
        "outputId": "193d6b2a-3d8d-400b-aa4d-91a1e7d9ec76"
      },
      "source": [
        "vtb.id.nunique()"
      ],
      "execution_count": 21,
      "outputs": [
        {
          "output_type": "execute_result",
          "data": {
            "text/plain": [
              "2891"
            ]
          },
          "metadata": {
            "tags": []
          },
          "execution_count": 0
        }
      ]
    },
    {
      "cell_type": "code",
      "metadata": {
        "id": "lwmyLsGZ3T62",
        "colab": {
          "base_uri": "https://localhost:8080/"
        },
        "outputId": "cf549b04-f303-4e74-f244-8c7a465fd28b"
      },
      "source": [
        "vtb.drop_duplicates(subset=['id'], inplace=True, keep='last')\r\n",
        "vtb.shape"
      ],
      "execution_count": 22,
      "outputs": [
        {
          "output_type": "execute_result",
          "data": {
            "text/plain": [
              "(2891, 8)"
            ]
          },
          "metadata": {
            "tags": []
          },
          "execution_count": 0
        }
      ]
    },
    {
      "cell_type": "code",
      "metadata": {
        "id": "uW9wPMZm3eYN",
        "colab": {
          "base_uri": "https://localhost:8080/"
        },
        "outputId": "ea2aaa13-c187-472b-b10a-9b492380a526"
      },
      "source": [
        "vtb[vtb.duplicated()].shape"
      ],
      "execution_count": 23,
      "outputs": [
        {
          "output_type": "execute_result",
          "data": {
            "text/plain": [
              "(0, 8)"
            ]
          },
          "metadata": {
            "tags": []
          },
          "execution_count": 0
        }
      ]
    },
    {
      "cell_type": "markdown",
      "metadata": {
        "id": "u_yUKvDi3jEG"
      },
      "source": [
        "## Выгрузка в csv"
      ]
    },
    {
      "cell_type": "code",
      "metadata": {
        "id": "3gnpQhrn0_zA"
      },
      "source": [
        "vtb.to_csv('drive/MyDrive/Colab Notebooks/sber/news/data/vtb.csv', index=False)"
      ],
      "execution_count": 24,
      "outputs": []
    },
    {
      "cell_type": "code",
      "metadata": {
        "id": "PG-t-dAQ2DeK",
        "colab": {
          "base_uri": "https://localhost:8080/",
          "height": 374
        },
        "outputId": "07aa2091-11d2-4355-86e1-43fba858c6f8"
      },
      "source": [
        "vtb.tail()"
      ],
      "execution_count": 25,
      "outputs": [
        {
          "output_type": "execute_result",
          "data": {
            "text/html": [
              "<div>\n",
              "<style scoped>\n",
              "    .dataframe tbody tr th:only-of-type {\n",
              "        vertical-align: middle;\n",
              "    }\n",
              "\n",
              "    .dataframe tbody tr th {\n",
              "        vertical-align: top;\n",
              "    }\n",
              "\n",
              "    .dataframe thead th {\n",
              "        text-align: right;\n",
              "    }\n",
              "</style>\n",
              "<table border=\"1\" class=\"dataframe\">\n",
              "  <thead>\n",
              "    <tr style=\"text-align: right;\">\n",
              "      <th></th>\n",
              "      <th>id</th>\n",
              "      <th>title</th>\n",
              "      <th>text</th>\n",
              "      <th>url</th>\n",
              "      <th>time</th>\n",
              "      <th>views</th>\n",
              "      <th>comments</th>\n",
              "      <th>source</th>\n",
              "    </tr>\n",
              "  </thead>\n",
              "  <tbody>\n",
              "    <tr>\n",
              "      <th>2886</th>\n",
              "      <td>2021-02-03-vtb-i-gk-vtb-lizing-protestiruyut-s...</td>\n",
              "      <td>ВТБ и ГК ВТБ Лизинг протестируют сервис подпис...</td>\n",
              "      <td>ВТБ совместно с ГК ВТБ Лизинг планирует в перв...</td>\n",
              "      <td>https://vtb.ru/o-banke/press-centr/novosti-i-p...</td>\n",
              "      <td>2021-02-03</td>\n",
              "      <td>0</td>\n",
              "      <td>0</td>\n",
              "      <td>vtb.ru</td>\n",
              "    </tr>\n",
              "    <tr>\n",
              "      <th>2887</th>\n",
              "      <td>2021-02-03-vtb-narastil-portfel-privlechennykh...</td>\n",
              "      <td>ВТБ нарастил портфель привлеченных средств на ...</td>\n",
              "      <td>По итогам 2020 года портфель привлеченных сред...</td>\n",
              "      <td>https://vtb.ru/o-banke/press-centr/novosti-i-p...</td>\n",
              "      <td>2021-02-03</td>\n",
              "      <td>0</td>\n",
              "      <td>0</td>\n",
              "      <td>vtb.ru</td>\n",
              "    </tr>\n",
              "    <tr>\n",
              "      <th>2888</th>\n",
              "      <td>2021-02-03-vtb-rynok-roznichnogo-kreditovaniya...</td>\n",
              "      <td>ВТБ: рынок розничного кредитования в России вы...</td>\n",
              "      <td>Кредитный портфель физлиц российских банков ув...</td>\n",
              "      <td>https://vtb.ru/o-banke/press-centr/novosti-i-p...</td>\n",
              "      <td>2021-02-03</td>\n",
              "      <td>0</td>\n",
              "      <td>0</td>\n",
              "      <td>vtb.ru</td>\n",
              "    </tr>\n",
              "    <tr>\n",
              "      <th>2889</th>\n",
              "      <td>2021-02-02-vtb-pervym-zapustil-onlayn-servis-p...</td>\n",
              "      <td>ВТБ первым запустил онлайн-сервис подбора сбер...</td>\n",
              "      <td>ВТБ запустил уникальный на рынке онлайн-сервис...</td>\n",
              "      <td>https://vtb.ru/o-banke/press-centr/novosti-i-p...</td>\n",
              "      <td>2021-02-02</td>\n",
              "      <td>0</td>\n",
              "      <td>0</td>\n",
              "      <td>vtb.ru</td>\n",
              "    </tr>\n",
              "    <tr>\n",
              "      <th>2890</th>\n",
              "      <td>2021-02-02-vtb-narastil-kreditnyy-portfel-sred...</td>\n",
              "      <td>ВТБ нарастил кредитный портфель среднего и мал...</td>\n",
              "      <td>Кредитный портфель клиентов среднего и малого ...</td>\n",
              "      <td>https://vtb.ru/o-banke/press-centr/novosti-i-p...</td>\n",
              "      <td>2021-02-02</td>\n",
              "      <td>0</td>\n",
              "      <td>0</td>\n",
              "      <td>vtb.ru</td>\n",
              "    </tr>\n",
              "  </tbody>\n",
              "</table>\n",
              "</div>"
            ],
            "text/plain": [
              "                                                     id  ...  source\n",
              "2886  2021-02-03-vtb-i-gk-vtb-lizing-protestiruyut-s...  ...  vtb.ru\n",
              "2887  2021-02-03-vtb-narastil-portfel-privlechennykh...  ...  vtb.ru\n",
              "2888  2021-02-03-vtb-rynok-roznichnogo-kreditovaniya...  ...  vtb.ru\n",
              "2889  2021-02-02-vtb-pervym-zapustil-onlayn-servis-p...  ...  vtb.ru\n",
              "2890  2021-02-02-vtb-narastil-kreditnyy-portfel-sred...  ...  vtb.ru\n",
              "\n",
              "[5 rows x 8 columns]"
            ]
          },
          "metadata": {
            "tags": []
          },
          "execution_count": 0
        }
      ]
    },
    {
      "cell_type": "markdown",
      "metadata": {
        "id": "1YRLvOjx-8ap"
      },
      "source": [
        "# Очистка (убрать комментарии)"
      ]
    },
    {
      "cell_type": "code",
      "metadata": {
        "id": "EZfpKa5z-86r"
      },
      "source": [
        "# vtb['title'] = vtb.title.apply(clean_text)\n",
        "# vtb['text'] = vtb.text.apply(clean_text)"
      ],
      "execution_count": 26,
      "outputs": []
    },
    {
      "cell_type": "markdown",
      "metadata": {
        "id": "bF5kcQt89Kbf"
      },
      "source": [
        "# alfabank.ru"
      ]
    },
    {
      "cell_type": "markdown",
      "metadata": {
        "id": "K_hSRoiV9UUt"
      },
      "source": [
        "## Загрузка имеющихся данных"
      ]
    },
    {
      "cell_type": "code",
      "metadata": {
        "id": "s-3Ju0qiFOTr",
        "colab": {
          "base_uri": "https://localhost:8080/"
        },
        "outputId": "c70a962c-1a32-4448-e206-0cddcfdd64bf"
      },
      "source": [
        "alfa = pd.read_csv('drive/MyDrive/Colab Notebooks/sber/news/data/alfa.csv',\n",
        "                   dtype={'id': np.str,\n",
        "                          'title': np.str,\n",
        "                          'text': np.str,\n",
        "                          'url': np.str,\n",
        "                          'time': np.str,\n",
        "                          'views': np.int64,\n",
        "                          'comments': np.int64,\n",
        "                          'source': np.str\n",
        "                          })\n",
        "alfa.time = pd.to_datetime(alfa.time, format='%Y-%m-%d %H:%M:%S')\n",
        "alfa.info()"
      ],
      "execution_count": 27,
      "outputs": [
        {
          "output_type": "stream",
          "text": [
            "<class 'pandas.core.frame.DataFrame'>\n",
            "RangeIndex: 4053 entries, 0 to 4052\n",
            "Data columns (total 8 columns):\n",
            " #   Column    Non-Null Count  Dtype         \n",
            "---  ------    --------------  -----         \n",
            " 0   id        4053 non-null   object        \n",
            " 1   title     4053 non-null   object        \n",
            " 2   text      4031 non-null   object        \n",
            " 3   url       4053 non-null   object        \n",
            " 4   time      4053 non-null   datetime64[ns]\n",
            " 5   views     4053 non-null   int64         \n",
            " 6   comments  4053 non-null   int64         \n",
            " 7   source    4053 non-null   object        \n",
            "dtypes: datetime64[ns](1), int64(2), object(5)\n",
            "memory usage: 253.4+ KB\n"
          ],
          "name": "stdout"
        }
      ]
    },
    {
      "cell_type": "markdown",
      "metadata": {
        "id": "ZZUmEL0F9dF3"
      },
      "source": [
        "## Цикл парсинга"
      ]
    },
    {
      "cell_type": "code",
      "metadata": {
        "id": "fhie6cP19dZ6",
        "colab": {
          "base_uri": "https://localhost:8080/"
        },
        "outputId": "8d1ba78e-dba6-4e35-e173-da03919ef6af"
      },
      "source": [
        "if sites['alfa']['on']:\n",
        "  url_base = 'https://alfabank.ru'\n",
        "  for url_year in range(sites['alfa']['first_page'], sites['alfa']['last_page']):\n",
        "    count_add_articles = 0\n",
        "    for url_month in range(1, 13):\n",
        "      if url_month < 10:\n",
        "        url_month = '0' + str(url_month)\n",
        "      url = url_base + '/press/news/' + str(url_year) + '/' + str(url_month) + '/'\n",
        "      response = load_page(url)\n",
        "      if response == -1:\n",
        "        continue\n",
        "      soup = BeautifulSoup(response.content, 'lxml')\n",
        "      articles = soup.find_all('div', class_='news-item')\n",
        "      if len(articles) == 0:\n",
        "        continue\n",
        "      for article in articles:\n",
        "        # Кол-во просмотров\n",
        "        views = 0\n",
        "        # Кол-во комментариев\n",
        "        comments = 0\n",
        "        # Источник новости\n",
        "        source = 'alfabank.ru'\n",
        "        article_url = article.find('a').get('href')\n",
        "        article_id = str(article_url.split('/')[3]) + '_' + str(article_url.split('/')[4]) + '_' + str(article_url.split('/')[5]) + '_' + str(article_url.split('/')[6].split('.')[0])\n",
        "        if alfa[alfa['id'] == article_id].shape[0] == 0:\n",
        "          # Title\n",
        "          title = article.find('div', class_='title').text\n",
        "          # Time\n",
        "          time = article.find('div', class_='date').text\n",
        "          url = url_base + article_url\n",
        "          response = load_page(url)\n",
        "          if response == -1:\n",
        "            continue\n",
        "          soup = BeautifulSoup(response.content, 'lxml')\n",
        "          article_text = soup.find('div', class_='news-article').find_all('p')\n",
        "          # Text\n",
        "          text = ''\n",
        "          for text_string in article_text[1:]:\n",
        "            text += text_string.text\n",
        "          alfa = alfa.append({'id': str(article_id),\n",
        "                              'title': str(clean_text(title)),\n",
        "                              'text': str(clean_text(text)),\n",
        "                              'url': str(url),\n",
        "                              'time': pd.to_datetime(time, format='%d.%m.%Y'),\n",
        "                              'views': int(views),\n",
        "                              'comments': int(comments),\n",
        "                              'source': str(source)}, ignore_index=True)\n",
        "          count_add_articles += 1\n",
        "    sites['alfa']['first_page'] = url_year\n",
        "    if debug:\n",
        "      print('Year {}, ADD {}'.format(url_year, count_add_articles))"
      ],
      "execution_count": 28,
      "outputs": [
        {
          "output_type": "stream",
          "text": [
            "Year 2021, ADD 0\n"
          ],
          "name": "stdout"
        }
      ]
    },
    {
      "cell_type": "code",
      "metadata": {
        "id": "Yjkz92e2-Krt"
      },
      "source": [
        "alfa.info()"
      ],
      "execution_count": null,
      "outputs": []
    },
    {
      "cell_type": "markdown",
      "metadata": {
        "id": "D_UEFLCt9mKN"
      },
      "source": [
        "## Обработка дубликатов"
      ]
    },
    {
      "cell_type": "code",
      "metadata": {
        "id": "aymyeWl99mg-",
        "colab": {
          "base_uri": "https://localhost:8080/"
        },
        "outputId": "2d8e75f8-02ba-474a-8308-f92aa408eb10"
      },
      "source": [
        "alfa.id.nunique()"
      ],
      "execution_count": 30,
      "outputs": [
        {
          "output_type": "execute_result",
          "data": {
            "text/plain": [
              "4053"
            ]
          },
          "metadata": {
            "tags": []
          },
          "execution_count": 30
        }
      ]
    },
    {
      "cell_type": "code",
      "metadata": {
        "id": "YPfvcrPW-gEb",
        "colab": {
          "base_uri": "https://localhost:8080/"
        },
        "outputId": "582b0bd8-7454-4dc3-cabb-20fe5df4f4ef"
      },
      "source": [
        "alfa.drop_duplicates(subset=['id'], inplace=True, keep='last')\n",
        "alfa.shape"
      ],
      "execution_count": 31,
      "outputs": [
        {
          "output_type": "execute_result",
          "data": {
            "text/plain": [
              "(4053, 8)"
            ]
          },
          "metadata": {
            "tags": []
          },
          "execution_count": 31
        }
      ]
    },
    {
      "cell_type": "code",
      "metadata": {
        "id": "gnNuUsy0-h-g",
        "colab": {
          "base_uri": "https://localhost:8080/"
        },
        "outputId": "50f13ba5-512f-4c2a-c3fe-412b5760d400"
      },
      "source": [
        "alfa[alfa.duplicated()].shape"
      ],
      "execution_count": 32,
      "outputs": [
        {
          "output_type": "execute_result",
          "data": {
            "text/plain": [
              "(0, 8)"
            ]
          },
          "metadata": {
            "tags": []
          },
          "execution_count": 32
        }
      ]
    },
    {
      "cell_type": "markdown",
      "metadata": {
        "id": "q5rdxJAo9pEM"
      },
      "source": [
        "## Выгрузка в csv"
      ]
    },
    {
      "cell_type": "code",
      "metadata": {
        "id": "gehM3ntj9pbG"
      },
      "source": [
        "alfa.to_csv('drive/MyDrive/Colab Notebooks/sber/news/data/alfa.csv', index=False)"
      ],
      "execution_count": 33,
      "outputs": []
    },
    {
      "cell_type": "code",
      "metadata": {
        "id": "U4pvkrGt-unz"
      },
      "source": [
        "alfa.tail()"
      ],
      "execution_count": null,
      "outputs": []
    },
    {
      "cell_type": "markdown",
      "metadata": {
        "id": "66P51lr7-0Xs"
      },
      "source": [
        "# Очистка (убрать комментарии)"
      ]
    },
    {
      "cell_type": "code",
      "metadata": {
        "id": "wFXksupA-0wW"
      },
      "source": [
        "# alfa['title'] = alfa.title.apply(clean_text)\n",
        "# alfa['text'] = alfa.text.apply(clean_text)"
      ],
      "execution_count": 35,
      "outputs": []
    },
    {
      "cell_type": "markdown",
      "metadata": {
        "id": "R1V1lJyQgXj6"
      },
      "source": [
        "# Выгрузка новостей"
      ]
    },
    {
      "cell_type": "code",
      "metadata": {
        "id": "pf5cqGoNvvyH",
        "colab": {
          "base_uri": "https://localhost:8080/"
        },
        "outputId": "ba089c4b-5951-464b-b33a-9c66e5fb99d9"
      },
      "source": [
        "banki.info()"
      ],
      "execution_count": 36,
      "outputs": [
        {
          "output_type": "stream",
          "text": [
            "<class 'pandas.core.frame.DataFrame'>\n",
            "Int64Index: 113171 entries, 0 to 113170\n",
            "Data columns (total 8 columns):\n",
            " #   Column    Non-Null Count   Dtype         \n",
            "---  ------    --------------   -----         \n",
            " 0   id        113171 non-null  object        \n",
            " 1   title     113171 non-null  object        \n",
            " 2   text      113093 non-null  object        \n",
            " 3   url       113171 non-null  object        \n",
            " 4   time      113171 non-null  datetime64[ns]\n",
            " 5   views     113171 non-null  int64         \n",
            " 6   comments  113171 non-null  int64         \n",
            " 7   source    113133 non-null  object        \n",
            "dtypes: datetime64[ns](1), int64(2), object(5)\n",
            "memory usage: 7.8+ MB\n"
          ],
          "name": "stdout"
        }
      ]
    },
    {
      "cell_type": "code",
      "metadata": {
        "id": "iDgZLoUZgWU9"
      },
      "source": [
        "# номер текущей недели\r\n",
        "number_of_week = dt.datetime.now().date().isocalendar()[1]"
      ],
      "execution_count": 37,
      "outputs": []
    },
    {
      "cell_type": "code",
      "metadata": {
        "id": "doQdQlTFosKU",
        "colab": {
          "base_uri": "https://localhost:8080/",
          "height": 374
        },
        "outputId": "5679ae78-f9e9-4399-b57f-f3809c5fc74a"
      },
      "source": [
        "if sites['send']:\r\n",
        "  with pd.ExcelWriter('drive/MyDrive/Colab Notebooks/sber/news/data/send.xlsx') as writer:  \r\n",
        "    banki_send = pd.DataFrame(columns=banki.columns)\r\n",
        "    if sites['banki']['send']:\r\n",
        "      for i in range(1, 8):\r\n",
        "        banki_send = banki_send.append(banki[(banki.time.dt.isocalendar().year == 2021) &\\\r\n",
        "                                             (banki.time.dt.isocalendar().week == number_of_week) &\\\r\n",
        "                                             (banki.time.dt.isocalendar().day == i)].sort_values(by='views', ascending=False).head(3))\r\n",
        "      display(banki_send.head())\r\n",
        "      banki_send.to_excel(writer, sheet_name='banki')\r\n",
        "    elif sites['vtb']['send']:\r\n",
        "      vtb_send = vtb[(vtb.time.dt.isocalendar().year == 2021) & (vtb.time.dt.isocalendar().week == number_of_week)].sort_values(by='time', ascending=True)\r\n",
        "      display(vtb_send.head())\r\n",
        "      vtb_send.to_excel(writer, sheet_name='vtb')\r\n",
        "    elif sites['alfa']['send']:\r\n",
        "      alfa_send = alfa[(alfa.time.dt.isocalendar().year == 2021) & (alfa.time.dt.isocalendar().week == number_of_week)].sort_values(by='time', ascending=True)\r\n",
        "      display(alfa_send.head())\r\n",
        "      alfa_send.to_excel(writer, sheet_name='alfa')\r\n",
        "    else:\r\n",
        "      banki_send.to_excel(writer, sheet_name='clean')"
      ],
      "execution_count": 38,
      "outputs": [
        {
          "output_type": "display_data",
          "data": {
            "text/html": [
              "<div>\n",
              "<style scoped>\n",
              "    .dataframe tbody tr th:only-of-type {\n",
              "        vertical-align: middle;\n",
              "    }\n",
              "\n",
              "    .dataframe tbody tr th {\n",
              "        vertical-align: top;\n",
              "    }\n",
              "\n",
              "    .dataframe thead th {\n",
              "        text-align: right;\n",
              "    }\n",
              "</style>\n",
              "<table border=\"1\" class=\"dataframe\">\n",
              "  <thead>\n",
              "    <tr style=\"text-align: right;\">\n",
              "      <th></th>\n",
              "      <th>id</th>\n",
              "      <th>title</th>\n",
              "      <th>text</th>\n",
              "      <th>url</th>\n",
              "      <th>time</th>\n",
              "      <th>views</th>\n",
              "      <th>comments</th>\n",
              "      <th>source</th>\n",
              "    </tr>\n",
              "  </thead>\n",
              "  <tbody>\n",
              "    <tr>\n",
              "      <th>111000</th>\n",
              "      <td>10941147</td>\n",
              "      <td>Банк «Открытие» предлагает сниженную ставку по...</td>\n",
              "      <td>Банк «Открытие» обновил линейку кредитов налич...</td>\n",
              "      <td>https://www.banki.ru/news/lenta/?id=10941147</td>\n",
              "      <td>2021-02-08 10:44:00</td>\n",
              "      <td>15013</td>\n",
              "      <td>3</td>\n",
              "      <td>Banki.ru</td>\n",
              "    </tr>\n",
              "    <tr>\n",
              "      <th>111003</th>\n",
              "      <td>10941138</td>\n",
              "      <td>Газпромбанк проводит акцию по кредитам наличными</td>\n",
              "      <td>Газпромбанк проводит акцию и в течение недели ...</td>\n",
              "      <td>https://www.banki.ru/news/lenta/?id=10941138</td>\n",
              "      <td>2021-02-08 10:05:00</td>\n",
              "      <td>12429</td>\n",
              "      <td>0</td>\n",
              "      <td>Banki.ru</td>\n",
              "    </tr>\n",
              "    <tr>\n",
              "      <th>111005</th>\n",
              "      <td>10941139</td>\n",
              "      <td>8 февраля. О чем пишут газеты</td>\n",
              "      <td>Экономисты конгресса США указали на проблему п...</td>\n",
              "      <td>https://www.banki.ru/news/lenta/?id=10941139</td>\n",
              "      <td>2021-02-08 09:29:00</td>\n",
              "      <td>5405</td>\n",
              "      <td>0</td>\n",
              "      <td></td>\n",
              "    </tr>\n",
              "    <tr>\n",
              "      <th>112961</th>\n",
              "      <td>10941243</td>\n",
              "      <td>ЦБ оштрафовал банк «Открытие», «АльфаСтрахован...</td>\n",
              "      <td>ЦБ привлек банк «Открытие», «АльфаСтрахование»...</td>\n",
              "      <td>https://www.banki.ru/news/lenta/?id=10941243</td>\n",
              "      <td>2021-02-09 15:21:00</td>\n",
              "      <td>7599</td>\n",
              "      <td>0</td>\n",
              "      <td>Banki.ru</td>\n",
              "    </tr>\n",
              "    <tr>\n",
              "      <th>112972</th>\n",
              "      <td>10941230</td>\n",
              "      <td>СберБанк запустил рефинансирование ипотеки на ...</td>\n",
              "      <td>СберБанк запустил рефинансирование выданных др...</td>\n",
              "      <td>https://www.banki.ru/news/lenta/?id=10941230</td>\n",
              "      <td>2021-02-09 12:02:00</td>\n",
              "      <td>7007</td>\n",
              "      <td>1</td>\n",
              "      <td>Banki.ru</td>\n",
              "    </tr>\n",
              "  </tbody>\n",
              "</table>\n",
              "</div>"
            ],
            "text/plain": [
              "              id  ...    source\n",
              "111000  10941147  ...  Banki.ru\n",
              "111003  10941138  ...  Banki.ru\n",
              "111005  10941139  ...          \n",
              "112961  10941243  ...  Banki.ru\n",
              "112972  10941230  ...  Banki.ru\n",
              "\n",
              "[5 rows x 8 columns]"
            ]
          },
          "metadata": {
            "tags": []
          }
        }
      ]
    },
    {
      "cell_type": "code",
      "metadata": {
        "id": "3svVeMgVzgTG"
      },
      "source": [
        ""
      ],
      "execution_count": 38,
      "outputs": []
    }
  ]
}